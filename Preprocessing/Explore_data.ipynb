{
 "cells": [
  {
   "cell_type": "code",
   "execution_count": 1,
   "id": "c96d3325-90ec-4b91-be8f-fb2771a22d9f",
   "metadata": {
    "tags": []
   },
   "outputs": [],
   "source": [
    "import pandas as pd\n",
    "import os\n",
    "import numpy as np\n",
    "import seaborn as sns\n",
    "import sys\n",
    "import matplotlib.pyplot as plt"
   ]
  },
  {
   "cell_type": "code",
   "execution_count": 5,
   "id": "e6fc1045-bb16-4d00-979b-71792797e1ac",
   "metadata": {
    "tags": []
   },
   "outputs": [],
   "source": [
    "df_simulated=pd.read_parquet('../../Data/simulated/pi-_10GeV_4ly_3e-4_inclined/TrkData_viewx_cl_TB_2023_T10_Sept_pi-Mono_10000_inclined_10000-evt-0_pitch0.25.parquet')\n",
    "df_simulatedy=pd.read_parquet('../../Data/simulated/pi-_10GeV_4ly_3e-4_inclined/TrkData_viewy_cl_TB_2023_T10_Sept_pi-Mono_10000_inclined_10000-evt-0_pitch0.25.parquet')"
   ]
  },
  {
   "cell_type": "code",
   "execution_count": 6,
   "id": "54567081-219b-4c3c-a7ed-956624b4f26c",
   "metadata": {},
   "outputs": [],
   "source": [
    "# df_simulated = df_simulated.groupby('Ev').filter(lambda x: x['ly'].nunique() > 1)"
   ]
  },
  {
   "cell_type": "code",
   "execution_count": 7,
   "id": "43860b17-fafb-4d81-8454-2d884d3742fc",
   "metadata": {},
   "outputs": [
    {
     "data": {
      "text/html": [
       "<div>\n",
       "<style scoped>\n",
       "    .dataframe tbody tr th:only-of-type {\n",
       "        vertical-align: middle;\n",
       "    }\n",
       "\n",
       "    .dataframe tbody tr th {\n",
       "        vertical-align: top;\n",
       "    }\n",
       "\n",
       "    .dataframe thead th {\n",
       "        text-align: right;\n",
       "    }\n",
       "</style>\n",
       "<table border=\"1\" class=\"dataframe\">\n",
       "  <thead>\n",
       "    <tr style=\"text-align: right;\">\n",
       "      <th></th>\n",
       "      <th>Ev</th>\n",
       "      <th>ly</th>\n",
       "      <th>view</th>\n",
       "      <th>x_hit</th>\n",
       "      <th>zx_hit</th>\n",
       "      <th>dx_hit</th>\n",
       "      <th>PE</th>\n",
       "      <th>PID</th>\n",
       "      <th>xMC</th>\n",
       "    </tr>\n",
       "  </thead>\n",
       "  <tbody>\n",
       "    <tr>\n",
       "      <th>0</th>\n",
       "      <td>0</td>\n",
       "      <td>0</td>\n",
       "      <td>0</td>\n",
       "      <td>[-7.84]</td>\n",
       "      <td>-30.539</td>\n",
       "      <td>[1.05]</td>\n",
       "      <td>[23]</td>\n",
       "      <td>[-211.0]</td>\n",
       "      <td>-7.831785</td>\n",
       "    </tr>\n",
       "    <tr>\n",
       "      <th>1</th>\n",
       "      <td>0</td>\n",
       "      <td>1</td>\n",
       "      <td>0</td>\n",
       "      <td>[-14.921, 7.384]</td>\n",
       "      <td>1164.392</td>\n",
       "      <td>[1.81, 1.55]</td>\n",
       "      <td>[25, 10]</td>\n",
       "      <td>[-211.0, -999.0]</td>\n",
       "      <td>-14.904903</td>\n",
       "    </tr>\n",
       "    <tr>\n",
       "      <th>2</th>\n",
       "      <td>0</td>\n",
       "      <td>2</td>\n",
       "      <td>0</td>\n",
       "      <td>[-15.133]</td>\n",
       "      <td>1201.963</td>\n",
       "      <td>[2.32]</td>\n",
       "      <td>[18]</td>\n",
       "      <td>[-211.0]</td>\n",
       "      <td>-15.127296</td>\n",
       "    </tr>\n",
       "    <tr>\n",
       "      <th>3</th>\n",
       "      <td>0</td>\n",
       "      <td>3</td>\n",
       "      <td>0</td>\n",
       "      <td>[5.177]</td>\n",
       "      <td>1787.750</td>\n",
       "      <td>[0.92]</td>\n",
       "      <td>[14]</td>\n",
       "      <td>[-999.0]</td>\n",
       "      <td>-18.594727</td>\n",
       "    </tr>\n",
       "    <tr>\n",
       "      <th>5</th>\n",
       "      <td>2</td>\n",
       "      <td>0</td>\n",
       "      <td>0</td>\n",
       "      <td>[-10.125, -8.341]</td>\n",
       "      <td>-30.466</td>\n",
       "      <td>[1.18, 1.64]</td>\n",
       "      <td>[30, 11]</td>\n",
       "      <td>[-211.0, -999.0]</td>\n",
       "      <td>-10.031444</td>\n",
       "    </tr>\n",
       "    <tr>\n",
       "      <th>...</th>\n",
       "      <td>...</td>\n",
       "      <td>...</td>\n",
       "      <td>...</td>\n",
       "      <td>...</td>\n",
       "      <td>...</td>\n",
       "      <td>...</td>\n",
       "      <td>...</td>\n",
       "      <td>...</td>\n",
       "      <td>...</td>\n",
       "    </tr>\n",
       "    <tr>\n",
       "      <th>37357</th>\n",
       "      <td>9998</td>\n",
       "      <td>3</td>\n",
       "      <td>0</td>\n",
       "      <td>[-7.341, 10.552, 11.766]</td>\n",
       "      <td>1787.627</td>\n",
       "      <td>[1.47, 1.39, 2.21]</td>\n",
       "      <td>[11, 14, 7]</td>\n",
       "      <td>[-999.0, -211.0, -999.0]</td>\n",
       "      <td>10.600184</td>\n",
       "    </tr>\n",
       "    <tr>\n",
       "      <th>37358</th>\n",
       "      <td>9999</td>\n",
       "      <td>0</td>\n",
       "      <td>0</td>\n",
       "      <td>[2.303, 4.034, 9.659]</td>\n",
       "      <td>-30.450</td>\n",
       "      <td>[0.33, 0.72, 1.66]</td>\n",
       "      <td>[26, 22, 15]</td>\n",
       "      <td>[-211.0, -999.0, -999.0]</td>\n",
       "      <td>2.503541</td>\n",
       "    </tr>\n",
       "    <tr>\n",
       "      <th>37359</th>\n",
       "      <td>9999</td>\n",
       "      <td>1</td>\n",
       "      <td>0</td>\n",
       "      <td>[-8.072, 10.615]</td>\n",
       "      <td>1164.392</td>\n",
       "      <td>[1.49, 1.22]</td>\n",
       "      <td>[13, 28]</td>\n",
       "      <td>[-999.0, -211.0]</td>\n",
       "      <td>10.606305</td>\n",
       "    </tr>\n",
       "    <tr>\n",
       "      <th>37360</th>\n",
       "      <td>9999</td>\n",
       "      <td>2</td>\n",
       "      <td>0</td>\n",
       "      <td>[-14.734, 10.804]</td>\n",
       "      <td>1202.142</td>\n",
       "      <td>[2.75, 1.53]</td>\n",
       "      <td>[7, 12]</td>\n",
       "      <td>[-999.0, -211.0]</td>\n",
       "      <td>10.862305</td>\n",
       "    </tr>\n",
       "    <tr>\n",
       "      <th>37361</th>\n",
       "      <td>9999</td>\n",
       "      <td>3</td>\n",
       "      <td>0</td>\n",
       "      <td>[1.43, 5.934, 15.055]</td>\n",
       "      <td>1787.320</td>\n",
       "      <td>[0.27, 1.24, 2.14]</td>\n",
       "      <td>[12, 10, 12]</td>\n",
       "      <td>[-999.0, -999.0, -211.0]</td>\n",
       "      <td>14.830662</td>\n",
       "    </tr>\n",
       "  </tbody>\n",
       "</table>\n",
       "<p>36865 rows × 9 columns</p>\n",
       "</div>"
      ],
      "text/plain": [
       "         Ev  ly  view                     x_hit    zx_hit              dx_hit  \\\n",
       "0         0   0     0                   [-7.84]   -30.539              [1.05]   \n",
       "1         0   1     0          [-14.921, 7.384]  1164.392        [1.81, 1.55]   \n",
       "2         0   2     0                 [-15.133]  1201.963              [2.32]   \n",
       "3         0   3     0                   [5.177]  1787.750              [0.92]   \n",
       "5         2   0     0         [-10.125, -8.341]   -30.466        [1.18, 1.64]   \n",
       "...     ...  ..   ...                       ...       ...                 ...   \n",
       "37357  9998   3     0  [-7.341, 10.552, 11.766]  1787.627  [1.47, 1.39, 2.21]   \n",
       "37358  9999   0     0     [2.303, 4.034, 9.659]   -30.450  [0.33, 0.72, 1.66]   \n",
       "37359  9999   1     0          [-8.072, 10.615]  1164.392        [1.49, 1.22]   \n",
       "37360  9999   2     0         [-14.734, 10.804]  1202.142        [2.75, 1.53]   \n",
       "37361  9999   3     0     [1.43, 5.934, 15.055]  1787.320  [0.27, 1.24, 2.14]   \n",
       "\n",
       "                 PE                       PID        xMC  \n",
       "0              [23]                  [-211.0]  -7.831785  \n",
       "1          [25, 10]          [-211.0, -999.0] -14.904903  \n",
       "2              [18]                  [-211.0] -15.127296  \n",
       "3              [14]                  [-999.0] -18.594727  \n",
       "5          [30, 11]          [-211.0, -999.0] -10.031444  \n",
       "...             ...                       ...        ...  \n",
       "37357   [11, 14, 7]  [-999.0, -211.0, -999.0]  10.600184  \n",
       "37358  [26, 22, 15]  [-211.0, -999.0, -999.0]   2.503541  \n",
       "37359      [13, 28]          [-999.0, -211.0]  10.606305  \n",
       "37360       [7, 12]          [-999.0, -211.0]  10.862305  \n",
       "37361  [12, 10, 12]  [-999.0, -999.0, -211.0]  14.830662  \n",
       "\n",
       "[36865 rows x 9 columns]"
      ]
     },
     "execution_count": 7,
     "metadata": {},
     "output_type": "execute_result"
    }
   ],
   "source": [
    "df_simulated"
   ]
  },
  {
   "cell_type": "code",
   "execution_count": 3,
   "id": "0192678c-dc98-49c5-8285-4da4fd86e301",
   "metadata": {
    "tags": []
   },
   "outputs": [],
   "source": [
    "df_simulatedy=pd.read_parquet('../../Data/simulated/pi-_10GeV_4ly_1e-4_inclined/TrkData_viewy_cl_TB_2023_T10_Sept_pi-Mono_10000_inclined_10000-evt-0_pitch0.25.parquet')# \n",
    "# df_simulatedy=pd.read_parquet('../../Data/simulated/pi-_10GeV_4ly/TrkData_viewy_cl_TB_2023_T10_Sept_pi-Mono_10000_onAxis_10000-evt-0_pitch0.25.parquet')"
   ]
  },
  {
   "cell_type": "code",
   "execution_count": 8,
   "id": "1afab3e6-ba48-462b-b46e-ba1b2bb78a9d",
   "metadata": {},
   "outputs": [
    {
     "data": {
      "text/plain": [
       "9503"
      ]
     },
     "execution_count": 8,
     "metadata": {},
     "output_type": "execute_result"
    }
   ],
   "source": [
    "df_simulated.Ev.nunique()"
   ]
  },
  {
   "cell_type": "code",
   "execution_count": 10,
   "id": "8e0ddf89-3d72-43fe-85a8-758f566a3da3",
   "metadata": {
    "tags": []
   },
   "outputs": [],
   "source": [
    "df_filtered = df_simulated.groupby('Ev').filter(lambda x: x['ly'].nunique() > 3)\n",
    "df_filteredy = df_simulatedy.groupby('Ev').filter(lambda x: x['ly'].nunique() > 3)"
   ]
  },
  {
   "cell_type": "code",
   "execution_count": 11,
   "id": "97f1e5f1-54ec-4a6b-a4c8-b1e459c501b0",
   "metadata": {},
   "outputs": [],
   "source": [
    "common_events = set(df_filtered['Ev']).intersection(set(df_filteredy['Ev']))"
   ]
  },
  {
   "cell_type": "code",
   "execution_count": 12,
   "id": "8fbd3bef-4e42-4d8d-9fd6-d58db0746bf8",
   "metadata": {},
   "outputs": [
    {
     "data": {
      "text/plain": [
       "7486"
      ]
     },
     "execution_count": 12,
     "metadata": {},
     "output_type": "execute_result"
    }
   ],
   "source": [
    "len(common_events)"
   ]
  },
  {
   "cell_type": "code",
   "execution_count": 13,
   "id": "e4901306-c9dd-4964-b284-c0745ce83e1a",
   "metadata": {},
   "outputs": [],
   "source": [
    "df_filtered = df_filtered[df_filtered['Ev'].isin(common_events)]\n",
    "df_filteredy = df_filteredy[df_filteredy['Ev'].isin(common_events)]"
   ]
  },
  {
   "cell_type": "code",
   "execution_count": 5,
   "id": "642f86c0-89a4-474a-a15b-93a692f2e9f6",
   "metadata": {
    "tags": []
   },
   "outputs": [],
   "source": [
    "# node_df_pi=pd.read_parquet('../../Data/preprocessed/raw/pi-_10GeV_4ly_1e-4/TrkData_viewx_cl_TB_2023_T10_Sept_pi-Mono_10000_onAxis_10000-evt-150_pitch0.25node_df.parquet')\n",
    "# node_df_y_pi=pd.read_parquet('../../Data/preprocessed/raw/pi-_10GeV_4ly_1e-4/TrkData_viewy_cl_TB_2023_T10_Sept_pi-Mono_10000_onAxis_10000-evt-150_pitch0.25node_df.parquet')"
   ]
  },
  {
   "cell_type": "code",
   "execution_count": 14,
   "id": "fdcc39b1-81f1-427e-a0bd-5f6a63e867c2",
   "metadata": {
    "tags": []
   },
   "outputs": [],
   "source": [
    "node_df_pi=df_filtered.apply(lambda x: x.explode() if x.name in ['x_hit','dx_hit','PE','PID'] else x)\n",
    "node_df_y_pi=df_filteredy.apply(lambda x: x.explode() if x.name in ['y_hit','dy_hit','PE','PID'] else x)"
   ]
  },
  {
   "cell_type": "code",
   "execution_count": 8,
   "id": "c470d39a-515b-4ac3-9677-0157493dbea4",
   "metadata": {
    "tags": []
   },
   "outputs": [],
   "source": [
    "edge_df_pi=pd.read_parquet('../../Data/preprocessed/raw/pi-_10GeV_4ly_1e-4_inclined/TrkData_viewx_cl_TB_2023_T10_Sept_pi-Mono_10000_inclined_10000-evt-0_pitch0.25edge_df.parquet')"
   ]
  },
  {
   "cell_type": "code",
   "execution_count": 9,
   "id": "11615e44-2044-4193-b560-165ccab6c31d",
   "metadata": {
    "tags": []
   },
   "outputs": [
    {
     "data": {
      "text/html": [
       "<div>\n",
       "<style scoped>\n",
       "    .dataframe tbody tr th:only-of-type {\n",
       "        vertical-align: middle;\n",
       "    }\n",
       "\n",
       "    .dataframe tbody tr th {\n",
       "        vertical-align: top;\n",
       "    }\n",
       "\n",
       "    .dataframe thead th {\n",
       "        text-align: right;\n",
       "    }\n",
       "</style>\n",
       "<table border=\"1\" class=\"dataframe\">\n",
       "  <thead>\n",
       "    <tr style=\"text-align: right;\">\n",
       "      <th></th>\n",
       "      <th>idx_node_s</th>\n",
       "      <th>x_hit_s</th>\n",
       "      <th>zx_hit_s</th>\n",
       "      <th>dx_hit_s</th>\n",
       "      <th>xMC_s</th>\n",
       "      <th>ly_s</th>\n",
       "      <th>PE_s</th>\n",
       "      <th>PID_s</th>\n",
       "      <th>idx_node_t</th>\n",
       "      <th>x_hit_t</th>\n",
       "      <th>...</th>\n",
       "      <th>dx_hit_t</th>\n",
       "      <th>xMC_t</th>\n",
       "      <th>ly_t</th>\n",
       "      <th>PE_t</th>\n",
       "      <th>PID_t</th>\n",
       "      <th>Ev</th>\n",
       "      <th>angx_row</th>\n",
       "      <th>angx_MC</th>\n",
       "      <th>deangx</th>\n",
       "      <th>edge_class</th>\n",
       "    </tr>\n",
       "  </thead>\n",
       "  <tbody>\n",
       "    <tr>\n",
       "      <th>0</th>\n",
       "      <td>0</td>\n",
       "      <td>-7.840</td>\n",
       "      <td>-30.394</td>\n",
       "      <td>1.05</td>\n",
       "      <td>-7.832643</td>\n",
       "      <td>0</td>\n",
       "      <td>23</td>\n",
       "      <td>-211.0</td>\n",
       "      <td>2</td>\n",
       "      <td>-14.921</td>\n",
       "      <td>...</td>\n",
       "      <td>1.81</td>\n",
       "      <td>-14.905323</td>\n",
       "      <td>1</td>\n",
       "      <td>25</td>\n",
       "      <td>-211.0</td>\n",
       "      <td>0</td>\n",
       "      <td>270.339544</td>\n",
       "      <td>270.339145</td>\n",
       "      <td>-0.100337</td>\n",
       "      <td>1</td>\n",
       "    </tr>\n",
       "    <tr>\n",
       "      <th>1</th>\n",
       "      <td>1</td>\n",
       "      <td>5.638</td>\n",
       "      <td>-30.394</td>\n",
       "      <td>1.07</td>\n",
       "      <td>-7.832643</td>\n",
       "      <td>0</td>\n",
       "      <td>12</td>\n",
       "      <td>-999.0</td>\n",
       "      <td>2</td>\n",
       "      <td>-14.921</td>\n",
       "      <td>...</td>\n",
       "      <td>1.81</td>\n",
       "      <td>-14.905323</td>\n",
       "      <td>1</td>\n",
       "      <td>25</td>\n",
       "      <td>-211.0</td>\n",
       "      <td>0</td>\n",
       "      <td>270.985748</td>\n",
       "      <td>270.339145</td>\n",
       "      <td>-0.100795</td>\n",
       "      <td>0</td>\n",
       "    </tr>\n",
       "    <tr>\n",
       "      <th>2</th>\n",
       "      <td>2</td>\n",
       "      <td>-14.921</td>\n",
       "      <td>1164.463</td>\n",
       "      <td>1.81</td>\n",
       "      <td>-14.905323</td>\n",
       "      <td>1</td>\n",
       "      <td>25</td>\n",
       "      <td>-211.0</td>\n",
       "      <td>3</td>\n",
       "      <td>-15.133</td>\n",
       "      <td>...</td>\n",
       "      <td>2.32</td>\n",
       "      <td>-15.128148</td>\n",
       "      <td>2</td>\n",
       "      <td>18</td>\n",
       "      <td>-211.0</td>\n",
       "      <td>0</td>\n",
       "      <td>270.322670</td>\n",
       "      <td>270.339145</td>\n",
       "      <td>-4.478519</td>\n",
       "      <td>1</td>\n",
       "    </tr>\n",
       "    <tr>\n",
       "      <th>3</th>\n",
       "      <td>2</td>\n",
       "      <td>-14.921</td>\n",
       "      <td>1164.463</td>\n",
       "      <td>1.81</td>\n",
       "      <td>-14.905323</td>\n",
       "      <td>1</td>\n",
       "      <td>25</td>\n",
       "      <td>-211.0</td>\n",
       "      <td>4</td>\n",
       "      <td>-1.841</td>\n",
       "      <td>...</td>\n",
       "      <td>0.36</td>\n",
       "      <td>-15.128148</td>\n",
       "      <td>2</td>\n",
       "      <td>11</td>\n",
       "      <td>-999.0</td>\n",
       "      <td>0</td>\n",
       "      <td>250.839413</td>\n",
       "      <td>270.339145</td>\n",
       "      <td>-2.506272</td>\n",
       "      <td>0</td>\n",
       "    </tr>\n",
       "    <tr>\n",
       "      <th>4</th>\n",
       "      <td>0</td>\n",
       "      <td>-10.125</td>\n",
       "      <td>-30.683</td>\n",
       "      <td>1.18</td>\n",
       "      <td>-10.031346</td>\n",
       "      <td>0</td>\n",
       "      <td>30</td>\n",
       "      <td>-211.0</td>\n",
       "      <td>1</td>\n",
       "      <td>-10.548</td>\n",
       "      <td>...</td>\n",
       "      <td>1.39</td>\n",
       "      <td>-10.570450</td>\n",
       "      <td>1</td>\n",
       "      <td>23</td>\n",
       "      <td>-211.0</td>\n",
       "      <td>2</td>\n",
       "      <td>270.020276</td>\n",
       "      <td>270.025841</td>\n",
       "      <td>-0.087398</td>\n",
       "      <td>1</td>\n",
       "    </tr>\n",
       "    <tr>\n",
       "      <th>5</th>\n",
       "      <td>0</td>\n",
       "      <td>-10.125</td>\n",
       "      <td>-30.683</td>\n",
       "      <td>1.18</td>\n",
       "      <td>-10.031346</td>\n",
       "      <td>0</td>\n",
       "      <td>30</td>\n",
       "      <td>-211.0</td>\n",
       "      <td>2</td>\n",
       "      <td>-0.841</td>\n",
       "      <td>...</td>\n",
       "      <td>0.17</td>\n",
       "      <td>-10.570450</td>\n",
       "      <td>1</td>\n",
       "      <td>12</td>\n",
       "      <td>-999.0</td>\n",
       "      <td>2</td>\n",
       "      <td>269.554997</td>\n",
       "      <td>270.025841</td>\n",
       "      <td>-0.057142</td>\n",
       "      <td>0</td>\n",
       "    </tr>\n",
       "    <tr>\n",
       "      <th>6</th>\n",
       "      <td>0</td>\n",
       "      <td>-10.125</td>\n",
       "      <td>-30.683</td>\n",
       "      <td>1.18</td>\n",
       "      <td>-10.031346</td>\n",
       "      <td>0</td>\n",
       "      <td>30</td>\n",
       "      <td>-211.0</td>\n",
       "      <td>3</td>\n",
       "      <td>11.253</td>\n",
       "      <td>...</td>\n",
       "      <td>1.94</td>\n",
       "      <td>-10.570450</td>\n",
       "      <td>1</td>\n",
       "      <td>8</td>\n",
       "      <td>-999.0</td>\n",
       "      <td>2</td>\n",
       "      <td>268.975393</td>\n",
       "      <td>270.025841</td>\n",
       "      <td>-0.108806</td>\n",
       "      <td>0</td>\n",
       "    </tr>\n",
       "    <tr>\n",
       "      <th>7</th>\n",
       "      <td>1</td>\n",
       "      <td>-10.548</td>\n",
       "      <td>1164.642</td>\n",
       "      <td>1.39</td>\n",
       "      <td>-10.570450</td>\n",
       "      <td>1</td>\n",
       "      <td>23</td>\n",
       "      <td>-211.0</td>\n",
       "      <td>4</td>\n",
       "      <td>-10.457</td>\n",
       "      <td>...</td>\n",
       "      <td>1.35</td>\n",
       "      <td>-10.587217</td>\n",
       "      <td>2</td>\n",
       "      <td>15</td>\n",
       "      <td>-211.0</td>\n",
       "      <td>2</td>\n",
       "      <td>269.859758</td>\n",
       "      <td>270.025841</td>\n",
       "      <td>-2.986179</td>\n",
       "      <td>1</td>\n",
       "    </tr>\n",
       "    <tr>\n",
       "      <th>8</th>\n",
       "      <td>1</td>\n",
       "      <td>-10.548</td>\n",
       "      <td>1164.642</td>\n",
       "      <td>1.39</td>\n",
       "      <td>-10.570450</td>\n",
       "      <td>1</td>\n",
       "      <td>23</td>\n",
       "      <td>-211.0</td>\n",
       "      <td>5</td>\n",
       "      <td>-6.068</td>\n",
       "      <td>...</td>\n",
       "      <td>1.22</td>\n",
       "      <td>-10.587217</td>\n",
       "      <td>2</td>\n",
       "      <td>11</td>\n",
       "      <td>-999.0</td>\n",
       "      <td>2</td>\n",
       "      <td>263.128910</td>\n",
       "      <td>270.025841</td>\n",
       "      <td>-2.809445</td>\n",
       "      <td>0</td>\n",
       "    </tr>\n",
       "    <tr>\n",
       "      <th>9</th>\n",
       "      <td>2</td>\n",
       "      <td>-0.841</td>\n",
       "      <td>1164.642</td>\n",
       "      <td>0.17</td>\n",
       "      <td>-10.570450</td>\n",
       "      <td>1</td>\n",
       "      <td>12</td>\n",
       "      <td>-999.0</td>\n",
       "      <td>4</td>\n",
       "      <td>-10.457</td>\n",
       "      <td>...</td>\n",
       "      <td>1.35</td>\n",
       "      <td>-10.587217</td>\n",
       "      <td>2</td>\n",
       "      <td>15</td>\n",
       "      <td>-211.0</td>\n",
       "      <td>2</td>\n",
       "      <td>284.501611</td>\n",
       "      <td>270.025841</td>\n",
       "      <td>-1.965457</td>\n",
       "      <td>0</td>\n",
       "    </tr>\n",
       "  </tbody>\n",
       "</table>\n",
       "<p>10 rows × 21 columns</p>\n",
       "</div>"
      ],
      "text/plain": [
       "   idx_node_s  x_hit_s  zx_hit_s  dx_hit_s      xMC_s  ly_s  PE_s  PID_s  \\\n",
       "0           0   -7.840   -30.394      1.05  -7.832643     0    23 -211.0   \n",
       "1           1    5.638   -30.394      1.07  -7.832643     0    12 -999.0   \n",
       "2           2  -14.921  1164.463      1.81 -14.905323     1    25 -211.0   \n",
       "3           2  -14.921  1164.463      1.81 -14.905323     1    25 -211.0   \n",
       "4           0  -10.125   -30.683      1.18 -10.031346     0    30 -211.0   \n",
       "5           0  -10.125   -30.683      1.18 -10.031346     0    30 -211.0   \n",
       "6           0  -10.125   -30.683      1.18 -10.031346     0    30 -211.0   \n",
       "7           1  -10.548  1164.642      1.39 -10.570450     1    23 -211.0   \n",
       "8           1  -10.548  1164.642      1.39 -10.570450     1    23 -211.0   \n",
       "9           2   -0.841  1164.642      0.17 -10.570450     1    12 -999.0   \n",
       "\n",
       "   idx_node_t  x_hit_t  ...  dx_hit_t      xMC_t  ly_t  PE_t  PID_t  Ev  \\\n",
       "0           2  -14.921  ...      1.81 -14.905323     1    25 -211.0   0   \n",
       "1           2  -14.921  ...      1.81 -14.905323     1    25 -211.0   0   \n",
       "2           3  -15.133  ...      2.32 -15.128148     2    18 -211.0   0   \n",
       "3           4   -1.841  ...      0.36 -15.128148     2    11 -999.0   0   \n",
       "4           1  -10.548  ...      1.39 -10.570450     1    23 -211.0   2   \n",
       "5           2   -0.841  ...      0.17 -10.570450     1    12 -999.0   2   \n",
       "6           3   11.253  ...      1.94 -10.570450     1     8 -999.0   2   \n",
       "7           4  -10.457  ...      1.35 -10.587217     2    15 -211.0   2   \n",
       "8           5   -6.068  ...      1.22 -10.587217     2    11 -999.0   2   \n",
       "9           4  -10.457  ...      1.35 -10.587217     2    15 -211.0   2   \n",
       "\n",
       "     angx_row     angx_MC    deangx  edge_class  \n",
       "0  270.339544  270.339145 -0.100337           1  \n",
       "1  270.985748  270.339145 -0.100795           0  \n",
       "2  270.322670  270.339145 -4.478519           1  \n",
       "3  250.839413  270.339145 -2.506272           0  \n",
       "4  270.020276  270.025841 -0.087398           1  \n",
       "5  269.554997  270.025841 -0.057142           0  \n",
       "6  268.975393  270.025841 -0.108806           0  \n",
       "7  269.859758  270.025841 -2.986179           1  \n",
       "8  263.128910  270.025841 -2.809445           0  \n",
       "9  284.501611  270.025841 -1.965457           0  \n",
       "\n",
       "[10 rows x 21 columns]"
      ]
     },
     "execution_count": 9,
     "metadata": {},
     "output_type": "execute_result"
    }
   ],
   "source": [
    "edge_df_pi.head(10)"
   ]
  },
  {
   "cell_type": "code",
   "execution_count": 7,
   "id": "a8dae710-e025-4427-952c-713ba8ebec0e",
   "metadata": {
    "tags": []
   },
   "outputs": [
    {
     "data": {
      "text/html": [
       "<div>\n",
       "<style scoped>\n",
       "    .dataframe tbody tr th:only-of-type {\n",
       "        vertical-align: middle;\n",
       "    }\n",
       "\n",
       "    .dataframe tbody tr th {\n",
       "        vertical-align: top;\n",
       "    }\n",
       "\n",
       "    .dataframe thead th {\n",
       "        text-align: right;\n",
       "    }\n",
       "</style>\n",
       "<table border=\"1\" class=\"dataframe\">\n",
       "  <thead>\n",
       "    <tr style=\"text-align: right;\">\n",
       "      <th></th>\n",
       "      <th>idx_node_s</th>\n",
       "      <th>x_hit_s</th>\n",
       "      <th>zx_hit_s</th>\n",
       "      <th>dx_hit_s</th>\n",
       "      <th>xMC_s</th>\n",
       "      <th>ly_s</th>\n",
       "      <th>PE_s</th>\n",
       "      <th>PID_s</th>\n",
       "      <th>idx_node_t</th>\n",
       "      <th>x_hit_t</th>\n",
       "      <th>...</th>\n",
       "      <th>dx_hit_t</th>\n",
       "      <th>xMC_t</th>\n",
       "      <th>ly_t</th>\n",
       "      <th>PE_t</th>\n",
       "      <th>PID_t</th>\n",
       "      <th>Ev</th>\n",
       "      <th>angx_row</th>\n",
       "      <th>angx_MC</th>\n",
       "      <th>deangx</th>\n",
       "      <th>edge_class</th>\n",
       "    </tr>\n",
       "  </thead>\n",
       "  <tbody>\n",
       "    <tr>\n",
       "      <th>0</th>\n",
       "      <td>0</td>\n",
       "      <td>-3.540</td>\n",
       "      <td>-30.596</td>\n",
       "      <td>0.45</td>\n",
       "      <td>-3.63</td>\n",
       "      <td>0</td>\n",
       "      <td>25</td>\n",
       "      <td>-211.0</td>\n",
       "      <td>2</td>\n",
       "      <td>-3.507</td>\n",
       "      <td>...</td>\n",
       "      <td>0.42</td>\n",
       "      <td>-3.63</td>\n",
       "      <td>1</td>\n",
       "      <td>15</td>\n",
       "      <td>-211.0</td>\n",
       "      <td>0</td>\n",
       "      <td>269.998418</td>\n",
       "      <td>270.0</td>\n",
       "      <td>-0.029508</td>\n",
       "      <td>1</td>\n",
       "    </tr>\n",
       "    <tr>\n",
       "      <th>1</th>\n",
       "      <td>0</td>\n",
       "      <td>-3.540</td>\n",
       "      <td>-30.596</td>\n",
       "      <td>0.45</td>\n",
       "      <td>-3.63</td>\n",
       "      <td>0</td>\n",
       "      <td>25</td>\n",
       "      <td>-211.0</td>\n",
       "      <td>3</td>\n",
       "      <td>11.285</td>\n",
       "      <td>...</td>\n",
       "      <td>2.00</td>\n",
       "      <td>-3.63</td>\n",
       "      <td>1</td>\n",
       "      <td>8</td>\n",
       "      <td>-999.0</td>\n",
       "      <td>0</td>\n",
       "      <td>269.289354</td>\n",
       "      <td>270.0</td>\n",
       "      <td>-0.098258</td>\n",
       "      <td>0</td>\n",
       "    </tr>\n",
       "    <tr>\n",
       "      <th>2</th>\n",
       "      <td>0</td>\n",
       "      <td>-3.540</td>\n",
       "      <td>-30.596</td>\n",
       "      <td>0.45</td>\n",
       "      <td>-3.63</td>\n",
       "      <td>0</td>\n",
       "      <td>25</td>\n",
       "      <td>-211.0</td>\n",
       "      <td>4</td>\n",
       "      <td>12.785</td>\n",
       "      <td>...</td>\n",
       "      <td>2.61</td>\n",
       "      <td>-3.63</td>\n",
       "      <td>1</td>\n",
       "      <td>6</td>\n",
       "      <td>-999.0</td>\n",
       "      <td>0</td>\n",
       "      <td>269.217459</td>\n",
       "      <td>270.0</td>\n",
       "      <td>-0.126941</td>\n",
       "      <td>0</td>\n",
       "    </tr>\n",
       "    <tr>\n",
       "      <th>3</th>\n",
       "      <td>1</td>\n",
       "      <td>3.017</td>\n",
       "      <td>-30.596</td>\n",
       "      <td>0.57</td>\n",
       "      <td>-3.63</td>\n",
       "      <td>0</td>\n",
       "      <td>7</td>\n",
       "      <td>-999.0</td>\n",
       "      <td>2</td>\n",
       "      <td>-3.507</td>\n",
       "      <td>...</td>\n",
       "      <td>0.42</td>\n",
       "      <td>-3.63</td>\n",
       "      <td>1</td>\n",
       "      <td>15</td>\n",
       "      <td>-211.0</td>\n",
       "      <td>0</td>\n",
       "      <td>270.312745</td>\n",
       "      <td>270.0</td>\n",
       "      <td>-0.033940</td>\n",
       "      <td>0</td>\n",
       "    </tr>\n",
       "    <tr>\n",
       "      <th>4</th>\n",
       "      <td>1</td>\n",
       "      <td>3.017</td>\n",
       "      <td>-30.596</td>\n",
       "      <td>0.57</td>\n",
       "      <td>-3.63</td>\n",
       "      <td>0</td>\n",
       "      <td>7</td>\n",
       "      <td>-999.0</td>\n",
       "      <td>3</td>\n",
       "      <td>11.285</td>\n",
       "      <td>...</td>\n",
       "      <td>2.00</td>\n",
       "      <td>-3.63</td>\n",
       "      <td>1</td>\n",
       "      <td>8</td>\n",
       "      <td>-999.0</td>\n",
       "      <td>0</td>\n",
       "      <td>269.603654</td>\n",
       "      <td>270.0</td>\n",
       "      <td>-0.099689</td>\n",
       "      <td>1</td>\n",
       "    </tr>\n",
       "    <tr>\n",
       "      <th>5</th>\n",
       "      <td>1</td>\n",
       "      <td>3.017</td>\n",
       "      <td>-30.596</td>\n",
       "      <td>0.57</td>\n",
       "      <td>-3.63</td>\n",
       "      <td>0</td>\n",
       "      <td>7</td>\n",
       "      <td>-999.0</td>\n",
       "      <td>4</td>\n",
       "      <td>12.785</td>\n",
       "      <td>...</td>\n",
       "      <td>2.61</td>\n",
       "      <td>-3.63</td>\n",
       "      <td>1</td>\n",
       "      <td>6</td>\n",
       "      <td>-999.0</td>\n",
       "      <td>0</td>\n",
       "      <td>269.531751</td>\n",
       "      <td>270.0</td>\n",
       "      <td>-0.128059</td>\n",
       "      <td>1</td>\n",
       "    </tr>\n",
       "    <tr>\n",
       "      <th>6</th>\n",
       "      <td>2</td>\n",
       "      <td>-3.507</td>\n",
       "      <td>1164.607</td>\n",
       "      <td>0.42</td>\n",
       "      <td>-3.63</td>\n",
       "      <td>1</td>\n",
       "      <td>15</td>\n",
       "      <td>-211.0</td>\n",
       "      <td>5</td>\n",
       "      <td>-3.507</td>\n",
       "      <td>...</td>\n",
       "      <td>0.38</td>\n",
       "      <td>-3.63</td>\n",
       "      <td>2</td>\n",
       "      <td>18</td>\n",
       "      <td>-211.0</td>\n",
       "      <td>0</td>\n",
       "      <td>270.000000</td>\n",
       "      <td>270.0</td>\n",
       "      <td>-0.872058</td>\n",
       "      <td>1</td>\n",
       "    </tr>\n",
       "    <tr>\n",
       "      <th>7</th>\n",
       "      <td>3</td>\n",
       "      <td>11.285</td>\n",
       "      <td>1164.607</td>\n",
       "      <td>2.00</td>\n",
       "      <td>-3.63</td>\n",
       "      <td>1</td>\n",
       "      <td>8</td>\n",
       "      <td>-999.0</td>\n",
       "      <td>5</td>\n",
       "      <td>-3.507</td>\n",
       "      <td>...</td>\n",
       "      <td>0.38</td>\n",
       "      <td>-3.63</td>\n",
       "      <td>2</td>\n",
       "      <td>18</td>\n",
       "      <td>-211.0</td>\n",
       "      <td>0</td>\n",
       "      <td>291.677598</td>\n",
       "      <td>270.0</td>\n",
       "      <td>-2.706757</td>\n",
       "      <td>0</td>\n",
       "    </tr>\n",
       "    <tr>\n",
       "      <th>8</th>\n",
       "      <td>4</td>\n",
       "      <td>12.785</td>\n",
       "      <td>1164.607</td>\n",
       "      <td>2.61</td>\n",
       "      <td>-3.63</td>\n",
       "      <td>1</td>\n",
       "      <td>6</td>\n",
       "      <td>-999.0</td>\n",
       "      <td>5</td>\n",
       "      <td>-3.507</td>\n",
       "      <td>...</td>\n",
       "      <td>0.38</td>\n",
       "      <td>-3.63</td>\n",
       "      <td>2</td>\n",
       "      <td>18</td>\n",
       "      <td>-211.0</td>\n",
       "      <td>0</td>\n",
       "      <td>293.643995</td>\n",
       "      <td>270.0</td>\n",
       "      <td>-3.407740</td>\n",
       "      <td>0</td>\n",
       "    </tr>\n",
       "    <tr>\n",
       "      <th>9</th>\n",
       "      <td>5</td>\n",
       "      <td>-3.507</td>\n",
       "      <td>1201.820</td>\n",
       "      <td>0.38</td>\n",
       "      <td>-3.63</td>\n",
       "      <td>2</td>\n",
       "      <td>18</td>\n",
       "      <td>-211.0</td>\n",
       "      <td>6</td>\n",
       "      <td>-11.979</td>\n",
       "      <td>...</td>\n",
       "      <td>1.98</td>\n",
       "      <td>-3.63</td>\n",
       "      <td>3</td>\n",
       "      <td>9</td>\n",
       "      <td>-999.0</td>\n",
       "      <td>0</td>\n",
       "      <td>270.828792</td>\n",
       "      <td>270.0</td>\n",
       "      <td>-0.197205</td>\n",
       "      <td>0</td>\n",
       "    </tr>\n",
       "  </tbody>\n",
       "</table>\n",
       "<p>10 rows × 21 columns</p>\n",
       "</div>"
      ],
      "text/plain": [
       "   idx_node_s  x_hit_s  zx_hit_s  dx_hit_s  xMC_s  ly_s  PE_s  PID_s  \\\n",
       "0           0   -3.540   -30.596      0.45  -3.63     0    25 -211.0   \n",
       "1           0   -3.540   -30.596      0.45  -3.63     0    25 -211.0   \n",
       "2           0   -3.540   -30.596      0.45  -3.63     0    25 -211.0   \n",
       "3           1    3.017   -30.596      0.57  -3.63     0     7 -999.0   \n",
       "4           1    3.017   -30.596      0.57  -3.63     0     7 -999.0   \n",
       "5           1    3.017   -30.596      0.57  -3.63     0     7 -999.0   \n",
       "6           2   -3.507  1164.607      0.42  -3.63     1    15 -211.0   \n",
       "7           3   11.285  1164.607      2.00  -3.63     1     8 -999.0   \n",
       "8           4   12.785  1164.607      2.61  -3.63     1     6 -999.0   \n",
       "9           5   -3.507  1201.820      0.38  -3.63     2    18 -211.0   \n",
       "\n",
       "   idx_node_t  x_hit_t  ...  dx_hit_t  xMC_t  ly_t  PE_t  PID_t  Ev  \\\n",
       "0           2   -3.507  ...      0.42  -3.63     1    15 -211.0   0   \n",
       "1           3   11.285  ...      2.00  -3.63     1     8 -999.0   0   \n",
       "2           4   12.785  ...      2.61  -3.63     1     6 -999.0   0   \n",
       "3           2   -3.507  ...      0.42  -3.63     1    15 -211.0   0   \n",
       "4           3   11.285  ...      2.00  -3.63     1     8 -999.0   0   \n",
       "5           4   12.785  ...      2.61  -3.63     1     6 -999.0   0   \n",
       "6           5   -3.507  ...      0.38  -3.63     2    18 -211.0   0   \n",
       "7           5   -3.507  ...      0.38  -3.63     2    18 -211.0   0   \n",
       "8           5   -3.507  ...      0.38  -3.63     2    18 -211.0   0   \n",
       "9           6  -11.979  ...      1.98  -3.63     3     9 -999.0   0   \n",
       "\n",
       "     angx_row  angx_MC    deangx  edge_class  \n",
       "0  269.998418    270.0 -0.029508           1  \n",
       "1  269.289354    270.0 -0.098258           0  \n",
       "2  269.217459    270.0 -0.126941           0  \n",
       "3  270.312745    270.0 -0.033940           0  \n",
       "4  269.603654    270.0 -0.099689           1  \n",
       "5  269.531751    270.0 -0.128059           1  \n",
       "6  270.000000    270.0 -0.872058           1  \n",
       "7  291.677598    270.0 -2.706757           0  \n",
       "8  293.643995    270.0 -3.407740           0  \n",
       "9  270.828792    270.0 -0.197205           0  \n",
       "\n",
       "[10 rows x 21 columns]"
      ]
     },
     "execution_count": 7,
     "metadata": {},
     "output_type": "execute_result"
    }
   ],
   "source": [
    "edge_df_pi.head(10)"
   ]
  },
  {
   "cell_type": "code",
   "execution_count": 7,
   "id": "d6a0579b-8e0a-442d-9ea1-86c3458d5647",
   "metadata": {
    "tags": []
   },
   "outputs": [],
   "source": [
    "exp_df=pd.read_csv('/lustrehome/federicacuna/TestBeam_T10_2023/code/Analysis_v1.3_20230910_055858_Aligned_x_view_nodedf.csv')\n",
    "exp_df_y=pd.read_csv('/lustrehome/federicacuna/TestBeam_T10_2023/code/Analysis_v1.3_20230910_055858_Aligned_y_view_nodedf.csv')"
   ]
  },
  {
   "cell_type": "code",
   "execution_count": 8,
   "id": "3cbc62ab-2baa-4197-8f6e-cb79334b5281",
   "metadata": {
    "tags": []
   },
   "outputs": [],
   "source": [
    "exp_df=exp_df.sort_values(by=['Ev', 'ly'], ascending=[True, True])"
   ]
  },
  {
   "cell_type": "code",
   "execution_count": 9,
   "id": "84b5deb6-a8ce-49bb-adcb-9bfd9a2e1593",
   "metadata": {
    "tags": []
   },
   "outputs": [],
   "source": [
    "exp_df_y=exp_df_y.sort_values(by=['Ev', 'ly'], ascending=[True, True])"
   ]
  },
  {
   "cell_type": "code",
   "execution_count": 46,
   "id": "dd363c52-e1df-4a0e-8843-0fa88e3ccaa7",
   "metadata": {
    "tags": []
   },
   "outputs": [
    {
     "data": {
      "text/html": [
       "<div>\n",
       "<style scoped>\n",
       "    .dataframe tbody tr th:only-of-type {\n",
       "        vertical-align: middle;\n",
       "    }\n",
       "\n",
       "    .dataframe tbody tr th {\n",
       "        vertical-align: top;\n",
       "    }\n",
       "\n",
       "    .dataframe thead th {\n",
       "        text-align: right;\n",
       "    }\n",
       "</style>\n",
       "<table border=\"1\" class=\"dataframe\">\n",
       "  <thead>\n",
       "    <tr style=\"text-align: right;\">\n",
       "      <th></th>\n",
       "      <th>Ev</th>\n",
       "      <th>x_hit</th>\n",
       "      <th>dx_hit</th>\n",
       "      <th>ly</th>\n",
       "      <th>zx_hit</th>\n",
       "      <th>view</th>\n",
       "      <th>PE</th>\n",
       "    </tr>\n",
       "  </thead>\n",
       "  <tbody>\n",
       "    <tr>\n",
       "      <th>0</th>\n",
       "      <td>0</td>\n",
       "      <td>-0.212289</td>\n",
       "      <td>0.214816</td>\n",
       "      <td>0</td>\n",
       "      <td>-30</td>\n",
       "      <td>0</td>\n",
       "      <td>63.88780</td>\n",
       "    </tr>\n",
       "    <tr>\n",
       "      <th>5</th>\n",
       "      <td>0</td>\n",
       "      <td>1.584380</td>\n",
       "      <td>0.219120</td>\n",
       "      <td>1</td>\n",
       "      <td>1165</td>\n",
       "      <td>0</td>\n",
       "      <td>47.37180</td>\n",
       "    </tr>\n",
       "    <tr>\n",
       "      <th>6</th>\n",
       "      <td>0</td>\n",
       "      <td>1.603310</td>\n",
       "      <td>0.231354</td>\n",
       "      <td>1</td>\n",
       "      <td>1165</td>\n",
       "      <td>1</td>\n",
       "      <td>36.37950</td>\n",
       "    </tr>\n",
       "    <tr>\n",
       "      <th>2</th>\n",
       "      <td>0</td>\n",
       "      <td>4.483590</td>\n",
       "      <td>0.288675</td>\n",
       "      <td>2</td>\n",
       "      <td>1206</td>\n",
       "      <td>0</td>\n",
       "      <td>8.17131</td>\n",
       "    </tr>\n",
       "    <tr>\n",
       "      <th>3</th>\n",
       "      <td>0</td>\n",
       "      <td>1.441190</td>\n",
       "      <td>0.176515</td>\n",
       "      <td>2</td>\n",
       "      <td>1206</td>\n",
       "      <td>0</td>\n",
       "      <td>38.62850</td>\n",
       "    </tr>\n",
       "  </tbody>\n",
       "</table>\n",
       "</div>"
      ],
      "text/plain": [
       "   Ev     x_hit    dx_hit  ly  zx_hit  view        PE\n",
       "0   0 -0.212289  0.214816   0     -30     0  63.88780\n",
       "5   0  1.584380  0.219120   1    1165     0  47.37180\n",
       "6   0  1.603310  0.231354   1    1165     1  36.37950\n",
       "2   0  4.483590  0.288675   2    1206     0   8.17131\n",
       "3   0  1.441190  0.176515   2    1206     0  38.62850"
      ]
     },
     "execution_count": 46,
     "metadata": {},
     "output_type": "execute_result"
    }
   ],
   "source": [
    "exp_df.head(5)"
   ]
  },
  {
   "cell_type": "code",
   "execution_count": 10,
   "id": "4f83d6b7-bd31-4066-a63e-52418eff8d4d",
   "metadata": {
    "tags": []
   },
   "outputs": [],
   "source": [
    "mapping = {0: 0, 2: 1, 4: 2, 6: 3}\n",
    "#mapping = {0: 3, 2: 2, 4: 1, 6: 0}\n",
    "mapping_y={1:0,3:1,5:2,7:3}\n",
    "exp_df['ly'] = exp_df['ly'].replace(mapping)\n",
    "exp_df_y['ly'] = exp_df_y['ly'].replace(mapping_y)"
   ]
  },
  {
   "cell_type": "code",
   "execution_count": 12,
   "id": "68367f49-65eb-4379-b81a-b9ea4f240d6e",
   "metadata": {
    "editable": true,
    "slideshow": {
     "slide_type": ""
    },
    "tags": []
   },
   "outputs": [
    {
     "data": {
      "text/html": [
       "<div>\n",
       "<style scoped>\n",
       "    .dataframe tbody tr th:only-of-type {\n",
       "        vertical-align: middle;\n",
       "    }\n",
       "\n",
       "    .dataframe tbody tr th {\n",
       "        vertical-align: top;\n",
       "    }\n",
       "\n",
       "    .dataframe thead th {\n",
       "        text-align: right;\n",
       "    }\n",
       "</style>\n",
       "<table border=\"1\" class=\"dataframe\">\n",
       "  <thead>\n",
       "    <tr style=\"text-align: right;\">\n",
       "      <th></th>\n",
       "      <th>Ev</th>\n",
       "      <th>x_hit</th>\n",
       "      <th>dx_hit</th>\n",
       "      <th>ly</th>\n",
       "      <th>zx_hit</th>\n",
       "      <th>view</th>\n",
       "      <th>PE</th>\n",
       "    </tr>\n",
       "  </thead>\n",
       "  <tbody>\n",
       "    <tr>\n",
       "      <th>0</th>\n",
       "      <td>0</td>\n",
       "      <td>-0.212289</td>\n",
       "      <td>0.214816</td>\n",
       "      <td>0</td>\n",
       "      <td>-30</td>\n",
       "      <td>0</td>\n",
       "      <td>63.88780</td>\n",
       "    </tr>\n",
       "    <tr>\n",
       "      <th>5</th>\n",
       "      <td>0</td>\n",
       "      <td>1.584380</td>\n",
       "      <td>0.219120</td>\n",
       "      <td>1</td>\n",
       "      <td>1165</td>\n",
       "      <td>0</td>\n",
       "      <td>47.37180</td>\n",
       "    </tr>\n",
       "    <tr>\n",
       "      <th>6</th>\n",
       "      <td>0</td>\n",
       "      <td>1.603310</td>\n",
       "      <td>0.231354</td>\n",
       "      <td>1</td>\n",
       "      <td>1165</td>\n",
       "      <td>1</td>\n",
       "      <td>36.37950</td>\n",
       "    </tr>\n",
       "    <tr>\n",
       "      <th>2</th>\n",
       "      <td>0</td>\n",
       "      <td>4.483590</td>\n",
       "      <td>0.288675</td>\n",
       "      <td>2</td>\n",
       "      <td>1206</td>\n",
       "      <td>0</td>\n",
       "      <td>8.17131</td>\n",
       "    </tr>\n",
       "    <tr>\n",
       "      <th>3</th>\n",
       "      <td>0</td>\n",
       "      <td>1.441190</td>\n",
       "      <td>0.176515</td>\n",
       "      <td>2</td>\n",
       "      <td>1206</td>\n",
       "      <td>0</td>\n",
       "      <td>38.62850</td>\n",
       "    </tr>\n",
       "  </tbody>\n",
       "</table>\n",
       "</div>"
      ],
      "text/plain": [
       "   Ev     x_hit    dx_hit  ly  zx_hit  view        PE\n",
       "0   0 -0.212289  0.214816   0     -30     0  63.88780\n",
       "5   0  1.584380  0.219120   1    1165     0  47.37180\n",
       "6   0  1.603310  0.231354   1    1165     1  36.37950\n",
       "2   0  4.483590  0.288675   2    1206     0   8.17131\n",
       "3   0  1.441190  0.176515   2    1206     0  38.62850"
      ]
     },
     "execution_count": 12,
     "metadata": {},
     "output_type": "execute_result"
    }
   ],
   "source": [
    "exp_df.head(5)"
   ]
  },
  {
   "cell_type": "code",
   "execution_count": 13,
   "id": "09a3c903-f4b1-4658-b239-ef93c060c356",
   "metadata": {
    "tags": []
   },
   "outputs": [
    {
     "data": {
      "text/html": [
       "<div>\n",
       "<style scoped>\n",
       "    .dataframe tbody tr th:only-of-type {\n",
       "        vertical-align: middle;\n",
       "    }\n",
       "\n",
       "    .dataframe tbody tr th {\n",
       "        vertical-align: top;\n",
       "    }\n",
       "\n",
       "    .dataframe thead th {\n",
       "        text-align: right;\n",
       "    }\n",
       "</style>\n",
       "<table border=\"1\" class=\"dataframe\">\n",
       "  <thead>\n",
       "    <tr style=\"text-align: right;\">\n",
       "      <th></th>\n",
       "      <th>Ev</th>\n",
       "      <th>y_hit</th>\n",
       "      <th>dy_hit</th>\n",
       "      <th>ly</th>\n",
       "      <th>zy_hit</th>\n",
       "      <th>view</th>\n",
       "      <th>PE</th>\n",
       "    </tr>\n",
       "  </thead>\n",
       "  <tbody>\n",
       "    <tr>\n",
       "      <th>0</th>\n",
       "      <td>0</td>\n",
       "      <td>-10.25480</td>\n",
       "      <td>0.223002</td>\n",
       "      <td>0</td>\n",
       "      <td>-29</td>\n",
       "      <td>1</td>\n",
       "      <td>34.5294</td>\n",
       "    </tr>\n",
       "    <tr>\n",
       "      <th>4</th>\n",
       "      <td>0</td>\n",
       "      <td>2.89633</td>\n",
       "      <td>0.210732</td>\n",
       "      <td>1</td>\n",
       "      <td>1166</td>\n",
       "      <td>0</td>\n",
       "      <td>53.7279</td>\n",
       "    </tr>\n",
       "    <tr>\n",
       "      <th>5</th>\n",
       "      <td>0</td>\n",
       "      <td>2.93133</td>\n",
       "      <td>0.222430</td>\n",
       "      <td>1</td>\n",
       "      <td>1166</td>\n",
       "      <td>1</td>\n",
       "      <td>55.3821</td>\n",
       "    </tr>\n",
       "    <tr>\n",
       "      <th>2</th>\n",
       "      <td>0</td>\n",
       "      <td>2.56468</td>\n",
       "      <td>0.166913</td>\n",
       "      <td>2</td>\n",
       "      <td>1210</td>\n",
       "      <td>0</td>\n",
       "      <td>46.6018</td>\n",
       "    </tr>\n",
       "    <tr>\n",
       "      <th>3</th>\n",
       "      <td>0</td>\n",
       "      <td>2.59127</td>\n",
       "      <td>0.288675</td>\n",
       "      <td>2</td>\n",
       "      <td>1210</td>\n",
       "      <td>1</td>\n",
       "      <td>19.9466</td>\n",
       "    </tr>\n",
       "  </tbody>\n",
       "</table>\n",
       "</div>"
      ],
      "text/plain": [
       "   Ev     y_hit    dy_hit  ly  zy_hit  view       PE\n",
       "0   0 -10.25480  0.223002   0     -29     1  34.5294\n",
       "4   0   2.89633  0.210732   1    1166     0  53.7279\n",
       "5   0   2.93133  0.222430   1    1166     1  55.3821\n",
       "2   0   2.56468  0.166913   2    1210     0  46.6018\n",
       "3   0   2.59127  0.288675   2    1210     1  19.9466"
      ]
     },
     "execution_count": 13,
     "metadata": {},
     "output_type": "execute_result"
    }
   ],
   "source": [
    "exp_df_y.head(5)"
   ]
  },
  {
   "cell_type": "code",
   "execution_count": 6,
   "id": "d55c0e8d-aa67-487c-948a-3927d3ee6fa5",
   "metadata": {
    "tags": []
   },
   "outputs": [],
   "source": [
    "events=node_df_pi.Ev.unique()\n",
    "common_events = node_df_pi[node_df_pi['Ev'].isin(node_df_y_pi['Ev'])]['Ev'].unique().tolist()"
   ]
  },
  {
   "cell_type": "code",
   "execution_count": 28,
   "id": "1fae4b97-0879-4c3a-8523-9149044dc638",
   "metadata": {
    "tags": []
   },
   "outputs": [
    {
     "ename": "NameError",
     "evalue": "name 'node_df_pi' is not defined",
     "output_type": "error",
     "traceback": [
      "\u001b[0;31m---------------------------------------------------------------------------\u001b[0m",
      "\u001b[0;31mNameError\u001b[0m                                 Traceback (most recent call last)",
      "\u001b[0;32m<ipython-input-28-7c13a8967bbb>\u001b[0m in \u001b[0;36m<module>\u001b[0;34m\u001b[0m\n\u001b[0;32m----> 1\u001b[0;31m \u001b[0mnode_df_pi\u001b[0m \u001b[0;34m=\u001b[0m \u001b[0mnode_df_pi\u001b[0m\u001b[0;34m[\u001b[0m\u001b[0mnode_df_pi\u001b[0m\u001b[0;34m[\u001b[0m\u001b[0;34m'Ev'\u001b[0m\u001b[0;34m]\u001b[0m\u001b[0;34m.\u001b[0m\u001b[0misin\u001b[0m\u001b[0;34m(\u001b[0m\u001b[0mcommon_events\u001b[0m\u001b[0;34m)\u001b[0m\u001b[0;34m]\u001b[0m\u001b[0;34m\u001b[0m\u001b[0;34m\u001b[0m\u001b[0m\n\u001b[0m\u001b[1;32m      2\u001b[0m \u001b[0mnode_df_y_pi\u001b[0m \u001b[0;34m=\u001b[0m \u001b[0mnode_df_y_pi\u001b[0m\u001b[0;34m[\u001b[0m\u001b[0mnode_df_y_pi\u001b[0m\u001b[0;34m[\u001b[0m\u001b[0;34m'Ev'\u001b[0m\u001b[0;34m]\u001b[0m\u001b[0;34m.\u001b[0m\u001b[0misin\u001b[0m\u001b[0;34m(\u001b[0m\u001b[0mcommon_events\u001b[0m\u001b[0;34m)\u001b[0m\u001b[0;34m]\u001b[0m\u001b[0;34m\u001b[0m\u001b[0;34m\u001b[0m\u001b[0m\n\u001b[1;32m      3\u001b[0m \u001b[0mprint\u001b[0m\u001b[0;34m(\u001b[0m\u001b[0;34m(\u001b[0m\u001b[0mnode_df_pi\u001b[0m\u001b[0;34m.\u001b[0m\u001b[0mEv\u001b[0m\u001b[0;34m.\u001b[0m\u001b[0mnunique\u001b[0m\u001b[0;34m(\u001b[0m\u001b[0;34m)\u001b[0m\u001b[0;34m)\u001b[0m\u001b[0;34m,\u001b[0m\u001b[0;34m' '\u001b[0m\u001b[0;34m,\u001b[0m\u001b[0;34m(\u001b[0m\u001b[0mnode_df_y_pi\u001b[0m\u001b[0;34m.\u001b[0m\u001b[0mEv\u001b[0m\u001b[0;34m.\u001b[0m\u001b[0mnunique\u001b[0m\u001b[0;34m(\u001b[0m\u001b[0;34m)\u001b[0m\u001b[0;34m)\u001b[0m\u001b[0;34m)\u001b[0m\u001b[0;34m\u001b[0m\u001b[0;34m\u001b[0m\u001b[0m\n",
      "\u001b[0;31mNameError\u001b[0m: name 'node_df_pi' is not defined"
     ]
    }
   ],
   "source": [
    "node_df_pi = node_df_pi[node_df_pi['Ev'].isin(common_events)]\n",
    "node_df_y_pi = node_df_y_pi[node_df_y_pi['Ev'].isin(common_events)]\n",
    "print((node_df_pi.Ev.nunique()),' ',(node_df_y_pi.Ev.nunique()))"
   ]
  },
  {
   "cell_type": "code",
   "execution_count": 16,
   "id": "281c1043-d836-4e3e-8d38-744b90ac8889",
   "metadata": {
    "editable": true,
    "slideshow": {
     "slide_type": ""
    },
    "tags": []
   },
   "outputs": [
    {
     "ename": "AttributeError",
     "evalue": "'DataFrame' object has no attribute 'hit_class'",
     "output_type": "error",
     "traceback": [
      "\u001b[0;31m---------------------------------------------------------------------------\u001b[0m",
      "\u001b[0;31mAttributeError\u001b[0m                            Traceback (most recent call last)",
      "Cell \u001b[0;32mIn [16], line 6\u001b[0m\n\u001b[1;32m      3\u001b[0m fig, axs \u001b[38;5;241m=\u001b[39m plt\u001b[38;5;241m.\u001b[39msubplots(\u001b[38;5;241m1\u001b[39m, \u001b[38;5;241m2\u001b[39m, figsize\u001b[38;5;241m=\u001b[39m(\u001b[38;5;241m10\u001b[39m, \u001b[38;5;241m5\u001b[39m))\n\u001b[1;32m      5\u001b[0m \u001b[38;5;66;03m# Prima subplot (x-z view)\u001b[39;00m\n\u001b[0;32m----> 6\u001b[0m hit_class_colors \u001b[38;5;241m=\u001b[39m \u001b[43mnode_df_pi\u001b[49m\u001b[43m[\u001b[49m\u001b[43mnode_df_pi\u001b[49m\u001b[38;5;241;43m.\u001b[39;49m\u001b[43mEv\u001b[49m\u001b[43m \u001b[49m\u001b[38;5;241;43m==\u001b[39;49m\u001b[43m \u001b[49m\u001b[43mi\u001b[49m\u001b[43m]\u001b[49m\u001b[38;5;241;43m.\u001b[39;49m\u001b[43mhit_class\u001b[49m\u001b[38;5;241m.\u001b[39mmap({\u001b[38;5;241m0\u001b[39m: \u001b[38;5;124m'\u001b[39m\u001b[38;5;124mblue\u001b[39m\u001b[38;5;124m'\u001b[39m, \u001b[38;5;241m1\u001b[39m: \u001b[38;5;124m'\u001b[39m\u001b[38;5;124mgreen\u001b[39m\u001b[38;5;124m'\u001b[39m})\n\u001b[1;32m      7\u001b[0m axs[\u001b[38;5;241m0\u001b[39m]\u001b[38;5;241m.\u001b[39mscatter(node_df_pi[node_df_pi\u001b[38;5;241m.\u001b[39mEv \u001b[38;5;241m==\u001b[39m i]\u001b[38;5;241m.\u001b[39mzx_hit, node_df_pi[node_df_pi\u001b[38;5;241m.\u001b[39mEv \u001b[38;5;241m==\u001b[39m i]\u001b[38;5;241m.\u001b[39mx_hit, c\u001b[38;5;241m=\u001b[39mhit_class_colors, label\u001b[38;5;241m=\u001b[39m\u001b[38;5;124m'\u001b[39m\u001b[38;5;124mEvent Data\u001b[39m\u001b[38;5;124m'\u001b[39m)\n\u001b[1;32m      8\u001b[0m axs[\u001b[38;5;241m0\u001b[39m]\u001b[38;5;241m.\u001b[39mscatter(node_df_pi[node_df_pi\u001b[38;5;241m.\u001b[39mEv \u001b[38;5;241m==\u001b[39m i]\u001b[38;5;241m.\u001b[39mzx_hit, node_df_pi[node_df_pi\u001b[38;5;241m.\u001b[39mEv \u001b[38;5;241m==\u001b[39m i]\u001b[38;5;241m.\u001b[39mxMC, c\u001b[38;5;241m=\u001b[39m\u001b[38;5;124m'\u001b[39m\u001b[38;5;124mred\u001b[39m\u001b[38;5;124m'\u001b[39m, marker\u001b[38;5;241m=\u001b[39m\u001b[38;5;124m'\u001b[39m\u001b[38;5;124m+\u001b[39m\u001b[38;5;124m'\u001b[39m,label\u001b[38;5;241m=\u001b[39m\u001b[38;5;124m'\u001b[39m\u001b[38;5;124mMC\u001b[39m\u001b[38;5;124m'\u001b[39m)\n",
      "File \u001b[0;32m~/.conda/envs/py_env/lib/python3.8/site-packages/pandas/core/generic.py:5902\u001b[0m, in \u001b[0;36mNDFrame.__getattr__\u001b[0;34m(self, name)\u001b[0m\n\u001b[1;32m   5895\u001b[0m \u001b[38;5;28;01mif\u001b[39;00m (\n\u001b[1;32m   5896\u001b[0m     name \u001b[38;5;129;01mnot\u001b[39;00m \u001b[38;5;129;01min\u001b[39;00m \u001b[38;5;28mself\u001b[39m\u001b[38;5;241m.\u001b[39m_internal_names_set\n\u001b[1;32m   5897\u001b[0m     \u001b[38;5;129;01mand\u001b[39;00m name \u001b[38;5;129;01mnot\u001b[39;00m \u001b[38;5;129;01min\u001b[39;00m \u001b[38;5;28mself\u001b[39m\u001b[38;5;241m.\u001b[39m_metadata\n\u001b[1;32m   5898\u001b[0m     \u001b[38;5;129;01mand\u001b[39;00m name \u001b[38;5;129;01mnot\u001b[39;00m \u001b[38;5;129;01min\u001b[39;00m \u001b[38;5;28mself\u001b[39m\u001b[38;5;241m.\u001b[39m_accessors\n\u001b[1;32m   5899\u001b[0m     \u001b[38;5;129;01mand\u001b[39;00m \u001b[38;5;28mself\u001b[39m\u001b[38;5;241m.\u001b[39m_info_axis\u001b[38;5;241m.\u001b[39m_can_hold_identifiers_and_holds_name(name)\n\u001b[1;32m   5900\u001b[0m ):\n\u001b[1;32m   5901\u001b[0m     \u001b[38;5;28;01mreturn\u001b[39;00m \u001b[38;5;28mself\u001b[39m[name]\n\u001b[0;32m-> 5902\u001b[0m \u001b[38;5;28;01mreturn\u001b[39;00m \u001b[38;5;28;43mobject\u001b[39;49m\u001b[38;5;241;43m.\u001b[39;49m\u001b[38;5;21;43m__getattribute__\u001b[39;49m\u001b[43m(\u001b[49m\u001b[38;5;28;43mself\u001b[39;49m\u001b[43m,\u001b[49m\u001b[43m \u001b[49m\u001b[43mname\u001b[49m\u001b[43m)\u001b[49m\n",
      "\u001b[0;31mAttributeError\u001b[0m: 'DataFrame' object has no attribute 'hit_class'"
     ]
    },
    {
     "data": {
      "image/png": "[encoded data removed]",
      "text/plain": [
       "<Figure size 1000x500 with 2 Axes>"
      ]
     },
     "metadata": {},
     "output_type": "display_data"
    }
   ],
   "source": [
    "\n",
    "#common_events=common_events[5:20]\n",
    "for i in range(0,13):\n",
    "    fig, axs = plt.subplots(1, 2, figsize=(10, 5))\n",
    "\n",
    "    # Prima subplot (x-z view)\n",
    "    hit_class_colors = node_df_pi[node_df_pi.Ev == i].hit_class.map({0: 'blue', 1: 'green'})\n",
    "    axs[0].scatter(node_df_pi[node_df_pi.Ev == i].zx_hit, node_df_pi[node_df_pi.Ev == i].x_hit, c=hit_class_colors, label='Event Data')\n",
    "    axs[0].scatter(node_df_pi[node_df_pi.Ev == i].zx_hit, node_df_pi[node_df_pi.Ev == i].xMC, c='red', marker='+',label='MC')\n",
    "    axs[0].set_title(f'Event {i}_x-z view')\n",
    "    axs[0].set_ylim(-20, 20)\n",
    "    axs[0].set_xlim(-100, 2000)\n",
    "    axs[0].set_ylabel('x [mm] ')\n",
    "    axs[0].set_xlabel('z [mm]')\n",
    "\n",
    "    # Seconda subplot (y-z view)\n",
    "    hit_class_colorsy = node_df_y_pi[node_df_y_pi.Ev == i].hit_class.map({0: 'blue', 1: 'green'})\n",
    "    axs[1].scatter(node_df_y_pi[node_df_y_pi.Ev == i].zy_hit, node_df_y_pi[node_df_y_pi.Ev == i].y_hit, c=hit_class_colorsy, label='Event Data')\n",
    "    axs[1].scatter(node_df_y_pi[node_df_y_pi.Ev == i].zy_hit, node_df_y_pi[node_df_y_pi.Ev == i].yMC, c='red',marker='+', label='MC')\n",
    "    axs[1].set_title(f'Event {i}_y-z view')\n",
    "    axs[1].set_ylim(-20, 20)\n",
    "    axs[1].set_xlim(-100, 2000)\n",
    "    axs[1].set_ylabel('y [mm]')\n",
    "    axs[1].set_xlabel('z [mm]')\n",
    "\n",
    "    # Creazione della legenda\n",
    "    legend_labels = {'blue': 'Class 0', 'green': 'Class 1', 'red': 'Primary track'}\n",
    "    legend_handles = [plt.Line2D([0], [0], marker='o', color='w', label=legend_labels[color], markerfacecolor=color, markersize=10) for color in ['blue', 'green']]\n",
    "    legend_handles.append(plt.Line2D([0], [0], marker='+', color='red', linestyle='None', label=legend_labels['red'], markersize=10))\n",
    "\n",
    "    axs[0].legend(handles=legend_handles, loc='upper right')\n",
    "    axs[1].legend(handles=legend_handles, loc='upper right')\n",
    "\n",
    "    plt.savefig(f'/lustrehome/federicacuna/TB_Sept_2023_ml/evt_display/Evt_display_evt_z{i}.png')\n",
    "    plt.show()\n"
   ]
  },
  {
   "cell_type": "code",
   "execution_count": 23,
   "id": "38d9fc79-824d-43a7-b420-6d50cd6319f7",
   "metadata": {},
   "outputs": [
    {
     "data": {
      "text/html": [
       "<div>\n",
       "<style scoped>\n",
       "    .dataframe tbody tr th:only-of-type {\n",
       "        vertical-align: middle;\n",
       "    }\n",
       "\n",
       "    .dataframe tbody tr th {\n",
       "        vertical-align: top;\n",
       "    }\n",
       "\n",
       "    .dataframe thead th {\n",
       "        text-align: right;\n",
       "    }\n",
       "</style>\n",
       "<table border=\"1\" class=\"dataframe\">\n",
       "  <thead>\n",
       "    <tr style=\"text-align: right;\">\n",
       "      <th></th>\n",
       "      <th>Ev</th>\n",
       "      <th>ly</th>\n",
       "      <th>view</th>\n",
       "      <th>x_hit</th>\n",
       "      <th>zx_hit</th>\n",
       "      <th>dx_hit</th>\n",
       "      <th>PE</th>\n",
       "      <th>PID</th>\n",
       "      <th>xMC</th>\n",
       "    </tr>\n",
       "  </thead>\n",
       "  <tbody>\n",
       "    <tr>\n",
       "      <th>24</th>\n",
       "      <td>8</td>\n",
       "      <td>0</td>\n",
       "      <td>0</td>\n",
       "      <td>6.597</td>\n",
       "      <td>-30.466</td>\n",
       "      <td>0.84</td>\n",
       "      <td>32</td>\n",
       "      <td>-211.0</td>\n",
       "      <td>6.711</td>\n",
       "    </tr>\n",
       "    <tr>\n",
       "      <th>25</th>\n",
       "      <td>8</td>\n",
       "      <td>1</td>\n",
       "      <td>0</td>\n",
       "      <td>0.909</td>\n",
       "      <td>1164.320</td>\n",
       "      <td>0.21</td>\n",
       "      <td>9</td>\n",
       "      <td>-999.0</td>\n",
       "      <td>16.341</td>\n",
       "    </tr>\n",
       "  </tbody>\n",
       "</table>\n",
       "</div>"
      ],
      "text/plain": [
       "    Ev  ly  view  x_hit    zx_hit dx_hit  PE    PID     xMC\n",
       "24   8   0     0  6.597   -30.466   0.84  32 -211.0   6.711\n",
       "25   8   1     0  0.909  1164.320   0.21   9 -999.0  16.341"
      ]
     },
     "execution_count": 23,
     "metadata": {},
     "output_type": "execute_result"
    }
   ],
   "source": [
    "node_df_pi[node_df_pi.Ev == 8]"
   ]
  },
  {
   "cell_type": "code",
   "execution_count": 37,
   "id": "b4b7e800-6399-48ce-b637-477e99d15f86",
   "metadata": {
    "tags": []
   },
   "outputs": [
    {
     "data": {
      "text/html": [
       "<div>\n",
       "<style scoped>\n",
       "    .dataframe tbody tr th:only-of-type {\n",
       "        vertical-align: middle;\n",
       "    }\n",
       "\n",
       "    .dataframe tbody tr th {\n",
       "        vertical-align: top;\n",
       "    }\n",
       "\n",
       "    .dataframe thead th {\n",
       "        text-align: right;\n",
       "    }\n",
       "</style>\n",
       "<table border=\"1\" class=\"dataframe\">\n",
       "  <thead>\n",
       "    <tr style=\"text-align: right;\">\n",
       "      <th></th>\n",
       "      <th>Ev</th>\n",
       "      <th>ly</th>\n",
       "      <th>view</th>\n",
       "      <th>x_hit</th>\n",
       "      <th>zx_hit</th>\n",
       "      <th>dx_hit</th>\n",
       "      <th>PE</th>\n",
       "      <th>PID</th>\n",
       "      <th>xMC</th>\n",
       "    </tr>\n",
       "  </thead>\n",
       "  <tbody>\n",
       "    <tr>\n",
       "      <th>90</th>\n",
       "      <td>29</td>\n",
       "      <td>0</td>\n",
       "      <td>0</td>\n",
       "      <td>0.318</td>\n",
       "      <td>-30.521</td>\n",
       "      <td>0.07</td>\n",
       "      <td>33</td>\n",
       "      <td>-211.0</td>\n",
       "      <td>0.595</td>\n",
       "    </tr>\n",
       "    <tr>\n",
       "      <th>90</th>\n",
       "      <td>29</td>\n",
       "      <td>0</td>\n",
       "      <td>0</td>\n",
       "      <td>12.302</td>\n",
       "      <td>-30.521</td>\n",
       "      <td>2.29</td>\n",
       "      <td>7</td>\n",
       "      <td>-999.0</td>\n",
       "      <td>0.595</td>\n",
       "    </tr>\n",
       "    <tr>\n",
       "      <th>91</th>\n",
       "      <td>29</td>\n",
       "      <td>1</td>\n",
       "      <td>0</td>\n",
       "      <td>11.149</td>\n",
       "      <td>1164.463</td>\n",
       "      <td>1.19</td>\n",
       "      <td>24</td>\n",
       "      <td>-211.0</td>\n",
       "      <td>10.995</td>\n",
       "    </tr>\n",
       "    <tr>\n",
       "      <th>92</th>\n",
       "      <td>29</td>\n",
       "      <td>2</td>\n",
       "      <td>0</td>\n",
       "      <td>11.425</td>\n",
       "      <td>1202.107</td>\n",
       "      <td>1.9</td>\n",
       "      <td>16</td>\n",
       "      <td>-211.0</td>\n",
       "      <td>11.323</td>\n",
       "    </tr>\n",
       "  </tbody>\n",
       "</table>\n",
       "</div>"
      ],
      "text/plain": [
       "    Ev  ly  view   x_hit    zx_hit dx_hit  PE    PID     xMC\n",
       "90  29   0     0   0.318   -30.521   0.07  33 -211.0   0.595\n",
       "90  29   0     0  12.302   -30.521   2.29   7 -999.0   0.595\n",
       "91  29   1     0  11.149  1164.463   1.19  24 -211.0  10.995\n",
       "92  29   2     0  11.425  1202.107    1.9  16 -211.0  11.323"
      ]
     },
     "execution_count": 37,
     "metadata": {},
     "output_type": "execute_result"
    }
   ],
   "source": [
    "node_df_pi[node_df_pi.Ev==29]"
   ]
  },
  {
   "cell_type": "code",
   "execution_count": 45,
   "id": "88cefad8-b260-440f-b027-ca924d046d74",
   "metadata": {},
   "outputs": [
    {
     "data": {
      "text/html": [
       "<div>\n",
       "<style scoped>\n",
       "    .dataframe tbody tr th:only-of-type {\n",
       "        vertical-align: middle;\n",
       "    }\n",
       "\n",
       "    .dataframe tbody tr th {\n",
       "        vertical-align: top;\n",
       "    }\n",
       "\n",
       "    .dataframe thead th {\n",
       "        text-align: right;\n",
       "    }\n",
       "</style>\n",
       "<table border=\"1\" class=\"dataframe\">\n",
       "  <thead>\n",
       "    <tr style=\"text-align: right;\">\n",
       "      <th></th>\n",
       "      <th>Ev</th>\n",
       "      <th>ly</th>\n",
       "      <th>view</th>\n",
       "      <th>x_hit</th>\n",
       "      <th>zx_hit</th>\n",
       "      <th>dx_hit</th>\n",
       "      <th>PE</th>\n",
       "      <th>PID</th>\n",
       "      <th>xMC</th>\n",
       "    </tr>\n",
       "  </thead>\n",
       "  <tbody>\n",
       "    <tr>\n",
       "      <th>673</th>\n",
       "      <td>200</td>\n",
       "      <td>0</td>\n",
       "      <td>0</td>\n",
       "      <td>-4.494</td>\n",
       "      <td>-30.575</td>\n",
       "      <td>0.42</td>\n",
       "      <td>62</td>\n",
       "      <td>-211.0</td>\n",
       "      <td>-4.355846</td>\n",
       "    </tr>\n",
       "    <tr>\n",
       "      <th>674</th>\n",
       "      <td>200</td>\n",
       "      <td>1</td>\n",
       "      <td>0</td>\n",
       "      <td>-8.926</td>\n",
       "      <td>1164.428</td>\n",
       "      <td>1.0</td>\n",
       "      <td>41</td>\n",
       "      <td>-211.0</td>\n",
       "      <td>-8.863084</td>\n",
       "    </tr>\n",
       "    <tr>\n",
       "      <th>675</th>\n",
       "      <td>200</td>\n",
       "      <td>2</td>\n",
       "      <td>0</td>\n",
       "      <td>-9.091</td>\n",
       "      <td>1201.820</td>\n",
       "      <td>1.45</td>\n",
       "      <td>16</td>\n",
       "      <td>-211.0</td>\n",
       "      <td>-9.004117</td>\n",
       "    </tr>\n",
       "    <tr>\n",
       "      <th>676</th>\n",
       "      <td>200</td>\n",
       "      <td>3</td>\n",
       "      <td>0</td>\n",
       "      <td>-11.366</td>\n",
       "      <td>1787.463</td>\n",
       "      <td>2.37</td>\n",
       "      <td>10</td>\n",
       "      <td>-211.0</td>\n",
       "      <td>-11.213009</td>\n",
       "    </tr>\n",
       "  </tbody>\n",
       "</table>\n",
       "</div>"
      ],
      "text/plain": [
       "      Ev  ly  view   x_hit    zx_hit dx_hit  PE    PID        xMC\n",
       "673  200   0     0  -4.494   -30.575   0.42  62 -211.0  -4.355846\n",
       "674  200   1     0  -8.926  1164.428    1.0  41 -211.0  -8.863084\n",
       "675  200   2     0  -9.091  1201.820   1.45  16 -211.0  -9.004117\n",
       "676  200   3     0 -11.366  1787.463   2.37  10 -211.0 -11.213009"
      ]
     },
     "execution_count": 45,
     "metadata": {},
     "output_type": "execute_result"
    }
   ],
   "source": [
    "node_df_pi[node_df_pi.Ev == 200]"
   ]
  },
  {
   "cell_type": "code",
   "execution_count": 64,
   "id": "e00738d0-b548-4665-97b1-060b98763c49",
   "metadata": {},
   "outputs": [
    {
     "data": {
      "text/html": [
       "<div>\n",
       "<style scoped>\n",
       "    .dataframe tbody tr th:only-of-type {\n",
       "        vertical-align: middle;\n",
       "    }\n",
       "\n",
       "    .dataframe tbody tr th {\n",
       "        vertical-align: top;\n",
       "    }\n",
       "\n",
       "    .dataframe thead th {\n",
       "        text-align: right;\n",
       "    }\n",
       "</style>\n",
       "<table border=\"1\" class=\"dataframe\">\n",
       "  <thead>\n",
       "    <tr style=\"text-align: right;\">\n",
       "      <th></th>\n",
       "      <th>Ev</th>\n",
       "      <th>ly</th>\n",
       "      <th>view</th>\n",
       "      <th>x_hit</th>\n",
       "      <th>zx_hit</th>\n",
       "      <th>dx_hit</th>\n",
       "      <th>PE</th>\n",
       "      <th>PID</th>\n",
       "      <th>xMC</th>\n",
       "    </tr>\n",
       "  </thead>\n",
       "  <tbody>\n",
       "    <tr>\n",
       "      <th>11192</th>\n",
       "      <td>3050</td>\n",
       "      <td>0</td>\n",
       "      <td>0</td>\n",
       "      <td>-2.427</td>\n",
       "      <td>-30.575</td>\n",
       "      <td>0.31</td>\n",
       "      <td>32</td>\n",
       "      <td>-211.0</td>\n",
       "      <td>-2.338225</td>\n",
       "    </tr>\n",
       "    <tr>\n",
       "      <th>11193</th>\n",
       "      <td>3050</td>\n",
       "      <td>1</td>\n",
       "      <td>0</td>\n",
       "      <td>3.498</td>\n",
       "      <td>1164.428</td>\n",
       "      <td>0.48</td>\n",
       "      <td>28</td>\n",
       "      <td>-211.0</td>\n",
       "      <td>3.837422</td>\n",
       "    </tr>\n",
       "    <tr>\n",
       "      <th>11194</th>\n",
       "      <td>3050</td>\n",
       "      <td>2</td>\n",
       "      <td>0</td>\n",
       "      <td>3.742</td>\n",
       "      <td>1201.928</td>\n",
       "      <td>0.57</td>\n",
       "      <td>24</td>\n",
       "      <td>-211.0</td>\n",
       "      <td>4.031218</td>\n",
       "    </tr>\n",
       "    <tr>\n",
       "      <th>11195</th>\n",
       "      <td>3050</td>\n",
       "      <td>3</td>\n",
       "      <td>0</td>\n",
       "      <td>6.08</td>\n",
       "      <td>1787.428</td>\n",
       "      <td>0.68</td>\n",
       "      <td>41</td>\n",
       "      <td>-211.0</td>\n",
       "      <td>7.057018</td>\n",
       "    </tr>\n",
       "  </tbody>\n",
       "</table>\n",
       "</div>"
      ],
      "text/plain": [
       "         Ev  ly  view  x_hit    zx_hit dx_hit  PE    PID       xMC\n",
       "11192  3050   0     0 -2.427   -30.575   0.31  32 -211.0 -2.338225\n",
       "11193  3050   1     0  3.498  1164.428   0.48  28 -211.0  3.837422\n",
       "11194  3050   2     0  3.742  1201.928   0.57  24 -211.0  4.031218\n",
       "11195  3050   3     0   6.08  1787.428   0.68  41 -211.0  7.057018"
      ]
     },
     "execution_count": 64,
     "metadata": {},
     "output_type": "execute_result"
    }
   ],
   "source": [
    "node_df_pi[node_df_pi.Ev == 3050]"
   ]
  },
  {
   "cell_type": "code",
   "execution_count": 61,
   "id": "8aff8174-afb4-4119-a07c-65050b2c2a5e",
   "metadata": {},
   "outputs": [
    {
     "data": {
      "text/html": [
       "<div>\n",
       "<style scoped>\n",
       "    .dataframe tbody tr th:only-of-type {\n",
       "        vertical-align: middle;\n",
       "    }\n",
       "\n",
       "    .dataframe tbody tr th {\n",
       "        vertical-align: top;\n",
       "    }\n",
       "\n",
       "    .dataframe thead th {\n",
       "        text-align: right;\n",
       "    }\n",
       "</style>\n",
       "<table border=\"1\" class=\"dataframe\">\n",
       "  <thead>\n",
       "    <tr style=\"text-align: right;\">\n",
       "      <th></th>\n",
       "      <th>Ev</th>\n",
       "      <th>ly</th>\n",
       "      <th>view</th>\n",
       "      <th>y_hit</th>\n",
       "      <th>zy_hit</th>\n",
       "      <th>dy_hit</th>\n",
       "      <th>PE</th>\n",
       "      <th>PID</th>\n",
       "      <th>yMC</th>\n",
       "    </tr>\n",
       "  </thead>\n",
       "  <tbody>\n",
       "    <tr>\n",
       "      <th>7790</th>\n",
       "      <td>2100</td>\n",
       "      <td>0</td>\n",
       "      <td>1</td>\n",
       "      <td>-14.497</td>\n",
       "      <td>-29.750</td>\n",
       "      <td>2.47</td>\n",
       "      <td>8</td>\n",
       "      <td>-999.0</td>\n",
       "      <td>-3.515317</td>\n",
       "    </tr>\n",
       "    <tr>\n",
       "      <th>7790</th>\n",
       "      <td>2100</td>\n",
       "      <td>0</td>\n",
       "      <td>1</td>\n",
       "      <td>-8.07</td>\n",
       "      <td>-29.750</td>\n",
       "      <td>1.53</td>\n",
       "      <td>12</td>\n",
       "      <td>-999.0</td>\n",
       "      <td>-3.515317</td>\n",
       "    </tr>\n",
       "    <tr>\n",
       "      <th>7790</th>\n",
       "      <td>2100</td>\n",
       "      <td>0</td>\n",
       "      <td>1</td>\n",
       "      <td>-3.591</td>\n",
       "      <td>-29.750</td>\n",
       "      <td>0.49</td>\n",
       "      <td>24</td>\n",
       "      <td>-211.0</td>\n",
       "      <td>-3.515317</td>\n",
       "    </tr>\n",
       "    <tr>\n",
       "      <th>7791</th>\n",
       "      <td>2100</td>\n",
       "      <td>1</td>\n",
       "      <td>1</td>\n",
       "      <td>-10.106</td>\n",
       "      <td>1165.393</td>\n",
       "      <td>1.63</td>\n",
       "      <td>17</td>\n",
       "      <td>-211.0</td>\n",
       "      <td>-9.919345</td>\n",
       "    </tr>\n",
       "    <tr>\n",
       "      <th>7791</th>\n",
       "      <td>2100</td>\n",
       "      <td>1</td>\n",
       "      <td>1</td>\n",
       "      <td>-1.091</td>\n",
       "      <td>1165.393</td>\n",
       "      <td>0.2</td>\n",
       "      <td>14</td>\n",
       "      <td>-999.0</td>\n",
       "      <td>-9.919345</td>\n",
       "    </tr>\n",
       "    <tr>\n",
       "      <th>7791</th>\n",
       "      <td>2100</td>\n",
       "      <td>1</td>\n",
       "      <td>1</td>\n",
       "      <td>7.159</td>\n",
       "      <td>1165.393</td>\n",
       "      <td>1.32</td>\n",
       "      <td>13</td>\n",
       "      <td>-999.0</td>\n",
       "      <td>-9.919345</td>\n",
       "    </tr>\n",
       "    <tr>\n",
       "      <th>7792</th>\n",
       "      <td>2100</td>\n",
       "      <td>2</td>\n",
       "      <td>1</td>\n",
       "      <td>-10.245</td>\n",
       "      <td>1207.965</td>\n",
       "      <td>1.37</td>\n",
       "      <td>13</td>\n",
       "      <td>-211.0</td>\n",
       "      <td>-10.147462</td>\n",
       "    </tr>\n",
       "    <tr>\n",
       "      <th>7793</th>\n",
       "      <td>2100</td>\n",
       "      <td>3</td>\n",
       "      <td>1</td>\n",
       "      <td>-13.525</td>\n",
       "      <td>1788.393</td>\n",
       "      <td>1.96</td>\n",
       "      <td>19</td>\n",
       "      <td>-211.0</td>\n",
       "      <td>-13.257615</td>\n",
       "    </tr>\n",
       "  </tbody>\n",
       "</table>\n",
       "</div>"
      ],
      "text/plain": [
       "        Ev  ly  view   y_hit    zy_hit dy_hit  PE    PID        yMC\n",
       "7790  2100   0     1 -14.497   -29.750   2.47   8 -999.0  -3.515317\n",
       "7790  2100   0     1   -8.07   -29.750   1.53  12 -999.0  -3.515317\n",
       "7790  2100   0     1  -3.591   -29.750   0.49  24 -211.0  -3.515317\n",
       "7791  2100   1     1 -10.106  1165.393   1.63  17 -211.0  -9.919345\n",
       "7791  2100   1     1  -1.091  1165.393    0.2  14 -999.0  -9.919345\n",
       "7791  2100   1     1   7.159  1165.393   1.32  13 -999.0  -9.919345\n",
       "7792  2100   2     1 -10.245  1207.965   1.37  13 -211.0 -10.147462\n",
       "7793  2100   3     1 -13.525  1788.393   1.96  19 -211.0 -13.257615"
      ]
     },
     "execution_count": 61,
     "metadata": {},
     "output_type": "execute_result"
    }
   ],
   "source": [
    "node_df_y_pi[node_df_y_pi.Ev == 2100]"
   ]
  },
  {
   "cell_type": "code",
   "execution_count": 15,
   "id": "7afc9fd7-6d63-445e-bcc1-58a6dd32fcf7",
   "metadata": {
    "tags": []
   },
   "outputs": [
    {
     "data": {
      "image/png": "[encoded data removed]",
      "text/plain": [
       "<Figure size 1000x500 with 2 Axes>"
      ]
     },
     "metadata": {},
     "output_type": "display_data"
    },
    {
     "data": {
      "image/png": "[encoded data removed]",
      "text/plain": [
       "<Figure size 1000x500 with 2 Axes>"
      ]
     },
     "metadata": {},
     "output_type": "display_data"
    },
    {
     "data": {
      "image/png": "[encoded data removed]",
      "text/plain": [
       "<Figure size 1000x500 with 2 Axes>"
      ]
     },
     "metadata": {},
     "output_type": "display_data"
    },
    {
     "data": {
      "image/png": "[encoded data removed]",
      "text/plain": [
       "<Figure size 1000x500 with 2 Axes>"
      ]
     },
     "metadata": {},
     "output_type": "display_data"
    },
    {
     "data": {
      "image/png": "[encoded data removed]",
      "text/plain": [
       "<Figure size 1000x500 with 2 Axes>"
      ]
     },
     "metadata": {},
     "output_type": "display_data"
    }
   ],
   "source": [
    "#common_events=common_events[5:20]\n",
    "for ev in range(0,5):#len(list(common_events))):\n",
    "    i=list(common_events)[ev]\n",
    "    fig, axs = plt.subplots(1, 2, figsize=(10, 5))\n",
    "\n",
    "    # Prima subplot (x-z view)\n",
    "    colors = ['gray' if PID == -999 else 'blue' for PID in node_df_pi[node_df_pi.Ev == i]['PID']]\n",
    "    \n",
    "    axs[0].scatter(node_df_pi[node_df_pi.Ev == i].zx_hit, node_df_pi[node_df_pi.Ev == i].x_hit, color=colors,label='Event Data')\n",
    "    axs[0].scatter(node_df_pi[node_df_pi.Ev == i].zx_hit, node_df_pi[node_df_pi.Ev == i].xMC, c='red', marker='+',label='MC')\n",
    "    axs[0].set_title(f'Event {i}_x-z view')\n",
    "    axs[0].set_ylim(-50, 50)\n",
    "    axs[0].set_xlim(-100, 2000)\n",
    "    axs[0].set_ylabel('x [mm] ')\n",
    "    axs[0].set_xlabel('z [mm]')\n",
    "\n",
    "    # Seconda subplot (y-z view)\n",
    "    colorsy = ['gray' if PID == -999 else 'blue' for PID in node_df_y_pi[node_df_y_pi.Ev == i]['PID']]\n",
    "    axs[1].scatter(node_df_y_pi[node_df_y_pi.Ev == i].zy_hit, node_df_y_pi[node_df_y_pi.Ev == i].y_hit, color=colorsy,label='Event Data')\n",
    "    axs[1].scatter(node_df_y_pi[node_df_y_pi.Ev == i].zy_hit, node_df_y_pi[node_df_y_pi.Ev == i].yMC, c='red',marker='+', label='MC')\n",
    "    axs[1].set_title(f'Event {i}_y-z view')\n",
    "    axs[1].set_ylim(-50, 50)\n",
    "    axs[1].set_xlim(-100, 2000)\n",
    "    axs[1].set_ylabel('y [mm]')\n",
    "    axs[1].set_xlabel('z [mm]')\n",
    "\n",
    "       # plt.savefig(f'/lustrehome/federicacuna/TB_Sept_2023_ml/evt_display/Evt_display_evt_z{i}.png')\n",
    "    plt.show()\n"
   ]
  },
  {
   "cell_type": "code",
   "execution_count": 16,
   "id": "992eb6ec-a0ad-4945-9641-bb6ca316ea4b",
   "metadata": {},
   "outputs": [
    {
     "data": {
      "image/png": "[encoded data removed]",
      "text/plain": [
       "<Figure size 640x480 with 1 Axes>"
      ]
     },
     "metadata": {},
     "output_type": "display_data"
    }
   ],
   "source": [
    "node=node_df_pi[node_df_pi.PID==-211]\n",
    "nodey=node_df_y_pi[node_df_y_pi.PID==-211]\n",
    "plt.hist(node[node.ly==0].x_hit,bins=100,color='blue',label='x impact poub')\n",
    "plt.hist(nodey[nodey.ly==0].y_hit,bins=100,color='orange')\n",
    "\n",
    "plt.xlim(-20,20)\n",
    "plt.show()"
   ]
  },
  {
   "cell_type": "code",
   "execution_count": 80,
   "id": "b3f62921-a184-4f94-ab7f-414f7abc5846",
   "metadata": {
    "tags": []
   },
   "outputs": [
    {
     "data": {
      "image/png": "[encoded data removed]",
      "text/plain": [
       "<Figure size 432x288 with 1 Axes>"
      ]
     },
     "metadata": {
      "needs_background": "light"
     },
     "output_type": "display_data"
    }
   ],
   "source": [
    "plt.hist(node_df_pi[node_df_pi.PID==-999].PE/len(node_df_pi),color='blue')\n",
    "plt.hist(node_df_pi[node_df_pi.PID!=-999].PE/len(node_df_pi),color='red',alpha=0.1)\n",
    "plt.yscale('log')\n",
    "plt.show()"
   ]
  },
  {
   "cell_type": "code",
   "execution_count": 16,
   "id": "0b9feba9-aede-425d-9860-faed67d33172",
   "metadata": {
    "tags": []
   },
   "outputs": [],
   "source": [
    "# import matplotlib.pyplot as plt\n",
    "# common_events=common_events[:5]\n",
    "\n",
    "# for i in common_events:\n",
    "#     fig, axs = plt.subplots(1, 2, figsize=(10, 5))\n",
    "\n",
    "#     # Prima subplot (x-z view)\n",
    "#     hit_class_colors = node_df_pi[node_df_pi.Ev == i].hit_class.map({0: 'blue', 1: 'green'})\n",
    "#     axs[0].scatter(node_df_pi[node_df_pi.Ev == i].x_hit, node_df_pi[node_df_pi.Ev == i].zx_hit, c=hit_class_colors, label='Event Data')\n",
    "#     axs[0].scatter(node_df_pi[node_df_pi.Ev == i].xMC, node_df_pi[node_df_pi.Ev == i].zx_hit, c='red', marker='+',label='MC')\n",
    "#     axs[0].set_title(f'Event {i}_x-z view')\n",
    "#     axs[0].set_xlim(-50, 50)\n",
    "#     axs[0].set_ylabel('z [mm] ')\n",
    "#     axs[0].set_xlabel('x [mm]')\n",
    "\n",
    "#     # Seconda subplot (y-z view)\n",
    "#     hit_class_colorsy = node_df_y_pi[node_df_y_pi.Ev == i].hit_class.map({0: 'blue', 1: 'green'})\n",
    "#     axs[1].scatter(node_df_y_pi[node_df_y_pi.Ev == i].y_hit, node_df_y_pi[node_df_y_pi.Ev == i].zy_hit, c=hit_class_colorsy, label='Event Data')\n",
    "#     axs[1].scatter(node_df_y_pi[node_df_y_pi.Ev == i].yMC, node_df_y_pi[node_df_y_pi.Ev == i].zy_hit, c='red',marker='+', label='MC')\n",
    "#     axs[1].set_title(f'Event {i}_y-z view')\n",
    "#     axs[1].set_xlim(-50, 50)\n",
    "#     axs[1].set_ylabel('z [mm]')\n",
    "#     axs[1].set_xlabel('y [mm]')\n",
    "\n",
    "#     # Creazione della legenda\n",
    "#     legend_labels = {'blue': 'Class 0', 'green': 'Class 1', 'red': 'Primary track'}\n",
    "#     legend_handles = [plt.Line2D([0], [0], marker='o', color='w', label=legend_labels[color], markerfacecolor=color, markersize=10) for color in ['blue', 'green']]\n",
    "#     legend_handles.append(plt.Line2D([0], [0], marker='+', color='red', linestyle='None', label=legend_labels['red'], markersize=10))\n",
    "\n",
    "#     axs[0].legend(handles=legend_handles, loc='upper right')\n",
    "#     axs[1].legend(handles=legend_handles, loc='upper right')\n",
    "\n",
    "#     plt.show()\n"
   ]
  },
  {
   "cell_type": "code",
   "execution_count": 22,
   "id": "bdaca8f7-5583-4312-bff0-7df4e58a312c",
   "metadata": {
    "tags": []
   },
   "outputs": [
    {
     "data": {
      "image/png": "[encoded data removed]",
      "text/plain": [
       "<Figure size 1000x500 with 2 Axes>"
      ]
     },
     "metadata": {},
     "output_type": "display_data"
    },
    {
     "data": {
      "image/png": "[encoded data removed]",
      "text/plain": [
       "<Figure size 1000x500 with 2 Axes>"
      ]
     },
     "metadata": {},
     "output_type": "display_data"
    },
    {
     "data": {
      "image/png": "[encoded data removed]",
      "text/plain": [
       "<Figure size 1000x500 with 2 Axes>"
      ]
     },
     "metadata": {},
     "output_type": "display_data"
    },
    {
     "data": {
      "image/png": "[encoded data removed]",
      "text/plain": [
       "<Figure size 1000x500 with 2 Axes>"
      ]
     },
     "metadata": {},
     "output_type": "display_data"
    },
    {
     "data": {
      "image/png": "[encoded data removed]",
      "text/plain": [
       "<Figure size 1000x500 with 2 Axes>"
      ]
     },
     "metadata": {},
     "output_type": "display_data"
    }
   ],
   "source": [
    "for ev in range(0,5):\n",
    "    fig, axs = plt.subplots(1, 2, figsize=(10, 5))\n",
    "    axs[0].scatter(exp_df_y[exp_df_y.Ev == ev].y_hit, exp_df_y[exp_df_y.Ev == ev].zy_hit, c='orange', marker='+', label='exp_data')\n",
    "    axs[0].set_title(f'Event {ev}')\n",
    "    axs[0].set_xlim(-50, 50)\n",
    "    axs[0].set_ylabel('z [mm]')\n",
    "    axs[0].set_xlabel('y [mm]')\n",
    "\n",
    "    # Secondo subplot: ly-x\n",
    "    axs[1].scatter(exp_df_y[exp_df_y.Ev == ev].y_hit, exp_df_y[exp_df_y.Ev == ev].ly, c='orange', marker='+', label='exp_data')\n",
    "    axs[1].set_title(f'Event {ev}')\n",
    "    axs[1].set_xlim(-50, 50)\n",
    "    axs[1].set_ylabel('ly')\n",
    "    axs[1].set_xlabel('y [mm]')\n",
    "\n",
    "    # Regola automatica la sovrapposizione dei subplot\n",
    "    plt.tight_layout()\n",
    "\n",
    "    # Mostra i subplot\n",
    "    plt.show()    "
   ]
  },
  {
   "cell_type": "code",
   "execution_count": 23,
   "id": "068564e4-b76a-45f6-abcd-2a84f018c97b",
   "metadata": {
    "tags": []
   },
   "outputs": [],
   "source": [
    "ev_with_noise=node_df_pi[node_df_pi.PID==-999].Ev.unique()"
   ]
  },
  {
   "cell_type": "code",
   "execution_count": 24,
   "id": "cfa3a50c-671f-4968-9d55-e61a6509cc23",
   "metadata": {
    "tags": []
   },
   "outputs": [
    {
     "data": {
      "image/png": "[encoded data removed]",
      "text/plain": [
       "<Figure size 640x480 with 1 Axes>"
      ]
     },
     "metadata": {},
     "output_type": "display_data"
    },
    {
     "data": {
      "image/png": "[encoded data removed]",
      "text/plain": [
       "<Figure size 640x480 with 1 Axes>"
      ]
     },
     "metadata": {},
     "output_type": "display_data"
    }
   ],
   "source": [
    "for i in range(0,2):#len(ev_with_noise)):\n",
    "    hits_x=node_df_pi[node_df_pi.Ev==ev_with_noise[i]].x_hit\n",
    "    hits_zx=node_df_pi[node_df_pi.Ev==ev_with_noise[i]].zx_hit    \n",
    "    hits_ly=node_df_pi[node_df_pi.Ev==ev_with_noise[i]].ly\n",
    "    hits_pid=node_df_pi[node_df_pi.Ev==ev_with_noise[i]].PID\n",
    "    colors=[]\n",
    "    for pid in hits_pid:\n",
    "        if pid==-999:\n",
    "            colors.append('black')\n",
    "        elif pid == 2212:\n",
    "            colors.append('red')\n",
    "        else:\n",
    "            colors.append('blue')\n",
    "    #colors = ['black' if pid == -999 else 'blue' for pid in hits_pid]\n",
    "    plt.title(f'Event {ev_with_noise[i]}')\n",
    "    plt.scatter(hits_x,hits_ly,color=colors)\n",
    "    plt.xlim(-50,50)\n",
    "    plt.show()"
   ]
  },
  {
   "cell_type": "code",
   "execution_count": 25,
   "id": "34edde29-ba1c-4619-9f17-b8ffc91fdb7a",
   "metadata": {
    "tags": []
   },
   "outputs": [
    {
     "data": {
      "text/plain": [
       "<matplotlib.collections.PathCollection at 0x7fc8fbf78e50>"
      ]
     },
     "execution_count": 25,
     "metadata": {},
     "output_type": "execute_result"
    },
    {
     "data": {
      "image/png": "[encoded data removed]",
      "text/plain": [
       "<Figure size 640x480 with 1 Axes>"
      ]
     },
     "metadata": {},
     "output_type": "display_data"
    }
   ],
   "source": [
    "plt.scatter(node_df_pi.ly,node_df_pi.zx_hit)"
   ]
  },
  {
   "cell_type": "code",
   "execution_count": 26,
   "id": "06b6900f-a0aa-44a8-9007-f1b227003c3b",
   "metadata": {
    "tags": []
   },
   "outputs": [
    {
     "data": {
      "text/plain": [
       "Text(0, 0.5, 'Entries')"
      ]
     },
     "execution_count": 26,
     "metadata": {},
     "output_type": "execute_result"
    },
    {
     "data": {
      "image/png": "[encoded data removed]",
      "text/plain": [
       "<Figure size 1000x500 with 2 Axes>"
      ]
     },
     "metadata": {},
     "output_type": "display_data"
    }
   ],
   "source": [
    "fig, axs = plt.subplots(1, 2, figsize=(10, 5))\n",
    "axs[0].hist(node_df_pi.x_hit)\n",
    "axs[0].set_title(' simulated x_hit distribution ')\n",
    "# axs[0].set_ylim(0, 30000)\n",
    "axs[0].set_ylabel('Entries')\n",
    "axs[0].set_xlabel('x [mm]')\n",
    "\n",
    "axs[1].hist(exp_df.x_hit,bins=100)\n",
    "axs[1].set_title(' exp x_hit distribution ')\n",
    "# axs[1].set_ylim(0, 30000)\n",
    "axs[1].set_ylabel('Entries')\n"
   ]
  },
  {
   "cell_type": "code",
   "execution_count": 27,
   "id": "093f8818-31a4-44a4-a3c7-c550f74895f7",
   "metadata": {
    "tags": []
   },
   "outputs": [
    {
     "data": {
      "text/plain": [
       "Text(0.5, 0, 'y [mm]')"
      ]
     },
     "execution_count": 27,
     "metadata": {},
     "output_type": "execute_result"
    },
    {
     "data": {
      "image/png": "[encoded data removed]",
      "text/plain": [
       "<Figure size 1000x500 with 2 Axes>"
      ]
     },
     "metadata": {},
     "output_type": "display_data"
    }
   ],
   "source": [
    "fig, axs = plt.subplots(1, 2, figsize=(10, 5))\n",
    "axs[0].hist(node_df_y_pi.y_hit,bins=100)\n",
    "axs[0].set_title(' simulated y_hit distribution ')\n",
    "axs[0].set_ylim(0, 30000)\n",
    "axs[0].set_ylabel('Entries')\n",
    "axs[0].set_xlabel('y [mm]')\n",
    "\n",
    "axs[1].hist(exp_df_y.y_hit,bins=100)\n",
    "axs[1].set_title(' exp x_hit distribution ')\n",
    "axs[1].set_ylim(0, 30000)\n",
    "axs[1].set_ylabel('Entries')\n",
    "axs[1].set_xlabel('y [mm]')"
   ]
  },
  {
   "cell_type": "code",
   "execution_count": 28,
   "id": "06be1945-46a3-4856-8387-c50cdeef95bb",
   "metadata": {
    "tags": []
   },
   "outputs": [
    {
     "data": {
      "image/png": "[encoded data removed]",
      "text/plain": [
       "<Figure size 640x480 with 1 Axes>"
      ]
     },
     "metadata": {},
     "output_type": "display_data"
    }
   ],
   "source": [
    "plt.scatter(exp_df[:10000].x_hit,exp_df_y[:10000].y_hit)\n",
    "plt.xlim(-20,20)\n",
    "plt.ylim(-20,20)\n",
    "plt.xticks(np.arange(-20,20, step=2.),fontsize=8)\n",
    "plt.yticks(np.arange(-20,20, step=2.),fontsize=8)\n",
    "plt.show()"
   ]
  },
  {
   "cell_type": "code",
   "execution_count": 29,
   "id": "81fbec83-e264-4f02-b444-2ec82cb31c11",
   "metadata": {},
   "outputs": [
    {
     "data": {
      "image/png": "[encoded data removed]",
      "text/plain": [
       "<Figure size 640x480 with 1 Axes>"
      ]
     },
     "metadata": {},
     "output_type": "display_data"
    }
   ],
   "source": [
    "plt.scatter(node_df_pi.xMC[:1000],node_df_y_pi[:1000].yMC)\n",
    "plt.xlim(-20,20)\n",
    "plt.ylim(-20,20)\n",
    "plt.xticks(np.arange(-20,20, step=2.),fontsize=8)\n",
    "plt.yticks(np.arange(-20,20, step=2.),fontsize=8)\n",
    "plt.show()"
   ]
  },
  {
   "cell_type": "code",
   "execution_count": 5,
   "id": "a0647e4f-5264-41be-bb03-70b29b43c4ef",
   "metadata": {
    "tags": []
   },
   "outputs": [],
   "source": [
    "#####hitclass \n",
    "node_df_pi1=pd.read_parquet('../../Data/preprocessed/raw/pi-_10GeV_4ly_1e-4/TrkData_viewx_cl_TB_2023_T10_Sept_pi-Mono_10000_onAxis_10000-evt-400_pitch0.25node_df.parquet')\n",
    "node_df_pi2=pd.read_parquet('../../Data/preprocessed/raw/pi-_10GeV_4ly_1e-4/TrkData_viewx_cl_TB_2023_T10_Sept_pi-Mono_10000_onAxis_10000-evt-500_pitch0.25node_df.parquet')\n",
    "node_df_pi3=pd.read_parquet('../../Data/preprocessed/raw/pi-_10GeV_4ly_1e-4/TrkData_viewx_cl_TB_2023_T10_Sept_pi-Mono_10000_onAxis_10000-evt-550_pitch0.25node_df.parquet')\n",
    "node_df_pi4=pd.read_parquet('../../Data/preprocessed/raw/pi-_10GeV_4ly_1e-4/TrkData_viewx_cl_TB_2023_T10_Sept_pi-Mono_10000_onAxis_10000-evt-300_pitch0.25node_df.parquet')\n",
    "# node_df_y_pi1=pd.read_parquet('../../Data/preprocessed/raw/pi-_10GeV_4ly/TrkData_viewy_cl_TB_2023_T10_Sept_pi-Mono_10000_onAxis_10000-evt-100_pitch0.25node_df.parquet')\n",
    "# node_df_y_pi2=pd.read_parquet('../../Data/preprocessed/raw/pi-_10GeV_4ly/TrkData_viewy_cl_TB_2023_T10_Sept_pi-Mono_10000_onAxis_10000-evt-120_pitch0.25node_df.parquet')"
   ]
  },
  {
   "cell_type": "code",
   "execution_count": 6,
   "id": "e1d8cf9a-bfd0-4e39-a51d-cc5da7b38964",
   "metadata": {
    "tags": []
   },
   "outputs": [
    {
     "data": {
      "text/plain": [
       "<Axes: >"
      ]
     },
     "execution_count": 6,
     "metadata": {},
     "output_type": "execute_result"
    },
    {
     "data": {
      "image/png": "[encoded data removed]",
      "text/plain": [
       "<Figure size 432x288 with 1 Axes>"
      ]
     },
     "metadata": {
      "needs_background": "light"
     },
     "output_type": "display_data"
    }
   ],
   "source": [
    "list_HS=[node_df_pi,node_df_pi1,node_df_pi2,node_df_pi3,node_df_pi4]\n",
    "node_df_piHS=pd.concat(list_HS,ignore_index=True)\n",
    "hit_count = node_df_piHS['hit_class'].value_counts().sort_index()\n",
    "hit_count/=len(node_df_piHS)\n",
    "hit_count.plot(kind='bar', rot=1, color=['blue', 'orange'])"
   ]
  },
  {
   "cell_type": "code",
   "execution_count": 42,
   "id": "b2395b25-aaad-4899-bf03-27356012e37e",
   "metadata": {},
   "outputs": [
    {
     "data": {
      "text/plain": [
       "0    0.511916\n",
       "1    0.488084\n",
       "Name: hit_class, dtype: float64"
      ]
     },
     "execution_count": 42,
     "metadata": {},
     "output_type": "execute_result"
    }
   ],
   "source": [
    "hit_count"
   ]
  },
  {
   "cell_type": "code",
   "execution_count": null,
   "id": "069497b6-19a0-402d-887c-2ec07ec50de3",
   "metadata": {},
   "outputs": [],
   "source": [
    "plt.hist(node_df_piHS[node_df_piHS.PID==-999].PE/len(node_df_piHS),color='blue')\n",
    "plt.hist(node_df_piHS[node_df_piHS.PID!=-999].PE/len(node_df_piHS),color='red',alpha=0.1)\n",
    "plt.yscale('log')\n",
    "plt.show()"
   ]
  },
  {
   "cell_type": "code",
   "execution_count": 43,
   "id": "e98ee99d-bf3d-4585-97cd-271469dcd587",
   "metadata": {},
   "outputs": [],
   "source": [
    "node_df_pi1y=pd.read_parquet('../../Data/preprocessed/raw/pi-_10GeV_4ly_2e-4/TrkData_viewy_cl_TB_2023_T10_Sept_pi-Mono_10000_onAxis_10000-evt-400_pitch0.25node_df.parquet')\n",
    "node_df_pi2y=pd.read_parquet('../../Data/preprocessed/raw/pi-_10GeV_4ly_2e-4/TrkData_viewy_cl_TB_2023_T10_Sept_pi-Mono_10000_onAxis_10000-evt-500_pitch0.25node_df.parquet')\n",
    "node_df_pi3y=pd.read_parquet('../../Data/preprocessed/raw/pi-_10GeV_4ly_2e-4/TrkData_viewy_cl_TB_2023_T10_Sept_pi-Mono_10000_onAxis_10000-evt-550_pitch0.25node_df.parquet')\n",
    "node_df_pi4y=pd.read_parquet('../../Data/preprocessed/raw/pi-_10GeV_4ly_2e-4/TrkData_viewy_cl_TB_2023_T10_Sept_pi-Mono_10000_onAxis_10000-evt-300_pitch0.25node_df.parquet')\n"
   ]
  },
  {
   "cell_type": "code",
   "execution_count": 45,
   "id": "4f133938-feb0-4e6a-9678-1d0a2b4303bc",
   "metadata": {
    "tags": []
   },
   "outputs": [
    {
     "data": {
      "text/plain": [
       "<Axes: >"
      ]
     },
     "execution_count": 45,
     "metadata": {},
     "output_type": "execute_result"
    },
    {
     "data": {
      "image/png": "[encoded data removed]",
      "text/plain": [
       "<Figure size 640x480 with 1 Axes>"
      ]
     },
     "metadata": {},
     "output_type": "display_data"
    }
   ],
   "source": [
    "list_HSy=[node_df_pi1y,node_df_pi2y,node_df_pi3y,node_df_pi4y]\n",
    "node_df_piHSy=pd.concat(list_HSy,ignore_index=True)\n",
    "hit_count = node_df_piHS['hit_class'].value_counts().sort_index()\n",
    "hit_count/=len(node_df_piHS)\n",
    "hit_count.plot(kind='bar', rot=1, color=['blue', 'orange'])"
   ]
  },
  {
   "cell_type": "code",
   "execution_count": 62,
   "id": "9fec2eed-e168-4d36-8828-7502397eeee0",
   "metadata": {},
   "outputs": [],
   "source": [
    "import torch\n",
    "from torch_geometric.data import Dataset, Data\n",
    "data_n=node_df_pi\n",
    "data_e=edge_df_pi\n",
    "ev = data_n.Ev.unique()\n",
    "data_list = []\n",
    "for i in ev:\n",
    "    node_feat = data_n[data_n.Ev == i][[\"x_hit\", \"dx_hit\", \"ly\",\"zx_hit\",\"PE\"]]\n",
    "    xi = node_feat.to_numpy()\n",
    "    xi = torch.tensor(xi, dtype=torch.float32)\n",
    "    edge_feat=data_e[data_e.Ev==i][[\"angx_row\",\"deangx\"]]\n",
    "    edge_feat=edge_feat.to_numpy()\n",
    "    edge_feat=torch.tensor(edge_feat,dtype=torch.float32)\n",
    "    labels = data_n[data_n.Ev == i][\"hit_class\"]\n",
    "    yi = labels.to_numpy()\n",
    "    yi = torch.tensor(yi, dtype=torch.int)\n",
    "\n",
    "    edge_indexi = data_e[data_e.Ev == i][['idx_node_s', 'idx_node_t']]\n",
    "    edge_indexi = np.array(edge_indexi).transpose()\n",
    "    edge_indexi = torch.tensor(edge_indexi, dtype=torch.int64)\n",
    "\n",
    "    data_i = Data(x=xi, edge_index=edge_indexi, edge_attr=edge_feat,y=yi)\n",
    "    data_list.append(data_i)\n"
   ]
  },
  {
   "cell_type": "code",
   "execution_count": 71,
   "id": "2a3f4b7c-4063-45ac-96fe-553109f4bcbc",
   "metadata": {
    "tags": []
   },
   "outputs": [
    {
     "data": {
      "text/plain": [
       "Data(x=[4, 5], edge_index=[2, 1], edge_attr=[1, 2], y=[4])"
      ]
     },
     "execution_count": 71,
     "metadata": {},
     "output_type": "execute_result"
    }
   ],
   "source": [
    "data_list[2]"
   ]
  },
  {
   "cell_type": "code",
   "execution_count": 70,
   "id": "a2b8ef87-6f98-496b-8fd8-54d4603b8ea9",
   "metadata": {
    "tags": []
   },
   "outputs": [
    {
     "data": {
      "text/html": [
       "<div>\n",
       "<style scoped>\n",
       "    .dataframe tbody tr th:only-of-type {\n",
       "        vertical-align: middle;\n",
       "    }\n",
       "\n",
       "    .dataframe tbody tr th {\n",
       "        vertical-align: top;\n",
       "    }\n",
       "\n",
       "    .dataframe thead th {\n",
       "        text-align: right;\n",
       "    }\n",
       "</style>\n",
       "<table border=\"1\" class=\"dataframe\">\n",
       "  <thead>\n",
       "    <tr style=\"text-align: right;\">\n",
       "      <th></th>\n",
       "      <th>idx_node_s</th>\n",
       "      <th>x_hit_s</th>\n",
       "      <th>zx_hit_s</th>\n",
       "      <th>dx_hit_s</th>\n",
       "      <th>xMC_s</th>\n",
       "      <th>ly_s</th>\n",
       "      <th>PE_s</th>\n",
       "      <th>PID_s</th>\n",
       "      <th>idx_node_t</th>\n",
       "      <th>x_hit_t</th>\n",
       "      <th>...</th>\n",
       "      <th>dx_hit_t</th>\n",
       "      <th>xMC_t</th>\n",
       "      <th>ly_t</th>\n",
       "      <th>PE_t</th>\n",
       "      <th>PID_t</th>\n",
       "      <th>Ev</th>\n",
       "      <th>angx_row</th>\n",
       "      <th>angx_MC</th>\n",
       "      <th>deangx</th>\n",
       "      <th>edge_class</th>\n",
       "    </tr>\n",
       "  </thead>\n",
       "  <tbody>\n",
       "    <tr>\n",
       "      <th>9</th>\n",
       "      <td>0</td>\n",
       "      <td>10.424</td>\n",
       "      <td>-30.539</td>\n",
       "      <td>1.55</td>\n",
       "      <td>10.48</td>\n",
       "      <td>0</td>\n",
       "      <td>18</td>\n",
       "      <td>-211.0</td>\n",
       "      <td>1</td>\n",
       "      <td>10.577</td>\n",
       "      <td>...</td>\n",
       "      <td>1.57</td>\n",
       "      <td>10.48</td>\n",
       "      <td>1</td>\n",
       "      <td>18</td>\n",
       "      <td>-211.0</td>\n",
       "      <td>2</td>\n",
       "      <td>269.992664</td>\n",
       "      <td>270.0</td>\n",
       "      <td>-0.10578</td>\n",
       "      <td>1</td>\n",
       "    </tr>\n",
       "  </tbody>\n",
       "</table>\n",
       "<p>1 rows × 21 columns</p>\n",
       "</div>"
      ],
      "text/plain": [
       "   idx_node_s  x_hit_s  zx_hit_s  dx_hit_s  xMC_s  ly_s  PE_s  PID_s  \\\n",
       "9           0   10.424   -30.539      1.55  10.48     0    18 -211.0   \n",
       "\n",
       "   idx_node_t  x_hit_t  ...  dx_hit_t  xMC_t  ly_t  PE_t  PID_t  Ev  \\\n",
       "9           1   10.577  ...      1.57  10.48     1    18 -211.0   2   \n",
       "\n",
       "     angx_row  angx_MC   deangx  edge_class  \n",
       "9  269.992664    270.0 -0.10578           1  \n",
       "\n",
       "[1 rows x 21 columns]"
      ]
     },
     "execution_count": 70,
     "metadata": {},
     "output_type": "execute_result"
    }
   ],
   "source": [
    "edge_df_pi[edge_df_pi.Ev==2]"
   ]
  },
  {
   "cell_type": "code",
   "execution_count": 68,
   "id": "a1b29c2c-8837-441c-9129-2e46f12a60b5",
   "metadata": {
    "tags": []
   },
   "outputs": [
    {
     "data": {
      "text/html": [
       "<div>\n",
       "<style scoped>\n",
       "    .dataframe tbody tr th:only-of-type {\n",
       "        vertical-align: middle;\n",
       "    }\n",
       "\n",
       "    .dataframe tbody tr th {\n",
       "        vertical-align: top;\n",
       "    }\n",
       "\n",
       "    .dataframe thead th {\n",
       "        text-align: right;\n",
       "    }\n",
       "</style>\n",
       "<table border=\"1\" class=\"dataframe\">\n",
       "  <thead>\n",
       "    <tr style=\"text-align: right;\">\n",
       "      <th></th>\n",
       "      <th>Ev</th>\n",
       "      <th>ly</th>\n",
       "      <th>x_hit</th>\n",
       "      <th>zx_hit</th>\n",
       "      <th>dx_hit</th>\n",
       "      <th>PE</th>\n",
       "      <th>PID</th>\n",
       "      <th>xMC</th>\n",
       "      <th>hit_class</th>\n",
       "      <th>idx_node</th>\n",
       "    </tr>\n",
       "  </thead>\n",
       "  <tbody>\n",
       "    <tr>\n",
       "      <th>8</th>\n",
       "      <td>2</td>\n",
       "      <td>0</td>\n",
       "      <td>10.424</td>\n",
       "      <td>-30.539</td>\n",
       "      <td>1.55</td>\n",
       "      <td>18</td>\n",
       "      <td>-211.0</td>\n",
       "      <td>10.48</td>\n",
       "      <td>1</td>\n",
       "      <td>0</td>\n",
       "    </tr>\n",
       "    <tr>\n",
       "      <th>9</th>\n",
       "      <td>2</td>\n",
       "      <td>1</td>\n",
       "      <td>10.577</td>\n",
       "      <td>1164.463</td>\n",
       "      <td>1.57</td>\n",
       "      <td>18</td>\n",
       "      <td>-211.0</td>\n",
       "      <td>10.48</td>\n",
       "      <td>1</td>\n",
       "      <td>1</td>\n",
       "    </tr>\n",
       "    <tr>\n",
       "      <th>10</th>\n",
       "      <td>2</td>\n",
       "      <td>2</td>\n",
       "      <td>10.481</td>\n",
       "      <td>1202.035</td>\n",
       "      <td>1.28</td>\n",
       "      <td>14</td>\n",
       "      <td>-211.0</td>\n",
       "      <td>10.48</td>\n",
       "      <td>1</td>\n",
       "      <td>2</td>\n",
       "    </tr>\n",
       "    <tr>\n",
       "      <th>11</th>\n",
       "      <td>2</td>\n",
       "      <td>3</td>\n",
       "      <td>10.708</td>\n",
       "      <td>1787.463</td>\n",
       "      <td>1.49</td>\n",
       "      <td>21</td>\n",
       "      <td>-211.0</td>\n",
       "      <td>10.48</td>\n",
       "      <td>1</td>\n",
       "      <td>3</td>\n",
       "    </tr>\n",
       "  </tbody>\n",
       "</table>\n",
       "</div>"
      ],
      "text/plain": [
       "    Ev  ly   x_hit    zx_hit  dx_hit  PE    PID    xMC  hit_class  idx_node\n",
       "8    2   0  10.424   -30.539    1.55  18 -211.0  10.48          1         0\n",
       "9    2   1  10.577  1164.463    1.57  18 -211.0  10.48          1         1\n",
       "10   2   2  10.481  1202.035    1.28  14 -211.0  10.48          1         2\n",
       "11   2   3  10.708  1787.463    1.49  21 -211.0  10.48          1         3"
      ]
     },
     "execution_count": 68,
     "metadata": {},
     "output_type": "execute_result"
    }
   ],
   "source": [
    "node_df_pi[node_df_pi.Ev==2]"
   ]
  },
  {
   "cell_type": "code",
   "execution_count": 69,
   "id": "daa5dd10-3343-467f-8d60-adadea834d0e",
   "metadata": {
    "tags": []
   },
   "outputs": [
    {
     "data": {
      "text/plain": [
       "<matplotlib.collections.PathCollection at 0x7fc821647dc0>"
      ]
     },
     "execution_count": 69,
     "metadata": {},
     "output_type": "execute_result"
    },
    {
     "data": {
      "image/png": "[encoded data removed]",
      "text/plain": [
       "<Figure size 640x480 with 1 Axes>"
      ]
     },
     "metadata": {},
     "output_type": "display_data"
    }
   ],
   "source": [
    "plt.scatter(node_df_pi[node_df_pi.Ev==2].x_hit,node_df_pi[node_df_pi.Ev==2].ly)"
   ]
  },
  {
   "cell_type": "code",
   "execution_count": null,
   "id": "b0553bb2-a9bc-431f-8c80-dd86e6b7d69e",
   "metadata": {},
   "outputs": [],
   "source": []
  }
 ],
 "metadata": {
  "kernelspec": {
   "display_name": "py_env",
   "language": "python",
   "name": "py_env"
  },
  "language_info": {
   "codemirror_mode": {
    "name": "ipython",
    "version": 3
   },
   "file_extension": ".py",
   "mimetype": "text/x-python",
   "name": "python",
   "nbconvert_exporter": "python",
   "pygments_lexer": "ipython3",
   "version": "3.8.2"
  }
 },
 "nbformat": 4,
 "nbformat_minor": 5
}
