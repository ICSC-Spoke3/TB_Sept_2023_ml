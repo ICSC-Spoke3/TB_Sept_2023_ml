{
 "cells": [
  {
   "cell_type": "code",
   "execution_count": 1,
   "id": "572efef1-e3b9-4c0f-9ba2-56adf4473e18",
   "metadata": {
    "tags": []
   },
   "outputs": [],
   "source": [
    "# %pip install torch\n",
    "# %pip install torch_geometric"
   ]
  },
  {
   "cell_type": "code",
   "execution_count": 13,
   "id": "0d35c804",
   "metadata": {
    "tags": []
   },
   "outputs": [],
   "source": [
    "import pandas as pd\n",
    "import torch\n",
    "import torch_geometric\n",
    "from torch_geometric.data import Dataset, Data\n",
    "import numpy as np \n",
    "from torch_geometric.loader import DataLoader\n",
    "import os\n",
    "from torch_geometric.nn import Sequential, GCNConv,GATConv\n",
    "import matplotlib.pyplot as plt\n",
    "from torch.nn import Linear\n",
    "import torch.nn.functional as F\n",
    "from sklearn.metrics import precision_score, recall_score, accuracy_score\n",
    "import time\n",
    "import MyData as data\n",
    "from matplotlib.lines import Line2D\n",
    "from sklearn.linear_model import LinearRegression\n",
    "\n",
    "\n",
    "from torch.nn import Linear\n",
    "import torch.nn.functional as F\n",
    "from torch_geometric.nn import SAGEConv\n",
    "import GNN_model"
   ]
  },
  {
   "cell_type": "code",
   "execution_count": 14,
   "id": "14a225c1-ffd2-406f-beb5-b19b96bf3530",
   "metadata": {
    "tags": [
     "parameters"
    ]
   },
   "outputs": [],
   "source": [
    "hidden_size = 385\n",
    "num_ly=2\n",
    "sel_alg=0\n",
    "num_to_reduce=64\n",
    "view='xz'\n",
    "folder_pkl='bigger_event_GCN_2'\n"
   ]
  },
  {
   "cell_type": "code",
   "execution_count": 15,
   "id": "00e2db41",
   "metadata": {
    "tags": []
   },
   "outputs": [
    {
     "name": "stdout",
     "output_type": "stream",
     "text": [
      "taking a list of file from  0  to  101\n",
      "taking a list of file from  130  to  151\n",
      "taking the  data_160.pt\n",
      "len_train_dataset  1009998\n",
      "len_val_dataset  210000\n",
      "len_test_dataset  10000\n",
      "CPU times: user 3min 40s, sys: 18.2 s, total: 3min 58s\n",
      "Wall time: 3min 59s\n"
     ]
    }
   ],
   "source": [
    "%%time\n",
    "data=data.dataset_preparation(root='/lustrehome/federicacuna/TB_Sept_2023_ml/Data/preprocessed/')\n",
    "if view=='xz':\n",
    "    fname='pi-_10GeV_4ly_1e-4'\n",
    "else:\n",
    "    fname='pi-_10GeV_4ly_1e-4_yz'\n",
    "data_trk=data.get_more_file(0,101,fname)#952,fname)\n",
    "train_dataset = data_trk\n",
    "val_dataset =data.get_more_file(130,151,fname)\n",
    "test_dataset =data.get(160,fname)\n",
    "print('len_train_dataset ',len(train_dataset))\n",
    "print('len_val_dataset ',len(val_dataset))\n",
    "print('len_test_dataset ',len(test_dataset))"
   ]
  },
  {
   "cell_type": "code",
   "execution_count": 16,
   "id": "5204ef92",
   "metadata": {
    "tags": []
   },
   "outputs": [
    {
     "name": "stdout",
     "output_type": "stream",
     "text": [
      "Using device: cuda\n",
      "NVIDIA A100-PCIE-40GB\n",
      "Memory Usage:\n",
      "Allocated: 0.0 GB\n",
      "Cached:    0.1 GB\n",
      "CPU times: user 413 µs, sys: 338 µs, total: 751 µs\n",
      "Wall time: 723 µs\n"
     ]
    }
   ],
   "source": [
    "%%time\n",
    "device = torch.device('cuda' if torch.cuda.is_available() else 'cpu')\n",
    "#device=torch.device('cpu')\n",
    "print('Using device:', device)\n",
    "if device.type == 'cuda':\n",
    "    print(torch.cuda.get_device_name(0))\n",
    "    print('Memory Usage:')\n",
    "    print('Allocated:', round(torch.cuda.memory_allocated(0)/1024**3,1), 'GB')\n",
    "    print('Cached:   ', round(torch.cuda.memory_reserved(0)/1024**3,1), 'GB')\n"
   ]
  },
  {
   "cell_type": "code",
   "execution_count": 17,
   "id": "d55c14f5-1d25-4afa-8389-4739d6a03f5c",
   "metadata": {
    "tags": []
   },
   "outputs": [
    {
     "name": "stdout",
     "output_type": "stream",
     "text": [
      "5\n",
      "CPU times: user 102 µs, sys: 0 ns, total: 102 µs\n",
      "Wall time: 106 µs\n"
     ]
    }
   ],
   "source": [
    "%%time\n",
    "NUM_FEATURES = train_dataset[0].x.shape[1]\n",
    "print(NUM_FEATURES)\n",
    "NUM_CLASSES =1\n",
    "n_ly=4\n",
    "model_list=['SageConv','SageConv2','GCN','GCN_2','GAT']"
   ]
  },
  {
   "cell_type": "code",
   "execution_count": 18,
   "id": "1a5fc853-2a1f-4934-b052-423f9c972a14",
   "metadata": {
    "tags": []
   },
   "outputs": [],
   "source": [
    "outname=f'best_model{model_list[sel_alg]}_ly{n_ly}_view_{view}.pkl'"
   ]
  },
  {
   "cell_type": "code",
   "execution_count": 20,
   "id": "08d852c3-f09d-4e0a-b815-2cf58a70addc",
   "metadata": {
    "tags": []
   },
   "outputs": [],
   "source": [
    "if sel_alg>len(model_list):\n",
    "    print('no algorithm available')\n",
    "if sel_alg==0:\n",
    "    model = GNN_model.SageConv(num_feat=NUM_FEATURES,num_class=NUM_CLASSES)\n",
    "elif sel_alg==1:\n",
    "    model = GNN_model.SageConv2(num_feat=NUM_FEATURES,num_class=NUM_CLASSES)\n",
    "elif sel_alg==2:\n",
    "    model = GNN_model.GCN(num_feat=NUM_FEATURES, num_class=NUM_CLASSES,num_to_reduce=64)\n",
    "elif sel_alg==3:\n",
    "    model = GNN_model.GCN_2(hidden_size=hidden_size, num_ly=num_ly, num_feat=NUM_FEATURES, num_class=NUM_CLASSES,num_to_reduce=64)\n",
    "elif sel_alg==4:\n",
    "    model = GNN_model.GAT(num_feat=NUM_FEATURES, num_class=NUM_CLASSES)"
   ]
  },
  {
   "cell_type": "code",
   "execution_count": 21,
   "id": "ca558dd4",
   "metadata": {
    "tags": []
   },
   "outputs": [
    {
     "name": "stdout",
     "output_type": "stream",
     "text": [
      "CPU times: user 863 µs, sys: 1.83 ms, total: 2.69 ms\n",
      "Wall time: 1.87 ms\n"
     ]
    }
   ],
   "source": [
    "%%time\n",
    "model.to(device)\n",
    "optimizer = torch.optim.Adam(model.parameters(), lr=0.001)\n",
    "####criterion = torch.nn.CrossEntropyLoss()\n",
    "criterion=torch.nn.functional.binary_cross_entropy#for sageconv\n",
    "\n",
    "def train_model(train_data):\n",
    "    model.to(device)\n",
    "    model.train()\n",
    "    for data in train_data:\n",
    "        data.to(device)\n",
    "        out = model(data) # Perform a single forward pass.\n",
    "        labels=data.y.float().to(device)\n",
    "        loss = criterion(out.squeeze(1).float(), labels)  # Compute the loss.\n",
    "        \n",
    "        loss.backward()  # Derive gradients.\n",
    "        optimizer.step()  # Update parameters based on gradients.\n",
    "        optimizer.zero_grad()  # Clear gradients.\n",
    "    return model.to(device)\n",
    "\n",
    "threshold=0.8\n",
    "def evaluate_model(model,test_data):\n",
    "    model.eval()\n",
    "    correct = 0\n",
    "    total_samples = 0\n",
    "    model_outputs = []\n",
    "    targets = []\n",
    "    pred_class=[]\n",
    "\n",
    "    for data in test_data:\n",
    "        data.to(device)\n",
    "        model_output = model(data)\n",
    "        model_output.to(device)\n",
    "        predicted_class = torch.where(model_output > threshold, 1, 0)\n",
    "        \n",
    "        correct += int((predicted_class == data.y.float()).sum())\n",
    "        total_samples += len(data.y)\n",
    "\n",
    "          # store these to get the loss\n",
    "        model_outputs.extend(model_output.tolist())\n",
    "        targets.extend(data.y.float().tolist())\n",
    "        pred_class.extend(predicted_class.tolist())\n",
    "\n",
    "    \n",
    "    loss = criterion(torch.tensor(model_outputs).squeeze(1), torch.tensor(targets).float())\n",
    "    accuracy = accuracy_score(targets, pred_class)\n",
    "    precision = precision_score(targets, pred_class)\n",
    "    recall = recall_score(targets, pred_class)\n",
    "    \n",
    "    return accuracy, loss, recall, precision \n"
   ]
  },
  {
   "cell_type": "code",
   "execution_count": 22,
   "id": "72422498-d9bf-4208-9e99-10b5b1b9d29a",
   "metadata": {
    "tags": []
   },
   "outputs": [],
   "source": [
    "test_batch_list=[]\n",
    "start_value = 4032\n",
    "increment = 64\n",
    "iterations = 5\n",
    "total_sum = 0\n",
    "\n",
    "for i in range(iterations):\n",
    "    current_value = start_value + (i* increment)\n",
    "    \n",
    "    test_batch_list.append(current_value)"
   ]
  },
  {
   "cell_type": "code",
   "execution_count": 23,
   "id": "cea0fa1d-5f17-4fd1-ba85-2848dc6df4eb",
   "metadata": {
    "tags": []
   },
   "outputs": [],
   "source": [
    "\n",
    "test_batch_list.insert(0, 128)"
   ]
  },
  {
   "cell_type": "code",
   "execution_count": 24,
   "id": "ac9479ef-f401-4347-a535-61f1cd99dffc",
   "metadata": {
    "tags": []
   },
   "outputs": [
    {
     "data": {
      "text/plain": [
       "[128, 4032, 4096, 4160, 4224, 4288]"
      ]
     },
     "execution_count": 24,
     "metadata": {},
     "output_type": "execute_result"
    }
   ],
   "source": [
    "test_batch_list"
   ]
  },
  {
   "cell_type": "code",
   "execution_count": 26,
   "id": "13078949",
   "metadata": {
    "tags": []
   },
   "outputs": [
    {
     "name": "stdout",
     "output_type": "stream",
     "text": [
      "batch  0 128\n",
      "epoch  1\n",
      "True\n",
      "Epoch_stop: 1\n",
      "Epoch 1: Memoria GPU utilizzata: 0.02 GB\n",
      "Epoch: 1, Train Acc: 0.9559, Train Loss: 0.1270, Val Acc: 0.9574, Val Loss: 0.1227, time :191.1731460094452\n",
      "epoch  2\n",
      "True\n",
      "Epoch_stop: 2\n",
      "Epoch 2: Memoria GPU utilizzata: 0.02 GB\n",
      "Epoch: 2, Train Acc: 0.9557, Train Loss: 0.1106, Val Acc: 0.9573, Val Loss: 0.1063, time :218.8551721572876\n",
      "410.02870416641235\n",
      "batch  1 4032\n",
      "epoch  1\n",
      "True\n",
      "Epoch_stop: 1\n",
      "Epoch 1: Memoria GPU utilizzata: 0.02 GB\n",
      "Epoch: 1, Train Acc: 0.9619, Train Loss: 0.1004, Val Acc: 0.9635, Val Loss: 0.0963, time :96.37691235542297\n",
      "epoch  2\n",
      "True\n",
      "Epoch_stop: 2\n",
      "Epoch 2: Memoria GPU utilizzata: 0.02 GB\n",
      "Epoch: 2, Train Acc: 0.9626, Train Loss: 0.0993, Val Acc: 0.9642, Val Loss: 0.0950, time :101.68007516860962\n",
      "198.05716013908386\n",
      "batch  2 4096\n",
      "epoch  1\n",
      "True\n",
      "Epoch_stop: 1\n",
      "Epoch 1: Memoria GPU utilizzata: 0.02 GB\n",
      "Epoch: 1, Train Acc: 0.9629, Train Loss: 0.0985, Val Acc: 0.9644, Val Loss: 0.0946, time :104.92476224899292\n",
      "epoch  2\n",
      "True\n",
      "Epoch_stop: 2\n",
      "Epoch 2: Memoria GPU utilizzata: 0.02 GB\n",
      "Epoch: 2, Train Acc: 0.9637, Train Loss: 0.0983, Val Acc: 0.9652, Val Loss: 0.0944, time :108.63221335411072\n",
      "213.55721068382263\n",
      "batch  3 4160\n",
      "epoch  1\n",
      "True\n",
      "Epoch_stop: 1\n",
      "Epoch 1: Memoria GPU utilizzata: 0.02 GB\n",
      "Epoch: 1, Train Acc: 0.9626, Train Loss: 0.0978, Val Acc: 0.9641, Val Loss: 0.0938, time :112.2425582408905\n",
      "epoch  2\n",
      "True\n",
      "Epoch_stop: 2\n",
      "Epoch 2: Memoria GPU utilizzata: 0.02 GB\n",
      "Epoch: 2, Train Acc: 0.9634, Train Loss: 0.0971, Val Acc: 0.9650, Val Loss: 0.0930, time :102.99576163291931\n",
      "215.23855638504028\n",
      "batch  4 4224\n",
      "epoch  1\n",
      "True\n",
      "Epoch_stop: 1\n",
      "Epoch 1: Memoria GPU utilizzata: 0.02 GB\n",
      "Epoch: 1, Train Acc: 0.9633, Train Loss: 0.0971, Val Acc: 0.9647, Val Loss: 0.0932, time :100.60356020927429\n",
      "epoch  2\n",
      "True\n",
      "Epoch_stop: 2\n",
      "Epoch 2: Memoria GPU utilizzata: 0.02 GB\n",
      "Epoch: 2, Train Acc: 0.9630, Train Loss: 0.0965, Val Acc: 0.9645, Val Loss: 0.0922, time :98.80516076087952\n",
      "199.40892553329468\n",
      "batch  5 4288\n",
      "epoch  1\n",
      "True\n",
      "Epoch_stop: 1\n",
      "Epoch 1: Memoria GPU utilizzata: 0.02 GB\n",
      "Epoch: 1, Train Acc: 0.9638, Train Loss: 0.0958, Val Acc: 0.9652, Val Loss: 0.0919, time :104.30554509162903\n",
      "epoch  2\n",
      "True\n",
      "Epoch 2: Memoria GPU utilizzata: 0.02 GB\n",
      "Epoch: 2, Train Acc: 0.9639, Train Loss: 0.1018, Val Acc: 0.9653, Val Loss: 0.0981, time :111.37120485305786\n",
      "215.67694401741028\n",
      "CPU times: user 20min 19s, sys: 4min 10s, total: 24min 29s\n",
      "Wall time: 24min 11s\n"
     ]
    }
   ],
   "source": [
    "%%time\n",
    "try:\n",
    "    times = []\n",
    "    train_accuracies = []\n",
    "    validation_accuracies = []\n",
    "    validation_losses = []\n",
    "    train_losses = []\n",
    "    val_recall=[]\n",
    "    val_precision=[]\n",
    "    train_recall=[]\n",
    "    train_precision=[]\n",
    "    \n",
    "    for batch_train in range(len(test_batch_list)):\n",
    "        start = time.time()\n",
    "        print('batch ',batch_train, test_batch_list[batch_train])\n",
    "        train_loader = DataLoader(train_dataset, batch_size=test_batch_list[batch_train],shuffle=True,pin_memory=True,num_workers=10,drop_last=True) \n",
    "        val_loader=DataLoader(val_dataset, batch_size=128,shuffle=True,pin_memory=True,drop_last=True) \n",
    "        # test_loader=DataLoader(test_dataset, batch_size=64,shuffle=True)\n",
    "\n",
    "        train_accuracies.append([])\n",
    "        validation_accuracies.append([])\n",
    "        validation_losses.append([])\n",
    "        train_losses.append([])\n",
    "        val_recall.append([])\n",
    "        val_precision.append([])\n",
    "        train_recall.append([])\n",
    "        train_precision.append([])   \n",
    "        \n",
    "        \n",
    "        for epoch in range(1, 3):\n",
    "            start_epoch = time.time()\n",
    "            print('epoch ',epoch)\n",
    "            model = train_model(train_loader)\n",
    "            print(next(model.parameters()).is_cuda)\n",
    "\n",
    "            train_acc, train_loss, train_rec, train_prec = evaluate_model(model,train_loader)\n",
    "            \n",
    "            train_losses[batch_train].append(train_loss)\n",
    "\n",
    "            val_acc, val_loss, val_rec, val_prec = evaluate_model(model,val_loader)\n",
    "            validation_losses[batch_train].append(val_loss)\n",
    "\n",
    "            train_accuracies[batch_train].append(train_acc)\n",
    "            validation_accuracies[batch_train].append(val_acc)\n",
    "\n",
    "            train_precision[batch_train].append(train_prec)\n",
    "            train_recall[batch_train].append(train_rec)\n",
    "\n",
    "            val_precision[batch_train].append(val_prec)\n",
    "            val_recall[batch_train].append(val_rec)\n",
    "\n",
    "            # save the model if it is the better than any previous ones\n",
    "            if val_loss.item() <= min(validation_losses[batch_train]).item():\n",
    "                # torch.save(model, f'/lustrehome/federicacuna/TB_Sept_2023_ml/output_gnn_pkl/{folder_pkl}/{outname}')\n",
    "                print(f'Epoch_stop: {epoch}')\n",
    "\n",
    "            #torch.save(model, \"best_model.pkl\")\n",
    "            if epoch % 1 == 0:\n",
    "                print(f\"Epoch {epoch}: Memoria GPU utilizzata: {torch.cuda.memory_allocated(device) / 1024**3:.2f} GB\")\n",
    "                print(f'Epoch: {epoch}, Train Acc: {train_acc:.4f}, Train Loss: {train_loss:.4f}, Val Acc: {val_acc:.4f}, Val Loss: {val_loss:.4f}, time :{time.time() - start_epoch}')\n",
    "        print(time.time() - start)\n",
    "        times.append(time.time() - start)\n",
    "        \n",
    "\n",
    "except RuntimeError as e:\n",
    "    if \"CUDA out of memory\" in str(e):\n",
    "        print(\"Errore: Memoria CUDA esaurita per batch \", batch_train)\n",
    "    else:\n",
    "        # Gestione di altri tipi di RuntimeError\n",
    "        print(\"Errore:\", e)  "
   ]
  },
  {
   "cell_type": "code",
   "execution_count": 13,
   "id": "89d4a24d-c9da-4bae-a57d-9b2d9446432c",
   "metadata": {
    "tags": []
   },
   "outputs": [
    {
     "data": {
      "text/plain": [
       "[415.2710831165314,\n",
       " 373.8365707397461,\n",
       " 406.7567677497864,\n",
       " 381.89558839797974,\n",
       " 375.7039797306061,\n",
       " 412.0558304786682,\n",
       " 404.0252447128296,\n",
       " 394.52733612060547,\n",
       " 420.3606700897217,\n",
       " 434.0396246910095]"
      ]
     },
     "execution_count": 13,
     "metadata": {},
     "output_type": "execute_result"
    }
   ],
   "source": [
    "times"
   ]
  },
  {
   "cell_type": "code",
   "execution_count": 14,
   "id": "b5068062",
   "metadata": {
    "tags": []
   },
   "outputs": [
    {
     "ename": "TypeError",
     "evalue": "unsupported format string passed to list.__format__",
     "output_type": "error",
     "traceback": [
      "\u001b[0;31m---------------------------------------------------------------------------\u001b[0m",
      "\u001b[0;31mTypeError\u001b[0m                                 Traceback (most recent call last)",
      "\u001b[0;32m<ipython-input-14-9a18e91bc3e3>\u001b[0m in \u001b[0;36m<module>\u001b[0;34m\u001b[0m\n\u001b[1;32m      4\u001b[0m \u001b[0mrecall_at_best_epoch\u001b[0m\u001b[0;34m=\u001b[0m\u001b[0mval_recall\u001b[0m\u001b[0;34m[\u001b[0m\u001b[0mbest_epoch\u001b[0m\u001b[0;34m]\u001b[0m\u001b[0;34m\u001b[0m\u001b[0;34m\u001b[0m\u001b[0m\n\u001b[1;32m      5\u001b[0m \u001b[0mprecision_at_best_epoch\u001b[0m\u001b[0;34m=\u001b[0m\u001b[0mval_precision\u001b[0m\u001b[0;34m[\u001b[0m\u001b[0mbest_epoch\u001b[0m\u001b[0;34m]\u001b[0m\u001b[0;34m\u001b[0m\u001b[0;34m\u001b[0m\u001b[0m\n\u001b[0;32m----> 6\u001b[0;31m \u001b[0mprint\u001b[0m\u001b[0;34m(\u001b[0m\u001b[0;34mf\"The best result was achieved after {best_epoch} epochs with a validation accuracy of {accuracy_at_best_epoch:.4f} and a loss of {best_validation_loss:.4f}\"\u001b[0m\u001b[0;34m)\u001b[0m\u001b[0;34m\u001b[0m\u001b[0;34m\u001b[0m\u001b[0m\n\u001b[0m\u001b[1;32m      7\u001b[0m \u001b[0mprint\u001b[0m\u001b[0;34m(\u001b[0m\u001b[0;34mf\"The validation recall is {recall_at_best_epoch:.4f} and the precision is {precision_at_best_epoch:.4f}\"\u001b[0m\u001b[0;34m)\u001b[0m\u001b[0;34m\u001b[0m\u001b[0;34m\u001b[0m\u001b[0m\n",
      "\u001b[0;31mTypeError\u001b[0m: unsupported format string passed to list.__format__"
     ]
    }
   ],
   "source": [
    "best_validation_loss = min(validation_losses)\n",
    "best_epoch = validation_losses.index(best_validation_loss)\n",
    "accuracy_at_best_epoch = validation_accuracies[best_epoch]\n",
    "recall_at_best_epoch=val_recall[best_epoch]\n",
    "precision_at_best_epoch=val_precision[best_epoch]\n",
    "print(f\"The best result was achieved after {best_epoch} epochs with a validation accuracy of {accuracy_at_best_epoch:.4f} and a loss of {best_validation_loss:.4f}\")\n",
    "print(f\"The validation recall is {recall_at_best_epoch:.4f} and the precision is {precision_at_best_epoch:.4f}\")"
   ]
  },
  {
   "cell_type": "code",
   "execution_count": null,
   "id": "944992d6",
   "metadata": {
    "tags": []
   },
   "outputs": [],
   "source": [
    "fig, ax = plt.subplots()\n",
    "#fig.set_size_inches(30.5, 15.5)\n",
    "\n",
    "plt.plot(validation_losses,color='orange',label='validation loss')\n",
    "plt.plot(train_losses,color='blue',label='training loss')\n",
    "\n",
    "plt.axvline(x=best_epoch, color=\"green\", linewidth=2, linestyle='dashed',label='best epoch')\n",
    "#plt.legend(['Val Loss', 'Train Loss', \"Best Epoch\"])\n",
    "plt.legend()\n",
    "\n",
    "\n",
    "# Hide the right and top spines\n",
    "ax.spines['right'].set_visible(False)\n",
    "ax.spines['top'].set_visible(False)\n",
    "ax.spines['bottom'].set_visible(False)\n",
    "ax.spines['left'].set_visible(False)\n",
    "\n",
    "plt.title(\"Model training and validation loss per epoch\", fontsize=10, fontweight='bold')\n",
    "#plt.ylim(0.05,0.2)\n",
    "# plt.savefig(f'/lustrehome/federicacuna/TB_Sept_2023_ml/output_gnn_img/{folder_pkl}/model_loss_{model_list[sel_alg]}_view_{view}.png')\n",
    "plt.show()"
   ]
  },
  {
   "cell_type": "code",
   "execution_count": null,
   "id": "4403992b",
   "metadata": {
    "tags": []
   },
   "outputs": [],
   "source": [
    "fig, ax = plt.subplots()\n",
    "#fig.set_size_inches(30.5, 15.5)\n",
    "\n",
    "plt.plot(validation_accuracies,color='orange',label='validation acc')\n",
    "plt.plot(train_accuracies,color='blue',label='training acc')\n",
    "\n",
    "plt.legend()\n",
    "\n",
    "# Hide the right and top spines\n",
    "ax.spines['right'].set_visible(False)\n",
    "ax.spines['top'].set_visible(False)\n",
    "ax.spines['bottom'].set_visible(False)\n",
    "ax.spines['left'].set_visible(False)\n",
    "\n",
    "plt.title(\"Model training and validation accuracy per epoch\", fontsize=10, fontweight='bold')\n",
    "# plt.ylim(0.9,1)\n",
    "# plt.savefig(f'/lustrehome/federicacuna/TB_Sept_2023_ml/output_gnn_img/{folder_pkl}/model_acc_{model_list[sel_alg]}_view_{view}.png')\n",
    "plt.show()"
   ]
  }
 ],
 "metadata": {
  "kernelspec": {
   "display_name": "Python 3 (ipykernel)",
   "language": "python",
   "name": "python3"
  },
  "language_info": {
   "codemirror_mode": {
    "name": "ipython",
    "version": 3
   },
   "file_extension": ".py",
   "mimetype": "text/x-python",
   "name": "python",
   "nbconvert_exporter": "python",
   "pygments_lexer": "ipython3",
   "version": "3.11.5"
  }
 },
 "nbformat": 4,
 "nbformat_minor": 5
}
