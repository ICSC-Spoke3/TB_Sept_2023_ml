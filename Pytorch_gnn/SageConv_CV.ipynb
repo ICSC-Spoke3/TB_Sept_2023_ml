{
 "cells": [
  {
   "cell_type": "code",
   "execution_count": 1,
   "id": "deee0a12-6a0e-4a07-a01d-3b03ee3bac91",
   "metadata": {
    "tags": []
   },
   "outputs": [],
   "source": [
    "import pandas as pd\n",
    "import torch\n",
    "import torch_geometric\n",
    "from torch_geometric.data import Dataset, Data\n",
    "import numpy as np \n",
    "from torch_geometric.loader import DataLoader\n",
    "from torch_geometric.nn import Sequential, GCNConv,SAGEConv, GATConv\n",
    "import matplotlib.pyplot as plt\n",
    "from torch.nn import Linear\n",
    "import torch.nn.functional as F\n",
    "from sklearn.metrics import precision_score, recall_score, accuracy_score\n",
    "import time\n",
    "import MyData as data\n",
    "from sklearn.model_selection import KFold\n",
    "import GNN_model"
   ]
  },
  {
   "cell_type": "code",
   "execution_count": 2,
   "id": "d083dde9-dbe3-4b9c-b7d6-ce6dc96e173b",
   "metadata": {
    "tags": [
     "parameters"
    ]
   },
   "outputs": [],
   "source": [
    "sel_alg=0\n",
    "view='xz'\n",
    "# lr=0.0001"
   ]
  },
  {
   "cell_type": "code",
   "execution_count": null,
   "id": "bc32fe2b-222c-4758-8a38-eaf2163358e9",
   "metadata": {},
   "outputs": [],
   "source": [
    "if sel_alg==3:\n",
    "    num_ly=3\n",
    "    num_to_reduce=64\n",
    "    sel_alg=3\n",
    "    lr=5e-5\n",
    "    view='xz'\n",
    "    n_epochs=1500"
   ]
  },
  {
   "cell_type": "code",
   "execution_count": 5,
   "id": "ff4935a0-03f9-48e2-90c3-caca9c70da17",
   "metadata": {
    "tags": []
   },
   "outputs": [
    {
     "name": "stdout",
     "output_type": "stream",
     "text": [
      "file 31 not found\n",
      "file 81 not found\n",
      "taking a list of file from  0  to  150\n",
      "taking a list of file from  230  to  275\n",
      "taking the  data_280.pt\n",
      "len_train_dataset  1000000\n",
      "len_val_dataset  400000\n",
      "len_test_dataset  9315\n",
      "CPU times: user 4min 59s, sys: 7.66 s, total: 5min 6s\n",
      "Wall time: 5min 29s\n"
     ]
    }
   ],
   "source": [
    "%%time\n",
    "data=data.dataset_preparation(root='/lustrehome/federicacuna/TB_Sept_2023_ml/Data/preprocessed/')\n",
    "if view=='xz':\n",
    "    fname='pi-_10GeV_4ly_1e-4_inclined_NEW_viewx'\n",
    "    # fname='pi-_10GeV_4ly_1e-4_inclined_4ly_GAT_viewx'\n",
    "else:\n",
    "    fname='pi-_10GeV_4ly_1e-4_inclined_NEW_viewy'\n",
    "    # fname='pi-_10GeV_4ly_1e-4_inclined_4ly_GAT_viewy'\n",
    "data_trk=data.get_more_file(0,300,fname)\n",
    "train_dataset = data_trk[:2000000]\n",
    "val_dataset =data.get_more_file(300,400,fname)[:400000]\n",
    "test_dataset =data.get(500,fname)\n",
    "print('len_train_dataset ',len(train_dataset))\n",
    "print('len_val_dataset ',len(val_dataset))\n",
    "print('len_test_dataset ',len(test_dataset))"
   ]
  },
  {
   "cell_type": "code",
   "execution_count": 10,
   "id": "8cfdb3ee-4c7a-48be-a853-1b009c1ad23a",
   "metadata": {
    "tags": []
   },
   "outputs": [],
   "source": [
    "device = torch.device('cuda' if torch.cuda.is_available() else 'cpu')"
   ]
  },
  {
   "cell_type": "code",
   "execution_count": 6,
   "id": "56494dfb-238c-4e40-b1d4-0d177aba2707",
   "metadata": {
    "tags": []
   },
   "outputs": [
    {
     "name": "stdout",
     "output_type": "stream",
     "text": [
      "CPU times: user 8 µs, sys: 3 µs, total: 11 µs\n",
      "Wall time: 21.7 µs\n"
     ]
    }
   ],
   "source": [
    "%%time\n",
    "NUM_FEATURES = train_dataset[0].x.shape[1]\n",
    "print(NUM_FEATURES)\n",
    "NUM_CLASSES =1\n",
    "n_ly=3\n",
    "model_list=['SageConv','SageConv2','GCN','GCN_2','GAT','GDPModel']"
   ]
  },
  {
   "cell_type": "code",
   "execution_count": 11,
   "id": "64b56f0e-0cf0-4acb-87b8-8916224bbfb0",
   "metadata": {
    "tags": []
   },
   "outputs": [],
   "source": [
    "if sel_alg>len(model_list):\n",
    "    print('no algorithm available')\n",
    "if sel_alg==0:\n",
    "    model = GNN_model.SageConv(num_feat=NUM_FEATURES,num_class=NUM_CLASSES)\n",
    "    print(model)\n",
    "elif sel_alg==1:\n",
    "    model = GNN_model.SageConv2(num_feat=NUM_FEATURES,num_class=NUM_CLASSES)\n",
    "elif sel_alg==2:\n",
    "    model = GNN_model.GCN(num_feat=NUM_FEATURES, num_class=NUM_CLASSES)\n",
    "elif sel_alg==3:\n",
    "    model = GNN_model.GCN_2(hidden_size=hidden_size, num_ly=num_ly, num_feat=NUM_FEATURES, num_class=NUM_CLASSES,num_to_reduce=64)\n",
    "elif sel_alg==4:\n",
    "    model = GNN_model.GAT(num_feat=NUM_FEATURES, num_class=NUM_CLASSES)\n",
    "elif sel_alg==5:\n",
    "    model=GNN_model.GDPModel()"
   ]
  },
  {
   "cell_type": "code",
   "execution_count": 12,
   "id": "0595f2e7-a1c7-431a-b9a2-c36234328ddd",
   "metadata": {
    "tags": []
   },
   "outputs": [
    {
     "name": "stdout",
     "output_type": "stream",
     "text": [
      "GDPModel(\n",
      "  (convs1): GATConv(5, 128, heads=8)\n",
      "  (convs2): GATConv(1024, 1, heads=1)\n",
      ")\n",
      "CPU times: user 22.2 ms, sys: 152 ms, total: 174 ms\n",
      "Wall time: 195 ms\n"
     ]
    }
   ],
   "source": [
    "%%time\n",
    "model.to(device)\n",
    "print(model)\n",
    "optimizer = torch.optim.Adam(model.parameters(), lr=0.0001)\n",
    "####criterion = torch.nn.CrossEntropyLoss()\n",
    "criterion=torch.nn.functional.binary_cross_entropy#for sageconv\n",
    "\n",
    "def train_model(train_data):\n",
    "    model.to(device)\n",
    "    model.train()\n",
    "    for data in train_data:\n",
    "        data.to(device)\n",
    "        out = model(data) # Perform a single forward pass.\n",
    "        labels=data.y.float().to(device)\n",
    "        loss = criterion(out.squeeze(1).float(), labels)  # Compute the loss.\n",
    "        \n",
    "        loss.backward()  # Derive gradients.\n",
    "        optimizer.step()  # Update parameters based on gradients.\n",
    "        optimizer.zero_grad()  # Clear gradients.\n",
    "    return model.to(device)\n",
    "\n",
    "threshold=0.8\n",
    "def evaluate_model(model,test_data):\n",
    "    model.eval()\n",
    "    correct = 0\n",
    "    total_samples = 0\n",
    "    model_outputs = []\n",
    "    targets = []\n",
    "    pred_class=[]\n",
    "\n",
    "    for data in test_data:\n",
    "        data.to(device)\n",
    "        model_output = model(data)\n",
    "        model_output.to(device)\n",
    "        predicted_class = torch.where(model_output > threshold, 1, 0)\n",
    "        \n",
    "        correct += int((predicted_class == data.y.float()).sum())\n",
    "        total_samples += len(data.y)\n",
    "\n",
    "          # store these to get the loss\n",
    "        model_outputs.extend(model_output.tolist())\n",
    "        targets.extend(data.y.float().tolist())\n",
    "        pred_class.extend(predicted_class.tolist())\n",
    "\n",
    "    \n",
    "    loss = criterion(torch.tensor(model_outputs).squeeze(1), torch.tensor(targets).float())\n",
    "    accuracy = accuracy_score(targets, pred_class)\n",
    "    precision = precision_score(targets, pred_class)\n",
    "    recall = recall_score(targets, pred_class)\n",
    "    \n",
    "    return accuracy, loss, recall, precision "
   ]
  },
  {
   "cell_type": "code",
   "execution_count": 12,
   "id": "56658149-7018-451b-bfe5-3941f9adabe4",
   "metadata": {
    "tags": []
   },
   "outputs": [],
   "source": [
    "def reset_weights(m):\n",
    "    if isinstance(m, SAGEConv) or isinstance(m,Linear):\n",
    "        m.reset_parameters()"
   ]
  },
  {
   "cell_type": "code",
   "execution_count": 13,
   "id": "fca925a1-32b4-4496-b8e3-0303adb0ee28",
   "metadata": {
    "tags": []
   },
   "outputs": [],
   "source": [
    "batch_size=4032\n",
    "folds=5\n",
    "epochs=500\n",
    "kfold=KFold(n_splits=folds,shuffle=True)"
   ]
  },
  {
   "cell_type": "code",
   "execution_count": 16,
   "id": "0cd3612d-6521-4b55-986c-4e3299368255",
   "metadata": {
    "tags": []
   },
   "outputs": [
    {
     "name": "stdout",
     "output_type": "stream",
     "text": [
      "Epoch: 1, Train Acc: 0.9322, Train Loss: 0.1556,time :122.49996089935303\n",
      "Epoch: 2, Train Acc: 0.9334, Train Loss: 0.1494,time :104.40346884727478\n",
      "Epoch: 3, Train Acc: 0.9406, Train Loss: 0.1461,time :123.85228300094604\n",
      "Epoch: 4, Train Acc: 0.9400, Train Loss: 0.1383,time :139.067946434021\n",
      "Epoch: 5, Train Acc: 0.9473, Train Loss: 0.1369,time :123.45116829872131\n",
      "Epoch: 6, Train Acc: 0.9335, Train Loss: 0.1373,time :150.02416062355042\n",
      "Epoch: 7, Train Acc: 0.9435, Train Loss: 0.1292,time :149.32545161247253\n",
      "Epoch: 8, Train Acc: 0.9495, Train Loss: 0.1306,time :119.42675304412842\n",
      "Epoch: 9, Train Acc: 0.9458, Train Loss: 0.1252,time :131.11830019950867\n"
     ]
    },
    {
     "name": "stderr",
     "output_type": "stream",
     "text": [
      "Exception ignored in: <bound method IPythonKernel._clean_thread_parent_frames of <ipykernel.ipkernel.IPythonKernel object at 0x7f7c73e5c710>>\n",
      "Traceback (most recent call last):\n",
      "Exception in thread Thread-32 (_pin_memory_loop):\n",
      "Traceback (most recent call last):\n",
      "  File \"/opt/miniconda3/lib/python3.11/threading.py\", line 1038, in _bootstrap_inner\n",
      "    self.run()\n",
      "  File \"/opt/miniconda3/lib/python3.11/site-packages/ipykernel/ipkernel.py\", line 761, in run_closure\n",
      "    _threading_Thread_run(self)\n",
      "  File \"/opt/miniconda3/lib/python3.11/threading.py\", line 975, in run\n",
      "    self._target(*self._args, **self._kwargs)\n",
      "  File \"/home/federicacuna/.local/lib/python3.11/site-packages/torch/utils/data/_utils/pin_memory.py\", line 53, in _pin_memory_loop\n",
      "    do_one_step()\n",
      "  File \"/home/federicacuna/.local/lib/python3.11/site-packages/torch/utils/data/_utils/pin_memory.py\", line 30, in do_one_step\n",
      "    r = in_queue.get(timeout=MP_STATUS_CHECK_INTERVAL)\n",
      "        ^^^^^^^^^^^^^^^^^^^^^^^^^^^^^^^^^^^^^^^^^^^^^^\n",
      "  File \"/opt/miniconda3/lib/python3.11/multiprocessing/queues.py\", line 122, in get\n",
      "    return _ForkingPickler.loads(res)\n",
      "           ^^^^^^^^^^^^^^^^^^^^^^^^^^\n",
      "  File \"/home/federicacuna/.local/lib/python3.11/site-packages/torch/multiprocessing/reductions.py\", line 495, in rebuild_storage_fd\n",
      "    fd = df.detach()\n",
      "         ^^^^^^^^^^^\n",
      "  File \"/opt/miniconda3/lib/python3.11/multiprocessing/resource_sharer.py\", line 57, in detach\n",
      "    with _resource_sharer.get_connection(self._id) as conn:\n",
      "         ^^^^^^^^^^^^^^^^^^^^^^^^^^^^^^^^^^^^^^^^^\n",
      "  File \"/opt/miniconda3/lib/python3.11/multiprocessing/resource_sharer.py\", line 86, in get_connection\n",
      "    c = Client(address, authkey=process.current_process().authkey)\n",
      "        ^^^^^^^^^^^^^^^^^^^^^^^^^^^^^^^^^^^^^^^^^^^^^^^^^^^^^^^^^^\n",
      "  File \"/opt/miniconda3/lib/python3.11/multiprocessing/connection.py\", line 501, in Client\n",
      "    c = SocketClient(address)\n",
      "        ^^^^^^^^^^^^^^^^^^^^^\n",
      "  File \"/opt/miniconda3/lib/python3.11/multiprocessing/connection.py\", line 629, in SocketClient\n",
      "    s.connect(address)\n",
      "FileNotFoundError: [Errno 2] No such file or directory\n",
      "  File \"/opt/miniconda3/lib/python3.11/site-packages/ipykernel/ipkernel.py\", line 770, in _clean_thread_parent_frames\n",
      "    def _clean_thread_parent_frames(KeyboardInterrupt\n",
      "\n",
      ": \n"
     ]
    },
    {
     "ename": "KeyboardInterrupt",
     "evalue": "",
     "output_type": "error",
     "traceback": [
      "\u001b[0;31m---------------------------------------------------------------------------\u001b[0m",
      "\u001b[0;31mKeyboardInterrupt\u001b[0m                         Traceback (most recent call last)",
      "Cell \u001b[0;32mIn[16], line 42\u001b[0m\n\u001b[1;32m     40\u001b[0m \u001b[38;5;28;01mfor\u001b[39;00m epoch \u001b[38;5;129;01min\u001b[39;00m \u001b[38;5;28mrange\u001b[39m(\u001b[38;5;241m1\u001b[39m, epochs):\n\u001b[1;32m     41\u001b[0m     start \u001b[38;5;241m=\u001b[39m time\u001b[38;5;241m.\u001b[39mtime()\n\u001b[0;32m---> 42\u001b[0m     model \u001b[38;5;241m=\u001b[39m \u001b[43mtrain_model\u001b[49m\u001b[43m(\u001b[49m\u001b[43mtrain_loader\u001b[49m\u001b[43m)\u001b[49m\n\u001b[1;32m     43\u001b[0m     train_acc, train_loss, train_rec, train_prec \u001b[38;5;241m=\u001b[39m evaluate_model(model,train_loader)\n\u001b[1;32m     45\u001b[0m     val_acc, val_loss, val_rec, val_prec \u001b[38;5;241m=\u001b[39m evaluate_model(model,val_loader)\n",
      "File \u001b[0;32m<timed exec>:11\u001b[0m, in \u001b[0;36mtrain_model\u001b[0;34m(train_data)\u001b[0m\n",
      "File \u001b[0;32m~/.local/lib/python3.11/site-packages/torch_geometric/data/data.py:355\u001b[0m, in \u001b[0;36mBaseData.to\u001b[0;34m(self, device, non_blocking, *args)\u001b[0m\n\u001b[1;32m    350\u001b[0m \u001b[38;5;250m    \u001b[39m\u001b[38;5;124mr\u001b[39m\u001b[38;5;124;03m\"\"\"Ensures a contiguous memory layout, either for all attributes or\u001b[39;00m\n\u001b[1;32m    351\u001b[0m \u001b[38;5;124;03m    only the ones given in :obj:`*args`.\u001b[39;00m\n\u001b[1;32m    352\u001b[0m \u001b[38;5;124;03m    \"\"\"\u001b[39;00m\n\u001b[1;32m    353\u001b[0m     \u001b[38;5;28;01mreturn\u001b[39;00m \u001b[38;5;28mself\u001b[39m\u001b[38;5;241m.\u001b[39mapply(\u001b[38;5;28;01mlambda\u001b[39;00m x: x\u001b[38;5;241m.\u001b[39mcontiguous(), \u001b[38;5;241m*\u001b[39margs)\n\u001b[0;32m--> 355\u001b[0m \u001b[38;5;28;01mdef\u001b[39;00m \u001b[38;5;21mto\u001b[39m(\u001b[38;5;28mself\u001b[39m, device: Union[\u001b[38;5;28mint\u001b[39m, \u001b[38;5;28mstr\u001b[39m], \u001b[38;5;241m*\u001b[39margs: \u001b[38;5;28mstr\u001b[39m,\n\u001b[1;32m    356\u001b[0m        non_blocking: \u001b[38;5;28mbool\u001b[39m \u001b[38;5;241m=\u001b[39m \u001b[38;5;28;01mFalse\u001b[39;00m):\n\u001b[1;32m    357\u001b[0m \u001b[38;5;250m    \u001b[39m\u001b[38;5;124mr\u001b[39m\u001b[38;5;124;03m\"\"\"Performs tensor device conversion, either for all attributes or\u001b[39;00m\n\u001b[1;32m    358\u001b[0m \u001b[38;5;124;03m    only the ones given in :obj:`*args`.\u001b[39;00m\n\u001b[1;32m    359\u001b[0m \u001b[38;5;124;03m    \"\"\"\u001b[39;00m\n\u001b[1;32m    360\u001b[0m     \u001b[38;5;28;01mreturn\u001b[39;00m \u001b[38;5;28mself\u001b[39m\u001b[38;5;241m.\u001b[39mapply(\n\u001b[1;32m    361\u001b[0m         \u001b[38;5;28;01mlambda\u001b[39;00m x: x\u001b[38;5;241m.\u001b[39mto(device\u001b[38;5;241m=\u001b[39mdevice, non_blocking\u001b[38;5;241m=\u001b[39mnon_blocking), \u001b[38;5;241m*\u001b[39margs)\n",
      "\u001b[0;31mKeyboardInterrupt\u001b[0m: "
     ]
    }
   ],
   "source": [
    "train_accuracies = []\n",
    "validation_accuracies = []\n",
    "validation_losses = []\n",
    "train_losses = []\n",
    "\n",
    "val_recall=[]\n",
    "val_precision=[]\n",
    "train_recall=[]\n",
    "train_precision=[]\n",
    "times = []\n",
    "\n",
    "trainacc_per_fold = [[] for _ in range(folds)]\n",
    "trainloss_per_fold= [[] for _ in range(folds)]\n",
    "\n",
    "valacc_per_fold = [[] for _ in range(folds)]\n",
    "valloss_per_fold= [[] for _ in range(folds)]\n",
    "\n",
    "trainrec_per_fold = [[] for _ in range(folds)]\n",
    "valrec_per_fold = [[] for _ in range(folds)]\n",
    "\n",
    "trainprec_per_fold = [[] for _ in range(folds)]\n",
    "valprec_per_fold= [[] for _ in range(folds)]\n",
    "\n",
    "for fold,(train_idx,val_idx) in enumerate(kfold.split(data_trk)):\n",
    "    #print('------------fold no---------{}----------------------'.format(fold))\n",
    "    #print('----', train_idx,'-----',val_idx)\n",
    "    train_subsampler = torch.utils.data.SubsetRandomSampler(train_idx)\n",
    "    val_subsampler = torch.utils.data.SubsetRandomSampler(val_idx)\n",
    "   \n",
    "    train_loader = DataLoader(\n",
    "                      data_trk, \n",
    "                      batch_size=batch_size, sampler=train_subsampler,pin_memory=True,num_workers=15,drop_last=True)\n",
    "    \n",
    "    val_loader = DataLoader(\n",
    "                      data_trk,\n",
    "                      batch_size=batch_size, sampler=val_subsampler,pin_memory=True,num_workers=15,drop_last=True)\n",
    "    reset_weights(model)\n",
    "    #print('1 ', len(train_loader),' 2 ',len(val_loader))\n",
    "    \n",
    "    for epoch in range(1, epochs):\n",
    "        start = time.time()\n",
    "        model = train_model(train_loader)\n",
    "        train_acc, train_loss, train_rec, train_prec = evaluate_model(model,train_loader)\n",
    "        \n",
    "        val_acc, val_loss, val_rec, val_prec = evaluate_model(model,val_loader)\n",
    "       \n",
    "        train_losses.append(train_loss)\n",
    "        validation_losses.append(val_loss)\n",
    "\n",
    "        train_accuracies.append(train_acc)\n",
    "        validation_accuracies.append(val_acc)\n",
    "\n",
    "        train_precision.append(train_prec)\n",
    "        val_precision.append(val_prec)\n",
    "\n",
    "        train_recall.append(train_rec)\n",
    "        val_recall.append(val_rec)\n",
    "        if epoch % 1== 0:\n",
    "            print(f'Epoch: {epoch}, Train Acc: {train_acc:.4f}, Train Loss: {train_loss:.4f},time :{time.time() - start}')\n",
    "        \n",
    "        trainacc_per_fold[fold].append(train_acc)\n",
    "        valacc_per_fold[fold].append(val_acc)\n",
    "        \n",
    "        trainloss_per_fold[fold].append(train_loss)\n",
    "        valloss_per_fold[fold].append(val_loss)\n",
    "        \n",
    "        trainrec_per_fold[fold].append(train_rec)\n",
    "        valrec_per_fold[fold].append(val_rec)\n",
    "        \n",
    "        trainprec_per_fold[fold].append(train_prec)\n",
    "        valprec_per_fold[fold].append(val_prec)\n",
    "        '''\n",
    "        print(torch.cuda.get_device_name(0))\n",
    "        print('Memory Usage:')\n",
    "        print('Allocated:', round(torch.cuda.memory_allocated(0)/1024**3,1), 'GB')\n",
    "        print('Cached:   ', round(torch.cuda.memory_reserved(0)/1024**3,1), 'GB')\n",
    "        '''\n",
    "        "
   ]
  },
  {
   "cell_type": "code",
   "execution_count": 15,
   "id": "2005f597-fea5-431f-b9df-4a16e95e6d61",
   "metadata": {
    "tags": []
   },
   "outputs": [],
   "source": [
    "import pickle\n",
    "#save data as dictionary\n",
    "file_path = f'/lustrehome/federicacuna/TB_Sept_2023_ml/cross_validation_results/CV_results_{model_list[sel_alg]}.pkl'\n",
    "\n",
    "# Salva i dati in un file utilizzando pickle\n",
    "with open(file_path, 'wb') as file:\n",
    "    pickle.dump({\n",
    "        'trainloss_per_fold': trainloss_per_fold,\n",
    "        'valloss_per_fold': valloss_per_fold,\n",
    "        'trainrec_per_fold': trainrec_per_fold,\n",
    "        'valrec_per_fold': valrec_per_fold,\n",
    "        'trainprec_per_fold': trainprec_per_fold,\n",
    "        'valprec_per_fold': valprec_per_fold,\n",
    "        'trainacc_per_fold':trainacc_per_fold,\n",
    "        'valacc_per_fold':valacc_per_fold,\n",
    "    }, file)\n",
    "\n"
   ]
  },
  {
   "cell_type": "code",
   "execution_count": 18,
   "id": "c50182ad-8ccb-4654-b48d-9c969acfacf9",
   "metadata": {
    "tags": []
   },
   "outputs": [
    {
     "name": "stdout",
     "output_type": "stream",
     "text": [
      " train accuracy:0.918 ± 0.006\n",
      " val accuracy:0.918 ± 0.005\n",
      " train recall:0.896 ± 0.010\n",
      " val recall:0.896 ± 0.009\n",
      " train precision:0.9806 ± 0.0019\n",
      " val precision:0.9808 ± 0.0035\n"
     ]
    }
   ],
   "source": [
    "symbol = \"\\u00B1\"\n",
    "print(f' train accuracy:{np.average(train_accuracies):.3f} {symbol} {np.std(train_accuracies):.3f}')\n",
    "print(f' val accuracy:{np.average(validation_accuracies):.3f} {symbol} {np.std(validation_accuracies):.3f}')\n",
    "print(f' train recall:{np.average(train_recall):.3f} {symbol} {np.std(train_recall):.3f}')\n",
    "print(f' val recall:{np.average(val_recall):.3f} {symbol} {np.std(val_recall):.3f}')\n",
    "print(f' train precision:{np.average(train_precision):.4f} {symbol} {np.std(train_precision):.4f}')\n",
    "print(f' val precision:{np.average(val_precision):.4f} {symbol} {np.std(val_precision):.4f}')"
   ]
  },
  {
   "cell_type": "code",
   "execution_count": 20,
   "id": "6f3151e5-6cc0-438e-9300-5e200b192e7f",
   "metadata": {
    "tags": []
   },
   "outputs": [
    {
     "data": {
      "image/png": "[encoded data removed]",
      "text/plain": [
       "<Figure size 432x288 with 1 Axes>"
      ]
     },
     "metadata": {
      "needs_background": "light"
     },
     "output_type": "display_data"
    },
    {
     "data": {
      "image/png": "[encoded data removed]",
      "text/plain": [
       "<Figure size 432x288 with 1 Axes>"
      ]
     },
     "metadata": {
      "needs_background": "light"
     },
     "output_type": "display_data"
    }
   ],
   "source": [
    "all_metrics_val = [\n",
    "    [val for sublist in valacc_per_fold for val in sublist],\n",
    "    [val for sublist in valrec_per_fold for val in sublist],\n",
    "    [val for sublist in valprec_per_fold for val in sublist]\n",
    "]\n",
    "\n",
    "all_metrics_train = [\n",
    "    [val for sublist in trainacc_per_fold for val in sublist],\n",
    "    [val for sublist in trainrec_per_fold for val in sublist],\n",
    "    [val for sublist in trainprec_per_fold for val in sublist],\n",
    "\n",
    "]\n",
    "\n",
    "# Labels per le diverse metriche\n",
    "labels_train = [\n",
    "    'Train Accuracy',\n",
    "    'Train Recall',\n",
    "    'Train Precision',\n",
    "]\n",
    "labels_val = [\n",
    "    'Val Accuracy',\n",
    "    'Val Recall',\n",
    "    'Val Precision'\n",
    "]\n",
    "\n",
    "# Creazione del boxplot combinato\n",
    "plt.figure()\n",
    "plt.boxplot(all_metrics_train, labels=labels_train)\n",
    "plt.xlabel('Metrics')\n",
    "plt.ylabel('Value')\n",
    "plt.title(' Boxplot for train metrics')\n",
    "plt.xticks(rotation=45)\n",
    "plt.ylim(0.8,1)\n",
    "plt.grid(True)\n",
    "plt.savefig(f'/lustrehome/federicacuna/TB_Sept_2023_ml/cross_validation_results/box_plot_train__{model_list[sel_alg]}.png',bbox_inches='tight')\n",
    "plt.show()\n",
    "\n",
    "\n",
    "# Creazione del boxplot combinato\n",
    "plt.figure()\n",
    "plt.boxplot(all_metrics_val, labels=labels_val)\n",
    "plt.xlabel('Metrics')\n",
    "plt.ylabel('Value')\n",
    "plt.title('Boxplot for validation metrics')\n",
    "plt.xticks(rotation=45)\n",
    "plt.grid(True)\n",
    "plt.ylim(0.8,1)\n",
    "plt.savefig(f'/lustrehome/federicacuna/TB_Sept_2023_ml/cross_validation_results/box_plot_val__{model_list[sel_alg]}.png',bbox_inches='tight')\n",
    "#plt.show()"
   ]
  },
  {
   "cell_type": "code",
   "execution_count": null,
   "id": "49631a91-5287-452a-8460-50d30c67d118",
   "metadata": {},
   "outputs": [],
   "source": []
  },
  {
   "cell_type": "code",
   "execution_count": null,
   "id": "e4545833-8e6a-4d63-bc6a-ec5772ff199a",
   "metadata": {},
   "outputs": [],
   "source": []
  }
 ],
 "metadata": {
  "kernelspec": {
   "display_name": "py_env",
   "language": "python",
   "name": "py_env"
  },
  "language_info": {
   "codemirror_mode": {
    "name": "ipython",
    "version": 3
   },
   "file_extension": ".py",
   "mimetype": "text/x-python",
   "name": "python",
   "nbconvert_exporter": "python",
   "pygments_lexer": "ipython3",
   "version": "3.8.2"
  }
 },
 "nbformat": 4,
 "nbformat_minor": 5
}
