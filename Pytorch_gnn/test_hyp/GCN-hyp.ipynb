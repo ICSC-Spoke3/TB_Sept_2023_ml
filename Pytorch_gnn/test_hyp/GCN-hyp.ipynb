{
 "cells": [
  {
   "cell_type": "code",
   "execution_count": 72,
   "id": "c1d4eb53-381d-461b-8265-c8419714ac54",
   "metadata": {
    "tags": []
   },
   "outputs": [
    {
     "name": "stdout",
     "output_type": "stream",
     "text": [
      "Defaulting to user installation because normal site-packages is not writeable\n",
      "Requirement already satisfied: arm-mango in /home/federicacuna/.local/lib/python3.11/site-packages (1.4.3)\n",
      "Requirement already satisfied: attrdict>=2.0.1 in /home/federicacuna/.local/lib/python3.11/site-packages (from arm-mango) (2.0.1)\n",
      "Requirement already satisfied: numpy>=1.17.0 in /opt/miniconda3/lib/python3.11/site-packages (from arm-mango) (1.26.4)\n",
      "Requirement already satisfied: scikit_learn>=0.21.3 in /home/federicacuna/.local/lib/python3.11/site-packages (from arm-mango) (1.4.2)\n",
      "Requirement already satisfied: scipy>=1.4.1 in /home/federicacuna/.local/lib/python3.11/site-packages (from arm-mango) (1.13.0)\n",
      "Requirement already satisfied: tqdm>=4.36.1 in /opt/miniconda3/lib/python3.11/site-packages (from arm-mango) (4.65.0)\n",
      "Requirement already satisfied: six in /opt/miniconda3/lib/python3.11/site-packages (from attrdict>=2.0.1->arm-mango) (1.16.0)\n",
      "Requirement already satisfied: joblib>=1.2.0 in /home/federicacuna/.local/lib/python3.11/site-packages (from scikit_learn>=0.21.3->arm-mango) (1.4.0)\n",
      "Requirement already satisfied: threadpoolctl>=2.0.0 in /home/federicacuna/.local/lib/python3.11/site-packages (from scikit_learn>=0.21.3->arm-mango) (3.4.0)\n",
      "Note: you may need to restart the kernel to use updated packages.\n"
     ]
    }
   ],
   "source": [
    "%pip install arm-mango"
   ]
  },
  {
   "cell_type": "code",
   "execution_count": 5,
   "id": "d29bda30-8b55-4e51-9276-2992b667a6a5",
   "metadata": {
    "tags": []
   },
   "outputs": [],
   "source": [
    "%pip install torch\n",
    "%pip install torch_geometric"
   ]
  },
  {
   "cell_type": "code",
   "execution_count": 1,
   "id": "bbd13ce4-797f-48bf-80ac-1c78bbc5a7dd",
   "metadata": {
    "tags": []
   },
   "outputs": [],
   "source": [
    "from mango import Tuner\n",
    "import tqdm"
   ]
  },
  {
   "cell_type": "code",
   "execution_count": 2,
   "id": "c83754e1-bc04-4dda-bf89-85feec3a98dd",
   "metadata": {
    "tags": []
   },
   "outputs": [],
   "source": [
    "import sys\n",
    "import os\n",
    "module_dir = os.path.abspath(\"/lustrehome/federicacuna/TB_Sept_2023_ml/Code/Pytorch_gnn/\")\n",
    "sys.path.append(module_dir)"
   ]
  },
  {
   "cell_type": "code",
   "execution_count": 3,
   "id": "8cdf0a41-fc2d-4ff9-90b5-36c680240c49",
   "metadata": {
    "tags": []
   },
   "outputs": [],
   "source": [
    "import pandas as pd\n",
    "import torch\n",
    "import torch_geometric\n",
    "from torch_geometric.data import Dataset, Data\n",
    "import numpy as np \n",
    "import time\n",
    "from torch_geometric.loader import DataLoader\n",
    "import os\n",
    "from torch_geometric.nn import Sequential, GCNConv,GATConv\n",
    "import matplotlib.pyplot as plt\n",
    "from torch.nn import Linear\n",
    "import torch.nn.functional as F\n",
    "from sklearn.metrics import precision_score, recall_score, accuracy_score\n",
    "import time\n",
    "import MyData as data\n",
    "import itertools\n",
    "import seaborn as sns\n",
    "\n",
    "from torch.nn import Linear\n",
    "import torch.nn.functional as F\n",
    "from torch_geometric.nn import SAGEConv\n",
    "import GNN_model"
   ]
  },
  {
   "cell_type": "code",
   "execution_count": 4,
   "id": "72dd1b0b-7f9b-4fee-8a7d-17ed9c7509dc",
   "metadata": {
    "tags": []
   },
   "outputs": [],
   "source": [
    "class GCN(torch.nn.Module):\n",
    "    # def __init__(self, hidden_size, num_ly, num_feat, num_class,num_to_reduce):\n",
    "    def __init__(self, num_feat, hidden_size,num_class, model_params):\n",
    "        super().__init__()\n",
    "        num_ly_val = model_params[\"model_num_ly\"]\n",
    "        num_to_reduce=model_params[\"model_num_toreduce\"]\n",
    "        aggr=model_params[\"model_aggr\"]\n",
    "        for num_ly in range( num_ly_val):\n",
    "            if(hidden_size - (num_ly - 1) * num_ly==0):\n",
    "                print('not proper number of ly and hidden size')\n",
    "                num_ly=int(hidden_size/num)\n",
    "                print(f' the number of layer will be set to: {num_ly}')\n",
    "            \n",
    "            # return\n",
    "        # Model layers\n",
    "        self.num_ly = num_ly\n",
    "        self.conv_layers = torch.nn.ModuleList()\n",
    "        \n",
    "        self.conv_layers.append(GCNConv(num_feat, hidden_size,aggr))\n",
    "        \n",
    "        for i in range(1, num_ly):\n",
    "            current_hidden_size = hidden_size - i * num_to_reduce\n",
    "            prev_hidden_size = hidden_size - (i - 1) * num_to_reduce\n",
    "            self.conv_layers.append(GCNConv(prev_hidden_size, current_hidden_size,aggr))\n",
    "\n",
    "        self.conv_layers.append(GCNConv(hidden_size - (num_ly - 1) * num_to_reduce, num_class))\n",
    "\n",
    "    def forward(self, data):\n",
    "    \n",
    "        x, edge_index, batch = data.x, data.edge_index, data.batch\n",
    "        \n",
    "        for conv in self.conv_layers[:-1]:\n",
    "            x = conv(x, edge_index)\n",
    "            x = F.tanh(x)\n",
    "            # x = F.relu(x)\n",
    "        \n",
    "        x = self.conv_layers[-1](x, edge_index)\n",
    "        \n",
    "        return F.sigmoid(x)\n",
    "\n"
   ]
  },
  {
   "cell_type": "code",
   "execution_count": 5,
   "id": "c40bd524-63c6-4823-9e7f-234fd530b609",
   "metadata": {
    "tags": []
   },
   "outputs": [
    {
     "name": "stdout",
     "output_type": "stream",
     "text": [
      "Using device: cuda\n",
      "NVIDIA A100-PCIE-40GB\n",
      "Memory Usage:\n",
      "Allocated: 0.0 GB\n",
      "Cached:    0.0 GB\n"
     ]
    }
   ],
   "source": [
    "device = torch.device('cuda' if torch.cuda.is_available() else 'cpu')\n",
    "#device=torch.device('cpu')\n",
    "print('Using device:', device)\n",
    "\n",
    "if device.type == 'cuda':\n",
    "    print(torch.cuda.get_device_name(0))\n",
    "    print('Memory Usage:')\n",
    "    print('Allocated:', round(torch.cuda.memory_allocated(0)/1024**3,1), 'GB')\n",
    "    print('Cached:   ', round(torch.cuda.memory_reserved(0)/1024**3,1), 'GB')\n"
   ]
  },
  {
   "cell_type": "code",
   "execution_count": 78,
   "id": "2e92d754-abbb-4a72-98f7-fe467b6b912b",
   "metadata": {
    "tags": []
   },
   "outputs": [],
   "source": [
    "# %%time\n",
    "# NUM_FEATURES = train_dataset[0].x.shape[1]\n",
    "# print(NUM_FEATURES)\n",
    "# NUM_CLASSES =1\n"
   ]
  },
  {
   "cell_type": "code",
   "execution_count": 6,
   "id": "1dae7e86-297f-477d-94a6-216461ae56e0",
   "metadata": {
    "tags": []
   },
   "outputs": [],
   "source": [
    "def train_one_epoch(epoch, model, train_loader, optimizer, loss_fn):\n",
    "    # Enumerate over the data\n",
    "    all_preds = []\n",
    "    all_labels = []\n",
    "    running_loss = 0.0\n",
    "    step = 0\n",
    "    for batch in train_loader:\n",
    "        # Use GPU\n",
    "        batch.to(device)  \n",
    "        # Reset gradients\n",
    "        optimizer.zero_grad() \n",
    "        model_output=model(batch)\n",
    "        # Passing the node features and the connection info\n",
    "        pred = torch.where(model_output > 0.8, 1, 0)\n",
    "        # Calculating the loss and gradients\n",
    "        labels=batch.y.float().to(device)\n",
    "        loss = loss_fn(model_output.squeeze(1).float(), labels)  # Compute the loss.\n",
    "\n",
    "        # loss = criterion(out.squeeze(1).float(), labels)\n",
    "        loss.backward()  \n",
    "        optimizer.step()  \n",
    "        # Update tracking\n",
    "        running_loss += loss.item()\n",
    "        step += 1\n",
    "        all_preds.append(np.rint(torch.sigmoid(pred).cpu().detach().numpy()))\n",
    "        all_labels.append(batch.y.cpu().detach().numpy())\n",
    "    all_preds = np.concatenate(all_preds).ravel()\n",
    "    all_labels = np.concatenate(all_labels).ravel()\n",
    "    calculate_metrics(all_preds, all_labels, epoch, \"train\")\n",
    "    return running_loss/step"
   ]
  },
  {
   "cell_type": "code",
   "execution_count": 7,
   "id": "c3162567-e391-44ec-90ed-d36e8adb562f",
   "metadata": {
    "tags": []
   },
   "outputs": [],
   "source": [
    "def test(epoch, model, test_loader, loss_fn):\n",
    "    all_preds = []\n",
    "    all_preds_raw = []\n",
    "    all_labels = []\n",
    "    running_loss = 0.0\n",
    "    step = 0\n",
    "    for batch in test_loader:\n",
    "        batch.to(device)  \n",
    "        model_output=model(batch)\n",
    "        pred = torch.where(model_output > 0.8, 1, 0)\n",
    "        # pred = model(batch.x.float(), \n",
    "        #                 batch.edge_index, \n",
    "        #                 batch.batch) \n",
    "        # loss = loss_fn(torch.squeeze(pred), batch.y.long().to(device))\n",
    "        \n",
    "        labels=batch.y.float().to(device)\n",
    "        loss = loss_fn(model_output.squeeze(1).float(), labels)  # Compute the loss.\n",
    "\n",
    "\n",
    "         # Update tracking\n",
    "        running_loss += loss.item()\n",
    "        step += 1\n",
    "        all_preds.append(np.rint(torch.sigmoid(pred).cpu().detach().numpy()))\n",
    "        all_preds_raw.append(torch.sigmoid(pred).cpu().detach().numpy())\n",
    "        all_labels.append(batch.y.cpu().detach().numpy())\n",
    "    \n",
    "    all_preds = np.concatenate(all_preds).ravel()\n",
    "    all_labels = np.concatenate(all_labels).ravel()\n",
    "    calculate_metrics(all_preds, all_labels, epoch, \"test\")\n",
    "    # log_conf_matrix(all_preds, all_labels, epoch)\n",
    "    return running_loss/step"
   ]
  },
  {
   "cell_type": "code",
   "execution_count": 8,
   "id": "2cc2cc35-0805-4464-8de7-1f8b14524fe3",
   "metadata": {
    "tags": []
   },
   "outputs": [],
   "source": [
    "from mango import scheduler\n",
    "\n",
    "def run_one_training(params):\n",
    "    params = params[0]\n",
    "    \n",
    "\n",
    "    data_handler=data.dataset_preparation(root='/lustrehome/federicacuna/TB_Sept_2023_ml/Data/preprocessed')\n",
    "    fnamex='pi-_10GeV_4ly_1e-4ly_normalized_1e-4_viewx'\n",
    "    fnamey='pi-_10GeV_4ly_1e-4ly_normalized_1e-4_viewy'\n",
    "    data_trk=data_handler.get_more_file(0,50,fnamex)+data_handler.get_more_file(0,50,fnamey)\n",
    "    data_val=data_handler.get_more_file(600,605,fnamex)+data_handler.get_more_file(600,605,fnamey)\n",
    "    data_handler2=data.dataset_preparation(root='/lustrehome/federicacuna/TB_Sept_2023_ml/Data/preprocessed')\n",
    "    fnameHNx='pi-_10GeV_4ly_3e-4ly_normalized_viewx'\n",
    "    fnameHNy='pi-_10GeV_4ly_3e-4ly_normalized_viewy'\n",
    "    dataHN=data_handler2.get_more_file(0,50,fnameHNx)+data_handler2.get_more_file(0,50,fnameHNy)\n",
    "    dataHN_val=data_handler2.get_more_file(600,605,fnameHNx)+data_handler2.get_more_file(600,605,fnameHNy)\n",
    "    # Prepare training\n",
    "    train_dataset=dataHN+data_trk\n",
    "    val_dataset=data_val+dataHN_val\n",
    "    test_dataset=val_dataset\n",
    "    train_loader = DataLoader(train_dataset, batch_size=params[\"batch_size\"], shuffle=True)\n",
    "    test_loader = DataLoader(test_dataset, batch_size=params[\"batch_size\"], shuffle=True)\n",
    "\n",
    "    # Loading the model\n",
    "    print(\"Loading model...\")\n",
    "    model_params = {k: v for k, v in params.items() if k.startswith(\"model_\")}\n",
    "    # print(model_params)\n",
    "    hidden_size = model_params['model_num_toreduce'] * model_params['model_num_ly']\n",
    "    model = GCN(5, hidden_size, 1, model_params) \n",
    "    model = model.to(device)\n",
    "\n",
    "\n",
    "    # < 1 increases precision, > 1 recall\n",
    "    # weight = torch.tensor([params[\"pos_weight\"]], dtype=torch.float32).to(device)\n",
    "    # loss_fn = torch.nn.BCEWithLogitsLoss(pos_weight=weight)\n",
    "    loss_fn=torch.nn.functional.binary_cross_entropy#for sageconv\n",
    "    # loss = criterion(out.squeeze(1).float(), labels)\n",
    "    optimizer = torch.optim.Adam(model.parameters(), lr=params['lr'])\n",
    "    # optimizer = torch.optim.SGD(model.parameters(), \n",
    "    #                             lr=params[\"learning_rate\"],\n",
    "    #                             momentum=params[\"sgd_momentum\"],\n",
    "    #                             weight_decay=params[\"weight_decay\"])\n",
    "    # scheduler = torch.optim.lr_scheduler.ExponentialLR(optimizer, gamma=params[\"scheduler_gamma\"])\n",
    "    \n",
    "    # Start training\n",
    "    best_loss = 1000\n",
    "    early_stopping_counter = 0\n",
    "    for epoch in range(1,1500): \n",
    "        if early_stopping_counter <= 10: # = x * 5 \n",
    "            # Training\n",
    "            model.train()\n",
    "            loss = train_one_epoch(epoch, model, train_loader, optimizer, loss_fn)\n",
    "            print(f\"Epoch {epoch} | Train Loss {loss}\")\n",
    "            \n",
    "\n",
    "            # Testing\n",
    "            model.eval()\n",
    "            if epoch % 10 == 0:\n",
    "                loss = test(epoch, model, test_loader, loss_fn)\n",
    "                print(f\"Epoch {epoch} | Test Loss {loss}\")\n",
    "                           \n",
    "                # Update best loss\n",
    "                if float(loss) < best_loss:\n",
    "                    best_loss = loss\n",
    "                    # Save the currently best model \n",
    "                    torch.save(model, f'/lustrehome/federicacuna/TB_Sept_2023_ml/output_gnn_pkl/hyp_gcnconv.pkl')\n",
    "                    early_stopping_counter = 0\n",
    "                else:\n",
    "                    early_stopping_counter += 1\n",
    "\n",
    "            # scheduler.step()\n",
    "        else:\n",
    "            print(\"Early stopping due to no improvement.\")\n",
    "            return [best_loss]\n",
    "    print(f\"Finishing training with best test loss: {best_loss}\")\n",
    "    return [best_loss]\n"
   ]
  },
  {
   "cell_type": "code",
   "execution_count": 9,
   "id": "e536def0-38f9-48bb-8a9e-bf4dff44c633",
   "metadata": {
    "tags": []
   },
   "outputs": [],
   "source": [
    "HYPERPARAMETERS = {\n",
    "    \"batch_size\": [4032],\n",
    "    \"model_num_toreduce\": [64],\n",
    "    \"model_num_ly\":[5,7,10],\n",
    "    \"lr\":[5e-5],\n",
    "    \"model_aggr\":['sum','mean','max']\n",
    " }"
   ]
  },
  {
   "cell_type": "code",
   "execution_count": 10,
   "id": "1fa431d2-212f-46fb-8b83-824dd9785dd3",
   "metadata": {
    "tags": []
   },
   "outputs": [],
   "source": [
    "def log_conf_matrix(y_pred, y_true, epoch):\n",
    "    # Log confusion matrix as image\n",
    "    cm = confusion_matrix(y_pred, y_true,normalize='all')\n",
    "    classes = [\"0\", \"1\"]\n",
    "    df_cfm = pd.DataFrame(cm, index = classes, columns = classes)\n",
    "    plt.figure(figsize = (10,7))\n",
    "    cfm_plot = sns.heatmap(df_cfm, annot=True, cmap='Blues', fmt='g')\n",
    "    # cfm_plot.figure.savefig(f'cm_{epoch}.png')\n",
    "  "
   ]
  },
  {
   "cell_type": "code",
   "execution_count": 119,
   "id": "bb438599-e4eb-411f-acb2-227862b0bad4",
   "metadata": {
    "tags": []
   },
   "outputs": [],
   "source": [
    "from sklearn.metrics import confusion_matrix, f1_score, \\\n",
    "    accuracy_score, precision_score, recall_score, roc_auc_score\n",
    "def calculate_metrics(y_pred, y_true, epoch, type):\n",
    "    print(f\"\\n Confusion matrix: \\n {confusion_matrix(y_pred, y_true)}\")\n",
    "    print(f\"F1 Score: {f1_score(y_true, y_pred)}\")\n",
    "    print(f\"Accuracy: {accuracy_score(y_true, y_pred)}\")\n",
    "    prec = precision_score(y_true, y_pred)\n",
    "    rec = recall_score(y_true, y_pred)\n",
    "    print(f\"Precision: {prec}\")\n",
    "    print(f\"Recall: {rec}\")\n",
    "   \n",
    "    try:\n",
    "        roc = roc_auc_score(y_true, y_pred)\n",
    "        print(f\"ROC AUC: {roc}\")\n",
    "        \n",
    "    except:\n",
    "        \n",
    "        print(f\"ROC AUC: notdefined\")"
   ]
  },
  {
   "cell_type": "code",
   "execution_count": 120,
   "id": "2999312e-e63e-4131-9896-d8ef75e16c13",
   "metadata": {
    "tags": []
   },
   "outputs": [
    {
     "name": "stdout",
     "output_type": "stream",
     "text": [
      "Running hyperparameter search...\n"
     ]
    },
    {
     "ename": "TypeError",
     "evalue": "run_one_training() got an unexpected keyword argument 'model_num_toreduce'",
     "output_type": "error",
     "traceback": [
      "\u001b[0;31m---------------------------------------------------------------------------\u001b[0m",
      "\u001b[0;31mTypeError\u001b[0m                                 Traceback (most recent call last)",
      "Cell \u001b[0;32mIn[120], line 10\u001b[0m\n\u001b[1;32m      5\u001b[0m config[\u001b[38;5;124m'\u001b[39m\u001b[38;5;124mbatch_size\u001b[39m\u001b[38;5;124m'\u001b[39m] \u001b[38;5;241m=\u001b[39m \u001b[38;5;241m10\u001b[39m\n\u001b[1;32m      7\u001b[0m tuner \u001b[38;5;241m=\u001b[39m Tuner(HYPERPARAMETERS,\n\u001b[1;32m      8\u001b[0m               objective\u001b[38;5;241m=\u001b[39mrun_one_training,\n\u001b[1;32m      9\u001b[0m               conf_dict\u001b[38;5;241m=\u001b[39mconfig) \n\u001b[0;32m---> 10\u001b[0m results \u001b[38;5;241m=\u001b[39m \u001b[43mtuner\u001b[49m\u001b[38;5;241;43m.\u001b[39;49m\u001b[43mminimize\u001b[49m\u001b[43m(\u001b[49m\u001b[43m)\u001b[49m\n",
      "File \u001b[0;32m~/.local/lib/python3.11/site-packages/mango/tuner.py:160\u001b[0m, in \u001b[0;36mTuner.minimize\u001b[0;34m(self)\u001b[0m\n\u001b[1;32m    158\u001b[0m \u001b[38;5;28;01mdef\u001b[39;00m \u001b[38;5;21mminimize\u001b[39m(\u001b[38;5;28mself\u001b[39m):\n\u001b[1;32m    159\u001b[0m     \u001b[38;5;28mself\u001b[39m\u001b[38;5;241m.\u001b[39mmaximize_objective \u001b[38;5;241m=\u001b[39m \u001b[38;5;28;01mFalse\u001b[39;00m\n\u001b[0;32m--> 160\u001b[0m     \u001b[38;5;28;01mreturn\u001b[39;00m \u001b[38;5;28;43mself\u001b[39;49m\u001b[38;5;241;43m.\u001b[39;49m\u001b[43mrun\u001b[49m\u001b[43m(\u001b[49m\u001b[43m)\u001b[49m\n",
      "File \u001b[0;32m~/.local/lib/python3.11/site-packages/mango/tuner.py:147\u001b[0m, in \u001b[0;36mTuner.run\u001b[0;34m(self)\u001b[0m\n\u001b[1;32m    145\u001b[0m \u001b[38;5;28;01mdef\u001b[39;00m \u001b[38;5;21mrun\u001b[39m(\u001b[38;5;28mself\u001b[39m):\n\u001b[1;32m    146\u001b[0m     \u001b[38;5;28;01mif\u001b[39;00m \u001b[38;5;28mself\u001b[39m\u001b[38;5;241m.\u001b[39mconfig\u001b[38;5;241m.\u001b[39mis_bayesian:\n\u001b[0;32m--> 147\u001b[0m         \u001b[38;5;28mself\u001b[39m\u001b[38;5;241m.\u001b[39mresults \u001b[38;5;241m=\u001b[39m \u001b[38;5;28;43mself\u001b[39;49m\u001b[38;5;241;43m.\u001b[39;49m\u001b[43mrunBayesianOptimizer\u001b[49m\u001b[43m(\u001b[49m\u001b[43m)\u001b[49m\n\u001b[1;32m    148\u001b[0m     \u001b[38;5;28;01melif\u001b[39;00m \u001b[38;5;28mself\u001b[39m\u001b[38;5;241m.\u001b[39mconfig\u001b[38;5;241m.\u001b[39mis_random:\n\u001b[1;32m    149\u001b[0m         \u001b[38;5;28mself\u001b[39m\u001b[38;5;241m.\u001b[39mresults \u001b[38;5;241m=\u001b[39m \u001b[38;5;28mself\u001b[39m\u001b[38;5;241m.\u001b[39mrunRandomOptimizer()\n",
      "File \u001b[0;32m~/.local/lib/python3.11/site-packages/mango/tuner.py:210\u001b[0m, in \u001b[0;36mTuner.runBayesianOptimizer\u001b[0;34m(self)\u001b[0m\n\u001b[1;32m    207\u001b[0m \u001b[38;5;28;01mdef\u001b[39;00m \u001b[38;5;21mrunBayesianOptimizer\u001b[39m(\u001b[38;5;28mself\u001b[39m):\n\u001b[1;32m    208\u001b[0m     results \u001b[38;5;241m=\u001b[39m \u001b[38;5;28mdict\u001b[39m()\n\u001b[0;32m--> 210\u001b[0m     X_list, Y_list, X_tried \u001b[38;5;241m=\u001b[39m \u001b[38;5;28;43mself\u001b[39;49m\u001b[38;5;241;43m.\u001b[39;49m\u001b[43mrun_initial\u001b[49m\u001b[43m(\u001b[49m\u001b[43m)\u001b[49m\n\u001b[1;32m    212\u001b[0m     \u001b[38;5;66;03m# evaluated hyper parameters are used\u001b[39;00m\n\u001b[1;32m    213\u001b[0m     X_init \u001b[38;5;241m=\u001b[39m \u001b[38;5;28mself\u001b[39m\u001b[38;5;241m.\u001b[39mds\u001b[38;5;241m.\u001b[39mconvert_GP_space(X_list)\n",
      "File \u001b[0;32m~/.local/lib/python3.11/site-packages/mango/tuner.py:187\u001b[0m, in \u001b[0;36mTuner.run_initial\u001b[0;34m(self)\u001b[0m\n\u001b[1;32m    184\u001b[0m \u001b[38;5;28;01melse\u001b[39;00m:\n\u001b[1;32m    185\u001b[0m     \u001b[38;5;66;03m# getting first few random values\u001b[39;00m\n\u001b[1;32m    186\u001b[0m     X_tried \u001b[38;5;241m=\u001b[39m \u001b[38;5;28mself\u001b[39m\u001b[38;5;241m.\u001b[39mds\u001b[38;5;241m.\u001b[39mget_random_sample(\u001b[38;5;28mself\u001b[39m\u001b[38;5;241m.\u001b[39mconfig\u001b[38;5;241m.\u001b[39minitial_random)\n\u001b[0;32m--> 187\u001b[0m     X_list, Y_list \u001b[38;5;241m=\u001b[39m \u001b[38;5;28;43mself\u001b[39;49m\u001b[38;5;241;43m.\u001b[39;49m\u001b[43mrunUserObjective\u001b[49m\u001b[43m(\u001b[49m\u001b[43mX_tried\u001b[49m\u001b[43m)\u001b[49m\n\u001b[1;32m    189\u001b[0m     \u001b[38;5;66;03m# in case initial random results are invalid try different samples\u001b[39;00m\n\u001b[1;32m    190\u001b[0m     n_tries \u001b[38;5;241m=\u001b[39m \u001b[38;5;241m1\u001b[39m\n",
      "File \u001b[0;32m~/.local/lib/python3.11/site-packages/mango/tuner.py:376\u001b[0m, in \u001b[0;36mTuner.runUserObjective\u001b[0;34m(self, X_next_PS)\u001b[0m\n\u001b[1;32m    373\u001b[0m \u001b[38;5;28;01mdef\u001b[39;00m \u001b[38;5;21mrunUserObjective\u001b[39m(\u001b[38;5;28mself\u001b[39m, X_next_PS):\n\u001b[1;32m    374\u001b[0m     \u001b[38;5;66;03m# initially assuming entire X_next_PS is evaluated and returned results are only Y values\u001b[39;00m\n\u001b[1;32m    375\u001b[0m     X_list_evaluated \u001b[38;5;241m=\u001b[39m X_next_PS\n\u001b[0;32m--> 376\u001b[0m     results \u001b[38;5;241m=\u001b[39m \u001b[38;5;28;43mself\u001b[39;49m\u001b[38;5;241;43m.\u001b[39;49m\u001b[43mobjective_function\u001b[49m\u001b[43m(\u001b[49m\u001b[43mX_next_PS\u001b[49m\u001b[43m)\u001b[49m\n\u001b[1;32m    377\u001b[0m     Y_list_evaluated \u001b[38;5;241m=\u001b[39m results\n\u001b[1;32m    379\u001b[0m     \u001b[38;5;66;03m# if result is a tuple, then there is possibility that partial values are evaluated\u001b[39;00m\n",
      "File \u001b[0;32m~/.local/lib/python3.11/site-packages/mango/scheduler.py:30\u001b[0m, in \u001b[0;36mparallel.<locals>.decorator.<locals>.wrapper\u001b[0;34m(params_batch)\u001b[0m\n\u001b[1;32m     28\u001b[0m \u001b[38;5;129m@functools\u001b[39m\u001b[38;5;241m.\u001b[39mwraps(func)\n\u001b[1;32m     29\u001b[0m \u001b[38;5;28;01mdef\u001b[39;00m \u001b[38;5;21mwrapper\u001b[39m(params_batch):\n\u001b[0;32m---> 30\u001b[0m     \u001b[38;5;28;01mreturn\u001b[39;00m \u001b[43mParallel\u001b[49m\u001b[43m(\u001b[49m\u001b[43mn_jobs\u001b[49m\u001b[43m)\u001b[49m\u001b[43m(\u001b[49m\u001b[43mdelayed\u001b[49m\u001b[43m(\u001b[49m\u001b[43mfunc\u001b[49m\u001b[43m)\u001b[49m\u001b[43m(\u001b[49m\u001b[38;5;241;43m*\u001b[39;49m\u001b[38;5;241;43m*\u001b[39;49m\u001b[43mparams\u001b[49m\u001b[43m)\u001b[49m\u001b[43m \u001b[49m\u001b[38;5;28;43;01mfor\u001b[39;49;00m\u001b[43m \u001b[49m\u001b[43mparams\u001b[49m\u001b[43m \u001b[49m\u001b[38;5;129;43;01min\u001b[39;49;00m\u001b[43m \u001b[49m\u001b[43mparams_batch\u001b[49m\u001b[43m)\u001b[49m\n",
      "File \u001b[0;32m~/.local/lib/python3.11/site-packages/joblib/parallel.py:1918\u001b[0m, in \u001b[0;36mParallel.__call__\u001b[0;34m(self, iterable)\u001b[0m\n\u001b[1;32m   1916\u001b[0m     output \u001b[38;5;241m=\u001b[39m \u001b[38;5;28mself\u001b[39m\u001b[38;5;241m.\u001b[39m_get_sequential_output(iterable)\n\u001b[1;32m   1917\u001b[0m     \u001b[38;5;28mnext\u001b[39m(output)\n\u001b[0;32m-> 1918\u001b[0m     \u001b[38;5;28;01mreturn\u001b[39;00m output \u001b[38;5;28;01mif\u001b[39;00m \u001b[38;5;28mself\u001b[39m\u001b[38;5;241m.\u001b[39mreturn_generator \u001b[38;5;28;01melse\u001b[39;00m \u001b[38;5;28;43mlist\u001b[39;49m\u001b[43m(\u001b[49m\u001b[43moutput\u001b[49m\u001b[43m)\u001b[49m\n\u001b[1;32m   1920\u001b[0m \u001b[38;5;66;03m# Let's create an ID that uniquely identifies the current call. If the\u001b[39;00m\n\u001b[1;32m   1921\u001b[0m \u001b[38;5;66;03m# call is interrupted early and that the same instance is immediately\u001b[39;00m\n\u001b[1;32m   1922\u001b[0m \u001b[38;5;66;03m# re-used, this id will be used to prevent workers that were\u001b[39;00m\n\u001b[1;32m   1923\u001b[0m \u001b[38;5;66;03m# concurrently finalizing a task from the previous call to run the\u001b[39;00m\n\u001b[1;32m   1924\u001b[0m \u001b[38;5;66;03m# callback.\u001b[39;00m\n\u001b[1;32m   1925\u001b[0m \u001b[38;5;28;01mwith\u001b[39;00m \u001b[38;5;28mself\u001b[39m\u001b[38;5;241m.\u001b[39m_lock:\n",
      "File \u001b[0;32m~/.local/lib/python3.11/site-packages/joblib/parallel.py:1847\u001b[0m, in \u001b[0;36mParallel._get_sequential_output\u001b[0;34m(self, iterable)\u001b[0m\n\u001b[1;32m   1845\u001b[0m \u001b[38;5;28mself\u001b[39m\u001b[38;5;241m.\u001b[39mn_dispatched_batches \u001b[38;5;241m+\u001b[39m\u001b[38;5;241m=\u001b[39m \u001b[38;5;241m1\u001b[39m\n\u001b[1;32m   1846\u001b[0m \u001b[38;5;28mself\u001b[39m\u001b[38;5;241m.\u001b[39mn_dispatched_tasks \u001b[38;5;241m+\u001b[39m\u001b[38;5;241m=\u001b[39m \u001b[38;5;241m1\u001b[39m\n\u001b[0;32m-> 1847\u001b[0m res \u001b[38;5;241m=\u001b[39m \u001b[43mfunc\u001b[49m\u001b[43m(\u001b[49m\u001b[38;5;241;43m*\u001b[39;49m\u001b[43margs\u001b[49m\u001b[43m,\u001b[49m\u001b[43m \u001b[49m\u001b[38;5;241;43m*\u001b[39;49m\u001b[38;5;241;43m*\u001b[39;49m\u001b[43mkwargs\u001b[49m\u001b[43m)\u001b[49m\n\u001b[1;32m   1848\u001b[0m \u001b[38;5;28mself\u001b[39m\u001b[38;5;241m.\u001b[39mn_completed_tasks \u001b[38;5;241m+\u001b[39m\u001b[38;5;241m=\u001b[39m \u001b[38;5;241m1\u001b[39m\n\u001b[1;32m   1849\u001b[0m \u001b[38;5;28mself\u001b[39m\u001b[38;5;241m.\u001b[39mprint_progress()\n",
      "\u001b[0;31mTypeError\u001b[0m: run_one_training() got an unexpected keyword argument 'model_num_toreduce'"
     ]
    }
   ],
   "source": [
    "print(\"Running hyperparameter search...\")\n",
    "config = dict()\n",
    "config[\"optimizer\"] = \"Bayesian\"\n",
    "config[\"num_iteration\"] = 40\n",
    "\n",
    "\n",
    "tuner = Tuner(HYPERPARAMETERS,\n",
    "              objective=run_one_training,\n",
    "              conf_dict=config) \n",
    "results = tuner.minimize()"
   ]
  },
  {
   "cell_type": "code",
   "execution_count": 42,
   "id": "ab290ea6-4851-4685-9186-2dafbcd7e501",
   "metadata": {
    "tags": []
   },
   "outputs": [
    {
     "name": "stdout",
     "output_type": "stream",
     "text": [
      "best parameters: {'model_num_toreduce': 64, 'model_num_ly': 10, 'lr': 0.0001, 'batch_size': 32}\n"
     ]
    }
   ],
   "source": [
    "print('best parameters:', results['best_params'])"
   ]
  },
  {
   "cell_type": "code",
   "execution_count": 44,
   "id": "fa49dd28-7622-4c95-a58b-6159ecf2b280",
   "metadata": {
    "tags": []
   },
   "outputs": [
    {
     "name": "stdout",
     "output_type": "stream",
     "text": [
      "best loss (RMSE): 0.14594137528188478\n"
     ]
    }
   ],
   "source": [
    "print('best loss ', results['best_objective'])"
   ]
  },
  {
   "cell_type": "code",
   "execution_count": 46,
   "id": "db214c67-8c96-4eaf-a2c3-546b113a5d31",
   "metadata": {
    "tags": []
   },
   "outputs": [
    {
     "data": {
      "text/plain": [
       "{'random_params': array([{'model_num_toreduce': 64, 'model_num_ly': 3, 'lr': 0.0001, 'batch_size': 32},\n",
       "        {'model_num_toreduce': 64, 'model_num_ly': 10, 'lr': 0.0001, 'batch_size': 32},\n",
       "        {'model_num_toreduce': 64, 'model_num_ly': 10, 'lr': 0.0001, 'batch_size': 32}],\n",
       "       dtype=object),\n",
       " 'random_params_objective': array([-0.38764714, -0.14594138]),\n",
       " 'params_tried': array([{'model_num_toreduce': 64, 'model_num_ly': 3, 'lr': 0.0001, 'batch_size': 32},\n",
       "        {'model_num_toreduce': 64, 'model_num_ly': 10, 'lr': 0.0001, 'batch_size': 32},\n",
       "        {'batch_size': 32, 'lr': 0.0001, 'model_num_ly': 10, 'model_num_toreduce': 64},\n",
       "        {'batch_size': 32, 'lr': 0.0001, 'model_num_ly': 3, 'model_num_toreduce': 64}],\n",
       "       dtype=object),\n",
       " 'objective_values': array([0.38764714, 0.14594138, 0.15297141, 0.38560471]),\n",
       " 'surrogate_values': array([-0.38764714, -0.14594138,  0.        ,  0.        ]),\n",
       " 'best_objective': 0.14594137528188478,\n",
       " 'best_params': {'model_num_toreduce': 64,\n",
       "  'model_num_ly': 10,\n",
       "  'lr': 0.0001,\n",
       "  'batch_size': 32}}"
      ]
     },
     "execution_count": 46,
     "metadata": {},
     "output_type": "execute_result"
    }
   ],
   "source": [
    "results"
   ]
  },
  {
   "cell_type": "code",
   "execution_count": null,
   "id": "48e6231e-95c6-4396-9e02-e517a1b439fa",
   "metadata": {},
   "outputs": [],
   "source": [
    "Size = 201 \n",
    "\n",
    "from matplotlib import pyplot as plt\n",
    "fig = plt.figure(figsize=(30,5))\n",
    "plt.title('Variation of Objective',fontsize=20)\n",
    "plt.plot(results['objective_values'][:Size],lw=4,label='BL')\n",
    "plt.xlabel('Iterations', fontsize=25)\n",
    "plt.ylabel('objective_values',fontsize=25)\n",
    "plt.xticks(fontsize=20)\n",
    "plt.yticks(fontsize=20)\n",
    "plt.legend(prop={'size': 30})\n",
    "plt.show()"
   ]
  },
  {
   "cell_type": "code",
   "execution_count": null,
   "id": "f68edf67-38ab-4651-8945-79e07bb19204",
   "metadata": {},
   "outputs": [],
   "source": [
    "import pprint\n",
    "pp = pprint.PrettyPrinter(indent=4)\n",
    "pp.pprint(results)"
   ]
  },
  {
   "cell_type": "code",
   "execution_count": null,
   "id": "918bb265-cab3-4db0-bc83-726ffd904f0f",
   "metadata": {},
   "outputs": [],
   "source": []
  },
  {
   "cell_type": "code",
   "execution_count": null,
   "id": "ab89357a-a894-41e7-ab13-271de42b9a8f",
   "metadata": {},
   "outputs": [],
   "source": []
  },
  {
   "cell_type": "code",
   "execution_count": null,
   "id": "0815b6ed-d71f-41a2-a544-bcb3e6c25281",
   "metadata": {},
   "outputs": [],
   "source": []
  },
  {
   "cell_type": "code",
   "execution_count": null,
   "id": "ea2fcabc-3e79-46fd-890c-0ecaad1686c8",
   "metadata": {},
   "outputs": [],
   "source": []
  },
  {
   "cell_type": "code",
   "execution_count": 241,
   "id": "f9361e26-8f31-44a3-b97d-e4fd2d38f084",
   "metadata": {
    "tags": []
   },
   "outputs": [],
   "source": [
    "# criterion=torch.nn.functional.binary_cross_entropy#for sageconv\n",
    "\n",
    "# def train_model(train_data,model,optimizer):\n",
    "#     model.to(device)\n",
    "#     model.train()\n",
    "#     for data in train_data:\n",
    "       \n",
    "#         data.to(device)\n",
    "#         out = model(data) # Perform a single forward pass.\n",
    "#         labels=data.y.float().to(device)\n",
    "        \n",
    "#         loss = criterion(out.squeeze(1).float(), labels)  # Compute the loss.\n",
    "        \n",
    "#         loss.backward()  # Derive gradients.\n",
    "#         optimizer.step()  # Update parameters based on gradients.\n",
    "#         optimizer.zero_grad()  # Clear gradients.\n",
    "        \n",
    "#     return model.to(device)\n",
    "\n",
    "# threshold=0.8\n",
    "# def evaluate_model(model,test_data):\n",
    "   \n",
    "#     model.eval()\n",
    "#     correct = 0\n",
    "#     total_samples = 0\n",
    "#     model_outputs = []\n",
    "#     targets = []\n",
    "#     pred_class=[]\n",
    "\n",
    "#     for data in test_data:\n",
    "#         data.to(device)\n",
    "#         model_output = model(data)\n",
    "#         model_output.to(device)\n",
    "#         predicted_class = torch.where(model_output > threshold, 1, 0)\n",
    "        \n",
    "#         correct += int((predicted_class == data.y.float()).sum())\n",
    "#         total_samples += len(data.y)\n",
    "\n",
    "#           # store these to get the loss\n",
    "#         model_outputs.extend(model_output.tolist())\n",
    "#         targets.extend(data.y.float().tolist())\n",
    "#         pred_class.extend(predicted_class.tolist())\n",
    "\n",
    "    \n",
    "#     loss = criterion(torch.tensor(model_outputs).squeeze(1), torch.tensor(targets).float())\n",
    "#     accuracy = accuracy_score(targets, pred_class)\n",
    "#     precision = precision_score(targets, pred_class)\n",
    "#     recall = recall_score(targets, pred_class)\n",
    "    \n",
    "#     return accuracy, loss, recall, precision "
   ]
  },
  {
   "cell_type": "code",
   "execution_count": 242,
   "id": "d9944a03-6539-4f3d-ade0-b965a7dafa2d",
   "metadata": {
    "tags": []
   },
   "outputs": [],
   "source": [
    "# train_loader = DataLoader(train_dataset, batch_size=4032,shuffle=True,pin_memory=True,num_workers=15,drop_last=True) \n",
    "# val_loader=DataLoader(val_dataset, batch_size=128,shuffle=True,pin_memory=True,num_workers=15,drop_last=True) \n",
    "# test_loader=DataLoader(test_dataset, batch_size=64,shuffle=True,drop_last=True)"
   ]
  },
  {
   "cell_type": "code",
   "execution_count": 269,
   "id": "2447ba62-249b-49ff-92a3-3dcc72d582ed",
   "metadata": {
    "tags": []
   },
   "outputs": [],
   "source": [
    "# def count_parameters(model):\n",
    "#     return sum(p.numel() for p in model.parameters() if p.requires_grad)"
   ]
  },
  {
   "cell_type": "code",
   "execution_count": 270,
   "id": "931842c1-63e5-454b-8fa6-0f6bdce9f6e7",
   "metadata": {
    "tags": []
   },
   "outputs": [],
   "source": [
    "# from mango import scheduler\n",
    "\n",
    "# def objective(param_list):\n",
    "#     param_list=param_list[0]\n",
    "#     print('param_list ',param_list )\n",
    "    \n",
    "#     model_params = {k: v for k, v in param_list.items() if k.startswith(\"model_\")}\n",
    "#     print(model_params)\n",
    "#     hidden_size = model_params['model_num_toreduce'] * model_params['model_num_ly']\n",
    "#     print(model_params['model_num_ly'])\n",
    "#     print(hidden_size)\n",
    "#     print(model_params)\n",
    "#     model = SageConv2(5, hidden_size, num_class, model_params)\n",
    "#     print(model)\n",
    "#     print(f\"Number of parameters: {count_parameters(model)}\")\n",
    "#     model.to(device)\n",
    "#     optimizer = torch.optim.Adam(model.parameters(), lr=param_list['lr'])\n",
    "#     # Addestramento e valutazione\n",
    "#     for epoch in range(1, 2):\n",
    "#         start = time.time()\n",
    "#         model = train_model(train_loader, model, optimizer)\n",
    "#         train_acc, train_loss, _, _ = evaluate_model(model, train_loader)\n",
    "#         val_acc, val_loss, _, _ = evaluate_model(model, val_loader)\n",
    "#     return [train_loss]\n",
    "\n",
    "\n",
    "#         # model = GNN_model.SageConv2(hidden_size, ly, NUM_FEATURES, 1,64)"
   ]
  },
  {
   "cell_type": "code",
   "execution_count": 271,
   "id": "9dfe25fe-0a07-4908-a367-43bc6a573f9f",
   "metadata": {
    "tags": []
   },
   "outputs": [
    {
     "name": "stdout",
     "output_type": "stream",
     "text": [
      "param_list  {'model_num_toreduce': 64, 'model_num_ly': 3, 'lr': 0.0001, 'batch_size': 32}\n",
      "{'model_num_toreduce': 64, 'model_num_ly': 3}\n",
      "3\n",
      "192\n",
      "{'model_num_toreduce': 64, 'model_num_ly': 3}\n",
      "SageConv2(\n",
      "  (conv_layers): ModuleList(\n",
      "    (0): SAGEConv(5, 192, aggr=mean)\n",
      "    (1): SAGEConv(192, 128, aggr=mean)\n",
      "    (2): SAGEConv(128, 1, aggr=mean)\n",
      "  )\n",
      ")\n",
      "Number of parameters: 51649\n",
      "param_list  {'model_num_toreduce': 64, 'model_num_ly': 10, 'lr': 0.0001, 'batch_size': 32}\n",
      "{'model_num_toreduce': 64, 'model_num_ly': 10}\n",
      "10\n",
      "640\n",
      "{'model_num_toreduce': 64, 'model_num_ly': 10}\n",
      "SageConv2(\n",
      "  (conv_layers): ModuleList(\n",
      "    (0): SAGEConv(5, 640, aggr=mean)\n",
      "    (1): SAGEConv(640, 576, aggr=mean)\n",
      "    (2): SAGEConv(576, 512, aggr=mean)\n",
      "    (3): SAGEConv(512, 448, aggr=mean)\n",
      "    (4): SAGEConv(448, 384, aggr=mean)\n",
      "    (5): SAGEConv(384, 320, aggr=mean)\n",
      "    (6): SAGEConv(320, 256, aggr=mean)\n",
      "    (7): SAGEConv(256, 192, aggr=mean)\n",
      "    (8): SAGEConv(192, 128, aggr=mean)\n",
      "    (9): SAGEConv(128, 1, aggr=mean)\n",
      "  )\n",
      ")\n",
      "Number of parameters: 2697089\n"
     ]
    },
    {
     "data": {
      "application/vnd.jupyter.widget-view+json": {
       "model_id": "b76d2cf6cd0e4d919a0f898af3481aac",
       "version_major": 2,
       "version_minor": 0
      },
      "text/plain": [
       "  0%|          | 0/5 [00:00<?, ?it/s]"
      ]
     },
     "metadata": {},
     "output_type": "display_data"
    },
    {
     "name": "stdout",
     "output_type": "stream",
     "text": [
      "param_list  {'batch_size': 32, 'lr': 0.0001, 'model_num_ly': 3, 'model_num_toreduce': 64}\n",
      "{'model_num_ly': 3, 'model_num_toreduce': 64}\n",
      "3\n",
      "192\n",
      "{'model_num_ly': 3, 'model_num_toreduce': 64}\n",
      "SageConv2(\n",
      "  (conv_layers): ModuleList(\n",
      "    (0): SAGEConv(5, 192, aggr=mean)\n",
      "    (1): SAGEConv(192, 128, aggr=mean)\n",
      "    (2): SAGEConv(128, 1, aggr=mean)\n",
      "  )\n",
      ")\n",
      "Number of parameters: 51649\n",
      "param_list  {'batch_size': 32, 'lr': 0.0001, 'model_num_ly': 3, 'model_num_toreduce': 64}\n",
      "{'model_num_ly': 3, 'model_num_toreduce': 64}\n",
      "3\n",
      "192\n",
      "{'model_num_ly': 3, 'model_num_toreduce': 64}\n",
      "SageConv2(\n",
      "  (conv_layers): ModuleList(\n",
      "    (0): SAGEConv(5, 192, aggr=mean)\n",
      "    (1): SAGEConv(192, 128, aggr=mean)\n",
      "    (2): SAGEConv(128, 1, aggr=mean)\n",
      "  )\n",
      ")\n",
      "Number of parameters: 51649\n",
      "param_list  {'batch_size': 32, 'lr': 0.0001, 'model_num_ly': 10, 'model_num_toreduce': 64}\n",
      "{'model_num_ly': 10, 'model_num_toreduce': 64}\n",
      "10\n",
      "640\n",
      "{'model_num_ly': 10, 'model_num_toreduce': 64}\n",
      "SageConv2(\n",
      "  (conv_layers): ModuleList(\n",
      "    (0): SAGEConv(5, 640, aggr=mean)\n",
      "    (1): SAGEConv(640, 576, aggr=mean)\n",
      "    (2): SAGEConv(576, 512, aggr=mean)\n",
      "    (3): SAGEConv(512, 448, aggr=mean)\n",
      "    (4): SAGEConv(448, 384, aggr=mean)\n",
      "    (5): SAGEConv(384, 320, aggr=mean)\n",
      "    (6): SAGEConv(320, 256, aggr=mean)\n",
      "    (7): SAGEConv(256, 192, aggr=mean)\n",
      "    (8): SAGEConv(192, 128, aggr=mean)\n",
      "    (9): SAGEConv(128, 1, aggr=mean)\n",
      "  )\n",
      ")\n",
      "Number of parameters: 2697089\n"
     ]
    },
    {
     "ename": "ValueError",
     "evalue": "Found input variables with inconsistent numbers of samples: [6, 5]",
     "output_type": "error",
     "traceback": [
      "\u001b[0;31m---------------------------------------------------------------------------\u001b[0m",
      "\u001b[0;31mValueError\u001b[0m                                Traceback (most recent call last)",
      "Cell \u001b[0;32mIn[271], line 8\u001b[0m\n\u001b[1;32m      3\u001b[0m config[\u001b[38;5;124m\"\u001b[39m\u001b[38;5;124mnum_iteration\u001b[39m\u001b[38;5;124m\"\u001b[39m] \u001b[38;5;241m=\u001b[39m \u001b[38;5;241m5\u001b[39m\n\u001b[1;32m      5\u001b[0m tuner \u001b[38;5;241m=\u001b[39m Tuner(HYPERPARAMETERS, \n\u001b[1;32m      6\u001b[0m               objective\u001b[38;5;241m=\u001b[39mobjective,\n\u001b[1;32m      7\u001b[0m               conf_dict\u001b[38;5;241m=\u001b[39mconfig) \n\u001b[0;32m----> 8\u001b[0m results \u001b[38;5;241m=\u001b[39m \u001b[43mtuner\u001b[49m\u001b[38;5;241;43m.\u001b[39;49m\u001b[43mminimize\u001b[49m\u001b[43m(\u001b[49m\u001b[43m)\u001b[49m\n",
      "File \u001b[0;32m~/.local/lib/python3.11/site-packages/mango/tuner.py:160\u001b[0m, in \u001b[0;36mTuner.minimize\u001b[0;34m(self)\u001b[0m\n\u001b[1;32m    158\u001b[0m \u001b[38;5;28;01mdef\u001b[39;00m \u001b[38;5;21mminimize\u001b[39m(\u001b[38;5;28mself\u001b[39m):\n\u001b[1;32m    159\u001b[0m     \u001b[38;5;28mself\u001b[39m\u001b[38;5;241m.\u001b[39mmaximize_objective \u001b[38;5;241m=\u001b[39m \u001b[38;5;28;01mFalse\u001b[39;00m\n\u001b[0;32m--> 160\u001b[0m     \u001b[38;5;28;01mreturn\u001b[39;00m \u001b[38;5;28;43mself\u001b[39;49m\u001b[38;5;241;43m.\u001b[39;49m\u001b[43mrun\u001b[49m\u001b[43m(\u001b[49m\u001b[43m)\u001b[49m\n",
      "File \u001b[0;32m~/.local/lib/python3.11/site-packages/mango/tuner.py:147\u001b[0m, in \u001b[0;36mTuner.run\u001b[0;34m(self)\u001b[0m\n\u001b[1;32m    145\u001b[0m \u001b[38;5;28;01mdef\u001b[39;00m \u001b[38;5;21mrun\u001b[39m(\u001b[38;5;28mself\u001b[39m):\n\u001b[1;32m    146\u001b[0m     \u001b[38;5;28;01mif\u001b[39;00m \u001b[38;5;28mself\u001b[39m\u001b[38;5;241m.\u001b[39mconfig\u001b[38;5;241m.\u001b[39mis_bayesian:\n\u001b[0;32m--> 147\u001b[0m         \u001b[38;5;28mself\u001b[39m\u001b[38;5;241m.\u001b[39mresults \u001b[38;5;241m=\u001b[39m \u001b[38;5;28;43mself\u001b[39;49m\u001b[38;5;241;43m.\u001b[39;49m\u001b[43mrunBayesianOptimizer\u001b[49m\u001b[43m(\u001b[49m\u001b[43m)\u001b[49m\n\u001b[1;32m    148\u001b[0m     \u001b[38;5;28;01melif\u001b[39;00m \u001b[38;5;28mself\u001b[39m\u001b[38;5;241m.\u001b[39mconfig\u001b[38;5;241m.\u001b[39mis_random:\n\u001b[1;32m    149\u001b[0m         \u001b[38;5;28mself\u001b[39m\u001b[38;5;241m.\u001b[39mresults \u001b[38;5;241m=\u001b[39m \u001b[38;5;28mself\u001b[39m\u001b[38;5;241m.\u001b[39mrunRandomOptimizer()\n",
      "File \u001b[0;32m~/.local/lib/python3.11/site-packages/mango/tuner.py:258\u001b[0m, in \u001b[0;36mTuner.runBayesianOptimizer\u001b[0;34m(self)\u001b[0m\n\u001b[1;32m    254\u001b[0m     X_next_batch \u001b[38;5;241m=\u001b[39m Optimizer\u001b[38;5;241m.\u001b[39mget_next_batch(\n\u001b[1;32m    255\u001b[0m         X_sample, Y_sample, X_domain_np, batch_size\u001b[38;5;241m=\u001b[39m\u001b[38;5;28mself\u001b[39m\u001b[38;5;241m.\u001b[39mconfig\u001b[38;5;241m.\u001b[39mbatch_size\n\u001b[1;32m    256\u001b[0m     )\n\u001b[1;32m    257\u001b[0m \u001b[38;5;28;01melif\u001b[39;00m \u001b[38;5;28mself\u001b[39m\u001b[38;5;241m.\u001b[39mconfig\u001b[38;5;241m.\u001b[39mstrategy_is_clustering:\n\u001b[0;32m--> 258\u001b[0m     X_next_batch \u001b[38;5;241m=\u001b[39m \u001b[43mOptimizer\u001b[49m\u001b[38;5;241;43m.\u001b[39;49m\u001b[43mget_next_batch_clustering\u001b[49m\u001b[43m(\u001b[49m\n\u001b[1;32m    259\u001b[0m \u001b[43m        \u001b[49m\u001b[43mX_sample\u001b[49m\u001b[43m,\u001b[49m\u001b[43m \u001b[49m\u001b[43mY_sample\u001b[49m\u001b[43m,\u001b[49m\u001b[43m \u001b[49m\u001b[43mX_domain_np\u001b[49m\u001b[43m,\u001b[49m\u001b[43m \u001b[49m\u001b[43mbatch_size\u001b[49m\u001b[38;5;241;43m=\u001b[39;49m\u001b[38;5;28;43mself\u001b[39;49m\u001b[38;5;241;43m.\u001b[39;49m\u001b[43mconfig\u001b[49m\u001b[38;5;241;43m.\u001b[39;49m\u001b[43mbatch_size\u001b[49m\n\u001b[1;32m    260\u001b[0m \u001b[43m    \u001b[49m\u001b[43m)\u001b[49m\n\u001b[1;32m    261\u001b[0m \u001b[38;5;28;01melse\u001b[39;00m:\n\u001b[1;32m    262\u001b[0m     \u001b[38;5;66;03m# assume penalty approach\u001b[39;00m\n\u001b[1;32m    263\u001b[0m     X_next_batch \u001b[38;5;241m=\u001b[39m Optimizer\u001b[38;5;241m.\u001b[39mget_next_batch(\n\u001b[1;32m    264\u001b[0m         X_sample, Y_sample, X_domain_np, batch_size\u001b[38;5;241m=\u001b[39m\u001b[38;5;28mself\u001b[39m\u001b[38;5;241m.\u001b[39mconfig\u001b[38;5;241m.\u001b[39mbatch_size\n\u001b[1;32m    265\u001b[0m     )\n",
      "File \u001b[0;32m~/.local/lib/python3.11/site-packages/mango/optimizer/bayesian_learning.py:227\u001b[0m, in \u001b[0;36mBayesianLearning.get_next_batch_clustering\u001b[0;34m(self, X, Y, X_tries, batch_size)\u001b[0m\n\u001b[1;32m    224\u001b[0m X_temp \u001b[38;5;241m=\u001b[39m X\n\u001b[1;32m    225\u001b[0m Y_temp \u001b[38;5;241m=\u001b[39m Y\n\u001b[0;32m--> 227\u001b[0m \u001b[38;5;28;43mself\u001b[39;49m\u001b[38;5;241;43m.\u001b[39;49m\u001b[43msurrogate\u001b[49m\u001b[38;5;241;43m.\u001b[39;49m\u001b[43mfit\u001b[49m\u001b[43m(\u001b[49m\u001b[43mX_temp\u001b[49m\u001b[43m,\u001b[49m\u001b[43m \u001b[49m\u001b[43mY_temp\u001b[49m\u001b[43m)\u001b[49m\n\u001b[1;32m    228\u001b[0m \u001b[38;5;28mself\u001b[39m\u001b[38;5;241m.\u001b[39miteration_count \u001b[38;5;241m=\u001b[39m \u001b[38;5;28mself\u001b[39m\u001b[38;5;241m.\u001b[39miteration_count \u001b[38;5;241m+\u001b[39m \u001b[38;5;241m1\u001b[39m\n\u001b[1;32m    230\u001b[0m Acquition \u001b[38;5;241m=\u001b[39m \u001b[38;5;28mself\u001b[39m\u001b[38;5;241m.\u001b[39mGet_Upper_Confidence_Bound(X_tries)\n",
      "File \u001b[0;32m~/.local/lib/python3.11/site-packages/sklearn/base.py:1474\u001b[0m, in \u001b[0;36m_fit_context.<locals>.decorator.<locals>.wrapper\u001b[0;34m(estimator, *args, **kwargs)\u001b[0m\n\u001b[1;32m   1467\u001b[0m     estimator\u001b[38;5;241m.\u001b[39m_validate_params()\n\u001b[1;32m   1469\u001b[0m \u001b[38;5;28;01mwith\u001b[39;00m config_context(\n\u001b[1;32m   1470\u001b[0m     skip_parameter_validation\u001b[38;5;241m=\u001b[39m(\n\u001b[1;32m   1471\u001b[0m         prefer_skip_nested_validation \u001b[38;5;129;01mor\u001b[39;00m global_skip_validation\n\u001b[1;32m   1472\u001b[0m     )\n\u001b[1;32m   1473\u001b[0m ):\n\u001b[0;32m-> 1474\u001b[0m     \u001b[38;5;28;01mreturn\u001b[39;00m \u001b[43mfit_method\u001b[49m\u001b[43m(\u001b[49m\u001b[43mestimator\u001b[49m\u001b[43m,\u001b[49m\u001b[43m \u001b[49m\u001b[38;5;241;43m*\u001b[39;49m\u001b[43margs\u001b[49m\u001b[43m,\u001b[49m\u001b[43m \u001b[49m\u001b[38;5;241;43m*\u001b[39;49m\u001b[38;5;241;43m*\u001b[39;49m\u001b[43mkwargs\u001b[49m\u001b[43m)\u001b[49m\n",
      "File \u001b[0;32m~/.local/lib/python3.11/site-packages/sklearn/gaussian_process/_gpr.py:251\u001b[0m, in \u001b[0;36mGaussianProcessRegressor.fit\u001b[0;34m(self, X, y)\u001b[0m\n\u001b[1;32m    249\u001b[0m \u001b[38;5;28;01melse\u001b[39;00m:\n\u001b[1;32m    250\u001b[0m     dtype, ensure_2d \u001b[38;5;241m=\u001b[39m \u001b[38;5;28;01mNone\u001b[39;00m, \u001b[38;5;28;01mFalse\u001b[39;00m\n\u001b[0;32m--> 251\u001b[0m X, y \u001b[38;5;241m=\u001b[39m \u001b[38;5;28;43mself\u001b[39;49m\u001b[38;5;241;43m.\u001b[39;49m\u001b[43m_validate_data\u001b[49m\u001b[43m(\u001b[49m\n\u001b[1;32m    252\u001b[0m \u001b[43m    \u001b[49m\u001b[43mX\u001b[49m\u001b[43m,\u001b[49m\n\u001b[1;32m    253\u001b[0m \u001b[43m    \u001b[49m\u001b[43my\u001b[49m\u001b[43m,\u001b[49m\n\u001b[1;32m    254\u001b[0m \u001b[43m    \u001b[49m\u001b[43mmulti_output\u001b[49m\u001b[38;5;241;43m=\u001b[39;49m\u001b[38;5;28;43;01mTrue\u001b[39;49;00m\u001b[43m,\u001b[49m\n\u001b[1;32m    255\u001b[0m \u001b[43m    \u001b[49m\u001b[43my_numeric\u001b[49m\u001b[38;5;241;43m=\u001b[39;49m\u001b[38;5;28;43;01mTrue\u001b[39;49;00m\u001b[43m,\u001b[49m\n\u001b[1;32m    256\u001b[0m \u001b[43m    \u001b[49m\u001b[43mensure_2d\u001b[49m\u001b[38;5;241;43m=\u001b[39;49m\u001b[43mensure_2d\u001b[49m\u001b[43m,\u001b[49m\n\u001b[1;32m    257\u001b[0m \u001b[43m    \u001b[49m\u001b[43mdtype\u001b[49m\u001b[38;5;241;43m=\u001b[39;49m\u001b[43mdtype\u001b[49m\u001b[43m,\u001b[49m\n\u001b[1;32m    258\u001b[0m \u001b[43m\u001b[49m\u001b[43m)\u001b[49m\n\u001b[1;32m    260\u001b[0m n_targets_seen \u001b[38;5;241m=\u001b[39m y\u001b[38;5;241m.\u001b[39mshape[\u001b[38;5;241m1\u001b[39m] \u001b[38;5;28;01mif\u001b[39;00m y\u001b[38;5;241m.\u001b[39mndim \u001b[38;5;241m>\u001b[39m \u001b[38;5;241m1\u001b[39m \u001b[38;5;28;01melse\u001b[39;00m \u001b[38;5;241m1\u001b[39m\n\u001b[1;32m    261\u001b[0m \u001b[38;5;28;01mif\u001b[39;00m \u001b[38;5;28mself\u001b[39m\u001b[38;5;241m.\u001b[39mn_targets \u001b[38;5;129;01mis\u001b[39;00m \u001b[38;5;129;01mnot\u001b[39;00m \u001b[38;5;28;01mNone\u001b[39;00m \u001b[38;5;129;01mand\u001b[39;00m n_targets_seen \u001b[38;5;241m!=\u001b[39m \u001b[38;5;28mself\u001b[39m\u001b[38;5;241m.\u001b[39mn_targets:\n",
      "File \u001b[0;32m~/.local/lib/python3.11/site-packages/sklearn/base.py:650\u001b[0m, in \u001b[0;36mBaseEstimator._validate_data\u001b[0;34m(self, X, y, reset, validate_separately, cast_to_ndarray, **check_params)\u001b[0m\n\u001b[1;32m    648\u001b[0m         y \u001b[38;5;241m=\u001b[39m check_array(y, input_name\u001b[38;5;241m=\u001b[39m\u001b[38;5;124m\"\u001b[39m\u001b[38;5;124my\u001b[39m\u001b[38;5;124m\"\u001b[39m, \u001b[38;5;241m*\u001b[39m\u001b[38;5;241m*\u001b[39mcheck_y_params)\n\u001b[1;32m    649\u001b[0m     \u001b[38;5;28;01melse\u001b[39;00m:\n\u001b[0;32m--> 650\u001b[0m         X, y \u001b[38;5;241m=\u001b[39m \u001b[43mcheck_X_y\u001b[49m\u001b[43m(\u001b[49m\u001b[43mX\u001b[49m\u001b[43m,\u001b[49m\u001b[43m \u001b[49m\u001b[43my\u001b[49m\u001b[43m,\u001b[49m\u001b[43m \u001b[49m\u001b[38;5;241;43m*\u001b[39;49m\u001b[38;5;241;43m*\u001b[39;49m\u001b[43mcheck_params\u001b[49m\u001b[43m)\u001b[49m\n\u001b[1;32m    651\u001b[0m     out \u001b[38;5;241m=\u001b[39m X, y\n\u001b[1;32m    653\u001b[0m \u001b[38;5;28;01mif\u001b[39;00m \u001b[38;5;129;01mnot\u001b[39;00m no_val_X \u001b[38;5;129;01mand\u001b[39;00m check_params\u001b[38;5;241m.\u001b[39mget(\u001b[38;5;124m\"\u001b[39m\u001b[38;5;124mensure_2d\u001b[39m\u001b[38;5;124m\"\u001b[39m, \u001b[38;5;28;01mTrue\u001b[39;00m):\n",
      "File \u001b[0;32m~/.local/lib/python3.11/site-packages/sklearn/utils/validation.py:1281\u001b[0m, in \u001b[0;36mcheck_X_y\u001b[0;34m(X, y, accept_sparse, accept_large_sparse, dtype, order, copy, force_all_finite, ensure_2d, allow_nd, multi_output, ensure_min_samples, ensure_min_features, y_numeric, estimator)\u001b[0m\n\u001b[1;32m   1263\u001b[0m X \u001b[38;5;241m=\u001b[39m check_array(\n\u001b[1;32m   1264\u001b[0m     X,\n\u001b[1;32m   1265\u001b[0m     accept_sparse\u001b[38;5;241m=\u001b[39maccept_sparse,\n\u001b[0;32m   (...)\u001b[0m\n\u001b[1;32m   1276\u001b[0m     input_name\u001b[38;5;241m=\u001b[39m\u001b[38;5;124m\"\u001b[39m\u001b[38;5;124mX\u001b[39m\u001b[38;5;124m\"\u001b[39m,\n\u001b[1;32m   1277\u001b[0m )\n\u001b[1;32m   1279\u001b[0m y \u001b[38;5;241m=\u001b[39m _check_y(y, multi_output\u001b[38;5;241m=\u001b[39mmulti_output, y_numeric\u001b[38;5;241m=\u001b[39my_numeric, estimator\u001b[38;5;241m=\u001b[39mestimator)\n\u001b[0;32m-> 1281\u001b[0m \u001b[43mcheck_consistent_length\u001b[49m\u001b[43m(\u001b[49m\u001b[43mX\u001b[49m\u001b[43m,\u001b[49m\u001b[43m \u001b[49m\u001b[43my\u001b[49m\u001b[43m)\u001b[49m\n\u001b[1;32m   1283\u001b[0m \u001b[38;5;28;01mreturn\u001b[39;00m X, y\n",
      "File \u001b[0;32m~/.local/lib/python3.11/site-packages/sklearn/utils/validation.py:457\u001b[0m, in \u001b[0;36mcheck_consistent_length\u001b[0;34m(*arrays)\u001b[0m\n\u001b[1;32m    455\u001b[0m uniques \u001b[38;5;241m=\u001b[39m np\u001b[38;5;241m.\u001b[39munique(lengths)\n\u001b[1;32m    456\u001b[0m \u001b[38;5;28;01mif\u001b[39;00m \u001b[38;5;28mlen\u001b[39m(uniques) \u001b[38;5;241m>\u001b[39m \u001b[38;5;241m1\u001b[39m:\n\u001b[0;32m--> 457\u001b[0m     \u001b[38;5;28;01mraise\u001b[39;00m \u001b[38;5;167;01mValueError\u001b[39;00m(\n\u001b[1;32m    458\u001b[0m         \u001b[38;5;124m\"\u001b[39m\u001b[38;5;124mFound input variables with inconsistent numbers of samples: \u001b[39m\u001b[38;5;132;01m%r\u001b[39;00m\u001b[38;5;124m\"\u001b[39m\n\u001b[1;32m    459\u001b[0m         \u001b[38;5;241m%\u001b[39m [\u001b[38;5;28mint\u001b[39m(l) \u001b[38;5;28;01mfor\u001b[39;00m l \u001b[38;5;129;01min\u001b[39;00m lengths]\n\u001b[1;32m    460\u001b[0m     )\n",
      "\u001b[0;31mValueError\u001b[0m: Found input variables with inconsistent numbers of samples: [6, 5]"
     ]
    }
   ],
   "source": [
    "# config = dict()\n",
    "# config[\"optimizer\"] = \"Bayesian\"\n",
    "# config[\"num_iteration\"] = 5\n",
    "\n",
    "# tuner = Tuner(HYPERPARAMETERS, \n",
    "#               objective=objective,\n",
    "#               conf_dict=config) \n",
    "# results = tuner.minimize()\n"
   ]
  },
  {
   "cell_type": "code",
   "execution_count": 267,
   "id": "63ca825e-38a6-40fc-a945-c43ec9fd0a85",
   "metadata": {
    "tags": []
   },
   "outputs": [
    {
     "name": "stdout",
     "output_type": "stream",
     "text": [
      "best hyperparameters: {'batch_size': 32, 'lr': 0.0001, 'model_num_ly': 3, 'model_num_toreduce': 64}\n",
      "best objective: 0.6807309985160828\n"
     ]
    }
   ],
   "source": [
    "print('best hyperparameters:',results['best_params'])\n",
    "print('best objective:',results['best_objective'])"
   ]
  },
  {
   "cell_type": "code",
   "execution_count": null,
   "id": "e000632e-48dd-4185-9c0a-f8fa6f06a36a",
   "metadata": {
    "tags": []
   },
   "outputs": [],
   "source": [
    "# # Iperparametri da sperimentare\n",
    "# learning_rates = [5e-5,1e-4]\n",
    "# # num_heads_list = [4,8,16]\n",
    "# activation1=['tanh']\n",
    "# agg=['max','sum']\n",
    "# best_val_loss = float('inf')\n",
    "# best_params = None\n",
    "# num_ly_list=[3,5,10]\n",
    "# for lr,act1,ly in itertools.product(learning_rates,activation1,num_ly_list):\n",
    "#     start = time.time()\n",
    "#     print('ly ',ly)\n",
    "#     hidden_size = 64*ly\n",
    "#     # model = SageConv(num_feat,num_class,aggr)\n",
    "#     model = GNN_model.SageConv2(hidden_size, ly, NUM_FEATURES, 1,64)\n",
    "#     model.to(device)\n",
    "#     optimizer = torch.optim.Adam(model.parameters(), lr=lr)\n",
    "#     reset_weights(model)\n",
    "#     # Addestramento e valutazione\n",
    "#     for epoch in range(1, 2):\n",
    "#         start = time.time()\n",
    "#         model = train_model(train_loader)\n",
    "#         train_acc, train_loss,_, _ = evaluate_model(model, train_loader)\n",
    "#         val_acc, val_loss, _, _ = evaluate_model(model, val_loader)\n",
    "#         if epoch % 1 == 0:\n",
    "           \n",
    "#             print(f'Epoch: {epoch}, Train Acc: {train_acc:.4f}, Train Loss: {train_loss:.4f}, Val Acc: {val_acc:.4f}, Val Loss: {val_loss:.4f}, time :{time.time() - start} ')\n",
    "\n",
    "#         if val_loss.item() <= best_val_loss:\n",
    "#             best_val_loss = val_loss.item()\n",
    "            \n",
    "#             best_params = {\n",
    "#                 'learning_rate': lr,\n",
    "#                 'hidden_layer_size': hidden_size,\n",
    "#                 'activation1':act1,\n",
    "#                 'numly':ly\n",
    "#             }\n",
    "            "
   ]
  },
  {
   "cell_type": "code",
   "execution_count": 16,
   "id": "dde8bfaf-fa05-4623-a990-fc0f991b2e3a",
   "metadata": {
    "tags": []
   },
   "outputs": [],
   "source": [
    "# def reset_weights(m):\n",
    "#     if isinstance(m, SAGEConv) or isinstance(m,Linear):\n",
    "#         m.reset_parameters()"
   ]
  },
  {
   "cell_type": "code",
   "execution_count": null,
   "id": "ab520107-f88d-4f28-8fe9-90c04bf342e9",
   "metadata": {
    "tags": []
   },
   "outputs": [],
   "source": [
    "# Utilizza i migliori parametri trovati\n",
    "# best_model = SageConv(num_feat,num_class,aggr=best_params['aggregation'])\n",
    "# best_model.to(device)\n",
    "# optimizer = torch.optim.Adam(best_model.parameters(), lr=5e-5)"
   ]
  },
  {
   "cell_type": "code",
   "execution_count": 78,
   "id": "5c7f1450-a43a-40d0-8e7a-b0c251d27c34",
   "metadata": {
    "tags": []
   },
   "outputs": [],
   "source": [
    "# # Iperparametri da sperimentare\n",
    "# learning_rates = [0.0001]\n",
    "# hidden_layer_sizes = [256]\n",
    "# # num_heads_list = [4,8,16]\n",
    "# activation1=['tanh']\n",
    "# agg=['mean','sum','lstm']\n",
    "# best_val_loss = float('inf')\n",
    "# best_params = None\n",
    "\n",
    "# for lr, hidden_size,act1,act2 in itertools.product(learning_rates, hidden_layer_sizes,activation1,agg):\n",
    "#     start = time.time()\n",
    "#     model = SageConv(hidden_size,act1,act2)\n",
    "#     model.to(device)\n",
    "#     optimizer = torch.optim.Adam(model.parameters(), lr=lr)\n",
    "#     reset_weights(model)\n",
    "#     # Addestramento e valutazione\n",
    "#     for epoch in range(1, 100):\n",
    "#         model = train_model(train_loader)\n",
    "#         train_acc, train_loss,_, _ = evaluate_model(model, train_loader)\n",
    "#         val_acc, val_loss, _, _ = evaluate_model(model, val_loader)\n",
    "#         if epoch % 1 == 0:\n",
    "#             print(f'lr: {lr},hidden_size: {hidden_size}, act1: {act1}, aggregation: {act2}')\n",
    "#             print(f'Epoch: {epoch}, Train Acc: {train_acc:.4f}, Train Loss: {train_loss:.4f}, Val Acc: {val_acc:.4f}, Val Loss: {val_loss:.4f}, time :{time.time() - start} ')\n",
    "\n",
    "#         if val_loss.item() <= best_val_loss:\n",
    "#             best_val_loss = val_loss.item()\n",
    "#             print('BEST lr ',lr,' hidden ',hidden_size,' act ',act1,' aggr ',act2 )\n",
    "#             best_params = {\n",
    "#                 'learning_rate': lr,\n",
    "#                 'hidden_layer_size': hidden_size,\n",
    "#                 'activation1':act1,\n",
    "#                 'aggregation':act2\n",
    "#             }\n",
    "            \n",
    "\n",
    "# # Utilizza i migliori parametri trovati\n",
    "# best_model = SageConv(best_params['hidden_layer_size'],best_params['activation1'],best_params['activation2'])\n",
    "# best_model.to(device)\n",
    "# optimizer = torch.optim.Adam(best_model.parameters(), lr=best_params['learning_rate'])\n"
   ]
  },
  {
   "cell_type": "code",
   "execution_count": 14,
   "id": "05ce02f6-1a55-4aee-b955-89d757658137",
   "metadata": {
    "tags": []
   },
   "outputs": [
    {
     "name": "stdout",
     "output_type": "stream",
     "text": [
      "{'aggregation': 'mean'}\n"
     ]
    }
   ],
   "source": [
    "# print(best_params)"
   ]
  },
  {
   "cell_type": "code",
   "execution_count": 24,
   "id": "2b553847-6771-40f5-91b4-49beedc09fcd",
   "metadata": {
    "tags": []
   },
   "outputs": [
    {
     "name": "stdout",
     "output_type": "stream",
     "text": [
      "Epoch_stop: 1\n",
      "Epoch: 1, Train Acc: 0.5038, Train Loss: 0.4718, Val Acc: 0.5026, Val Loss: 0.4693\n"
     ]
    }
   ],
   "source": [
    "# # Addestramento e valutazione finale\n",
    "# train_accuracies = []\n",
    "# validation_accuracies = []\n",
    "# validation_losses = []\n",
    "# train_losses = []\n",
    "\n",
    "# val_recall=[]\n",
    "# val_precision=[]\n",
    "# train_recall=[]\n",
    "# train_precision=[]\n",
    "\n",
    "# for epoch in range(1, 200):\n",
    "#     best_model = train_model(train_loader)\n",
    "#     train_acc, train_loss, train_rec, train_prec = evaluate_model(best_model, train_loader)\n",
    "#     val_acc, val_loss, val_rec, val_prec = evaluate_model(best_model, val_loader)\n",
    "#     train_losses.append(train_loss)\n",
    "                   \n",
    "#     validation_losses.append(val_loss)\n",
    "\n",
    "#     train_accuracies.append(train_acc)\n",
    "#     validation_accuracies.append(val_acc)\n",
    "    \n",
    "#     train_precision.append(train_prec)\n",
    "#     train_recall.append(train_rec)\n",
    "    \n",
    "#     val_precision.append(val_prec)\n",
    "#     val_recall.append(val_rec)\n",
    "#     if val_loss.item() <= min(validation_losses).item():\n",
    "#         torch.save(model, f'/lustrehome/federicacuna/TB_Sept_2023_ml/output_gnn_pkl/1mill_ev_200epoch_hyp/best_model_GCNHYP.pkl')\n",
    "#         print(f'Epoch_stop: {epoch}')\n",
    "\n",
    "#     if epoch % 20 == 0:\n",
    "#         print(f'Epoch: {epoch}, Train Acc: {train_acc:.4f}, Train Loss: {train_loss:.4f}, Val Acc: {val_acc:.4f}, Val Loss: {val_loss:.4f}')"
   ]
  },
  {
   "cell_type": "code",
   "execution_count": 25,
   "id": "1e5d40aa-32af-4f5e-82ae-1d049c1d9ecf",
   "metadata": {
    "tags": []
   },
   "outputs": [
    {
     "name": "stdout",
     "output_type": "stream",
     "text": [
      "The best result was achieved after 0 epochs with a validation accuracy of 0.5026 and a loss of 0.4693\n",
      "The validation recall is 0.2694 and the precision is 0.9843\n"
     ]
    }
   ],
   "source": [
    "# best_validation_loss = min(validation_losses)\n",
    "# best_epoch = validation_losses.index(best_validation_loss)\n",
    "# accuracy_at_best_epoch = validation_accuracies[best_epoch]\n",
    "# recall_at_best_epoch=val_recall[best_epoch]\n",
    "# precision_at_best_epoch=val_precision[best_epoch]\n",
    "# print(f\"The best result was achieved after {best_epoch} epochs with a validation accuracy of {accuracy_at_best_epoch:.4f} and a loss of {best_validation_loss:.4f}\")\n",
    "# print(f\"The validation recall is {recall_at_best_epoch:.4f} and the precision is {precision_at_best_epoch:.4f}\")"
   ]
  },
  {
   "cell_type": "code",
   "execution_count": 27,
   "id": "7a94fe7c-1f20-4173-90ef-812b0f01e770",
   "metadata": {
    "tags": []
   },
   "outputs": [
    {
     "data": {
      "image/png": "[encoded data removed]",
      "text/plain": [
       "<Figure size 432x288 with 1 Axes>"
      ]
     },
     "metadata": {
      "needs_background": "light"
     },
     "output_type": "display_data"
    }
   ],
   "source": [
    "# fig, ax = plt.subplots()\n",
    "# #fig.set_size_inches(30.5, 15.5)\n",
    "\n",
    "# plt.plot(validation_losses,color='orange',label='validation loss')\n",
    "# plt.plot(train_losses,color='blue',label='training loss')\n",
    "\n",
    "# plt.axvline(x=best_epoch, color=\"green\", linewidth=2, linestyle='dashed',label='best epoch')\n",
    "# #plt.legend(['Val Loss', 'Train Loss', \"Best Epoch\"])\n",
    "# plt.legend()\n",
    "\n",
    "# # Hide the right and top spines\n",
    "# ax.spines['right'].set_visible(False)\n",
    "# ax.spines['top'].set_visible(False)\n",
    "# ax.spines['bottom'].set_visible(False)\n",
    "# ax.spines['left'].set_visible(False)\n",
    "\n",
    "# plt.title(\"Model training and validation loss per epoch\", fontsize=10, fontweight='bold')\n",
    "# #plt.ylim(0.05,0.2)\n",
    "# plt.savefig('/lustrehome/federicacuna/TB_Sept_2023_ml/output_gnn_img/1million_sageconv_hyp/GCNHYP_loss.png')\n",
    "# plt.show()"
   ]
  },
  {
   "cell_type": "code",
   "execution_count": 28,
   "id": "61d70c32-f00c-4af8-833b-13e8a256cba0",
   "metadata": {
    "tags": []
   },
   "outputs": [
    {
     "data": {
      "image/png": "[encoded data removed]",
      "text/plain": [
       "<Figure size 432x288 with 1 Axes>"
      ]
     },
     "metadata": {
      "needs_background": "light"
     },
     "output_type": "display_data"
    }
   ],
   "source": [
    "# fig, ax = plt.subplots()\n",
    "# #fig.set_size_inches(30.5, 15.5)\n",
    "\n",
    "# plt.plot(validation_accuracies,color='orange',label='validation acc')\n",
    "# plt.plot(train_accuracies,color='blue',label='training acc')\n",
    "\n",
    "# plt.legend()\n",
    "\n",
    "# # Hide the right and top spines\n",
    "# ax.spines['right'].set_visible(False)\n",
    "# ax.spines['top'].set_visible(False)\n",
    "# ax.spines['bottom'].set_visible(False)\n",
    "# ax.spines['left'].set_visible(False)\n",
    "\n",
    "# plt.title(\"Model training and validation accuracy per epoch\", fontsize=10, fontweight='bold')\n",
    "# #plt.ylim(0.05,0.2)\n",
    "# plt.savefig('/lustrehome/federicacuna/TB_Sept_2023_ml/output_gnn_img/1million_sageconv_hyp/GCNHYP_acc.png')\n",
    "# plt.show()"
   ]
  },
  {
   "cell_type": "code",
   "execution_count": 30,
   "id": "07d4ac14-2b1e-4912-b8c6-c7b9d1a8960c",
   "metadata": {
    "tags": []
   },
   "outputs": [
    {
     "name": "stdout",
     "output_type": "stream",
     "text": [
      "accuracy  0.5023663157894737  recall  0.26915799432355725  precision  0.982550213578115\n"
     ]
    }
   ],
   "source": [
    "# best_model = torch.load(\"/lustrehome/federicacuna/TB_Sept_2023_ml/output_gnn_pkl/1mill_ev_200epoch_hyp/best_model_sageconv4ly.pkl\")\n",
    "# best_model.to(device) \n",
    "\n",
    "# correct = 0\n",
    "# total_samples = 0\n",
    "# pred_test_cl=[]\n",
    "# targets=[]\n",
    "# with torch.no_grad():\n",
    "#     for data in test_loader:\n",
    "#         data = data.to(device)  \n",
    "        \n",
    "#         model_output = best_model(data)\n",
    "#         predicted_class =  torch.where(model_output > 0.8, 1, 0)\n",
    "#         pred_test_cl.extend(predicted_class.tolist())\n",
    "#         correct += int((predicted_class == data.y).sum())\n",
    "#         targets.extend(data.y.tolist())\n",
    "#         total_samples += data.y.size(0)\n",
    "\n",
    "# print('accuracy ',accuracy_score(targets,pred_test_cl),' recall ', recall_score(targets,pred_test_cl),' precision ',precision_score(targets,pred_test_cl))\n"
   ]
  },
  {
   "cell_type": "code",
   "execution_count": null,
   "id": "4af51372-f2f0-4fcd-a3fd-778d58fd7aef",
   "metadata": {},
   "outputs": [],
   "source": []
  }
 ],
 "metadata": {
  "kernelspec": {
   "display_name": "py_env",
   "language": "python",
   "name": "py_env"
  },
  "language_info": {
   "codemirror_mode": {
    "name": "ipython",
    "version": 3
   },
   "file_extension": ".py",
   "mimetype": "text/x-python",
   "name": "python",
   "nbconvert_exporter": "python",
   "pygments_lexer": "ipython3",
   "version": "3.8.2"
  }
 },
 "nbformat": 4,
 "nbformat_minor": 5
}
