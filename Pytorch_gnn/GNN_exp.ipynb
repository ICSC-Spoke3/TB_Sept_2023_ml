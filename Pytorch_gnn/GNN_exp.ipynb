{
 "cells": [
  {
   "cell_type": "code",
   "execution_count": 1,
   "id": "b533b2f1-ee6f-408b-9dd3-d655335fe9cc",
   "metadata": {
    "tags": []
   },
   "outputs": [
    {
     "name": "stdout",
     "output_type": "stream",
     "text": [
      "Welcome to JupyROOT 6.20/02\n"
     ]
    }
   ],
   "source": [
    "import torch\n",
    "import torch_geometric\n",
    "import matplotlib.pyplot as plt\n",
    "from torch.nn import Linear\n",
    "import torch.nn.functional as F\n",
    "from torch_geometric.nn import SAGEConv\n",
    "import MyData as data\n",
    "from torch_geometric.loader import DataLoader\n",
    "from matplotlib.lines import Line2D\n",
    "import ROOT\n",
    "import numpy as np"
   ]
  },
  {
   "cell_type": "code",
   "execution_count": 2,
   "id": "a2e4d240-a393-4aa9-8212-15290ad79fa7",
   "metadata": {
    "tags": []
   },
   "outputs": [],
   "source": [
    "view='yz'"
   ]
  },
  {
   "cell_type": "code",
   "execution_count": 3,
   "id": "86107183-7b76-46a2-b9ba-61837a675ec0",
   "metadata": {
    "tags": []
   },
   "outputs": [
    {
     "name": "stdout",
     "output_type": "stream",
     "text": [
      "5\n"
     ]
    },
    {
     "data": {
      "text/plain": [
       "SageConv(\n",
       "  (conv1): SAGEConv(5, 256, aggr=mean)\n",
       "  (conv2): SAGEConv(256, 192, aggr=mean)\n",
       "  (conv3): SAGEConv(192, 1, aggr=mean)\n",
       ")"
      ]
     },
     "execution_count": 3,
     "metadata": {},
     "output_type": "execute_result"
    }
   ],
   "source": [
    "NUM_FEATURES = 5\n",
    "print(NUM_FEATURES)\n",
    "NUM_CLASSES =1\n",
    "HIDDEN_LAYER_SIZE = 256\n",
    "device = torch.device('cuda' if torch.cuda.is_available() else 'cpu')\n",
    "class SageConv(torch.nn.Module):\n",
    "    def __init__(self):\n",
    "        super().__init__()\n",
    "        # Model layers\n",
    "        self.conv1 = SAGEConv(NUM_FEATURES, HIDDEN_LAYER_SIZE)\n",
    "        self.conv2 = SAGEConv(HIDDEN_LAYER_SIZE, HIDDEN_LAYER_SIZE-64)\n",
    "        self.conv3 = SAGEConv(HIDDEN_LAYER_SIZE-64, NUM_CLASSES)\n",
    "        #self.lin_1 = Linear(HIDDEN_LAYER_SIZE, NUM_CLASSES*4)\n",
    "        #self.lin_2 = Linear(NUM_CLASSES*4, NUM_CLASSES)\n",
    "\n",
    "    def forward(self, data):\n",
    "        # The architecture itself\n",
    "        x, edge_index, batch = data.x, data.edge_index, data.batch\n",
    "        x = self.conv1(x, edge_index)\n",
    "        x = F.tanh(x)\n",
    "        x = self.conv2(x, edge_index)\n",
    "        x = F.relu(x)\n",
    "        x = self.conv3(x, edge_index)\n",
    "       \n",
    "        #x = self.lin_1(x)\n",
    "       # x = F.tanh(x)\n",
    "        #x = self.lin_2(x)\n",
    "        return F.sigmoid(x)\n",
    "if view=='xz':\n",
    "    best_model = torch.load(\"/lustrehome/federicacuna/TB_Sept_2023_ml/output_gnn_pkl/1millionevt_sageconv_200epoch/best_model_sageconv4.pkl\")\n",
    "else:\n",
    "     best_model = torch.load(\"/lustrehome/federicacuna/TB_Sept_2023_ml/output_gnn_pkl/1millionevt_sageconv_200epoch/best_model_sageconv_yz_4.pkl\")\n",
    "best_model.to(device) "
   ]
  },
  {
   "cell_type": "code",
   "execution_count": 4,
   "id": "4a9ff665-dc98-4842-8b98-3247153feb7a",
   "metadata": {
    "tags": []
   },
   "outputs": [],
   "source": [
    "data=data.dataset_preparation(root='/lustrehome/federicacuna/TestBeam_T10_2023/Data/')\n",
    "if view=='xz':\n",
    "    fname='pi-_10GeV_4ly_exp'\n",
    "else:\n",
    "    fname='pi-_10GeV_4ly_1e-4_yz'"
   ]
  },
  {
   "cell_type": "code",
   "execution_count": 5,
   "id": "ccf5bef4-a23c-4371-bcde-6afa01495b65",
   "metadata": {
    "tags": []
   },
   "outputs": [
    {
     "name": "stdout",
     "output_type": "stream",
     "text": [
      "taking the  data_0.pt\n"
     ]
    }
   ],
   "source": [
    "data_trk=data.get(0,fname)"
   ]
  },
  {
   "cell_type": "code",
   "execution_count": 6,
   "id": "a5b491b0-0389-4b3f-8d80-200ff2829ab2",
   "metadata": {
    "tags": []
   },
   "outputs": [
    {
     "data": {
      "text/plain": [
       "108860"
      ]
     },
     "execution_count": 6,
     "metadata": {},
     "output_type": "execute_result"
    }
   ],
   "source": [
    "len(data_trk)"
   ]
  },
  {
   "cell_type": "code",
   "execution_count": 19,
   "id": "9386328f-f153-4900-8afb-7ed5ffd0f842",
   "metadata": {
    "tags": []
   },
   "outputs": [
    {
     "name": "stdout",
     "output_type": "stream",
     "text": [
      "0   Data(x=[6, 5], edge_index=[2, 8], edge_attr=[8, 2])\n",
      "1   Data(x=[6, 5], edge_index=[2, 8], edge_attr=[8, 2])\n",
      "2   Data(x=[8, 5], edge_index=[2, 15], edge_attr=[15, 2])\n",
      "3   Data(x=[7, 5], edge_index=[2, 11], edge_attr=[11, 2])\n",
      "4   Data(x=[6, 5], edge_index=[2, 8], edge_attr=[8, 2])\n",
      "5   Data(x=[7, 5], edge_index=[2, 11], edge_attr=[11, 2])\n",
      "6   Data(x=[8, 5], edge_index=[2, 15], edge_attr=[15, 2])\n",
      "7   Data(x=[6, 5], edge_index=[2, 8], edge_attr=[8, 2])\n",
      "8   Data(x=[6, 5], edge_index=[2, 8], edge_attr=[8, 2])\n",
      "9   Data(x=[6, 5], edge_index=[2, 8], edge_attr=[8, 2])\n"
     ]
    }
   ],
   "source": [
    "for i in range(10):\n",
    "    print(i,' ',data_trk[i])"
   ]
  },
  {
   "cell_type": "code",
   "execution_count": 9,
   "id": "5e3614eb-193c-4f7e-a3d4-2e2c98f1345f",
   "metadata": {
    "tags": []
   },
   "outputs": [],
   "source": [
    "# for data in test_loader:\n",
    "#     # print(data)\n",
    "#     data.to(device)\n",
    "#     model_output = best_model(data)\n",
    "#     best_model.to(device)\n",
    "#     predicted_class = torch.where(model_output > threshold, 1, 0)"
   ]
  },
  {
   "cell_type": "code",
   "execution_count": 7,
   "id": "dda1a8b8-2b0c-4d0f-aab2-acae704e3b39",
   "metadata": {
    "tags": []
   },
   "outputs": [
    {
     "name": "stdout",
     "output_type": "stream",
     "text": [
      "217   Data(x=[7, 5], edge_index=[2, 11], edge_attr=[11, 2])\n",
      "tensor([[1.0000],\n",
      "        [0.1517],\n",
      "        [0.1435],\n",
      "        [0.7974],\n",
      "        [0.0071],\n",
      "        [0.8268],\n",
      "        [0.8529]], device='cuda:0', grad_fn=<SigmoidBackward0>)\n"
     ]
    },
    {
     "data": {
      "image/png": "[encoded data removed]",
      "text/plain": [
       "<Figure size 432x288 with 1 Axes>"
      ]
     },
     "metadata": {
      "needs_background": "light"
     },
     "output_type": "display_data"
    }
   ],
   "source": [
    "best_model.eval()\n",
    "ev_id=217\n",
    "test_batch=data_trk[ev_id]\n",
    "print(ev_id,' ',test_batch)\n",
    "nly=4\n",
    "test_batch.to(device) \n",
    "model_output = best_model(test_batch) \n",
    "model_output.to(device)\n",
    "predicted_class = torch.where(model_output > 0.7, 1, 0)\n",
    "\n",
    "print(model_output)\n",
    "\n",
    "test_batch=test_batch.detach().cpu()\n",
    "if view=='xz':\n",
    "    ly=test_batch.x[:,2]\n",
    "    x=test_batch.x[:,0]\n",
    "    z=test_batch.x[:,3]\n",
    "    label=test_batch.y\n",
    "    label_pred=predicted_class\n",
    "\n",
    "    for i in range(len(x)):\n",
    "            plt.scatter(z[i],x[i], color='blue', label='1')\n",
    "    plt.xlim(-100,2000)\n",
    "    plt.ylim(-20,20)\n",
    "    plt.xlabel('z [mm]')\n",
    "    plt.ylabel('x [mm]')\n",
    "    plt.title(f'Ev {ev_id}')\n",
    "else:\n",
    "    ly=test_batch.x[:,2]\n",
    "    y=test_batch.x[:,0]\n",
    "    z=test_batch.x[:,3]\n",
    "    label=test_batch.y\n",
    "    label_pred=predicted_class\n",
    "\n",
    "    for i in range(len(y)):\n",
    "            plt.scatter(z[i],y[i], color='blue', label='1')\n",
    "    plt.xlim(-100,2000)\n",
    "    plt.ylim(-20,20)\n",
    "    plt.xlabel('z [mm]')\n",
    "    plt.ylabel('y [mm]')\n",
    "    plt.title(f'Ev {ev_id}')\n",
    "\n"
   ]
  },
  {
   "cell_type": "code",
   "execution_count": 8,
   "id": "82397cde-854a-4860-b85d-9c25094486f1",
   "metadata": {
    "tags": []
   },
   "outputs": [
    {
     "data": {
      "image/png": "[encoded data removed]",
      "text/plain": [
       "<Figure size 432x288 with 1 Axes>"
      ]
     },
     "metadata": {
      "needs_background": "light"
     },
     "output_type": "display_data"
    }
   ],
   "source": [
    "if view=='xz':\n",
    "    x_pred=[]\n",
    "    ly_pred=[]\n",
    "    z_pred=[]\n",
    "    for i in range(len(x)):\n",
    "        if label_pred[i] == 0:\n",
    "            plt.scatter(z[i],x[i], color='grey', label='0 (Pred)')\n",
    "        else:\n",
    "            x_pred.append(x[i].item())\n",
    "            ly_pred.append(ly[i].item())\n",
    "            z_pred.append(z[i].item())\n",
    "            plt.scatter(z[i],x[i], color='red', label='1 (Pred)')\n",
    "\n",
    "    plt.xlim(-100,2000)\n",
    "    plt.ylim(-20,20)\n",
    "    #plt.legend()\n",
    "    plt.ylabel('x [mm]')\n",
    "    plt.xlabel('z [mm]')\n",
    "    plt.title(f'Ev {ev_id}: predicted label')\n",
    "    legend_elements = [Line2D([0], [0], marker='o', color='w', label='0 (GNN pred)', markerfacecolor='grey', markersize=10),\n",
    "                       Line2D([0], [0], marker='o', color='w', label='1 (GNN pred)', markerfacecolor='red', markersize=10)]\n",
    "\n",
    "    plt.legend(handles=legend_elements, loc='upper right')\n",
    "    plt.savefig(f'/lustrehome/federicacuna/TB_Sept_2023_ml/gnn_results_expdata/1million_sage_conv/pred_label_evxz{ev_id}')\n",
    "else:\n",
    "    y_pred=[]\n",
    "    ly_pred=[]\n",
    "    z_pred=[]\n",
    "    for i in range(len(y)):\n",
    "        if label_pred[i] == 0:\n",
    "            plt.scatter(z[i],y[i], color='grey', label='0 (Pred)')\n",
    "        else:\n",
    "            y_pred.append(y[i].item())\n",
    "            ly_pred.append(ly[i].item())\n",
    "            z_pred.append(z[i].item())\n",
    "            plt.scatter(z[i],y[i], color='red', label='1 (Pred)')\n",
    "\n",
    "    plt.xlim(-100,2000)\n",
    "    plt.ylim(-20,20)\n",
    "    #plt.legend()\n",
    "    plt.ylabel('y [mm]')\n",
    "    plt.xlabel('z [mm]')\n",
    "    plt.title(f'Ev {ev_id}: predicted label')\n",
    "    legend_elements = [Line2D([0], [0], marker='o', color='w', label='0 (GNN pred)', markerfacecolor='grey', markersize=10),\n",
    "                       Line2D([0], [0], marker='o', color='w', label='1 (GNN pred)', markerfacecolor='red', markersize=10)]\n",
    "\n",
    "    plt.legend(handles=legend_elements, loc='upper right')\n",
    "    plt.savefig(f'/lustrehome/federicacuna/TB_Sept_2023_ml/gnn_results_expdata/1million_sage_conv/pred_label_evyz{ev_id}')"
   ]
  },
  {
   "cell_type": "code",
   "execution_count": 7,
   "id": "4060d574-90f8-4636-8b75-de2135d446e0",
   "metadata": {},
   "outputs": [],
   "source": [
    "if view=='xz':\n",
    "    myfile=ROOT.TFile('/lustrehome/federicacuna/TB_Sept_2023_ml/root_file_predhit/pred_exp_data_xview.root','RECREATE')\n",
    "\n",
    "    test_batch_ev=[]\n",
    "    for ev_id in range(0,len(data_trk)):\n",
    "        test_batch_ev.append(data_trk[ev_id])\n",
    "    \n",
    "    predicted_class_ev=[]\n",
    "    for i in test_batch_ev:\n",
    "        i.to(device)\n",
    "        model_output = best_model(i) \n",
    "\n",
    "        predicted_class_ev.append((torch.where(model_output > 0.7, 1, 0)))\n",
    "\n",
    "    ly_ev=[]\n",
    "    x_ev=[]\n",
    "    z_ev=[]\n",
    "    pe_ev=[]\n",
    "    dx_ev=[]\n",
    "    no_good_ev=[]\n",
    "    for i in range(len(test_batch_ev)):    \n",
    "        ev=test_batch_ev[i]\n",
    "        ev=ev.detach().cpu()\n",
    "        label = predicted_class_ev[i].detach().cpu().numpy()\n",
    "        ly_ev.append([])\n",
    "        x_ev.append([])\n",
    "        z_ev.append([])\n",
    "        pe_ev.append([])\n",
    "        dx_ev.append([])\n",
    "        if all(el==0 for el in label):\n",
    "            print(i)\n",
    "            no_good_ev.append(i)\n",
    "        for j,lab in enumerate(label):\n",
    "            # print(j)\n",
    "            # print(lab)\n",
    "            if lab==1:\n",
    "                tmp_ly=ev.x[j,2].detach().cpu().tolist()\n",
    "                tmp_x=ev.x[j,0].detach().cpu().tolist()\n",
    "                tmp_z=ev.x[j,3].detach().cpu().tolist() \n",
    "                tmp_dx=ev.x[j,1].detach().cpu().tolist() \n",
    "                tmp_pe=ev.x[j,4].detach().cpu().tolist()\n",
    "                # print(tmp_x)\n",
    "                ly_ev[i].append(tmp_ly)\n",
    "                x_ev[i].append(tmp_x)\n",
    "                z_ev[i].append(tmp_z)\n",
    "                dx_ev[i].append(tmp_dx)\n",
    "                pe_ev[i].append(tmp_pe)\n",
    "\n",
    "\n",
    "    OutTree = ROOT.TTree(\"Reco_tree\", \"Reco_tree\")   \n",
    "    ly_ev_vec = ROOT.std.vector(\"float\")()\n",
    "    x_ev_vec = ROOT.std.vector(\"float\")()\n",
    "    z_ev_vec = ROOT.std.vector(\"float\")()\n",
    "    dx_ev_vec = ROOT.std.vector(\"float\")()\n",
    "    pe_ev_vec = ROOT.std.vector(\"float\")()\n",
    "    no_good_ev_vec=ROOT.std.vector(\"int\")()\n",
    "    OutTree.Branch(\"ly_ev_vec\", ly_ev_vec)\n",
    "    OutTree.Branch(\"x_ev_vec\", x_ev_vec)\n",
    "    OutTree.Branch(\"z_ev_vec\", z_ev_vec)\n",
    "    OutTree.Branch(\"dx_ev_vec\", dx_ev_vec)\n",
    "    OutTree.Branch(\"pe_ev_vec\", pe_ev_vec)\n",
    "    # print(x_ev)\n",
    "    \n",
    "    OutTree.Branch(\"no_good_ev_vec\", no_good_ev_vec)\n",
    "    # print(x_ev)\n",
    "    \n",
    "    for no_good in no_good_ev:\n",
    "        no_good_ev_vec.push_back(no_good)\n",
    "\n",
    "    for l,x,z,dx,pe in zip(ly_ev,x_ev,z_ev,dx_ev,pe_ev):\n",
    "\n",
    "        # Clear the contents of the vector\n",
    "        ly_ev_vec.clear()\n",
    "        x_ev_vec.clear()\n",
    "        z_ev_vec.clear()\n",
    "        dx_ev_vec.clear()\n",
    "        pe_ev_vec.clear()\n",
    "\n",
    "        # Replace the contents in the vector with the contents\n",
    "        # from the current array\n",
    "        ly_ev_vec.reserve(len(l))\n",
    "        x_ev_vec.reserve(len(x))\n",
    "        z_ev_vec.reserve(len(z))\n",
    "        dx_ev_vec.reserve(len(dx))\n",
    "        pe_ev_vec.reserve(len(pe))\n",
    "\n",
    "\n",
    "        for il in l:\n",
    "            ly_ev_vec.push_back(il)\n",
    "        for ix in x:\n",
    "            x_ev_vec.push_back(ix)\n",
    "        for iz in z:\n",
    "            z_ev_vec.push_back(iz)\n",
    "        for idx in dx:\n",
    "            dx_ev_vec.push_back(idx)\n",
    "        for ipe in pe:\n",
    "            pe_ev_vec.push_back(ipe)\n",
    "\n",
    "\n",
    "        OutTree.Fill()\n",
    "\n",
    "    OutTree.Write()\n",
    "    myfile.Close()\n",
    "else:\n",
    "    myfile=ROOT.TFile('/lustrehome/federicacuna/TB_Sept_2023_ml/root_file_predhit/pred_exp_data_yview.root','RECREATE')\n",
    "\n",
    "    test_batch_ev=[]\n",
    "    for ev_id in range(0,len(data_trk)):\n",
    "        test_batch_ev.append(data_trk[ev_id])\n",
    "        predicted_class_ev=[]\n",
    "\n",
    "    for i in test_batch_ev:\n",
    "        i.to(device)\n",
    "        model_output = best_model(i) \n",
    "\n",
    "        predicted_class_ev.append((torch.where(model_output > 0.7, 1, 0)))\n",
    "\n",
    "\n",
    "    ly_ev=[]\n",
    "    y_ev=[]\n",
    "    z_ev=[]\n",
    "    pe_ev=[]\n",
    "    dy_ev=[]\n",
    "    no_good_ev=[]\n",
    "    for i in range(len(test_batch_ev)):    \n",
    "        ev=test_batch_ev[i]\n",
    "        ev=ev.detach().cpu()\n",
    "        label = predicted_class_ev[i].detach().cpu().numpy()\n",
    "        ly_ev.append([])\n",
    "        y_ev.append([])\n",
    "        z_ev.append([])\n",
    "        pe_ev.append([])\n",
    "        dy_ev.append([])\n",
    "        if all(el==0 for el in label):\n",
    "            # print(i)\n",
    "            no_good_ev.append(i)\n",
    "        for j,lab in enumerate(label):\n",
    "            # print(j)\n",
    "            # print(lab)\n",
    "            if lab==1:\n",
    "                tmp_ly=ev.x[j,2].detach().cpu().tolist()\n",
    "                tmp_y=ev.x[j,0].detach().cpu().tolist()\n",
    "                tmp_z=ev.x[j,3].detach().cpu().tolist() \n",
    "                tmp_dy=ev.x[j,1].detach().cpu().tolist() \n",
    "                tmp_pe=ev.x[j,4].detach().cpu().tolist()\n",
    "                # print(tmp_x)\n",
    "                ly_ev[i].append(tmp_ly)\n",
    "                y_ev[i].append(tmp_y)\n",
    "                z_ev[i].append(tmp_z)\n",
    "                dy_ev[i].append(tmp_dy)\n",
    "                pe_ev[i].append(tmp_pe)\n",
    "\n",
    "\n",
    "    OutTree = ROOT.TTree(\"Reco_tree\", \"Reco_tree\")   \n",
    "    ly_ev_vec = ROOT.std.vector(\"float\")()\n",
    "    y_ev_vec = ROOT.std.vector(\"float\")()\n",
    "    z_ev_vec = ROOT.std.vector(\"float\")()\n",
    "    dy_ev_vec = ROOT.std.vector(\"float\")()\n",
    "    pe_ev_vec = ROOT.std.vector(\"float\")()\n",
    "    no_good_ev_vec=ROOT.std.vector(\"int\")()\n",
    "    \n",
    "    OutTree.Branch(\"ly_ev_vec\", ly_ev_vec)\n",
    "    OutTree.Branch(\"y_ev_vec\", y_ev_vec)\n",
    "    OutTree.Branch(\"z_ev_vec\", z_ev_vec)\n",
    "    OutTree.Branch(\"dy_ev_vec\", dy_ev_vec)\n",
    "    OutTree.Branch(\"pe_ev_vec\", pe_ev_vec)\n",
    "    OutTree.Branch(\"no_good_ev_vec\", no_good_ev_vec)\n",
    "    # print(x_ev)\n",
    "    \n",
    "    for no_good in no_good_ev:\n",
    "        no_good_ev_vec.push_back(no_good)\n",
    "        \n",
    "    for l,y,z,dy,pe in zip(ly_ev,y_ev,z_ev,dy_ev,pe_ev):\n",
    "\n",
    "        # Clear the contents of the vector\n",
    "        ly_ev_vec.clear()\n",
    "        y_ev_vec.clear()\n",
    "        z_ev_vec.clear()\n",
    "        dy_ev_vec.clear()\n",
    "        pe_ev_vec.clear()\n",
    "\n",
    "        # Replace the contents in the vector with the contents\n",
    "        # from the current array\n",
    "        ly_ev_vec.reserve(len(l))\n",
    "        y_ev_vec.reserve(len(y))\n",
    "        z_ev_vec.reserve(len(z))\n",
    "        dy_ev_vec.reserve(len(dy))\n",
    "        pe_ev_vec.reserve(len(pe))\n",
    "       \n",
    "\n",
    "        for il in l:\n",
    "            ly_ev_vec.push_back(il)\n",
    "        for iy in y:\n",
    "            y_ev_vec.push_back(iy)\n",
    "        for iz in z:\n",
    "            z_ev_vec.push_back(iz)\n",
    "        for idy in dy:\n",
    "            dy_ev_vec.push_back(idy)\n",
    "        for ipe in pe:\n",
    "            pe_ev_vec.push_back(ipe)\n",
    "\n",
    "\n",
    "        OutTree.Fill()\n",
    "\n",
    "    OutTree.Write()\n",
    "    myfile.Close()\n",
    "    "
   ]
  },
  {
   "cell_type": "code",
   "execution_count": null,
   "id": "80a579c9-ef4c-4da2-8549-7c0e314f45bf",
   "metadata": {},
   "outputs": [],
   "source": []
  }
 ],
 "metadata": {
  "kernelspec": {
   "display_name": "py_env",
   "language": "python",
   "name": "py_env"
  },
  "language_info": {
   "codemirror_mode": {
    "name": "ipython",
    "version": 3
   },
   "file_extension": ".py",
   "mimetype": "text/x-python",
   "name": "python",
   "nbconvert_exporter": "python",
   "pygments_lexer": "ipython3",
   "version": "3.8.2"
  }
 },
 "nbformat": 4,
 "nbformat_minor": 5
}
