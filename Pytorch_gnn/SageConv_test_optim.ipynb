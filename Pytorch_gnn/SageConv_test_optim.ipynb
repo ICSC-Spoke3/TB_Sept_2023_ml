{
 "cells": [
  {
   "cell_type": "code",
   "execution_count": 28,
   "id": "0d35c804",
   "metadata": {
    "tags": []
   },
   "outputs": [],
   "source": [
    "import pandas as pd\n",
    "import torch\n",
    "import torch_geometric\n",
    "from torch_geometric.data import Dataset, Data\n",
    "import numpy as np \n",
    "from torch_geometric.loader import DataLoader\n",
    "import os\n",
    "from torch_geometric.nn import Sequential, GCNConv,GATConv\n",
    "import matplotlib.pyplot as plt\n",
    "from torch.nn import Linear\n",
    "import torch.nn.functional as F\n",
    "from sklearn.metrics import precision_score, recall_score, accuracy_score\n",
    "import time\n",
    "import MyData as data\n",
    "from matplotlib.lines import Line2D\n",
    "from sklearn.linear_model import LinearRegression\n"
   ]
  },
  {
   "cell_type": "code",
   "execution_count": 43,
   "id": "00e2db41",
   "metadata": {
    "tags": []
   },
   "outputs": [
    {
     "name": "stdout",
     "output_type": "stream",
     "text": [
      "file 31 not found\n",
      "file 81 not found\n",
      "taking a list of file from  0  to  100\n",
      "file 304 not found\n",
      "taking a list of file from  300  to  350\n",
      "CPU times: user 3min 23s, sys: 6.48 s, total: 3min 29s\n",
      "Wall time: 3min 43s\n"
     ]
    }
   ],
   "source": [
    "%%time\n",
    "data_handler=data.dataset_preparation(root='/lustrehome/federicacuna/TB_Sept_2023_ml/Data/preprocessed')\n",
    "fname='pi-_10GeV_4ly_1e-4_inclined_NEW_viewx'\n",
    "data_trk=data_handler.get_more_file(0,100,fname)\n",
    "data_val=data_handler.get_more_file(300,350,fname)\n",
    "train_dataset=data_trk"
   ]
  },
  {
   "cell_type": "code",
   "execution_count": 4,
   "id": "bf3b03b7",
   "metadata": {
    "tags": []
   },
   "outputs": [
    {
     "data": {
      "text/plain": [
       "'\\ndata_x=[]\\nfor i in range(0,10):\\n    data_x.append(data.get(i))\\n'"
      ]
     },
     "execution_count": 4,
     "metadata": {},
     "output_type": "execute_result"
    }
   ],
   "source": [
    "#data_x=data.get(0)\n",
    "'''\n",
    "data_x=[]\n",
    "for i in range(0,10):\n",
    "    data_x.append(data.get(i))\n",
    "'''\n"
   ]
  },
  {
   "cell_type": "code",
   "execution_count": 44,
   "id": "5b8c39a5",
   "metadata": {
    "tags": []
   },
   "outputs": [
    {
     "data": {
      "text/plain": [
       "680573"
      ]
     },
     "execution_count": 44,
     "metadata": {},
     "output_type": "execute_result"
    }
   ],
   "source": [
    "len(data_trk)\n",
    "# data_trk[:1000000]"
   ]
  },
  {
   "cell_type": "code",
   "execution_count": 19,
   "id": "ab12b97a",
   "metadata": {},
   "outputs": [
    {
     "name": "stdout",
     "output_type": "stream",
     "text": [
      "18597\n"
     ]
    }
   ],
   "source": [
    "# Seleziona gli elementi per cui l'attributo 'y' è tutto pari a 1\n",
    "# selected_data = [data for data in data_trk if torch.sum(data.y == 0) >=3]\n",
    "# print(len(selected_data))\n",
    "# # data_trk=data.get_more_file(21,22,fname)"
   ]
  },
  {
   "cell_type": "code",
   "execution_count": null,
   "id": "c60f21be",
   "metadata": {
    "tags": []
   },
   "outputs": [],
   "source": [
    "# Seleziona gli elementi per cui l'attributo 'y' è tutto pari a 1\n",
    "# selected_data_val = [data for data in data.get_more_file(30,35,fname) if torch.sum(data.y == 0) <= 4]\n",
    "# print(len(selected_data_val))"
   ]
  },
  {
   "cell_type": "code",
   "execution_count": 45,
   "id": "295493eb-802a-4d10-b8ad-e986d3db255e",
   "metadata": {
    "tags": []
   },
   "outputs": [
    {
     "name": "stdout",
     "output_type": "stream",
     "text": [
      "CPU times: user 25 µs, sys: 2 µs, total: 27 µs\n",
      "Wall time: 52.5 µs\n"
     ]
    }
   ],
   "source": [
    "%%time\n",
    "#data_x = data_x.shuffle()\n",
    "\n",
    "# train_dataset = selected_data\n",
    "'''\n",
    "val_dataset = data.get(18,fname)+data.get(19,fname)[:2000]\n",
    "\n",
    "'''\n",
    "val_dataset=data_val\n"
   ]
  },
  {
   "cell_type": "code",
   "execution_count": 46,
   "id": "ee848196-9a58-4b21-99e5-554cbaaba691",
   "metadata": {
    "tags": []
   },
   "outputs": [
    {
     "name": "stdout",
     "output_type": "stream",
     "text": [
      "taking the  data_160.pt\n"
     ]
    },
    {
     "data": {
      "text/plain": [
       "(680573, 338076, 6924)"
      ]
     },
     "execution_count": 46,
     "metadata": {},
     "output_type": "execute_result"
    }
   ],
   "source": [
    "test_dataset =data_handler.get(160,fname)\n",
    "len(train_dataset), len(val_dataset), len(test_dataset)"
   ]
  },
  {
   "cell_type": "code",
   "execution_count": 105,
   "id": "46050454",
   "metadata": {
    "tags": []
   },
   "outputs": [
    {
     "name": "stdout",
     "output_type": "stream",
     "text": [
      "0.5197469583291374\n",
      "0.4802530416708625\n",
      "CPU times: user 627 ms, sys: 7.86 ms, total: 635 ms\n",
      "Wall time: 632 ms\n"
     ]
    },
    {
     "data": {
      "text/plain": [
       "<BarContainer object of 2 artists>"
      ]
     },
     "execution_count": 105,
     "metadata": {},
     "output_type": "execute_result"
    },
    {
     "data": {
      "image/png": "[encoded data removed]",
      "text/plain": [
       "<Figure size 640x480 with 1 Axes>"
      ]
     },
     "metadata": {},
     "output_type": "display_data"
    }
   ],
   "source": [
    "%%time\n",
    "#check the dataset\n",
    "y_values = [item for data in train_dataset for item in data.y.tolist()]\n",
    "total_nodes = sum([len(data.y.tolist()) for data in train_dataset])\n",
    "count_1 = y_values.count(1)/total_nodes\n",
    "count_0 = y_values.count(0)/total_nodes\n",
    "\n",
    "print(count_1)\n",
    "print(count_0)\n",
    "# Crea il plot a barre\n",
    "plt.bar(['0', '1'], [count_0, count_1], color=['red', 'blue'])\n"
   ]
  },
  {
   "cell_type": "code",
   "execution_count": 47,
   "id": "2b9b235c-00eb-4d86-ba01-8a9f2a26dd3c",
   "metadata": {},
   "outputs": [
    {
     "data": {
      "text/plain": [
       "'2.2.2+cu121'"
      ]
     },
     "execution_count": 47,
     "metadata": {},
     "output_type": "execute_result"
    }
   ],
   "source": [
    "torch.__version__"
   ]
  },
  {
   "cell_type": "code",
   "execution_count": 106,
   "id": "44f1531d",
   "metadata": {
    "tags": []
   },
   "outputs": [
    {
     "name": "stdout",
     "output_type": "stream",
     "text": [
      "0.48601981182907117\n",
      "0.5139801881709288\n",
      "CPU times: user 102 ms, sys: 7.9 ms, total: 110 ms\n",
      "Wall time: 106 ms\n"
     ]
    },
    {
     "data": {
      "text/plain": [
       "<BarContainer object of 2 artists>"
      ]
     },
     "execution_count": 106,
     "metadata": {},
     "output_type": "execute_result"
    },
    {
     "data": {
      "image/png": "[encoded data removed]",
      "text/plain": [
       "<Figure size 640x480 with 1 Axes>"
      ]
     },
     "metadata": {},
     "output_type": "display_data"
    }
   ],
   "source": [
    "%%time\n",
    "y_values = [item for data in val_dataset for item in data.y.tolist()]\n",
    "total_nodes = sum([len(data.y.tolist()) for data in val_dataset])\n",
    "\n",
    "count_1 = y_values.count(1)/total_nodes\n",
    "count_0 = y_values.count(0)/total_nodes\n",
    "print(count_1)\n",
    "print(count_0)\n",
    "\n",
    "# Crea il plot a barre\n",
    "plt.bar(['0', '1'], [count_0, count_1], color=['red', 'blue'])"
   ]
  },
  {
   "cell_type": "code",
   "execution_count": 50,
   "id": "a3942430",
   "metadata": {
    "tags": []
   },
   "outputs": [
    {
     "name": "stdout",
     "output_type": "stream",
     "text": [
      "5\n",
      "CPU times: user 1.05 ms, sys: 30 µs, total: 1.08 ms\n",
      "Wall time: 718 µs\n"
     ]
    }
   ],
   "source": [
    "%%time\n",
    "from torch.nn import Linear\n",
    "import torch.nn.functional as F\n",
    "from torch_geometric.nn import SAGEConv\n",
    "\n",
    "NUM_FEATURES = train_dataset[0].x.shape[1]\n",
    "print(NUM_FEATURES)\n",
    "NUM_CLASSES =1\n",
    "HIDDEN_LAYER_SIZE = 256\n",
    "class SageConv(torch.nn.Module):\n",
    "    def __init__(self):\n",
    "        super().__init__()\n",
    "        # Model layers\n",
    "        self.conv1 = SAGEConv(NUM_FEATURES, HIDDEN_LAYER_SIZE)\n",
    "        self.conv2 = SAGEConv(HIDDEN_LAYER_SIZE, HIDDEN_LAYER_SIZE-64)\n",
    "        self.conv3 = SAGEConv(HIDDEN_LAYER_SIZE-64, NUM_CLASSES)\n",
    "        #self.lin_1 = Linear(HIDDEN_LAYER_SIZE, NUM_CLASSES*4)\n",
    "        #self.lin_2 = Linear(NUM_CLASSES*4, NUM_CLASSES)\n",
    "\n",
    "    def forward(self, data):\n",
    "        # The architecture itself\n",
    "        x, edge_index, batch = data.x, data.edge_index, data.batch\n",
    "        x = self.conv1(x, edge_index)\n",
    "        x = F.tanh(x)\n",
    "        x = self.conv2(x, edge_index)\n",
    "        x = F.relu(x)\n",
    "        x = self.conv3(x, edge_index)\n",
    "       \n",
    "        #x = self.lin_1(x)\n",
    "       # x = F.tanh(x)\n",
    "        #x = self.lin_2(x)\n",
    "        return F.sigmoid(x)"
   ]
  },
  {
   "cell_type": "code",
   "execution_count": null,
   "id": "2a3c9343",
   "metadata": {
    "tags": []
   },
   "outputs": [],
   "source": [
    "%%time\n",
    "from torch.nn import Linear\n",
    "import torch.nn.functional as F\n",
    "from torch_geometric.nn import SAGEConv\n",
    "\n",
    "NUM_FEATURES = train_dataset[0].x.shape[1]\n",
    "print(NUM_FEATURES)\n",
    "NUM_CLASSES =1\n",
    "HIDDEN_LAYER_SIZE = 256\n",
    "class SageConv2(torch.nn.Module):\n",
    "    def __init__(self):\n",
    "        super().__init__()\n",
    "        # Model layers\n",
    "        self.conv1 = SAGEConv(NUM_FEATURES, HIDDEN_LAYER_SIZE)\n",
    "        self.conv2 = SAGEConv(HIDDEN_LAYER_SIZE, HIDDEN_LAYER_SIZE-32)\n",
    "        self.conv3 = SAGEConv(HIDDEN_LAYER_SIZE-32, HIDDEN_LAYER_SIZE-32)\n",
    "        self.conv4 = SAGEConv(HIDDEN_LAYER_SIZE-32, HIDDEN_LAYER_SIZE-32)\n",
    "        self.conv5 = SAGEConv(HIDDEN_LAYER_SIZE-32, NUM_CLASSES)\n",
    "\n",
    "        #self.lin_1 = Linear(HIDDEN_LAYER_SIZE, NUM_CLASSES*4)\n",
    "        #self.lin_2 = Linear(NUM_CLASSES*4, NUM_CLASSES)\n",
    "\n",
    "    def forward(self, data):\n",
    "        # The architecture itself\n",
    "        x, edge_index, batch = data.x, data.edge_index, data.batch\n",
    "        x = self.conv1(x, edge_index)\n",
    "        x = F.tanh(x)\n",
    "        x = self.conv2(x, edge_index)\n",
    "        x = F.tanh(x)\n",
    "        x = self.conv3(x, edge_index)\n",
    "        x = F.tanh(x)\n",
    "        x = self.conv4(x, edge_index)\n",
    "        x = F.tanh(x)\n",
    "        x = self.conv5(x, edge_index)\n",
    "\n",
    "\n",
    "       \n",
    "        #x = self.lin_1(x)\n",
    "       # x = F.tanh(x)\n",
    "        #x = self.lin_2(x)\n",
    "        return F.sigmoid(x)"
   ]
  },
  {
   "cell_type": "code",
   "execution_count": 9,
   "id": "f8d3fb08",
   "metadata": {
    "tags": []
   },
   "outputs": [
    {
     "name": "stdout",
     "output_type": "stream",
     "text": [
      "5\n",
      "CPU times: user 62 µs, sys: 105 µs, total: 167 µs\n",
      "Wall time: 150 µs\n"
     ]
    }
   ],
   "source": [
    "%%time\n",
    "NUM_FEATURES = train_dataset[0].x.shape[1]\n",
    "print(NUM_FEATURES)\n",
    "NUM_CLASSES =1\n",
    "HIDDEN_LAYER_SIZE = 256\n",
    "\n",
    "class GCN(torch.nn.Module):\n",
    "    def __init__(self):\n",
    "        super().__init__()\n",
    "        # Model layers\n",
    "        self.conv1 = GCNConv(NUM_FEATURES, HIDDEN_LAYER_SIZE)\n",
    "        self.conv2 = GCNConv(HIDDEN_LAYER_SIZE, HIDDEN_LAYER_SIZE-64)\n",
    "        self.conv3 = GCNConv(HIDDEN_LAYER_SIZE-64, NUM_CLASSES)\n",
    "        #self.lin_1 = Linear(HIDDEN_LAYER_SIZE, NUM_CLASSES*4)\n",
    "        #self.lin_2 = Linear(NUM_CLASSES*4, NUM_CLASSES)\n",
    "\n",
    "    def forward(self, data):\n",
    "        # The architecture itself\n",
    "        x, edge_index, batch = data.x, data.edge_index, data.batch\n",
    "        x = self.conv1(x, edge_index)\n",
    "        x = F.tanh(x)\n",
    "        x = self.conv2(x, edge_index)\n",
    "        x = F.tanh(x)\n",
    "        x = self.conv3(x, edge_index)\n",
    "       \n",
    "        #x = self.lin_1(x)\n",
    "       # x = F.tanh(x)\n",
    "        #x = self.lin_2(x)\n",
    "        return F.sigmoid(x)"
   ]
  },
  {
   "cell_type": "code",
   "execution_count": 6,
   "id": "7d17ea12",
   "metadata": {
    "tags": []
   },
   "outputs": [
    {
     "name": "stdout",
     "output_type": "stream",
     "text": [
      "CPU times: user 63 µs, sys: 0 ns, total: 63 µs\n",
      "Wall time: 83.7 µs\n"
     ]
    }
   ],
   "source": [
    "%%time\n",
    "heads=8\n",
    "class GAT(torch.nn.Module):\n",
    "    def __init__(self):\n",
    "        super().__init__()\n",
    "        # Model layers\n",
    "        self.conv1 = GATConv(NUM_FEATURES, HIDDEN_LAYER_SIZE,heads)\n",
    "        #self.conv2 = GATConv(heads*(HIDDEN_LAYER_SIZE), HIDDEN_LAYER_SIZE,heads=8)\n",
    "        #self.conv3 = GATConv(heads*(HIDDEN_LAYER_SIZE), NUM_CLASSES,heads=1)\n",
    "        self.conv2 = GATConv(heads*HIDDEN_LAYER_SIZE, NUM_CLASSES,heads=1)\n",
    "\n",
    "\n",
    "    def forward(self, data):\n",
    "        # The architecture itself\n",
    "        x, edge_index, batch = data.x, data.edge_index, data.batch\n",
    "        x = self.conv1(x, edge_index)\n",
    "        x = F.elu(x)\n",
    "        x = self.conv2(x, edge_index)\n",
    "       # x = F.tanh(x)\n",
    "       # x = self.conv3(x, edge_index)\n",
    "     \n",
    "        #x = self.lin_1(x)\n",
    "       # x = F.tanh(x)\n",
    "        #x = self.lin_2(x)\n",
    "        return F.sigmoid(x)    "
   ]
  },
  {
   "cell_type": "code",
   "execution_count": 51,
   "id": "5204ef92",
   "metadata": {
    "tags": []
   },
   "outputs": [
    {
     "name": "stdout",
     "output_type": "stream",
     "text": [
      "Using device: cuda\n",
      "NVIDIA A100-PCIE-40GB MIG 1g.5gb\n",
      "Memory Usage:\n",
      "Allocated: 0.0 GB\n",
      "Cached:    2.3 GB\n",
      "CPU times: user 504 µs, sys: 0 ns, total: 504 µs\n",
      "Wall time: 508 µs\n"
     ]
    }
   ],
   "source": [
    "%%time\n",
    "device = torch.device('cuda' if torch.cuda.is_available() else 'cpu')\n",
    "#device=torch.device('cpu')\n",
    "print('Using device:', device)\n",
    "\n",
    "if device.type == 'cuda':\n",
    "    print(torch.cuda.get_device_name(0))\n",
    "    print('Memory Usage:')\n",
    "    print('Allocated:', round(torch.cuda.memory_allocated(0)/1024**3,1), 'GB')\n",
    "    print('Cached:   ', round(torch.cuda.memory_reserved(0)/1024**3,1), 'GB')\n"
   ]
  },
  {
   "cell_type": "code",
   "execution_count": 52,
   "id": "a406b874-b7b7-4e20-a21b-a880cfe89888",
   "metadata": {
    "tags": []
   },
   "outputs": [
    {
     "name": "stdout",
     "output_type": "stream",
     "text": [
      "CPU times: user 3.26 ms, sys: 1.9 ms, total: 5.16 ms\n",
      "Wall time: 4.31 ms\n"
     ]
    }
   ],
   "source": [
    "%%time\n",
    "model = SageConv().to(device)\n",
    "optimizer = torch.optim.Adam(model.parameters(), lr=0.001)\n",
    "####criterion = torch.nn.CrossEntropyLoss()\n",
    "criterion=torch.nn.functional.binary_cross_entropy#for sageconv"
   ]
  },
  {
   "cell_type": "code",
   "execution_count": 53,
   "id": "1a1ef9cf-b61d-4d04-a008-18c5b5a05a5b",
   "metadata": {
    "tags": []
   },
   "outputs": [],
   "source": [
    "def train_model(train_data):\n",
    "    model.to(device)\n",
    "    model.train()\n",
    "    for data in train_data:\n",
    "        data.to(device,non_blocking=True)\n",
    "        out = model(data) # Perform a single forward pass.\n",
    "        labels=data.y.float().to(device)\n",
    "        loss = criterion(out.squeeze(1).float(), labels)  # Compute the loss.\n",
    "        \n",
    "        loss.backward()  # Derive gradients.\n",
    "        optimizer.step()  # Update parameters based on gradients.\n",
    "        optimizer.zero_grad()  # Clear gradients.\n",
    "    return model.to(device)"
   ]
  },
  {
   "cell_type": "code",
   "execution_count": 54,
   "id": "e4bef407-b357-40e4-86da-cbbce72d06d4",
   "metadata": {
    "tags": []
   },
   "outputs": [],
   "source": [
    "threshold=0.8\n",
    "def evaluate_model(model,test_data):\n",
    "    model.eval()\n",
    "    correct = 0\n",
    "    total_samples = 0\n",
    "    model_outputs = []\n",
    "    targets = []\n",
    "    pred_class=[]\n",
    "\n",
    "    for data in test_data:\n",
    "        data.to(device)\n",
    "        model_output = model(data)\n",
    "        model_output.to(device)\n",
    "        predicted_class = torch.where(model_output > threshold, 1, 0)\n",
    "        \n",
    "        correct += int((predicted_class == data.y.float()).sum())\n",
    "        total_samples += len(data.y)\n",
    "\n",
    "          # store these to get the loss\n",
    "        model_outputs.extend(model_output.tolist())\n",
    "        targets.extend(data.y.float().tolist())\n",
    "        pred_class.extend(predicted_class.tolist())\n",
    "\n",
    "    \n",
    "    loss = criterion(torch.tensor(model_outputs).squeeze(1), torch.tensor(targets).float())\n",
    "    accuracy = accuracy_score(targets, pred_class)\n",
    "    precision = precision_score(targets, pred_class)\n",
    "    recall = recall_score(targets, pred_class)\n",
    "    \n",
    "    return accuracy, loss, recall, precision "
   ]
  },
  {
   "cell_type": "code",
   "execution_count": 55,
   "id": "572fc32b-6f39-4b01-9e7c-799c7568633e",
   "metadata": {},
   "outputs": [],
   "source": [
    "from sklearn.metrics import accuracy_score, precision_score, recall_score\n",
    "\n",
    "def train_model2(train_data, val_data=None):\n",
    "    model.to(device)\n",
    "    model.train()\n",
    "    total_loss = 0\n",
    "    total_correct = 0\n",
    "    total_samples = 0\n",
    "    model_outputs = []\n",
    "    targets = []\n",
    "    pred_class = []\n",
    "    threshold=0.8\n",
    "    for data in train_data:\n",
    "        data.to(device)\n",
    "        out = model(data) # Perform a single forward pass.\n",
    "        labels = data.y.float().to(device)\n",
    "        loss = criterion(out.squeeze(1).float(), labels)  # Compute the loss.\n",
    "        \n",
    "        loss.backward()  # Derive gradients.\n",
    "        optimizer.step()  # Update parameters based on gradients.\n",
    "        optimizer.zero_grad()  # Clear gradients.\n",
    "\n",
    "        # Calculate metrics\n",
    "        total_loss += loss.item()\n",
    "        predicted_class = torch.where(out > threshold, 1, 0)\n",
    "        correct = int((predicted_class == data.y.float()).sum())\n",
    "        total_correct += correct\n",
    "        total_samples += len(data.y)\n",
    "\n",
    "        # Store outputs and targets for evaluation\n",
    "        model_outputs.extend(out.tolist())\n",
    "        targets.extend(data.y.float().tolist())\n",
    "        pred_class.extend(predicted_class.tolist())\n",
    "\n",
    "    accuracy = accuracy_score(targets, pred_class)\n",
    "    precision = precision_score(targets, pred_class)\n",
    "    recall = recall_score(targets, pred_class)\n",
    "    avg_loss = total_loss / len(train_data)\n",
    "\n",
    "    if val_data:\n",
    "        val_accuracy, val_loss, val_recall, val_precision = evaluate_model(model, val_data)\n",
    "        return model.to(device), accuracy, avg_loss, recall, precision, val_accuracy, val_loss, val_recall, val_precision\n",
    "    else:\n",
    "        return model.to(device), accuracy, avg_loss, recall, precision\n"
   ]
  },
  {
   "cell_type": "code",
   "execution_count": 60,
   "id": "6e35b75b",
   "metadata": {
    "tags": []
   },
   "outputs": [
    {
     "name": "stdout",
     "output_type": "stream",
     "text": [
      "CPU times: user 0 ns, sys: 305 µs, total: 305 µs\n",
      "Wall time: 319 µs\n"
     ]
    }
   ],
   "source": [
    "%%time\n",
    "train_loader = DataLoader(train_dataset, batch_size=1000,shuffle=True,pin_memory=True,num_workers=16) \n",
    "val_loader=DataLoader(val_dataset, batch_size=1000,shuffle=True,pin_memory=True,num_workers=16) \n",
    "test_loader=DataLoader(test_dataset, batch_size=64,shuffle=True)"
   ]
  },
  {
   "cell_type": "code",
   "execution_count": 61,
   "id": "13078949",
   "metadata": {
    "tags": []
   },
   "outputs": [
    {
     "name": "stdout",
     "output_type": "stream",
     "text": [
      "1\n",
      "True\n",
      "Epoch_stop: 1\n",
      "Epoch: 1, Train Acc: 0.9438, Train Loss: 0.1363, Val Acc: 0.9426, Val Loss: 0.1393, time :104.48088049888611\n",
      "CPU times: user 1min 56s, sys: 30.6 s, total: 2min 26s\n",
      "Wall time: 1min 44s\n"
     ]
    }
   ],
   "source": [
    "%%time\n",
    "train_accuracies = []\n",
    "validation_accuracies = []\n",
    "validation_losses = []\n",
    "train_losses = []\n",
    "\n",
    "val_recall=[]\n",
    "val_precision=[]\n",
    "train_recall=[]\n",
    "train_precision=[]\n",
    "times = []\n",
    "n_ly=4\n",
    "for epoch in range(1, 2):\n",
    "    start = time.time()\n",
    "    print(epoch)\n",
    "    model = train_model(train_loader)\n",
    "    print(next(model.parameters()).is_cuda)\n",
    "    \n",
    "    train_acc, train_loss, train_rec, train_prec = evaluate_model(model,train_loader)\n",
    "    train_losses.append(train_loss)\n",
    "                   \n",
    "    val_acc, val_loss, val_rec, val_prec = evaluate_model(model,val_loader)\n",
    "    validation_losses.append(val_loss)\n",
    "\n",
    "    train_accuracies.append(train_acc)\n",
    "    validation_accuracies.append(val_acc)\n",
    "    \n",
    "    train_precision.append(train_prec)\n",
    "    train_recall.append(train_rec)\n",
    "    \n",
    "    val_precision.append(val_prec)\n",
    "    val_recall.append(val_rec)\n",
    "\n",
    "    # save the model if it is the better than any previous ones\n",
    "    if val_loss.item() <= min(validation_losses).item():\n",
    "        torch.save(model, f'/lustrehome/federicacuna/TB_Sept_2023_ml/Code/Pytorch_gnn/best_model_sageconv_yz_{n_ly}.pkl')\n",
    "        print(f'Epoch_stop: {epoch}')\n",
    "          \n",
    "    #torch.save(model, \"best_model.pkl\")\n",
    "    if epoch % 1 == 0:\n",
    "        print(f'Epoch: {epoch}, Train Acc: {train_acc:.4f}, Train Loss: {train_loss:.4f}, Val Acc: {val_acc:.4f}, Val Loss: {val_loss:.4f}, time :{time.time() - start}')\n",
    "    times.append(time.time() - start)\n",
    "  "
   ]
  },
  {
   "cell_type": "code",
   "execution_count": 27,
   "id": "bf1581b7-a72c-4730-b5b2-bf875f1e6578",
   "metadata": {},
   "outputs": [
    {
     "name": "stdout",
     "output_type": "stream",
     "text": [
      "1\n",
      "Epoch_stop: 1\n",
      "Epoch: 1, Train Acc: 0.8696, Train Loss: 0.2738, Val Acc: 0.8512, Val Loss: 0.2744, time :2.0514402389526367\n",
      "CPU times: user 7.64 s, sys: 144 ms, total: 7.79 s\n",
      "Wall time: 2.05 s\n"
     ]
    }
   ],
   "source": [
    "%%time\n",
    "train_accuracies = []\n",
    "validation_accuracies = []\n",
    "validation_losses = []\n",
    "train_losses = []\n",
    "\n",
    "val_recall=[]\n",
    "val_precision=[]\n",
    "train_recall=[]\n",
    "train_precision=[]\n",
    "times = []\n",
    "n_ly=4\n",
    "for epoch in range(1, 2):\n",
    "    start = time.time()\n",
    "    print(epoch)\n",
    "    model,train_acc, train_loss, train_rec, train_prec,val_acc, val_loss, val_rec, val_prec  = train_model2(train_loader,val_loader)\n",
    "    # print(next(model.parameters()).is_cuda)\n",
    "    \n",
    "    train_losses.append(train_loss)\n",
    "    validation_losses.append(val_loss)\n",
    "\n",
    "    train_accuracies.append(train_acc)\n",
    "    validation_accuracies.append(val_acc)\n",
    "    \n",
    "    train_precision.append(train_prec)\n",
    "    train_recall.append(train_rec)\n",
    "    \n",
    "    val_precision.append(val_prec)\n",
    "    val_recall.append(val_rec)\n",
    "\n",
    "    # save the model if it is the better than any previous ones\n",
    "    if val_loss.item() <= min(validation_losses).item():\n",
    "        torch.save(model, f'/lustrehome/federicacuna/TB_Sept_2023_ml/Code/Pytorch_gnn/best_model_sageconv_yz_{n_ly}.pkl')\n",
    "        print(f'Epoch_stop: {epoch}')\n",
    "          \n",
    "    #torch.save(model, \"best_model.pkl\")\n",
    "    if epoch % 1 == 0:\n",
    "        print(f'Epoch: {epoch}, Train Acc: {train_acc:.4f}, Train Loss: {train_loss:.4f}, Val Acc: {val_acc:.4f}, Val Loss: {val_loss:.4f}, time :{time.time() - start}')\n",
    "    times.append(time.time() - start)"
   ]
  },
  {
   "cell_type": "code",
   "execution_count": null,
   "id": "b5068062",
   "metadata": {
    "tags": []
   },
   "outputs": [],
   "source": [
    "best_validation_loss = min(validation_losses)\n",
    "best_epoch = validation_losses.index(best_validation_loss)\n",
    "accuracy_at_best_epoch = validation_accuracies[best_epoch]\n",
    "recall_at_best_epoch=val_recall[best_epoch]\n",
    "precision_at_best_epoch=val_precision[best_epoch]\n",
    "print(f\"The best result was achieved after {best_epoch} epochs with a validation accuracy of {accuracy_at_best_epoch:.4f} and a loss of {best_validation_loss:.4f}\")\n",
    "print(f\"The validation recall is {recall_at_best_epoch:.4f} and the precision is {precision_at_best_epoch:.4f}\")"
   ]
  },
  {
   "cell_type": "code",
   "execution_count": 334,
   "id": "944992d6",
   "metadata": {
    "tags": []
   },
   "outputs": [
    {
     "ename": "NameError",
     "evalue": "name 'best_epoch' is not defined",
     "output_type": "error",
     "traceback": [
      "\u001b[0;31m---------------------------------------------------------------------------\u001b[0m",
      "\u001b[0;31mNameError\u001b[0m                                 Traceback (most recent call last)",
      "\u001b[0;32m<ipython-input-334-5127a1f7f4bf>\u001b[0m in \u001b[0;36m<module>\u001b[0;34m\u001b[0m\n\u001b[1;32m      5\u001b[0m \u001b[0mplt\u001b[0m\u001b[0;34m.\u001b[0m\u001b[0mplot\u001b[0m\u001b[0;34m(\u001b[0m\u001b[0mtrain_losses\u001b[0m\u001b[0;34m,\u001b[0m\u001b[0mcolor\u001b[0m\u001b[0;34m=\u001b[0m\u001b[0;34m'blue'\u001b[0m\u001b[0;34m,\u001b[0m\u001b[0mlabel\u001b[0m\u001b[0;34m=\u001b[0m\u001b[0;34m'training loss'\u001b[0m\u001b[0;34m)\u001b[0m\u001b[0;34m\u001b[0m\u001b[0;34m\u001b[0m\u001b[0m\n\u001b[1;32m      6\u001b[0m \u001b[0;34m\u001b[0m\u001b[0m\n\u001b[0;32m----> 7\u001b[0;31m \u001b[0mplt\u001b[0m\u001b[0;34m.\u001b[0m\u001b[0maxvline\u001b[0m\u001b[0;34m(\u001b[0m\u001b[0mx\u001b[0m\u001b[0;34m=\u001b[0m\u001b[0mbest_epoch\u001b[0m\u001b[0;34m,\u001b[0m \u001b[0mcolor\u001b[0m\u001b[0;34m=\u001b[0m\u001b[0;34m\"green\"\u001b[0m\u001b[0;34m,\u001b[0m \u001b[0mlinewidth\u001b[0m\u001b[0;34m=\u001b[0m\u001b[0;36m2\u001b[0m\u001b[0;34m,\u001b[0m \u001b[0mlinestyle\u001b[0m\u001b[0;34m=\u001b[0m\u001b[0;34m'dashed'\u001b[0m\u001b[0;34m,\u001b[0m\u001b[0mlabel\u001b[0m\u001b[0;34m=\u001b[0m\u001b[0;34m'best epoch'\u001b[0m\u001b[0;34m)\u001b[0m\u001b[0;34m\u001b[0m\u001b[0;34m\u001b[0m\u001b[0m\n\u001b[0m\u001b[1;32m      8\u001b[0m \u001b[0;31m#plt.legend(['Val Loss', 'Train Loss', \"Best Epoch\"])\u001b[0m\u001b[0;34m\u001b[0m\u001b[0;34m\u001b[0m\u001b[0;34m\u001b[0m\u001b[0m\n\u001b[1;32m      9\u001b[0m \u001b[0mplt\u001b[0m\u001b[0;34m.\u001b[0m\u001b[0mlegend\u001b[0m\u001b[0;34m(\u001b[0m\u001b[0;34m)\u001b[0m\u001b[0;34m\u001b[0m\u001b[0;34m\u001b[0m\u001b[0m\n",
      "\u001b[0;31mNameError\u001b[0m: name 'best_epoch' is not defined"
     ]
    },
    {
     "data": {
      "image/png": "[encoded data removed]",
      "text/plain": [
       "<Figure size 432x288 with 1 Axes>"
      ]
     },
     "metadata": {
      "needs_background": "light"
     },
     "output_type": "display_data"
    }
   ],
   "source": [
    "fig, ax = plt.subplots()\n",
    "#fig.set_size_inches(30.5, 15.5)\n",
    "\n",
    "plt.plot(validation_losses,color='orange',label='validation loss')\n",
    "plt.plot(train_losses,color='blue',label='training loss')\n",
    "\n",
    "plt.axvline(x=best_epoch, color=\"green\", linewidth=2, linestyle='dashed',label='best epoch')\n",
    "#plt.legend(['Val Loss', 'Train Loss', \"Best Epoch\"])\n",
    "plt.legend()\n",
    "\n",
    "\n",
    "# Hide the right and top spines\n",
    "ax.spines['right'].set_visible(False)\n",
    "ax.spines['top'].set_visible(False)\n",
    "ax.spines['bottom'].set_visible(False)\n",
    "ax.spines['left'].set_visible(False)\n",
    "\n",
    "plt.title(\"Model training and validation loss per epoch\", fontsize=10, fontweight='bold')\n",
    "#plt.ylim(0.05,0.2)\n",
    "plt.savefig('model_loss_sageconv2.png')\n",
    "plt.show()"
   ]
  },
  {
   "cell_type": "code",
   "execution_count": 335,
   "id": "4403992b",
   "metadata": {
    "tags": []
   },
   "outputs": [
    {
     "data": {
      "image/png": "[encoded data removed]",
      "text/plain": [
       "<Figure size 432x288 with 1 Axes>"
      ]
     },
     "metadata": {
      "needs_background": "light"
     },
     "output_type": "display_data"
    }
   ],
   "source": [
    "fig, ax = plt.subplots()\n",
    "#fig.set_size_inches(30.5, 15.5)\n",
    "\n",
    "plt.plot(validation_accuracies,color='orange',label='validation acc')\n",
    "plt.plot(train_accuracies,color='blue',label='training acc')\n",
    "\n",
    "plt.legend()\n",
    "\n",
    "# Hide the right and top spines\n",
    "ax.spines['right'].set_visible(False)\n",
    "ax.spines['top'].set_visible(False)\n",
    "ax.spines['bottom'].set_visible(False)\n",
    "ax.spines['left'].set_visible(False)\n",
    "\n",
    "plt.title(\"Model training and validation accuracy per epoch\", fontsize=10, fontweight='bold')\n",
    "# plt.ylim(0.9,1)\n",
    "plt.savefig('model_acc_sageconv2.png')\n",
    "plt.show()"
   ]
  },
  {
   "cell_type": "code",
   "execution_count": 442,
   "id": "fcd9c3db",
   "metadata": {
    "tags": []
   },
   "outputs": [
    {
     "ename": "RuntimeError",
     "evalue": "Expected all tensors to be on the same device, but found at least two devices, cpu and cuda:0! (when checking argument for argument tensors in method wrapper_CUDA_cat)",
     "output_type": "error",
     "traceback": [
      "\u001b[0;31m---------------------------------------------------------------------------\u001b[0m",
      "\u001b[0;31mRuntimeError\u001b[0m                              Traceback (most recent call last)",
      "\u001b[0;32m<ipython-input-442-bded142f46e4>\u001b[0m in \u001b[0;36m<module>\u001b[0;34m\u001b[0m\n\u001b[1;32m      7\u001b[0m \u001b[0mtargets\u001b[0m\u001b[0;34m=\u001b[0m\u001b[0;34m[\u001b[0m\u001b[0;34m]\u001b[0m\u001b[0;34m\u001b[0m\u001b[0;34m\u001b[0m\u001b[0m\n\u001b[1;32m      8\u001b[0m \u001b[0;32mwith\u001b[0m \u001b[0mtorch\u001b[0m\u001b[0;34m.\u001b[0m\u001b[0mno_grad\u001b[0m\u001b[0;34m(\u001b[0m\u001b[0;34m)\u001b[0m\u001b[0;34m:\u001b[0m\u001b[0;34m\u001b[0m\u001b[0;34m\u001b[0m\u001b[0m\n\u001b[0;32m----> 9\u001b[0;31m     \u001b[0;32mfor\u001b[0m \u001b[0mdata\u001b[0m \u001b[0;32min\u001b[0m \u001b[0mtest_loader\u001b[0m\u001b[0;34m:\u001b[0m\u001b[0;34m\u001b[0m\u001b[0;34m\u001b[0m\u001b[0m\n\u001b[0m\u001b[1;32m     10\u001b[0m         \u001b[0mdata\u001b[0m \u001b[0;34m=\u001b[0m \u001b[0mdata\u001b[0m\u001b[0;34m.\u001b[0m\u001b[0mto\u001b[0m\u001b[0;34m(\u001b[0m\u001b[0mdevice\u001b[0m\u001b[0;34m)\u001b[0m\u001b[0;34m\u001b[0m\u001b[0;34m\u001b[0m\u001b[0m\n\u001b[1;32m     11\u001b[0m         \u001b[0mmodel_output\u001b[0m \u001b[0;34m=\u001b[0m \u001b[0mbest_model\u001b[0m\u001b[0;34m(\u001b[0m\u001b[0mdata\u001b[0m\u001b[0;34m)\u001b[0m\u001b[0;34m\u001b[0m\u001b[0;34m\u001b[0m\u001b[0m\n",
      "\u001b[0;32m~/.conda/envs/py_env/lib/python3.8/site-packages/torch/utils/data/dataloader.py\u001b[0m in \u001b[0;36m__next__\u001b[0;34m(self)\u001b[0m\n\u001b[1;32m    629\u001b[0m                 \u001b[0;31m# TODO(https://github.com/pytorch/pytorch/issues/76750)\u001b[0m\u001b[0;34m\u001b[0m\u001b[0;34m\u001b[0m\u001b[0;34m\u001b[0m\u001b[0m\n\u001b[1;32m    630\u001b[0m                 \u001b[0mself\u001b[0m\u001b[0;34m.\u001b[0m\u001b[0m_reset\u001b[0m\u001b[0;34m(\u001b[0m\u001b[0;34m)\u001b[0m  \u001b[0;31m# type: ignore[call-arg]\u001b[0m\u001b[0;34m\u001b[0m\u001b[0;34m\u001b[0m\u001b[0m\n\u001b[0;32m--> 631\u001b[0;31m             \u001b[0mdata\u001b[0m \u001b[0;34m=\u001b[0m \u001b[0mself\u001b[0m\u001b[0;34m.\u001b[0m\u001b[0m_next_data\u001b[0m\u001b[0;34m(\u001b[0m\u001b[0;34m)\u001b[0m\u001b[0;34m\u001b[0m\u001b[0;34m\u001b[0m\u001b[0m\n\u001b[0m\u001b[1;32m    632\u001b[0m             \u001b[0mself\u001b[0m\u001b[0;34m.\u001b[0m\u001b[0m_num_yielded\u001b[0m \u001b[0;34m+=\u001b[0m \u001b[0;36m1\u001b[0m\u001b[0;34m\u001b[0m\u001b[0;34m\u001b[0m\u001b[0m\n\u001b[1;32m    633\u001b[0m             \u001b[0;32mif\u001b[0m \u001b[0mself\u001b[0m\u001b[0;34m.\u001b[0m\u001b[0m_dataset_kind\u001b[0m \u001b[0;34m==\u001b[0m \u001b[0m_DatasetKind\u001b[0m\u001b[0;34m.\u001b[0m\u001b[0mIterable\u001b[0m \u001b[0;32mand\u001b[0m\u001b[0;31m \u001b[0m\u001b[0;31m\\\u001b[0m\u001b[0;34m\u001b[0m\u001b[0;34m\u001b[0m\u001b[0m\n",
      "\u001b[0;32m~/.conda/envs/py_env/lib/python3.8/site-packages/torch/utils/data/dataloader.py\u001b[0m in \u001b[0;36m_next_data\u001b[0;34m(self)\u001b[0m\n\u001b[1;32m    673\u001b[0m     \u001b[0;32mdef\u001b[0m \u001b[0m_next_data\u001b[0m\u001b[0;34m(\u001b[0m\u001b[0mself\u001b[0m\u001b[0;34m)\u001b[0m\u001b[0;34m:\u001b[0m\u001b[0;34m\u001b[0m\u001b[0;34m\u001b[0m\u001b[0m\n\u001b[1;32m    674\u001b[0m         \u001b[0mindex\u001b[0m \u001b[0;34m=\u001b[0m \u001b[0mself\u001b[0m\u001b[0;34m.\u001b[0m\u001b[0m_next_index\u001b[0m\u001b[0;34m(\u001b[0m\u001b[0;34m)\u001b[0m  \u001b[0;31m# may raise StopIteration\u001b[0m\u001b[0;34m\u001b[0m\u001b[0;34m\u001b[0m\u001b[0m\n\u001b[0;32m--> 675\u001b[0;31m         \u001b[0mdata\u001b[0m \u001b[0;34m=\u001b[0m \u001b[0mself\u001b[0m\u001b[0;34m.\u001b[0m\u001b[0m_dataset_fetcher\u001b[0m\u001b[0;34m.\u001b[0m\u001b[0mfetch\u001b[0m\u001b[0;34m(\u001b[0m\u001b[0mindex\u001b[0m\u001b[0;34m)\u001b[0m  \u001b[0;31m# may raise StopIteration\u001b[0m\u001b[0;34m\u001b[0m\u001b[0;34m\u001b[0m\u001b[0m\n\u001b[0m\u001b[1;32m    676\u001b[0m         \u001b[0;32mif\u001b[0m \u001b[0mself\u001b[0m\u001b[0;34m.\u001b[0m\u001b[0m_pin_memory\u001b[0m\u001b[0;34m:\u001b[0m\u001b[0;34m\u001b[0m\u001b[0;34m\u001b[0m\u001b[0m\n\u001b[1;32m    677\u001b[0m             \u001b[0mdata\u001b[0m \u001b[0;34m=\u001b[0m \u001b[0m_utils\u001b[0m\u001b[0;34m.\u001b[0m\u001b[0mpin_memory\u001b[0m\u001b[0;34m.\u001b[0m\u001b[0mpin_memory\u001b[0m\u001b[0;34m(\u001b[0m\u001b[0mdata\u001b[0m\u001b[0;34m,\u001b[0m \u001b[0mself\u001b[0m\u001b[0;34m.\u001b[0m\u001b[0m_pin_memory_device\u001b[0m\u001b[0;34m)\u001b[0m\u001b[0;34m\u001b[0m\u001b[0;34m\u001b[0m\u001b[0m\n",
      "\u001b[0;32m~/.conda/envs/py_env/lib/python3.8/site-packages/torch/utils/data/_utils/fetch.py\u001b[0m in \u001b[0;36mfetch\u001b[0;34m(self, possibly_batched_index)\u001b[0m\n\u001b[1;32m     52\u001b[0m         \u001b[0;32melse\u001b[0m\u001b[0;34m:\u001b[0m\u001b[0;34m\u001b[0m\u001b[0;34m\u001b[0m\u001b[0m\n\u001b[1;32m     53\u001b[0m             \u001b[0mdata\u001b[0m \u001b[0;34m=\u001b[0m \u001b[0mself\u001b[0m\u001b[0;34m.\u001b[0m\u001b[0mdataset\u001b[0m\u001b[0;34m[\u001b[0m\u001b[0mpossibly_batched_index\u001b[0m\u001b[0;34m]\u001b[0m\u001b[0;34m\u001b[0m\u001b[0;34m\u001b[0m\u001b[0m\n\u001b[0;32m---> 54\u001b[0;31m         \u001b[0;32mreturn\u001b[0m \u001b[0mself\u001b[0m\u001b[0;34m.\u001b[0m\u001b[0mcollate_fn\u001b[0m\u001b[0;34m(\u001b[0m\u001b[0mdata\u001b[0m\u001b[0;34m)\u001b[0m\u001b[0;34m\u001b[0m\u001b[0;34m\u001b[0m\u001b[0m\n\u001b[0m",
      "\u001b[0;32m~/.conda/envs/py_env/lib/python3.8/site-packages/torch_geometric/loader/dataloader.py\u001b[0m in \u001b[0;36mcollate_fn\u001b[0;34m(self, batch)\u001b[0m\n\u001b[1;32m     53\u001b[0m         \u001b[0;32mif\u001b[0m \u001b[0misinstance\u001b[0m\u001b[0;34m(\u001b[0m\u001b[0mself\u001b[0m\u001b[0;34m.\u001b[0m\u001b[0mdataset\u001b[0m\u001b[0;34m,\u001b[0m \u001b[0mOnDiskDataset\u001b[0m\u001b[0;34m)\u001b[0m\u001b[0;34m:\u001b[0m\u001b[0;34m\u001b[0m\u001b[0;34m\u001b[0m\u001b[0m\n\u001b[1;32m     54\u001b[0m             \u001b[0;32mreturn\u001b[0m \u001b[0mself\u001b[0m\u001b[0;34m(\u001b[0m\u001b[0mself\u001b[0m\u001b[0;34m.\u001b[0m\u001b[0mdataset\u001b[0m\u001b[0;34m.\u001b[0m\u001b[0mmulti_get\u001b[0m\u001b[0;34m(\u001b[0m\u001b[0mbatch\u001b[0m\u001b[0;34m)\u001b[0m\u001b[0;34m)\u001b[0m\u001b[0;34m\u001b[0m\u001b[0;34m\u001b[0m\u001b[0m\n\u001b[0;32m---> 55\u001b[0;31m         \u001b[0;32mreturn\u001b[0m \u001b[0mself\u001b[0m\u001b[0;34m(\u001b[0m\u001b[0mbatch\u001b[0m\u001b[0;34m)\u001b[0m\u001b[0;34m\u001b[0m\u001b[0;34m\u001b[0m\u001b[0m\n\u001b[0m\u001b[1;32m     56\u001b[0m \u001b[0;34m\u001b[0m\u001b[0m\n\u001b[1;32m     57\u001b[0m \u001b[0;34m\u001b[0m\u001b[0m\n",
      "\u001b[0;32m~/.conda/envs/py_env/lib/python3.8/site-packages/torch_geometric/loader/dataloader.py\u001b[0m in \u001b[0;36m__call__\u001b[0;34m(self, batch)\u001b[0m\n\u001b[1;32m     26\u001b[0m         \u001b[0melem\u001b[0m \u001b[0;34m=\u001b[0m \u001b[0mbatch\u001b[0m\u001b[0;34m[\u001b[0m\u001b[0;36m0\u001b[0m\u001b[0;34m]\u001b[0m\u001b[0;34m\u001b[0m\u001b[0;34m\u001b[0m\u001b[0m\n\u001b[1;32m     27\u001b[0m         \u001b[0;32mif\u001b[0m \u001b[0misinstance\u001b[0m\u001b[0;34m(\u001b[0m\u001b[0melem\u001b[0m\u001b[0;34m,\u001b[0m \u001b[0mBaseData\u001b[0m\u001b[0;34m)\u001b[0m\u001b[0;34m:\u001b[0m\u001b[0;34m\u001b[0m\u001b[0;34m\u001b[0m\u001b[0m\n\u001b[0;32m---> 28\u001b[0;31m             return Batch.from_data_list(\n\u001b[0m\u001b[1;32m     29\u001b[0m                 \u001b[0mbatch\u001b[0m\u001b[0;34m,\u001b[0m\u001b[0;34m\u001b[0m\u001b[0;34m\u001b[0m\u001b[0m\n\u001b[1;32m     30\u001b[0m                 \u001b[0mfollow_batch\u001b[0m\u001b[0;34m=\u001b[0m\u001b[0mself\u001b[0m\u001b[0;34m.\u001b[0m\u001b[0mfollow_batch\u001b[0m\u001b[0;34m,\u001b[0m\u001b[0;34m\u001b[0m\u001b[0;34m\u001b[0m\u001b[0m\n",
      "\u001b[0;32m~/.conda/envs/py_env/lib/python3.8/site-packages/torch_geometric/data/batch.py\u001b[0m in \u001b[0;36mfrom_data_list\u001b[0;34m(cls, data_list, follow_batch, exclude_keys)\u001b[0m\n\u001b[1;32m     91\u001b[0m         Will exclude any keys given in :obj:`exclude_keys`.\"\"\"\n\u001b[1;32m     92\u001b[0m \u001b[0;34m\u001b[0m\u001b[0m\n\u001b[0;32m---> 93\u001b[0;31m         batch, slice_dict, inc_dict = collate(\n\u001b[0m\u001b[1;32m     94\u001b[0m             \u001b[0mcls\u001b[0m\u001b[0;34m,\u001b[0m\u001b[0;34m\u001b[0m\u001b[0;34m\u001b[0m\u001b[0m\n\u001b[1;32m     95\u001b[0m             \u001b[0mdata_list\u001b[0m\u001b[0;34m=\u001b[0m\u001b[0mdata_list\u001b[0m\u001b[0;34m,\u001b[0m\u001b[0;34m\u001b[0m\u001b[0;34m\u001b[0m\u001b[0m\n",
      "\u001b[0;32m~/.conda/envs/py_env/lib/python3.8/site-packages/torch_geometric/data/collate.py\u001b[0m in \u001b[0;36mcollate\u001b[0;34m(cls, data_list, increment, add_batch, follow_batch, exclude_keys)\u001b[0m\n\u001b[1;32m     90\u001b[0m \u001b[0;34m\u001b[0m\u001b[0m\n\u001b[1;32m     91\u001b[0m             \u001b[0;31m# Collate attributes into a unified representation:\u001b[0m\u001b[0;34m\u001b[0m\u001b[0;34m\u001b[0m\u001b[0;34m\u001b[0m\u001b[0m\n\u001b[0;32m---> 92\u001b[0;31m             value, slices, incs = _collate(attr, values, data_list, stores,\n\u001b[0m\u001b[1;32m     93\u001b[0m                                            increment)\n\u001b[1;32m     94\u001b[0m \u001b[0;34m\u001b[0m\u001b[0m\n",
      "\u001b[0;32m~/.conda/envs/py_env/lib/python3.8/site-packages/torch_geometric/data/collate.py\u001b[0m in \u001b[0;36m_collate\u001b[0;34m(key, values, data_list, stores, increment)\u001b[0m\n\u001b[1;32m    175\u001b[0m             \u001b[0mout\u001b[0m \u001b[0;34m=\u001b[0m \u001b[0melem\u001b[0m\u001b[0;34m.\u001b[0m\u001b[0mnew\u001b[0m\u001b[0;34m(\u001b[0m\u001b[0mstorage\u001b[0m\u001b[0;34m)\u001b[0m\u001b[0;34m.\u001b[0m\u001b[0mresize_\u001b[0m\u001b[0;34m(\u001b[0m\u001b[0;34m*\u001b[0m\u001b[0mshape\u001b[0m\u001b[0;34m)\u001b[0m\u001b[0;34m\u001b[0m\u001b[0;34m\u001b[0m\u001b[0m\n\u001b[1;32m    176\u001b[0m \u001b[0;34m\u001b[0m\u001b[0m\n\u001b[0;32m--> 177\u001b[0;31m         \u001b[0mvalue\u001b[0m \u001b[0;34m=\u001b[0m \u001b[0mtorch\u001b[0m\u001b[0;34m.\u001b[0m\u001b[0mcat\u001b[0m\u001b[0;34m(\u001b[0m\u001b[0mvalues\u001b[0m\u001b[0;34m,\u001b[0m \u001b[0mdim\u001b[0m\u001b[0;34m=\u001b[0m\u001b[0mcat_dim\u001b[0m \u001b[0;32mor\u001b[0m \u001b[0;36m0\u001b[0m\u001b[0;34m,\u001b[0m \u001b[0mout\u001b[0m\u001b[0;34m=\u001b[0m\u001b[0mout\u001b[0m\u001b[0;34m)\u001b[0m\u001b[0;34m\u001b[0m\u001b[0;34m\u001b[0m\u001b[0m\n\u001b[0m\u001b[1;32m    178\u001b[0m \u001b[0;34m\u001b[0m\u001b[0m\n\u001b[1;32m    179\u001b[0m         \u001b[0;32mreturn\u001b[0m \u001b[0mvalue\u001b[0m\u001b[0;34m,\u001b[0m \u001b[0mslices\u001b[0m\u001b[0;34m,\u001b[0m \u001b[0mincs\u001b[0m\u001b[0;34m\u001b[0m\u001b[0;34m\u001b[0m\u001b[0m\n",
      "\u001b[0;31mRuntimeError\u001b[0m: Expected all tensors to be on the same device, but found at least two devices, cpu and cuda:0! (when checking argument for argument tensors in method wrapper_CUDA_cat)"
     ]
    }
   ],
   "source": [
    "best_model = torch.load(\"/lustrehome/federicacuna/TB_Sept_2023_ml/Code/Pytorch_gnn/best_model_sageconv_v2_4.pkl\")\n",
    "best_model.to(device) \n",
    "\n",
    "correct = 0\n",
    "total_samples = 0\n",
    "pred_test_cl=[]\n",
    "targets=[]\n",
    "with torch.no_grad():\n",
    "    for data in test_loader:\n",
    "        data = data.to(device)  \n",
    "        model_output = best_model(data)\n",
    "        predicted_class =  torch.where(model_output > 0.8, 1, 0)\n",
    "        pred_test_cl.extend(predicted_class.tolist())\n",
    "        correct += int((predicted_class == data.y).sum())\n",
    "        targets.extend(data.y.tolist())\n",
    "        total_samples += data.y.size(0)\n",
    "\n",
    "print('accuracy ',accuracy_score(targets,pred_test_cl),' recall ', recall_score(targets,pred_test_cl),' precision ',precision_score(targets,pred_test_cl))\n"
   ]
  },
  {
   "cell_type": "code",
   "execution_count": null,
   "id": "d8334e69",
   "metadata": {
    "tags": []
   },
   "outputs": [],
   "source": [
    "'''\n",
    "test_batch=next(iter(test_loader))\n",
    "test_batch\n",
    "'''"
   ]
  },
  {
   "cell_type": "code",
   "execution_count": 443,
   "id": "d775d9e3",
   "metadata": {
    "tags": []
   },
   "outputs": [
    {
     "name": "stdout",
     "output_type": "stream",
     "text": [
      "100   Data(x=[4, 5], edge_index=[2, 3], edge_attr=[3, 2], y=[4])\n"
     ]
    }
   ],
   "source": [
    "for ev_id in range(100,101):\n",
    "    test_batch=test_dataset[ev_id]\n",
    "    print(ev_id,' ',test_batch)"
   ]
  },
  {
   "cell_type": "code",
   "execution_count": 444,
   "id": "ea786878",
   "metadata": {
    "tags": []
   },
   "outputs": [
    {
     "name": "stdout",
     "output_type": "stream",
     "text": [
      "108   Data(x=[4, 5], edge_index=[2, 3], edge_attr=[3, 2], y=[4])\n"
     ]
    }
   ],
   "source": [
    "ev_id=108\n",
    "test_batch=test_dataset[ev_id]\n",
    "print(ev_id,' ',test_batch)"
   ]
  },
  {
   "cell_type": "code",
   "execution_count": 445,
   "id": "8afcb0c7",
   "metadata": {
    "tags": []
   },
   "outputs": [
    {
     "name": "stdout",
     "output_type": "stream",
     "text": [
      "1.0\n"
     ]
    }
   ],
   "source": [
    "#predict the output\n",
    "test_batch.to(device) \n",
    "model_output = best_model(test_batch) \n",
    "model_output.to(device)\n",
    "predicted_class = torch.where(model_output > 0.8, 1, 0)\n",
    "#calculate the accuracy\n",
    "print(accuracy_score(predicted_class.detach().cpu(), test_batch.y.detach().cpu())) "
   ]
  },
  {
   "cell_type": "code",
   "execution_count": 461,
   "id": "c228a0a1",
   "metadata": {
    "tags": []
   },
   "outputs": [],
   "source": [
    "test_batch=test_batch.detach().cpu()\n",
    "ly=test_batch.x[:,2]\n",
    "x=test_batch.x[:,0]\n",
    "z_hit=test_batch.x[:,3]\n",
    "label=test_batch.y\n",
    "label_pred=predicted_class"
   ]
  },
  {
   "cell_type": "code",
   "execution_count": 462,
   "id": "39e3466d",
   "metadata": {
    "tags": []
   },
   "outputs": [
    {
     "data": {
      "text/plain": [
       "<matplotlib.legend.Legend at 0x7f3e6abaa250>"
      ]
     },
     "execution_count": 462,
     "metadata": {},
     "output_type": "execute_result"
    },
    {
     "data": {
      "image/png": "[encoded data removed]",
      "text/plain": [
       "<Figure size 432x288 with 1 Axes>"
      ]
     },
     "metadata": {
      "needs_background": "light"
     },
     "output_type": "display_data"
    }
   ],
   "source": [
    "for i in range(len(x)):\n",
    "    if label[i] == 0:\n",
    "        plt.scatter(x[i], ly[i], color='grey', label='0')\n",
    "    else:\n",
    "        plt.scatter(x[i], ly[i], color='red', label='1')\n",
    "plt.xlim(-20,20)\n",
    "plt.xlabel('x [cm]')\n",
    "plt.ylabel('ly')\n",
    "plt.title(f'Ev {ev_id}: true label')\n",
    "legend_elements = [Line2D([0], [0], marker='o', color='w', label='0 (MC truth)', markerfacecolor='grey', markersize=10),\n",
    "                   Line2D([0], [0], marker='o', color='w', label='1 (MC truth)', markerfacecolor='red', markersize=10)]\n",
    "plt.legend(handles=legend_elements, loc='upper right')\n",
    "\n",
    "# plt.savefig(f'/lustrehome/federicacuna/TB_Sept_2023_ml/output_gnn_img/1million_sage_conv/true_label_ev{ev_id}')"
   ]
  },
  {
   "cell_type": "code",
   "execution_count": 463,
   "id": "dc420062",
   "metadata": {
    "tags": []
   },
   "outputs": [
    {
     "data": {
      "image/png": "[encoded data removed]",
      "text/plain": [
       "<Figure size 432x288 with 1 Axes>"
      ]
     },
     "metadata": {
      "needs_background": "light"
     },
     "output_type": "display_data"
    }
   ],
   "source": [
    "x_pred=[]\n",
    "y_pred=[]\n",
    "z_pred=[]\n",
    "for i in range(len(x)):\n",
    "    if label_pred[i] == 0:\n",
    "        plt.scatter(x[i], ly[i], color='grey', label='0 (Pred)')\n",
    "    else:\n",
    "        x_pred.append(x[i].item())\n",
    "        y_pred.append(ly[i].item())\n",
    "        z_pred.append(z_hit[i].item())\n",
    "       \n",
    "        plt.scatter(x[i], ly[i], color='red', label='1 (Pred)')\n",
    "plt.xlim(-20,20)\n",
    "#plt.legend()\n",
    "plt.xlabel('x [cm]')\n",
    "plt.ylabel('ly')\n",
    "plt.title(f'Ev {ev_id}: predicted label')\n",
    "legend_elements = [Line2D([0], [0], marker='o', color='w', label='0 (GNN pred)', markerfacecolor='grey', markersize=10),\n",
    "                   Line2D([0], [0], marker='o', color='w', label='1 (GNN pred)', markerfacecolor='red', markersize=10)]\n",
    "\n",
    "plt.legend(handles=legend_elements, loc='upper right')\n",
    "# plt.savefig(f'/lustrehome/federicacuna/TB_Sept_2023_ml/output_gnn_img/1million_sage_conv/pred_label_ev{ev_id}')\n",
    "plt.show()"
   ]
  },
  {
   "cell_type": "code",
   "execution_count": 375,
   "id": "12846ce0-5191-4dff-b362-cb4b4cbdb0fb",
   "metadata": {
    "tags": []
   },
   "outputs": [],
   "source": [
    "'''\n",
    "df_pivoted = df.pivot_table(index='ev', columns='ly', values='x_hit').add_prefix('x_hit').reset_index()\n",
    "df_pivoted_x_hit = df.pivot_table(index='ev', columns='ly', values='x_hit').add_prefix('x_hit').reset_index()\n",
    "df_pivoted_ly = df.pivot_table(index='ev', columns='ly', values='ly').add_prefix('ly').reset_index()\n",
    "\n",
    "# Unione dei due DataFrame\n",
    "df_final = pd.merge(df_pivoted_x_hit, df_pivoted_ly, on='ev')\n",
    "'''"
   ]
  }
 ],
 "metadata": {
  "kernelspec": {
   "display_name": "py_env",
   "language": "python",
   "name": "py_env"
  },
  "language_info": {
   "codemirror_mode": {
    "name": "ipython",
    "version": 3
   },
   "file_extension": ".py",
   "mimetype": "text/x-python",
   "name": "python",
   "nbconvert_exporter": "python",
   "pygments_lexer": "ipython3",
   "version": "3.8.2"
  }
 },
 "nbformat": 4,
 "nbformat_minor": 5
}
