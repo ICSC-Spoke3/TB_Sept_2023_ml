{
 "cells": [
  {
   "cell_type": "code",
   "execution_count": 5,
   "id": "b8ca2c7c-298b-43c5-825f-c1d9b23a0664",
   "metadata": {
    "tags": []
   },
   "outputs": [
    {
     "name": "stdout",
     "output_type": "stream",
     "text": [
      "Defaulting to user installation because normal site-packages is not writeable\n",
      "Requirement already satisfied: dask in /opt/miniconda3/lib/python3.11/site-packages (2024.3.0)\n",
      "Requirement already satisfied: click>=8.1 in /opt/miniconda3/lib/python3.11/site-packages (from dask) (8.1.7)\n",
      "Requirement already satisfied: cloudpickle>=1.5.0 in /opt/miniconda3/lib/python3.11/site-packages (from dask) (3.0.0)\n",
      "Requirement already satisfied: fsspec>=2021.09.0 in /opt/miniconda3/lib/python3.11/site-packages (from dask) (2024.2.0)\n",
      "Requirement already satisfied: packaging>=20.0 in /opt/miniconda3/lib/python3.11/site-packages (from dask) (24.0)\n",
      "Requirement already satisfied: partd>=1.2.0 in /opt/miniconda3/lib/python3.11/site-packages (from dask) (1.4.1)\n",
      "Requirement already satisfied: pyyaml>=5.3.1 in /opt/miniconda3/lib/python3.11/site-packages (from dask) (6.0.1)\n",
      "Requirement already satisfied: toolz>=0.10.0 in /opt/miniconda3/lib/python3.11/site-packages (from dask) (0.12.1)\n",
      "Requirement already satisfied: importlib-metadata>=4.13.0 in /opt/miniconda3/lib/python3.11/site-packages (from dask) (7.0.1)\n",
      "Requirement already satisfied: zipp>=0.5 in /opt/miniconda3/lib/python3.11/site-packages (from importlib-metadata>=4.13.0->dask) (3.17.0)\n",
      "Requirement already satisfied: locket in /opt/miniconda3/lib/python3.11/site-packages (from partd>=1.2.0->dask) (1.0.0)\n",
      "Note: you may need to restart the kernel to use updated packages.\n"
     ]
    }
   ],
   "source": [
    "%pip install dask"
   ]
  },
  {
   "cell_type": "code",
   "execution_count": 12,
   "id": "fbbfbaba-a801-4d0f-829c-34bdd5343148",
   "metadata": {
    "tags": []
   },
   "outputs": [],
   "source": [
    "import os.path as osp\n",
    "import torch\n",
    "import pandas as pd\n",
    "import numpy as np\n",
    "\n",
    "from dask.distributed import Client, LocalCluster\n",
    "import dask.bag as db\n",
    "import multiprocessing as mp\n",
    "\n"
   ]
  },
  {
   "cell_type": "code",
   "execution_count": 13,
   "id": "d56202d1-df82-46b3-94a8-1bd5d1e74a9f",
   "metadata": {
    "tags": []
   },
   "outputs": [],
   "source": [
    "import MyData as data"
   ]
  },
  {
   "cell_type": "code",
   "execution_count": 14,
   "id": "4397baed-12db-4cd4-aa66-73b6e3adcd38",
   "metadata": {
    "tags": []
   },
   "outputs": [],
   "source": [
    "data=data.dataset_preparation(root='/lustrehome/federicacuna/TB_Sept_2023_ml/Data/preprocessed',n_workers=32)\n",
    "fname='pi-_10GeV_4ly_1e-4_inclined_4ly_GAT_viewx'"
   ]
  },
  {
   "cell_type": "code",
   "execution_count": 15,
   "id": "2ad027eb-d5db-4048-bd0d-9b68db4ed8a9",
   "metadata": {
    "tags": []
   },
   "outputs": [
    {
     "name": "stdout",
     "output_type": "stream",
     "text": [
      "taking a list of file from  0  to  5\n",
      "CPU times: user 18.8 s, sys: 6.98 s, total: 25.7 s\n",
      "Wall time: 28.9 s\n"
     ]
    }
   ],
   "source": [
    "%%time\n",
    "data_old=data.get_more_files_dask(0,5,fname)"
   ]
  },
  {
   "cell_type": "code",
   "execution_count": 16,
   "id": "53f3ee19-c64e-49f9-89a9-7f504433ec53",
   "metadata": {
    "tags": []
   },
   "outputs": [
    {
     "name": "stdout",
     "output_type": "stream",
     "text": [
      "taking a list of file from  0  to  5\n",
      "CPU times: user 6.89 s, sys: 439 ms, total: 7.33 s\n",
      "Wall time: 7.32 s\n"
     ]
    }
   ],
   "source": [
    "%%time\n",
    "data_new=data.get_more_file(0,5,fname)"
   ]
  },
  {
   "cell_type": "code",
   "execution_count": 7,
   "id": "552c173d-d6e7-4c98-b88e-aa4e56ab57b0",
   "metadata": {
    "tags": []
   },
   "outputs": [
    {
     "data": {
      "text/plain": [
       "torch_geometric.data.data.Data"
      ]
     },
     "execution_count": 7,
     "metadata": {},
     "output_type": "execute_result"
    }
   ],
   "source": [
    "type(data_trk[0])"
   ]
  },
  {
   "cell_type": "code",
   "execution_count": 8,
   "id": "18e8e97f-548e-4f2e-97e1-7c9c21a34179",
   "metadata": {
    "tags": []
   },
   "outputs": [
    {
     "name": "stdout",
     "output_type": "stream",
     "text": [
      "/lustrehome/federicacuna/TB_Sept_2023_ml/Code/Pytorch_gnn\n"
     ]
    }
   ],
   "source": [
    "!pwd"
   ]
  },
  {
   "cell_type": "code",
   "execution_count": 7,
   "id": "e6d227bf-b97c-4c66-9715-fb9f4efd2a3d",
   "metadata": {
    "tags": []
   },
   "outputs": [],
   "source": [
    "import dask\n",
    "import dask.delayed\n",
    "import torch\n",
    "import os"
   ]
  },
  {
   "cell_type": "code",
   "execution_count": 8,
   "id": "5b96afa2-ccab-43f3-8ec5-7b261c92e56e",
   "metadata": {
    "tags": []
   },
   "outputs": [
    {
     "name": "stdout",
     "output_type": "stream",
     "text": [
      "CPU times: user 84 µs, sys: 0 ns, total: 84 µs\n",
      "Wall time: 85.6 µs\n"
     ]
    }
   ],
   "source": [
    "%%time\n",
    "\n",
    "@dask.delayed\n",
    "def load_file(filename):\n",
    "    if os.path.exists(filename):  \n",
    "        data = torch.load(filename)\n",
    "        return data\n",
    "    else:\n",
    "        print('file_not_found ')\n",
    "        return None"
   ]
  },
  {
   "cell_type": "code",
   "execution_count": 9,
   "id": "ab609992-8d28-4672-a8fe-2c7e954c47e2",
   "metadata": {
    "tags": []
   },
   "outputs": [],
   "source": [
    "# Genera una lista di nomi file data_*.pt\n",
    "file_names = ['/lustrehome/federicacuna/TB_Sept_2023_ml/Data/preprocessed/processed/pi-_10GeV_4ly_1e-4_inclined_viewx/data_{}.pt'.format(i) for i in range(101)]\n",
    "\n",
    "\n",
    "loaded_files = [load_file(filename) for filename in file_names]"
   ]
  },
  {
   "cell_type": "code",
   "execution_count": 10,
   "id": "a4c7024c-fdee-4a53-b81b-86a27c756f6e",
   "metadata": {
    "tags": []
   },
   "outputs": [
    {
     "name": "stdout",
     "output_type": "stream",
     "text": [
      "file_not_found \n",
      "file_not_found \n",
      "CPU times: user 5min 57s, sys: 2min 45s, total: 8min 42s\n",
      "Wall time: 6min 31s\n"
     ]
    }
   ],
   "source": [
    "%%time\n",
    "# Esegui il calcolo ritardato per caricare i file\n",
    "loaded_files = dask.compute(*loaded_files)"
   ]
  },
  {
   "cell_type": "code",
   "execution_count": null,
   "id": "f83b3dea-04b9-4ba6-a206-59ac04f9ceb7",
   "metadata": {},
   "outputs": [],
   "source": []
  }
 ],
 "metadata": {
  "kernelspec": {
   "display_name": "py_env",
   "language": "python",
   "name": "py_env"
  },
  "language_info": {
   "codemirror_mode": {
    "name": "ipython",
    "version": 3
   },
   "file_extension": ".py",
   "mimetype": "text/x-python",
   "name": "python",
   "nbconvert_exporter": "python",
   "pygments_lexer": "ipython3",
   "version": "3.8.2"
  }
 },
 "nbformat": 4,
 "nbformat_minor": 5
}
