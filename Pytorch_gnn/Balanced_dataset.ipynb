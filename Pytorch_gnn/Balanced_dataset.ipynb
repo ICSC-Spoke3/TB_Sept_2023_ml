{
 "cells": [
  {
   "cell_type": "code",
   "execution_count": 1,
   "id": "eea10569-23a2-4326-ab39-3a457b4c23fb",
   "metadata": {},
   "outputs": [],
   "source": [
    "import pandas as pd\n",
    "import torch\n",
    "import torch_geometric\n",
    "from torch_geometric.data import Dataset, Data\n",
    "import numpy as np \n",
    "from torch_geometric.loader import DataLoader\n",
    "import os\n",
    "from torch_geometric.nn import Sequential, GCNConv,GATConv\n",
    "import matplotlib.pyplot as plt\n",
    "from torch.nn import Linear\n",
    "import torch.nn.functional as F\n",
    "from sklearn.metrics import precision_score, recall_score, accuracy_score\n",
    "import time\n",
    "import MyData as data\n",
    "from matplotlib.lines import Line2D\n",
    "from sklearn.linear_model import LinearRegression"
   ]
  },
  {
   "cell_type": "code",
   "execution_count": 2,
   "id": "26ab3ca1-fe53-40ed-9c73-82544e47bd51",
   "metadata": {},
   "outputs": [
    {
     "name": "stdout",
     "output_type": "stream",
     "text": [
      "CPU times: user 13 µs, sys: 16 µs, total: 29 µs\n",
      "Wall time: 47.2 µs\n"
     ]
    }
   ],
   "source": [
    "%%time\n",
    "data_handler=data.dataset_preparation(root='/lustrehome/federicacuna/TB_Sept_2023_ml/Data/preprocessed')\n",
    "fname='pi-_10GeV_4ly_1e-4ly_normalized_1e-4_viewx'"
   ]
  },
  {
   "cell_type": "code",
   "execution_count": null,
   "id": "a11c9ad2-92fc-4a2b-88bb-f817ea74d4e2",
   "metadata": {},
   "outputs": [],
   "source": [
    "data_trk=data_handler.get_more_file(0,500,fname)"
   ]
  },
  {
   "cell_type": "code",
   "execution_count": 5,
   "id": "bffff5b8-f6a0-4a00-a2e5-44542009539c",
   "metadata": {},
   "outputs": [],
   "source": [
    "data_handler2=data.dataset_preparation(root='/lustrehome/federicacuna/TB_Sept_2023_ml/Data/preprocessed')\n",
    "fnameHN='pi-_10GeV_4ly_3e-4ly_normalized_viewx'"
   ]
  },
  {
   "cell_type": "code",
   "execution_count": null,
   "id": "050e1ef6-33d0-4818-bd04-581149563be4",
   "metadata": {},
   "outputs": [],
   "source": [
    "dataHN=data_handler2.get_more_file(0,500,fnameHN)"
   ]
  },
  {
   "cell_type": "code",
   "execution_count": 18,
   "id": "71142717-7f02-41de-825c-7067724299b6",
   "metadata": {},
   "outputs": [
    {
     "name": "stdout",
     "output_type": "stream",
     "text": [
      "4000000\n"
     ]
    }
   ],
   "source": [
    "train_dataset=(dataHN[:1800000]+data_trk[:2200000])\n",
    "print(len(train_dataset))"
   ]
  },
  {
   "cell_type": "code",
   "execution_count": 10,
   "id": "0900bb3d-9b61-431c-afef-006386079729",
   "metadata": {},
   "outputs": [
    {
     "name": "stdout",
     "output_type": "stream",
     "text": [
      "taking a list of file from  600  to  680\n"
     ]
    }
   ],
   "source": [
    "data_val=data_handler.get_more_file(600,680,fname)"
   ]
  },
  {
   "cell_type": "code",
   "execution_count": 9,
   "id": "1730307d-c0b9-487d-88b7-df8b59d8e034",
   "metadata": {},
   "outputs": [
    {
     "name": "stdout",
     "output_type": "stream",
     "text": [
      "taking a list of file from  600  to  680\n"
     ]
    }
   ],
   "source": [
    "dataHN_val=data_handler2.get_more_file(600,680,fnameHN)"
   ]
  },
  {
   "cell_type": "code",
   "execution_count": 24,
   "id": "bf7d651a-d158-415a-86cf-4025f94da865",
   "metadata": {},
   "outputs": [
    {
     "data": {
      "text/plain": [
       "374647"
      ]
     },
     "execution_count": 24,
     "metadata": {},
     "output_type": "execute_result"
    }
   ],
   "source": [
    "len(dataHN_val)"
   ]
  },
  {
   "cell_type": "code",
   "execution_count": 19,
   "id": "c8c38c4f-e663-4b31-8e3a-f753aa32042a",
   "metadata": {},
   "outputs": [
    {
     "name": "stdout",
     "output_type": "stream",
     "text": [
      "0.5052746104284794\n",
      "0.4947253895715205\n"
     ]
    }
   ],
   "source": [
    "y_values = [item for data in train_dataset for item in data.y.tolist()]\n",
    "total_nodes = sum([len(data.y.tolist()) for data in train_dataset])\n",
    "count_1 = y_values.count(1)/total_nodes\n",
    "count_0 = y_values.count(0)/total_nodes\n",
    "print(count_1)\n",
    "print(count_0)"
   ]
  },
  {
   "cell_type": "code",
   "execution_count": 20,
   "id": "7b006fc8-ffc5-4f13-841d-c8e5c14910aa",
   "metadata": {},
   "outputs": [
    {
     "data": {
      "text/plain": [
       "<BarContainer object of 2 artists>"
      ]
     },
     "execution_count": 20,
     "metadata": {},
     "output_type": "execute_result"
    },
    {
     "data": {
      "image/png": "[encoded data removed]",
      "text/plain": [
       "<Figure size 640x480 with 1 Axes>"
      ]
     },
     "metadata": {},
     "output_type": "display_data"
    }
   ],
   "source": [
    "plt.bar(['0', '1'], [count_0, count_1], color=['red', 'blue'])"
   ]
  },
  {
   "cell_type": "code",
   "execution_count": 21,
   "id": "7a109233-b5b9-4a50-898d-6cfe6abafb0d",
   "metadata": {},
   "outputs": [],
   "source": [
    "val_dataset=dataHN_val[:360000]+data_val[:440000]"
   ]
  },
  {
   "cell_type": "code",
   "execution_count": 22,
   "id": "39dc7b95-db17-4027-9143-270f672342fb",
   "metadata": {},
   "outputs": [
    {
     "data": {
      "text/plain": [
       "800000"
      ]
     },
     "execution_count": 22,
     "metadata": {},
     "output_type": "execute_result"
    }
   ],
   "source": [
    "len(val_dataset)"
   ]
  },
  {
   "cell_type": "code",
   "execution_count": 23,
   "id": "6ac26e52-a498-4619-9621-97615778b299",
   "metadata": {},
   "outputs": [
    {
     "name": "stdout",
     "output_type": "stream",
     "text": [
      "0.5041573554926035\n",
      "0.49584264450739646\n"
     ]
    }
   ],
   "source": [
    "y_values = [item for data in val_dataset for item in data.y.tolist()]\n",
    "total_nodes = sum([len(data.y.tolist()) for data in val_dataset])\n",
    "count_1 = y_values.count(1)/total_nodes\n",
    "count_0 = y_values.count(0)/total_nodes\n",
    "print(count_1)\n",
    "print(count_0)"
   ]
  },
  {
   "cell_type": "code",
   "execution_count": 24,
   "id": "6e6aa2e0-08ee-4213-b69c-57e235709847",
   "metadata": {},
   "outputs": [
    {
     "data": {
      "text/plain": [
       "<BarContainer object of 2 artists>"
      ]
     },
     "execution_count": 24,
     "metadata": {},
     "output_type": "execute_result"
    },
    {
     "data": {
      "image/png": "[encoded data removed]",
      "text/plain": [
       "<Figure size 640x480 with 1 Axes>"
      ]
     },
     "metadata": {},
     "output_type": "display_data"
    }
   ],
   "source": [
    "plt.bar(['0', '1'], [count_0, count_1], color=['red', 'blue'])"
   ]
  },
  {
   "cell_type": "code",
   "execution_count": null,
   "id": "bd8d8c90-11fc-4e5c-ab1d-cd94b7c3f093",
   "metadata": {},
   "outputs": [],
   "source": []
  }
 ],
 "metadata": {
  "kernelspec": {
   "display_name": "py_env",
   "language": "python",
   "name": "py_env"
  },
  "language_info": {
   "codemirror_mode": {
    "name": "ipython",
    "version": 3
   },
   "file_extension": ".py",
   "mimetype": "text/x-python",
   "name": "python",
   "nbconvert_exporter": "python",
   "pygments_lexer": "ipython3",
   "version": "3.8.2"
  }
 },
 "nbformat": 4,
 "nbformat_minor": 5
}
