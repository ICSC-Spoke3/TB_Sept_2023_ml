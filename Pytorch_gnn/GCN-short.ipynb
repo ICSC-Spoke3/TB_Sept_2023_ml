{
 "cells": [
  {
   "cell_type": "code",
   "execution_count": 1,
   "id": "0d35c804",
   "metadata": {
    "tags": []
   },
   "outputs": [],
   "source": [
    "import pandas as pd\n",
    "import torch\n",
    "import torch_geometric\n",
    "from torch_geometric.data import Dataset, Data\n",
    "import numpy as np \n",
    "from torch_geometric.loader import DataLoader\n",
    "import os\n",
    "from torch_geometric.nn import Sequential, GCNConv,GATConv\n",
    "import matplotlib.pyplot as plt\n",
    "from torch.nn import Linear\n",
    "import torch.nn.functional as F\n",
    "from sklearn.metrics import precision_score, recall_score, accuracy_score\n",
    "import time\n",
    "import MyData as data\n",
    "from matplotlib.lines import Line2D\n",
    "from sklearn.linear_model import LinearRegression\n",
    "\n",
    "\n",
    "from torch.nn import Linear\n",
    "import torch.nn.functional as F\n",
    "from torch_geometric.nn import SAGEConv\n",
    "import GNN_model"
   ]
  },
  {
   "cell_type": "code",
   "execution_count": 2,
   "id": "14a225c1-ffd2-406f-beb5-b19b96bf3530",
   "metadata": {
    "tags": [
     "parameters"
    ]
   },
   "outputs": [],
   "source": [
    "num_ly=3\n",
    "hidden_size = 64*num_ly\n",
    "sel_alg=3\n",
    "num_to_reduce=64\n",
    "view='xz'\n",
    "folder_pkl='bigger_event_GCN_2'"
   ]
  },
  {
   "cell_type": "code",
   "execution_count": 3,
   "id": "00e2db41",
   "metadata": {
    "tags": []
   },
   "outputs": [
    {
     "name": "stdout",
     "output_type": "stream",
     "text": [
      "file 31 not found\n",
      "file 81 not found\n",
      "taking a list of file from  0  to  105\n",
      "file 150 not found\n",
      "taking a list of file from  130  to  151\n",
      "taking the  data_160.pt\n",
      "len_train_dataset  1029974\n",
      "len_val_dataset  199998\n",
      "len_test_dataset  10000\n",
      "CPU times: user 3min 25s, sys: 5.9 s, total: 3min 31s\n",
      "Wall time: 5min 4s\n"
     ]
    }
   ],
   "source": [
    "%%time\n",
    "data=data.dataset_preparation(root='/lustrehome/federicacuna/TB_Sept_2023_ml/Data/preprocessed/')\n",
    "if view=='xz':\n",
    "    fname='pi-_10GeV_4ly_1e-4_inclined_viewx'\n",
    "else:\n",
    "    fname='pi-_10GeV_4ly_1e-4_inclined_viewy'\n",
    "# data_trk=data.get_more_file(0,105,fname)\n",
    "# train_dataset = data_trk\n",
    "# val_dataset =data.get_more_file(130,151,fname)\n",
    "# test_dataset =data.get(160,fname)\n",
    "data_trk=data.get_more_file(0,205,fname)\n",
    "train_dataset = data_trk\n",
    "val_dataset =data.get_more_file(230,271,fname)\n",
    "test_dataset =data.get(360,fname)\n",
    "print('len_train_dataset ',len(train_dataset))\n",
    "print('len_val_dataset ',len(val_dataset))\n",
    "print('len_test_dataset ',len(test_dataset))"
   ]
  },
  {
   "cell_type": "code",
   "execution_count": 4,
   "id": "46050454",
   "metadata": {
    "tags": []
   },
   "outputs": [
    {
     "name": "stdout",
     "output_type": "stream",
     "text": [
      "0.6812580759723714\n",
      "0.3187419240276286\n",
      "CPU times: user 4.21 s, sys: 149 ms, total: 4.36 s\n",
      "Wall time: 4.4 s\n"
     ]
    },
    {
     "data": {
      "text/plain": [
       "<BarContainer object of 2 artists>"
      ]
     },
     "execution_count": 4,
     "metadata": {},
     "output_type": "execute_result"
    },
    {
     "data": {
      "image/png": "[encoded data removed]",
      "text/plain": [
       "<Figure size 640x480 with 1 Axes>"
      ]
     },
     "metadata": {},
     "output_type": "display_data"
    }
   ],
   "source": [
    "%%time\n",
    "#check the dataset\n",
    "y_values = [item for data in train_dataset for item in data.y.tolist()]\n",
    "total_nodes = sum([len(data.y.tolist()) for data in train_dataset])\n",
    "count_1 = y_values.count(1)/total_nodes\n",
    "count_0 = y_values.count(0)/total_nodes\n",
    "print(count_1)\n",
    "print(count_0)\n",
    "# Crea il plot a barre\n",
    "plt.bar(['0', '1'], [count_0, count_1], color=['red', 'blue'])"
   ]
  },
  {
   "cell_type": "code",
   "execution_count": 5,
   "id": "44f1531d",
   "metadata": {
    "tags": []
   },
   "outputs": [
    {
     "name": "stdout",
     "output_type": "stream",
     "text": [
      "0.6836612669323073\n",
      "0.3163387330676926\n",
      "CPU times: user 830 ms, sys: 8.88 ms, total: 839 ms\n",
      "Wall time: 838 ms\n"
     ]
    },
    {
     "data": {
      "text/plain": [
       "<BarContainer object of 2 artists>"
      ]
     },
     "execution_count": 5,
     "metadata": {},
     "output_type": "execute_result"
    },
    {
     "data": {
      "image/png": "[encoded data removed]",
      "text/plain": [
       "<Figure size 640x480 with 1 Axes>"
      ]
     },
     "metadata": {},
     "output_type": "display_data"
    }
   ],
   "source": [
    "%%time\n",
    "y_values = [item for data in val_dataset for item in data.y.tolist()]\n",
    "total_nodes = sum([len(data.y.tolist()) for data in val_dataset])\n",
    "count_1 = y_values.count(1)/total_nodes\n",
    "count_0 = y_values.count(0)/total_nodes\n",
    "print(count_1)\n",
    "print(count_0)\n",
    "# Crea il plot a barre\n",
    "plt.bar(['0', '1'], [count_0, count_1], color=['red', 'blue'])"
   ]
  },
  {
   "cell_type": "code",
   "execution_count": 4,
   "id": "5204ef92",
   "metadata": {
    "tags": []
   },
   "outputs": [
    {
     "name": "stdout",
     "output_type": "stream",
     "text": [
      "Using device: cuda\n",
      "NVIDIA A100-PCIE-40GB\n",
      "Memory Usage:\n",
      "Allocated: 0.0 GB\n",
      "Cached:    0.0 GB\n",
      "CPU times: user 6.58 ms, sys: 39 ms, total: 45.5 ms\n",
      "Wall time: 48.9 ms\n"
     ]
    }
   ],
   "source": [
    "%%time\n",
    "device = torch.device('cuda' if torch.cuda.is_available() else 'cpu')\n",
    "#device=torch.device('cpu')\n",
    "print('Using device:', device)\n",
    "if device.type == 'cuda':\n",
    "    print(torch.cuda.get_device_name(0))\n",
    "    print('Memory Usage:')\n",
    "    print('Allocated:', round(torch.cuda.memory_allocated(0)/1024**3,1), 'GB')\n",
    "    print('Cached:   ', round(torch.cuda.memory_reserved(0)/1024**3,1), 'GB')\n"
   ]
  },
  {
   "cell_type": "code",
   "execution_count": 5,
   "id": "d55c14f5-1d25-4afa-8389-4739d6a03f5c",
   "metadata": {
    "tags": []
   },
   "outputs": [
    {
     "name": "stdout",
     "output_type": "stream",
     "text": [
      "5\n",
      "CPU times: user 61 µs, sys: 5 µs, total: 66 µs\n",
      "Wall time: 69.6 µs\n"
     ]
    }
   ],
   "source": [
    "%%time\n",
    "NUM_FEATURES = train_dataset[0].x.shape[1]\n",
    "print(NUM_FEATURES)\n",
    "NUM_CLASSES =1\n",
    "n_ly=4\n",
    "model_list=['SageConv','SageConv2','GCN','GCN_2','GAT']"
   ]
  },
  {
   "cell_type": "code",
   "execution_count": 6,
   "id": "1a5fc853-2a1f-4934-b052-423f9c972a14",
   "metadata": {
    "tags": []
   },
   "outputs": [],
   "source": [
    "outname=f'best_model{model_list[sel_alg]}_ly{n_ly}_view_{view}.pkl'"
   ]
  },
  {
   "cell_type": "code",
   "execution_count": 7,
   "id": "08d852c3-f09d-4e0a-b815-2cf58a70addc",
   "metadata": {
    "tags": []
   },
   "outputs": [],
   "source": [
    "if sel_alg>len(model_list):\n",
    "    print('no algorithm available')\n",
    "if sel_alg==0:\n",
    "    model = GNN_model.SageConv(num_feat=NUM_FEATURES,num_class=NUM_CLASSES)\n",
    "elif sel_alg==1:\n",
    "    model = GNN_model.SageConv2(num_feat=NUM_FEATURES,num_class=NUM_CLASSES)\n",
    "elif sel_alg==2:\n",
    "    model = GNN_model.GCN(num_feat=NUM_FEATURES, num_class=NUM_CLASSES,num_to_reduce=64)\n",
    "elif sel_alg==3:\n",
    "    model = GNN_model.GCN_2(hidden_size=hidden_size, num_ly=num_ly, num_feat=NUM_FEATURES, num_class=NUM_CLASSES,num_to_reduce=64)\n",
    "elif sel_alg==4:\n",
    "    model = GNN_model.GAT(num_feat=NUM_FEATURES, num_class=NUM_CLASSES)"
   ]
  },
  {
   "cell_type": "code",
   "execution_count": 8,
   "id": "ca558dd4",
   "metadata": {
    "tags": []
   },
   "outputs": [
    {
     "name": "stdout",
     "output_type": "stream",
     "text": [
      "CPU times: user 5.13 ms, sys: 211 ms, total: 216 ms\n",
      "Wall time: 230 ms\n"
     ]
    }
   ],
   "source": [
    "%%time\n",
    "model.to(device)\n",
    "optimizer = torch.optim.Adam(model.parameters(), lr=0.001)\n",
    "####criterion = torch.nn.CrossEntropyLoss()\n",
    "criterion=torch.nn.functional.binary_cross_entropy#for sageconv\n",
    "\n",
    "def train_model(train_data):\n",
    "    model.to(device)\n",
    "    model.train()\n",
    "    for data in train_data:\n",
    "        data.to(device)\n",
    "        out = model(data) # Perform a single forward pass.\n",
    "        labels=data.y.float().to(device)\n",
    "        loss = criterion(out.squeeze(1).float(), labels)  # Compute the loss.\n",
    "        \n",
    "        loss.backward()  # Derive gradients.\n",
    "        optimizer.step()  # Update parameters based on gradients.\n",
    "        optimizer.zero_grad()  # Clear gradients.\n",
    "    return model.to(device)\n",
    "\n",
    "threshold=0.8\n",
    "def evaluate_model(model,test_data):\n",
    "    model.eval()\n",
    "    correct = 0\n",
    "    total_samples = 0\n",
    "    model_outputs = []\n",
    "    targets = []\n",
    "    pred_class=[]\n",
    "\n",
    "    for data in test_data:\n",
    "        data.to(device)\n",
    "        model_output = model(data)\n",
    "        model_output.to(device)\n",
    "        predicted_class = torch.where(model_output > threshold, 1, 0)\n",
    "        \n",
    "        correct += int((predicted_class == data.y.float()).sum())\n",
    "        total_samples += len(data.y)\n",
    "\n",
    "          # store these to get the loss\n",
    "        model_outputs.extend(model_output.tolist())\n",
    "        targets.extend(data.y.float().tolist())\n",
    "        pred_class.extend(predicted_class.tolist())\n",
    "\n",
    "    \n",
    "    loss = criterion(torch.tensor(model_outputs).squeeze(1), torch.tensor(targets).float())\n",
    "    accuracy = accuracy_score(targets, pred_class)\n",
    "    precision = precision_score(targets, pred_class)\n",
    "    recall = recall_score(targets, pred_class)\n",
    "    \n",
    "    return accuracy, loss, recall, precision \n"
   ]
  },
  {
   "cell_type": "code",
   "execution_count": 9,
   "id": "a55eddc8-e396-4e71-af39-1c7f95b1bd96",
   "metadata": {
    "tags": []
   },
   "outputs": [],
   "source": [
    "## %%time\n",
    "train_loader = DataLoader(train_dataset, batch_size=4030,shuffle=True,pin_memory=True,num_workers=15,drop_last=True) \n",
    "val_loader=DataLoader(val_dataset, batch_size=128,shuffle=True,pin_memory=True,num_workers=15,drop_last=True) \n",
    "test_loader=DataLoader(test_dataset, batch_size=64,shuffle=True,drop_last=True)"
   ]
  },
  {
   "cell_type": "code",
   "execution_count": null,
   "id": "13078949",
   "metadata": {
    "tags": []
   },
   "outputs": [
    {
     "name": "stdout",
     "output_type": "stream",
     "text": [
      "1\n",
      "True\n",
      "Epoch_stop: 1\n",
      "Epoch: 1, Train Acc: 0.5942, Train Loss: 0.5164, Val Acc: 0.5934, Val Loss: 0.5143, time :97.64342641830444\n",
      "2\n",
      "True\n",
      "Epoch_stop: 2\n",
      "Epoch: 2, Train Acc: 0.5912, Train Loss: 0.4973, Val Acc: 0.5899, Val Loss: 0.4958, time :104.12346982955933\n",
      "3\n",
      "True\n",
      "Epoch_stop: 3\n",
      "Epoch: 3, Train Acc: 0.6520, Train Loss: 0.4780, Val Acc: 0.6513, Val Loss: 0.4762, time :106.58075737953186\n",
      "4\n",
      "True\n",
      "Epoch_stop: 4\n",
      "Epoch: 4, Train Acc: 0.7047, Train Loss: 0.4684, Val Acc: 0.7046, Val Loss: 0.4660, time :104.76830291748047\n",
      "5\n",
      "True\n",
      "Epoch_stop: 5\n",
      "Epoch: 5, Train Acc: 0.6860, Train Loss: 0.4567, Val Acc: 0.6859, Val Loss: 0.4548, time :100.34254431724548\n",
      "6\n",
      "True\n",
      "Epoch_stop: 6\n",
      "Epoch: 6, Train Acc: 0.7235, Train Loss: 0.4488, Val Acc: 0.7231, Val Loss: 0.4469, time :98.48499417304993\n",
      "7\n",
      "True\n",
      "Epoch: 7, Train Acc: 0.7078, Train Loss: 0.4501, Val Acc: 0.7074, Val Loss: 0.4486, time :107.31262183189392\n",
      "8\n",
      "True\n",
      "Epoch_stop: 8\n",
      "Epoch: 8, Train Acc: 0.7256, Train Loss: 0.4353, Val Acc: 0.7246, Val Loss: 0.4336, time :116.17520093917847\n",
      "9\n",
      "True\n",
      "Epoch_stop: 9\n",
      "Epoch: 9, Train Acc: 0.7182, Train Loss: 0.4304, Val Acc: 0.7172, Val Loss: 0.4288, time :100.78805923461914\n",
      "10\n",
      "True\n",
      "Epoch_stop: 10\n",
      "Epoch: 10, Train Acc: 0.7370, Train Loss: 0.4228, Val Acc: 0.7362, Val Loss: 0.4212, time :101.72228384017944\n",
      "11\n",
      "True\n",
      "Epoch_stop: 11\n",
      "Epoch: 11, Train Acc: 0.7417, Train Loss: 0.4182, Val Acc: 0.7412, Val Loss: 0.4165, time :100.10991621017456\n",
      "12\n",
      "True\n",
      "Epoch_stop: 12\n",
      "Epoch: 12, Train Acc: 0.7372, Train Loss: 0.4139, Val Acc: 0.7363, Val Loss: 0.4124, time :99.9272027015686\n",
      "13\n",
      "True\n",
      "Epoch_stop: 13\n",
      "Epoch: 13, Train Acc: 0.7575, Train Loss: 0.4097, Val Acc: 0.7569, Val Loss: 0.4076, time :94.85000133514404\n",
      "14\n",
      "True\n",
      "Epoch_stop: 14\n",
      "Epoch: 14, Train Acc: 0.7390, Train Loss: 0.4069, Val Acc: 0.7386, Val Loss: 0.4055, time :100.38859510421753\n",
      "15\n",
      "True\n",
      "Epoch_stop: 15\n",
      "Epoch: 15, Train Acc: 0.7605, Train Loss: 0.4029, Val Acc: 0.7600, Val Loss: 0.4010, time :100.13294529914856\n",
      "16\n",
      "True\n",
      "Epoch_stop: 16\n",
      "Epoch: 16, Train Acc: 0.7585, Train Loss: 0.3989, Val Acc: 0.7578, Val Loss: 0.3974, time :100.24492979049683\n",
      "17\n",
      "True\n",
      "Epoch_stop: 17\n",
      "Epoch: 17, Train Acc: 0.7638, Train Loss: 0.3960, Val Acc: 0.7633, Val Loss: 0.3939, time :99.72367668151855\n",
      "18\n",
      "True\n",
      "Epoch_stop: 18\n",
      "Epoch: 18, Train Acc: 0.7731, Train Loss: 0.3935, Val Acc: 0.7728, Val Loss: 0.3916, time :101.95950174331665\n",
      "19\n",
      "True\n",
      "Epoch_stop: 19\n",
      "Epoch: 19, Train Acc: 0.7746, Train Loss: 0.3917, Val Acc: 0.7739, Val Loss: 0.3897, time :107.42274904251099\n",
      "20\n",
      "True\n",
      "Epoch_stop: 20\n",
      "Epoch: 20, Train Acc: 0.7596, Train Loss: 0.3874, Val Acc: 0.7592, Val Loss: 0.3856, time :105.30112719535828\n",
      "21\n",
      "True\n",
      "Epoch_stop: 21\n",
      "Epoch: 21, Train Acc: 0.7824, Train Loss: 0.3858, Val Acc: 0.7815, Val Loss: 0.3838, time :97.93272686004639\n",
      "22\n",
      "True\n",
      "Epoch_stop: 22\n",
      "Epoch: 22, Train Acc: 0.7812, Train Loss: 0.3842, Val Acc: 0.7806, Val Loss: 0.3823, time :96.44281005859375\n",
      "23\n",
      "True\n",
      "Epoch_stop: 23\n",
      "Epoch: 23, Train Acc: 0.7907, Train Loss: 0.3811, Val Acc: 0.7899, Val Loss: 0.3796, time :96.1688003540039\n",
      "24\n",
      "True\n",
      "Epoch: 24, Train Acc: 0.7965, Train Loss: 0.3906, Val Acc: 0.7963, Val Loss: 0.3883, time :98.21106767654419\n",
      "25\n",
      "True\n",
      "Epoch_stop: 25\n",
      "Epoch: 25, Train Acc: 0.7806, Train Loss: 0.3746, Val Acc: 0.7797, Val Loss: 0.3734, time :95.55085682868958\n",
      "26\n",
      "True\n",
      "Epoch: 26, Train Acc: 0.7781, Train Loss: 0.3755, Val Acc: 0.7774, Val Loss: 0.3742, time :98.36914491653442\n",
      "27\n",
      "True\n",
      "Epoch_stop: 27\n",
      "Epoch: 27, Train Acc: 0.7816, Train Loss: 0.3718, Val Acc: 0.7809, Val Loss: 0.3705, time :96.13641858100891\n",
      "28\n",
      "True\n",
      "Epoch_stop: 28\n",
      "Epoch: 28, Train Acc: 0.8034, Train Loss: 0.3716, Val Acc: 0.8029, Val Loss: 0.3701, time :93.23242259025574\n",
      "29\n",
      "True\n",
      "Epoch_stop: 29\n",
      "Epoch: 29, Train Acc: 0.8008, Train Loss: 0.3692, Val Acc: 0.8003, Val Loss: 0.3676, time :92.78748297691345\n",
      "30\n",
      "True\n",
      "Epoch: 30, Train Acc: 0.7769, Train Loss: 0.3701, Val Acc: 0.7762, Val Loss: 0.3694, time :97.79674577713013\n",
      "31\n",
      "True\n",
      "Epoch_stop: 31\n",
      "Epoch: 31, Train Acc: 0.7948, Train Loss: 0.3660, Val Acc: 0.7942, Val Loss: 0.3649, time :100.5396375656128\n",
      "32\n",
      "True\n",
      "Epoch_stop: 32\n",
      "Epoch: 32, Train Acc: 0.7986, Train Loss: 0.3619, Val Acc: 0.7980, Val Loss: 0.3608, time :99.51752996444702\n",
      "33\n",
      "True\n",
      "Epoch: 33, Train Acc: 0.8006, Train Loss: 0.3627, Val Acc: 0.7999, Val Loss: 0.3616, time :99.11432886123657\n",
      "34\n",
      "True\n",
      "Epoch: 34, Train Acc: 0.8090, Train Loss: 0.3641, Val Acc: 0.8084, Val Loss: 0.3624, time :104.21385192871094\n",
      "35\n",
      "True\n",
      "Epoch: 35, Train Acc: 0.8179, Train Loss: 0.3657, Val Acc: 0.8172, Val Loss: 0.3640, time :99.95208859443665\n",
      "36\n",
      "True\n",
      "Epoch_stop: 36\n",
      "Epoch: 36, Train Acc: 0.7922, Train Loss: 0.3557, Val Acc: 0.7914, Val Loss: 0.3550, time :95.51912569999695\n",
      "37\n",
      "True\n",
      "Epoch_stop: 37\n",
      "Epoch: 37, Train Acc: 0.7872, Train Loss: 0.3554, Val Acc: 0.7861, Val Loss: 0.3549, time :97.32587337493896\n",
      "38\n",
      "True\n",
      "Epoch: 38, Train Acc: 0.7909, Train Loss: 0.3559, Val Acc: 0.7903, Val Loss: 0.3555, time :102.29576444625854\n",
      "39\n",
      "True\n",
      "Epoch_stop: 39\n",
      "Epoch: 39, Train Acc: 0.8029, Train Loss: 0.3538, Val Acc: 0.8021, Val Loss: 0.3528, time :109.75129556655884\n",
      "40\n",
      "True\n",
      "Epoch_stop: 40\n",
      "Epoch: 40, Train Acc: 0.8087, Train Loss: 0.3502, Val Acc: 0.8084, Val Loss: 0.3493, time :96.54946994781494\n",
      "41\n",
      "True\n",
      "Epoch: 41, Train Acc: 0.7894, Train Loss: 0.3528, Val Acc: 0.7885, Val Loss: 0.3524, time :98.24947500228882\n",
      "42\n",
      "True\n",
      "Epoch_stop: 42\n",
      "Epoch: 42, Train Acc: 0.7959, Train Loss: 0.3490, Val Acc: 0.7951, Val Loss: 0.3487, time :103.53476071357727\n",
      "43\n",
      "True\n",
      "Epoch: 43, Train Acc: 0.8001, Train Loss: 0.3511, Val Acc: 0.7998, Val Loss: 0.3509, time :98.49399280548096\n",
      "44\n",
      "True\n",
      "Epoch_stop: 44\n",
      "Epoch: 44, Train Acc: 0.8135, Train Loss: 0.3476, Val Acc: 0.8135, Val Loss: 0.3468, time :97.71351885795593\n",
      "45\n",
      "True\n",
      "Epoch: 45, Train Acc: 0.8273, Train Loss: 0.3510, Val Acc: 0.8272, Val Loss: 0.3500, time :98.30888724327087\n",
      "46\n",
      "True\n",
      "Epoch: 46, Train Acc: 0.7920, Train Loss: 0.3471, Val Acc: 0.7916, Val Loss: 0.3470, time :101.73108911514282\n",
      "47\n",
      "True\n",
      "Epoch_stop: 47\n",
      "Epoch: 47, Train Acc: 0.8018, Train Loss: 0.3429, Val Acc: 0.8013, Val Loss: 0.3429, time :104.6248676776886\n",
      "48\n",
      "True\n",
      "Epoch_stop: 48\n",
      "Epoch: 48, Train Acc: 0.8037, Train Loss: 0.3412, Val Acc: 0.8032, Val Loss: 0.3413, time :105.66126775741577\n",
      "49\n",
      "True\n",
      "Epoch: 49, Train Acc: 0.7913, Train Loss: 0.3452, Val Acc: 0.7908, Val Loss: 0.3453, time :99.5168571472168\n",
      "50\n",
      "True\n",
      "Epoch: 50, Train Acc: 0.8167, Train Loss: 0.3460, Val Acc: 0.8162, Val Loss: 0.3451, time :108.23033833503723\n",
      "51\n",
      "True\n",
      "Epoch_stop: 51\n",
      "Epoch: 51, Train Acc: 0.8186, Train Loss: 0.3400, Val Acc: 0.8183, Val Loss: 0.3395, time :107.97252702713013\n",
      "52\n",
      "True\n",
      "Epoch: 52, Train Acc: 0.8052, Train Loss: 0.3404, Val Acc: 0.8042, Val Loss: 0.3402, time :105.21473145484924\n",
      "53\n",
      "True\n",
      "Epoch: 53, Train Acc: 0.8229, Train Loss: 0.3421, Val Acc: 0.8222, Val Loss: 0.3415, time :100.45368123054504\n",
      "54\n",
      "True\n",
      "Epoch_stop: 54\n",
      "Epoch: 54, Train Acc: 0.8164, Train Loss: 0.3353, Val Acc: 0.8161, Val Loss: 0.3347, time :115.40507173538208\n",
      "55\n",
      "True\n",
      "Epoch: 55, Train Acc: 0.8274, Train Loss: 0.3442, Val Acc: 0.8269, Val Loss: 0.3432, time :106.23725438117981\n",
      "56\n",
      "True\n",
      "Epoch: 56, Train Acc: 0.8387, Train Loss: 0.3419, Val Acc: 0.8381, Val Loss: 0.3410, time :107.42919135093689\n",
      "57\n",
      "True\n",
      "Epoch_stop: 57\n",
      "Epoch: 57, Train Acc: 0.8206, Train Loss: 0.3324, Val Acc: 0.8201, Val Loss: 0.3324, time :113.49097633361816\n",
      "58\n",
      "True\n",
      "Epoch: 58, Train Acc: 0.8048, Train Loss: 0.3367, Val Acc: 0.8039, Val Loss: 0.3364, time :115.7801582813263\n",
      "59\n",
      "True\n",
      "Epoch_stop: 59\n",
      "Epoch: 59, Train Acc: 0.8206, Train Loss: 0.3298, Val Acc: 0.8202, Val Loss: 0.3296, time :106.74349522590637\n",
      "60\n",
      "True\n",
      "Epoch: 60, Train Acc: 0.8313, Train Loss: 0.3337, Val Acc: 0.8308, Val Loss: 0.3331, time :98.51975846290588\n",
      "61\n",
      "True\n",
      "Epoch_stop: 61\n",
      "Epoch: 61, Train Acc: 0.8187, Train Loss: 0.3299, Val Acc: 0.8180, Val Loss: 0.3296, time :109.43514657020569\n",
      "62\n",
      "True\n",
      "Epoch: 62, Train Acc: 0.8114, Train Loss: 0.3362, Val Acc: 0.8109, Val Loss: 0.3359, time :100.95039176940918\n",
      "63\n",
      "True\n",
      "Epoch_stop: 63\n",
      "Epoch: 63, Train Acc: 0.8161, Train Loss: 0.3276, Val Acc: 0.8153, Val Loss: 0.3278, time :100.58847522735596\n",
      "64\n",
      "True\n",
      "Epoch_stop: 64\n",
      "Epoch: 64, Train Acc: 0.8217, Train Loss: 0.3273, Val Acc: 0.8209, Val Loss: 0.3267, time :104.48229598999023\n",
      "65\n",
      "True\n",
      "Epoch: 65, Train Acc: 0.8162, Train Loss: 0.3355, Val Acc: 0.8156, Val Loss: 0.3350, time :105.72881722450256\n",
      "66\n",
      "True\n",
      "Epoch_stop: 66\n",
      "Epoch: 66, Train Acc: 0.8340, Train Loss: 0.3264, Val Acc: 0.8332, Val Loss: 0.3257, time :100.54675841331482\n",
      "67\n",
      "True\n",
      "Epoch: 67, Train Acc: 0.8448, Train Loss: 0.3318, Val Acc: 0.8443, Val Loss: 0.3309, time :115.1802921295166\n",
      "68\n",
      "True\n",
      "Epoch: 68, Train Acc: 0.8126, Train Loss: 0.3289, Val Acc: 0.8119, Val Loss: 0.3286, time :106.18954205513\n",
      "69\n",
      "True\n",
      "Epoch_stop: 69\n",
      "Epoch: 69, Train Acc: 0.8274, Train Loss: 0.3243, Val Acc: 0.8265, Val Loss: 0.3237, time :110.04243493080139\n",
      "70\n",
      "True\n",
      "Epoch_stop: 70\n",
      "Epoch: 70, Train Acc: 0.8287, Train Loss: 0.3209, Val Acc: 0.8277, Val Loss: 0.3208, time :114.35478353500366\n",
      "71\n",
      "True\n",
      "Epoch_stop: 71\n",
      "Epoch: 71, Train Acc: 0.8295, Train Loss: 0.3208, Val Acc: 0.8289, Val Loss: 0.3205, time :108.25009155273438\n",
      "72\n",
      "True\n",
      "Epoch: 72, Train Acc: 0.8243, Train Loss: 0.3275, Val Acc: 0.8232, Val Loss: 0.3272, time :104.92897272109985\n",
      "73\n",
      "True\n",
      "Epoch: 73, Train Acc: 0.8289, Train Loss: 0.3211, Val Acc: 0.8276, Val Loss: 0.3210, time :108.59819293022156\n",
      "74\n",
      "True\n",
      "Epoch: 74, Train Acc: 0.8331, Train Loss: 0.3206, Val Acc: 0.8322, Val Loss: 0.3208, time :112.68033814430237\n",
      "75\n",
      "True\n",
      "Epoch: 75, Train Acc: 0.8517, Train Loss: 0.3288, Val Acc: 0.8512, Val Loss: 0.3274, time :115.10954189300537\n",
      "76\n",
      "True\n",
      "Epoch_stop: 76\n",
      "Epoch: 76, Train Acc: 0.8286, Train Loss: 0.3185, Val Acc: 0.8271, Val Loss: 0.3186, time :109.48228740692139\n",
      "77\n",
      "True\n",
      "Epoch: 77, Train Acc: 0.8360, Train Loss: 0.3205, Val Acc: 0.8351, Val Loss: 0.3204, time :108.33107113838196\n",
      "78\n",
      "True\n",
      "Epoch: 78, Train Acc: 0.8147, Train Loss: 0.3210, Val Acc: 0.8137, Val Loss: 0.3212, time :116.42108273506165\n",
      "79\n"
     ]
    }
   ],
   "source": [
    "%%time\n",
    "train_accuracies = []\n",
    "validation_accuracies = []\n",
    "validation_losses = []\n",
    "train_losses = []\n",
    "\n",
    "val_recall=[]\n",
    "val_precision=[]\n",
    "train_recall=[]\n",
    "train_precision=[]\n",
    "times = []\n",
    "\n",
    "for epoch in range(1, 200):\n",
    "    start = time.time()\n",
    "    print(epoch)\n",
    "    model = train_model(train_loader)\n",
    "    print(next(model.parameters()).is_cuda)\n",
    "    \n",
    "    train_acc, train_loss, train_rec, train_prec = evaluate_model(model,train_loader)\n",
    "    train_losses.append(train_loss)\n",
    "                   \n",
    "    val_acc, val_loss, val_rec, val_prec = evaluate_model(model,val_loader)\n",
    "    validation_losses.append(val_loss)\n",
    "\n",
    "    train_accuracies.append(train_acc)\n",
    "    validation_accuracies.append(val_acc)\n",
    "    \n",
    "    train_precision.append(train_prec)\n",
    "    train_recall.append(train_rec)\n",
    "    \n",
    "    val_precision.append(val_prec)\n",
    "    val_recall.append(val_rec)\n",
    "\n",
    "    # save the model if it is the better than any previous ones\n",
    "    if val_loss.item() <= min(validation_losses).item():\n",
    "        # torch.save(model, f'/lustrehome/federicacuna/TB_Sept_2023_ml/output_gnn_pkl/{folder_pkl}/{outname}')\n",
    "        print(f'Epoch_stop: {epoch}')\n",
    "          \n",
    "    #torch.save(model, \"best_model.pkl\")\n",
    "    if epoch % 1 == 0:\n",
    "        print(f'Epoch: {epoch}, Train Acc: {train_acc:.4f}, Train Loss: {train_loss:.4f}, Val Acc: {val_acc:.4f}, Val Loss: {val_loss:.4f}, time :{time.time() - start}')\n",
    "    times.append(time.time() - start)\n",
    "  "
   ]
  },
  {
   "cell_type": "code",
   "execution_count": 11,
   "id": "b5068062",
   "metadata": {
    "tags": []
   },
   "outputs": [
    {
     "name": "stdout",
     "output_type": "stream",
     "text": [
      "The best result was achieved after 88 epochs with a validation accuracy of 0.8357 and a loss of 0.3109\n",
      "The validation recall is 0.7944 and the precision is 0.9581\n"
     ]
    }
   ],
   "source": [
    "best_validation_loss = min(validation_losses)\n",
    "best_epoch = validation_losses.index(best_validation_loss)\n",
    "accuracy_at_best_epoch = validation_accuracies[best_epoch]\n",
    "recall_at_best_epoch=val_recall[best_epoch]\n",
    "precision_at_best_epoch=val_precision[best_epoch]\n",
    "print(f\"The best result was achieved after {best_epoch} epochs with a validation accuracy of {accuracy_at_best_epoch:.4f} and a loss of {best_validation_loss:.4f}\")\n",
    "print(f\"The validation recall is {recall_at_best_epoch:.4f} and the precision is {precision_at_best_epoch:.4f}\")"
   ]
  },
  {
   "cell_type": "code",
   "execution_count": 12,
   "id": "944992d6",
   "metadata": {
    "tags": []
   },
   "outputs": [
    {
     "data": {
      "image/png": "[encoded data removed]",
      "text/plain": [
       "<Figure size 640x480 with 1 Axes>"
      ]
     },
     "metadata": {},
     "output_type": "display_data"
    }
   ],
   "source": [
    "fig, ax = plt.subplots()\n",
    "#fig.set_size_inches(30.5, 15.5)\n",
    "\n",
    "plt.plot(validation_losses,color='orange',label='validation loss')\n",
    "plt.plot(train_losses,color='blue',label='training loss')\n",
    "\n",
    "plt.axvline(x=best_epoch, color=\"green\", linewidth=2, linestyle='dashed',label='best epoch')\n",
    "#plt.legend(['Val Loss', 'Train Loss', \"Best Epoch\"])\n",
    "plt.legend()\n",
    "\n",
    "\n",
    "# Hide the right and top spines\n",
    "ax.spines['right'].set_visible(False)\n",
    "ax.spines['top'].set_visible(False)\n",
    "ax.spines['bottom'].set_visible(False)\n",
    "ax.spines['left'].set_visible(False)\n",
    "\n",
    "plt.title(\"Model training and validation loss per epoch\", fontsize=10, fontweight='bold')\n",
    "#plt.ylim(0.05,0.2)\n",
    "plt.savefig(f'/lustrehome/federicacuna/TB_Sept_2023_ml/output_gnn_img/{folder_pkl}/model_loss_{model_list[sel_alg]}_view_{view}lr001.png')\n",
    "plt.show()"
   ]
  },
  {
   "cell_type": "code",
   "execution_count": 15,
   "id": "4403992b",
   "metadata": {
    "tags": []
   },
   "outputs": [
    {
     "data": {
      "image/png": "[encoded data removed]",
      "text/plain": [
       "<Figure size 432x288 with 1 Axes>"
      ]
     },
     "metadata": {
      "needs_background": "light"
     },
     "output_type": "display_data"
    }
   ],
   "source": [
    "fig, ax = plt.subplots()\n",
    "#fig.set_size_inches(30.5, 15.5)\n",
    "\n",
    "plt.plot(validation_accuracies,color='orange',label='validation acc')\n",
    "plt.plot(train_accuracies,color='blue',label='training acc')\n",
    "\n",
    "plt.legend()\n",
    "\n",
    "# Hide the right and top spines\n",
    "ax.spines['right'].set_visible(False)\n",
    "ax.spines['top'].set_visible(False)\n",
    "ax.spines['bottom'].set_visible(False)\n",
    "ax.spines['left'].set_visible(False)\n",
    "\n",
    "plt.title(\"Model training and validation accuracy per epoch\", fontsize=10, fontweight='bold')\n",
    "# plt.ylim(0.9,1)\n",
    "plt.savefig(f'/lustrehome/federicacuna/TB_Sept_2023_ml/output_gnn_img/{folder_pkl}/model_acc_{model_list[sel_alg]}_view_{view}.png')\n",
    "plt.show()"
   ]
  }
 ],
 "metadata": {
  "kernelspec": {
   "display_name": "py_env",
   "language": "python",
   "name": "py_env"
  },
  "language_info": {
   "codemirror_mode": {
    "name": "ipython",
    "version": 3
   },
   "file_extension": ".py",
   "mimetype": "text/x-python",
   "name": "python",
   "nbconvert_exporter": "python",
   "pygments_lexer": "ipython3",
   "version": "3.8.2"
  }
 },
 "nbformat": 4,
 "nbformat_minor": 5
}
