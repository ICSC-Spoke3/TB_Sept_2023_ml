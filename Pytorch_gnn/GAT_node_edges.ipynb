{
 "cells": [
  {
   "cell_type": "code",
   "execution_count": 1,
   "id": "2e12912f-c32c-4c32-8142-abe0291b617d",
   "metadata": {
    "tags": []
   },
   "outputs": [],
   "source": [
    "import pandas as pd\n",
    "import torch\n",
    "import torch_geometric\n",
    "from torch_geometric.data import Dataset, Data\n",
    "import numpy as np \n",
    "from torch_geometric.loader import DataLoader\n",
    "import os\n",
    "from torch_geometric.nn import Sequential, GCNConv,GATConv,SAGEConv\n",
    "import matplotlib.pyplot as plt\n",
    "from torch.nn import Linear\n",
    "import torch.nn.functional as F\n",
    "from sklearn.metrics import precision_score, recall_score, accuracy_score\n",
    "import time\n",
    "import MyData as data\n",
    "from matplotlib.lines import Line2D\n",
    "from torch.nn import Embedding, Linear, ModuleList, ReLU, Sequential\n",
    "\n",
    "\n",
    "from torch_geometric.loader import DataLoader\n",
    "from torch_geometric.nn import BatchNorm, PNAConv, global_add_pool\n",
    "from torch_geometric.utils import degree\n",
    "\n",
    "from torch.optim.lr_scheduler import ReduceLROnPlateau"
   ]
  },
  {
   "cell_type": "code",
   "execution_count": 22,
   "id": "1a172847-27f9-43c2-9970-69407410eb02",
   "metadata": {
    "tags": []
   },
   "outputs": [],
   "source": [
    "view='xz'"
   ]
  },
  {
   "cell_type": "code",
   "execution_count": 2,
   "id": "82c764a5-66af-45db-8c02-bce02b28c448",
   "metadata": {
    "tags": []
   },
   "outputs": [
    {
     "name": "stdout",
     "output_type": "stream",
     "text": [
      "CPU times: user 11 µs, sys: 0 ns, total: 11 µs\n",
      "Wall time: 20 µs\n"
     ]
    }
   ],
   "source": [
    "%%time\n",
    "data=data.dataset_preparation(root='/lustrehome/federicacuna/TB_Sept_2023_ml/Data/preprocessed/')\n",
    "if view=='xz':\n",
    "    fname='pi-_10GeV_4ly_1e-4_inclined_viewx'\n",
    "else:\n",
    "    fname='pi-_10GeV_4ly_1e-4_inclined_viewy'\n",
    "data_trk=data.get_more_file(0,105,fname)\n",
    "train_dataset = data_trk\n",
    "val_dataset =data.get_more_file(130,151,fname)\n",
    "test_dataset =data.get(160,fname)\n",
    "print('len_train_dataset ',len(train_dataset))\n",
    "print('len_val_dataset ',len(val_dataset))\n",
    "print('len_test_dataset ',len(test_dataset))"
   ]
  },
  {
   "cell_type": "code",
   "execution_count": 5,
   "id": "2bbeb754-78f8-4424-bb08-933f6cd6ec12",
   "metadata": {
    "tags": []
   },
   "outputs": [
    {
     "name": "stdout",
     "output_type": "stream",
     "text": [
      "CPU times: user 383 µs, sys: 0 ns, total: 383 µs\n",
      "Wall time: 392 µs\n"
     ]
    }
   ],
   "source": [
    "%%time\n",
    "train_loader = DataLoader(train_dataset, batch_size=4032,shuffle=True) \n",
    "val_loader=DataLoader(val_dataset, batch_size=128,shuffle=True) \n",
    "test_loader=DataLoader(test_dataset, batch_size=64,shuffle=True)"
   ]
  },
  {
   "cell_type": "code",
   "execution_count": 18,
   "id": "684149cf-13b1-4457-84ad-61b70265792e",
   "metadata": {
    "tags": []
   },
   "outputs": [],
   "source": [
    "# Basically the same as the baseline except we pass edge features \n",
    "class GDPModel(torch.nn.Module):\n",
    "    def __init__(self, num_features=5, hidden_size=128,num_class=1,heads=8):\n",
    "        super().__init__()\n",
    "        self.hidden_size = hidden_size\n",
    "        self.num_features = num_features\n",
    "        self.num_class=num_class\n",
    "        self.heads=heads\n",
    "        self.convs1=GATConv(self.num_features, self.hidden_size, edge_dim = 2,heads=self.heads)\n",
    "        self.convs2=GATConv(self.hidden_size*self.heads, self.num_class, edge_dim = 2,heads=1)\n",
    "        \n",
    "        # self.convs = [GATConv(self.num_features, self.hidden_size, edge_dim = 2),\n",
    "        #               GATConv(self.hidden_size, self.hidden_size, edge_dim = 2)]\n",
    "        # self.linear = torch.nn.Linear(self.hidden_size, self.target_size)\n",
    "\n",
    "    def forward(self, data):\n",
    "        \n",
    "        x, edge_index, edge_attr, batch= data.x, data.edge_index, data.edge_attr, data.batch\n",
    "        # print(edge_index.device)\n",
    "        # print(x.device)\n",
    "        # print(edge_attr.device)\n",
    "        # print(batch.device)\n",
    "        x = self.convs1(x, edge_index,edge_attr)\n",
    "        x=F.tanh(x)\n",
    "        x = self.convs2(x, edge_index,edge_attr)\n",
    "        # for conv in self.convs[:-1]:\n",
    "        #     x = conv(x, edge_index, edge_attr) # adding edge features here!\n",
    "        #     x = F.relu(x)\n",
    "        #     x = F.dropout(x, training=self.training)\n",
    "        # x = self.convs[-1](x, edge_index, edge_attr) # edge features here as well\n",
    "        # x = self.linear(x)\n",
    "        \n",
    "        \n",
    "        return F.sigmoid(x) \n"
   ]
  },
  {
   "cell_type": "code",
   "execution_count": 19,
   "id": "b8d057c7-61df-4fca-8026-9bc5f722ccd5",
   "metadata": {
    "tags": []
   },
   "outputs": [
    {
     "name": "stdout",
     "output_type": "stream",
     "text": [
      "CPU times: user 2.81 ms, sys: 1.8 ms, total: 4.61 ms\n",
      "Wall time: 3.26 ms\n"
     ]
    }
   ],
   "source": [
    "%%time\n",
    "device='cuda'\n",
    "model = GDPModel().to(device)\n",
    "optimizer = torch.optim.Adam(model.parameters(), lr=0.001)\n",
    "####criterion = torch.nn.CrossEntropyLoss()\n",
    "criterion=torch.nn.functional.binary_cross_entropy#for sageconv\n",
    "\n",
    "def train_model(train_data):\n",
    "    model.to(device)\n",
    "    # print(model)\n",
    "    model.train()\n",
    "    for data in train_data:\n",
    "        data.to(device)            \n",
    "        out = model(data) # Perform a single forward pass.        \n",
    "        labels=data.y.float().to(device)\n",
    "        loss = criterion(out.squeeze(1).float(), labels)  # Compute the loss.\n",
    "        loss.backward()  # Derive gradients.\n",
    "        optimizer.step()  # Update parameters based on gradients.\n",
    "        optimizer.zero_grad()  # Clear gradients.\n",
    "    return model.to(device)\n"
   ]
  },
  {
   "cell_type": "code",
   "execution_count": 20,
   "id": "4c3a15d2-b1ba-4761-ad7c-8c437d26e874",
   "metadata": {
    "tags": []
   },
   "outputs": [],
   "source": [
    "threshold=0.8\n",
    "def evaluate_model(model,test_data):\n",
    "    model.eval()\n",
    "    correct = 0\n",
    "    total_samples = 0\n",
    "    model_outputs = []\n",
    "    targets = []\n",
    "    pred_class=[]\n",
    "\n",
    "    for data in test_data:\n",
    "        data.to(device)\n",
    "        model_output = model(data)\n",
    "        model_output.to(device)\n",
    "        predicted_class = torch.where(model_output > threshold, 1, 0)\n",
    "        \n",
    "        correct += int((predicted_class == data.y.float()).sum())\n",
    "        total_samples += len(data.y)\n",
    "\n",
    "          # store these to get the loss\n",
    "        model_outputs.extend(model_output.tolist())\n",
    "        targets.extend(data.y.float().tolist())\n",
    "        pred_class.extend(predicted_class.tolist())\n",
    "\n",
    "    \n",
    "    loss = criterion(torch.tensor(model_outputs).squeeze(1), torch.tensor(targets).float())\n",
    "    accuracy = accuracy_score(targets, pred_class)\n",
    "    precision = precision_score(targets, pred_class)\n",
    "    recall = recall_score(targets, pred_class)\n",
    "    \n",
    "    return accuracy, loss, recall, precision "
   ]
  },
  {
   "cell_type": "code",
   "execution_count": 21,
   "id": "9cd8839f-6493-47bb-8341-ea44e7b9e6b8",
   "metadata": {
    "tags": []
   },
   "outputs": [
    {
     "name": "stdout",
     "output_type": "stream",
     "text": [
      "1\n",
      "True\n",
      "Epoch_stop: 1\n",
      "Epoch: 1, Train Acc: 0.6917, Train Loss: 0.4160, Val Acc: 0.6946, Val Loss: 0.4114, time :10.48795747756958\n",
      "2\n",
      "True\n",
      "Epoch_stop: 2\n",
      "Epoch: 2, Train Acc: 0.7812, Train Loss: 0.3590, Val Acc: 0.7828, Val Loss: 0.3551, time :11.065448522567749\n",
      "3\n",
      "True\n",
      "Epoch_stop: 3\n",
      "Epoch: 3, Train Acc: 0.7762, Train Loss: 0.3382, Val Acc: 0.7764, Val Loss: 0.3346, time :10.11599326133728\n",
      "4\n",
      "True\n",
      "Epoch_stop: 4\n",
      "Epoch: 4, Train Acc: 0.8212, Train Loss: 0.2894, Val Acc: 0.8243, Val Loss: 0.2840, time :10.953760147094727\n",
      "CPU times: user 2min 20s, sys: 1.91 s, total: 2min 22s\n",
      "Wall time: 42.6 s\n"
     ]
    }
   ],
   "source": [
    "%%time\n",
    "train_accuracies = []\n",
    "validation_accuracies = []\n",
    "validation_losses = []\n",
    "train_losses = []\n",
    "\n",
    "val_recall=[]\n",
    "val_precision=[]\n",
    "train_recall=[]\n",
    "train_precision=[]\n",
    "times = []\n",
    "n_ly=4\n",
    "for epoch in range(1, 100):\n",
    "    start = time.time()\n",
    "    print(epoch)\n",
    "    model = train_model(train_loader)\n",
    "    print(next(model.parameters()).is_cuda)\n",
    "    \n",
    "    train_acc, train_loss, train_rec, train_prec = evaluate_model(model,train_loader)\n",
    "    train_losses.append(train_loss)\n",
    "                   \n",
    "    val_acc, val_loss, val_rec, val_prec = evaluate_model(model,val_loader)\n",
    "    validation_losses.append(val_loss)\n",
    "\n",
    "    train_accuracies.append(train_acc)\n",
    "    validation_accuracies.append(val_acc)\n",
    "    \n",
    "    train_precision.append(train_prec)\n",
    "    train_recall.append(train_rec)\n",
    "    \n",
    "    val_precision.append(val_prec)\n",
    "    val_recall.append(val_rec)\n",
    "\n",
    "    # save the model if it is the better than any previous ones\n",
    "    if val_loss.item() <= min(validation_losses).item():\n",
    "        torch.save(model, f'/lustrehome/federicacuna/TB_Sept_2023_ml/Code/Pytorch_gnn/best_model_GATNODEEDGES{n_ly}.pkl')\n",
    "        print(f'Epoch_stop: {epoch}')\n",
    "          \n",
    "    #torch.save(model, \"best_model.pkl\")\n",
    "    if epoch % 1 == 0:\n",
    "        print(f'Epoch: {epoch}, Train Acc: {train_acc:.4f}, Train Loss: {train_loss:.4f}, Val Acc: {val_acc:.4f}, Val Loss: {val_loss:.4f}, time :{time.time() - start}')\n",
    "    times.append(time.time() - start)\n",
    "  "
   ]
  },
  {
   "cell_type": "code",
   "execution_count": null,
   "id": "5b800098-3cfb-4f97-92d1-91d532b344a0",
   "metadata": {},
   "outputs": [],
   "source": [
    "best_validation_loss = min(validation_losses)\n",
    "best_epoch = validation_losses.index(best_validation_loss)\n",
    "accuracy_at_best_epoch = validation_accuracies[best_epoch]\n",
    "recall_at_best_epoch=val_recall[best_epoch]\n",
    "precision_at_best_epoch=val_precision[best_epoch]\n",
    "print(f\"The best result was achieved after {best_epoch} epochs with a validation accuracy of {accuracy_at_best_epoch:.4f} and a loss of {best_validation_loss:.4f}\")\n",
    "print(f\"The validation recall is {recall_at_best_epoch:.4f} and the precision is {precision_at_best_epoch:.4f}\")"
   ]
  },
  {
   "cell_type": "code",
   "execution_count": null,
   "id": "b1a79be0-4227-474a-bfff-02fce4e6285f",
   "metadata": {},
   "outputs": [],
   "source": [
    "fig, ax = plt.subplots()\n",
    "#fig.set_size_inches(30.5, 15.5)\n",
    "\n",
    "plt.plot(validation_losses,color='orange',label='validation loss')\n",
    "plt.plot(train_losses,color='blue',label='training loss')\n",
    "\n",
    "plt.axvline(x=best_epoch, color=\"green\", linewidth=2, linestyle='dashed',label='best epoch')\n",
    "#plt.legend(['Val Loss', 'Train Loss', \"Best Epoch\"])\n",
    "plt.legend()\n",
    "\n",
    "\n",
    "# Hide the right and top spines\n",
    "ax.spines['right'].set_visible(False)\n",
    "ax.spines['top'].set_visible(False)\n",
    "ax.spines['bottom'].set_visible(False)\n",
    "ax.spines['left'].set_visible(False)\n",
    "\n",
    "plt.title(\"Model training and validation loss per epoch\", fontsize=10, fontweight='bold')\n",
    "#plt.ylim(0.05,0.2)\n",
    "# plt.savefig(f'/lustrehome/federicacuna/TB_Sept_2023_ml/output_gnn_img/{folder_pkl}/model_loss_{model_list[sel_alg]}_view_{view}lr001.png')\n",
    "plt.show()"
   ]
  },
  {
   "cell_type": "code",
   "execution_count": null,
   "id": "25c6cf70-d4de-4547-9edd-0c2c8cd7ccd3",
   "metadata": {},
   "outputs": [],
   "source": [
    "best_model = torch.load(\"/lustrehome/federicacuna/TB_Sept_2023_ml/Code/Pytorch_gnn/best_model_GATNODEEDGES4.pkl\")\n",
    "best_model.to(device) \n",
    "\n",
    "correct = 0\n",
    "total_samples = 0\n",
    "pred_test_cl=[]\n",
    "targets=[]\n",
    "with torch.no_grad():\n",
    "    for data in test_loader:\n",
    "        data = data.to(device)  \n",
    "        model_output = best_model(data)\n",
    "        predicted_class =  torch.where(model_output > 0.8, 1, 0)\n",
    "        pred_test_cl.extend(predicted_class.tolist())\n",
    "        correct += int((predicted_class == data.y).sum())\n",
    "        targets.extend(data.y.tolist())\n",
    "        total_samples += data.y.size(0)\n",
    "\n",
    "print('accuracy ',accuracy_score(targets,pred_test_cl),' recall ', recall_score(targets,pred_test_cl),' precision ',precision_score(targets,pred_test_cl))\n"
   ]
  }
 ],
 "metadata": {
  "kernelspec": {
   "display_name": "py_env",
   "language": "python",
   "name": "py_env"
  },
  "language_info": {
   "codemirror_mode": {
    "name": "ipython",
    "version": 3
   },
   "file_extension": ".py",
   "mimetype": "text/x-python",
   "name": "python",
   "nbconvert_exporter": "python",
   "pygments_lexer": "ipython3",
   "version": "3.8.2"
  }
 },
 "nbformat": 4,
 "nbformat_minor": 5
}
