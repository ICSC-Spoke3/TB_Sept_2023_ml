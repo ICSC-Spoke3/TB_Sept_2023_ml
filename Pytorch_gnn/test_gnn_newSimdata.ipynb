{
 "cells": [
  {
   "cell_type": "code",
   "execution_count": 63,
   "id": "7c22498f-4297-44a2-95ab-e49b806463ad",
   "metadata": {},
   "outputs": [],
   "source": [
    "#this macro read test data, use the trained gnn that you choose to select good hit per events.\n",
    "#then print some images and root file with filtered data."
   ]
  },
  {
   "cell_type": "code",
   "execution_count": 1,
   "id": "4859d8df-455f-4c53-8802-5b9662e20d6b",
   "metadata": {
    "tags": []
   },
   "outputs": [
    {
     "name": "stderr",
     "output_type": "stream",
     "text": [
      "ERROR in cling::CIFactory::createCI(): cannot extract standard library include paths!\n",
      "Invoking:\n",
      "  x86_64-conda_cos6-linux-gnu-c++  -O3 -DNDEBUG -xc++ -E -v /dev/null 2>&1 | sed -n -e '/^.include/,${' -e '/^ \\/.*++/p' -e '}'\n",
      "Results was:\n",
      "With exit code 0\n"
     ]
    },
    {
     "name": "stdout",
     "output_type": "stream",
     "text": [
      "Welcome to JupyROOT 6.20/02\n"
     ]
    }
   ],
   "source": [
    "import torch\n",
    "import torch_geometric\n",
    "import matplotlib.pyplot as plt\n",
    "from torch.nn import Linear\n",
    "import torch.nn.functional as F\n",
    "from torch_geometric.nn import SAGEConv\n",
    "import MyData as data\n",
    "from sklearn.metrics import precision_score, recall_score, accuracy_score,f1_score\n",
    "from torch_geometric.loader import DataLoader\n",
    "import ROOT\n",
    "import numpy as np\n",
    "from matplotlib.lines import Line2D\n",
    "import pandas as pd\n",
    "import array as ary\n",
    "import GNN_model"
   ]
  },
  {
   "cell_type": "code",
   "execution_count": 2,
   "id": "7550ff4a-0671-4209-8ecc-9a4d7c077ebd",
   "metadata": {
    "tags": []
   },
   "outputs": [],
   "source": [
    "sel_alg=1\n",
    "view='xz'"
   ]
  },
  {
   "cell_type": "code",
   "execution_count": 3,
   "id": "3760f660-31f7-4368-837e-3d04e3e036c2",
   "metadata": {},
   "outputs": [],
   "source": [
    "if sel_alg==1:\n",
    "    num_ly=10\n",
    "    lr=0.0001\n",
    "    num_to_reduce=64\n",
    "    hidden_size = num_to_reduce*num_ly"
   ]
  },
  {
   "cell_type": "code",
   "execution_count": 4,
   "id": "10548c98-cc24-4309-9554-647ed15cb352",
   "metadata": {},
   "outputs": [],
   "source": [
    "# condition='HNoise'\n",
    "# condition='norm'\n",
    "condition='norm_balanced'\n",
    "# condition ='normal_env'"
   ]
  },
  {
   "cell_type": "code",
   "execution_count": 5,
   "id": "5b29e4da-ffb0-4cd6-ba5e-502e9c34ca07",
   "metadata": {},
   "outputs": [],
   "source": [
    "if sel_alg==3:\n",
    "    num_ly=3\n",
    "    num_to_reduce=64\n",
    "    hidden_size = num_to_reduce*num_ly"
   ]
  },
  {
   "cell_type": "code",
   "execution_count": 6,
   "id": "089ef722-c96b-4789-8100-979c82e04348",
   "metadata": {
    "tags": []
   },
   "outputs": [],
   "source": [
    "model_list=['SageConv','SageConv2','GCN','GCN_2','GAT','GDPModel']"
   ]
  },
  {
   "cell_type": "code",
   "execution_count": 7,
   "id": "fd7d4331-4ebb-4f1e-991a-2364f1ff7e02",
   "metadata": {},
   "outputs": [],
   "source": [
    "NUM_FEATURES=5\n",
    "NUM_CLASSES=1"
   ]
  },
  {
   "cell_type": "code",
   "execution_count": 8,
   "id": "21270c96-8041-4e17-9647-9824cafed28c",
   "metadata": {
    "tags": []
   },
   "outputs": [],
   "source": [
    "if sel_alg>len(model_list):\n",
    "    print('no algorithm available')\n",
    "if sel_alg==0:\n",
    "    model = GNN_model.SageConv(num_feat=NUM_FEATURES,num_class=NUM_CLASSES)\n",
    "elif sel_alg==1:\n",
    "    model = GNN_model.SageConv2(hidden_size=hidden_size, num_ly=num_ly, num_feat=NUM_FEATURES, num_class=NUM_CLASSES,num_to_reduce=64)\n",
    "elif sel_alg==2:\n",
    "    model = GNN_model.GCN(num_feat=NUM_FEATURES, num_class=NUM_CLASSES,num_to_reduce=64)\n",
    "elif sel_alg==3:\n",
    "    model = GNN_model.GCN_2(hidden_size=hidden_size, num_ly=num_ly, num_feat=NUM_FEATURES, num_class=NUM_CLASSES,num_to_reduce=64)\n",
    "elif sel_alg==4:\n",
    "    model = GNN_model.GAT(num_feat=NUM_FEATURES, num_class=NUM_CLASSES)\n",
    "elif sel_alg==5:\n",
    "    model = GNN_model.GDPModel()"
   ]
  },
  {
   "cell_type": "code",
   "execution_count": 9,
   "id": "c24fda30-92f5-4753-84fa-916575868fb2",
   "metadata": {
    "tags": []
   },
   "outputs": [
    {
     "name": "stdout",
     "output_type": "stream",
     "text": [
      "taking a list of file from  800  to  801\n"
     ]
    }
   ],
   "source": [
    "data=data.dataset_preparation(root='/lustrehome/federicacuna/TB_Sept_2023_ml/Data/preprocessed/')\n",
    "\n",
    "if view=='xz':\n",
    "    fname='pi-_10GeV_4ly_1e-4ly_normalized_1e-4_viewx' #norm\n",
    "    # fname='pi-_10GeV_4ly_1e-4_inclined_NEW_viewx'\n",
    "    # fname='pi-_10GeV_4ly_1e-4_inclined_4ly_GAT_viewx'#gat data\n",
    "    # fname='pi-_10GeV_4ly_3e-4_inclined_NEW_viewx' #HNoise\n",
    "     # fname= \"pi-_10GeV_4ly_3e-4ly_normalized_viewx\" #norm hnoise\n",
    "       \n",
    "else:\n",
    "    fname='pi-_10GeV_4ly_1e-4ly_normalized_1e-4_viewy' #norm\n",
    "    # fname='pi-_10GeV_4ly_1e-4_inclined_NEW_viewy'\n",
    "    # fname='pi-_10GeV_4ly_1e-4_inclined_4ly_GAT_viewy'#gat data\n",
    "    # fname='pi-_10GeV_4ly_3e-4_inclined_NEW_viewy' #HNoise\n",
    "    # fname= \"pi-_10GeV_4ly_3e-4ly_normalized_viewy\" #normhnoise\n",
    "    \n",
    "\n",
    "#for root saving\n",
    "data_trk=data.get_more_file(800,801,fname)"
   ]
  },
  {
   "cell_type": "code",
   "execution_count": 10,
   "id": "1856b3cd-ee08-4848-b947-88e47c64d6e0",
   "metadata": {},
   "outputs": [
    {
     "name": "stdout",
     "output_type": "stream",
     "text": [
      "6924\n"
     ]
    }
   ],
   "source": [
    "print(len(data_trk))"
   ]
  },
  {
   "cell_type": "code",
   "execution_count": 143,
   "id": "ffeefafc-025b-40b6-bcfa-1ccf1ef89d98",
   "metadata": {
    "tags": []
   },
   "outputs": [
    {
     "name": "stdout",
     "output_type": "stream",
     "text": [
      "5\n",
      "CPU times: user 160 µs, sys: 52 µs, total: 212 µs\n",
      "Wall time: 179 µs\n"
     ]
    }
   ],
   "source": [
    "# %%time\n",
    "# from torch.nn import Linear\n",
    "# import torch.nn.functional as F\n",
    "# from torch_geometric.nn import SAGEConv\n",
    "\n",
    "# NUM_FEATURES = 5\n",
    "# print(NUM_FEATURES)\n",
    "# NUM_CLASSES =1\n",
    "# HIDDEN_LAYER_SIZE = 256\n",
    "# class SageConv(torch.nn.Module):\n",
    "#     def __init__(self):\n",
    "#         super().__init__()\n",
    "#         # Model layers\n",
    "#         self.conv1 = SAGEConv(NUM_FEATURES, HIDDEN_LAYER_SIZE)\n",
    "#         self.conv2 = SAGEConv(HIDDEN_LAYER_SIZE, HIDDEN_LAYER_SIZE-64)\n",
    "#         self.conv3 = SAGEConv(HIDDEN_LAYER_SIZE-64, NUM_CLASSES)\n",
    "#         #self.lin_1 = Linear(HIDDEN_LAYER_SIZE, NUM_CLASSES*4)\n",
    "#         #self.lin_2 = Linear(NUM_CLASSES*4, NUM_CLASSES)\n",
    "\n",
    "#     def forward(self, data):\n",
    "#         # The architecture itself\n",
    "#         x, edge_index, batch = data.x, data.edge_index, data.batch\n",
    "#         x = self.conv1(x, edge_index)\n",
    "#         x = F.tanh(x)\n",
    "#         x = self.conv2(x, edge_index)\n",
    "#         x = F.relu(x)\n",
    "#         x = self.conv3(x, edge_index)\n",
    "       \n",
    "#         #x = self.lin_1(x)\n",
    "#        # x = F.tanh(x)\n",
    "#         #x = self.lin_2(x)\n",
    "#         return F.sigmoid(x)"
   ]
  },
  {
   "cell_type": "code",
   "execution_count": 11,
   "id": "76112cb6-8a35-42c9-b2f4-474eaf9a2702",
   "metadata": {
    "tags": []
   },
   "outputs": [
    {
     "name": "stdout",
     "output_type": "stream",
     "text": [
      "Using device: cuda\n",
      "NVIDIA A100-PCIE-40GB MIG 1g.5gb\n",
      "Memory Usage:\n",
      "Allocated: 0.0 GB\n",
      "Cached:    0.0 GB\n"
     ]
    }
   ],
   "source": [
    "device = torch.device('cuda' if torch.cuda.is_available() else 'cpu')\n",
    "#device=torch.device('cpu')\n",
    "print('Using device:', device)\n",
    "\n",
    "if device.type == 'cuda':\n",
    "    print(torch.cuda.get_device_name(0))\n",
    "    print('Memory Usage:')\n",
    "    print('Allocated:', round(torch.cuda.memory_allocated(0)/1024**3,1), 'GB')\n",
    "    print('Cached:   ', round(torch.cuda.memory_reserved(0)/1024**3,1), 'GB')\n"
   ]
  },
  {
   "cell_type": "code",
   "execution_count": 30,
   "id": "8f4d3656-1803-4044-9ca1-f0a4cb9cbe7a",
   "metadata": {},
   "outputs": [],
   "source": [
    "class GDPModel(torch.nn.Module):\n",
    "    def __init__(self, num_features=5, hidden_size=128,num_class=1,heads=8):\n",
    "        super().__init__()\n",
    "        self.hidden_size = hidden_size\n",
    "        self.num_features = num_features\n",
    "        self.num_class=num_class\n",
    "        self.heads=heads\n",
    "        self.convs1=GATConv(self.num_features, self.hidden_size, edge_dim = 1,heads=self.heads)\n",
    "        self.convs2=GATConv(self.hidden_size*self.heads, self.num_class, edge_dim = 1,heads=1)\n",
    "        \n",
    "        # self.convs = [GATConv(self.num_features, self.hidden_size, edge_dim = 2),\n",
    "        #               GATConv(self.hidden_size, self.hidden_size, edge_dim = 2)]\n",
    "        # self.linear = torch.nn.Linear(self.hidden_size, self.target_size)\n",
    "\n",
    "    def forward(self, data):\n",
    "        \n",
    "        x, edge_index, edge_attr, batch= data.x, data.edge_index, data.edge_attr, data.batch\n",
    "        # print(edge_index.device)\n",
    "        # print(x.device)\n",
    "        # print(edge_attr.device)\n",
    "        # print(batch.device)\n",
    "        x = self.convs1(x, edge_index,edge_attr)\n",
    "        x=F.tanh(x)\n",
    "        x = self.convs2(x, edge_index,edge_attr)\n",
    "        # for conv in self.convs[:-1]:\n",
    "        #     x = conv(x, edge_index, edge_attr) # adding edge features here!\n",
    "        #     x = F.relu(x)\n",
    "        #     x = F.dropout(x, training=self.training)\n",
    "        # x = self.convs[-1](x, edge_index, edge_attr) # edge features here as well\n",
    "        # x = self.linear(x)\n",
    "        \n",
    "        \n",
    "        return F.sigmoid(x) "
   ]
  },
  {
   "cell_type": "code",
   "execution_count": 12,
   "id": "bec20be2-7f43-4bc4-b60f-23b7572fca5f",
   "metadata": {
    "tags": []
   },
   "outputs": [
    {
     "data": {
      "text/plain": [
       "SageConv2(\n",
       "  (conv_layers): ModuleList(\n",
       "    (0): SAGEConv(5, 448, aggr=mean)\n",
       "    (1): SAGEConv(448, 384, aggr=mean)\n",
       "    (2): SAGEConv(384, 320, aggr=mean)\n",
       "    (3): SAGEConv(320, 256, aggr=mean)\n",
       "    (4): SAGEConv(256, 192, aggr=mean)\n",
       "    (5): SAGEConv(192, 128, aggr=mean)\n",
       "    (6): SAGEConv(128, 64, aggr=mean)\n",
       "    (7): SAGEConv(64, 1, aggr=mean)\n",
       "  )\n",
       ")"
      ]
     },
     "execution_count": 12,
     "metadata": {},
     "output_type": "execute_result"
    }
   ],
   "source": [
    "if view=='xz':\n",
    "    if sel_alg==0 and condition=='HNoise':        \n",
    "        print('WORNING: HIGH NOISE ENVIRONMENT SELECTED')\n",
    "        best_model = torch.load(\"/lustrehome/federicacuna/TB_Sept_2023_ml/output_gnn_pkl/optimized_HNoise/HNDATA_best_modelSageConv_lytrk4_view_xz_lr0_0001_epochs_500_lentrain2000000.pkl\")\n",
    "   \n",
    "    elif sel_alg==0 and condition=='norm':\n",
    "        print('WORNING: norm ENVIRONMENT SELECTED')\n",
    "        best_model = torch.load(\"/lustrehome/federicacuna/TB_Sept_2023_ml/output_gnn_pkl/optimized_norm/NORMDATA_best_modelSageConv_lytrk4_view_xz_lr0_0001_epochs_500_lentrain4000000.pkl\")\n",
    "    \n",
    "    elif sel_alg==0 and condition=='normal_env':\n",
    "        best_model = torch.load(\"/lustrehome/federicacuna/TB_Sept_2023_ml/output_gnn_pkl/optimized/NEWDATA_best_modelSageConv_lytrk4_view_xz_lr0_0001_epochs_500.pkl\")\n",
    "  \n",
    "    elif sel_alg==1 and condition=='norm_balanced':\n",
    "         best_model = torch.load(\"/lustrehome/federicacuna/TB_Sept_2023_ml/output_gnn_pkl/optimized_balanced_norm/Balanced_norm_DATA_best_modelSageConv2_lytrk4_lr0_0001_epochs_550_lentrain4000000_numly7.pkl\")\n",
    "  \n",
    "    elif sel_alg==3:\n",
    "         best_model = torch.load(\"/lustrehome/federicacuna/TB_Sept_2023_ml/output_gnn_pkl/optimized/best_modelGCN_2_lytrk4_view_xz_lr_5e-05_nepochs_1500_lentrain_2000000.pkl\")       \n",
    "    \n",
    "    elif sel_alg==5:\n",
    "        best_model = torch.load(\"/lustrehome/federicacuna/TB_Sept_2023_ml/output_gnn_pkl/optimized/NEWDATAbest_model_gatedgenode_lytrk_4_view_xz_lr_0_0001_nepochs_600_len_2000000.pkl\")\n",
    "\n",
    "else:\n",
    "    if sel_alg==0 and condition=='norm':\n",
    "        print('WORNING: norm ENVIRONMENT SELECTED')\n",
    "        best_model = torch.load(\"/lustrehome/federicacuna/TB_Sept_2023_ml/output_gnn_pkl/optimized_norm/NORMDATA_best_modelSageConv_lytrk4_view_xz_lr0_0001_epochs_500_lentrain4000000.pkl\")\n",
    "    \n",
    "    elif sel_alg==0 and condition=='HNoise':        \n",
    "        print('WORNING: HIGH NOISE ENVIRONMENT SELECTED yview')\n",
    "        best_model = torch.load(\"/lustrehome/federicacuna/TB_Sept_2023_ml/output_gnn_pkl/optimized_HNoise/HNDATA_best_modelSageConv_lytrk4_view_yz_lr0_0001_epochs_500_lentrain2000000.pkl\")\n",
    "\n",
    "    elif sel_alg==1 and condition=='norm_balanced':\n",
    "         best_model = torch.load(\"/lustrehome/federicacuna/TB_Sept_2023_ml/output_gnn_pkl/optimized_balanced_norm/Balanced_norm_DATA_best_modelSageConv2_lytrk4_lr0_0001_epochs_550_lentrain4000000_numly7.pkl\")\n",
    "     \n",
    "    elif sel_alg==0:\n",
    "        best_model = torch.load(\"/lustrehome/federicacuna/TB_Sept_2023_ml/output_gnn_pkl/optimized/NEWDATA_best_modelSageConv_lytrk4_view_yz_lr0_0001_epochs_500.pkl\")\n",
    "\n",
    "    elif sel_alg==3:\n",
    "         best_model = torch.load(\"/lustrehome/federicacuna/TB_Sept_2023_ml/output_gnn_pkl/optimized/best_modelGCN_2_lytrk4_view_yz_lr_5e-05_nepochs_1500_lentrain_2000000.pkl\")       \n",
    "\n",
    "    elif sel_alg==5:\n",
    "        best_model = torch.load(\"/lustrehome/federicacuna/TB_Sept_2023_ml/output_gnn_pkl/optimized/NEWDATAbest_model_gatedgenode_lytrk_4_view_yz_lr_0_0001_nepochs_600_len_2000000.pkl\")\n",
    "\n",
    "         \n",
    "best_model.to(device) "
   ]
  },
  {
   "cell_type": "code",
   "execution_count": 12,
   "id": "87977583-642b-4e93-80d7-6c367f51f13d",
   "metadata": {
    "tags": []
   },
   "outputs": [
    {
     "name": "stdout",
     "output_type": "stream",
     "text": [
      "0   Data(x=[15, 5], edge_index=[2, 50], edge_attr=[50, 1], y=[15])\n",
      "1   Data(x=[9, 5], edge_index=[2, 12], edge_attr=[12, 1], y=[9])\n",
      "2   Data(x=[13, 5], edge_index=[2, 36], edge_attr=[36, 1], y=[13])\n",
      "3   Data(x=[9, 5], edge_index=[2, 16], edge_attr=[16, 1], y=[9])\n",
      "4   Data(x=[7, 5], edge_index=[2, 10], edge_attr=[10, 1], y=[7])\n",
      "5   Data(x=[7, 5], edge_index=[2, 10], edge_attr=[10, 1], y=[7])\n",
      "6   Data(x=[9, 5], edge_index=[2, 16], edge_attr=[16, 1], y=[9])\n",
      "7   Data(x=[11, 5], edge_index=[2, 18], edge_attr=[18, 1], y=[11])\n",
      "8   Data(x=[23, 5], edge_index=[2, 99], edge_attr=[99, 1], y=[23])\n",
      "9   Data(x=[12, 5], edge_index=[2, 26], edge_attr=[26, 1], y=[12])\n"
     ]
    }
   ],
   "source": [
    "# ev_id=100\n",
    "for i in range(0,10):\n",
    "    test_batch=data_trk[i]\n",
    "    print(i,' ',test_batch)"
   ]
  },
  {
   "cell_type": "code",
   "execution_count": 15,
   "id": "3bcee33b-fe17-4e2e-85dd-ae815250e302",
   "metadata": {
    "tags": []
   },
   "outputs": [
    {
     "name": "stdout",
     "output_type": "stream",
     "text": [
      "4965   Data(x=[7, 5], edge_index=[2, 11], edge_attr=[11, 1], y=[7])\n",
      "0.5714285714285714\n",
      "0.0\n",
      "0.0\n",
      "0.0\n"
     ]
    },
    {
     "name": "stderr",
     "output_type": "stream",
     "text": [
      "/lustrehome/federicacuna/.conda/envs/py_env/lib/python3.8/site-packages/sklearn/metrics/_classification.py:1344: UndefinedMetricWarning: Precision is ill-defined and being set to 0.0 due to no predicted samples. Use `zero_division` parameter to control this behavior.\n",
      "  _warn_prf(average, modifier, msg_start, len(result))\n"
     ]
    }
   ],
   "source": [
    "ev_id=4965\n",
    "\n",
    "test_batch=data_trk[ev_id]\n",
    "print(ev_id,' ',test_batch)\n",
    "test_batch.to(device) \n",
    "model_output = best_model(test_batch) \n",
    "model_output.to(device)\n",
    "predicted_class = torch.where(model_output > 0.8, 1, 0)\n",
    "# print(model_output)\n",
    "predicted_class=predicted_class.detach().cpu().tolist()\n",
    "predicted_class = [item for sublist in predicted_class for item in sublist]\n",
    "#calculate the accuracy\n",
    "print(accuracy_score( test_batch.y.detach().cpu(),predicted_class))\n",
    "print(recall_score( test_batch.y.detach().cpu(),predicted_class))\n",
    "print(precision_score( test_batch.y.detach().cpu(),predicted_class))\n",
    "print(f1_score( test_batch.y.detach().cpu(),predicted_class))"
   ]
  },
  {
   "cell_type": "code",
   "execution_count": 16,
   "id": "04d78768-219d-4359-b122-c3d7a5b23558",
   "metadata": {
    "tags": []
   },
   "outputs": [],
   "source": [
    "test_batch=test_batch.detach().cpu()\n",
    "ly=test_batch.x[:,2]\n",
    "x=test_batch.x[:,0]\n",
    "z_hit=test_batch.x[:,3]\n",
    "label=test_batch.y\n",
    "label_pred=predicted_class\n",
    "# print(x)\n",
    "# print(label)\n",
    "# print(label_pred)\n",
    "# print(test_batch.x[:,4])"
   ]
  },
  {
   "cell_type": "code",
   "execution_count": 17,
   "id": "02fc0d5c-9b6f-4d14-9d8d-8c6830b3a2d6",
   "metadata": {},
   "outputs": [],
   "source": [
    "def inverse_normalization_val(old_min, old_max, new_min, new_max, value):\n",
    "    return np.interp(value, (new_min, new_max), (old_min, old_max))\n",
    "old_min_xhit=-17.0\n",
    "old_max_xhit=17.0\n",
    "old_min_yhit=-17.0\n",
    "old_max_yhit=17.0\n",
    "old_min_PE=3\n",
    "old_max_PE=30000\n",
    "old_min_dx=0.1\n",
    "old_max_dx=5.0\n",
    "old_min_dy=0.1\n",
    "old_max_dy=5.0\n",
    "old_min_z=-29.0\n",
    "old_max_z=1800.0\n",
    "old_max_ang=360\n",
    "old_min_ang=0\n",
    "old_max_dxang=-6\n",
    "new_min=0\n",
    "new_max=1"
   ]
  },
  {
   "cell_type": "code",
   "execution_count": 18,
   "id": "9abbfbe1-c9d0-4447-a083-e91eff1ddba0",
   "metadata": {},
   "outputs": [],
   "source": [
    "if condition =='norm' or condition =='norm_balanced':\n",
    "    def inverse_normalization(old_min, old_max, new_min, new_max, values):\n",
    "        return [np.interp(value, (new_min, new_max), (old_min, old_max)) for value in values]\n",
    "    old_min_xhit=-17.0\n",
    "    old_max_xhit=17.0\n",
    "    old_min_yhit=-17.0\n",
    "    old_max_yhit=17.0\n",
    "    old_min_PE=3\n",
    "    old_max_PE=30000\n",
    "    old_min_dx=0.1\n",
    "    old_max_dx=5.0\n",
    "    old_min_dy=0.1\n",
    "    old_max_dy=5.0\n",
    "    old_min_z=-29.0\n",
    "    old_max_z=1800.0\n",
    "    old_max_ang=360\n",
    "    old_min_ang=0\n",
    "    old_max_dxang=-6\n",
    "\n",
    "    new_min=0\n",
    "    new_max=1\n",
    "\n",
    "    z_hit = inverse_normalization(old_min_z, old_max_z, new_min, new_max, z_hit)\n",
    "    x=inverse_normalization(old_min_xhit, old_max_xhit, new_min, new_max, x)\n"
   ]
  },
  {
   "cell_type": "code",
   "execution_count": 19,
   "id": "1beeb193-d346-4b86-b2d6-916ef1f865cf",
   "metadata": {
    "tags": []
   },
   "outputs": [
    {
     "data": {
      "text/plain": [
       "<matplotlib.legend.Legend at 0x7fbcb5d57130>"
      ]
     },
     "execution_count": 19,
     "metadata": {},
     "output_type": "execute_result"
    },
    {
     "data": {
      "image/png": "[encoded data removed]",
      "text/plain": [
       "<Figure size 640x480 with 1 Axes>"
      ]
     },
     "metadata": {},
     "output_type": "display_data"
    }
   ],
   "source": [
    "for i in range(len(x)):\n",
    "    if label[i] == 0:\n",
    "        plt.scatter(z_hit[i],x[i], color='grey', label='0')\n",
    "    else:\n",
    "        plt.scatter(z_hit[i],x[i], color='red', label='1')\n",
    "plt.xlim(-100,2000)\n",
    "plt.ylim(-20,20)\n",
    "plt.xlabel('z [mm]')\n",
    "if view=='xz':\n",
    "    plt.ylabel('x [mm]')\n",
    "else:\n",
    "    plt.ylabel('y [mm]')\n",
    "plt.title(f'Ev {ev_id}: true label')\n",
    "legend_elements = [Line2D([0], [0], marker='o', color='w', label='0 (MC truth)', markerfacecolor='grey', markersize=10),\n",
    "                   Line2D([0], [0], marker='o', color='w', label='1 (MC truth)', markerfacecolor='red', markersize=10)]\n",
    "plt.legend(handles=legend_elements, loc='upper right')\n",
    "\n",
    "# plt.savefig(f'/lustrehome/federicacuna/TB_Sept_2023_ml/output_gnn_img/2million_sageconv/true_label_view_{view}_ev_{ev_id}.png')"
   ]
  },
  {
   "cell_type": "code",
   "execution_count": 20,
   "id": "73db73e6-b831-4269-91fe-0b4dee9e95e8",
   "metadata": {
    "tags": []
   },
   "outputs": [
    {
     "data": {
      "text/plain": [
       "<matplotlib.legend.Legend at 0x7fbcb5c944f0>"
      ]
     },
     "execution_count": 20,
     "metadata": {},
     "output_type": "execute_result"
    },
    {
     "data": {
      "image/png": "[encoded data removed]",
      "text/plain": [
       "<Figure size 640x480 with 1 Axes>"
      ]
     },
     "metadata": {},
     "output_type": "display_data"
    }
   ],
   "source": [
    "x_pred=[]\n",
    "y_pred=[]\n",
    "z_pred=[]\n",
    "for i in range(len(x)):\n",
    "    if label_pred[i] == 0:\n",
    "        plt.scatter(z_hit[i],x[i], color='grey', label='0 (Pred)')\n",
    "    else:\n",
    "        x_pred.append(x[i].item())\n",
    "        y_pred.append(ly[i].item())\n",
    "        z_pred.append(z_hit[i].item())\n",
    "        plt.scatter(z_hit[i],x[i], color='red', label='1 (Pred)')\n",
    "        \n",
    "plt.xlim(-100,2000)\n",
    "plt.ylim(-20,20)\n",
    "#plt.legend()\n",
    "if view=='xz':\n",
    "    plt.ylabel('x [mm]')\n",
    "else:\n",
    "    plt.ylabel('y [mm]')\n",
    "plt.xlabel('z [mm]')\n",
    "plt.title(f'Ev {ev_id}: predicted label')\n",
    "legend_elements = [Line2D([0], [0], marker='o', color='w', label='0 (GNN pred)', markerfacecolor='grey', markersize=10),\n",
    "                   Line2D([0], [0], marker='o', color='w', label='1 (GNN pred)', markerfacecolor='red', markersize=10)]\n",
    "\n",
    "plt.legend(handles=legend_elements, loc='upper right')\n",
    "# plt.savefig(f'/lustrehome/federicacuna/TB_Sept_2023_ml/output_gnn_img/2million_sageconv/pred_label_view_{view}_ev_{ev_id}.png')"
   ]
  },
  {
   "cell_type": "code",
   "execution_count": 13,
   "id": "ee6f1881-9358-42a4-a469-4455ab9c634e",
   "metadata": {
    "tags": []
   },
   "outputs": [],
   "source": [
    "best_model.to(device) \n",
    "test_loader=DataLoader(data_trk, batch_size=128,shuffle=True)"
   ]
  },
  {
   "cell_type": "code",
   "execution_count": 15,
   "id": "28a98f57-42da-41b8-a6ae-2cdd7b3c444c",
   "metadata": {
    "tags": []
   },
   "outputs": [
    {
     "name": "stdout",
     "output_type": "stream",
     "text": [
      "0.8  accuracy  0.9761102599145248  recall  0.9648542027953556  precision  0.98510258462242\n"
     ]
    }
   ],
   "source": [
    "correct = 0\n",
    "total_samples = 0\n",
    "pred_test_cl=[]\n",
    "targets=[]\n",
    "prob=[]\n",
    "# thrs=[0,0.1,0.15,0.2,0.25,0.3,0.35,0.40,0.45,0.5,0.55,0.6,0.65,0.7,0.75,0.8,0.85,0.9,0.95]\n",
    "thrs=[0.8]\n",
    "# thrs=[0,0.1,0.5,0.55,0.6,0.7,0.75,0.9,0.95,3]\n",
    "acc_list=[]\n",
    "rec_list=[]\n",
    "prec_list=[]\n",
    "for th in thrs:\n",
    "    tmpacc=0\n",
    "    tmprec=0\n",
    "    tmpprec=0\n",
    "    with torch.no_grad():\n",
    "        for data in test_loader:\n",
    "            data = data.to(device)  \n",
    "            model_output = best_model(data)\n",
    "            prob.extend(model_output.tolist())\n",
    "            predicted_class =  torch.where(model_output > th, 1, 0)\n",
    "            pred_test_cl.extend(predicted_class.tolist())\n",
    "            correct += int((predicted_class == data.y).sum())\n",
    "            targets.extend(data.y.tolist())\n",
    "            total_samples += data.y.size(0)\n",
    "            # print('len ',len(data), accuracy_score(data.y.tolist(),predicted_class.tolist()))\n",
    "    \n",
    "    tmpacc=accuracy_score(targets,pred_test_cl)\n",
    "    tmprec=recall_score(targets,pred_test_cl)\n",
    "    tmpprec=precision_score(targets,pred_test_cl)\n",
    "    acc_list.append(round(tmpacc,2))\n",
    "    rec_list.append(round(tmprec,2))\n",
    "    prec_list.append(round(tmpprec,2))\n",
    "    print(th,' accuracy ',tmpacc,' recall ', tmprec,' precision ',tmpprec)"
   ]
  },
  {
   "cell_type": "code",
   "execution_count": 49,
   "id": "42cd2dfd-8b07-495a-9d40-8340deacf5ef",
   "metadata": {
    "tags": []
   },
   "outputs": [
    {
     "data": {
      "image/png": "[encoded data removed]",
      "text/plain": [
       "<Figure size 1000x500 with 2 Axes>"
      ]
     },
     "metadata": {},
     "output_type": "display_data"
    }
   ],
   "source": [
    "fig, axs = plt.subplots(1, 2, figsize=(10, 5))\n",
    "axs[0].set_title('Accuracy vs threshold')\n",
    "axs[0].scatter(thrs,acc_list,color='b')\n",
    "axs[0].set_xlabel('thr')\n",
    "axs[0].set_ylabel('accuracy')\n",
    "axs[0].set_ylim(0.7,1.01)\n",
    "axs[1].set_title('Recall and precision vs threshold')\n",
    "axs[1].scatter(thrs,rec_list,color='r',label='recall')\n",
    "axs[1].scatter(thrs,prec_list,color='g',label='precision')\n",
    "axs[1].set_xlabel('thr')\n",
    "axs[1].set_ylim(0.7,1.01)\n",
    "plt.tight_layout()"
   ]
  },
  {
   "cell_type": "code",
   "execution_count": 16,
   "id": "2a9af532-ef31-4b57-9305-fe3cf815ed06",
   "metadata": {},
   "outputs": [
    {
     "data": {
      "image/png": "[encoded data removed]",
      "text/plain": [
       "<Figure size 640x480 with 1 Axes>"
      ]
     },
     "metadata": {},
     "output_type": "display_data"
    }
   ],
   "source": [
    "from sklearn.metrics import roc_auc_score, roc_curve\n",
    "import matplotlib.pyplot as plt\n",
    "\n",
    "# Calcola l'AUC\n",
    "auc = roc_auc_score(targets, prob)\n",
    "\n",
    "# Calcola i valori delle curve ROC\n",
    "fpr, tpr, thresholds = roc_curve(targets, prob)\n",
    "\n",
    "# Disegna la curva ROC\n",
    "plt.figure()\n",
    "plt.plot(fpr, tpr, label=f'ROC curve (AUC = {auc:.4f})')\n",
    "plt.plot([0, 1], [0, 1], 'k--', label='Random guess')\n",
    "plt.xlabel('False Positive Rate')\n",
    "plt.ylabel('True Positive Rate')\n",
    "plt.title('Receiver Operating Characteristic (ROC) Curve')\n",
    "plt.legend(loc='best')\n",
    "plt.grid(True)\n",
    "plt.savefig(f'/lustrehome/federicacuna/TB_Sept_2023_ml/output_gnn_img/optimized_HNoise/ROC_curve_{model_list[sel_alg]}')\n",
    "plt.show()"
   ]
  },
  {
   "cell_type": "code",
   "execution_count": 21,
   "id": "d64277cd-a65e-4e93-9d80-807e0c3badf4",
   "metadata": {},
   "outputs": [
    {
     "name": "stdout",
     "output_type": "stream",
     "text": [
      "accuracy  0.9602932636469221  recall  0.9537876364153425  precision  0.9874503165022818\n"
     ]
    }
   ],
   "source": [
    "best_model.to(device) \n",
    "correct = 0\n",
    "total_samples = 0\n",
    "pred_test_cl=[]\n",
    "targets=[]\n",
    "with torch.no_grad():\n",
    "    for data in test_loader:\n",
    "        data = data.to(device)  \n",
    "        model_output = best_model(data)\n",
    "        predicted_class =  torch.where(model_output > 0.8, 1, 0)\n",
    "        pred_test_cl.extend(predicted_class.tolist())\n",
    "        correct += int((predicted_class == data.y).sum())\n",
    "        targets.extend(data.y.tolist())\n",
    "        total_samples += data.y.size(0)\n",
    "\n",
    "print('accuracy ',accuracy_score(targets,pred_test_cl),' recall ', recall_score(targets,pred_test_cl),' precision ',precision_score(targets,pred_test_cl))\n"
   ]
  },
  {
   "cell_type": "code",
   "execution_count": 49,
   "id": "dd035fab-5162-44e8-95f4-882640703a1f",
   "metadata": {},
   "outputs": [
    {
     "data": {
      "image/png": "[encoded data removed]",
      "text/plain": [
       "<Figure size 640x480 with 2 Axes>"
      ]
     },
     "metadata": {},
     "output_type": "display_data"
    }
   ],
   "source": [
    "from sklearn.metrics import confusion_matrix\n",
    "import seaborn as sns\n",
    "import matplotlib.pyplot as plt\n",
    "\n",
    "# Calcola la matrice di confusione\n",
    "cm = confusion_matrix(targets, pred_test_cl,normalize='true')\n",
    "\n",
    "# Plot della matrice di confusione\n",
    "plt.figure()\n",
    "sns.heatmap(cm, annot=True, cmap='Blues')\n",
    "plt.xlabel('Predicted labels')\n",
    "plt.ylabel('True labels')\n",
    "plt.title('Confusion Matrix')\n",
    "plt.savefig(f'/lustrehome/federicacuna/TB_Sept_2023_ml/output_gnn_img/optimized_HNoise/conf_matrix_{model_list[sel_alg]}')\n",
    "plt.show()"
   ]
  },
  {
   "cell_type": "code",
   "execution_count": 16,
   "id": "75104625-8c4c-4d5d-a7c2-e0cbdbeba5e6",
   "metadata": {
    "tags": []
   },
   "outputs": [
    {
     "name": "stdout",
     "output_type": "stream",
     "text": [
      "CPU times: user 21.7 s, sys: 598 ms, total: 22.3 s\n",
      "Wall time: 22.1 s\n"
     ]
    }
   ],
   "source": [
    "%%time\n",
    "# gr=ROOT.TGraph(len(np.array(x_pred)),np.array(x_pred),np.array(z_pred))\n",
    "# c1=ROOT.TCanvas()\n",
    "# c1.cd()\n",
    "# gr.GetXaxis().SetLimits(-20.0,20.0);\n",
    "# gr.GetXaxis().SetTitle('x [mm]')\n",
    "# gr.GetYaxis().SetTitle('z [mm]')\n",
    "# gr.SetMarkerStyle(8)\n",
    "# gr.Draw('AP')\n",
    "myfile=ROOT.TFile('/lustrehome/federicacuna/TB_Sept_2023_ml/root_file_predhit/pred_data_xz_NORMBALANCED_SageConv.root','RECREATE')\n",
    "# gr.Write()\n",
    "# c1.Write()\n",
    "\n",
    "test_batch_ev=[]\n",
    "for ev_id in range(0,len(data_trk)):\n",
    "    test_batch_ev.append(data_trk[ev_id])\n",
    "    predicted_class_ev=[]\n",
    "    \n",
    "for i in test_batch_ev:\n",
    "    i.to(device)\n",
    "    model_output = best_model(i) \n",
    "    \n",
    "    predicted_class_ev.append((torch.where(model_output > 0.8, 1, 0)))\n",
    "\n",
    "         \n",
    "ly_ev=[]\n",
    "x_ev=[]\n",
    "z_ev=[]\n",
    "pe_ev=[]\n",
    "dx_ev=[]\n",
    "no_good_ev=[]\n",
    "for i in range(len(test_batch_ev)): \n",
    "        \n",
    "    ev=test_batch_ev[i]\n",
    "    ev=ev.detach().cpu()\n",
    "    label = predicted_class_ev[i].detach().cpu().numpy()\n",
    "    ly_ev.append([])\n",
    "    x_ev.append([])\n",
    "    z_ev.append([])\n",
    "    pe_ev.append([])\n",
    "    dx_ev.append([])\n",
    "    if all(el==0 for el in label):\n",
    "        # print(i)\n",
    "        no_good_ev.append(i)\n",
    "        # print(label)\n",
    "    for j,lab in enumerate(label):\n",
    "        # print(j)\n",
    "        # print(lab)\n",
    "        if lab==1:\n",
    "            if condition=='norm' or condition=='norm_balanced':\n",
    "                # print('norm dataset')\n",
    "                tmp_ly=ev.x[j,2].detach().cpu().tolist()\n",
    "                tmp_ly=inverse_normalization_val(0, 3, 0, 1, tmp_ly)\n",
    "                \n",
    "                tmp_x=ev.x[j,0].detach().cpu().tolist()\n",
    "                tmp_x=inverse_normalization_val(old_min_xhit, old_max_xhit, new_min, new_max, tmp_x)\n",
    "                \n",
    "                tmp_z=ev.x[j,3].detach().cpu().tolist() \n",
    "                tmp_z=inverse_normalization_val(old_min_z, old_max_z, new_min, new_max, tmp_z)\n",
    "                \n",
    "                tmp_dx=ev.x[j,1].detach().cpu().tolist() \n",
    "                tmp_dx=inverse_normalization_val(old_min_dx, old_max_dx, new_min, new_max, tmp_dx)\n",
    "                \n",
    "                tmp_pe=ev.x[j,4].detach().cpu().tolist()\n",
    "                tmp_pe=inverse_normalization_val(old_min_PE, old_max_PE, new_min, new_max, tmp_pe)\n",
    "                \n",
    "            else:\n",
    "                \n",
    "                tmp_ly=ev.x[j,2].detach().cpu().tolist()\n",
    "                tmp_x=ev.x[j,0].detach().cpu().tolist()\n",
    "                tmp_z=ev.x[j,3].detach().cpu().tolist() \n",
    "                tmp_dx=ev.x[j,1].detach().cpu().tolist() \n",
    "                # print(tmp_dx)\n",
    "                tmp_pe=ev.x[j,4].detach().cpu().tolist()        \n",
    "                \n",
    "            # print(tmp_pe)\n",
    "            ly_ev[i].append(tmp_ly)\n",
    "            x_ev[i].append(tmp_x)\n",
    "            z_ev[i].append(tmp_z)\n",
    "            dx_ev[i].append(tmp_dx)\n",
    "            pe_ev[i].append(tmp_pe)\n",
    "\n",
    "\n",
    "OutTree = ROOT.TTree(\"Reco_tree\", \"Reco_tree\")   \n",
    "ly_ev_vec = ROOT.std.vector(\"float\")()\n",
    "x_ev_vec = ROOT.std.vector(\"float\")()\n",
    "z_ev_vec = ROOT.std.vector(\"float\")()\n",
    "dx_ev_vec = ROOT.std.vector(\"float\")()\n",
    "pe_ev_vec = ROOT.std.vector(\"float\")()\n",
    "no_good_ev_vec=ROOT.std.vector(\"int\")()\n",
    "OutTree.Branch(\"ly_ev_vec\", ly_ev_vec)\n",
    "OutTree.Branch(\"x_ev_vec\", x_ev_vec)\n",
    "OutTree.Branch(\"z_ev_vec\", z_ev_vec)\n",
    "OutTree.Branch(\"dx_ev_vec\", dx_ev_vec)\n",
    "OutTree.Branch(\"pe_ev_vec\", pe_ev_vec)\n",
    "OutTree.Branch(\"no_good_ev_vec\", no_good_ev_vec)\n",
    "# print(x_ev)\n",
    "for no_good in no_good_ev:\n",
    "    no_good_ev_vec.push_back(no_good)\n",
    "for l,x,z,dx,pe in zip(ly_ev,x_ev,z_ev,dx_ev,pe_ev):\n",
    "    \n",
    "    # Clear the contents of the vector\n",
    "    ly_ev_vec.clear()\n",
    "    x_ev_vec.clear()\n",
    "    z_ev_vec.clear()\n",
    "    dx_ev_vec.clear()\n",
    "    pe_ev_vec.clear()\n",
    "    \n",
    "    # Replace the contents in the vector with the contents\n",
    "    # from the current array\n",
    "    ly_ev_vec.reserve(len(l))\n",
    "    x_ev_vec.reserve(len(x))\n",
    "    z_ev_vec.reserve(len(z))\n",
    "    dx_ev_vec.reserve(len(dx))\n",
    "    pe_ev_vec.reserve(len(pe))\n",
    "    \n",
    "\n",
    "    for il in l:\n",
    "        ly_ev_vec.push_back(il)\n",
    "    for ix in x:\n",
    "        x_ev_vec.push_back(ix)\n",
    "    for iz in z:\n",
    "        z_ev_vec.push_back(iz)\n",
    "    for idx in dx:\n",
    "        dx_ev_vec.push_back(idx)\n",
    "    for ipe in pe:\n",
    "        pe_ev_vec.push_back(ipe)\n",
    "        \n",
    "        \n",
    "    OutTree.Fill()\n",
    "\n",
    "OutTree.Write()\n",
    "myfile.Close()"
   ]
  },
  {
   "cell_type": "code",
   "execution_count": 13,
   "id": "9aa5d3a7-ff0a-4c47-94b9-8115ced1c485",
   "metadata": {},
   "outputs": [
    {
     "data": {
      "image/png": "[encoded data removed]",
      "text/plain": [
       "<Figure size 432x288 with 1 Axes>"
      ]
     },
     "metadata": {
      "needs_background": "light"
     },
     "output_type": "display_data"
    }
   ],
   "source": [
    "model=[]\n",
    "for sublist in model_output.tolist():\n",
    "    model+=sublist\n",
    "plt.hist(model,bins=100,range=(0,1))\n",
    "plt.yscale('log')\n",
    "plt.show()"
   ]
  },
  {
   "cell_type": "code",
   "execution_count": 18,
   "id": "70256bd6-4e59-4059-9616-d597d67e7921",
   "metadata": {
    "tags": []
   },
   "outputs": [
    {
     "name": "stdout",
     "output_type": "stream",
     "text": [
      "CPU times: user 23 s, sys: 489 ms, total: 23.5 s\n",
      "Wall time: 23.4 s\n"
     ]
    }
   ],
   "source": [
    "%%time\n",
    "myfile=ROOT.TFile('/lustrehome/federicacuna/TB_Sept_2023_ml/root_file_predhit/pred_data_yz_NORMBALANCED_HN_SageConv.root','RECREATE')\n",
    "test_batch_ev=[]\n",
    "for ev_id in range(0,len(data_trk)):\n",
    "    test_batch_ev.append(data_trk[ev_id])\n",
    "    predicted_class_ev=[]\n",
    "    \n",
    "for i in test_batch_ev:\n",
    "    i.to(device)\n",
    "    model_output = best_model(i) \n",
    "    \n",
    "    predicted_class_ev.append((torch.where(model_output > 0.8, 1, 0)))\n",
    "\n",
    "         \n",
    "ly_ev=[]\n",
    "y_ev=[]\n",
    "z_ev=[]\n",
    "pe_ev=[]\n",
    "dy_ev=[]\n",
    "no_good_ev=[]\n",
    "for i in range(len(test_batch_ev)): \n",
    "        \n",
    "    ev=test_batch_ev[i]\n",
    "    ev=ev.detach().cpu()\n",
    "    label = predicted_class_ev[i].detach().cpu().numpy()\n",
    "    ly_ev.append([])\n",
    "    y_ev.append([])\n",
    "    z_ev.append([])\n",
    "    pe_ev.append([])\n",
    "    dy_ev.append([])\n",
    "    if all(el==0 for el in label):\n",
    "        # print(i)\n",
    "        no_good_ev.append(i)\n",
    "        # print(label)\n",
    "    for j,lab in enumerate(label):\n",
    "        # print(j)\n",
    "        # print(lab)\n",
    "        if lab==1:\n",
    "            if condition=='norm' or condition=='norm_balanced':\n",
    "                tmp_ly=ev.x[j,2].detach().cpu().tolist()\n",
    "                tmp_ly=inverse_normalization_val(0, 3, 0, 1, tmp_ly)\n",
    "                \n",
    "                tmp_y=ev.x[j,0].detach().cpu().tolist()\n",
    "                tmp_y=inverse_normalization_val(old_min_yhit, old_max_yhit, new_min, new_max, tmp_y)\n",
    "                \n",
    "                tmp_z=ev.x[j,3].detach().cpu().tolist() \n",
    "                tmp_z=inverse_normalization_val(old_min_z, old_max_z, new_min, new_max, tmp_z)\n",
    "                \n",
    "                tmp_dy=ev.x[j,1].detach().cpu().tolist() \n",
    "                tmp_dy=inverse_normalization_val(old_min_dy, old_max_dy, new_min, new_max, tmp_dy)\n",
    "                \n",
    "                tmp_pe=ev.x[j,4].detach().cpu().tolist()\n",
    "                tmp_pe=inverse_normalization_val(old_min_PE, old_max_PE, new_min, new_max, tmp_pe)\n",
    "                \n",
    "            else:\n",
    "                \n",
    "                tmp_ly=ev.x[j,2].detach().cpu().tolist()\n",
    "                tmp_y=ev.x[j,0].detach().cpu().tolist()\n",
    "                tmp_z=ev.x[j,3].detach().cpu().tolist() \n",
    "                tmp_dy=ev.x[j,1].detach().cpu().tolist() \n",
    "                # print(tmp_dx)\n",
    "                tmp_pe=ev.x[j,4].detach().cpu().tolist()        \n",
    "                \n",
    "            # print(tmp_pe)\n",
    "            ly_ev[i].append(tmp_ly)\n",
    "            y_ev[i].append(tmp_y)\n",
    "            z_ev[i].append(tmp_z)\n",
    "            dy_ev[i].append(tmp_dy)\n",
    "            pe_ev[i].append(tmp_pe)\n",
    "\n",
    "\n",
    "OutTree = ROOT.TTree(\"Reco_tree\", \"Reco_tree\")   \n",
    "ly_ev_vec = ROOT.std.vector(\"float\")()\n",
    "y_ev_vec = ROOT.std.vector(\"float\")()\n",
    "z_ev_vec = ROOT.std.vector(\"float\")()\n",
    "dy_ev_vec = ROOT.std.vector(\"float\")()\n",
    "pe_ev_vec = ROOT.std.vector(\"float\")()\n",
    "no_good_ev_vec=ROOT.std.vector(\"int\")()\n",
    "OutTree.Branch(\"ly_ev_vec\", ly_ev_vec)\n",
    "OutTree.Branch(\"y_ev_vec\", y_ev_vec)\n",
    "OutTree.Branch(\"z_ev_vec\", z_ev_vec)\n",
    "OutTree.Branch(\"dy_ev_vec\", dy_ev_vec)\n",
    "OutTree.Branch(\"pe_ev_vec\", pe_ev_vec)\n",
    "OutTree.Branch(\"no_good_ev_vec\", no_good_ev_vec)\n",
    "# print(x_ev)\n",
    "for no_good in no_good_ev:\n",
    "    no_good_ev_vec.push_back(no_good)\n",
    "for l,y,z,dy,pe in zip(ly_ev,y_ev,z_ev,dy_ev,pe_ev):\n",
    "    \n",
    "    # Clear the contents of the vector\n",
    "    ly_ev_vec.clear()\n",
    "    y_ev_vec.clear()\n",
    "    z_ev_vec.clear()\n",
    "    dy_ev_vec.clear()\n",
    "    pe_ev_vec.clear()\n",
    "    \n",
    "    # Replace the contents in the vector with the contents\n",
    "    # from the current array\n",
    "    ly_ev_vec.reserve(len(l))\n",
    "    y_ev_vec.reserve(len(y))\n",
    "    z_ev_vec.reserve(len(z))\n",
    "    dy_ev_vec.reserve(len(dy))\n",
    "    pe_ev_vec.reserve(len(pe))\n",
    "    \n",
    "\n",
    "    for il in l:\n",
    "        ly_ev_vec.push_back(il)\n",
    "    for iy in y:\n",
    "        y_ev_vec.push_back(iy)\n",
    "    for iz in z:\n",
    "        z_ev_vec.push_back(iz)\n",
    "    for idy in dy:\n",
    "        dy_ev_vec.push_back(idy)\n",
    "    for ipe in pe:\n",
    "        pe_ev_vec.push_back(ipe)\n",
    "        \n",
    "        \n",
    "    OutTree.Fill()\n",
    "\n",
    "OutTree.Write()\n",
    "myfile.Close()"
   ]
  },
  {
   "cell_type": "code",
   "execution_count": null,
   "id": "4712f3f3-58eb-4157-8046-15462b6f827c",
   "metadata": {
    "tags": []
   },
   "outputs": [],
   "source": [
    "data=[]\n",
    "for i in range(len(test_batch_ev)):\n",
    "        data.append([i,x_ev[i],ly_ev[i],z_ev[i],dx_ev[i]])\n",
    "            \n",
    "df = pd.DataFrame(data, columns=['ev', 'x_hit', 'ly','z_hit','dx_hit'])"
   ]
  },
  {
   "cell_type": "code",
   "execution_count": null,
   "id": "8bb2655e-668b-4f9a-8010-7ec087bc37dc",
   "metadata": {},
   "outputs": [],
   "source": [
    "df_explode=df.explode(['x_hit','ly','z_hit','dx_hit'])"
   ]
  },
  {
   "cell_type": "code",
   "execution_count": null,
   "id": "42976bca-eb47-496b-a533-e73e0ab71acd",
   "metadata": {},
   "outputs": [],
   "source": [
    "df_explode.head()"
   ]
  },
  {
   "cell_type": "code",
   "execution_count": null,
   "id": "18d3f088-f041-4286-b1ad-f5c531016ee9",
   "metadata": {},
   "outputs": [],
   "source": [
    "from sklearn.linear_model import LinearRegression\n",
    "\n",
    "reg = LinearRegression().fit(np.array(df_explode[df_explode.ev==2].x_hit).reshape(-1,1), np.array(df_explode[df_explode.ev==2].z_hit))\n",
    "\n",
    "coeff=reg.coef_\n",
    "intercept=reg.intercept_\n",
    "x = np.linspace(-20, 20, 3)\n",
    "y=coeff*x+intercept\n",
    "plt.plot(x, y, color='red')\n",
    "plt.scatter(df_explode[df_explode.ev==2].x_hit,df_explode[df_explode.ev==2].z_hit)\n",
    "plt.ylim(-30,2000)"
   ]
  },
  {
   "cell_type": "code",
   "execution_count": null,
   "id": "825dee5e-e43f-41d7-b2dc-90aabe679adc",
   "metadata": {},
   "outputs": [],
   "source": [
    " # chi2 += ROOT.TMath.Power((x_hit[i][j] - ax_ev[i] * z_hit[i][j]- bx_ev[i]) / dx_hit[i][j], 2);"
   ]
  },
  {
   "cell_type": "code",
   "execution_count": null,
   "id": "261ef313-b78e-46a9-baa1-ab3aac2740cc",
   "metadata": {},
   "outputs": [],
   "source": [
    "df"
   ]
  },
  {
   "cell_type": "code",
   "execution_count": null,
   "id": "593c0b6b-0e3a-4e52-9ddd-958f06c3fe12",
   "metadata": {},
   "outputs": [],
   "source": [
    "df_explode"
   ]
  },
  {
   "cell_type": "code",
   "execution_count": null,
   "id": "6d863fab-ddb8-4fd9-a13e-f9ae27153b88",
   "metadata": {},
   "outputs": [],
   "source": []
  }
 ],
 "metadata": {
  "kernelspec": {
   "display_name": "py_env",
   "language": "python",
   "name": "py_env"
  },
  "language_info": {
   "codemirror_mode": {
    "name": "ipython",
    "version": 3
   },
   "file_extension": ".py",
   "mimetype": "text/x-python",
   "name": "python",
   "nbconvert_exporter": "python",
   "pygments_lexer": "ipython3",
   "version": "3.8.2"
  }
 },
 "nbformat": 4,
 "nbformat_minor": 5
}
