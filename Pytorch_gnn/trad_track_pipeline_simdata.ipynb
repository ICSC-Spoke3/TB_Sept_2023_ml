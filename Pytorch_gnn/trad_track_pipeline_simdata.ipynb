{
 "cells": [
  {
   "cell_type": "code",
   "execution_count": 5,
   "id": "76b30a76-a397-4861-a252-cded247006d9",
   "metadata": {
    "tags": []
   },
   "outputs": [],
   "source": [
    "import ROOT\n",
    "import numpy as np\n",
    "import matplotlib.pyplot as plt\n",
    "import MyData as data"
   ]
  },
  {
   "cell_type": "code",
   "execution_count": 3,
   "id": "f7cfed70-4dea-4032-b8f4-f5aef689fc6c",
   "metadata": {
    "tags": [
     "parameters"
    ]
   },
   "outputs": [],
   "source": [
    "view='xz'"
   ]
  },
  {
   "cell_type": "code",
   "execution_count": 6,
   "id": "2dae38d9-fac3-443a-a64d-ce501db83375",
   "metadata": {
    "tags": []
   },
   "outputs": [
    {
     "name": "stdout",
     "output_type": "stream",
     "text": [
      "taking a list of file from  800  to  804\n"
     ]
    }
   ],
   "source": [
    "data=data.dataset_preparation(root='/lustrehome/federicacuna/TB_Sept_2023_ml/Data/preprocessed/')\n",
    "if view=='xz':\n",
    "    fname='/pi-_10GeV_4ly_1e-4_inclined_viewx'\n",
    "else:\n",
    "    fname='/pi-_10GeV_4ly_1e-4_inclined_viewy'\n",
    "data_trk=data.get_more_file(800,804,fname)\n"
   ]
  },
  {
   "cell_type": "code",
   "execution_count": 7,
   "id": "151cd66c-e330-4f23-be59-c7a10e2976d4",
   "metadata": {
    "tags": []
   },
   "outputs": [],
   "source": [
    "ly_vec=[]\n",
    "x_vec=[]\n",
    "z_vec=[]\n",
    "y_vec=[]\n",
    "dx_vec=[]\n",
    "dy_vec=[]\n",
    "for i in range(0,len(data_trk)):\n",
    "    if view=='xz':\n",
    "        ly_vec.append(data_trk[i].x[:,2].tolist())\n",
    "        x_vec.append(data_trk[i].x[:,0].tolist())\n",
    "        z_vec.append(data_trk[i].x[:,3].tolist())\n",
    "        dx_vec.append(data_trk[i].x[:,1].tolist())\n",
    "    else:\n",
    "        ly_vec.append(data_trk[i].x[:,2].tolist())\n",
    "        y_vec.append(data_trk[i].x[:,0].tolist())\n",
    "        z_vec.append(data_trk[i].x[:,3].tolist())\n",
    "        dy_vec.append(data_trk[i].x[:,1].tolist())\n",
    "\n"
   ]
  },
  {
   "cell_type": "code",
   "execution_count": 8,
   "id": "f9a9f556-4e15-4dac-8a5d-ae0b187e52c4",
   "metadata": {
    "tags": []
   },
   "outputs": [],
   "source": [
    "def lin_calc(xpos_x_comb,xpos_error_x_comb,zpos_x_comb):\n",
    "    tmpden=xpos_error_x_comb*xpos_error_x_comb\n",
    "    xsum_x_comb = ak.sum((xpos_x_comb)/(tmpden), axis=-1)\n",
    "    zsum_x_comb = ak.sum((zpos_x_comb)/(tmpden), axis=-1)\n",
    "    xzsum_x_comb = ak.sum((xpos_x_comb*zpos_x_comb)/(tmpden), axis=-1)\n",
    "    zzsum_x_comb = ak.sum((zpos_x_comb*zpos_x_comb)/(tmpden), axis=-1)\n",
    "    sum_n_x_comb = ak.sum(1./(tmpden), axis=-1)\n",
    "    det_x_comb = zzsum_x_comb * sum_n_x_comb - zsum_x_comb * zsum_x_comb \n",
    "    a_x_comb = (xzsum_x_comb * sum_n_x_comb - xsum_x_comb * zsum_x_comb)/det_x_comb\n",
    "    b_x_comb = (xsum_x_comb * zzsum_x_comb - xzsum_x_comb * zsum_x_comb)/det_x_comb\n",
    "    chi2_x_comb = ak.sum((xpos_x_comb - a_x_comb * zpos_x_comb - b_x_comb)*(xpos_x_comb - a_x_comb * zpos_x_comb - b_x_comb)/(xpos_error_x_comb*xpos_error_x_comb), axis=-1)\n",
    "    return a_x_comb,b_x_comb,chi2_x_comb"
   ]
  },
  {
   "cell_type": "code",
   "execution_count": 9,
   "id": "f44621b5-2b48-4a03-a879-522989211653",
   "metadata": {
    "tags": []
   },
   "outputs": [
    {
     "name": "stdout",
     "output_type": "stream",
     "text": [
      "x  [-1.07, -10.1, -0.788, -4.21]\n",
      " z  [-30.5, 1.16e+03, 1.2e+03, 1.79e+03]\n",
      "dx  [0.21, 1.91, 0.09, 0.52]\n",
      "x  [-1.07, -10.1, 11, -4.21]\n",
      " z  [-30.5, 1.16e+03, 1.2e+03, 1.79e+03]\n",
      "dx  [0.21, 1.91, 1.74, 0.52]\n",
      "x  [-1.07, -2.34, -0.788, -4.21]\n",
      " z  [-30.5, 1.16e+03, 1.2e+03, 1.79e+03]\n",
      "dx  [0.21, 0.42, 0.09, 0.52]\n",
      "x  [-1.07, -2.34, 11, -4.21]\n",
      " z  [-30.5, 1.16e+03, 1.2e+03, 1.79e+03]\n",
      "dx  [0.21, 0.42, 1.74, 0.52]\n",
      "x  [-1.07, -0.442, -0.788, -4.21]\n",
      " z  [-30.5, 1.16e+03, 1.2e+03, 1.79e+03]\n",
      "dx  [0.21, 0.07, 0.09, 0.52]\n",
      "x  [-1.07, -0.442, 11, -4.21]\n",
      " z  [-30.5, 1.16e+03, 1.2e+03, 1.79e+03]\n",
      "dx  [0.21, 0.07, 1.74, 0.52]\n",
      "x  [6, -10.1, -0.788, -4.21]\n",
      " z  [-30.5, 1.16e+03, 1.2e+03, 1.79e+03]\n",
      "dx  [0.73, 1.91, 0.09, 0.52]\n",
      "x  [6, -10.1, 11, -4.21]\n",
      " z  [-30.5, 1.16e+03, 1.2e+03, 1.79e+03]\n",
      "dx  [0.73, 1.91, 1.74, 0.52]\n",
      "x  [6, -2.34, -0.788, -4.21]\n",
      " z  [-30.5, 1.16e+03, 1.2e+03, 1.79e+03]\n",
      "dx  [0.73, 0.42, 0.09, 0.52]\n",
      "x  [6, -2.34, 11, -4.21]\n",
      " z  [-30.5, 1.16e+03, 1.2e+03, 1.79e+03]\n",
      "dx  [0.73, 0.42, 1.74, 0.52]\n",
      "x  [6, -0.442, -0.788, -4.21]\n",
      " z  [-30.5, 1.16e+03, 1.2e+03, 1.79e+03]\n",
      "dx  [0.73, 0.07, 0.09, 0.52]\n",
      "x  [6, -0.442, 11, -4.21]\n",
      " z  [-30.5, 1.16e+03, 1.2e+03, 1.79e+03]\n",
      "dx  [0.73, 0.07, 1.74, 0.52]\n",
      "x  [7.41, -10.1, -0.788, -4.21]\n",
      " z  [-30.5, 1.16e+03, 1.2e+03, 1.79e+03]\n",
      "dx  [1.43, 1.91, 0.09, 0.52]\n",
      "x  [7.41, -10.1, 11, -4.21]\n",
      " z  [-30.5, 1.16e+03, 1.2e+03, 1.79e+03]\n",
      "dx  [1.43, 1.91, 1.74, 0.52]\n",
      "x  [7.41, -2.34, -0.788, -4.21]\n",
      " z  [-30.5, 1.16e+03, 1.2e+03, 1.79e+03]\n",
      "dx  [1.43, 0.42, 0.09, 0.52]\n",
      "x  [7.41, -2.34, 11, -4.21]\n",
      " z  [-30.5, 1.16e+03, 1.2e+03, 1.79e+03]\n",
      "dx  [1.43, 0.42, 1.74, 0.52]\n",
      "x  [7.41, -0.442, -0.788, -4.21]\n",
      " z  [-30.5, 1.16e+03, 1.2e+03, 1.79e+03]\n",
      "dx  [1.43, 0.07, 0.09, 0.52]\n",
      "x  [7.41, -0.442, 11, -4.21]\n",
      " z  [-30.5, 1.16e+03, 1.2e+03, 1.79e+03]\n",
      "dx  [1.43, 0.07, 1.74, 0.52]\n",
      "x  [8.66, -10.1, -0.788, -4.21]\n",
      " z  [-30.5, 1.16e+03, 1.2e+03, 1.79e+03]\n",
      "dx  [1.54, 1.91, 0.09, 0.52]\n",
      "x  [8.66, -10.1, 11, -4.21]\n",
      " z  [-30.5, 1.16e+03, 1.2e+03, 1.79e+03]\n",
      "dx  [1.54, 1.91, 1.74, 0.52]\n",
      "x  [8.66, -2.34, -0.788, -4.21]\n",
      " z  [-30.5, 1.16e+03, 1.2e+03, 1.79e+03]\n",
      "dx  [1.54, 0.42, 0.09, 0.52]\n",
      "x  [8.66, -2.34, 11, -4.21]\n",
      " z  [-30.5, 1.16e+03, 1.2e+03, 1.79e+03]\n",
      "dx  [1.54, 0.42, 1.74, 0.52]\n",
      "x  [8.66, -0.442, -0.788, -4.21]\n",
      " z  [-30.5, 1.16e+03, 1.2e+03, 1.79e+03]\n",
      "dx  [1.54, 0.07, 0.09, 0.52]\n",
      "x  [8.66, -0.442, 11, -4.21]\n",
      " z  [-30.5, 1.16e+03, 1.2e+03, 1.79e+03]\n",
      "dx  [1.54, 0.07, 1.74, 0.52]\n",
      "1.1343385137525055\n",
      "CPU times: user 29min 35s, sys: 34.6 s, total: 30min 10s\n",
      "Wall time: 29min 17s\n"
     ]
    },
    {
     "name": "stderr",
     "output_type": "stream",
     "text": [
      "IOStream.flush timed out\n",
      "IOStream.flush timed out\n"
     ]
    }
   ],
   "source": [
    "%%time\n",
    "import itertools\n",
    "import awkward as ak\n",
    "\n",
    "if view=='xz':\n",
    "    ax_vec=[]\n",
    "    bx_vec=[]\n",
    "    chi2x_vec=[]\n",
    "    for ievent in range(0,len(data_trk)):\n",
    "        a_x = -999\n",
    "        b_x = -999\n",
    "        chi2_x = pow(10, 9)\n",
    "\n",
    "        nclu_x = len(ly_vec[ievent])\n",
    "\n",
    "        xpos_x = x_vec[ievent]\n",
    "        xpos_error_x = dx_vec[ievent]\n",
    "        zpos_x = z_vec[ievent]\n",
    "        planeIDs = ly_vec[ievent]\n",
    "        #Find good combinations of x clusters and computer, for each of them, the track and its chi2     \n",
    "        plane_set = set(planeIDs)\n",
    "        n_fired_p = len(plane_set)\n",
    "        cluID_combs_x = list(itertools.combinations(range(nclu_x), n_fired_p))\n",
    "        for cluID_comb_x in cluID_combs_x:\n",
    "            ps_comb = [planeIDs[i] for i in cluID_comb_x]\n",
    "            # Check if the combination is a good one\n",
    "            if len(ps_comb) == len(set(ps_comb)): \n",
    "                xpos_x_comb = ak.Array([xpos_x[i] for i in cluID_comb_x])\n",
    "                xpos_error_x_comb = ak.Array([xpos_error_x[i] for i in cluID_comb_x])\n",
    "                zpos_x_comb = ak.Array([zpos_x[i] for i in cluID_comb_x])\n",
    "                a_x_comb,b_x_comb,chi2_x_comb=lin_calc(xpos_x_comb,xpos_error_x_comb,zpos_x_comb)\n",
    "                # if ievent==16:\n",
    "                #     print('x ',xpos_x_comb)\n",
    "                #     print(' z ',zpos_x_comb )\n",
    "                #     print('dx ',xpos_error_x_comb )\n",
    "                if chi2_x_comb < chi2_x:\n",
    "                    a_x = a_x_comb\n",
    "                    b_x = b_x_comb\n",
    "                    chi2_x = chi2_x_comb\n",
    "        # if ievent==16:\n",
    "        #     print(chi2_x)\n",
    "            \n",
    "        ax_vec.append(a_x)\n",
    "        bx_vec.append(b_x)\n",
    "        chi2x_vec.append(chi2_x)\n",
    "        # print(chi2_x)\n",
    "        # print(a_x)\n",
    "        # print(b_x)\n",
    "        \n",
    "else:\n",
    "    print('yz view')\n",
    "    ay_vec=[]\n",
    "    by_vec=[]\n",
    "    chi2y_vec=[]\n",
    "    for ievent in range(500,1000):#len(data_trk)):\n",
    "        a_y = -999\n",
    "        b_y = -999\n",
    "        chi2_y = pow(10, 9)\n",
    "\n",
    "        nclu_y = len(ly_vec[ievent])\n",
    "\n",
    "        ypos_y = y_vec[ievent]\n",
    "        ypos_error_y = dy_vec[ievent]\n",
    "        zpos_y = z_vec[ievent]\n",
    "        planeIDs = ly_vec[ievent]\n",
    "        #Find good combinations of x clusters and computer, for each of them, the track and its chi2     \n",
    "        plane_set = set(planeIDs)\n",
    "        n_fired_p = len(plane_set)\n",
    "        cluID_combs_y = list(itertools.combinations(range(nclu_y), n_fired_p))\n",
    "        for cluID_comb_y in cluID_combs_y:\n",
    "            ps_comb = [planeIDs[i] for i in cluID_comb_y]\n",
    "            # Check if the combination is a good one\n",
    "            if len(ps_comb) == len(set(ps_comb)): \n",
    "                ypos_y_comb = ak.Array([ypos_y[i] for i in cluID_comb_y])\n",
    "                ypos_error_y_comb = ak.Array([ypos_error_y[i] for i in cluID_comb_y])\n",
    "                zpos_y_comb = ak.Array([zpos_y[i] for i in cluID_comb_y])\n",
    "                # print('event ',ievent)\n",
    "                a_y_comb,b_y_comb,chi2_y_comb=lin_calc(ypos_y_comb,ypos_error_y_comb,zpos_y_comb)\n",
    "                if chi2_y_comb < chi2_y:\n",
    "                    a_y = a_y_comb\n",
    "                    b_y = b_y_comb\n",
    "                    chi2_y = chi2_y_comb\n",
    "        ay_vec.append(a_y)\n",
    "        by_vec.append(b_y)\n",
    "        chi2y_vec.append(chi2_y)\n",
    "        # print(chi2_x)\n",
    "        # print(a_x)\n",
    "        # print(b_x)\n"
   ]
  },
  {
   "cell_type": "code",
   "execution_count": 12,
   "id": "1fea13dc-7d90-404c-a254-e1c8f41b2ba4",
   "metadata": {
    "tags": []
   },
   "outputs": [
    {
     "name": "stderr",
     "output_type": "stream",
     "text": [
      "Warning in <TROOT::Append>: Replacing existing TH1: h1 (Potential memory leak).\n",
      "Warning in <TCanvas::Constructor>: Deleting canvas with same name: c1\n",
      "Warning in <TROOT::Append>: Replacing existing TH1: hax (Potential memory leak).\n",
      "Warning in <TCanvas::Constructor>: Deleting canvas with same name: cax\n",
      "Warning in <TROOT::Append>: Replacing existing TH1: hax (Potential memory leak).\n",
      "Warning in <TCanvas::Constructor>: Deleting canvas with same name: cbx\n"
     ]
    },
    {
     "data": {
      "image/png": "[encoded data removed]",
      "text/plain": [
       "<IPython.core.display.Image object>"
      ]
     },
     "metadata": {},
     "output_type": "display_data"
    },
    {
     "data": {
      "image/png": "[encoded data removed]",
      "text/plain": [
       "<IPython.core.display.Image object>"
      ]
     },
     "metadata": {},
     "output_type": "display_data"
    },
    {
     "data": {
      "image/png": "[encoded data removed]",
      "text/plain": [
       "<IPython.core.display.Image object>"
      ]
     },
     "metadata": {},
     "output_type": "display_data"
    }
   ],
   "source": [
    "if view=='xz':\n",
    "    h1=ROOT.TH1F(\"h1\",\"h1\",100,0,1000)\n",
    "    h1.GetXaxis().SetTitle('#chi^{2}')\n",
    "    h1.GetYaxis().SetTitle('Entries')\n",
    "    h1.SetTitle('#chi^{2} distribution (xz view)')\n",
    "    for i in range(0,len(chi2x_vec)):      \n",
    "        h1.Fill(chi2x_vec[i])    \n",
    "    c1=ROOT.TCanvas(\"c1\",\"c1\")\n",
    "    c1.cd()\n",
    "    h1.Draw()\n",
    "    c1.SetLogy()\n",
    "    c1.Draw()\n",
    "    # c1.SaveAs(f'/lustrehome/federicacuna/TB_Sept_2023_ml/output_gnn_img_fit/simdata_trad_pip/chixz.png')\n",
    "    \n",
    "    hax=ROOT.TH1F(\"hax\",\"hax\",100,-0.1,0.1)\n",
    "    hax.GetXaxis().SetTitle('ax')\n",
    "    hax.GetYaxis().SetTitle('Entries')\n",
    "    hax.SetTitle('ax distribution')\n",
    "    for i in range(0,len(ax_vec)):      \n",
    "        hax.Fill(ax_vec[i])    \n",
    "    cax=ROOT.TCanvas(\"cax\",\"cax\")\n",
    "    cax.cd()\n",
    "    hax.Draw()\n",
    "    cax.SetLogy()\n",
    "    cax.Draw()   \n",
    "    # cax.SaveAs(f'/lustrehome/federicacuna/TB_Sept_2023_ml/output_gnn_img_fit/simdata_trad_pip/cax.png')\n",
    "    \n",
    "    \n",
    "    hbx=ROOT.TH1F(\"hax\",\"hax\",200,-20,20)\n",
    "    hbx.GetXaxis().SetTitle('bx')\n",
    "    hbx.GetYaxis().SetTitle('Entries')\n",
    "    hbx.SetTitle('bx distribution')\n",
    "    for i in range(0,len(bx_vec)):      \n",
    "        hbx.Fill(bx_vec[i])    \n",
    "    cbx=ROOT.TCanvas(\"cbx\",\"cbx\")\n",
    "    cbx.cd()\n",
    "    hbx.Draw()\n",
    "    cbx.SetLogy()\n",
    "    cbx.Draw()  \n",
    "    # cbx.SaveAs(f'/lustrehome/federicacuna/TB_Sept_2023_ml/output_gnn_img_fit/simdata_trad_pip/cbx.png')\n",
    "    \n",
    "else:\n",
    "    h1=ROOT.TH1F(\"h1\",\"h1\",100,0,1000)\n",
    "    h1.GetXaxis().SetTitle('#chi^{2}')\n",
    "    h1.GetYaxis().SetTitle('Entries')\n",
    "    h1.SetTitle('#chi^{2} distribution (yz view)')\n",
    "    for i in range(0,len(chi2y_vec)):      \n",
    "        h1.Fill(chi2y_vec[i])    \n",
    "    c1=ROOT.TCanvas(\"c1\",\"c1\")\n",
    "    c1.cd()\n",
    "    h1.Draw()\n",
    "    c1.SetLogy()\n",
    "    c1.Draw()\n",
    "    # c1.SaveAs(f'/lustrehome/federicacuna/TB_Sept_2023_ml/output_gnn_img_fit/simdata_trad_pip/chiyz.png')\n",
    "    \n",
    "    hay=ROOT.TH1F(\"hay\",\"hay\",100,-0.1,0.1)\n",
    "    hay.GetXaxis().SetTitle('ay')\n",
    "    hay.GetYaxis().SetTitle('Entries')\n",
    "    hay.SetTitle('ay distribution')\n",
    "    for i in range(0,len(ay_vec)):      \n",
    "        hay.Fill(ay_vec[i])    \n",
    "    cay=ROOT.TCanvas(\"cay\",\"cay\")\n",
    "    cay.cd()\n",
    "    hay.Draw()\n",
    "    cay.SetLogy()\n",
    "    cay.Draw()   \n",
    "    # cay.SaveAs(f'/lustrehome/federicacuna/TB_Sept_2023_ml/output_gnn_img_fit/simdata_trad_pip/cay.png')\n",
    "    \n",
    "    \n",
    "    hby=ROOT.TH1F(\"hby\",\"hby\",100,-20,20)\n",
    "    hby.GetXaxis().SetTitle('by')\n",
    "    hby.GetYaxis().SetTitle('Entries')\n",
    "    hby.SetTitle('by distribution')\n",
    "    for i in range(0,len(by_vec)):      \n",
    "        hby.Fill(by_vec[i])    \n",
    "    cby=ROOT.TCanvas(\"cby\",\"cby\")\n",
    "    cby.cd()\n",
    "    hby.Draw()\n",
    "    cby.SetLogy()\n",
    "    cby.Draw()  \n",
    "    # cby.SaveAs(f'/lustrehome/federicacuna/TB_Sept_2023_ml/output_gnn_img_fit/simdata_trad_pip/cby.png')"
   ]
  },
  {
   "cell_type": "code",
   "execution_count": 11,
   "id": "5020ef55-33e6-4797-8ba3-d4c2923ad2c3",
   "metadata": {
    "tags": []
   },
   "outputs": [
    {
     "data": {
      "image/png": "[encoded data removed]",
      "text/plain": [
       "<Figure size 640x480 with 1 Axes>"
      ]
     },
     "metadata": {},
     "output_type": "display_data"
    }
   ],
   "source": [
    "if view=='xz':\n",
    "\n",
    "    x = np.linspace(-35, 2000, 4)\n",
    "    \n",
    "    for i in range(982,983): # \n",
    "        plt.scatter(z_vec[i],x_vec[i]) \n",
    "        y=ax_vec[i]*x+bx_vec[i] \n",
    "        plt.plot(x, y, color='red',label='AI pipeline') \n",
    "        plt.ylim(-20,20) \n",
    "        ax_rounded = '{:.2e}'.format(ax_vec[i])\n",
    "        bx_rounded = '{:.2e}'.format(bx_vec[i])\n",
    "        plt.ylabel('x [mm]') \n",
    "        plt.xlabel('z [mm]') \n",
    "        plt.text( 1300,18,f'ax_ai: {ax_rounded}', fontsize=10)\n",
    "        plt.text(1300, 16, f'bx_ai: {bx_rounded}', fontsize=10) \n",
    "        plt.legend(loc='upper left')\n",
    "        plt.xlim(-100,2000) \n",
    "        plt.title(f'Ev {i}') \n",
    "        # print(dx_vec[i]) \n",
    "        # print(x_vec[i]) \n",
    "        plt.errorbar(z_vec[i], x_vec[i], xerr=0,yerr=dx_vec[i],fmt='o',ecolor='black')\n",
    "        # plt.savefig(f'/lustrehome/federicacuna/TB_Sept_2023_ml/output_gnn_img_fit/simdata_trad_pip/Sim_tradpip_ev_xz{i}.png')      \n",
    "        plt.show()\n",
    "else:\n",
    "    x = np.linspace(-35, 2000, 4)\n",
    "    for i in range(0,5): # \n",
    "        plt.scatter(z_vec[i],y_vec[i]) \n",
    "        y=ay_vec[i]*x+by_vec[i] \n",
    "        plt.plot(x, y, color='red') \n",
    "        plt.ylim(-20,20) \n",
    "        ay_rounded = '{:.2e}'.format(ay_vec[i])\n",
    "        by_rounded = '{:.2e}'.format(by_vec[i])\n",
    "        plt.ylabel('y [mm]') \n",
    "        plt.xlabel('z [mm]') \n",
    "        plt.text( 1500,18,f'ay: {ay_rounded}', fontsize=10)\n",
    "        plt.text(1500, 16, f'by: {by_rounded}', fontsize=10) \n",
    "\n",
    "        plt.xlim(-100,2000) \n",
    "        plt.title(f'Ev {i}') \n",
    "        # print(dy_vec[i]) \n",
    "        # print(y_vec[i]) \n",
    "        plt.errorbar(z_vec[i], y_vec[i], xerr=0,yerr=dy_vec[i],fmt='o',ecolor='black')\n",
    "        \n",
    "        # plt.savefig(f'/lustrehome/federicacuna/TB_Sept_2023_ml/output_gnn_img_fit/simdata_trad_pip/Sim_tradpip_ev_yz{i}.png')      \n",
    "        plt.show()"
   ]
  },
  {
   "cell_type": "code",
   "execution_count": null,
   "id": "1222255e-33b7-4ed8-a759-b65cf99fb3a1",
   "metadata": {},
   "outputs": [],
   "source": []
  }
 ],
 "metadata": {
  "kernelspec": {
   "display_name": "py_env",
   "language": "python",
   "name": "py_env"
  },
  "language_info": {
   "codemirror_mode": {
    "name": "ipython",
    "version": 3
   },
   "file_extension": ".py",
   "mimetype": "text/x-python",
   "name": "python",
   "nbconvert_exporter": "python",
   "pygments_lexer": "ipython3",
   "version": "3.8.2"
  }
 },
 "nbformat": 4,
 "nbformat_minor": 5
}
