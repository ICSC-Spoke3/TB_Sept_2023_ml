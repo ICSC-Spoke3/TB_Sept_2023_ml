{
 "cells": [
  {
   "cell_type": "code",
   "execution_count": 3,
   "id": "d560da57-9a60-4372-9aa8-1895371ce5bd",
   "metadata": {
    "tags": []
   },
   "outputs": [],
   "source": [
    "import sys\n",
    "import os\n",
    "module_dir = os.path.abspath(\"/lustrehome/federicacuna/TB_Sept_2023_ml/Code/Pytorch_gnn/\")\n",
    "sys.path.append(module_dir)"
   ]
  },
  {
   "cell_type": "code",
   "execution_count": 4,
   "id": "0d35c804",
   "metadata": {
    "tags": []
   },
   "outputs": [],
   "source": [
    "import pandas as pd\n",
    "import torch\n",
    "import torch_geometric\n",
    "from torch_geometric.data import Dataset, Data\n",
    "import numpy as np \n",
    "from torch_geometric.loader import DataLoader\n",
    "from torch_geometric.nn import Sequential, GCNConv,GATConv\n",
    "import matplotlib.pyplot as plt\n",
    "from torch.nn import Linear\n",
    "import torch.nn.functional as F\n",
    "from sklearn.metrics import precision_score, recall_score, accuracy_score\n",
    "import time\n",
    "import MyData as data\n",
    "from matplotlib.lines import Line2D\n",
    "from sklearn.linear_model import LinearRegression\n",
    "\n",
    "\n",
    "from torch.nn import Linear\n",
    "import torch.nn.functional as F\n",
    "from torch_geometric.nn import SAGEConv\n",
    "import GNN_model"
   ]
  },
  {
   "cell_type": "code",
   "execution_count": 31,
   "id": "14a225c1-ffd2-406f-beb5-b19b96bf3530",
   "metadata": {
    "editable": true,
    "slideshow": {
     "slide_type": ""
    },
    "tags": [
     "parameters"
    ]
   },
   "outputs": [],
   "source": [
    "sel_alg=1\n",
    "num_ly=6\n",
    "lr=0.0001\n",
    "folder_pkl='optimized_balanced_norm'\n",
    "n_epochs=200\n",
    "batch_size=4032\n",
    "num_toreduce=64"
   ]
  },
  {
   "cell_type": "code",
   "execution_count": 32,
   "id": "54984bb0-ff3a-4c5f-92c1-6ab57b96ef84",
   "metadata": {
    "editable": true,
    "slideshow": {
     "slide_type": ""
    },
    "tags": [
     "parameters"
    ]
   },
   "outputs": [
    {
     "name": "stdout",
     "output_type": "stream",
     "text": [
      "0_0001\n"
     ]
    }
   ],
   "source": [
    "if \".\" in str(lr):\n",
    "    lr_name = str(lr).replace(\".\", \"_\")\n",
    "    print(lr_name)\n",
    "else:\n",
    "    lr_name = str(lr)\n",
    "    print(lr_name)"
   ]
  },
  {
   "cell_type": "code",
   "execution_count": 33,
   "id": "60941ce3-b048-46b5-9abc-3e1ac1267676",
   "metadata": {
    "tags": []
   },
   "outputs": [
    {
     "name": "stdout",
     "output_type": "stream",
     "text": [
      "taking a list of file from  0  to  5\n",
      "taking a list of file from  0  to  5\n",
      "taking a list of file from  600  to  601\n",
      "taking a list of file from  600  to  601\n",
      "CPU times: user 14.5 s, sys: 295 ms, total: 14.8 s\n",
      "Wall time: 14.8 s\n"
     ]
    }
   ],
   "source": [
    "%%time\n",
    "data_handler=data.dataset_preparation(root='/lustrehome/federicacuna/TB_Sept_2023_ml/Data/preprocessed')\n",
    "fnamex='pi-_10GeV_4ly_1e-4ly_normalized_1e-4_viewx'\n",
    "fnamey='pi-_10GeV_4ly_1e-4ly_normalized_1e-4_viewy'\n",
    "# data_trk=data_handler.get_more_file(0,250,fnamex)+data_handler.get_more_file(0,250,fnamey)\n",
    "# data_val=data_handler.get_more_file(600,640,fnamex)+data_handler.get_more_file(600,640,fnamey)\n",
    "data_trk=data_handler.get_more_file(0,5,fnamex)+data_handler.get_more_file(0,5,fnamey)\n",
    "data_val=data_handler.get_more_file(600,601,fnamex)+data_handler.get_more_file(600,601,fnamey)"
   ]
  },
  {
   "cell_type": "code",
   "execution_count": 34,
   "id": "8cfd985a-3fde-4559-9f27-c1ccc985a5a7",
   "metadata": {
    "tags": []
   },
   "outputs": [
    {
     "name": "stdout",
     "output_type": "stream",
     "text": [
      "taking a list of file from  0  to  3\n",
      "taking a list of file from  0  to  3\n",
      "taking a list of file from  600  to  601\n",
      "taking a list of file from  600  to  601\n"
     ]
    }
   ],
   "source": [
    "data_handler2=data.dataset_preparation(root='/lustrehome/federicacuna/TB_Sept_2023_ml/Data/preprocessed')\n",
    "fnameHNx='pi-_10GeV_4ly_3e-4ly_normalized_viewx'\n",
    "fnameHNy='pi-_10GeV_4ly_3e-4ly_normalized_viewy'\n",
    "# dataHN=data_handler2.get_more_file(0,250,fnameHNx)+data_handler2.get_more_file(0,250,fnameHNy)\n",
    "# dataHN_val=data_handler2.get_more_file(600,640,fnameHNx)+data_handler2.get_more_file(600,640,fnameHNy)\n",
    "dataHN=data_handler2.get_more_file(0,3,fnameHNx)+data_handler2.get_more_file(0,3,fnameHNy)\n",
    "dataHN_val=data_handler2.get_more_file(600,601,fnameHNx)+data_handler2.get_more_file(600,601,fnameHNy)"
   ]
  },
  {
   "cell_type": "code",
   "execution_count": 35,
   "id": "40a9c036-f85f-433d-9b6e-ed20e6338cf0",
   "metadata": {
    "tags": []
   },
   "outputs": [
    {
     "name": "stdout",
     "output_type": "stream",
     "text": [
      "taking a list of file from  800  to  801\n",
      "taking a list of file from  800  to  801\n",
      "taking a list of file from  800  to  801\n",
      "taking a list of file from  800  to  801\n"
     ]
    }
   ],
   "source": [
    "data_test=data_handler.get_more_file(800,801,fnamex)+data_handler.get_more_file(800,801,fnamey)\n",
    "data_test_HN=data_handler2.get_more_file(800,801,fnameHNx)+data_handler.get_more_file(800,801,fnameHNy)\n",
    "test_dataset=data_test+data_test_HN"
   ]
  },
  {
   "cell_type": "code",
   "execution_count": 36,
   "id": "ae3bf640-7404-4ca5-83b1-12392a70ea97",
   "metadata": {
    "tags": []
   },
   "outputs": [
    {
     "name": "stdout",
     "output_type": "stream",
     "text": [
      "114152\n"
     ]
    }
   ],
   "source": [
    "train_dataset=(dataHN[:1800000]+data_trk[:2200000])\n",
    "print(len(train_dataset))"
   ]
  },
  {
   "cell_type": "code",
   "execution_count": 37,
   "id": "55f960f6-cefc-43a1-865d-5351d0d56cf4",
   "metadata": {
    "tags": []
   },
   "outputs": [
    {
     "name": "stdout",
     "output_type": "stream",
     "text": [
      "0.5178873329382148\n",
      "0.4821126670617853\n"
     ]
    },
    {
     "data": {
      "text/plain": [
       "<BarContainer object of 2 artists>"
      ]
     },
     "execution_count": 37,
     "metadata": {},
     "output_type": "execute_result"
    },
    {
     "data": {
      "image/png": "[encoded data removed]",
      "text/plain": [
       "<Figure size 640x480 with 1 Axes>"
      ]
     },
     "metadata": {},
     "output_type": "display_data"
    }
   ],
   "source": [
    "y_values = [item for data in train_dataset for item in data.y.tolist()]\n",
    "total_nodes = sum([len(data.y.tolist()) for data in train_dataset])\n",
    "count_1 = y_values.count(1)/total_nodes\n",
    "count_0 = y_values.count(0)/total_nodes\n",
    "print(count_1)\n",
    "print(count_0)\n",
    "plt.bar(['0', '1'], [count_0, count_1], color=['red', 'blue'])"
   ]
  },
  {
   "cell_type": "code",
   "execution_count": 38,
   "id": "702f27de-4b9d-4901-aa9b-13f4b27ac0b4",
   "metadata": {
    "tags": []
   },
   "outputs": [],
   "source": [
    "val_dataset=dataHN_val[:360000]+data_val[:440000]"
   ]
  },
  {
   "cell_type": "code",
   "execution_count": 39,
   "id": "7b9ad1f0-59a1-4adf-9856-bce212390ad8",
   "metadata": {
    "tags": []
   },
   "outputs": [
    {
     "name": "stdout",
     "output_type": "stream",
     "text": [
      "0.48237896452508855\n",
      "0.5176210354749115\n"
     ]
    },
    {
     "data": {
      "text/plain": [
       "<BarContainer object of 2 artists>"
      ]
     },
     "execution_count": 39,
     "metadata": {},
     "output_type": "execute_result"
    },
    {
     "data": {
      "image/png": "[encoded data removed]",
      "text/plain": [
       "<Figure size 640x480 with 1 Axes>"
      ]
     },
     "metadata": {},
     "output_type": "display_data"
    }
   ],
   "source": [
    "y_values = [item for data in val_dataset for item in data.y.tolist()]\n",
    "total_nodes = sum([len(data.y.tolist()) for data in val_dataset])\n",
    "count_1 = y_values.count(1)/total_nodes\n",
    "count_0 = y_values.count(0)/total_nodes\n",
    "print(count_1)\n",
    "print(count_0)\n",
    "plt.bar(['0', '1'], [count_0, count_1], color=['red', 'blue'])"
   ]
  },
  {
   "cell_type": "code",
   "execution_count": 40,
   "id": "5204ef92",
   "metadata": {
    "tags": []
   },
   "outputs": [
    {
     "name": "stdout",
     "output_type": "stream",
     "text": [
      "Using device: cuda\n",
      "NVIDIA A100-PCIE-40GB\n",
      "Memory Usage:\n",
      "Allocated: 0.0 GB\n",
      "Cached:    15.3 GB\n",
      "CPU times: user 70 µs, sys: 1.38 ms, total: 1.45 ms\n",
      "Wall time: 489 µs\n"
     ]
    }
   ],
   "source": [
    "%%time\n",
    "device = torch.device('cuda' if torch.cuda.is_available() else 'cpu')\n",
    "#device=torch.device('cpu')\n",
    "print('Using device:', device)\n",
    "if device.type == 'cuda':\n",
    "    print(torch.cuda.get_device_name(0))\n",
    "    print('Memory Usage:')\n",
    "    print('Allocated:', round(torch.cuda.memory_allocated(0)/1024**3,1), 'GB')\n",
    "    print('Cached:   ', round(torch.cuda.memory_reserved(0)/1024**3,1), 'GB')\n"
   ]
  },
  {
   "cell_type": "code",
   "execution_count": 41,
   "id": "25d92cc4-c825-472f-9e4c-c43b13593cef",
   "metadata": {
    "tags": []
   },
   "outputs": [
    {
     "name": "stdout",
     "output_type": "stream",
     "text": [
      "5\n",
      "CPU times: user 0 ns, sys: 929 µs, total: 929 µs\n",
      "Wall time: 298 µs\n"
     ]
    }
   ],
   "source": [
    "%%time\n",
    "NUM_FEATURES = 5#train_dataset[0].x.shape[1]\n",
    "print(NUM_FEATURES)\n",
    "NUM_CLASSES =1\n",
    "n_ly=4\n",
    "model_list=['SageConv','SageConv2','GCN','GCN_2','GAT']"
   ]
  },
  {
   "cell_type": "code",
   "execution_count": 42,
   "id": "f29b06ef-42bc-45ce-93a2-947c9c400997",
   "metadata": {
    "tags": []
   },
   "outputs": [],
   "source": [
    "hidden_size = num_toreduce*num_ly"
   ]
  },
  {
   "cell_type": "code",
   "execution_count": 43,
   "id": "1a5fc853-2a1f-4934-b052-423f9c972a14",
   "metadata": {
    "tags": []
   },
   "outputs": [],
   "source": [
    "outname=f'Balanced_norm_DATA_best_model{model_list[sel_alg]}_lytrk{n_ly}_lr{lr_name}_epochs_{n_epochs}_lentrain{len(train_dataset)}_numly{num_ly}.pkl'"
   ]
  },
  {
   "cell_type": "code",
   "execution_count": 44,
   "id": "b5e2886c-1083-49d4-91d0-a20382ded900",
   "metadata": {
    "tags": []
   },
   "outputs": [
    {
     "name": "stdout",
     "output_type": "stream",
     "text": [
      "Balanced_norm_DATA_best_modelSageConv2_lytrk4_lr0_0001_epochs_200_lentrain114152_numly6.pkl\n"
     ]
    }
   ],
   "source": [
    "print(outname)"
   ]
  },
  {
   "cell_type": "code",
   "execution_count": 45,
   "id": "08d852c3-f09d-4e0a-b815-2cf58a70addc",
   "metadata": {
    "tags": []
   },
   "outputs": [],
   "source": [
    "if sel_alg>len(model_list):\n",
    "    print('no algorithm available')\n",
    "if sel_alg==0:\n",
    "    model = GNN_model.SageConv(num_feat=NUM_FEATURES,num_class=NUM_CLASSES)\n",
    "elif sel_alg==1:\n",
    "    model = GNN_model.SageConv2(hidden_size=hidden_size, num_ly=num_ly, num_feat=NUM_FEATURES, num_class=NUM_CLASSES,num_to_reduce=64)\n",
    "elif sel_alg==2:\n",
    "    model = GNN_model.GCN(num_feat=NUM_FEATURES, num_class=NUM_CLASSES,num_to_reduce=64)\n",
    "elif sel_alg==3:\n",
    "    model = GNN_model.GCN_2(hidden_size=hidden_size, num_ly=num_ly, num_feat=NUM_FEATURES, num_class=NUM_CLASSES,num_to_reduce=64)\n",
    "elif sel_alg==4:\n",
    "    model = GNN_model.GAT(num_feat=NUM_FEATURES, num_class=NUM_CLASSES)"
   ]
  },
  {
   "cell_type": "code",
   "execution_count": 46,
   "id": "a5b067e4-103a-437c-8796-68ad2f29c810",
   "metadata": {
    "tags": []
   },
   "outputs": [
    {
     "name": "stdout",
     "output_type": "stream",
     "text": [
      "SageConv2(\n",
      "  (conv_layers): ModuleList(\n",
      "    (0): SAGEConv(5, 384, aggr=mean)\n",
      "    (1): SAGEConv(384, 320, aggr=mean)\n",
      "    (2): SAGEConv(320, 256, aggr=mean)\n",
      "    (3): SAGEConv(256, 192, aggr=mean)\n",
      "    (4): SAGEConv(192, 128, aggr=mean)\n",
      "    (5): SAGEConv(128, 64, aggr=mean)\n",
      "    (6): SAGEConv(64, 1, aggr=mean)\n",
      "  )\n",
      ")\n"
     ]
    }
   ],
   "source": [
    "print(model)"
   ]
  },
  {
   "cell_type": "code",
   "execution_count": 47,
   "id": "ca558dd4",
   "metadata": {
    "tags": []
   },
   "outputs": [
    {
     "name": "stdout",
     "output_type": "stream",
     "text": [
      "CPU times: user 2.21 ms, sys: 5.09 ms, total: 7.31 ms\n",
      "Wall time: 2.65 ms\n"
     ]
    }
   ],
   "source": [
    "%%time\n",
    "model.to(device)\n",
    "optimizer = torch.optim.Adam(model.parameters(), lr=lr)\n",
    "####criterion = torch.nn.CrossEntropyLoss()\n",
    "criterion=torch.nn.functional.binary_cross_entropy#for sageconv\n",
    "\n",
    "def train_model(train_data):\n",
    "    model.to(device)\n",
    "    model.train()\n",
    "    for data in train_data:\n",
    "        data.to(device)\n",
    "        out = model(data) # Perform a single forward pass.\n",
    "        labels=data.y.float().to(device)\n",
    "        loss = criterion(out.squeeze(1).float(), labels)  # Compute the loss.\n",
    "        \n",
    "        loss.backward()  # Derive gradients.\n",
    "        optimizer.step()  # Update parameters based on gradients.\n",
    "        optimizer.zero_grad()  # Clear gradients.\n",
    "    return model.to(device)\n",
    "\n",
    "threshold=0.8\n",
    "def evaluate_model(model,test_data):\n",
    "    model.eval()\n",
    "    correct = 0\n",
    "    total_samples = 0\n",
    "    model_outputs = []\n",
    "    targets = []\n",
    "    pred_class=[]\n",
    "\n",
    "    for data in test_data:\n",
    "        data.to(device)\n",
    "        model_output = model(data)\n",
    "        model_output.to(device)\n",
    "        predicted_class = torch.where(model_output > threshold, 1, 0)\n",
    "        \n",
    "        correct += int((predicted_class == data.y.float()).sum())\n",
    "        total_samples += len(data.y)\n",
    "\n",
    "          # store these to get the loss\n",
    "        model_outputs.extend(model_output.tolist())\n",
    "        targets.extend(data.y.float().tolist())\n",
    "        pred_class.extend(predicted_class.tolist())\n",
    "\n",
    "    \n",
    "    loss = criterion(torch.tensor(model_outputs).squeeze(1), torch.tensor(targets).float())\n",
    "    accuracy = accuracy_score(targets, pred_class)\n",
    "    precision = precision_score(targets, pred_class)\n",
    "    recall = recall_score(targets, pred_class)\n",
    "    \n",
    "    return accuracy, loss, recall, precision \n"
   ]
  },
  {
   "cell_type": "code",
   "execution_count": 48,
   "id": "a55eddc8-e396-4e71-af39-1c7f95b1bd96",
   "metadata": {
    "tags": []
   },
   "outputs": [],
   "source": [
    "## %%time\n",
    "train_loader = DataLoader(train_dataset, batch_size=4032,shuffle=True,pin_memory=True,num_workers=16,drop_last=True) \n",
    "val_loader=DataLoader(val_dataset, batch_size=128,shuffle=True,pin_memory=True,num_workers=16,drop_last=True) \n",
    "test_loader=DataLoader(test_dataset, batch_size=64,shuffle=True,drop_last=True)"
   ]
  },
  {
   "cell_type": "code",
   "execution_count": 49,
   "id": "13078949",
   "metadata": {
    "tags": []
   },
   "outputs": [
    {
     "name": "stdout",
     "output_type": "stream",
     "text": [
      "1\n",
      "True\n"
     ]
    },
    {
     "name": "stderr",
     "output_type": "stream",
     "text": [
      "/home/federicacuna/.local/lib/python3.11/site-packages/sklearn/metrics/_classification.py:1509: UndefinedMetricWarning: Precision is ill-defined and being set to 0.0 due to no predicted samples. Use `zero_division` parameter to control this behavior.\n",
      "  _warn_prf(average, modifier, f\"{metric.capitalize()} is\", len(result))\n",
      "/home/federicacuna/.local/lib/python3.11/site-packages/sklearn/metrics/_classification.py:1509: UndefinedMetricWarning: Precision is ill-defined and being set to 0.0 due to no predicted samples. Use `zero_division` parameter to control this behavior.\n",
      "  _warn_prf(average, modifier, f\"{metric.capitalize()} is\", len(result))\n"
     ]
    },
    {
     "name": "stdout",
     "output_type": "stream",
     "text": [
      "Epoch_stop: 1\n",
      "Epoch: 1, Train Acc: 0.4821, Train Loss: 0.6485, Val Acc: 0.5176, Val Loss: 0.6512, time :16.99379277229309\n",
      "2\n",
      "True\n",
      "Epoch_stop: 2\n",
      "Epoch: 2, Train Acc: 0.5825, Train Loss: 0.5646, Val Acc: 0.6040, Val Loss: 0.5732, time :19.966647624969482\n",
      "3\n",
      "True\n",
      "Epoch_stop: 3\n",
      "Epoch: 3, Train Acc: 0.5839, Train Loss: 0.5491, Val Acc: 0.6050, Val Loss: 0.5554, time :19.32865262031555\n",
      "4\n",
      "True\n",
      "Epoch_stop: 4\n",
      "Epoch: 4, Train Acc: 0.5960, Train Loss: 0.5361, Val Acc: 0.6150, Val Loss: 0.5434, time :18.833341360092163\n",
      "5\n",
      "True\n",
      "Epoch_stop: 5\n",
      "Epoch: 5, Train Acc: 0.5921, Train Loss: 0.5236, Val Acc: 0.6123, Val Loss: 0.5301, time :19.901061058044434\n",
      "6\n",
      "True\n",
      "Epoch_stop: 6\n",
      "Epoch: 6, Train Acc: 0.6035, Train Loss: 0.5125, Val Acc: 0.6212, Val Loss: 0.5228, time :19.128965854644775\n",
      "7\n",
      "True\n",
      "Epoch_stop: 7\n",
      "Epoch: 7, Train Acc: 0.5891, Train Loss: 0.5054, Val Acc: 0.6094, Val Loss: 0.5133, time :21.38796377182007\n",
      "8\n",
      "True\n",
      "Epoch_stop: 8\n",
      "Epoch: 8, Train Acc: 0.5938, Train Loss: 0.4983, Val Acc: 0.6128, Val Loss: 0.5075, time :18.87577486038208\n",
      "9\n",
      "True\n",
      "Epoch_stop: 9\n",
      "Epoch: 9, Train Acc: 0.5993, Train Loss: 0.4894, Val Acc: 0.6173, Val Loss: 0.4996, time :18.98142123222351\n",
      "10\n",
      "True\n",
      "Epoch_stop: 10\n",
      "Epoch: 10, Train Acc: 0.6039, Train Loss: 0.4763, Val Acc: 0.6213, Val Loss: 0.4860, time :18.7840416431427\n",
      "11\n",
      "True\n",
      "Epoch_stop: 11\n",
      "Epoch: 11, Train Acc: 0.6253, Train Loss: 0.4611, Val Acc: 0.6392, Val Loss: 0.4723, time :19.01983380317688\n",
      "12\n",
      "True\n",
      "Epoch_stop: 12\n",
      "Epoch: 12, Train Acc: 0.6429, Train Loss: 0.4438, Val Acc: 0.6542, Val Loss: 0.4541, time :19.338541984558105\n",
      "13\n",
      "True\n",
      "Epoch_stop: 13\n",
      "Epoch: 13, Train Acc: 0.6855, Train Loss: 0.4200, Val Acc: 0.6916, Val Loss: 0.4307, time :19.58478617668152\n",
      "14\n",
      "True\n",
      "Epoch_stop: 14\n",
      "Epoch: 14, Train Acc: 0.7058, Train Loss: 0.3903, Val Acc: 0.7132, Val Loss: 0.3977, time :20.899043798446655\n",
      "15\n",
      "True\n",
      "Epoch_stop: 15\n",
      "Epoch: 15, Train Acc: 0.7973, Train Loss: 0.3651, Val Acc: 0.7990, Val Loss: 0.3760, time :24.77739143371582\n",
      "16\n",
      "True\n",
      "Epoch_stop: 16\n",
      "Epoch: 16, Train Acc: 0.7745, Train Loss: 0.3228, Val Acc: 0.7805, Val Loss: 0.3257, time :20.217783212661743\n",
      "17\n",
      "True\n",
      "Epoch_stop: 17\n",
      "Epoch: 17, Train Acc: 0.8361, Train Loss: 0.2907, Val Acc: 0.8385, Val Loss: 0.2960, time :19.990421772003174\n",
      "18\n",
      "True\n",
      "Epoch_stop: 18\n",
      "Epoch: 18, Train Acc: 0.8578, Train Loss: 0.2744, Val Acc: 0.8588, Val Loss: 0.2800, time :20.026402711868286\n",
      "19\n",
      "True\n",
      "Epoch_stop: 19\n",
      "Epoch: 19, Train Acc: 0.8646, Train Loss: 0.2619, Val Acc: 0.8655, Val Loss: 0.2668, time :19.11275625228882\n",
      "20\n",
      "True\n",
      "Epoch_stop: 20\n",
      "Epoch: 20, Train Acc: 0.8696, Train Loss: 0.2529, Val Acc: 0.8706, Val Loss: 0.2578, time :21.327927350997925\n",
      "21\n",
      "True\n",
      "Epoch_stop: 21\n",
      "Epoch: 21, Train Acc: 0.8345, Train Loss: 0.2534, Val Acc: 0.8390, Val Loss: 0.2554, time :19.990002870559692\n",
      "22\n",
      "True\n",
      "Epoch_stop: 22\n",
      "Epoch: 22, Train Acc: 0.8565, Train Loss: 0.2450, Val Acc: 0.8593, Val Loss: 0.2474, time :20.565438985824585\n",
      "23\n",
      "True\n",
      "Epoch_stop: 23\n",
      "Epoch: 23, Train Acc: 0.8601, Train Loss: 0.2392, Val Acc: 0.8629, Val Loss: 0.2420, time :19.889039278030396\n",
      "24\n",
      "True\n",
      "Epoch_stop: 24\n",
      "Epoch: 24, Train Acc: 0.8837, Train Loss: 0.2306, Val Acc: 0.8845, Val Loss: 0.2351, time :22.995164155960083\n",
      "25\n",
      "True\n",
      "Epoch: 25, Train Acc: 0.9175, Train Loss: 0.2509, Val Acc: 0.9158, Val Loss: 0.2608, time :23.7681622505188\n",
      "26\n",
      "True\n",
      "Epoch_stop: 26\n",
      "Epoch: 26, Train Acc: 0.9014, Train Loss: 0.2242, Val Acc: 0.9013, Val Loss: 0.2304, time :22.799981832504272\n",
      "27\n",
      "True\n",
      "Epoch_stop: 27\n",
      "Epoch: 27, Train Acc: 0.8751, Train Loss: 0.2223, Val Acc: 0.8773, Val Loss: 0.2256, time :25.308889627456665\n",
      "28\n",
      "True\n",
      "Epoch_stop: 28\n",
      "Epoch: 28, Train Acc: 0.8982, Train Loss: 0.2162, Val Acc: 0.8986, Val Loss: 0.2217, time :21.735587120056152\n",
      "29\n",
      "True\n",
      "Epoch_stop: 29\n",
      "Epoch: 29, Train Acc: 0.8922, Train Loss: 0.2133, Val Acc: 0.8936, Val Loss: 0.2179, time :23.689026355743408\n",
      "30\n",
      "True\n",
      "Epoch_stop: 30\n",
      "Epoch: 30, Train Acc: 0.8979, Train Loss: 0.2106, Val Acc: 0.8990, Val Loss: 0.2159, time :19.79613757133484\n",
      "31\n",
      "True\n",
      "Epoch_stop: 31\n",
      "Epoch: 31, Train Acc: 0.9049, Train Loss: 0.2084, Val Acc: 0.9049, Val Loss: 0.2145, time :19.47359585762024\n",
      "32\n",
      "True\n",
      "Epoch_stop: 32\n",
      "Epoch: 32, Train Acc: 0.9126, Train Loss: 0.2071, Val Acc: 0.9127, Val Loss: 0.2136, time :19.3360698223114\n",
      "33\n",
      "True\n",
      "Epoch_stop: 33\n",
      "Epoch: 33, Train Acc: 0.8836, Train Loss: 0.2068, Val Acc: 0.8854, Val Loss: 0.2103, time :20.228277921676636\n",
      "34\n",
      "True\n",
      "Epoch_stop: 34\n",
      "Epoch: 34, Train Acc: 0.8994, Train Loss: 0.2014, Val Acc: 0.9002, Val Loss: 0.2063, time :19.236857652664185\n",
      "35\n",
      "True\n",
      "Epoch_stop: 35\n",
      "Epoch: 35, Train Acc: 0.9038, Train Loss: 0.1990, Val Acc: 0.9043, Val Loss: 0.2043, time :19.463866710662842\n",
      "36\n",
      "True\n",
      "Epoch: 36, Train Acc: 0.8890, Train Loss: 0.2009, Val Acc: 0.8900, Val Loss: 0.2045, time :19.03593349456787\n",
      "37\n",
      "True\n",
      "Epoch_stop: 37\n",
      "Epoch: 37, Train Acc: 0.9052, Train Loss: 0.1962, Val Acc: 0.9053, Val Loss: 0.2015, time :18.944504261016846\n",
      "38\n",
      "True\n",
      "Epoch_stop: 38\n",
      "Epoch: 38, Train Acc: 0.9041, Train Loss: 0.1948, Val Acc: 0.9041, Val Loss: 0.1999, time :19.37628197669983\n",
      "39\n",
      "True\n",
      "Epoch_stop: 39\n",
      "Epoch: 39, Train Acc: 0.9097, Train Loss: 0.1933, Val Acc: 0.9096, Val Loss: 0.1988, time :19.28771185874939\n",
      "40\n",
      "True\n",
      "Epoch_stop: 40\n",
      "Epoch: 40, Train Acc: 0.9028, Train Loss: 0.1923, Val Acc: 0.9028, Val Loss: 0.1972, time :20.000207662582397\n",
      "41\n",
      "True\n",
      "Epoch_stop: 41\n",
      "Epoch: 41, Train Acc: 0.8992, Train Loss: 0.1918, Val Acc: 0.8996, Val Loss: 0.1963, time :20.51093077659607\n",
      "42\n",
      "True\n",
      "Epoch_stop: 42\n",
      "Epoch: 42, Train Acc: 0.9129, Train Loss: 0.1899, Val Acc: 0.9123, Val Loss: 0.1958, time :20.312021732330322\n",
      "43\n",
      "True\n",
      "Epoch_stop: 43\n",
      "Epoch: 43, Train Acc: 0.9039, Train Loss: 0.1895, Val Acc: 0.9039, Val Loss: 0.1945, time :20.605388164520264\n",
      "44\n",
      "True\n",
      "Epoch_stop: 44\n",
      "Epoch: 44, Train Acc: 0.9118, Train Loss: 0.1874, Val Acc: 0.9108, Val Loss: 0.1932, time :21.449617624282837\n",
      "45\n",
      "True\n",
      "Epoch: 45, Train Acc: 0.9225, Train Loss: 0.1926, Val Acc: 0.9214, Val Loss: 0.2005, time :19.58002543449402\n",
      "46\n",
      "True\n",
      "Epoch_stop: 46\n",
      "Epoch: 46, Train Acc: 0.9131, Train Loss: 0.1859, Val Acc: 0.9126, Val Loss: 0.1922, time :19.428549766540527\n",
      "47\n",
      "True\n",
      "Epoch: 47, Train Acc: 0.9161, Train Loss: 0.1879, Val Acc: 0.9156, Val Loss: 0.1944, time :22.598793745040894\n",
      "48\n",
      "True\n",
      "Epoch_stop: 48\n",
      "Epoch: 48, Train Acc: 0.9104, Train Loss: 0.1838, Val Acc: 0.9098, Val Loss: 0.1894, time :20.212886095046997\n",
      "49\n",
      "True\n",
      "Epoch_stop: 49\n",
      "Epoch: 49, Train Acc: 0.9109, Train Loss: 0.1829, Val Acc: 0.9108, Val Loss: 0.1886, time :19.604262113571167\n",
      "50\n",
      "True\n",
      "Epoch_stop: 50\n",
      "Epoch: 50, Train Acc: 0.9089, Train Loss: 0.1825, Val Acc: 0.9083, Val Loss: 0.1881, time :19.414005041122437\n",
      "51\n",
      "True\n",
      "Epoch: 51, Train Acc: 0.9186, Train Loss: 0.1846, Val Acc: 0.9170, Val Loss: 0.1913, time :19.080872535705566\n",
      "52\n",
      "True\n",
      "Epoch_stop: 52\n",
      "Epoch: 52, Train Acc: 0.9089, Train Loss: 0.1811, Val Acc: 0.9084, Val Loss: 0.1864, time :18.68496799468994\n",
      "53\n",
      "True\n",
      "Epoch: 53, Train Acc: 0.9264, Train Loss: 0.1933, Val Acc: 0.9244, Val Loss: 0.2020, time :20.23897957801819\n",
      "54\n",
      "True\n",
      "Epoch: 54, Train Acc: 0.8769, Train Loss: 0.2033, Val Acc: 0.8783, Val Loss: 0.2057, time :20.315908193588257\n",
      "55\n",
      "True\n",
      "Epoch: 55, Train Acc: 0.9015, Train Loss: 0.1883, Val Acc: 0.9005, Val Loss: 0.1933, time :19.60498881340027\n",
      "56\n",
      "True\n",
      "Epoch_stop: 56\n",
      "Epoch: 56, Train Acc: 0.9130, Train Loss: 0.1797, Val Acc: 0.9123, Val Loss: 0.1857, time :22.589117288589478\n",
      "57\n",
      "True\n",
      "Epoch_stop: 57\n",
      "Epoch: 57, Train Acc: 0.9088, Train Loss: 0.1782, Val Acc: 0.9085, Val Loss: 0.1836, time :19.231749773025513\n",
      "58\n",
      "True\n",
      "Epoch_stop: 58\n",
      "Epoch: 58, Train Acc: 0.9095, Train Loss: 0.1780, Val Acc: 0.9088, Val Loss: 0.1835, time :18.75095844268799\n",
      "59\n",
      "True\n",
      "Epoch_stop: 59\n",
      "Epoch: 59, Train Acc: 0.9150, Train Loss: 0.1769, Val Acc: 0.9141, Val Loss: 0.1827, time :19.466850519180298\n",
      "60\n",
      "True\n",
      "Epoch: 60, Train Acc: 0.9224, Train Loss: 0.1785, Val Acc: 0.9202, Val Loss: 0.1857, time :19.194645881652832\n",
      "61\n",
      "True\n",
      "Epoch: 61, Train Acc: 0.9200, Train Loss: 0.1767, Val Acc: 0.9184, Val Loss: 0.1834, time :18.93017554283142\n",
      "62\n",
      "True\n",
      "Epoch: 62, Train Acc: 0.9205, Train Loss: 0.1767, Val Acc: 0.9188, Val Loss: 0.1838, time :19.346678018569946\n",
      "63\n",
      "True\n",
      "Epoch: 63, Train Acc: 0.9263, Train Loss: 0.1816, Val Acc: 0.9238, Val Loss: 0.1896, time :19.231311798095703\n",
      "64\n",
      "True\n",
      "Epoch_stop: 64\n",
      "Epoch: 64, Train Acc: 0.9063, Train Loss: 0.1763, Val Acc: 0.9058, Val Loss: 0.1813, time :20.200872659683228\n",
      "65\n",
      "True\n",
      "Epoch_stop: 65\n",
      "Epoch: 65, Train Acc: 0.9151, Train Loss: 0.1734, Val Acc: 0.9141, Val Loss: 0.1795, time :18.50393843650818\n",
      "66\n",
      "True\n",
      "Epoch: 66, Train Acc: 0.9195, Train Loss: 0.1742, Val Acc: 0.9181, Val Loss: 0.1810, time :19.60401225090027\n",
      "67\n",
      "True\n",
      "Epoch: 67, Train Acc: 0.9200, Train Loss: 0.1745, Val Acc: 0.9186, Val Loss: 0.1811, time :19.0862398147583\n",
      "68\n",
      "True\n",
      "Epoch: 68, Train Acc: 0.9208, Train Loss: 0.1729, Val Acc: 0.9191, Val Loss: 0.1797, time :21.612699270248413\n",
      "69\n",
      "True\n",
      "Epoch_stop: 69\n",
      "Epoch: 69, Train Acc: 0.9215, Train Loss: 0.1720, Val Acc: 0.9202, Val Loss: 0.1785, time :19.42756986618042\n",
      "70\n",
      "True\n",
      "Epoch_stop: 70\n",
      "Epoch: 70, Train Acc: 0.9142, Train Loss: 0.1714, Val Acc: 0.9138, Val Loss: 0.1767, time :19.048771142959595\n",
      "71\n",
      "True\n",
      "Epoch: 71, Train Acc: 0.9210, Train Loss: 0.1711, Val Acc: 0.9191, Val Loss: 0.1774, time :19.661575317382812\n",
      "72\n",
      "True\n",
      "Epoch_stop: 72\n",
      "Epoch: 72, Train Acc: 0.9155, Train Loss: 0.1709, Val Acc: 0.9146, Val Loss: 0.1765, time :18.72151756286621\n",
      "73\n",
      "True\n",
      "Epoch: 73, Train Acc: 0.9327, Train Loss: 0.1811, Val Acc: 0.9299, Val Loss: 0.1902, time :20.06150794029236\n",
      "74\n",
      "True\n",
      "Epoch: 74, Train Acc: 0.9259, Train Loss: 0.1773, Val Acc: 0.9241, Val Loss: 0.1847, time :21.429665327072144\n",
      "75\n",
      "True\n",
      "Epoch: 75, Train Acc: 0.9226, Train Loss: 0.1697, Val Acc: 0.9210, Val Loss: 0.1765, time :18.679189443588257\n",
      "76\n",
      "True\n",
      "Epoch_stop: 76\n",
      "Epoch: 76, Train Acc: 0.9096, Train Loss: 0.1709, Val Acc: 0.9092, Val Loss: 0.1759, time :19.281809091567993\n",
      "77\n",
      "True\n",
      "Epoch_stop: 77\n",
      "Epoch: 77, Train Acc: 0.9219, Train Loss: 0.1677, Val Acc: 0.9208, Val Loss: 0.1741, time :19.792649030685425\n",
      "78\n",
      "True\n",
      "Epoch_stop: 78\n",
      "Epoch: 78, Train Acc: 0.9210, Train Loss: 0.1673, Val Acc: 0.9197, Val Loss: 0.1736, time :19.151408195495605\n",
      "79\n",
      "True\n",
      "Epoch: 79, Train Acc: 0.9099, Train Loss: 0.1702, Val Acc: 0.9095, Val Loss: 0.1752, time :19.137678623199463\n",
      "80\n",
      "True\n",
      "Epoch: 80, Train Acc: 0.9244, Train Loss: 0.1674, Val Acc: 0.9222, Val Loss: 0.1742, time :19.40734314918518\n",
      "81\n",
      "True\n",
      "Epoch_stop: 81\n",
      "Epoch: 81, Train Acc: 0.9180, Train Loss: 0.1661, Val Acc: 0.9170, Val Loss: 0.1719, time :19.415985345840454\n",
      "82\n",
      "True\n",
      "Epoch: 82, Train Acc: 0.9093, Train Loss: 0.1700, Val Acc: 0.9089, Val Loss: 0.1748, time :19.11729121208191\n",
      "83\n",
      "True\n",
      "Epoch_stop: 83\n",
      "Epoch: 83, Train Acc: 0.9237, Train Loss: 0.1652, Val Acc: 0.9220, Val Loss: 0.1719, time :20.020977020263672\n",
      "84\n",
      "True\n",
      "Epoch_stop: 84\n",
      "Epoch: 84, Train Acc: 0.9182, Train Loss: 0.1649, Val Acc: 0.9177, Val Loss: 0.1705, time :19.444162130355835\n",
      "85\n",
      "True\n",
      "Epoch: 85, Train Acc: 0.9272, Train Loss: 0.1657, Val Acc: 0.9247, Val Loss: 0.1729, time :19.211687564849854\n",
      "86\n",
      "True\n",
      "Epoch_stop: 86\n",
      "Epoch: 86, Train Acc: 0.9159, Train Loss: 0.1648, Val Acc: 0.9154, Val Loss: 0.1700, time :20.67263174057007\n",
      "87\n",
      "True\n",
      "Epoch: 87, Train Acc: 0.9190, Train Loss: 0.1648, Val Acc: 0.9172, Val Loss: 0.1709, time :19.569788217544556\n",
      "88\n",
      "True\n",
      "Epoch: 88, Train Acc: 0.9285, Train Loss: 0.1646, Val Acc: 0.9267, Val Loss: 0.1722, time :19.72839641571045\n",
      "89\n",
      "True\n",
      "Epoch_stop: 89\n",
      "Epoch: 89, Train Acc: 0.9256, Train Loss: 0.1626, Val Acc: 0.9244, Val Loss: 0.1693, time :21.198665142059326\n",
      "90\n",
      "True\n",
      "Epoch: 90, Train Acc: 0.9255, Train Loss: 0.1628, Val Acc: 0.9237, Val Loss: 0.1696, time :21.692647457122803\n",
      "91\n",
      "True\n",
      "Epoch_stop: 91\n",
      "Epoch: 91, Train Acc: 0.9202, Train Loss: 0.1615, Val Acc: 0.9189, Val Loss: 0.1675, time :18.62049174308777\n",
      "92\n",
      "True\n",
      "Epoch_stop: 92\n",
      "Epoch: 92, Train Acc: 0.9209, Train Loss: 0.1616, Val Acc: 0.9202, Val Loss: 0.1672, time :19.424779415130615\n",
      "93\n",
      "True\n",
      "Epoch_stop: 93\n",
      "Epoch: 93, Train Acc: 0.9214, Train Loss: 0.1608, Val Acc: 0.9205, Val Loss: 0.1669, time :19.381437063217163\n",
      "94\n",
      "True\n",
      "Epoch_stop: 94\n",
      "Epoch: 94, Train Acc: 0.9204, Train Loss: 0.1604, Val Acc: 0.9196, Val Loss: 0.1664, time :19.154079914093018\n",
      "95\n",
      "True\n",
      "Epoch_stop: 95\n",
      "Epoch: 95, Train Acc: 0.9225, Train Loss: 0.1597, Val Acc: 0.9219, Val Loss: 0.1655, time :18.84641981124878\n",
      "96\n",
      "True\n",
      "Epoch_stop: 96\n",
      "Epoch: 96, Train Acc: 0.9221, Train Loss: 0.1591, Val Acc: 0.9212, Val Loss: 0.1652, time :19.020820140838623\n",
      "97\n",
      "True\n",
      "Epoch_stop: 97\n",
      "Epoch: 97, Train Acc: 0.9234, Train Loss: 0.1590, Val Acc: 0.9221, Val Loss: 0.1651, time :21.37666416168213\n",
      "98\n",
      "True\n",
      "Epoch: 98, Train Acc: 0.9345, Train Loss: 0.1643, Val Acc: 0.9320, Val Loss: 0.1726, time :23.803077459335327\n",
      "99\n",
      "True\n",
      "Epoch: 99, Train Acc: 0.9200, Train Loss: 0.1595, Val Acc: 0.9193, Val Loss: 0.1653, time :19.615331649780273\n",
      "CPU times: user 24min 25s, sys: 7min 43s, total: 32min 8s\n",
      "Wall time: 33min 1s\n"
     ]
    }
   ],
   "source": [
    "%%time\n",
    "train_accuracies = []\n",
    "validation_accuracies = []\n",
    "validation_losses = []\n",
    "train_losses = []\n",
    "\n",
    "val_recall=[]\n",
    "val_precision=[]\n",
    "train_recall=[]\n",
    "train_precision=[]\n",
    "times = []\n",
    "\n",
    "for epoch in range(1, n_epochs):\n",
    "    start = time.time()\n",
    "    print(epoch)\n",
    "    model = train_model(train_loader)\n",
    "    print(next(model.parameters()).is_cuda)\n",
    "    \n",
    "    train_acc, train_loss, train_rec, train_prec = evaluate_model(model,train_loader)\n",
    "    train_losses.append(train_loss)\n",
    "                   \n",
    "    val_acc, val_loss, val_rec, val_prec = evaluate_model(model,val_loader)\n",
    "    validation_losses.append(val_loss)\n",
    "\n",
    "    train_accuracies.append(train_acc)\n",
    "    validation_accuracies.append(val_acc)\n",
    "    \n",
    "    train_precision.append(train_prec)\n",
    "    train_recall.append(train_rec)\n",
    "    \n",
    "    val_precision.append(val_prec)\n",
    "    val_recall.append(val_rec)\n",
    "\n",
    "    # save the model if it is the better than any previous ones\n",
    "    if val_loss.item() <= min(validation_losses).item():\n",
    "        # torch.save(model, f'/lustrehome/federicacuna/TB_Sept_2023_ml/output_gnn_pkl/{folder_pkl}/{outname}')\n",
    "        print(f'Epoch_stop: {epoch}')\n",
    "          \n",
    "    #torch.save(model, \"best_model.pkl\")\n",
    "    if epoch % 1 == 0:\n",
    "        print(f'Epoch: {epoch}, Train Acc: {train_acc:.4f}, Train Loss: {train_loss:.4f}, Val Acc: {val_acc:.4f}, Val Loss: {val_loss:.4f}, time :{time.time() - start}')\n",
    "    times.append(time.time() - start)\n",
    "  "
   ]
  },
  {
   "cell_type": "code",
   "execution_count": 50,
   "id": "b5068062",
   "metadata": {
    "tags": []
   },
   "outputs": [
    {
     "name": "stdout",
     "output_type": "stream",
     "text": [
      "The best result was achieved after 96 epochs with a validation accuracy of 0.9221 and a loss of 0.1651\n",
      "The validation recall is 0.8704 and the precision is 0.9647\n"
     ]
    }
   ],
   "source": [
    "best_validation_loss = min(validation_losses)\n",
    "best_epoch = validation_losses.index(best_validation_loss)\n",
    "accuracy_at_best_epoch = validation_accuracies[best_epoch]\n",
    "recall_at_best_epoch=val_recall[best_epoch]\n",
    "precision_at_best_epoch=val_precision[best_epoch]\n",
    "print(f\"The best result was achieved after {best_epoch} epochs with a validation accuracy of {accuracy_at_best_epoch:.4f} and a loss of {best_validation_loss:.4f}\")\n",
    "print(f\"The validation recall is {recall_at_best_epoch:.4f} and the precision is {precision_at_best_epoch:.4f}\")"
   ]
  },
  {
   "cell_type": "code",
   "execution_count": 29,
   "id": "944992d6",
   "metadata": {
    "tags": []
   },
   "outputs": [
    {
     "data": {
      "image/png": "[encoded data removed]",
      "text/plain": [
       "<Figure size 640x480 with 1 Axes>"
      ]
     },
     "metadata": {},
     "output_type": "display_data"
    }
   ],
   "source": [
    "fig, ax = plt.subplots()\n",
    "#fig.set_size_inches(30.5, 15.5)\n",
    "\n",
    "plt.plot(validation_losses,color='orange',label='validation loss')\n",
    "plt.plot(train_losses,color='blue',label='training loss')\n",
    "\n",
    "plt.axvline(x=best_epoch, color=\"green\", linewidth=2, linestyle='dashed',label='best epoch')\n",
    "#plt.legend(['Val Loss', 'Train Loss', \"Best Epoch\"])\n",
    "plt.legend()\n",
    "\n",
    "\n",
    "# Hide the right and top spines\n",
    "ax.spines['right'].set_visible(False)\n",
    "ax.spines['top'].set_visible(False)\n",
    "ax.spines['bottom'].set_visible(False)\n",
    "ax.spines['left'].set_visible(False)\n",
    "\n",
    "plt.title(\"Model training and validation loss per epoch\", fontsize=10, fontweight='bold')\n",
    "#plt.ylim(0.05,0.2)\n",
    "# plt.savefig(f'/lustrehome/federicacuna/TB_Sept_2023_ml/output_gnn_img/{folder_pkl}/model_loss_{model_list[sel_alg]}_lr_{lr_name}_400epochs.png')\n",
    "plt.show()"
   ]
  },
  {
   "cell_type": "code",
   "execution_count": 51,
   "id": "4403992b",
   "metadata": {
    "tags": []
   },
   "outputs": [
    {
     "data": {
      "image/png": "[encoded data removed]",
      "text/plain": [
       "<Figure size 640x480 with 1 Axes>"
      ]
     },
     "metadata": {},
     "output_type": "display_data"
    }
   ],
   "source": [
    "fig, ax = plt.subplots()\n",
    "#fig.set_size_inches(30.5, 15.5)\n",
    "\n",
    "plt.plot(validation_accuracies,color='orange',label='validation acc')\n",
    "plt.plot(train_accuracies,color='blue',label='training acc')\n",
    "\n",
    "plt.legend()\n",
    "\n",
    "# Hide the right and top spines\n",
    "ax.spines['right'].set_visible(False)\n",
    "ax.spines['top'].set_visible(False)\n",
    "ax.spines['bottom'].set_visible(False)\n",
    "ax.spines['left'].set_visible(False)\n",
    "\n",
    "plt.title(\"Model training and validation accuracy per epoch\", fontsize=10, fontweight='bold')\n",
    "# plt.ylim(0.9,1)\n",
    "# plt.savefig(f'/lustrehome/federicacuna/TB_Sept_2023_ml/output_gnn_img/{folder_pkl}/model_acc_{model_list[sel_alg]}_lr_{lr_name}_400epochs.png')\n",
    "plt.show()"
   ]
  },
  {
   "cell_type": "code",
   "execution_count": null,
   "id": "5ce7750c-6a87-494f-b5ed-f8e0937ec879",
   "metadata": {},
   "outputs": [],
   "source": [
    "best_model = torch.load( f'/lustrehome/federicacuna/TB_Sept_2023_ml/output_gnn_pkl/{folder_pkl}/{outname}')\n",
    "best_model.to(device) \n",
    "\n",
    "correct = 0\n",
    "total_samples = 0\n",
    "pred_test_cl=[]\n",
    "targets=[]\n",
    "with torch.no_grad():\n",
    "    for data in test_loader:\n",
    "        data = data.to(device)  \n",
    "        model_output = best_model(data)\n",
    "        predicted_class =  torch.where(model_output > 0.8, 1, 0)\n",
    "        pred_test_cl.extend(predicted_class.tolist())\n",
    "        correct += int((predicted_class == data.y).sum())\n",
    "        targets.extend(data.y.tolist())\n",
    "        total_samples += data.y.size(0)\n",
    "\n",
    "print('accuracy ',accuracy_score(targets,pred_test_cl),' recall ', recall_score(targets,pred_test_cl),' precision ',precision_score(targets,pred_test_cl))\n"
   ]
  }
 ],
 "metadata": {
  "kernelspec": {
   "display_name": "py_env",
   "language": "python",
   "name": "py_env"
  },
  "language_info": {
   "codemirror_mode": {
    "name": "ipython",
    "version": 3
   },
   "file_extension": ".py",
   "mimetype": "text/x-python",
   "name": "python",
   "nbconvert_exporter": "python",
   "pygments_lexer": "ipython3",
   "version": "3.8.2"
  }
 },
 "nbformat": 4,
 "nbformat_minor": 5
}
