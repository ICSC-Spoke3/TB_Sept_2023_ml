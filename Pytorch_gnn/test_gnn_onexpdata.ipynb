{
 "cells": [
  {
   "cell_type": "code",
   "execution_count": 1,
   "id": "4859d8df-455f-4c53-8802-5b9662e20d6b",
   "metadata": {
    "tags": []
   },
   "outputs": [
    {
     "name": "stderr",
     "output_type": "stream",
     "text": [
      "ERROR in cling::CIFactory::createCI(): cannot extract standard library include paths!\n",
      "Invoking:\n",
      "  x86_64-conda_cos6-linux-gnu-c++  -O3 -DNDEBUG -xc++ -E -v /dev/null 2>&1 | sed -n -e '/^.include/,${' -e '/^ \\/.*++/p' -e '}'\n",
      "Results was:\n",
      "With exit code 0\n"
     ]
    },
    {
     "name": "stdout",
     "output_type": "stream",
     "text": [
      "Welcome to JupyROOT 6.20/02\n"
     ]
    }
   ],
   "source": [
    "import torch\n",
    "import torch_geometric\n",
    "import matplotlib.pyplot as plt\n",
    "from torch.nn import Linear\n",
    "import torch.nn.functional as F\n",
    "from torch_geometric.nn import SAGEConv\n",
    "import MyData as data\n",
    "from sklearn.metrics import precision_score, recall_score, accuracy_score,f1_score\n",
    "from torch_geometric.loader import DataLoader\n",
    "import ROOT\n",
    "import numpy as np\n",
    "from matplotlib.lines import Line2D\n",
    "import pandas as pd\n",
    "import array as ary\n",
    "import GNN_model"
   ]
  },
  {
   "cell_type": "code",
   "execution_count": 3,
   "id": "7550ff4a-0671-4209-8ecc-9a4d7c077ebd",
   "metadata": {
    "tags": []
   },
   "outputs": [],
   "source": [
    "sel_alg=0\n",
    "view='xz'"
   ]
  },
  {
   "cell_type": "code",
   "execution_count": 4,
   "id": "79b7c6a0-e348-4fa1-a7fa-62a4f580398a",
   "metadata": {},
   "outputs": [],
   "source": [
    "if sel_alg==3:\n",
    "    num_ly=3\n",
    "    num_to_reduce=64\n",
    "    hidden_size = num_to_reduce*num_ly"
   ]
  },
  {
   "cell_type": "code",
   "execution_count": 5,
   "id": "089ef722-c96b-4789-8100-979c82e04348",
   "metadata": {
    "tags": []
   },
   "outputs": [],
   "source": [
    "model_list=['SageConv','SageConv2','GCN','GCN_2','GAT','GDPModel']"
   ]
  },
  {
   "cell_type": "code",
   "execution_count": 6,
   "id": "fd7d4331-4ebb-4f1e-991a-2364f1ff7e02",
   "metadata": {},
   "outputs": [],
   "source": [
    "NUM_FEATURES=5\n",
    "NUM_CLASSES=1"
   ]
  },
  {
   "cell_type": "code",
   "execution_count": 7,
   "id": "21270c96-8041-4e17-9647-9824cafed28c",
   "metadata": {
    "tags": []
   },
   "outputs": [],
   "source": [
    "if sel_alg>len(model_list):\n",
    "    print('no algorithm available')\n",
    "if sel_alg==0:\n",
    "    model = GNN_model.SageConv(num_feat=NUM_FEATURES,num_class=NUM_CLASSES)\n",
    "elif sel_alg==1:\n",
    "    model = GNN_model.SageConv2(num_feat=NUM_FEATURES,num_class=NUM_CLASSES)\n",
    "elif sel_alg==2:\n",
    "    model = GNN_model.GCN(num_feat=NUM_FEATURES, num_class=NUM_CLASSES,num_to_reduce=64)\n",
    "elif sel_alg==3:\n",
    "    model = GNN_model.GCN_2(hidden_size=hidden_size, num_ly=num_ly, num_feat=NUM_FEATURES, num_class=NUM_CLASSES,num_to_reduce=64)\n",
    "elif sel_alg==4:\n",
    "    model = GNN_model.GAT(num_feat=NUM_FEATURES, num_class=NUM_CLASSES)\n",
    "elif sel_alg==5:\n",
    "    model = GNN_model.GDPModel()"
   ]
  },
  {
   "cell_type": "code",
   "execution_count": 8,
   "id": "46a7b51f-88ac-494a-aa58-f6e84f477bde",
   "metadata": {
    "tags": []
   },
   "outputs": [],
   "source": [
    "data=data.dataset_preparation(root='/lustrehome/federicacuna/TestBeam_T10_2023/Data/')\n",
    "if view=='xz':\n",
    "    fname='pi-_10GeV_4ly_exp'\n",
    "else:\n",
    "    fname='pi-_10GeV_4ly_1e-4_yz'\n",
    "    "
   ]
  },
  {
   "cell_type": "code",
   "execution_count": 9,
   "id": "3a04de36-2121-41ad-92a6-462c3ac6235a",
   "metadata": {
    "tags": []
   },
   "outputs": [
    {
     "name": "stdout",
     "output_type": "stream",
     "text": [
      "taking the  data_0.pt\n"
     ]
    }
   ],
   "source": [
    "data_trk=data.get(0,fname)"
   ]
  },
  {
   "cell_type": "code",
   "execution_count": 8,
   "id": "f1cecbca-cad8-487b-9b99-a205c90d7130",
   "metadata": {},
   "outputs": [
    {
     "name": "stdout",
     "output_type": "stream",
     "text": [
      "108860\n"
     ]
    }
   ],
   "source": [
    "print(len(data_trk))"
   ]
  },
  {
   "cell_type": "code",
   "execution_count": 143,
   "id": "ffeefafc-025b-40b6-bcfa-1ccf1ef89d98",
   "metadata": {
    "tags": []
   },
   "outputs": [
    {
     "name": "stdout",
     "output_type": "stream",
     "text": [
      "5\n",
      "CPU times: user 160 µs, sys: 52 µs, total: 212 µs\n",
      "Wall time: 179 µs\n"
     ]
    }
   ],
   "source": [
    "# %%time\n",
    "# from torch.nn import Linear\n",
    "# import torch.nn.functional as F\n",
    "# from torch_geometric.nn import SAGEConv\n",
    "\n",
    "# NUM_FEATURES = 5\n",
    "# print(NUM_FEATURES)\n",
    "# NUM_CLASSES =1\n",
    "# HIDDEN_LAYER_SIZE = 256\n",
    "# class SageConv(torch.nn.Module):\n",
    "#     def __init__(self):\n",
    "#         super().__init__()\n",
    "#         # Model layers\n",
    "#         self.conv1 = SAGEConv(NUM_FEATURES, HIDDEN_LAYER_SIZE)\n",
    "#         self.conv2 = SAGEConv(HIDDEN_LAYER_SIZE, HIDDEN_LAYER_SIZE-64)\n",
    "#         self.conv3 = SAGEConv(HIDDEN_LAYER_SIZE-64, NUM_CLASSES)\n",
    "#         #self.lin_1 = Linear(HIDDEN_LAYER_SIZE, NUM_CLASSES*4)\n",
    "#         #self.lin_2 = Linear(NUM_CLASSES*4, NUM_CLASSES)\n",
    "\n",
    "#     def forward(self, data):\n",
    "#         # The architecture itself\n",
    "#         x, edge_index, batch = data.x, data.edge_index, data.batch\n",
    "#         x = self.conv1(x, edge_index)\n",
    "#         x = F.tanh(x)\n",
    "#         x = self.conv2(x, edge_index)\n",
    "#         x = F.relu(x)\n",
    "#         x = self.conv3(x, edge_index)\n",
    "       \n",
    "#         #x = self.lin_1(x)\n",
    "#        # x = F.tanh(x)\n",
    "#         #x = self.lin_2(x)\n",
    "#         return F.sigmoid(x)"
   ]
  },
  {
   "cell_type": "code",
   "execution_count": 10,
   "id": "76112cb6-8a35-42c9-b2f4-474eaf9a2702",
   "metadata": {
    "tags": []
   },
   "outputs": [
    {
     "name": "stdout",
     "output_type": "stream",
     "text": [
      "Using device: cuda\n",
      "NVIDIA A100-PCIE-40GB MIG 1g.5gb\n",
      "Memory Usage:\n",
      "Allocated: 0.0 GB\n",
      "Cached:    0.0 GB\n"
     ]
    }
   ],
   "source": [
    "device = torch.device('cuda' if torch.cuda.is_available() else 'cpu')\n",
    "#device=torch.device('cpu')\n",
    "print('Using device:', device)\n",
    "\n",
    "if device.type == 'cuda':\n",
    "    print(torch.cuda.get_device_name(0))\n",
    "    print('Memory Usage:')\n",
    "    print('Allocated:', round(torch.cuda.memory_allocated(0)/1024**3,1), 'GB')\n",
    "    print('Cached:   ', round(torch.cuda.memory_reserved(0)/1024**3,1), 'GB')\n"
   ]
  },
  {
   "cell_type": "code",
   "execution_count": 11,
   "id": "bec20be2-7f43-4bc4-b60f-23b7572fca5f",
   "metadata": {
    "tags": []
   },
   "outputs": [
    {
     "data": {
      "text/plain": [
       "SageConv(\n",
       "  (conv1): SAGEConv(5, 256, aggr=mean)\n",
       "  (conv2): SAGEConv(256, 192, aggr=mean)\n",
       "  (conv3): SAGEConv(192, 1, aggr=mean)\n",
       ")"
      ]
     },
     "execution_count": 11,
     "metadata": {},
     "output_type": "execute_result"
    }
   ],
   "source": [
    "if view=='xz':\n",
    "    if sel_alg==0:\n",
    "        best_model = torch.load(\"/lustrehome/federicacuna/TB_Sept_2023_ml/output_gnn_pkl/optimized/NEWDATA_best_modelSageConv_lytrk4_view_xz_lr0_0001_epochs_500.pkl\")\n",
    "    elif sel_alg==3:\n",
    "         best_model = torch.load(\"/lustrehome/federicacuna/TB_Sept_2023_ml/output_gnn_pkl/optimized/best_modelGCN_2_lytrk4_view_xz_lr_5e-05_nepochs_1500_lentrain_2000000.pkl\")       \n",
    "    elif sel_alg==5:\n",
    "        best_model = torch.load(\"/lustrehome/federicacuna/TB_Sept_2023_ml/output_gnn_pkl/optimized/NEWDATAbest_model_gatedgenode_lytrk_4_view_xz_lr_0_0001_nepochs_600_len_2000000.pkl\")\n",
    "else:\n",
    "    if sel_alg==0:\n",
    "        best_model = torch.load(\"/lustrehome/federicacuna/TB_Sept_2023_ml/output_gnn_pkl/optimized/NEWDATA_best_modelSageConv_lytrk4_view_yz_lr0_0001_epochs_500.pkl\")\n",
    "    elif sel_alg==3:\n",
    "         best_model = torch.load(\"/lustrehome/federicacuna/TB_Sept_2023_ml/output_gnn_pkl/optimized/best_modelGCN_2_lytrk4_view_yz_lr_5e-05_nepochs_1500_lentrain_2000000.pkl\")       \n",
    "    elif sel_alg==5:\n",
    "        best_model = torch.load(\"/lustrehome/federicacuna/TB_Sept_2023_ml/output_gnn_pkl/optimized/NEWDATAbest_model_gatedgenode_lytrk_4_view_yz_lr_0_0001_nepochs_600_len_2000000.pkl\")\n",
    "\n",
    "         \n",
    "best_model.to(device) "
   ]
  },
  {
   "cell_type": "code",
   "execution_count": 12,
   "id": "87977583-642b-4e93-80d7-6c367f51f13d",
   "metadata": {
    "tags": []
   },
   "outputs": [
    {
     "name": "stdout",
     "output_type": "stream",
     "text": [
      "0   Data(x=[7, 5], edge_index=[2, 11], edge_attr=[11, 2])\n",
      "1   Data(x=[7, 5], edge_index=[2, 11], edge_attr=[11, 2])\n",
      "2   Data(x=[7, 5], edge_index=[2, 11], edge_attr=[11, 2])\n",
      "3   Data(x=[11, 5], edge_index=[2, 29], edge_attr=[29, 2])\n",
      "4   Data(x=[6, 5], edge_index=[2, 8], edge_attr=[8, 2])\n",
      "5   Data(x=[6, 5], edge_index=[2, 8], edge_attr=[8, 2])\n",
      "6   Data(x=[7, 5], edge_index=[2, 11], edge_attr=[11, 2])\n",
      "7   Data(x=[6, 5], edge_index=[2, 8], edge_attr=[8, 2])\n",
      "8   Data(x=[6, 5], edge_index=[2, 8], edge_attr=[8, 2])\n",
      "9   Data(x=[7, 5], edge_index=[2, 11], edge_attr=[11, 2])\n"
     ]
    }
   ],
   "source": [
    "# ev_id=100\n",
    "for i in range(0,10):\n",
    "    test_batch=data_trk[i]\n",
    "    print(i,' ',test_batch)"
   ]
  },
  {
   "cell_type": "code",
   "execution_count": 41,
   "id": "3bcee33b-fe17-4e2e-85dd-ae815250e302",
   "metadata": {
    "tags": []
   },
   "outputs": [
    {
     "name": "stdout",
     "output_type": "stream",
     "text": [
      "5   Data(x=[7, 5], edge_index=[2, 11], edge_attr=[11, 2])\n"
     ]
    }
   ],
   "source": [
    "ev_id=5\n",
    "\n",
    "test_batch=data_trk[ev_id]\n",
    "print(ev_id,' ',test_batch)\n",
    "test_batch.to(device) \n",
    "model_output = best_model(test_batch) \n",
    "model_output.to(device)\n",
    "predicted_class = torch.where(model_output > 0.8, 1, 0)\n",
    "# print(model_output)\n",
    "predicted_class=predicted_class.detach().cpu().tolist()\n",
    "predicted_class = [item for sublist in predicted_class for item in sublist]\n"
   ]
  },
  {
   "cell_type": "code",
   "execution_count": 42,
   "id": "04d78768-219d-4359-b122-c3d7a5b23558",
   "metadata": {
    "tags": []
   },
   "outputs": [],
   "source": [
    "test_batch=test_batch.detach().cpu()\n",
    "ly=test_batch.x[:,2]\n",
    "x=test_batch.x[:,0]\n",
    "z_hit=test_batch.x[:,3]\n",
    "label=test_batch.y\n",
    "label_pred=predicted_class\n",
    "# print(x)\n",
    "# print(label)\n",
    "# print(label_pred)\n",
    "# print(test_batch.x[:,4])"
   ]
  },
  {
   "cell_type": "code",
   "execution_count": 43,
   "id": "1beeb193-d346-4b86-b2d6-916ef1f865cf",
   "metadata": {
    "tags": []
   },
   "outputs": [
    {
     "data": {
      "text/plain": [
       "Text(0.5, 1.0, 'Ev 5: true label')"
      ]
     },
     "execution_count": 43,
     "metadata": {},
     "output_type": "execute_result"
    },
    {
     "data": {
      "image/png": "[encoded data removed]",
      "text/plain": [
       "<Figure size 640x480 with 1 Axes>"
      ]
     },
     "metadata": {},
     "output_type": "display_data"
    }
   ],
   "source": [
    "for i in range(len(x)):\n",
    "    \n",
    "    plt.scatter(z_hit[i],x[i], color='blue')\n",
    "    \n",
    "plt.xlim(-100,2000)\n",
    "plt.ylim(-20,20)\n",
    "plt.xlabel('z [mm]')\n",
    "plt.ylabel('x [mm]')\n",
    "plt.title(f'Ev {ev_id}: true label')\n",
    "\n",
    "\n",
    "# plt.savefig(f'/lustrehome/federicacuna/TB_Sept_2023_ml/output_gnn_img/exp_data_trk/true_label_view_{view}_EXPev_{ev_id}_alg{model_list[sel_alg]}.png')"
   ]
  },
  {
   "cell_type": "code",
   "execution_count": 44,
   "id": "73db73e6-b831-4269-91fe-0b4dee9e95e8",
   "metadata": {
    "tags": []
   },
   "outputs": [
    {
     "data": {
      "image/png": "[encoded data removed]",
      "text/plain": [
       "<Figure size 640x480 with 1 Axes>"
      ]
     },
     "metadata": {},
     "output_type": "display_data"
    }
   ],
   "source": [
    "x_pred=[]\n",
    "y_pred=[]\n",
    "z_pred=[]\n",
    "for i in range(len(x)):\n",
    "    if label_pred[i] == 0:\n",
    "        plt.scatter(z_hit[i],x[i], color='grey', label='0 (Pred)')\n",
    "    else:\n",
    "        x_pred.append(x[i].item())\n",
    "        y_pred.append(ly[i].item())\n",
    "        z_pred.append(z_hit[i].item())\n",
    "        plt.scatter(z_hit[i],x[i], color='red', label='1 (Pred)')\n",
    "        \n",
    "plt.xlim(-100,2000)\n",
    "plt.ylim(-20,20)\n",
    "#plt.legend()\n",
    "plt.ylabel('x [mm]')\n",
    "plt.xlabel('z [mm]')\n",
    "plt.title(f'Ev {ev_id}: predicted label')\n",
    "legend_elements = [Line2D([0], [0], marker='o', color='w', label='0 (GNN pred)', markerfacecolor='grey', markersize=10),\n",
    "                   Line2D([0], [0], marker='o', color='w', label='1 (GNN pred)', markerfacecolor='red', markersize=10)]\n",
    "\n",
    "plt.legend(handles=legend_elements, loc='upper right')\n",
    "plt.savefig(f'/lustrehome/federicacuna/TB_Sept_2023_ml/output_gnn_img/exp_data_trk/pred_label_view_{view}_EXPev_{ev_id}_alg{model_list[sel_alg]}.png')"
   ]
  },
  {
   "cell_type": "code",
   "execution_count": 13,
   "id": "75104625-8c4c-4d5d-a7c2-e0cbdbeba5e6",
   "metadata": {
    "tags": []
   },
   "outputs": [],
   "source": [
    "# gr=ROOT.TGraph(len(np.array(x_pred)),np.array(x_pred),np.array(z_pred))\n",
    "# c1=ROOT.TCanvas()\n",
    "# c1.cd()\n",
    "# gr.GetXaxis().SetLimits(-20.0,20.0);\n",
    "# gr.GetXaxis().SetTitle('x [mm]')\n",
    "# gr.GetYaxis().SetTitle('z [mm]')\n",
    "# gr.SetMarkerStyle(8)\n",
    "# gr.Draw('AP')\n",
    "myfile=ROOT.TFile('/lustrehome/federicacuna/TB_Sept_2023_ml/root_file_predhit/pred_EXPdata_xz_sage_conv.root','RECREATE')\n",
    "# gr.Write()\n",
    "# c1.Write()\n",
    "\n",
    "test_batch_ev=[]\n",
    "for ev_id in range(0,len(data_trk)):\n",
    "    test_batch_ev.append(data_trk[ev_id])\n",
    "    predicted_class_ev=[]\n",
    "    \n",
    "for i in test_batch_ev:\n",
    "    i.to(device)\n",
    "    model_output = best_model(i) \n",
    "    \n",
    "    predicted_class_ev.append((torch.where(model_output > 0.8, 1, 0)))\n",
    "\n",
    "         \n",
    "ly_ev=[]\n",
    "x_ev=[]\n",
    "z_ev=[]\n",
    "pe_ev=[]\n",
    "dx_ev=[]\n",
    "no_good_ev=[]\n",
    "for i in range(len(test_batch_ev)): \n",
    "        \n",
    "    ev=test_batch_ev[i]\n",
    "    ev=ev.detach().cpu()\n",
    "    label = predicted_class_ev[i].detach().cpu().numpy()\n",
    "    ly_ev.append([])\n",
    "    x_ev.append([])\n",
    "    z_ev.append([])\n",
    "    pe_ev.append([])\n",
    "    dx_ev.append([])\n",
    "    if all(el==0 for el in label):\n",
    "        # print(i)\n",
    "        no_good_ev.append(i)\n",
    "        # print(label)\n",
    "    for j,lab in enumerate(label):\n",
    "        # print(j)\n",
    "        # print(lab)\n",
    "        if lab==1:\n",
    "            tmp_ly=ev.x[j,2].detach().cpu().tolist()\n",
    "            tmp_x=ev.x[j,0].detach().cpu().tolist()\n",
    "            tmp_z=ev.x[j,3].detach().cpu().tolist() \n",
    "            tmp_dx=ev.x[j,1].detach().cpu().tolist() \n",
    "            # print(tmp_dx)\n",
    "            tmp_pe=ev.x[j,4].detach().cpu().tolist()\n",
    "            # print(tmp_pe)\n",
    "            ly_ev[i].append(tmp_ly)\n",
    "            x_ev[i].append(tmp_x)\n",
    "            z_ev[i].append(tmp_z)\n",
    "            dx_ev[i].append(tmp_dx)\n",
    "            pe_ev[i].append(tmp_pe)\n",
    "\n",
    "\n",
    "OutTree = ROOT.TTree(\"Reco_tree\", \"Reco_tree\")   \n",
    "ly_ev_vec = ROOT.std.vector(\"float\")()\n",
    "x_ev_vec = ROOT.std.vector(\"float\")()\n",
    "z_ev_vec = ROOT.std.vector(\"float\")()\n",
    "dx_ev_vec = ROOT.std.vector(\"float\")()\n",
    "pe_ev_vec = ROOT.std.vector(\"float\")()\n",
    "no_good_ev_vec=ROOT.std.vector(\"int\")()\n",
    "OutTree.Branch(\"ly_ev_vec\", ly_ev_vec)\n",
    "OutTree.Branch(\"x_ev_vec\", x_ev_vec)\n",
    "OutTree.Branch(\"z_ev_vec\", z_ev_vec)\n",
    "OutTree.Branch(\"dx_ev_vec\", dx_ev_vec)\n",
    "OutTree.Branch(\"pe_ev_vec\", pe_ev_vec)\n",
    "OutTree.Branch(\"no_good_ev_vec\", no_good_ev_vec)\n",
    "# print(x_ev)\n",
    "for no_good in no_good_ev:\n",
    "    no_good_ev_vec.push_back(no_good)\n",
    "for l,x,z,dx,pe in zip(ly_ev,x_ev,z_ev,dx_ev,pe_ev):\n",
    "    \n",
    "    # Clear the contents of the vector\n",
    "    ly_ev_vec.clear()\n",
    "    x_ev_vec.clear()\n",
    "    z_ev_vec.clear()\n",
    "    dx_ev_vec.clear()\n",
    "    pe_ev_vec.clear()\n",
    "    \n",
    "    # Replace the contents in the vector with the contents\n",
    "    # from the current array\n",
    "    ly_ev_vec.reserve(len(l))\n",
    "    x_ev_vec.reserve(len(x))\n",
    "    z_ev_vec.reserve(len(z))\n",
    "    dx_ev_vec.reserve(len(dx))\n",
    "    pe_ev_vec.reserve(len(pe))\n",
    "    \n",
    "\n",
    "    for il in l:\n",
    "        ly_ev_vec.push_back(il)\n",
    "    for ix in x:\n",
    "        x_ev_vec.push_back(ix)\n",
    "    for iz in z:\n",
    "        z_ev_vec.push_back(iz)\n",
    "    for idx in dx:\n",
    "        dx_ev_vec.push_back(idx)\n",
    "    for ipe in pe:\n",
    "        pe_ev_vec.push_back(ipe)\n",
    "        \n",
    "        \n",
    "    OutTree.Fill()\n",
    "\n",
    "OutTree.Write()\n",
    "myfile.Close()"
   ]
  },
  {
   "cell_type": "code",
   "execution_count": 45,
   "id": "e69e80cb-6fc5-4725-8aa5-a0ece64bd062",
   "metadata": {
    "tags": []
   },
   "outputs": [],
   "source": [
    "myfile=ROOT.TFile('/lustrehome/federicacuna/TB_Sept_2023_ml/root_file_predhit/pred_EXPdata_yz_sageconv.root','RECREATE')\n",
    "\n",
    "test_batch_ev=[]\n",
    "for ev_id in range(0,len(data_trk)):\n",
    "    test_batch_ev.append(data_trk[ev_id])\n",
    "    predicted_class_ev=[]\n",
    "    \n",
    "for i in test_batch_ev:\n",
    "    i.to(device)\n",
    "    model_output = best_model(i) \n",
    "    \n",
    "    predicted_class_ev.append((torch.where(model_output > 0.8, 1, 0)))\n",
    "\n",
    "         \n",
    "ly_ev=[]\n",
    "y_ev=[]\n",
    "z_ev=[]\n",
    "pe_ev=[]\n",
    "dy_ev=[]\n",
    "no_good_ev=[]\n",
    "for i in range(len(test_batch_ev)): \n",
    "    if all(element == 0 for element in test_batch_ev[i].x[:,2].tolist()):\n",
    "        continue\n",
    "    ev=test_batch_ev[i]\n",
    "    ev=ev.detach().cpu()\n",
    "    label = predicted_class_ev[i].detach().cpu().numpy()\n",
    "    ly_ev.append([])\n",
    "    y_ev.append([])\n",
    "    z_ev.append([])\n",
    "    pe_ev.append([])\n",
    "    dy_ev.append([])\n",
    "    if all(el==0 for el in label):\n",
    "    \n",
    "        no_good_ev.append(i)\n",
    "        # print(label)\n",
    "    for j,lab in enumerate(label):\n",
    "        # print(j)\n",
    "        # print(lab)\n",
    "        if lab==1:\n",
    "            tmp_ly=ev.x[j,2].detach().cpu().tolist()\n",
    "            tmp_y=ev.x[j,0].detach().cpu().tolist()\n",
    "            tmp_z=ev.x[j,3].detach().cpu().tolist() \n",
    "            tmp_dy=ev.x[j,1].detach().cpu().tolist() \n",
    "            # print(tmp_dx)\n",
    "            tmp_pe=ev.x[j,4].detach().cpu().tolist()\n",
    "            # print(tmp_pe)\n",
    "            ly_ev[i].append(tmp_ly)\n",
    "            y_ev[i].append(tmp_y)\n",
    "            z_ev[i].append(tmp_z)\n",
    "            dy_ev[i].append(tmp_dy)\n",
    "            pe_ev[i].append(tmp_pe)\n",
    "\n",
    "\n",
    "OutTree = ROOT.TTree(\"Reco_tree\", \"Reco_tree\")   \n",
    "ly_ev_vec = ROOT.std.vector(\"float\")()\n",
    "y_ev_vec = ROOT.std.vector(\"float\")()\n",
    "z_ev_vec = ROOT.std.vector(\"float\")()\n",
    "dy_ev_vec = ROOT.std.vector(\"float\")()\n",
    "pe_ev_vec = ROOT.std.vector(\"float\")()\n",
    "no_good_ev_vec=ROOT.std.vector(\"int\")()\n",
    "OutTree.Branch(\"ly_ev_vec\", ly_ev_vec)\n",
    "OutTree.Branch(\"y_ev_vec\", y_ev_vec)\n",
    "OutTree.Branch(\"z_ev_vec\", z_ev_vec)\n",
    "OutTree.Branch(\"dy_ev_vec\", dy_ev_vec)\n",
    "OutTree.Branch(\"pe_ev_vec\", pe_ev_vec)\n",
    "OutTree.Branch(\"no_good_ev_vec\", no_good_ev_vec)\n",
    "# print(x_ev)\n",
    "for no_good in no_good_ev:\n",
    "    no_good_ev_vec.push_back(no_good)\n",
    "        \n",
    "for l,y,z,dy,pe in zip(ly_ev,y_ev,z_ev,dy_ev,pe_ev):\n",
    "    \n",
    "    # Clear the contents of the vector\n",
    "    ly_ev_vec.clear()\n",
    "    y_ev_vec.clear()\n",
    "    z_ev_vec.clear()\n",
    "    dy_ev_vec.clear()\n",
    "    pe_ev_vec.clear()\n",
    "    \n",
    "    # Replace the contents in the vector with the contents\n",
    "    # from the current array\n",
    "    ly_ev_vec.reserve(len(l))\n",
    "    y_ev_vec.reserve(len(y))\n",
    "    z_ev_vec.reserve(len(z))\n",
    "    dy_ev_vec.reserve(len(dy))\n",
    "    pe_ev_vec.reserve(len(pe))\n",
    "    \n",
    "\n",
    "    for il in l:\n",
    "        ly_ev_vec.push_back(il)\n",
    "    for iy in y:\n",
    "        y_ev_vec.push_back(iy)\n",
    "    for iz in z:\n",
    "        z_ev_vec.push_back(iz)\n",
    "    for idy in dy:\n",
    "        dy_ev_vec.push_back(idy)\n",
    "    for ipe in pe:\n",
    "        pe_ev_vec.push_back(ipe)\n",
    "        \n",
    "        \n",
    "    OutTree.Fill()\n",
    "\n",
    "OutTree.Write()\n",
    "myfile.Close()"
   ]
  },
  {
   "cell_type": "code",
   "execution_count": null,
   "id": "4712f3f3-58eb-4157-8046-15462b6f827c",
   "metadata": {
    "tags": []
   },
   "outputs": [],
   "source": [
    "data=[]\n",
    "for i in range(len(test_batch_ev)):\n",
    "        data.append([i,x_ev[i],ly_ev[i],z_ev[i],dx_ev[i]])\n",
    "            \n",
    "df = pd.DataFrame(data, columns=['ev', 'x_hit', 'ly','z_hit','dx_hit'])"
   ]
  },
  {
   "cell_type": "code",
   "execution_count": null,
   "id": "8bb2655e-668b-4f9a-8010-7ec087bc37dc",
   "metadata": {},
   "outputs": [],
   "source": [
    "df_explode=df.explode(['x_hit','ly','z_hit','dx_hit'])"
   ]
  },
  {
   "cell_type": "code",
   "execution_count": null,
   "id": "42976bca-eb47-496b-a533-e73e0ab71acd",
   "metadata": {},
   "outputs": [],
   "source": [
    "df_explode.head()"
   ]
  },
  {
   "cell_type": "code",
   "execution_count": null,
   "id": "18d3f088-f041-4286-b1ad-f5c531016ee9",
   "metadata": {},
   "outputs": [],
   "source": [
    "from sklearn.linear_model import LinearRegression\n",
    "\n",
    "reg = LinearRegression().fit(np.array(df_explode[df_explode.ev==2].x_hit).reshape(-1,1), np.array(df_explode[df_explode.ev==2].z_hit))\n",
    "\n",
    "coeff=reg.coef_\n",
    "intercept=reg.intercept_\n",
    "x = np.linspace(-20, 20, 3)\n",
    "y=coeff*x+intercept\n",
    "plt.plot(x, y, color='red')\n",
    "plt.scatter(df_explode[df_explode.ev==2].x_hit,df_explode[df_explode.ev==2].z_hit)\n",
    "plt.ylim(-30,2000)"
   ]
  },
  {
   "cell_type": "code",
   "execution_count": null,
   "id": "825dee5e-e43f-41d7-b2dc-90aabe679adc",
   "metadata": {},
   "outputs": [],
   "source": [
    " # chi2 += ROOT.TMath.Power((x_hit[i][j] - ax_ev[i] * z_hit[i][j]- bx_ev[i]) / dx_hit[i][j], 2);"
   ]
  },
  {
   "cell_type": "code",
   "execution_count": null,
   "id": "261ef313-b78e-46a9-baa1-ab3aac2740cc",
   "metadata": {},
   "outputs": [],
   "source": [
    "df"
   ]
  },
  {
   "cell_type": "code",
   "execution_count": null,
   "id": "593c0b6b-0e3a-4e52-9ddd-958f06c3fe12",
   "metadata": {},
   "outputs": [],
   "source": [
    "df_explode"
   ]
  },
  {
   "cell_type": "code",
   "execution_count": null,
   "id": "6d863fab-ddb8-4fd9-a13e-f9ae27153b88",
   "metadata": {},
   "outputs": [],
   "source": []
  }
 ],
 "metadata": {
  "kernelspec": {
   "display_name": "py_env",
   "language": "python",
   "name": "py_env"
  },
  "language_info": {
   "codemirror_mode": {
    "name": "ipython",
    "version": 3
   },
   "file_extension": ".py",
   "mimetype": "text/x-python",
   "name": "python",
   "nbconvert_exporter": "python",
   "pygments_lexer": "ipython3",
   "version": "3.8.2"
  }
 },
 "nbformat": 4,
 "nbformat_minor": 5
}
