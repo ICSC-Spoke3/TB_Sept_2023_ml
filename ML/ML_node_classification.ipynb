{
 "cells": [
  {
   "cell_type": "code",
   "execution_count": null,
   "id": "45da190c-bd34-4d66-991b-c496049f3038",
   "metadata": {
    "tags": []
   },
   "outputs": [],
   "source": [
    "# %pip install xgboost\n",
    "# %pip install shap"
   ]
  },
  {
   "cell_type": "code",
   "execution_count": 1,
   "id": "ce5a3d01-ff9c-4979-8ca0-c3d93da45982",
   "metadata": {
    "tags": []
   },
   "outputs": [
    {
     "name": "stderr",
     "output_type": "stream",
     "text": [
      "ERROR in cling::CIFactory::createCI(): cannot extract standard library include paths!\n",
      "Invoking:\n",
      "  x86_64-conda_cos6-linux-gnu-c++  -O3 -DNDEBUG -xc++ -E -v /dev/null 2>&1 | sed -n -e '/^.include/,${' -e '/^ \\/.*++/p' -e '}'\n",
      "Results was:\n",
      "With exit code 0\n"
     ]
    },
    {
     "name": "stdout",
     "output_type": "stream",
     "text": [
      "Welcome to JupyROOT 6.20/02\n"
     ]
    }
   ],
   "source": [
    "import pandas as pd\n",
    "import os\n",
    "import numpy as np\n",
    "import seaborn as sns\n",
    "import sys\n",
    "import matplotlib.pyplot as plt\n",
    "import ROOT"
   ]
  },
  {
   "cell_type": "code",
   "execution_count": 2,
   "id": "6efb8848-e179-42fc-bfba-c957beedf52b",
   "metadata": {
    "tags": []
   },
   "outputs": [],
   "source": [
    "from sklearn.model_selection import train_test_split\n",
    "from sklearn.linear_model import LogisticRegression\n",
    "from sklearn.metrics import accuracy_score\n",
    "from sklearn.metrics import roc_auc_score, f1_score\n",
    "from sklearn.metrics import RocCurveDisplay,roc_curve,auc,recall_score\n",
    "import xgboost as xgb\n",
    "from numpy import loadtxt\n",
    "from xgboost import XGBClassifier\n",
    "from sklearn.model_selection import StratifiedKFold,RepeatedStratifiedKFold\n",
    "from sklearn.preprocessing import StandardScaler\n",
    "from sklearn.linear_model import LogisticRegression\n",
    "from sklearn.pipeline import make_pipeline\n",
    "from sklearn.metrics import accuracy_score,recall_score,roc_auc_score,precision_score\n",
    "from sklearn.ensemble import RandomForestClassifier\n",
    "from sklearn import metrics\n",
    "import glob\n",
    "from sklearn.model_selection import GridSearchCV\n",
    "import shap"
   ]
  },
  {
   "cell_type": "code",
   "execution_count": null,
   "id": "e3bfaa09-e6e3-4253-94b3-1b0e74c27897",
   "metadata": {
    "tags": []
   },
   "outputs": [],
   "source": [
    "# import pandas as pd\n",
    "# import numpy as np  \n",
    "# import seaborn as sns \n",
    "# import matplotlib.pyplot as plt\n",
    "# from sklearn import preprocessing\n",
    "# from sklearn.model_selection import train_test_split\n",
    "# from sklearn.linear_model import LinearRegression\n",
    "# from sklearn.model_selection import cross_val_score,KFold\n",
    "# from sklearn.metrics import mean_absolute_error, r2_score, mean_squared_error\n",
    "# from sklearn.ensemble import RandomForestRegressor\n",
    "# from scipy.stats import pearsonr\n",
    "# import shap\n",
    "# from xgboost import XGBClassifier\n",
    "# from sklearn.model_selection import StratifiedKFold,RepeatedStratifiedKFold\n",
    "# from sklearn.preprocessing import StandardScaler\n",
    "\n",
    "# from sklearn.ensemble import RandomForestClassifier\n",
    "# from sklearn.pipeline import make_pipeline\n",
    "# from sklearn.metrics import accuracy_score,recall_score,roc_auc_score\n",
    "# from sklearn.impute import SimpleImputer"
   ]
  },
  {
   "cell_type": "code",
   "execution_count": 35,
   "id": "46aa07b0-c8cf-4818-bb67-846a49196a60",
   "metadata": {
    "tags": []
   },
   "outputs": [
    {
     "name": "stdout",
     "output_type": "stream",
     "text": [
      "CPU times: user 10.7 ms, sys: 10.4 ms, total: 21.1 ms\n",
      "Wall time: 20.7 ms\n"
     ]
    }
   ],
   "source": [
    "%%time\n",
    "folder_path = '../../Data/preprocessed/normalized/raw/pi-_10GeV_4ly_3e-4_inclined_4ly/'\n",
    "file_list = glob.glob(folder_path + 'TrkData_viewy_cl_TB_2023_T10_Sept_pi-Mono_10000_inclined_10000-evt-*_pitch0.25node_df.parquet')\n",
    "file_list = sorted(file_list, key=lambda x: int(x.split('evt-')[1].split('_')[0]))"
   ]
  },
  {
   "cell_type": "code",
   "execution_count": 36,
   "id": "f39b463b-9609-4a7c-8fd9-9ee604582f5a",
   "metadata": {
    "tags": []
   },
   "outputs": [
    {
     "name": "stdout",
     "output_type": "stream",
     "text": [
      "CPU times: user 24.5 ms, sys: 13.7 ms, total: 38.2 ms\n",
      "Wall time: 36.4 ms\n"
     ]
    }
   ],
   "source": [
    "%%time\n",
    "folder_path2 = '../../Data/preprocessed/normalized/raw/pi-_10GeV_4ly_1e-4_inclined_4ly/'\n",
    "file_list2 = glob.glob(folder_path2 + 'TrkData_viewy_cl_TB_2023_T10_Sept_pi-Mono_10000_inclined_10000-evt-*_pitch0.25node_df.parquet')\n",
    "file_list2 = sorted(file_list2, key=lambda x: int(x.split('evt-')[1].split('_')[0]))"
   ]
  },
  {
   "cell_type": "code",
   "execution_count": 37,
   "id": "6e2b7fb2-741b-4fe5-9dae-0ea0a46efef4",
   "metadata": {
    "tags": []
   },
   "outputs": [
    {
     "name": "stdout",
     "output_type": "stream",
     "text": [
      "CPU times: user 50.7 s, sys: 47 s, total: 1min 37s\n",
      "Wall time: 2min 33s\n"
     ]
    }
   ],
   "source": [
    "%%time\n",
    "file_list=file_list[:250]+file_list2[:250]\n",
    "\n",
    "node_df_pi = pd.DataFrame()\n",
    "\n",
    "for file_path in file_list:\n",
    "    df = pd.read_parquet(file_path)\n",
    "    node_df_pi = pd.concat([node_df_pi, df], ignore_index=True)"
   ]
  },
  {
   "cell_type": "code",
   "execution_count": 40,
   "id": "737964f2-c5e9-4356-987c-6ac136c50214",
   "metadata": {
    "tags": []
   },
   "outputs": [
    {
     "name": "stdout",
     "output_type": "stream",
     "text": [
      "CPU times: user 219 ms, sys: 110 ms, total: 329 ms\n",
      "Wall time: 319 ms\n"
     ]
    }
   ],
   "source": [
    "%%time\n",
    "node_df_pi=node_df_pi.drop(columns=['Ev'])\n",
    "node_df_pi=node_df_pi.drop(columns=['idx_node'])\n",
    "node_df_pi=node_df_pi.drop(columns=['yMC'])"
   ]
  },
  {
   "cell_type": "code",
   "execution_count": 41,
   "id": "a5e0e3f4-5940-4956-aecc-1a40a27e1793",
   "metadata": {
    "tags": []
   },
   "outputs": [
    {
     "name": "stdout",
     "output_type": "stream",
     "text": [
      "CPU times: user 283 ms, sys: 30.3 ms, total: 314 ms\n",
      "Wall time: 281 ms\n"
     ]
    },
    {
     "data": {
      "text/plain": [
       "<AxesSubplot: >"
      ]
     },
     "execution_count": 41,
     "metadata": {},
     "output_type": "execute_result"
    },
    {
     "data": {
      "image/png": "[encoded data removed]",
      "text/plain": [
       "<Figure size 640x480 with 1 Axes>"
      ]
     },
     "metadata": {},
     "output_type": "display_data"
    }
   ],
   "source": [
    "%%time\n",
    "hit_count = node_df_pi['hit_class'].value_counts().sort_index()\n",
    "hit_count/=len(node_df_pi)\n",
    "hit_count.plot(kind='bar', rot=1, color=['blue', 'orange'])"
   ]
  },
  {
   "cell_type": "code",
   "execution_count": 121,
   "id": "1ede9eac-fc65-4a16-b60b-3305e9310306",
   "metadata": {
    "tags": []
   },
   "outputs": [
    {
     "data": {
      "text/html": [
       "<div>\n",
       "<style scoped>\n",
       "    .dataframe tbody tr th:only-of-type {\n",
       "        vertical-align: middle;\n",
       "    }\n",
       "\n",
       "    .dataframe tbody tr th {\n",
       "        vertical-align: top;\n",
       "    }\n",
       "\n",
       "    .dataframe thead th {\n",
       "        text-align: right;\n",
       "    }\n",
       "</style>\n",
       "<table border=\"1\" class=\"dataframe\">\n",
       "  <thead>\n",
       "    <tr style=\"text-align: right;\">\n",
       "      <th></th>\n",
       "      <th>ly</th>\n",
       "      <th>y_hit</th>\n",
       "      <th>zy_hit</th>\n",
       "      <th>dy_hit</th>\n",
       "      <th>PE</th>\n",
       "      <th>PID</th>\n",
       "      <th>hit_class</th>\n",
       "    </tr>\n",
       "  </thead>\n",
       "  <tbody>\n",
       "    <tr>\n",
       "      <th>0</th>\n",
       "      <td>0</td>\n",
       "      <td>0.326</td>\n",
       "      <td>-29.534</td>\n",
       "      <td>0.06</td>\n",
       "      <td>24</td>\n",
       "      <td>-211.0</td>\n",
       "      <td>1</td>\n",
       "    </tr>\n",
       "    <tr>\n",
       "      <th>1</th>\n",
       "      <td>0</td>\n",
       "      <td>14.298</td>\n",
       "      <td>-29.534</td>\n",
       "      <td>2.36</td>\n",
       "      <td>9</td>\n",
       "      <td>-999.0</td>\n",
       "      <td>0</td>\n",
       "    </tr>\n",
       "    <tr>\n",
       "      <th>2</th>\n",
       "      <td>1</td>\n",
       "      <td>6.249</td>\n",
       "      <td>1165.594</td>\n",
       "      <td>0.92</td>\n",
       "      <td>11</td>\n",
       "      <td>-211.0</td>\n",
       "      <td>1</td>\n",
       "    </tr>\n",
       "    <tr>\n",
       "      <th>3</th>\n",
       "      <td>1</td>\n",
       "      <td>9.659</td>\n",
       "      <td>1165.594</td>\n",
       "      <td>2.02</td>\n",
       "      <td>10</td>\n",
       "      <td>-999.0</td>\n",
       "      <td>0</td>\n",
       "    </tr>\n",
       "    <tr>\n",
       "      <th>4</th>\n",
       "      <td>2</td>\n",
       "      <td>6.531</td>\n",
       "      <td>1207.858</td>\n",
       "      <td>0.77</td>\n",
       "      <td>39</td>\n",
       "      <td>-211.0</td>\n",
       "      <td>1</td>\n",
       "    </tr>\n",
       "  </tbody>\n",
       "</table>\n",
       "</div>"
      ],
      "text/plain": [
       "   ly   y_hit    zy_hit  dy_hit  PE    PID  hit_class\n",
       "0   0   0.326   -29.534    0.06  24 -211.0          1\n",
       "1   0  14.298   -29.534    2.36   9 -999.0          0\n",
       "2   1   6.249  1165.594    0.92  11 -211.0          1\n",
       "3   1   9.659  1165.594    2.02  10 -999.0          0\n",
       "4   2   6.531  1207.858    0.77  39 -211.0          1"
      ]
     },
     "execution_count": 121,
     "metadata": {},
     "output_type": "execute_result"
    }
   ],
   "source": [
    "node_df_pi.head()"
   ]
  },
  {
   "cell_type": "code",
   "execution_count": 13,
   "id": "5fe25d43-9111-4272-89e3-5aa7d72aa17b",
   "metadata": {
    "tags": []
   },
   "outputs": [],
   "source": [
    "%%time\n",
    "X = node_df_pi.drop(['hit_class','PID'],axis=1)\n",
    "\n",
    "\n",
    "y=node_df_pi.hit_class\n",
    "y_true=list()\n",
    "y_pred=list()\n",
    "y_testlist=[]\n",
    "all_prob=[]\n",
    "\n",
    "#rfc=XGBClassifier(random_state=0)\n",
    "\n",
    "\n",
    "accuracy=[]\n",
    "sensitivity=[]\n",
    "specificity=[]\n",
    "rocauc=[]\n",
    "list_shap_values=[]\n",
    "list_test_sets=[]   \n",
    "\n",
    "# for i in range(0,50):\n",
    "subject=[]\n",
    "label=[]\n",
    "y_hat=[]\n",
    "prob=[]\n",
    "#kfold=StratifiedKFold(n_splits=5,random_state=i,shuffle=True)\n",
    "df=node_df_pi#.drop(['Subject','Label'],axis=1)\n",
    "#df.reset_index(inplace=True)\n",
    "kfold=RepeatedStratifiedKFold(n_splits=5,n_repeats=1,random_state=0)#1/10 sono i dati del test, i restanti al train\n",
    "imputer = SimpleImputer(strategy='mean', missing_values=np.nan)\n",
    "\n",
    "for k, (train_index,test_index) in enumerate(kfold.split(df,y)):\n",
    "\n",
    "    #rfc=RandomForestClassifier(random_state=0)\n",
    "    rfc=XGBClassifier(random_state=0)\n",
    "\n",
    "    X_train = X.iloc[train_index]\n",
    "    X_val = X.iloc[test_index]\n",
    "    y_train = y[train_index]\n",
    "    \n",
    "    y_val=y.iloc[test_index]\n",
    "\n",
    "    #try simpleinputer\n",
    "    # imputer = imputer.fit(X_train)\n",
    "    # X_train=imputer.transform(X_train)\n",
    "    # X_val=imputer.transform(X_val)\n",
    "        \n",
    "\n",
    "    pipe_lr=make_pipeline(StandardScaler(),rfc\n",
    "                          )\n",
    "    \n",
    "    pipe_lr.fit(X_train,y_train)\n",
    "  \n",
    "\n",
    "  \n",
    "\n",
    "\n",
    "    label=np.append(label,y_val.values).astype(int)\n",
    "    y_hats=pipe_lr.predict(X_val)\n",
    "    y_hat=np.append(y_hat,y_hats).astype(int)\n",
    "    #y_hat.append(y_hats)\n",
    "    \n",
    "    probs=pipe_lr.predict_proba(X_val)[:,1]\n",
    "    prob=np.append(prob,probs)\n",
    "  \n",
    "\n",
    "    y_testlist.append(y_val)\n",
    "    all_prob.append(prob)\n",
    "    \n",
    "     \n",
    "    #explaining model\n",
    "    explainer =  shap.Explainer(rfc,X_train,model_output='probability')      \n",
    "    shap_values=explainer(X_val)\n",
    "    #for each iteration we save the test_set index and the shap_values\n",
    "    list_shap_values.append(shap_values)\n",
    "    list_test_sets.append(test_index)\n",
    "    \n",
    "    \n",
    "    ## #SHAP VALUES \n",
    "    # explainer = shap.TreeExplainer(rfc)\n",
    "    # shap_values = explainer.shap_values(X_val)\n",
    "    # #for each iteration we save the test_set index and the shap_values\n",
    "    # list_shap_values.append(shap_values)\n",
    "    # list_test_sets.append(test_index)\n",
    "\n",
    "    \n",
    "    acc=accuracy_score(label, y_hat)\n",
    "    sens=recall_score(label, y_hat,pos_label=1)\n",
    "    spec=recall_score(label, y_hat,pos_label=0)\n",
    "    accuracy.append(acc)\n",
    "    sensitivity.append(sens)\n",
    "    specificity.append(spec)\n",
    "\n",
    "    auc=roc_auc_score(label,prob)\n",
    "    rocauc.append(auc)"
   ]
  },
  {
   "cell_type": "code",
   "execution_count": 24,
   "id": "5f634960-f9ef-458f-b93a-96ac869c932c",
   "metadata": {
    "tags": []
   },
   "outputs": [
    {
     "name": "stdout",
     "output_type": "stream",
     "text": [
      "Accuracy: 0.9611 +/- (0.0003):\n",
      "Sensitivity: 0.969 +/- (0.0003):\n",
      "Specificity: 0.9536 +/- (0.0003):\n",
      "ROC AUC: 0.9897 +/- (0.0001)\n"
     ]
    }
   ],
   "source": [
    "    \n",
    "print('Accuracy: %.4f +/- (%.4f):\\nSensitivity: %.3f +/- (%.4f):\\nSpecificity: %.4f +/- (%.4f):\\nROC AUC: %.4f +/- (%.4f)' % (np.mean(accuracy),np.std(accuracy),np.mean(sensitivity),np.std(sensitivity),np.mean(specificity),np.std(specificity),np.mean(rocauc),np.std(rocauc)))"
   ]
  },
  {
   "cell_type": "code",
   "execution_count": 20,
   "id": "bc550e02-f871-4898-a2ee-002e63ac2c63",
   "metadata": {
    "tags": []
   },
   "outputs": [
    {
     "data": {
      "image/png": "[encoded data removed]",
      "text/plain": [
       "<Figure size 800x350 with 2 Axes>"
      ]
     },
     "metadata": {},
     "output_type": "display_data"
    }
   ],
   "source": [
    "#%%\n",
    "#combining results from all iterations\n",
    "test_set = list_test_sets[0]\n",
    "shapValue = np.array(list_shap_values[0].values)\n",
    "\n",
    "for i in range(1,len(list_test_sets)):\n",
    "    test_set = np.concatenate((test_set,list_test_sets[i]),axis=0)\n",
    "    shapValue = np.concatenate((shapValue,np.array(list_shap_values[i].values)),axis=0)\n",
    "#bringing back variable names\n",
    "X_test = node_df_pi.drop(['hit_class','PID'],axis=1).iloc[test_set]\n",
    "X_val = pd.DataFrame(node_df_pi.iloc[test_set],columns=node_df_pi.iloc[:,:].columns)\n",
    "shap.summary_plot(shapValue,X_test,feature_names=X_test.columns)#,plot_type='layered_violin')"
   ]
  },
  {
   "cell_type": "code",
   "execution_count": 21,
   "id": "317aba88-c9b5-4273-b621-3a8c2824da20",
   "metadata": {
    "tags": []
   },
   "outputs": [],
   "source": [
    "# #%%Random forest\n",
    "# #%%\n",
    "# #combining results from all iterations\n",
    "# test_set = list_test_sets[0] \n",
    "# shap_values = np.array(list_shap_values[0])\n",
    "# for i in range(1,len(list_test_sets)):\n",
    "#     test_set = np.concatenate((test_set,list_test_sets[i]),axis=0)\n",
    "#     shap_values = np.concatenate((shap_values,np.array(list_shap_values[i])),axis=1)#da problemi perchè l'ultimo fold è da 21 righe mentre gli altri sono da 22\n",
    "#     #shap_values=np.row_stack((shap_values,np.array(list_shap_values[i])))\n",
    "# #print(type(pd_abundance_T))\n",
    "# #pd_abundance_T.info()\n",
    "# #bringing back variable names  \n",
    "# columns=X.columns\n",
    "# #print(columns)\n",
    "# X_val = pd.DataFrame(node_df_pi.iloc[test_set],columns=columns)\n",
    "# #X_val.drop(['provincia','morti reali','morti attese'],axis=1,inplace=True)\n",
    "# shap.summary_plot(shap_values[1], X_val, feature_names=columns)"
   ]
  },
  {
   "cell_type": "code",
   "execution_count": 32,
   "id": "d2db67af-4ac9-471c-88c3-67bace39d6a8",
   "metadata": {
    "tags": []
   },
   "outputs": [
    {
     "data": {
      "text/html": [
       "<div>\n",
       "<style scoped>\n",
       "    .dataframe tbody tr th:only-of-type {\n",
       "        vertical-align: middle;\n",
       "    }\n",
       "\n",
       "    .dataframe tbody tr th {\n",
       "        vertical-align: top;\n",
       "    }\n",
       "\n",
       "    .dataframe thead th {\n",
       "        text-align: right;\n",
       "    }\n",
       "</style>\n",
       "<table border=\"1\" class=\"dataframe\">\n",
       "  <thead>\n",
       "    <tr style=\"text-align: right;\">\n",
       "      <th></th>\n",
       "      <th>ly</th>\n",
       "      <th>x_hit</th>\n",
       "      <th>zx_hit</th>\n",
       "      <th>dx_hit</th>\n",
       "      <th>PE</th>\n",
       "      <th>PID</th>\n",
       "      <th>hit_class</th>\n",
       "    </tr>\n",
       "  </thead>\n",
       "  <tbody>\n",
       "    <tr>\n",
       "      <th>0</th>\n",
       "      <td>0</td>\n",
       "      <td>-1.733</td>\n",
       "      <td>-30.621</td>\n",
       "      <td>0.21</td>\n",
       "      <td>37</td>\n",
       "      <td>-211.0</td>\n",
       "      <td>1</td>\n",
       "    </tr>\n",
       "    <tr>\n",
       "      <th>1</th>\n",
       "      <td>0</td>\n",
       "      <td>3.451</td>\n",
       "      <td>-30.621</td>\n",
       "      <td>0.65</td>\n",
       "      <td>12</td>\n",
       "      <td>-999.0</td>\n",
       "      <td>0</td>\n",
       "    </tr>\n",
       "    <tr>\n",
       "      <th>2</th>\n",
       "      <td>1</td>\n",
       "      <td>7.341</td>\n",
       "      <td>1164.535</td>\n",
       "      <td>1.07</td>\n",
       "      <td>22</td>\n",
       "      <td>-211.0</td>\n",
       "      <td>1</td>\n",
       "    </tr>\n",
       "    <tr>\n",
       "      <th>3</th>\n",
       "      <td>2</td>\n",
       "      <td>7.552</td>\n",
       "      <td>1202.035</td>\n",
       "      <td>0.99</td>\n",
       "      <td>28</td>\n",
       "      <td>-211.0</td>\n",
       "      <td>1</td>\n",
       "    </tr>\n",
       "    <tr>\n",
       "      <th>4</th>\n",
       "      <td>3</td>\n",
       "      <td>-5.549</td>\n",
       "      <td>1787.392</td>\n",
       "      <td>1.06</td>\n",
       "      <td>12</td>\n",
       "      <td>-999.0</td>\n",
       "      <td>0</td>\n",
       "    </tr>\n",
       "  </tbody>\n",
       "</table>\n",
       "</div>"
      ],
      "text/plain": [
       "   ly  x_hit    zx_hit  dx_hit  PE    PID  hit_class\n",
       "0   0 -1.733   -30.621    0.21  37 -211.0          1\n",
       "1   0  3.451   -30.621    0.65  12 -999.0          0\n",
       "2   1  7.341  1164.535    1.07  22 -211.0          1\n",
       "3   2  7.552  1202.035    0.99  28 -211.0          1\n",
       "4   3 -5.549  1787.392    1.06  12 -999.0          0"
      ]
     },
     "execution_count": 32,
     "metadata": {},
     "output_type": "execute_result"
    }
   ],
   "source": [
    "node_df_pi.head()"
   ]
  },
  {
   "cell_type": "code",
   "execution_count": 42,
   "id": "e1499575-da35-4e7c-bac4-2269ae4a9f50",
   "metadata": {},
   "outputs": [
    {
     "name": "stdout",
     "output_type": "stream",
     "text": [
      "CPU times: user 6min 34s, sys: 2.94 s, total: 6min 37s\n",
      "Wall time: 34.4 s\n"
     ]
    },
    {
     "data": {
      "text/html": [
       "<style>#sk-container-id-2 {color: black;background-color: white;}#sk-container-id-2 pre{padding: 0;}#sk-container-id-2 div.sk-toggleable {background-color: white;}#sk-container-id-2 label.sk-toggleable__label {cursor: pointer;display: block;width: 100%;margin-bottom: 0;padding: 0.3em;box-sizing: border-box;text-align: center;}#sk-container-id-2 label.sk-toggleable__label-arrow:before {content: \"▸\";float: left;margin-right: 0.25em;color: #696969;}#sk-container-id-2 label.sk-toggleable__label-arrow:hover:before {color: black;}#sk-container-id-2 div.sk-estimator:hover label.sk-toggleable__label-arrow:before {color: black;}#sk-container-id-2 div.sk-toggleable__content {max-height: 0;max-width: 0;overflow: hidden;text-align: left;background-color: #f0f8ff;}#sk-container-id-2 div.sk-toggleable__content pre {margin: 0.2em;color: black;border-radius: 0.25em;background-color: #f0f8ff;}#sk-container-id-2 input.sk-toggleable__control:checked~div.sk-toggleable__content {max-height: 200px;max-width: 100%;overflow: auto;}#sk-container-id-2 input.sk-toggleable__control:checked~label.sk-toggleable__label-arrow:before {content: \"▾\";}#sk-container-id-2 div.sk-estimator input.sk-toggleable__control:checked~label.sk-toggleable__label {background-color: #d4ebff;}#sk-container-id-2 div.sk-label input.sk-toggleable__control:checked~label.sk-toggleable__label {background-color: #d4ebff;}#sk-container-id-2 input.sk-hidden--visually {border: 0;clip: rect(1px 1px 1px 1px);clip: rect(1px, 1px, 1px, 1px);height: 1px;margin: -1px;overflow: hidden;padding: 0;position: absolute;width: 1px;}#sk-container-id-2 div.sk-estimator {font-family: monospace;background-color: #f0f8ff;border: 1px dotted black;border-radius: 0.25em;box-sizing: border-box;margin-bottom: 0.5em;}#sk-container-id-2 div.sk-estimator:hover {background-color: #d4ebff;}#sk-container-id-2 div.sk-parallel-item::after {content: \"\";width: 100%;border-bottom: 1px solid gray;flex-grow: 1;}#sk-container-id-2 div.sk-label:hover label.sk-toggleable__label {background-color: #d4ebff;}#sk-container-id-2 div.sk-serial::before {content: \"\";position: absolute;border-left: 1px solid gray;box-sizing: border-box;top: 0;bottom: 0;left: 50%;z-index: 0;}#sk-container-id-2 div.sk-serial {display: flex;flex-direction: column;align-items: center;background-color: white;padding-right: 0.2em;padding-left: 0.2em;position: relative;}#sk-container-id-2 div.sk-item {position: relative;z-index: 1;}#sk-container-id-2 div.sk-parallel {display: flex;align-items: stretch;justify-content: center;background-color: white;position: relative;}#sk-container-id-2 div.sk-item::before, #sk-container-id-2 div.sk-parallel-item::before {content: \"\";position: absolute;border-left: 1px solid gray;box-sizing: border-box;top: 0;bottom: 0;left: 50%;z-index: -1;}#sk-container-id-2 div.sk-parallel-item {display: flex;flex-direction: column;z-index: 1;position: relative;background-color: white;}#sk-container-id-2 div.sk-parallel-item:first-child::after {align-self: flex-end;width: 50%;}#sk-container-id-2 div.sk-parallel-item:last-child::after {align-self: flex-start;width: 50%;}#sk-container-id-2 div.sk-parallel-item:only-child::after {width: 0;}#sk-container-id-2 div.sk-dashed-wrapped {border: 1px dashed gray;margin: 0 0.4em 0.5em 0.4em;box-sizing: border-box;padding-bottom: 0.4em;background-color: white;}#sk-container-id-2 div.sk-label label {font-family: monospace;font-weight: bold;display: inline-block;line-height: 1.2em;}#sk-container-id-2 div.sk-label-container {text-align: center;}#sk-container-id-2 div.sk-container {/* jupyter's `normalize.less` sets `[hidden] { display: none; }` but bootstrap.min.css set `[hidden] { display: none !important; }` so we also need the `!important` here to be able to override the default hidden behavior on the sphinx rendered scikit-learn.org. See: https://github.com/scikit-learn/scikit-learn/issues/21755 */display: inline-block !important;position: relative;}#sk-container-id-2 div.sk-text-repr-fallback {display: none;}</style><div id=\"sk-container-id-2\" class=\"sk-top-container\"><div class=\"sk-text-repr-fallback\"><pre>XGBClassifier(base_score=None, booster=None, callbacks=None,\n",
       "              colsample_bylevel=None, colsample_bynode=None,\n",
       "              colsample_bytree=None, device=None, early_stopping_rounds=None,\n",
       "              enable_categorical=False, eval_metric=None, feature_types=None,\n",
       "              gamma=None, grow_policy=None, importance_type=None,\n",
       "              interaction_constraints=None, learning_rate=None, max_bin=None,\n",
       "              max_cat_threshold=None, max_cat_to_onehot=None,\n",
       "              max_delta_step=None, max_depth=None, max_leaves=None,\n",
       "              min_child_weight=None, missing=nan, monotone_constraints=None,\n",
       "              multi_strategy=None, n_estimators=None, n_jobs=None,\n",
       "              num_parallel_tree=None, random_state=None, ...)</pre><b>In a Jupyter environment, please rerun this cell to show the HTML representation or trust the notebook. <br />On GitHub, the HTML representation is unable to render, please try loading this page with nbviewer.org.</b></div><div class=\"sk-container\" hidden><div class=\"sk-item\"><div class=\"sk-estimator sk-toggleable\"><input class=\"sk-toggleable__control sk-hidden--visually\" id=\"sk-estimator-id-2\" type=\"checkbox\" checked><label for=\"sk-estimator-id-2\" class=\"sk-toggleable__label sk-toggleable__label-arrow\">XGBClassifier</label><div class=\"sk-toggleable__content\"><pre>XGBClassifier(base_score=None, booster=None, callbacks=None,\n",
       "              colsample_bylevel=None, colsample_bynode=None,\n",
       "              colsample_bytree=None, device=None, early_stopping_rounds=None,\n",
       "              enable_categorical=False, eval_metric=None, feature_types=None,\n",
       "              gamma=None, grow_policy=None, importance_type=None,\n",
       "              interaction_constraints=None, learning_rate=None, max_bin=None,\n",
       "              max_cat_threshold=None, max_cat_to_onehot=None,\n",
       "              max_delta_step=None, max_depth=None, max_leaves=None,\n",
       "              min_child_weight=None, missing=nan, monotone_constraints=None,\n",
       "              multi_strategy=None, n_estimators=None, n_jobs=None,\n",
       "              num_parallel_tree=None, random_state=None, ...)</pre></div></div></div></div></div>"
      ],
      "text/plain": [
       "XGBClassifier(base_score=None, booster=None, callbacks=None,\n",
       "              colsample_bylevel=None, colsample_bynode=None,\n",
       "              colsample_bytree=None, device=None, early_stopping_rounds=None,\n",
       "              enable_categorical=False, eval_metric=None, feature_types=None,\n",
       "              gamma=None, grow_policy=None, importance_type=None,\n",
       "              interaction_constraints=None, learning_rate=None, max_bin=None,\n",
       "              max_cat_threshold=None, max_cat_to_onehot=None,\n",
       "              max_delta_step=None, max_depth=None, max_leaves=None,\n",
       "              min_child_weight=None, missing=nan, monotone_constraints=None,\n",
       "              multi_strategy=None, n_estimators=None, n_jobs=None,\n",
       "              num_parallel_tree=None, random_state=None, ...)"
      ]
     },
     "execution_count": 42,
     "metadata": {},
     "output_type": "execute_result"
    }
   ],
   "source": [
    "%%time\n",
    "# # param_grid = {\n",
    "# #     'max_depth': [3, 5, 7],\n",
    "# #     'learning_rate': [0.1, 0.01, 0.001],\n",
    "# #     'subsample': [0.5, 0.7, 1],\n",
    "# #     'reg_alpha':[0, 0.5, 1, 5],\n",
    "# #     'reg_lambda':[0, 0.5, 1, 5]   \n",
    "# # }\n",
    "xgb_model = xgb.XGBClassifier()\n",
    "# Fit the GridSearchCV object to the training data\n",
    "X_train, X_test, y_train, y_test = train_test_split(node_df_pi.iloc[:,:-2], node_df_pi.iloc[:,-1], test_size=0.2, random_state=0)\n",
    "xgb_model.fit(X_train, y_train)\n"
   ]
  },
  {
   "cell_type": "code",
   "execution_count": 43,
   "id": "f6855bba-37db-4643-899b-b0bb5a416899",
   "metadata": {
    "tags": []
   },
   "outputs": [],
   "source": [
    "predictions = xgb_model.predict(X_test)\n",
    "\n",
    "#Calculating accuracy\n",
    "accuracy = accuracy_score(y_test, predictions)\n",
    "recall=recall_score(y_test, predictions)\n",
    "precision=precision_score(y_test, predictions)"
   ]
  },
  {
   "cell_type": "code",
   "execution_count": 14,
   "id": "1459339d-aba2-4e24-94b8-c6517158ed55",
   "metadata": {
    "tags": []
   },
   "outputs": [
    {
     "name": "stdout",
     "output_type": "stream",
     "text": [
      "0.9608585328538312 0.968584130433217 0.9516931832924197\n"
     ]
    }
   ],
   "source": [
    "print(accuracy, recall, precision)"
   ]
  },
  {
   "cell_type": "code",
   "execution_count": 125,
   "id": "d4e1d47c-d24b-49d7-85a5-b727d24bc504",
   "metadata": {
    "tags": []
   },
   "outputs": [
    {
     "data": {
      "text/html": [
       "<div>\n",
       "<style scoped>\n",
       "    .dataframe tbody tr th:only-of-type {\n",
       "        vertical-align: middle;\n",
       "    }\n",
       "\n",
       "    .dataframe tbody tr th {\n",
       "        vertical-align: top;\n",
       "    }\n",
       "\n",
       "    .dataframe thead th {\n",
       "        text-align: right;\n",
       "    }\n",
       "</style>\n",
       "<table border=\"1\" class=\"dataframe\">\n",
       "  <thead>\n",
       "    <tr style=\"text-align: right;\">\n",
       "      <th></th>\n",
       "      <th>ly</th>\n",
       "      <th>y_hit</th>\n",
       "      <th>zy_hit</th>\n",
       "      <th>dy_hit</th>\n",
       "      <th>PE</th>\n",
       "    </tr>\n",
       "  </thead>\n",
       "  <tbody>\n",
       "    <tr>\n",
       "      <th>1179799</th>\n",
       "      <td>0</td>\n",
       "      <td>-10.734</td>\n",
       "      <td>-29.317</td>\n",
       "      <td>2.00</td>\n",
       "      <td>7</td>\n",
       "    </tr>\n",
       "    <tr>\n",
       "      <th>13965630</th>\n",
       "      <td>3</td>\n",
       "      <td>-13.216</td>\n",
       "      <td>1788.441</td>\n",
       "      <td>2.09</td>\n",
       "      <td>10</td>\n",
       "    </tr>\n",
       "    <tr>\n",
       "      <th>135260</th>\n",
       "      <td>2</td>\n",
       "      <td>1.184</td>\n",
       "      <td>1207.955</td>\n",
       "      <td>0.25</td>\n",
       "      <td>10</td>\n",
       "    </tr>\n",
       "    <tr>\n",
       "      <th>23751491</th>\n",
       "      <td>1</td>\n",
       "      <td>-3.868</td>\n",
       "      <td>1165.680</td>\n",
       "      <td>0.53</td>\n",
       "      <td>19</td>\n",
       "    </tr>\n",
       "    <tr>\n",
       "      <th>8784892</th>\n",
       "      <td>3</td>\n",
       "      <td>0.805</td>\n",
       "      <td>1788.465</td>\n",
       "      <td>0.10</td>\n",
       "      <td>29</td>\n",
       "    </tr>\n",
       "    <tr>\n",
       "      <th>...</th>\n",
       "      <td>...</td>\n",
       "      <td>...</td>\n",
       "      <td>...</td>\n",
       "      <td>...</td>\n",
       "      <td>...</td>\n",
       "    </tr>\n",
       "    <tr>\n",
       "      <th>8996926</th>\n",
       "      <td>0</td>\n",
       "      <td>1.367</td>\n",
       "      <td>-29.558</td>\n",
       "      <td>0.27</td>\n",
       "      <td>12</td>\n",
       "    </tr>\n",
       "    <tr>\n",
       "      <th>18026428</th>\n",
       "      <td>3</td>\n",
       "      <td>9.548</td>\n",
       "      <td>1788.358</td>\n",
       "      <td>1.07</td>\n",
       "      <td>38</td>\n",
       "    </tr>\n",
       "    <tr>\n",
       "      <th>19077604</th>\n",
       "      <td>2</td>\n",
       "      <td>9.413</td>\n",
       "      <td>1207.858</td>\n",
       "      <td>0.80</td>\n",
       "      <td>70</td>\n",
       "    </tr>\n",
       "    <tr>\n",
       "      <th>21855655</th>\n",
       "      <td>3</td>\n",
       "      <td>-6.591</td>\n",
       "      <td>1788.298</td>\n",
       "      <td>1.29</td>\n",
       "      <td>11</td>\n",
       "    </tr>\n",
       "    <tr>\n",
       "      <th>5386866</th>\n",
       "      <td>2</td>\n",
       "      <td>-10.806</td>\n",
       "      <td>1207.941</td>\n",
       "      <td>1.45</td>\n",
       "      <td>22</td>\n",
       "    </tr>\n",
       "  </tbody>\n",
       "</table>\n",
       "<p>4883289 rows × 5 columns</p>\n",
       "</div>"
      ],
      "text/plain": [
       "          ly   y_hit    zy_hit  dy_hit  PE\n",
       "1179799    0 -10.734   -29.317    2.00   7\n",
       "13965630   3 -13.216  1788.441    2.09  10\n",
       "135260     2   1.184  1207.955    0.25  10\n",
       "23751491   1  -3.868  1165.680    0.53  19\n",
       "8784892    3   0.805  1788.465    0.10  29\n",
       "...       ..     ...       ...     ...  ..\n",
       "8996926    0   1.367   -29.558    0.27  12\n",
       "18026428   3   9.548  1788.358    1.07  38\n",
       "19077604   2   9.413  1207.858    0.80  70\n",
       "21855655   3  -6.591  1788.298    1.29  11\n",
       "5386866    2 -10.806  1207.941    1.45  22\n",
       "\n",
       "[4883289 rows x 5 columns]"
      ]
     },
     "execution_count": 125,
     "metadata": {},
     "output_type": "execute_result"
    }
   ],
   "source": [
    "X_test"
   ]
  },
  {
   "cell_type": "code",
   "execution_count": 44,
   "id": "c814493b-5fb3-4853-a43b-6487490767eb",
   "metadata": {
    "tags": []
   },
   "outputs": [],
   "source": [
    "df_test=pd.read_parquet(\"../../Data/preprocessed/raw/pi-_10GeV_4ly_3e-4_inclined_4ly/TrkData_viewy_cl_TB_2023_T10_Sept_pi-Mono_10000_inclined_10000-evt-800_pitch0.25node_df.parquet\")"
   ]
  },
  {
   "cell_type": "code",
   "execution_count": 45,
   "id": "b834d2e3-61c9-402f-941e-29c287297640",
   "metadata": {},
   "outputs": [],
   "source": [
    "data_trk=pd.read_parquet(\"../../Data/preprocessed/raw/pi-_10GeV_4ly_3e-4_inclined_4ly/TrkData_viewy_cl_TB_2023_T10_Sept_pi-Mono_10000_inclined_10000-evt-800_pitch0.25node_df.parquet\")"
   ]
  },
  {
   "cell_type": "code",
   "execution_count": 46,
   "id": "8fc53df9-9276-4b4c-a549-38b3602533fc",
   "metadata": {
    "tags": []
   },
   "outputs": [],
   "source": [
    "df_class=df_test[['Ev','hit_class']]\n",
    "df_test=df_test.drop(columns=['idx_node'])\n",
    "df_test=df_test.drop(columns=['yMC'])\n",
    "df_test=df_test.drop(columns=['hit_class'])\n",
    "df_test=df_test.drop(columns=['PID'])"
   ]
  },
  {
   "cell_type": "code",
   "execution_count": 52,
   "id": "19de5993-4f13-4122-88a9-dfa88bc49b10",
   "metadata": {
    "tags": []
   },
   "outputs": [],
   "source": [
    "df=df_test"
   ]
  },
  {
   "cell_type": "code",
   "execution_count": 53,
   "id": "b736d6fe-057f-46f7-8214-852ee6eec300",
   "metadata": {
    "tags": []
   },
   "outputs": [],
   "source": [
    "pred=xgb_model.predict(df_test.iloc[:,1:])"
   ]
  },
  {
   "cell_type": "code",
   "execution_count": 130,
   "id": "c69be320-01aa-415b-b208-ff99cf77972e",
   "metadata": {
    "tags": []
   },
   "outputs": [
    {
     "data": {
      "text/plain": [
       "array([0, 1, 0, ..., 0, 0, 1])"
      ]
     },
     "execution_count": 130,
     "metadata": {},
     "output_type": "execute_result"
    }
   ],
   "source": [
    "pred"
   ]
  },
  {
   "cell_type": "code",
   "execution_count": 54,
   "id": "a590a221-617c-4418-a1c1-90056fcb9996",
   "metadata": {
    "tags": []
   },
   "outputs": [],
   "source": [
    "new_column_series = pd.Series(pred, index=data_trk.index)\n",
    "df_class['pred']=new_column_series"
   ]
  },
  {
   "cell_type": "code",
   "execution_count": 55,
   "id": "e9b26817-5701-4890-8085-db96d35e2aab",
   "metadata": {
    "tags": []
   },
   "outputs": [
    {
     "data": {
      "text/plain": [
       "3        0\n",
       "3        0\n",
       "3        0\n",
       "4        0\n",
       "4        1\n",
       "        ..\n",
       "37432    1\n",
       "37433    0\n",
       "37433    1\n",
       "37434    0\n",
       "37434    0\n",
       "Length: 80030, dtype: int64"
      ]
     },
     "execution_count": 55,
     "metadata": {},
     "output_type": "execute_result"
    }
   ],
   "source": [
    "new_column_series"
   ]
  },
  {
   "cell_type": "code",
   "execution_count": 56,
   "id": "37a56ea7-0c7e-4362-8576-d06eb984a8a5",
   "metadata": {
    "tags": []
   },
   "outputs": [
    {
     "data": {
      "text/plain": [
       "array([   1,    3,    4, ..., 9995, 9997, 9998])"
      ]
     },
     "execution_count": 56,
     "metadata": {},
     "output_type": "execute_result"
    }
   ],
   "source": [
    "df_class.Ev.unique()"
   ]
  },
  {
   "cell_type": "code",
   "execution_count": 57,
   "id": "1eab4e75-fb33-4744-9213-a39cfc254f52",
   "metadata": {
    "tags": []
   },
   "outputs": [],
   "source": [
    "df_class_selected = df_class[df_class['pred'] != df_class['hit_class']]\n"
   ]
  },
  {
   "cell_type": "code",
   "execution_count": 58,
   "id": "e2bcec05-7856-42f6-84e6-7609b64e72b4",
   "metadata": {
    "tags": []
   },
   "outputs": [
    {
     "data": {
      "text/plain": [
       "7478"
      ]
     },
     "execution_count": 58,
     "metadata": {},
     "output_type": "execute_result"
    }
   ],
   "source": [
    "df_class_selected.Ev.nunique()"
   ]
  },
  {
   "cell_type": "code",
   "execution_count": 59,
   "id": "99edb184-916e-44ac-97e7-b3365d1d7b5b",
   "metadata": {
    "tags": []
   },
   "outputs": [
    {
     "data": {
      "text/plain": [
       "7479"
      ]
     },
     "execution_count": 59,
     "metadata": {},
     "output_type": "execute_result"
    }
   ],
   "source": [
    "df_class.Ev.nunique()"
   ]
  },
  {
   "cell_type": "code",
   "execution_count": 60,
   "id": "a6e0defe-5491-4466-a2f9-7b13ab2607dc",
   "metadata": {
    "tags": []
   },
   "outputs": [
    {
     "data": {
      "text/html": [
       "<div>\n",
       "<style scoped>\n",
       "    .dataframe tbody tr th:only-of-type {\n",
       "        vertical-align: middle;\n",
       "    }\n",
       "\n",
       "    .dataframe tbody tr th {\n",
       "        vertical-align: top;\n",
       "    }\n",
       "\n",
       "    .dataframe thead th {\n",
       "        text-align: right;\n",
       "    }\n",
       "</style>\n",
       "<table border=\"1\" class=\"dataframe\">\n",
       "  <thead>\n",
       "    <tr style=\"text-align: right;\">\n",
       "      <th></th>\n",
       "      <th>Ev</th>\n",
       "      <th>hit_class</th>\n",
       "      <th>pred</th>\n",
       "    </tr>\n",
       "  </thead>\n",
       "  <tbody>\n",
       "    <tr>\n",
       "      <th>3</th>\n",
       "      <td>1</td>\n",
       "      <td>1</td>\n",
       "      <td>0</td>\n",
       "    </tr>\n",
       "    <tr>\n",
       "      <th>4</th>\n",
       "      <td>1</td>\n",
       "      <td>0</td>\n",
       "      <td>1</td>\n",
       "    </tr>\n",
       "    <tr>\n",
       "      <th>4</th>\n",
       "      <td>1</td>\n",
       "      <td>0</td>\n",
       "      <td>1</td>\n",
       "    </tr>\n",
       "    <tr>\n",
       "      <th>4</th>\n",
       "      <td>1</td>\n",
       "      <td>0</td>\n",
       "      <td>1</td>\n",
       "    </tr>\n",
       "    <tr>\n",
       "      <th>4</th>\n",
       "      <td>1</td>\n",
       "      <td>0</td>\n",
       "      <td>1</td>\n",
       "    </tr>\n",
       "    <tr>\n",
       "      <th>...</th>\n",
       "      <td>...</td>\n",
       "      <td>...</td>\n",
       "      <td>...</td>\n",
       "    </tr>\n",
       "    <tr>\n",
       "      <th>37432</th>\n",
       "      <td>9998</td>\n",
       "      <td>0</td>\n",
       "      <td>1</td>\n",
       "    </tr>\n",
       "    <tr>\n",
       "      <th>37432</th>\n",
       "      <td>9998</td>\n",
       "      <td>0</td>\n",
       "      <td>1</td>\n",
       "    </tr>\n",
       "    <tr>\n",
       "      <th>37433</th>\n",
       "      <td>9998</td>\n",
       "      <td>1</td>\n",
       "      <td>0</td>\n",
       "    </tr>\n",
       "    <tr>\n",
       "      <th>37433</th>\n",
       "      <td>9998</td>\n",
       "      <td>0</td>\n",
       "      <td>1</td>\n",
       "    </tr>\n",
       "    <tr>\n",
       "      <th>37434</th>\n",
       "      <td>9998</td>\n",
       "      <td>1</td>\n",
       "      <td>0</td>\n",
       "    </tr>\n",
       "  </tbody>\n",
       "</table>\n",
       "<p>38186 rows × 3 columns</p>\n",
       "</div>"
      ],
      "text/plain": [
       "         Ev  hit_class  pred\n",
       "3         1          1     0\n",
       "4         1          0     1\n",
       "4         1          0     1\n",
       "4         1          0     1\n",
       "4         1          0     1\n",
       "...     ...        ...   ...\n",
       "37432  9998          0     1\n",
       "37432  9998          0     1\n",
       "37433  9998          1     0\n",
       "37433  9998          0     1\n",
       "37434  9998          1     0\n",
       "\n",
       "[38186 rows x 3 columns]"
      ]
     },
     "execution_count": 60,
     "metadata": {},
     "output_type": "execute_result"
    }
   ],
   "source": [
    "df_class_selected"
   ]
  },
  {
   "cell_type": "code",
   "execution_count": 61,
   "id": "67481088-cde5-44ae-bfab-5acd229fa694",
   "metadata": {},
   "outputs": [],
   "source": [
    "data_trk['pred']=new_column_series"
   ]
  },
  {
   "cell_type": "code",
   "execution_count": 62,
   "id": "d25c7dfd-c713-46b7-859b-dc97067da453",
   "metadata": {},
   "outputs": [
    {
     "data": {
      "text/html": [
       "<div>\n",
       "<style scoped>\n",
       "    .dataframe tbody tr th:only-of-type {\n",
       "        vertical-align: middle;\n",
       "    }\n",
       "\n",
       "    .dataframe tbody tr th {\n",
       "        vertical-align: top;\n",
       "    }\n",
       "\n",
       "    .dataframe thead th {\n",
       "        text-align: right;\n",
       "    }\n",
       "</style>\n",
       "<table border=\"1\" class=\"dataframe\">\n",
       "  <thead>\n",
       "    <tr style=\"text-align: right;\">\n",
       "      <th></th>\n",
       "      <th>Ev</th>\n",
       "      <th>ly</th>\n",
       "      <th>y_hit</th>\n",
       "      <th>zy_hit</th>\n",
       "      <th>dy_hit</th>\n",
       "      <th>PE</th>\n",
       "      <th>PID</th>\n",
       "      <th>yMC</th>\n",
       "      <th>hit_class</th>\n",
       "      <th>idx_node</th>\n",
       "      <th>pred</th>\n",
       "    </tr>\n",
       "  </thead>\n",
       "  <tbody>\n",
       "    <tr>\n",
       "      <th>3</th>\n",
       "      <td>1</td>\n",
       "      <td>0</td>\n",
       "      <td>-16.092</td>\n",
       "      <td>-29.503</td>\n",
       "      <td>0.04</td>\n",
       "      <td>4</td>\n",
       "      <td>-999.0</td>\n",
       "      <td>5.265312</td>\n",
       "      <td>0</td>\n",
       "      <td>0</td>\n",
       "      <td>0</td>\n",
       "    </tr>\n",
       "    <tr>\n",
       "      <th>3</th>\n",
       "      <td>1</td>\n",
       "      <td>0</td>\n",
       "      <td>5.095</td>\n",
       "      <td>-29.503</td>\n",
       "      <td>0.66</td>\n",
       "      <td>31</td>\n",
       "      <td>-211.0</td>\n",
       "      <td>5.265312</td>\n",
       "      <td>1</td>\n",
       "      <td>1</td>\n",
       "      <td>0</td>\n",
       "    </tr>\n",
       "    <tr>\n",
       "      <th>3</th>\n",
       "      <td>1</td>\n",
       "      <td>0</td>\n",
       "      <td>14.816</td>\n",
       "      <td>-29.503</td>\n",
       "      <td>2.53</td>\n",
       "      <td>8</td>\n",
       "      <td>-999.0</td>\n",
       "      <td>5.265312</td>\n",
       "      <td>0</td>\n",
       "      <td>2</td>\n",
       "      <td>0</td>\n",
       "    </tr>\n",
       "    <tr>\n",
       "      <th>4</th>\n",
       "      <td>1</td>\n",
       "      <td>1</td>\n",
       "      <td>-10.952</td>\n",
       "      <td>1165.537</td>\n",
       "      <td>1.82</td>\n",
       "      <td>9</td>\n",
       "      <td>-999.0</td>\n",
       "      <td>6.620134</td>\n",
       "      <td>0</td>\n",
       "      <td>3</td>\n",
       "      <td>0</td>\n",
       "    </tr>\n",
       "    <tr>\n",
       "      <th>4</th>\n",
       "      <td>1</td>\n",
       "      <td>1</td>\n",
       "      <td>3.159</td>\n",
       "      <td>1165.537</td>\n",
       "      <td>0.56</td>\n",
       "      <td>14</td>\n",
       "      <td>-999.0</td>\n",
       "      <td>6.620134</td>\n",
       "      <td>0</td>\n",
       "      <td>4</td>\n",
       "      <td>1</td>\n",
       "    </tr>\n",
       "  </tbody>\n",
       "</table>\n",
       "</div>"
      ],
      "text/plain": [
       "   Ev  ly   y_hit    zy_hit  dy_hit  PE    PID       yMC  hit_class  idx_node  \\\n",
       "3   1   0 -16.092   -29.503    0.04   4 -999.0  5.265312          0         0   \n",
       "3   1   0   5.095   -29.503    0.66  31 -211.0  5.265312          1         1   \n",
       "3   1   0  14.816   -29.503    2.53   8 -999.0  5.265312          0         2   \n",
       "4   1   1 -10.952  1165.537    1.82   9 -999.0  6.620134          0         3   \n",
       "4   1   1   3.159  1165.537    0.56  14 -999.0  6.620134          0         4   \n",
       "\n",
       "   pred  \n",
       "3     0  \n",
       "3     0  \n",
       "3     0  \n",
       "4     0  \n",
       "4     1  "
      ]
     },
     "execution_count": 62,
     "metadata": {},
     "output_type": "execute_result"
    }
   ],
   "source": [
    "data_trk.head()"
   ]
  },
  {
   "cell_type": "code",
   "execution_count": 27,
   "id": "fcc26dce-4d03-46a6-847f-80489c78e85e",
   "metadata": {},
   "outputs": [
    {
     "data": {
      "text/plain": [
       "array([   1,    3,    4, ..., 9995, 9997, 9998])"
      ]
     },
     "execution_count": 27,
     "metadata": {},
     "output_type": "execute_result"
    }
   ],
   "source": [
    "data_trk.Ev.unique()"
   ]
  },
  {
   "cell_type": "code",
   "execution_count": 29,
   "id": "8a710812-a691-4cf2-8769-7796b6b35afd",
   "metadata": {},
   "outputs": [
    {
     "ename": "NameError",
     "evalue": "name 'tmp_ly' is not defined",
     "output_type": "error",
     "traceback": [
      "\u001b[0;31m---------------------------------------------------------------------------\u001b[0m",
      "\u001b[0;31mNameError\u001b[0m                                 Traceback (most recent call last)",
      "File \u001b[0;32m<timed exec>:43\u001b[0m\n",
      "\u001b[0;31mNameError\u001b[0m: name 'tmp_ly' is not defined"
     ]
    }
   ],
   "source": [
    "%%time\n",
    "# gr=ROOT.TGraph(len(np.array(x_pred)),np.array(x_pred),np.array(z_pred))\n",
    "# c1=ROOT.TCanvas()\n",
    "# c1.cd()\n",
    "# gr.GetXaxis().SetLimits(-20.0,20.0);\n",
    "# gr.GetXaxis().SetTitle('x [mm]')\n",
    "# gr.GetYaxis().SetTitle('z [mm]')\n",
    "# gr.SetMarkerStyle(8)\n",
    "# gr.Draw('AP')\n",
    "myfile=ROOT.TFile('/lustrehome/federicacuna/TB_Sept_2023_ml/pred_data_xz_ml.root','RECREATE')\n",
    "# gr.Write()\n",
    "# c1.Write()\n",
    "\n",
    "         \n",
    "ly_ev=[]\n",
    "x_ev=[]\n",
    "z_ev=[]\n",
    "pe_ev=[]\n",
    "dx_ev=[]\n",
    "no_good_ev=[]\n",
    "events=data_trk.Ev.unique()\n",
    "for i in range(0,len(events)): \n",
    "    # print('ev ', i)    \n",
    "    ev=events[i]\n",
    "    ly_ev.append([])\n",
    "    x_ev.append([])\n",
    "    z_ev.append([])\n",
    "    pe_ev.append([])\n",
    "    dx_ev.append([])\n",
    "    # print(len(data_trk[data_trk.Ev==ev]))\n",
    "    tmp_ev_sel=data_trk[data_trk.Ev==ev]\n",
    "    for j in range(0,len(tmp_ev_sel)):        \n",
    "        if(tmp_ev_sel.pred.iloc[j]==1):\n",
    "            # print('***')\n",
    "            tmp_ly=tmp_ev_sel.ly.iloc[j]\n",
    "            # print('_____',tmp_ly)\n",
    "            tmp_x=tmp_ev_sel.x_hit.iloc[j]\n",
    "            tmp_z=tmp_ev_sel.zx_hit.iloc[j]\n",
    "            tmp_dx=tmp_ev_sel.dx_hit.iloc[j]\n",
    "            # print(tmp_dx)\n",
    "            tmp_pe=tmp_ev_sel.PE.iloc[j]\n",
    "                \n",
    "        # print(tmp_pe)\n",
    "    ly_ev[i].append(tmp_ly)\n",
    "    x_ev[i].append(tmp_x)\n",
    "    z_ev[i].append(tmp_z)\n",
    "    dx_ev[i].append(tmp_dx)\n",
    "    pe_ev[i].append(tmp_pe)\n",
    "\n",
    "\n",
    "OutTree = ROOT.TTree(\"Reco_tree\", \"Reco_tree\")   \n",
    "ly_ev_vec = ROOT.std.vector(\"float\")()\n",
    "x_ev_vec = ROOT.std.vector(\"float\")()\n",
    "z_ev_vec = ROOT.std.vector(\"float\")()\n",
    "dx_ev_vec = ROOT.std.vector(\"float\")()\n",
    "pe_ev_vec = ROOT.std.vector(\"float\")()\n",
    "no_good_ev_vec=ROOT.std.vector(\"int\")()\n",
    "OutTree.Branch(\"ly_ev_vec\", ly_ev_vec)\n",
    "OutTree.Branch(\"x_ev_vec\", x_ev_vec)\n",
    "OutTree.Branch(\"z_ev_vec\", z_ev_vec)\n",
    "OutTree.Branch(\"dx_ev_vec\", dx_ev_vec)\n",
    "OutTree.Branch(\"pe_ev_vec\", pe_ev_vec)\n",
    "OutTree.Branch(\"no_good_ev_vec\", no_good_ev_vec)\n",
    "# print(x_ev)\n",
    "for no_good in no_good_ev:\n",
    "    no_good_ev_vec.push_back(no_good)\n",
    "for l,x,z,dx,pe in zip(ly_ev,x_ev,z_ev,dx_ev,pe_ev):\n",
    "    \n",
    "    # Clear the contents of the vector\n",
    "    ly_ev_vec.clear()\n",
    "    x_ev_vec.clear()\n",
    "    z_ev_vec.clear()\n",
    "    dx_ev_vec.clear()\n",
    "    pe_ev_vec.clear()\n",
    "    \n",
    "    # Replace the contents in the vector with the contents\n",
    "    # from the current array\n",
    "    ly_ev_vec.reserve(len(l))\n",
    "    x_ev_vec.reserve(len(x))\n",
    "    z_ev_vec.reserve(len(z))\n",
    "    dx_ev_vec.reserve(len(dx))\n",
    "    pe_ev_vec.reserve(len(pe))\n",
    "    \n",
    "\n",
    "    for il in l:\n",
    "        ly_ev_vec.push_back(il)\n",
    "    for ix in x:\n",
    "        x_ev_vec.push_back(ix)\n",
    "    for iz in z:\n",
    "        z_ev_vec.push_back(iz)\n",
    "    for idx in dx:\n",
    "        dx_ev_vec.push_back(idx)\n",
    "    for ipe in pe:\n",
    "        pe_ev_vec.push_back(ipe)\n",
    "        \n",
    "        \n",
    "    OutTree.Fill()\n",
    "\n",
    "OutTree.Write()\n",
    "myfile.Close()"
   ]
  },
  {
   "cell_type": "code",
   "execution_count": 63,
   "id": "b12cec08-a0c3-40fb-be1d-91595b824ce3",
   "metadata": {},
   "outputs": [
    {
     "name": "stdout",
     "output_type": "stream",
     "text": [
      "CPU times: user 6.35 s, sys: 173 ms, total: 6.52 s\n",
      "Wall time: 7.47 s\n"
     ]
    }
   ],
   "source": [
    "%%time\n",
    "# gr=ROOT.TGraph(len(np.array(x_pred)),np.array(x_pred),np.array(z_pred))\n",
    "# c1=ROOT.TCanvas()\n",
    "# c1.cd()\n",
    "# gr.GetXaxis().SetLimits(-20.0,20.0);\n",
    "# gr.GetXaxis().SetTitle('x [mm]')\n",
    "# gr.GetYaxis().SetTitle('z [mm]')\n",
    "# gr.SetMarkerStyle(8)\n",
    "# gr.Draw('AP')\n",
    "myfile=ROOT.TFile('/lustrehome/federicacuna/TB_Sept_2023_ml/pred_data_yz_ml.root','RECREATE')\n",
    "# gr.Write()\n",
    "# c1.Write()\n",
    "\n",
    "         \n",
    "ly_ev=[]\n",
    "y_ev=[]\n",
    "z_ev=[]\n",
    "pe_ev=[]\n",
    "dy_ev=[]\n",
    "no_good_ev=[]\n",
    "events=data_trk.Ev.unique()\n",
    "for i in range(0,len(events)): \n",
    "    # print('ev ', i)    \n",
    "    ev=events[i]\n",
    "    ly_ev.append([])\n",
    "    y_ev.append([])\n",
    "    z_ev.append([])\n",
    "    pe_ev.append([])\n",
    "    dy_ev.append([])\n",
    "    # print(len(data_trk[data_trk.Ev==ev]))\n",
    "    tmp_ev_sel=data_trk[data_trk.Ev==ev]\n",
    "    for j in range(0,len(tmp_ev_sel)):        \n",
    "        if(tmp_ev_sel.pred.iloc[j]==1):\n",
    "            # print('***')\n",
    "            tmp_ly=tmp_ev_sel.ly.iloc[j]\n",
    "            # print('_____',tmp_ly)\n",
    "            tmp_y=tmp_ev_sel.y_hit.iloc[j]\n",
    "            tmp_z=tmp_ev_sel.zy_hit.iloc[j]\n",
    "            tmp_dy=tmp_ev_sel.dy_hit.iloc[j]\n",
    "            # print(tmp_dx)\n",
    "            tmp_pe=tmp_ev_sel.PE.iloc[j]\n",
    "                \n",
    "        # print(tmp_pe)\n",
    "    ly_ev[i].append(tmp_ly)\n",
    "    y_ev[i].append(tmp_y)\n",
    "    z_ev[i].append(tmp_z)\n",
    "    dy_ev[i].append(tmp_dy)\n",
    "    pe_ev[i].append(tmp_pe)\n",
    "\n",
    "OutTree = ROOT.TTree(\"Reco_tree\", \"Reco_tree\")   \n",
    "ly_ev_vec = ROOT.std.vector(\"float\")()\n",
    "y_ev_vec = ROOT.std.vector(\"float\")()\n",
    "z_ev_vec = ROOT.std.vector(\"float\")()\n",
    "dy_ev_vec = ROOT.std.vector(\"float\")()\n",
    "pe_ev_vec = ROOT.std.vector(\"float\")()\n",
    "no_good_ev_vec=ROOT.std.vector(\"int\")()\n",
    "OutTree.Branch(\"ly_ev_vec\", ly_ev_vec)\n",
    "OutTree.Branch(\"y_ev_vec\", y_ev_vec)\n",
    "OutTree.Branch(\"z_ev_vec\", z_ev_vec)\n",
    "OutTree.Branch(\"dy_ev_vec\", dy_ev_vec)\n",
    "OutTree.Branch(\"pe_ev_vec\", pe_ev_vec)\n",
    "OutTree.Branch(\"no_good_ev_vec\", no_good_ev_vec)\n",
    "# print(x_ev)\n",
    "for no_good in no_good_ev:\n",
    "    no_good_ev_vec.push_back(no_good)\n",
    "for l,y,z,dy,pe in zip(ly_ev,y_ev,z_ev,dy_ev,pe_ev):\n",
    "    \n",
    "    # Clear the contents of the vector\n",
    "    ly_ev_vec.clear()\n",
    "    y_ev_vec.clear()\n",
    "    z_ev_vec.clear()\n",
    "    dy_ev_vec.clear()\n",
    "    pe_ev_vec.clear()\n",
    "    \n",
    "    # Replace the contents in the vector with the contents\n",
    "    # from the current array\n",
    "    ly_ev_vec.reserve(len(l))\n",
    "    y_ev_vec.reserve(len(y))\n",
    "    z_ev_vec.reserve(len(z))\n",
    "    dy_ev_vec.reserve(len(dy))\n",
    "    pe_ev_vec.reserve(len(pe))\n",
    "    \n",
    "\n",
    "    for il in l:\n",
    "        ly_ev_vec.push_back(il)\n",
    "    for iy in y:\n",
    "        y_ev_vec.push_back(iy)\n",
    "    for iz in z:\n",
    "        z_ev_vec.push_back(iz)\n",
    "    for idy in dy:\n",
    "        dy_ev_vec.push_back(idy)\n",
    "    for ipe in pe:\n",
    "        pe_ev_vec.push_back(ipe)\n",
    "        \n",
    "        \n",
    "    OutTree.Fill()\n",
    "\n",
    "OutTree.Write()\n",
    "myfile.Close()"
   ]
  },
  {
   "cell_type": "code",
   "execution_count": null,
   "id": "8c6ba0bb-31cd-452b-a7ed-7a76457f21e7",
   "metadata": {},
   "outputs": [],
   "source": []
  }
 ],
 "metadata": {
  "kernelspec": {
   "display_name": "py_env",
   "language": "python",
   "name": "py_env"
  },
  "language_info": {
   "codemirror_mode": {
    "name": "ipython",
    "version": 3
   },
   "file_extension": ".py",
   "mimetype": "text/x-python",
   "name": "python",
   "nbconvert_exporter": "python",
   "pygments_lexer": "ipython3",
   "version": "3.8.2"
  }
 },
 "nbformat": 4,
 "nbformat_minor": 5
}
