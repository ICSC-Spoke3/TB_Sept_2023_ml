{
 "cells": [
  {
   "cell_type": "code",
   "execution_count": 3,
   "id": "ab2ec0cf-1a5a-4863-8657-b6fee1654493",
   "metadata": {
    "tags": []
   },
   "outputs": [],
   "source": [
    "#%pip install torch_geometric"
   ]
  },
  {
   "cell_type": "code",
   "execution_count": 4,
   "id": "3c86ebef-c624-409e-b7fe-41606e12b541",
   "metadata": {
    "tags": []
   },
   "outputs": [],
   "source": [
    "import logging\n",
    "\n",
    "from collections import namedtuple\n",
    "\n",
    "\n",
    "import numpy as np\n",
    "import pandas as pd\n",
    "\n",
    "import model as model\n",
    "import os\n",
    "import torch\n",
    "from torch_geometric.loader import DataLoader\n",
    "from sklearn.model_selection import train_test_split\n",
    "import graph"
   ]
  },
  {
   "cell_type": "code",
   "execution_count": 5,
   "id": "57f5fcad-ab8b-48b2-87a5-6c39b407fcf1",
   "metadata": {
    "tags": []
   },
   "outputs": [],
   "source": [
    "from graph import load_graphs, SparseGraph, graph_from_sparse,construct_graphs,save_graphs,graph_from_files,save_graph_combined,load_graph_combined"
   ]
  },
  {
   "cell_type": "code",
   "execution_count": 6,
   "id": "f0cace70-f640-40e1-ade4-e502aa5d8738",
   "metadata": {
    "tags": []
   },
   "outputs": [],
   "source": [
    "import os\n",
    "folder_path = \"/lustrehome/federicacuna/TB_Sept_2023_ml/Data/preprocessed/raw/pi-_10GeV_4ly_1e-4_inclined_4ly/\"\n",
    "lista=os.listdir(folder_path)"
   ]
  },
  {
   "cell_type": "code",
   "execution_count": 7,
   "id": "47503a19-87e7-4381-9799-5706a15822cc",
   "metadata": {
    "tags": []
   },
   "outputs": [],
   "source": [
    "file_node_df = [os.path.join(folder_path, file) for file in lista if \"node_df\" in file and \"viewx\" in file]\n",
    "file_edge_df = [os.path.join(folder_path, file) for file in lista if \"edge_df\" in file and \"viewx\" in file]"
   ]
  },
  {
   "cell_type": "code",
   "execution_count": 8,
   "id": "af5cbbb4-b972-473b-9740-c2913d4ec878",
   "metadata": {
    "tags": []
   },
   "outputs": [],
   "source": [
    "def extract_number_from_filename(filename):\n",
    "    start_index = filename.find(\"-evt-\") + len(\"-evt-\")\n",
    "    end_index = filename.find(\"_\", start_index)\n",
    "    return int(filename[start_index:end_index])\n",
    "\n",
    "# Ordina i file basati sul numero dopo \"-evt-\" nel loro nome\n",
    "file_node_df_sorted = sorted(file_node_df, key=extract_number_from_filename)\n",
    "file_edge_df_sorted = sorted(file_edge_df, key=extract_number_from_filename)\n"
   ]
  },
  {
   "cell_type": "code",
   "execution_count": 26,
   "id": "23f4c6e7-de7c-4ad7-9e5c-9501c83a311f",
   "metadata": {
    "tags": []
   },
   "outputs": [],
   "source": [
    "# node_df_pi=pd.read_parquet('/lustrehome/federicacuna/TB_Sept_2023_ml/Data/preprocessed/raw/pi-_10GeV_4ly_1e-4_inclined_4ly/TrkData_viewx_cl_TB_2023_T10_Sept_pi-Mono_10000_inclined_10000-evt-0_pitch0.25node_df.parquet')\n",
    "# edge_df_pi=pd.read_parquet('/lustrehome/federicacuna/TB_Sept_2023_ml/Data/preprocessed/raw/pi-_10GeV_4ly_1e-4_inclined_4ly/TrkData_viewx_cl_TB_2023_T10_Sept_pi-Mono_10000_inclined_10000-evt-0_pitch0.25edge_df.parquet')"
   ]
  },
  {
   "cell_type": "code",
   "execution_count": 15,
   "id": "0abd429a-91ce-4459-b65c-302a5b0ac7ea",
   "metadata": {},
   "outputs": [
    {
     "data": {
      "text/html": [
       "<div>\n",
       "<style scoped>\n",
       "    .dataframe tbody tr th:only-of-type {\n",
       "        vertical-align: middle;\n",
       "    }\n",
       "\n",
       "    .dataframe tbody tr th {\n",
       "        vertical-align: top;\n",
       "    }\n",
       "\n",
       "    .dataframe thead th {\n",
       "        text-align: right;\n",
       "    }\n",
       "</style>\n",
       "<table border=\"1\" class=\"dataframe\">\n",
       "  <thead>\n",
       "    <tr style=\"text-align: right;\">\n",
       "      <th></th>\n",
       "      <th>idx_node_s</th>\n",
       "      <th>x_hit_s</th>\n",
       "      <th>zx_hit_s</th>\n",
       "      <th>dx_hit_s</th>\n",
       "      <th>xMC_s</th>\n",
       "      <th>ly_s</th>\n",
       "      <th>PE_s</th>\n",
       "      <th>PID_s</th>\n",
       "      <th>idx_node_t</th>\n",
       "      <th>x_hit_t</th>\n",
       "      <th>...</th>\n",
       "      <th>dx_hit_t</th>\n",
       "      <th>xMC_t</th>\n",
       "      <th>ly_t</th>\n",
       "      <th>PE_t</th>\n",
       "      <th>PID_t</th>\n",
       "      <th>Ev</th>\n",
       "      <th>angx_row</th>\n",
       "      <th>angx_MC</th>\n",
       "      <th>deangx</th>\n",
       "      <th>edge_class</th>\n",
       "    </tr>\n",
       "  </thead>\n",
       "  <tbody>\n",
       "    <tr>\n",
       "      <th>0</th>\n",
       "      <td>0</td>\n",
       "      <td>-10.735</td>\n",
       "      <td>-30.466</td>\n",
       "      <td>1.21</td>\n",
       "      <td>-10.722050</td>\n",
       "      <td>0</td>\n",
       "      <td>19</td>\n",
       "      <td>-211.0</td>\n",
       "      <td>1</td>\n",
       "      <td>-13.543</td>\n",
       "      <td>...</td>\n",
       "      <td>1.74</td>\n",
       "      <td>-13.528648</td>\n",
       "      <td>1</td>\n",
       "      <td>26</td>\n",
       "      <td>-211.0</td>\n",
       "      <td>6</td>\n",
       "      <td>270.134628</td>\n",
       "      <td>270.134561</td>\n",
       "      <td>-0.101611</td>\n",
       "      <td>1</td>\n",
       "    </tr>\n",
       "    <tr>\n",
       "      <th>1</th>\n",
       "      <td>0</td>\n",
       "      <td>-10.735</td>\n",
       "      <td>-30.466</td>\n",
       "      <td>1.21</td>\n",
       "      <td>-10.722050</td>\n",
       "      <td>0</td>\n",
       "      <td>19</td>\n",
       "      <td>-211.0</td>\n",
       "      <td>2</td>\n",
       "      <td>14.266</td>\n",
       "      <td>...</td>\n",
       "      <td>2.68</td>\n",
       "      <td>-13.528648</td>\n",
       "      <td>1</td>\n",
       "      <td>7</td>\n",
       "      <td>-999.0</td>\n",
       "      <td>6</td>\n",
       "      <td>268.801515</td>\n",
       "      <td>270.134561</td>\n",
       "      <td>-0.140919</td>\n",
       "      <td>0</td>\n",
       "    </tr>\n",
       "    <tr>\n",
       "      <th>2</th>\n",
       "      <td>1</td>\n",
       "      <td>-13.543</td>\n",
       "      <td>1164.578</td>\n",
       "      <td>1.74</td>\n",
       "      <td>-13.528648</td>\n",
       "      <td>1</td>\n",
       "      <td>26</td>\n",
       "      <td>-211.0</td>\n",
       "      <td>3</td>\n",
       "      <td>-13.591</td>\n",
       "      <td>...</td>\n",
       "      <td>1.53</td>\n",
       "      <td>-13.616448</td>\n",
       "      <td>2</td>\n",
       "      <td>24</td>\n",
       "      <td>-211.0</td>\n",
       "      <td>6</td>\n",
       "      <td>270.073564</td>\n",
       "      <td>270.134561</td>\n",
       "      <td>-3.551003</td>\n",
       "      <td>1</td>\n",
       "    </tr>\n",
       "    <tr>\n",
       "      <th>3</th>\n",
       "      <td>2</td>\n",
       "      <td>14.266</td>\n",
       "      <td>1164.578</td>\n",
       "      <td>2.68</td>\n",
       "      <td>-13.528648</td>\n",
       "      <td>1</td>\n",
       "      <td>7</td>\n",
       "      <td>-999.0</td>\n",
       "      <td>3</td>\n",
       "      <td>-13.591</td>\n",
       "      <td>...</td>\n",
       "      <td>1.53</td>\n",
       "      <td>-13.616448</td>\n",
       "      <td>2</td>\n",
       "      <td>24</td>\n",
       "      <td>-211.0</td>\n",
       "      <td>6</td>\n",
       "      <td>306.691211</td>\n",
       "      <td>270.134561</td>\n",
       "      <td>-3.041053</td>\n",
       "      <td>0</td>\n",
       "    </tr>\n",
       "    <tr>\n",
       "      <th>4</th>\n",
       "      <td>3</td>\n",
       "      <td>-13.591</td>\n",
       "      <td>1201.963</td>\n",
       "      <td>1.53</td>\n",
       "      <td>-13.616448</td>\n",
       "      <td>2</td>\n",
       "      <td>24</td>\n",
       "      <td>-211.0</td>\n",
       "      <td>4</td>\n",
       "      <td>-15.444</td>\n",
       "      <td>...</td>\n",
       "      <td>1.85</td>\n",
       "      <td>-14.991177</td>\n",
       "      <td>3</td>\n",
       "      <td>17</td>\n",
       "      <td>-211.0</td>\n",
       "      <td>6</td>\n",
       "      <td>270.181374</td>\n",
       "      <td>270.134561</td>\n",
       "      <td>-0.234983</td>\n",
       "      <td>1</td>\n",
       "    </tr>\n",
       "    <tr>\n",
       "      <th>...</th>\n",
       "      <td>...</td>\n",
       "      <td>...</td>\n",
       "      <td>...</td>\n",
       "      <td>...</td>\n",
       "      <td>...</td>\n",
       "      <td>...</td>\n",
       "      <td>...</td>\n",
       "      <td>...</td>\n",
       "      <td>...</td>\n",
       "      <td>...</td>\n",
       "      <td>...</td>\n",
       "      <td>...</td>\n",
       "      <td>...</td>\n",
       "      <td>...</td>\n",
       "      <td>...</td>\n",
       "      <td>...</td>\n",
       "      <td>...</td>\n",
       "      <td>...</td>\n",
       "      <td>...</td>\n",
       "      <td>...</td>\n",
       "      <td>...</td>\n",
       "    </tr>\n",
       "    <tr>\n",
       "      <th>50064</th>\n",
       "      <td>3</td>\n",
       "      <td>9.567</td>\n",
       "      <td>1201.928</td>\n",
       "      <td>1.31</td>\n",
       "      <td>9.636515</td>\n",
       "      <td>2</td>\n",
       "      <td>27</td>\n",
       "      <td>-211.0</td>\n",
       "      <td>4</td>\n",
       "      <td>10.552</td>\n",
       "      <td>...</td>\n",
       "      <td>1.39</td>\n",
       "      <td>10.599679</td>\n",
       "      <td>3</td>\n",
       "      <td>14</td>\n",
       "      <td>-211.0</td>\n",
       "      <td>9998</td>\n",
       "      <td>269.903592</td>\n",
       "      <td>269.905730</td>\n",
       "      <td>-0.186945</td>\n",
       "      <td>1</td>\n",
       "    </tr>\n",
       "    <tr>\n",
       "      <th>50065</th>\n",
       "      <td>0</td>\n",
       "      <td>2.303</td>\n",
       "      <td>-30.575</td>\n",
       "      <td>0.33</td>\n",
       "      <td>2.502693</td>\n",
       "      <td>0</td>\n",
       "      <td>26</td>\n",
       "      <td>-211.0</td>\n",
       "      <td>1</td>\n",
       "      <td>10.615</td>\n",
       "      <td>...</td>\n",
       "      <td>1.22</td>\n",
       "      <td>10.606787</td>\n",
       "      <td>1</td>\n",
       "      <td>28</td>\n",
       "      <td>-211.0</td>\n",
       "      <td>9999</td>\n",
       "      <td>269.601490</td>\n",
       "      <td>269.611457</td>\n",
       "      <td>-0.060592</td>\n",
       "      <td>1</td>\n",
       "    </tr>\n",
       "    <tr>\n",
       "      <th>50066</th>\n",
       "      <td>1</td>\n",
       "      <td>10.615</td>\n",
       "      <td>1164.463</td>\n",
       "      <td>1.22</td>\n",
       "      <td>10.606787</td>\n",
       "      <td>1</td>\n",
       "      <td>28</td>\n",
       "      <td>-211.0</td>\n",
       "      <td>2</td>\n",
       "      <td>10.804</td>\n",
       "      <td>...</td>\n",
       "      <td>1.53</td>\n",
       "      <td>10.861580</td>\n",
       "      <td>2</td>\n",
       "      <td>12</td>\n",
       "      <td>-211.0</td>\n",
       "      <td>9999</td>\n",
       "      <td>269.711785</td>\n",
       "      <td>269.611457</td>\n",
       "      <td>-2.984056</td>\n",
       "      <td>1</td>\n",
       "    </tr>\n",
       "    <tr>\n",
       "      <th>50067</th>\n",
       "      <td>2</td>\n",
       "      <td>10.804</td>\n",
       "      <td>1202.035</td>\n",
       "      <td>1.53</td>\n",
       "      <td>10.861580</td>\n",
       "      <td>2</td>\n",
       "      <td>12</td>\n",
       "      <td>-211.0</td>\n",
       "      <td>3</td>\n",
       "      <td>12.816</td>\n",
       "      <td>...</td>\n",
       "      <td>2.18</td>\n",
       "      <td>14.832120</td>\n",
       "      <td>3</td>\n",
       "      <td>8</td>\n",
       "      <td>-999.0</td>\n",
       "      <td>9999</td>\n",
       "      <td>269.803111</td>\n",
       "      <td>269.611457</td>\n",
       "      <td>-0.260624</td>\n",
       "      <td>0</td>\n",
       "    </tr>\n",
       "    <tr>\n",
       "      <th>50068</th>\n",
       "      <td>2</td>\n",
       "      <td>10.804</td>\n",
       "      <td>1202.035</td>\n",
       "      <td>1.53</td>\n",
       "      <td>10.861580</td>\n",
       "      <td>2</td>\n",
       "      <td>12</td>\n",
       "      <td>-211.0</td>\n",
       "      <td>4</td>\n",
       "      <td>15.055</td>\n",
       "      <td>...</td>\n",
       "      <td>2.14</td>\n",
       "      <td>14.832120</td>\n",
       "      <td>3</td>\n",
       "      <td>12</td>\n",
       "      <td>-211.0</td>\n",
       "      <td>9999</td>\n",
       "      <td>269.584014</td>\n",
       "      <td>269.611457</td>\n",
       "      <td>-0.257420</td>\n",
       "      <td>1</td>\n",
       "    </tr>\n",
       "  </tbody>\n",
       "</table>\n",
       "<p>50069 rows × 21 columns</p>\n",
       "</div>"
      ],
      "text/plain": [
       "       idx_node_s  x_hit_s  zx_hit_s  dx_hit_s      xMC_s  ly_s  PE_s  PID_s  \\\n",
       "0               0  -10.735   -30.466      1.21 -10.722050     0    19 -211.0   \n",
       "1               0  -10.735   -30.466      1.21 -10.722050     0    19 -211.0   \n",
       "2               1  -13.543  1164.578      1.74 -13.528648     1    26 -211.0   \n",
       "3               2   14.266  1164.578      2.68 -13.528648     1     7 -999.0   \n",
       "4               3  -13.591  1201.963      1.53 -13.616448     2    24 -211.0   \n",
       "...           ...      ...       ...       ...        ...   ...   ...    ...   \n",
       "50064           3    9.567  1201.928      1.31   9.636515     2    27 -211.0   \n",
       "50065           0    2.303   -30.575      0.33   2.502693     0    26 -211.0   \n",
       "50066           1   10.615  1164.463      1.22  10.606787     1    28 -211.0   \n",
       "50067           2   10.804  1202.035      1.53  10.861580     2    12 -211.0   \n",
       "50068           2   10.804  1202.035      1.53  10.861580     2    12 -211.0   \n",
       "\n",
       "       idx_node_t  x_hit_t  ...  dx_hit_t      xMC_t  ly_t  PE_t  PID_t    Ev  \\\n",
       "0               1  -13.543  ...      1.74 -13.528648     1    26 -211.0     6   \n",
       "1               2   14.266  ...      2.68 -13.528648     1     7 -999.0     6   \n",
       "2               3  -13.591  ...      1.53 -13.616448     2    24 -211.0     6   \n",
       "3               3  -13.591  ...      1.53 -13.616448     2    24 -211.0     6   \n",
       "4               4  -15.444  ...      1.85 -14.991177     3    17 -211.0     6   \n",
       "...           ...      ...  ...       ...        ...   ...   ...    ...   ...   \n",
       "50064           4   10.552  ...      1.39  10.599679     3    14 -211.0  9998   \n",
       "50065           1   10.615  ...      1.22  10.606787     1    28 -211.0  9999   \n",
       "50066           2   10.804  ...      1.53  10.861580     2    12 -211.0  9999   \n",
       "50067           3   12.816  ...      2.18  14.832120     3     8 -999.0  9999   \n",
       "50068           4   15.055  ...      2.14  14.832120     3    12 -211.0  9999   \n",
       "\n",
       "         angx_row     angx_MC    deangx  edge_class  \n",
       "0      270.134628  270.134561 -0.101611           1  \n",
       "1      268.801515  270.134561 -0.140919           0  \n",
       "2      270.073564  270.134561 -3.551003           1  \n",
       "3      306.691211  270.134561 -3.041053           0  \n",
       "4      270.181374  270.134561 -0.234983           1  \n",
       "...           ...         ...       ...         ...  \n",
       "50064  269.903592  269.905730 -0.186945           1  \n",
       "50065  269.601490  269.611457 -0.060592           1  \n",
       "50066  269.711785  269.611457 -2.984056           1  \n",
       "50067  269.803111  269.611457 -0.260624           0  \n",
       "50068  269.584014  269.611457 -0.257420           1  \n",
       "\n",
       "[50069 rows x 21 columns]"
      ]
     },
     "execution_count": 15,
     "metadata": {},
     "output_type": "execute_result"
    }
   ],
   "source": [
    "edge_df_pi"
   ]
  },
  {
   "cell_type": "code",
   "execution_count": 4,
   "id": "293abe5f-1c2b-4fe0-a6a4-015161eb6177",
   "metadata": {
    "tags": []
   },
   "outputs": [],
   "source": [
    "# folder_name='/lustrehome/federicacuna/TB_Sept_2023_ml/Data/preprocessed/raw/pi-_10GeV_4ly_1e-4_inclined_4ly/'\n",
    "# file1='TrkData_viewx_cl_TB_2023_T10_Sept_pi-Mono_10000_inclined_10000-evt-1_pitch0.25node_df.parquet'\n",
    "# file2='TrkData_viewx_cl_TB_2023_T10_Sept_pi-Mono_10000_inclined_10000-evt-2_pitch0.25node_df.parquet'\n",
    "# fileE1='TrkData_viewx_cl_TB_2023_T10_Sept_pi-Mono_10000_inclined_10000-evt-1_pitch0.25edge_df.parquet'\n",
    "# fileE2='TrkData_viewx_cl_TB_2023_T10_Sept_pi-Mono_10000_inclined_10000-evt-2_pitch0.25edge_df.parquet'\n",
    "# lista_nodi=[folder_name+file1,folder_name+file2]\n",
    "# lista_edges=[folder_name+fileE1,folder_name+fileE2]"
   ]
  },
  {
   "cell_type": "code",
   "execution_count": 16,
   "id": "b310fac5-b591-43b0-b89e-2f7ca251e79b",
   "metadata": {
    "tags": []
   },
   "outputs": [],
   "source": [
    "# graph_sparse=construct_graphs(node_df_pi,edge_df_pi) #single file"
   ]
  },
  {
   "cell_type": "code",
   "execution_count": 7,
   "id": "3333b3fe-46a0-473d-a378-bb7188b4c5e8",
   "metadata": {},
   "outputs": [],
   "source": [
    "edge_df=pd.read_parquet(file_edge_df_sorted[0])"
   ]
  },
  {
   "cell_type": "code",
   "execution_count": 34,
   "id": "7b9d81a0-1ccd-48df-b9bb-13d5ec9d1284",
   "metadata": {},
   "outputs": [
    {
     "data": {
      "text/plain": [
       "991"
      ]
     },
     "execution_count": 34,
     "metadata": {},
     "output_type": "execute_result"
    }
   ],
   "source": [
    "len(file_edge_df_sorted)"
   ]
  },
  {
   "cell_type": "code",
   "execution_count": 25,
   "id": "6244fe57-e5fa-4e29-a4f4-922a647164c4",
   "metadata": {
    "tags": []
   },
   "outputs": [],
   "source": [
    "graph_sparse_list=[]\n",
    "for i in range(200,300):#(len(file_node_df_sorted)):\n",
    "    # print(i)\n",
    "    node_df=pd.read_parquet(file_node_df_sorted[i])\n",
    "    edge_df=pd.read_parquet(file_edge_df_sorted[i])\n",
    "    # print(edge_df.head())\n",
    "    graph_sparse_list.append(construct_graphs(node_df,edge_df))"
   ]
  },
  {
   "cell_type": "code",
   "execution_count": 26,
   "id": "2ac72091-aec0-49fc-a267-4588c34d4514",
   "metadata": {
    "tags": []
   },
   "outputs": [
    {
     "data": {
      "text/plain": [
       "100"
      ]
     },
     "execution_count": 26,
     "metadata": {},
     "output_type": "execute_result"
    }
   ],
   "source": [
    "len(graph_sparse_list)"
   ]
  },
  {
   "cell_type": "code",
   "execution_count": 15,
   "id": "f3c8b547-7abd-459d-850b-1dd7ce18cf0d",
   "metadata": {
    "tags": []
   },
   "outputs": [],
   "source": [
    "# graph_sparse_list"
   ]
  },
  {
   "cell_type": "code",
   "execution_count": 24,
   "id": "f11c801e-0f66-4601-8d73-0228f0c742fd",
   "metadata": {
    "tags": []
   },
   "outputs": [],
   "source": [
    "#single file\n",
    "# graph=[]\n",
    "# for i in range(0,len(graph_sparse)):\n",
    "#     gr=graph_from_sparse(graph_sparse[i])\n",
    "#     graph.append(gr)"
   ]
  },
  {
   "cell_type": "code",
   "execution_count": 16,
   "id": "85d23cbb-3edb-442d-98a4-38d38616fabb",
   "metadata": {
    "tags": []
   },
   "outputs": [],
   "source": [
    "graph=[]\n",
    "for j in range(0,100):#len(graph_sparse_list)):\n",
    "    graph.append([])\n",
    "    for k in range(0,len(graph_sparse_list[j])):\n",
    "        gr=graph_from_sparse(graph_sparse_list[j][k])\n",
    "        graph[j].append(gr)"
   ]
  },
  {
   "cell_type": "code",
   "execution_count": 23,
   "id": "a6d2c54a-7f90-4d0e-82f1-53e6fcdfbfdf",
   "metadata": {
    "tags": []
   },
   "outputs": [
    {
     "data": {
      "text/plain": [
       "100"
      ]
     },
     "execution_count": 23,
     "metadata": {},
     "output_type": "execute_result"
    }
   ],
   "source": [
    "len(graph)"
   ]
  },
  {
   "cell_type": "code",
   "execution_count": 7,
   "id": "877fb26d-e8f5-4be2-aaca-b0dd8a5a5d00",
   "metadata": {
    "tags": []
   },
   "outputs": [],
   "source": [
    "# filenames = []\n",
    "# for i in range(0,len(graph)):\n",
    "#     filenames.append(f'/lustrehome/federicacuna/TB_Sept_2023_ml/Data/npz_file_IN/npz_file/graph_{i}.npz')\n",
    "# save_graphs(graph, filenames)"
   ]
  },
  {
   "cell_type": "code",
   "execution_count": 15,
   "id": "a5f7e45a-6589-451a-bbff-a425fa5dfb0f",
   "metadata": {},
   "outputs": [],
   "source": [
    "# data=np.load('/lustrehome/federicacuna/TB_Sept_2023_ml/Data/npz_file_IN/npz_file/graph_0.npz')\n",
    "# data.files\n",
    "# data['y']"
   ]
  },
  {
   "cell_type": "code",
   "execution_count": null,
   "id": "2e156c69-75d0-4548-afa4-0eaa318df2a3",
   "metadata": {},
   "outputs": [],
   "source": [
    "#####tentativo per salvare i grafi in un unico file npz"
   ]
  },
  {
   "cell_type": "code",
   "execution_count": 24,
   "id": "74ecf867-9598-4607-9360-f6fad33c466d",
   "metadata": {
    "tags": []
   },
   "outputs": [
    {
     "ename": "IndexError",
     "evalue": "list index out of range",
     "output_type": "error",
     "traceback": [
      "\u001b[0;31m---------------------------------------------------------------------------\u001b[0m",
      "\u001b[0;31mIndexError\u001b[0m                                Traceback (most recent call last)",
      "Cell \u001b[0;32mIn[24], line 3\u001b[0m\n\u001b[1;32m      1\u001b[0m \u001b[38;5;28;01mfor\u001b[39;00m i \u001b[38;5;129;01min\u001b[39;00m \u001b[38;5;28mrange\u001b[39m (\u001b[38;5;241m101\u001b[39m):\u001b[38;5;66;03m#range(len(graph)):\u001b[39;00m\n\u001b[1;32m      2\u001b[0m     name\u001b[38;5;241m=\u001b[39mi\u001b[38;5;241m+\u001b[39m\u001b[38;5;241m100\u001b[39m\n\u001b[0;32m----> 3\u001b[0m     save_graph_combined(\u001b[38;5;124mf\u001b[39m\u001b[38;5;124m\"\u001b[39m\u001b[38;5;124m/lustrehome/federicacuna/TB_Sept_2023_ml/Data/npz_file_IN/viewx_data_npz\u001b[39m\u001b[38;5;132;01m{\u001b[39;00mname\u001b[38;5;132;01m}\u001b[39;00m\u001b[38;5;124m.npz\u001b[39m\u001b[38;5;124m\"\u001b[39m,\u001b[43mgraph\u001b[49m\u001b[43m[\u001b[49m\u001b[43mi\u001b[49m\u001b[43m]\u001b[49m)\n",
      "\u001b[0;31mIndexError\u001b[0m: list index out of range"
     ]
    }
   ],
   "source": [
    "for i in range (100):#range(len(graph)):\n",
    "    name=i+100\n",
    "    save_graph_combined(f\"/lustrehome/federicacuna/TB_Sept_2023_ml/Data/npz_file_IN/viewx_data_npz{name}.npz\",graph[i])"
   ]
  },
  {
   "cell_type": "code",
   "execution_count": 14,
   "id": "d54d28e0-d6ae-4cc3-8709-00f30a1a7e45",
   "metadata": {},
   "outputs": [],
   "source": [
    "# data_combined=load_graph_combined('test_npz0.npz')"
   ]
  },
  {
   "cell_type": "code",
   "execution_count": 17,
   "id": "ec244774-2674-46c1-8f94-a96b0c61b7a7",
   "metadata": {},
   "outputs": [],
   "source": [
    "# data_for_train=[]\n",
    "# for i in range(0,2):\n",
    "#     data_for_train.extend(load_graph_combined(f'test_npz{i}.npz'))"
   ]
  },
  {
   "cell_type": "code",
   "execution_count": null,
   "id": "08042904-3895-440e-a649-1eb0cd13362c",
   "metadata": {},
   "outputs": [],
   "source": [
    "######creazione di tanti fil npz quanti sono gli eventi nei vari file salvati!!!"
   ]
  },
  {
   "cell_type": "code",
   "execution_count": 19,
   "id": "84ab4ef6-cec0-4519-8f81-24fdb70a1d79",
   "metadata": {},
   "outputs": [],
   "source": [
    "# sparse_gr_mult=graph_from_files(lista_nodi,lista_edges)"
   ]
  },
  {
   "cell_type": "code",
   "execution_count": null,
   "id": "7098907a-09a7-4d81-b659-c048c5737f1a",
   "metadata": {},
   "outputs": [],
   "source": []
  }
 ],
 "metadata": {
  "kernelspec": {
   "display_name": "Python 3 (ipykernel)",
   "language": "python",
   "name": "python3"
  },
  "language_info": {
   "codemirror_mode": {
    "name": "ipython",
    "version": 3
   },
   "file_extension": ".py",
   "mimetype": "text/x-python",
   "name": "python",
   "nbconvert_exporter": "python",
   "pygments_lexer": "ipython3",
   "version": "3.11.5"
  }
 },
 "nbformat": 4,
 "nbformat_minor": 5
}
