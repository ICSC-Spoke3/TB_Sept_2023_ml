{
 "cells": [
  {
   "cell_type": "code",
   "execution_count": 1,
   "id": "81003703-1c30-478b-9120-4681d2aedb63",
   "metadata": {
    "tags": []
   },
   "outputs": [],
   "source": [
    "def batch_generator(X, Ri, Ro, y, n_samples=1, batch_size=1, train=True):\n",
    "    volatile = not train\n",
    "    batch_idxs = np.arange(0, n_samples, batch_size)\n",
    "    # Loop over epochs\n",
    "    while True:\n",
    "        # Loop over batches\n",
    "        for j in batch_idxs:\n",
    "            batch_X = np_to_torch(X[j:j+batch_size], volatile=volatile)\n",
    "            batch_Ri = np_to_torch(Ri[j:j+batch_size], volatile=volatile)\n",
    "            batch_Ro = np_to_torch(Ro[j:j+batch_size], volatile=volatile)\n",
    "            batch_y = np_to_torch(y[j:j+batch_size], volatile=volatile)\n",
    "            batch_inputs = [batch_X, batch_Ri, batch_Ro]\n",
    "            yield batch_inputs, batch_y"
   ]
  },
  {
   "cell_type": "code",
   "execution_count": null,
   "id": "f868d09b-e37b-4260-aed7-a4b910e8e99b",
   "metadata": {},
   "outputs": [],
   "source": []
  }
 ],
 "metadata": {
  "kernelspec": {
   "display_name": "Python 3 (ipykernel)",
   "language": "python",
   "name": "python3"
  },
  "language_info": {
   "codemirror_mode": {
    "name": "ipython",
    "version": 3
   },
   "file_extension": ".py",
   "mimetype": "text/x-python",
   "name": "python",
   "nbconvert_exporter": "python",
   "pygments_lexer": "ipython3",
   "version": "3.8.10"
  }
 },
 "nbformat": 4,
 "nbformat_minor": 5
}
