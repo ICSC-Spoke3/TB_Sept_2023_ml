{
 "cells": [
  {
   "cell_type": "code",
   "execution_count": 5,
   "id": "2bad74cb-7f14-4e21-8d88-a6d15a76459b",
   "metadata": {
    "tags": []
   },
   "outputs": [],
   "source": [
    "# %pip install torch\n",
    "# %pip install -U scikit-learn scipy matplotlib"
   ]
  },
  {
   "cell_type": "code",
   "execution_count": 1,
   "id": "121ff741-0401-47f2-842c-e1919f63d8f0",
   "metadata": {
    "tags": []
   },
   "outputs": [],
   "source": [
    "from graph import load_graphs, SparseGraph, graph_from_sparse,construct_graphs,feature_names,load_graph_combined\n",
    "from model import SegmentClassifier\n",
    "from estimator import Estimator\n",
    "from torch.autograd import Variable\n",
    "import torch.nn as nn\n",
    "import numpy as np\n",
    "import matplotlib.pyplot as plt\n",
    "import time\n",
    "import sklearn.metrics\n",
    "from sklearn.model_selection import train_test_split"
   ]
  },
  {
   "cell_type": "code",
   "execution_count": 25,
   "id": "f8100fdd-2f7e-4322-8df5-9bd0eb1cec99",
   "metadata": {
    "tags": []
   },
   "outputs": [],
   "source": [
    "cuda=True\n",
    "if cuda:\n",
    "    np_to_torch = lambda x, volatile=False: (\n",
    "        torch.tensor(x.astype(np.float32), requires_grad=False).cuda())\n",
    "else:\n",
    "    np_to_torch = lambda x, volatile=False: (\n",
    "        torch.tensor(x.astype(np.float32), requires_grad=False))\n",
    "\n",
    "torch_to_np = lambda x: x.cpu().data.numpy()"
   ]
  },
  {
   "cell_type": "code",
   "execution_count": 26,
   "id": "1c1e1f44-6e03-4c8b-ae8a-8b55974a7a1b",
   "metadata": {
    "tags": []
   },
   "outputs": [],
   "source": [
    "import torch\n",
    "from sklearn.model_selection import train_test_split\n",
    "def merge_graphs(graphs):\n",
    "    batch_size = len(graphs)\n",
    "    \n",
    "    # Special handling of batch size 1\n",
    "    if batch_size == 1:\n",
    "        g = graphs[0]\n",
    "        # Prepend singleton batch dimension\n",
    "        return g.X[None], g.Ri[None], g.Ro[None], g.y[None]\n",
    "    \n",
    "    # Get the maximum sizes in this batch\n",
    "    n_features = graphs[0].X.shape[1]\n",
    "    n_nodes = np.array([g.X.shape[0] for g in graphs])\n",
    "    n_edges = np.array([g.y.shape[0] for g in graphs])\n",
    "    max_nodes = n_nodes.max()\n",
    "    max_edges = n_edges.max()\n",
    "\n",
    "    # Allocate the tensors for this batch\n",
    "    batch_X = np.zeros((batch_size, max_nodes, n_features), dtype=np.float32)\n",
    "    batch_Ri = np.zeros((batch_size, max_nodes, max_edges), dtype=np.uint8)\n",
    "    batch_Ro = np.zeros((batch_size, max_nodes, max_edges), dtype=np.uint8)\n",
    "    batch_y = np.zeros((batch_size, max_edges), dtype=np.uint8)\n",
    "\n",
    "    # Loop over samples and fill the tensors\n",
    "    for i, g in enumerate(graphs):\n",
    "        batch_X[i, :n_nodes[i]] = g.X\n",
    "        batch_Ri[i, :n_nodes[i], :n_edges[i]] = g.Ri\n",
    "        batch_Ro[i, :n_nodes[i], :n_edges[i]] = g.Ro\n",
    "        batch_y[i, :n_edges[i]] = g.y\n",
    "    \n",
    "    return batch_X, batch_Ri, batch_Ro, batch_y\n",
    "\n",
    "def batch_generator(graphs, n_samples=1, batch_size=1, train=True):\n",
    "    volatile = not train\n",
    "    batch_idxs = np.arange(0, n_samples, batch_size)\n",
    "    # Loop over epochs\n",
    "    while True:\n",
    "        # Loop over batches\n",
    "        for j in batch_idxs:\n",
    "            #print('batch', j, '-', j+batch_size)\n",
    "            batch_graphs = [(g) for g in graphs[j:j+batch_size]]\n",
    "            batch_X, batch_Ri, batch_Ro, batch_y = merge_graphs(batch_graphs)\n",
    "            #print('  graphs merged')\n",
    "            batch_inputs = [\n",
    "                # torch.from_numpy(batch_X).cuda(),\n",
    "                # torch.from_numpy(batch_Ri).cuda(),\n",
    "                # torch.from_numpy(batch_Ro).cuda()\n",
    "                np_to_torch(batch_X, volatile=volatile),\n",
    "                np_to_torch(batch_Ri, volatile=volatile),\n",
    "                np_to_torch(batch_Ro, volatile=volatile)\n",
    "            ]\n",
    "            batch_target = np_to_torch(batch_y, volatile=volatile)\n",
    "            # batch_target=torch.from_numpy(batch_y).cuda()\n",
    "            #print('  data prepared')\n",
    "            yield batch_inputs, batch_target"
   ]
  },
  {
   "cell_type": "code",
   "execution_count": 2,
   "id": "afc72ae4-c90a-45fd-871d-3ceaef240560",
   "metadata": {
    "tags": []
   },
   "outputs": [],
   "source": [
    "import os\n",
    "folder_path = \"/lustrehome/federicacuna/TB_Sept_2023_ml/Data/npz_file_IN/\"\n",
    "lista=os.listdir(folder_path)"
   ]
  },
  {
   "cell_type": "code",
   "execution_count": 3,
   "id": "812559b6-55b9-499e-8a81-021274666ff7",
   "metadata": {},
   "outputs": [],
   "source": [
    "graph = [os.path.join(folder_path, file) for file in lista if \".ipynb_checkpoint\" not in file  ]"
   ]
  },
  {
   "cell_type": "code",
   "execution_count": 5,
   "id": "709d4d4b-a767-46f8-91dc-6809fd811764",
   "metadata": {
    "tags": []
   },
   "outputs": [],
   "source": [
    "# graphs=load_graphs(lista,folder_path)"
   ]
  },
  {
   "cell_type": "code",
   "execution_count": 4,
   "id": "fa1df57c-d29f-44b8-acf5-17cc3ecc5659",
   "metadata": {},
   "outputs": [],
   "source": [
    "def extract_number_from_filename(filename):\n",
    "    return int(filename.split(\"_npz\")[1].split(\".npz\")[0])\n",
    "\n",
    "# Ordina i file basati sul numero compreso tra \"_npz\" e \".npz\" nel loro nome\n",
    "graph_data_sorted = sorted([os.path.join(folder_path, file) for file in graph], key=extract_number_from_filename)\n"
   ]
  },
  {
   "cell_type": "code",
   "execution_count": null,
   "id": "246a8355-14fc-49d9-9d8a-ccbf375eca25",
   "metadata": {},
   "outputs": [],
   "source": [
    "%%time\n",
    "data_for_train=[]\n",
    "for i in graph_data_sorted:\n",
    "    # print(i)\n",
    "    data_for_train.extend(load_graph_combined(i))"
   ]
  },
  {
   "cell_type": "code",
   "execution_count": 21,
   "id": "67df4c5e-fa2d-42ee-8ee8-ada93a091b7d",
   "metadata": {},
   "outputs": [],
   "source": [
    "# graphs=load_graph_combined('test_npz.npz')\n",
    "graphs=data_for_train"
   ]
  },
  {
   "cell_type": "code",
   "execution_count": 22,
   "id": "a6f42acd-2d53-4251-9de2-454da09722ea",
   "metadata": {
    "tags": []
   },
   "outputs": [
    {
     "data": {
      "text/plain": [
       "(4000, 1000, 1000, 6000)"
      ]
     },
     "execution_count": 22,
     "metadata": {},
     "output_type": "execute_result"
    }
   ],
   "source": [
    "hidden_dim = 64\n",
    "n_iters = 7\n",
    "n_samples=len(graphs)\n",
    "# Training config\n",
    "batch_size = 1000#32\n",
    "n_epochs = 100\n",
    "valid_frac = 0.2\n",
    "test_frac = 0.2\n",
    "# We round by batch_size to avoid partial batches\n",
    "n_test = int(n_samples * test_frac) // batch_size * batch_size\n",
    "n_valid = int(n_samples * valid_frac) // batch_size * batch_size\n",
    "n_train = (n_samples - n_valid - n_test) // batch_size * batch_size\n",
    "n_train_batches = n_train // batch_size\n",
    "n_valid_batches = n_valid // batch_size\n",
    "n_test_batches = n_test #// batch_size\n",
    "\n",
    "n_train, n_valid, n_test, n_train + n_valid + n_test"
   ]
  },
  {
   "cell_type": "code",
   "execution_count": 43,
   "id": "b17a5dac-a637-4c41-b73f-6bdf2cbb0b78",
   "metadata": {
    "tags": []
   },
   "outputs": [
    {
     "name": "stdout",
     "output_type": "stream",
     "text": [
      "Train set size: 8356\n",
      "Valid set size: 2752\n",
      "Test set size:  2752\n"
     ]
    }
   ],
   "source": [
    "# Partition the dataset\n",
    "train_graphs, test_graphs = train_test_split(graphs, test_size=n_test)\n",
    "train_graphs, valid_graphs = train_test_split(train_graphs, test_size=n_valid)\n",
    "\n",
    "print('Train set size:', len(train_graphs))\n",
    "print('Valid set size:', len(valid_graphs))\n",
    "print('Test set size: ', len(test_graphs))"
   ]
  },
  {
   "cell_type": "code",
   "execution_count": 44,
   "id": "f59e1877-f63d-43ac-acc9-e7148107c021",
   "metadata": {
    "tags": []
   },
   "outputs": [],
   "source": [
    "# Prepare the batch generators\n",
    "train_batcher = batch_generator(train_graphs, n_samples=n_train, batch_size=batch_size)\n",
    "valid_batcher = batch_generator(valid_graphs, n_samples=n_valid, batch_size=batch_size, train=False)\n",
    "test_batcher = batch_generator(test_graphs, n_samples=n_test, batch_size=1, train=False)"
   ]
  },
  {
   "cell_type": "code",
   "execution_count": 23,
   "id": "6b54775a-1f56-4aa2-b354-2f6fc976d685",
   "metadata": {
    "tags": []
   },
   "outputs": [
    {
     "name": "stdout",
     "output_type": "stream",
     "text": [
      "2024-04-05 07:07:48.288219 Model: \n",
      "SegmentClassifier(\n",
      "  (input_network): Sequential(\n",
      "    (0): Linear(in_features=5, out_features=64, bias=True)\n",
      "    (1): Tanh()\n",
      "  )\n",
      "  (edge_network): EdgeNetwork(\n",
      "    (network): Sequential(\n",
      "      (0): Linear(in_features=138, out_features=64, bias=True)\n",
      "      (1): Tanh()\n",
      "      (2): Linear(in_features=64, out_features=1, bias=True)\n",
      "      (3): Sigmoid()\n",
      "    )\n",
      "  )\n",
      "  (node_network): NodeNetwork(\n",
      "    (network): Sequential(\n",
      "      (0): Linear(in_features=207, out_features=64, bias=True)\n",
      "      (1): Tanh()\n",
      "      (2): Linear(in_features=64, out_features=64, bias=True)\n",
      "      (3): Tanh()\n",
      "    )\n",
      "  )\n",
      ")\n",
      "2024-04-05 07:07:48.288366 Parameters: 26817\n"
     ]
    }
   ],
   "source": [
    "model = SegmentClassifier(input_dim=5, hidden_dim=hidden_dim, n_iters=n_iters)\n",
    "loss_func = nn.functional.binary_cross_entropy\n",
    "estim = Estimator(model, loss_func=loss_func, cuda=True)"
   ]
  },
  {
   "cell_type": "code",
   "execution_count": 46,
   "id": "d274fc1b-f2f5-4796-86cc-5f04506affad",
   "metadata": {
    "tags": []
   },
   "outputs": [
    {
     "name": "stdout",
     "output_type": "stream",
     "text": [
      "2024-04-03 13:32:17.756361 Epoch 0\n",
      "2024-04-03 13:32:35.471609   training loss 0.234 time 17.7149s\n",
      "Epoch_stop: 0\n",
      "2024-04-03 13:32:39.262185   validate loss 0.212\n",
      "2024-04-03 13:32:39.262208 Epoch 1\n",
      "2024-04-03 13:32:55.968807   training loss 0.207 time 16.7066s\n",
      "Epoch_stop: 1\n",
      "2024-04-03 13:32:59.945190   validate loss 0.212\n",
      "2024-04-03 13:32:59.945215 Epoch 2\n",
      "2024-04-03 13:33:17.363333   training loss 0.207 time 17.4181s\n",
      "Epoch_stop: 2\n",
      "2024-04-03 13:33:21.144724   validate loss 0.211\n",
      "2024-04-03 13:33:21.144747 Epoch 3\n",
      "2024-04-03 13:33:38.066723   training loss 0.207 time 16.9219s\n",
      "2024-04-03 13:33:41.739357   validate loss 0.212\n",
      "2024-04-03 13:33:41.739466 Epoch 4\n",
      "2024-04-03 13:33:58.163481   training loss 0.207 time 16.424s\n",
      "2024-04-03 13:34:01.944002   validate loss 0.211\n",
      "2024-04-03 13:34:01.944112 Epoch 5\n",
      "2024-04-03 13:34:18.570842   training loss 0.206 time 16.6267s\n",
      "2024-04-03 13:34:22.138992   validate loss 0.211\n",
      "2024-04-03 13:34:22.139099 Epoch 6\n",
      "2024-04-03 13:34:38.473619   training loss 0.206 time 16.3345s\n",
      "2024-04-03 13:34:42.439736   validate loss 0.212\n",
      "2024-04-03 13:34:42.439836 Epoch 7\n",
      "2024-04-03 13:34:58.973875   training loss 0.206 time 16.534s\n",
      "2024-04-03 13:35:02.637146   validate loss 0.212\n",
      "2024-04-03 13:35:02.637265 Epoch 8\n",
      "2024-04-03 13:35:19.564569   training loss 0.206 time 16.9273s\n",
      "2024-04-03 13:35:22.937934   validate loss 0.212\n",
      "2024-04-03 13:35:22.938045 Epoch 9\n",
      "2024-04-03 13:35:39.569611   training loss 0.206 time 16.6315s\n",
      "2024-04-03 13:35:43.540477   validate loss 0.211\n",
      "2024-04-03 13:35:43.540584 Epoch 10\n",
      "2024-04-03 13:36:00.974809   training loss 0.207 time 17.4342s\n",
      "2024-04-03 13:36:04.638240   validate loss 0.212\n",
      "2024-04-03 13:36:04.638349 Epoch 11\n",
      "2024-04-03 13:36:21.188356   training loss 0.206 time 16.55s\n",
      "2024-04-03 13:36:25.139735   validate loss 0.212\n",
      "2024-04-03 13:36:25.139848 Epoch 12\n",
      "2024-04-03 13:36:41.767114   training loss 0.206 time 16.6272s\n",
      "2024-04-03 13:36:45.539973   validate loss 0.211\n",
      "2024-04-03 13:36:45.540082 Epoch 13\n",
      "2024-04-03 13:37:02.618898   training loss 0.206 time 17.0788s\n",
      "2024-04-03 13:37:06.539712   validate loss 0.211\n",
      "2024-04-03 13:37:06.539821 Epoch 14\n",
      "2024-04-03 13:37:23.765345   training loss 0.206 time 17.2255s\n",
      "2024-04-03 13:37:27.567308   validate loss 0.212\n",
      "2024-04-03 13:37:27.567420 Epoch 15\n",
      "2024-04-03 13:37:43.870342   training loss 0.206 time 16.3029s\n",
      "2024-04-03 13:37:47.339899   validate loss 0.212\n",
      "2024-04-03 13:37:47.340127 Epoch 16\n",
      "2024-04-03 13:38:03.966493   training loss 0.206 time 16.6263s\n",
      "2024-04-03 13:38:07.939511   validate loss 0.212\n",
      "2024-04-03 13:38:07.939609 Epoch 17\n",
      "2024-04-03 13:38:24.864846   training loss 0.206 time 16.9252s\n",
      "2024-04-03 13:38:28.638691   validate loss 0.212\n",
      "2024-04-03 13:38:28.638794 Epoch 18\n",
      "2024-04-03 13:38:45.674501   training loss 0.206 time 17.0357s\n",
      "2024-04-03 13:38:49.641172   validate loss 0.212\n",
      "2024-04-03 13:38:49.641283 Epoch 19\n",
      "2024-04-03 13:39:06.168487   training loss 0.206 time 16.5272s\n",
      "2024-04-03 13:39:09.938852   validate loss 0.212\n",
      "2024-04-03 13:39:09.938958 Epoch 20\n",
      "2024-04-03 13:39:26.768343   training loss 0.206 time 16.8293s\n",
      "2024-04-03 13:39:30.545512   validate loss 0.212\n",
      "2024-04-03 13:39:30.545609 Epoch 21\n",
      "2024-04-03 13:39:47.668596   training loss 0.206 time 17.123s\n",
      "2024-04-03 13:39:51.826056   validate loss 0.212\n",
      "2024-04-03 13:39:51.826151 Epoch 22\n",
      "2024-04-03 13:40:09.570639   training loss 0.206 time 17.7444s\n",
      "2024-04-03 13:40:13.140269   validate loss 0.212\n",
      "2024-04-03 13:40:13.140376 Epoch 23\n",
      "2024-04-03 13:40:29.474130   training loss 0.206 time 16.3337s\n",
      "2024-04-03 13:40:32.939522   validate loss 0.212\n",
      "2024-04-03 13:40:32.939630 Epoch 24\n",
      "2024-04-03 13:40:50.772014   training loss 0.206 time 17.8323s\n",
      "2024-04-03 13:40:54.639852   validate loss 0.212\n",
      "2024-04-03 13:40:54.639955 Epoch 25\n",
      "2024-04-03 13:41:11.977153   training loss 0.206 time 17.3372s\n",
      "2024-04-03 13:41:16.139145   validate loss 0.212\n",
      "2024-04-03 13:41:16.139255 Epoch 26\n",
      "2024-04-03 13:41:32.971062   training loss 0.206 time 16.8318s\n",
      "2024-04-03 13:41:36.938689   validate loss 0.212\n",
      "2024-04-03 13:41:36.938795 Epoch 27\n",
      "2024-04-03 13:41:54.002738   training loss 0.206 time 17.0639s\n",
      "2024-04-03 13:41:57.347380   validate loss 0.212\n",
      "2024-04-03 13:41:57.347495 Epoch 28\n",
      "2024-04-03 13:42:13.979220   training loss 0.206 time 16.6317s\n",
      "2024-04-03 13:42:17.544621   validate loss 0.212\n",
      "2024-04-03 13:42:17.544735 Epoch 29\n",
      "2024-04-03 13:42:33.963987   training loss 0.206 time 16.4192s\n",
      "2024-04-03 13:42:37.542862   validate loss 0.212\n",
      "2024-04-03 13:42:37.542964 Epoch 30\n",
      "2024-04-03 13:42:53.597483   training loss 0.206 time 16.0545s\n",
      "2024-04-03 13:42:57.443872   validate loss 0.212\n",
      "2024-04-03 13:42:57.443975 Epoch 31\n",
      "2024-04-03 13:43:14.465057   training loss 0.206 time 17.021s\n",
      "2024-04-03 13:43:18.339735   validate loss 0.212\n",
      "2024-04-03 13:43:18.339839 Epoch 32\n",
      "2024-04-03 13:43:34.281230   training loss 0.206 time 15.9413s\n",
      "2024-04-03 13:43:38.438248   validate loss 0.212\n",
      "2024-04-03 13:43:38.438353 Epoch 33\n",
      "2024-04-03 13:43:55.772981   training loss 0.206 time 17.3346s\n",
      "2024-04-03 13:43:59.635661   validate loss 0.212\n",
      "2024-04-03 13:43:59.635761 Epoch 34\n",
      "2024-04-03 13:44:16.478636   training loss 0.206 time 16.8428s\n",
      "2024-04-03 13:44:20.825731   validate loss 0.212\n",
      "2024-04-03 13:44:20.825908 Epoch 35\n",
      "2024-04-03 13:44:38.572328   training loss 0.206 time 17.7464s\n",
      "2024-04-03 13:44:42.665736   validate loss 0.212\n",
      "2024-04-03 13:44:42.665842 Epoch 36\n",
      "2024-04-03 13:45:00.075639   training loss 0.206 time 17.4098s\n",
      "2024-04-03 13:45:04.238860   validate loss 0.212\n",
      "2024-04-03 13:45:04.238963 Epoch 37\n",
      "2024-04-03 13:45:20.798694   training loss 0.206 time 16.5597s\n",
      "2024-04-03 13:45:24.639014   validate loss 0.212\n",
      "2024-04-03 13:45:24.639112 Epoch 38\n",
      "2024-04-03 13:45:41.765734   training loss 0.207 time 17.1266s\n",
      "2024-04-03 13:45:45.649100   validate loss 0.212\n",
      "2024-04-03 13:45:45.649197 Epoch 39\n",
      "2024-04-03 13:46:02.671213   training loss 0.207 time 17.022s\n",
      "2024-04-03 13:46:06.744912   validate loss 0.212\n",
      "2024-04-03 13:46:06.745020 Epoch 40\n",
      "2024-04-03 13:46:23.768149   training loss 0.207 time 17.0231s\n",
      "2024-04-03 13:46:27.638840   validate loss 0.212\n",
      "2024-04-03 13:46:27.638936 Epoch 41\n",
      "2024-04-03 13:46:45.166893   training loss 0.206 time 17.5279s\n",
      "2024-04-03 13:46:49.044182   validate loss 0.212\n",
      "2024-04-03 13:46:49.044332 Epoch 42\n",
      "2024-04-03 13:47:05.869587   training loss 0.206 time 16.8252s\n",
      "2024-04-03 13:47:09.338888   validate loss 0.212\n",
      "2024-04-03 13:47:09.338992 Epoch 43\n",
      "2024-04-03 13:47:26.376318   training loss 0.206 time 17.0373s\n",
      "2024-04-03 13:47:30.339505   validate loss 0.212\n",
      "2024-04-03 13:47:30.339615 Epoch 44\n",
      "2024-04-03 13:47:47.690025   training loss 0.206 time 17.3504s\n",
      "2024-04-03 13:47:51.745631   validate loss 0.212\n",
      "2024-04-03 13:47:51.745738 Epoch 45\n",
      "2024-04-03 13:48:08.098663   training loss 0.206 time 16.3529s\n",
      "2024-04-03 13:48:12.042029   validate loss 0.212\n",
      "2024-04-03 13:48:12.042145 Epoch 46\n",
      "2024-04-03 13:48:28.174634   training loss 0.206 time 16.1325s\n",
      "2024-04-03 13:48:31.340060   validate loss 0.212\n",
      "2024-04-03 13:48:31.340173 Epoch 47\n",
      "2024-04-03 13:48:47.370508   training loss 0.206 time 16.0303s\n",
      "2024-04-03 13:48:51.044735   validate loss 0.212\n",
      "2024-04-03 13:48:51.044840 Epoch 48\n",
      "2024-04-03 13:49:07.279327   training loss 0.206 time 16.2345s\n",
      "2024-04-03 13:49:11.144206   validate loss 0.212\n",
      "2024-04-03 13:49:11.144318 Epoch 49\n",
      "2024-04-03 13:49:28.279323   training loss 0.206 time 17.135s\n",
      "2024-04-03 13:49:31.939313   validate loss 0.212\n",
      "2024-04-03 13:49:31.939453 Epoch 50\n",
      "2024-04-03 13:49:49.273058   training loss 0.206 time 17.3336s\n",
      "2024-04-03 13:49:53.048297   validate loss 0.212\n",
      "2024-04-03 13:49:53.048403 Epoch 51\n",
      "2024-04-03 13:50:10.766218   training loss 0.206 time 17.7178s\n",
      "2024-04-03 13:50:14.438883   validate loss 0.212\n",
      "2024-04-03 13:50:14.438992 Epoch 52\n",
      "2024-04-03 13:50:31.882271   training loss 0.206 time 17.4432s\n",
      "2024-04-03 13:50:36.052051   validate loss 0.212\n",
      "2024-04-03 13:50:36.052165 Epoch 53\n",
      "2024-04-03 13:50:53.070940   training loss 0.206 time 17.0187s\n",
      "2024-04-03 13:50:56.848955   validate loss 0.212\n",
      "2024-04-03 13:50:56.849167 Epoch 54\n",
      "2024-04-03 13:51:13.869811   training loss 0.206 time 17.0206s\n",
      "2024-04-03 13:51:17.639232   validate loss 0.212\n",
      "2024-04-03 13:51:17.639334 Epoch 55\n",
      "2024-04-03 13:51:33.968251   training loss 0.206 time 16.3289s\n",
      "2024-04-03 13:51:37.746055   validate loss 0.212\n",
      "2024-04-03 13:51:37.746164 Epoch 56\n",
      "2024-04-03 13:51:55.075470   training loss 0.206 time 17.3293s\n",
      "2024-04-03 13:51:58.942331   validate loss 0.212\n",
      "2024-04-03 13:51:58.942437 Epoch 57\n",
      "2024-04-03 13:52:16.965303   training loss 0.206 time 18.0228s\n",
      "2024-04-03 13:52:20.839351   validate loss 0.212\n",
      "2024-04-03 13:52:20.839454 Epoch 58\n",
      "2024-04-03 13:52:38.576359   training loss 0.206 time 17.7369s\n",
      "2024-04-03 13:52:42.138623   validate loss 0.212\n",
      "2024-04-03 13:52:42.138738 Epoch 59\n",
      "2024-04-03 13:53:00.279943   training loss 0.206 time 18.1412s\n",
      "2024-04-03 13:53:04.145985   validate loss 0.212\n",
      "2024-04-03 13:53:04.146094 Epoch 60\n",
      "2024-04-03 13:53:21.474757   training loss 0.206 time 17.3286s\n",
      "2024-04-03 13:53:25.240611   validate loss 0.212\n",
      "2024-04-03 13:53:25.240712 Epoch 61\n",
      "2024-04-03 13:53:42.573815   training loss 0.206 time 17.3331s\n",
      "2024-04-03 13:53:46.644366   validate loss 0.212\n",
      "2024-04-03 13:53:46.644506 Epoch 62\n",
      "2024-04-03 13:54:03.969693   training loss 0.206 time 17.3252s\n",
      "2024-04-03 13:54:07.653410   validate loss 0.212\n",
      "2024-04-03 13:54:07.653525 Epoch 63\n",
      "2024-04-03 13:54:24.698704   training loss 0.206 time 17.0452s\n",
      "2024-04-03 13:54:28.438334   validate loss 0.212\n",
      "2024-04-03 13:54:28.438444 Epoch 64\n",
      "2024-04-03 13:54:44.366354   training loss 0.206 time 15.9279s\n",
      "2024-04-03 13:54:47.839339   validate loss 0.212\n",
      "2024-04-03 13:54:47.839445 Epoch 65\n",
      "2024-04-03 13:55:03.570084   training loss 0.206 time 15.7306s\n",
      "2024-04-03 13:55:07.359131   validate loss 0.212\n",
      "2024-04-03 13:55:07.359236 Epoch 66\n",
      "2024-04-03 13:55:23.963678   training loss 0.206 time 16.6044s\n",
      "2024-04-03 13:55:27.640085   validate loss 0.212\n",
      "2024-04-03 13:55:27.640189 Epoch 67\n",
      "2024-04-03 13:55:44.871990   training loss 0.208 time 17.2318s\n",
      "2024-04-03 13:55:48.747932   validate loss 0.212\n",
      "2024-04-03 13:55:48.748045 Epoch 68\n",
      "2024-04-03 13:56:05.574244   training loss 0.206 time 16.8262s\n",
      "Epoch_stop: 68\n",
      "2024-04-03 13:56:09.544237   validate loss 0.211\n",
      "2024-04-03 13:56:09.544259 Epoch 69\n",
      "2024-04-03 13:56:27.076375   training loss 0.207 time 17.5321s\n",
      "2024-04-03 13:56:30.849310   validate loss 0.211\n",
      "2024-04-03 13:56:30.849417 Epoch 70\n",
      "2024-04-03 13:56:47.564730   training loss 0.207 time 16.7153s\n",
      "2024-04-03 13:56:51.639290   validate loss 0.211\n",
      "2024-04-03 13:56:51.639402 Epoch 71\n",
      "2024-04-03 13:57:09.082825   training loss 0.207 time 17.4434s\n",
      "2024-04-03 13:57:13.240712   validate loss 0.211\n",
      "2024-04-03 13:57:13.240898 Epoch 72\n",
      "2024-04-03 13:57:30.438982   training loss 0.207 time 17.1981s\n",
      "2024-04-03 13:57:34.538997   validate loss 0.211\n",
      "2024-04-03 13:57:34.539111 Epoch 73\n",
      "2024-04-03 13:57:52.071720   training loss 0.207 time 17.5326s\n",
      "2024-04-03 13:57:56.144553   validate loss 0.211\n",
      "2024-04-03 13:57:56.144656 Epoch 74\n",
      "2024-04-03 13:58:12.574444   training loss 0.207 time 16.4297s\n",
      "2024-04-03 13:58:16.744973   validate loss 0.211\n",
      "2024-04-03 13:58:16.745081 Epoch 75\n",
      "2024-04-03 13:58:34.464875   training loss 0.207 time 17.7198s\n",
      "2024-04-03 13:58:38.339248   validate loss 0.211\n",
      "2024-04-03 13:58:38.339497 Epoch 76\n",
      "2024-04-03 13:58:56.172604   training loss 0.207 time 17.8331s\n",
      "2024-04-03 13:58:59.938787   validate loss 0.211\n",
      "2024-04-03 13:58:59.938893 Epoch 77\n",
      "2024-04-03 13:59:16.864961   training loss 0.207 time 16.926s\n",
      "2024-04-03 13:59:20.739614   validate loss 0.211\n",
      "2024-04-03 13:59:20.739715 Epoch 78\n",
      "2024-04-03 13:59:37.983889   training loss 0.207 time 17.2441s\n",
      "2024-04-03 13:59:41.638886   validate loss 0.211\n",
      "2024-04-03 13:59:41.638991 Epoch 79\n",
      "2024-04-03 13:59:58.199414   training loss 0.207 time 16.5604s\n",
      "2024-04-03 14:00:01.837999   validate loss 0.211\n",
      "2024-04-03 14:00:01.838178 Epoch 80\n",
      "2024-04-03 14:00:19.172169   training loss 0.207 time 17.334s\n",
      "2024-04-03 14:00:22.840369   validate loss 0.211\n",
      "2024-04-03 14:00:22.840483 Epoch 81\n",
      "2024-04-03 14:00:40.068897   training loss 0.207 time 17.2284s\n",
      "2024-04-03 14:00:44.138723   validate loss 0.211\n",
      "2024-04-03 14:00:44.138852 Epoch 82\n",
      "2024-04-03 14:01:00.374091   training loss 0.207 time 16.2352s\n",
      "2024-04-03 14:01:04.346387   validate loss 0.211\n",
      "2024-04-03 14:01:04.346505 Epoch 83\n",
      "2024-04-03 14:01:21.571074   training loss 0.207 time 17.2245s\n",
      "2024-04-03 14:01:25.354988   validate loss 0.211\n",
      "2024-04-03 14:01:25.355087 Epoch 84\n",
      "2024-04-03 14:01:42.576025   training loss 0.207 time 17.2209s\n",
      "2024-04-03 14:01:46.249104   validate loss 0.211\n",
      "2024-04-03 14:01:46.249214 Epoch 85\n",
      "2024-04-03 14:02:02.569308   training loss 0.207 time 16.3201s\n",
      "2024-04-03 14:02:06.139566   validate loss 0.211\n",
      "2024-04-03 14:02:06.139673 Epoch 86\n",
      "2024-04-03 14:02:23.265104   training loss 0.207 time 17.1254s\n",
      "2024-04-03 14:02:26.839880   validate loss 0.211\n",
      "2024-04-03 14:02:26.840000 Epoch 87\n",
      "2024-04-03 14:02:43.870560   training loss 0.207 time 17.0305s\n",
      "2024-04-03 14:02:47.545988   validate loss 0.211\n",
      "2024-04-03 14:02:47.546108 Epoch 88\n",
      "2024-04-03 14:03:05.266186   training loss 0.207 time 17.72s\n",
      "2024-04-03 14:03:09.344235   validate loss 0.211\n",
      "2024-04-03 14:03:09.344495 Epoch 89\n",
      "2024-04-03 14:03:26.674489   training loss 0.207 time 17.3299s\n",
      "2024-04-03 14:03:30.539775   validate loss 0.211\n",
      "2024-04-03 14:03:30.539882 Epoch 90\n",
      "2024-04-03 14:03:47.369186   training loss 0.207 time 16.8293s\n",
      "2024-04-03 14:03:51.339644   validate loss 0.211\n",
      "2024-04-03 14:03:51.339754 Epoch 91\n",
      "2024-04-03 14:04:08.270190   training loss 0.207 time 16.9304s\n",
      "2024-04-03 14:04:11.939052   validate loss 0.211\n",
      "2024-04-03 14:04:11.939152 Epoch 92\n",
      "2024-04-03 14:04:28.375993   training loss 0.207 time 16.4368s\n",
      "2024-04-03 14:04:31.939612   validate loss 0.211\n",
      "2024-04-03 14:04:31.939717 Epoch 93\n",
      "2024-04-03 14:04:48.867195   training loss 0.207 time 16.9275s\n",
      "2024-04-03 14:04:52.839185   validate loss 0.211\n",
      "2024-04-03 14:04:52.839289 Epoch 94\n",
      "2024-04-03 14:05:10.176330   training loss 0.207 time 17.337s\n",
      "2024-04-03 14:05:13.839194   validate loss 0.211\n",
      "2024-04-03 14:05:13.839307 Epoch 95\n",
      "2024-04-03 14:05:29.269395   training loss 0.207 time 15.4301s\n",
      "2024-04-03 14:05:32.745488   validate loss 0.211\n",
      "2024-04-03 14:05:32.745584 Epoch 96\n",
      "2024-04-03 14:05:49.064578   training loss 0.207 time 16.319s\n",
      "2024-04-03 14:05:52.738559   validate loss 0.211\n",
      "2024-04-03 14:05:52.738672 Epoch 97\n",
      "2024-04-03 14:06:10.169451   training loss 0.207 time 17.4307s\n",
      "2024-04-03 14:06:13.850683   validate loss 0.211\n",
      "2024-04-03 14:06:13.850789 Epoch 98\n",
      "2024-04-03 14:06:30.680387   training loss 0.207 time 16.8296s\n",
      "2024-04-03 14:06:34.443606   validate loss 0.211\n",
      "2024-04-03 14:06:34.443712 Epoch 99\n",
      "2024-04-03 14:06:51.367081   training loss 0.207 time 16.9233s\n",
      "2024-04-03 14:06:55.139038   validate loss 0.211\n"
     ]
    }
   ],
   "source": [
    "%%time\n",
    "estim.fit_gen(train_batcher, n_batches=n_train_batches, n_epochs=100,\n",
    "              valid_generator=valid_batcher, n_valid_batches=n_valid_batches, verbose=0)"
   ]
  },
  {
   "cell_type": "code",
   "execution_count": 47,
   "id": "37aee8a5-90c3-4a5a-97d4-abcae1805e9f",
   "metadata": {
    "tags": []
   },
   "outputs": [
    {
     "data": {
      "image/png": "[encoded data removed]",
      "text/plain": [
       "<Figure size 640x480 with 1 Axes>"
      ]
     },
     "metadata": {},
     "output_type": "display_data"
    }
   ],
   "source": [
    "# Plot the loss\n",
    "plt.figure()\n",
    "plt.plot(estim.train_losses, label='training set')\n",
    "plt.plot(estim.valid_losses, label='validation set')\n",
    "plt.xlabel('Epoch')\n",
    "plt.ylabel('Loss')\n",
    "plt.legend(loc=0);"
   ]
  },
  {
   "cell_type": "code",
   "execution_count": 28,
   "id": "a2db7be8-b0e6-4b02-b7e6-8d0f6f4ee714",
   "metadata": {
    "tags": []
   },
   "outputs": [
    {
     "name": "stdout",
     "output_type": "stream",
     "text": [
      "Test set results with threshold of 0.8\n"
     ]
    },
    {
     "ename": "ValueError",
     "evalue": "Found input variables with inconsistent numbers of samples: [48843, 9000]",
     "output_type": "error",
     "traceback": [
      "\u001b[0;31m---------------------------------------------------------------------------\u001b[0m",
      "\u001b[0;31mValueError\u001b[0m                                Traceback (most recent call last)",
      "Cell \u001b[0;32mIn [28], line 12\u001b[0m\n\u001b[1;32m     10\u001b[0m thresh \u001b[38;5;241m=\u001b[39m \u001b[38;5;241m0.8\u001b[39m\n\u001b[1;32m     11\u001b[0m \u001b[38;5;28mprint\u001b[39m(\u001b[38;5;124m'\u001b[39m\u001b[38;5;124mTest set results with threshold of\u001b[39m\u001b[38;5;124m'\u001b[39m, thresh)\n\u001b[0;32m---> 12\u001b[0m \u001b[38;5;28mprint\u001b[39m(\u001b[38;5;124m'\u001b[39m\u001b[38;5;124mAccuracy:  \u001b[39m\u001b[38;5;132;01m%.4f\u001b[39;00m\u001b[38;5;124m'\u001b[39m \u001b[38;5;241m%\u001b[39m \u001b[43msklearn\u001b[49m\u001b[38;5;241;43m.\u001b[39;49m\u001b[43mmetrics\u001b[49m\u001b[38;5;241;43m.\u001b[39;49m\u001b[43maccuracy_score\u001b[49m\u001b[43m(\u001b[49m\u001b[43mflat_y\u001b[49m\u001b[43m,\u001b[49m\u001b[43m \u001b[49m\u001b[43mflat_pred\u001b[49m\u001b[38;5;241;43m>\u001b[39;49m\u001b[43mthresh\u001b[49m\u001b[43m)\u001b[49m)\n\u001b[1;32m     13\u001b[0m \u001b[38;5;28mprint\u001b[39m(\u001b[38;5;124m'\u001b[39m\u001b[38;5;124mPrecision: \u001b[39m\u001b[38;5;132;01m%.4f\u001b[39;00m\u001b[38;5;124m'\u001b[39m \u001b[38;5;241m%\u001b[39m sklearn\u001b[38;5;241m.\u001b[39mmetrics\u001b[38;5;241m.\u001b[39mprecision_score(flat_y, flat_pred\u001b[38;5;241m>\u001b[39mthresh))\n\u001b[1;32m     14\u001b[0m \u001b[38;5;28mprint\u001b[39m(\u001b[38;5;124m'\u001b[39m\u001b[38;5;124mRecall:    \u001b[39m\u001b[38;5;132;01m%.4f\u001b[39;00m\u001b[38;5;124m'\u001b[39m \u001b[38;5;241m%\u001b[39m sklearn\u001b[38;5;241m.\u001b[39mmetrics\u001b[38;5;241m.\u001b[39mrecall_score(flat_y, flat_pred\u001b[38;5;241m>\u001b[39mthresh))\n",
      "File \u001b[0;32m~/.conda/envs/py_env/lib/python3.8/site-packages/sklearn/utils/_param_validation.py:192\u001b[0m, in \u001b[0;36mvalidate_params.<locals>.decorator.<locals>.wrapper\u001b[0;34m(*args, **kwargs)\u001b[0m\n\u001b[1;32m    187\u001b[0m validate_parameter_constraints(\n\u001b[1;32m    188\u001b[0m     parameter_constraints, params, caller_name\u001b[38;5;241m=\u001b[39mfunc\u001b[38;5;241m.\u001b[39m\u001b[38;5;18m__qualname__\u001b[39m\n\u001b[1;32m    189\u001b[0m )\n\u001b[1;32m    191\u001b[0m \u001b[38;5;28;01mtry\u001b[39;00m:\n\u001b[0;32m--> 192\u001b[0m     \u001b[38;5;28;01mreturn\u001b[39;00m \u001b[43mfunc\u001b[49m\u001b[43m(\u001b[49m\u001b[38;5;241;43m*\u001b[39;49m\u001b[43margs\u001b[49m\u001b[43m,\u001b[49m\u001b[43m \u001b[49m\u001b[38;5;241;43m*\u001b[39;49m\u001b[38;5;241;43m*\u001b[39;49m\u001b[43mkwargs\u001b[49m\u001b[43m)\u001b[49m\n\u001b[1;32m    193\u001b[0m \u001b[38;5;28;01mexcept\u001b[39;00m InvalidParameterError \u001b[38;5;28;01mas\u001b[39;00m e:\n\u001b[1;32m    194\u001b[0m     \u001b[38;5;66;03m# When the function is just a wrapper around an estimator, we allow\u001b[39;00m\n\u001b[1;32m    195\u001b[0m     \u001b[38;5;66;03m# the function to delegate validation to the estimator, but we replace\u001b[39;00m\n\u001b[1;32m    196\u001b[0m     \u001b[38;5;66;03m# the name of the estimator by the name of the function in the error\u001b[39;00m\n\u001b[1;32m    197\u001b[0m     \u001b[38;5;66;03m# message to avoid confusion.\u001b[39;00m\n\u001b[1;32m    198\u001b[0m     msg \u001b[38;5;241m=\u001b[39m re\u001b[38;5;241m.\u001b[39msub(\n\u001b[1;32m    199\u001b[0m         \u001b[38;5;124mr\u001b[39m\u001b[38;5;124m\"\u001b[39m\u001b[38;5;124mparameter of \u001b[39m\u001b[38;5;124m\\\u001b[39m\u001b[38;5;124mw+ must be\u001b[39m\u001b[38;5;124m\"\u001b[39m,\n\u001b[1;32m    200\u001b[0m         \u001b[38;5;124mf\u001b[39m\u001b[38;5;124m\"\u001b[39m\u001b[38;5;124mparameter of \u001b[39m\u001b[38;5;132;01m{\u001b[39;00mfunc\u001b[38;5;241m.\u001b[39m\u001b[38;5;18m__qualname__\u001b[39m\u001b[38;5;132;01m}\u001b[39;00m\u001b[38;5;124m must be\u001b[39m\u001b[38;5;124m\"\u001b[39m,\n\u001b[1;32m    201\u001b[0m         \u001b[38;5;28mstr\u001b[39m(e),\n\u001b[1;32m    202\u001b[0m     )\n",
      "File \u001b[0;32m~/.conda/envs/py_env/lib/python3.8/site-packages/sklearn/metrics/_classification.py:221\u001b[0m, in \u001b[0;36maccuracy_score\u001b[0;34m(y_true, y_pred, normalize, sample_weight)\u001b[0m\n\u001b[1;32m    155\u001b[0m \u001b[38;5;124;03m\"\"\"Accuracy classification score.\u001b[39;00m\n\u001b[1;32m    156\u001b[0m \n\u001b[1;32m    157\u001b[0m \u001b[38;5;124;03mIn multilabel classification, this function computes subset accuracy:\u001b[39;00m\n\u001b[0;32m   (...)\u001b[0m\n\u001b[1;32m    217\u001b[0m \u001b[38;5;124;03m0.5\u001b[39;00m\n\u001b[1;32m    218\u001b[0m \u001b[38;5;124;03m\"\"\"\u001b[39;00m\n\u001b[1;32m    220\u001b[0m \u001b[38;5;66;03m# Compute accuracy for each possible representation\u001b[39;00m\n\u001b[0;32m--> 221\u001b[0m y_type, y_true, y_pred \u001b[38;5;241m=\u001b[39m \u001b[43m_check_targets\u001b[49m\u001b[43m(\u001b[49m\u001b[43my_true\u001b[49m\u001b[43m,\u001b[49m\u001b[43m \u001b[49m\u001b[43my_pred\u001b[49m\u001b[43m)\u001b[49m\n\u001b[1;32m    222\u001b[0m check_consistent_length(y_true, y_pred, sample_weight)\n\u001b[1;32m    223\u001b[0m \u001b[38;5;28;01mif\u001b[39;00m y_type\u001b[38;5;241m.\u001b[39mstartswith(\u001b[38;5;124m\"\u001b[39m\u001b[38;5;124mmultilabel\u001b[39m\u001b[38;5;124m\"\u001b[39m):\n",
      "File \u001b[0;32m~/.conda/envs/py_env/lib/python3.8/site-packages/sklearn/metrics/_classification.py:86\u001b[0m, in \u001b[0;36m_check_targets\u001b[0;34m(y_true, y_pred)\u001b[0m\n\u001b[1;32m     59\u001b[0m \u001b[38;5;28;01mdef\u001b[39;00m \u001b[38;5;21m_check_targets\u001b[39m(y_true, y_pred):\n\u001b[1;32m     60\u001b[0m     \u001b[38;5;124;03m\"\"\"Check that y_true and y_pred belong to the same classification task.\u001b[39;00m\n\u001b[1;32m     61\u001b[0m \n\u001b[1;32m     62\u001b[0m \u001b[38;5;124;03m    This converts multiclass or binary types to a common shape, and raises a\u001b[39;00m\n\u001b[0;32m   (...)\u001b[0m\n\u001b[1;32m     84\u001b[0m \u001b[38;5;124;03m    y_pred : array or indicator matrix\u001b[39;00m\n\u001b[1;32m     85\u001b[0m \u001b[38;5;124;03m    \"\"\"\u001b[39;00m\n\u001b[0;32m---> 86\u001b[0m     \u001b[43mcheck_consistent_length\u001b[49m\u001b[43m(\u001b[49m\u001b[43my_true\u001b[49m\u001b[43m,\u001b[49m\u001b[43m \u001b[49m\u001b[43my_pred\u001b[49m\u001b[43m)\u001b[49m\n\u001b[1;32m     87\u001b[0m     type_true \u001b[38;5;241m=\u001b[39m type_of_target(y_true, input_name\u001b[38;5;241m=\u001b[39m\u001b[38;5;124m\"\u001b[39m\u001b[38;5;124my_true\u001b[39m\u001b[38;5;124m\"\u001b[39m)\n\u001b[1;32m     88\u001b[0m     type_pred \u001b[38;5;241m=\u001b[39m type_of_target(y_pred, input_name\u001b[38;5;241m=\u001b[39m\u001b[38;5;124m\"\u001b[39m\u001b[38;5;124my_pred\u001b[39m\u001b[38;5;124m\"\u001b[39m)\n",
      "File \u001b[0;32m~/.conda/envs/py_env/lib/python3.8/site-packages/sklearn/utils/validation.py:397\u001b[0m, in \u001b[0;36mcheck_consistent_length\u001b[0;34m(*arrays)\u001b[0m\n\u001b[1;32m    395\u001b[0m uniques \u001b[38;5;241m=\u001b[39m np\u001b[38;5;241m.\u001b[39munique(lengths)\n\u001b[1;32m    396\u001b[0m \u001b[38;5;28;01mif\u001b[39;00m \u001b[38;5;28mlen\u001b[39m(uniques) \u001b[38;5;241m>\u001b[39m \u001b[38;5;241m1\u001b[39m:\n\u001b[0;32m--> 397\u001b[0m     \u001b[38;5;28;01mraise\u001b[39;00m \u001b[38;5;167;01mValueError\u001b[39;00m(\n\u001b[1;32m    398\u001b[0m         \u001b[38;5;124m\"\u001b[39m\u001b[38;5;124mFound input variables with inconsistent numbers of samples: \u001b[39m\u001b[38;5;132;01m%r\u001b[39;00m\u001b[38;5;124m\"\u001b[39m\n\u001b[1;32m    399\u001b[0m         \u001b[38;5;241m%\u001b[39m [\u001b[38;5;28mint\u001b[39m(l) \u001b[38;5;28;01mfor\u001b[39;00m l \u001b[38;5;129;01min\u001b[39;00m lengths]\n\u001b[1;32m    400\u001b[0m     )\n",
      "\u001b[0;31mValueError\u001b[0m: Found input variables with inconsistent numbers of samples: [48843, 9000]"
     ]
    }
   ],
   "source": [
    "test_batcher = batch_generator(test_graphs, n_samples=n_test, batch_size=1, train=False)\n",
    "test_outputs = estim.predict(test_batcher,'best_model_IN.pkl', n_test_batches, concat=False)\n",
    "test_preds = [torch_to_np(o) for o in test_outputs]\n",
    "\n",
    "# Flatten the predictions and labels\n",
    "flat_y = np.concatenate([g.y.flatten() for g in test_graphs])\n",
    "flat_pred = np.concatenate([p.flatten() for p in test_preds])\n",
    "thresh = 0.8\n",
    "print('Test set results with threshold of', thresh)\n",
    "print('Accuracy:  %.4f' % sklearn.metrics.accuracy_score(flat_y, flat_pred>thresh))\n",
    "print('Precision: %.4f' % sklearn.metrics.precision_score(flat_y, flat_pred>thresh))\n",
    "print('Recall:    %.4f' % sklearn.metrics.recall_score(flat_y, flat_pred>thresh))"
   ]
  },
  {
   "cell_type": "code",
   "execution_count": 49,
   "id": "b18e67bc-dcbf-4ed6-b226-4cf0cbc36a8f",
   "metadata": {
    "tags": []
   },
   "outputs": [
    {
     "data": {
      "image/png": "[encoded data removed]",
      "text/plain": [
       "<Figure size 900x400 with 2 Axes>"
      ]
     },
     "metadata": {},
     "output_type": "display_data"
    }
   ],
   "source": [
    "fpr, tpr, _ = sklearn.metrics.roc_curve(flat_y, flat_pred)\n",
    "plt.figure(figsize=(9,4))\n",
    "\n",
    "# Plot the model outputs\n",
    "plt.subplot(121)\n",
    "binning=dict(bins=50, range=(0,1), histtype='bar')\n",
    "plt.hist(flat_pred[flat_y<0.5], label='fake', **binning)\n",
    "plt.hist(flat_pred[flat_y>0.5], label='true', **binning)\n",
    "plt.xlabel('Model output')\n",
    "plt.legend(loc=0)\n",
    "\n",
    "# Plot the ROC curve\n",
    "plt.subplot(122)\n",
    "plt.plot(fpr, tpr)\n",
    "plt.plot([0, 1], [0, 1], '--')\n",
    "plt.xlabel('False positive rate')\n",
    "plt.ylabel('True positive rate')\n",
    "plt.title('ROC curve')\n",
    "\n",
    "plt.tight_layout()"
   ]
  },
  {
   "cell_type": "code",
   "execution_count": 29,
   "id": "ef8e26ee-646d-44bc-8fc6-30a2e5ee0ce3",
   "metadata": {
    "tags": []
   },
   "outputs": [],
   "source": [
    "def draw_sample(X, Ri, Ro, y, cmap='bwr_r', alpha_labels=False):\n",
    "    # Select the i/o node features for each segment\n",
    "    feats_o = X[np.where(Ri.T)[1]]\n",
    "    feats_i = X[np.where(Ro.T)[1]]\n",
    "    # Prepare the figure\n",
    "    fig, ax0 = plt.subplots(figsize=(9,4))\n",
    "    cmap = plt.get_cmap(cmap)\n",
    "\n",
    "    ax0.scatter(X[:,2], X[:,1], c='k')\n",
    "    \n",
    "    # Draw the segments\n",
    "    for j in range(y.shape[0]):\n",
    "        if alpha_labels:\n",
    "            seg_args = dict(c='b', alpha=float(y[j]))\n",
    "        else:\n",
    "            seg_args = dict(c=cmap(float(y[j])))\n",
    "        ax0.plot([feats_o[j,2], feats_i[j,2]],\n",
    "                 [feats_o[j,1], feats_i[j,1]], '-', **seg_args)\n",
    "    \n",
    "    # Add colorbar\n",
    "    sm = plt.cm.ScalarMappable(cmap=cmap)\n",
    "    sm.set_array(y)\n",
    "    cbar = plt.colorbar(sm, ax=ax0)\n",
    "    cbar.set_label('Colorbar Label')  # Set the label for the colorbar\n",
    "    \n",
    "    # Adjust axes\n",
    "    ax0.set_xlabel('zx_hit [mm]')\n",
    "    ax0.set_ylabel('x_hit ')\n",
    "    ax0.set_xlim(-100,2000)\n",
    "    ax0.set_ylim(-20,20)\n",
    "    plt.tight_layout()\n",
    "    plt.show()"
   ]
  },
  {
   "cell_type": "code",
   "execution_count": 30,
   "id": "a7d65905-3605-4b24-b79d-04a8525aebae",
   "metadata": {
    "tags": []
   },
   "outputs": [
    {
     "name": "stdout",
     "output_type": "stream",
     "text": [
      "[0.4477059  0.44312033 0.45160538 0.4441093  0.4374764  0.4400439\n",
      " 0.671177   0.6708334  0.6306451 ]\n",
      "accuracy 0.444, precision 0.000, recall 0.000\n"
     ]
    },
    {
     "name": "stderr",
     "output_type": "stream",
     "text": [
      "/lustrehome/federicacuna/.conda/envs/py_env/lib/python3.8/site-packages/sklearn/metrics/_classification.py:1344: UndefinedMetricWarning: Precision is ill-defined and being set to 0.0 due to no predicted samples. Use `zero_division` parameter to control this behavior.\n",
      "  _warn_prf(average, modifier, msg_start, len(result))\n"
     ]
    },
    {
     "data": {
      "image/png": "[encoded data removed]",
      "text/plain": [
       "<Figure size 900x400 with 2 Axes>"
      ]
     },
     "metadata": {},
     "output_type": "display_data"
    },
    {
     "name": "stdout",
     "output_type": "stream",
     "text": [
      "[0.4477059  0.44312033 0.45160538 0.4441093  0.4374764  0.4400439\n",
      " 0.671177   0.6708334  0.6306451 ]\n"
     ]
    },
    {
     "ename": "ValueError",
     "evalue": "Found input variables with inconsistent numbers of samples: [3, 9]",
     "output_type": "error",
     "traceback": [
      "\u001b[0;31m---------------------------------------------------------------------------\u001b[0m",
      "\u001b[0;31mValueError\u001b[0m                                Traceback (most recent call last)",
      "Cell \u001b[0;32mIn [30], line 6\u001b[0m\n\u001b[1;32m      3\u001b[0m pred \u001b[38;5;241m=\u001b[39m test_preds[i]\u001b[38;5;241m.\u001b[39msqueeze(\u001b[38;5;241m0\u001b[39m)\n\u001b[1;32m      4\u001b[0m \u001b[38;5;28mprint\u001b[39m(pred)\n\u001b[1;32m      5\u001b[0m \u001b[38;5;28mprint\u001b[39m(\u001b[38;5;124m'\u001b[39m\u001b[38;5;124maccuracy \u001b[39m\u001b[38;5;132;01m%.3f\u001b[39;00m\u001b[38;5;124m, precision \u001b[39m\u001b[38;5;132;01m%.3f\u001b[39;00m\u001b[38;5;124m, recall \u001b[39m\u001b[38;5;132;01m%.3f\u001b[39;00m\u001b[38;5;124m'\u001b[39m \u001b[38;5;241m%\u001b[39m (\n\u001b[0;32m----> 6\u001b[0m     \u001b[43msklearn\u001b[49m\u001b[38;5;241;43m.\u001b[39;49m\u001b[43mmetrics\u001b[49m\u001b[38;5;241;43m.\u001b[39;49m\u001b[43maccuracy_score\u001b[49m\u001b[43m(\u001b[49m\u001b[43mg\u001b[49m\u001b[38;5;241;43m.\u001b[39;49m\u001b[43my\u001b[49m\u001b[43m,\u001b[49m\u001b[43m \u001b[49m\u001b[43mpred\u001b[49m\u001b[38;5;241;43m>\u001b[39;49m\u001b[43mthresh\u001b[49m\u001b[43m)\u001b[49m,\n\u001b[1;32m      7\u001b[0m     sklearn\u001b[38;5;241m.\u001b[39mmetrics\u001b[38;5;241m.\u001b[39mprecision_score(g\u001b[38;5;241m.\u001b[39my, pred\u001b[38;5;241m>\u001b[39mthresh),\n\u001b[1;32m      8\u001b[0m     sklearn\u001b[38;5;241m.\u001b[39mmetrics\u001b[38;5;241m.\u001b[39mrecall_score(g\u001b[38;5;241m.\u001b[39my, pred\u001b[38;5;241m>\u001b[39mthresh)))\n\u001b[1;32m      9\u001b[0m draw_sample(g\u001b[38;5;241m.\u001b[39mX, g\u001b[38;5;241m.\u001b[39mRi, g\u001b[38;5;241m.\u001b[39mRo, pred, alpha_labels\u001b[38;5;241m=\u001b[39m\u001b[38;5;28;01mFalse\u001b[39;00m)\n",
      "File \u001b[0;32m~/.conda/envs/py_env/lib/python3.8/site-packages/sklearn/utils/_param_validation.py:192\u001b[0m, in \u001b[0;36mvalidate_params.<locals>.decorator.<locals>.wrapper\u001b[0;34m(*args, **kwargs)\u001b[0m\n\u001b[1;32m    187\u001b[0m validate_parameter_constraints(\n\u001b[1;32m    188\u001b[0m     parameter_constraints, params, caller_name\u001b[38;5;241m=\u001b[39mfunc\u001b[38;5;241m.\u001b[39m\u001b[38;5;18m__qualname__\u001b[39m\n\u001b[1;32m    189\u001b[0m )\n\u001b[1;32m    191\u001b[0m \u001b[38;5;28;01mtry\u001b[39;00m:\n\u001b[0;32m--> 192\u001b[0m     \u001b[38;5;28;01mreturn\u001b[39;00m \u001b[43mfunc\u001b[49m\u001b[43m(\u001b[49m\u001b[38;5;241;43m*\u001b[39;49m\u001b[43margs\u001b[49m\u001b[43m,\u001b[49m\u001b[43m \u001b[49m\u001b[38;5;241;43m*\u001b[39;49m\u001b[38;5;241;43m*\u001b[39;49m\u001b[43mkwargs\u001b[49m\u001b[43m)\u001b[49m\n\u001b[1;32m    193\u001b[0m \u001b[38;5;28;01mexcept\u001b[39;00m InvalidParameterError \u001b[38;5;28;01mas\u001b[39;00m e:\n\u001b[1;32m    194\u001b[0m     \u001b[38;5;66;03m# When the function is just a wrapper around an estimator, we allow\u001b[39;00m\n\u001b[1;32m    195\u001b[0m     \u001b[38;5;66;03m# the function to delegate validation to the estimator, but we replace\u001b[39;00m\n\u001b[1;32m    196\u001b[0m     \u001b[38;5;66;03m# the name of the estimator by the name of the function in the error\u001b[39;00m\n\u001b[1;32m    197\u001b[0m     \u001b[38;5;66;03m# message to avoid confusion.\u001b[39;00m\n\u001b[1;32m    198\u001b[0m     msg \u001b[38;5;241m=\u001b[39m re\u001b[38;5;241m.\u001b[39msub(\n\u001b[1;32m    199\u001b[0m         \u001b[38;5;124mr\u001b[39m\u001b[38;5;124m\"\u001b[39m\u001b[38;5;124mparameter of \u001b[39m\u001b[38;5;124m\\\u001b[39m\u001b[38;5;124mw+ must be\u001b[39m\u001b[38;5;124m\"\u001b[39m,\n\u001b[1;32m    200\u001b[0m         \u001b[38;5;124mf\u001b[39m\u001b[38;5;124m\"\u001b[39m\u001b[38;5;124mparameter of \u001b[39m\u001b[38;5;132;01m{\u001b[39;00mfunc\u001b[38;5;241m.\u001b[39m\u001b[38;5;18m__qualname__\u001b[39m\u001b[38;5;132;01m}\u001b[39;00m\u001b[38;5;124m must be\u001b[39m\u001b[38;5;124m\"\u001b[39m,\n\u001b[1;32m    201\u001b[0m         \u001b[38;5;28mstr\u001b[39m(e),\n\u001b[1;32m    202\u001b[0m     )\n",
      "File \u001b[0;32m~/.conda/envs/py_env/lib/python3.8/site-packages/sklearn/metrics/_classification.py:221\u001b[0m, in \u001b[0;36maccuracy_score\u001b[0;34m(y_true, y_pred, normalize, sample_weight)\u001b[0m\n\u001b[1;32m    155\u001b[0m \u001b[38;5;124;03m\"\"\"Accuracy classification score.\u001b[39;00m\n\u001b[1;32m    156\u001b[0m \n\u001b[1;32m    157\u001b[0m \u001b[38;5;124;03mIn multilabel classification, this function computes subset accuracy:\u001b[39;00m\n\u001b[0;32m   (...)\u001b[0m\n\u001b[1;32m    217\u001b[0m \u001b[38;5;124;03m0.5\u001b[39;00m\n\u001b[1;32m    218\u001b[0m \u001b[38;5;124;03m\"\"\"\u001b[39;00m\n\u001b[1;32m    220\u001b[0m \u001b[38;5;66;03m# Compute accuracy for each possible representation\u001b[39;00m\n\u001b[0;32m--> 221\u001b[0m y_type, y_true, y_pred \u001b[38;5;241m=\u001b[39m \u001b[43m_check_targets\u001b[49m\u001b[43m(\u001b[49m\u001b[43my_true\u001b[49m\u001b[43m,\u001b[49m\u001b[43m \u001b[49m\u001b[43my_pred\u001b[49m\u001b[43m)\u001b[49m\n\u001b[1;32m    222\u001b[0m check_consistent_length(y_true, y_pred, sample_weight)\n\u001b[1;32m    223\u001b[0m \u001b[38;5;28;01mif\u001b[39;00m y_type\u001b[38;5;241m.\u001b[39mstartswith(\u001b[38;5;124m\"\u001b[39m\u001b[38;5;124mmultilabel\u001b[39m\u001b[38;5;124m\"\u001b[39m):\n",
      "File \u001b[0;32m~/.conda/envs/py_env/lib/python3.8/site-packages/sklearn/metrics/_classification.py:86\u001b[0m, in \u001b[0;36m_check_targets\u001b[0;34m(y_true, y_pred)\u001b[0m\n\u001b[1;32m     59\u001b[0m \u001b[38;5;28;01mdef\u001b[39;00m \u001b[38;5;21m_check_targets\u001b[39m(y_true, y_pred):\n\u001b[1;32m     60\u001b[0m     \u001b[38;5;124;03m\"\"\"Check that y_true and y_pred belong to the same classification task.\u001b[39;00m\n\u001b[1;32m     61\u001b[0m \n\u001b[1;32m     62\u001b[0m \u001b[38;5;124;03m    This converts multiclass or binary types to a common shape, and raises a\u001b[39;00m\n\u001b[0;32m   (...)\u001b[0m\n\u001b[1;32m     84\u001b[0m \u001b[38;5;124;03m    y_pred : array or indicator matrix\u001b[39;00m\n\u001b[1;32m     85\u001b[0m \u001b[38;5;124;03m    \"\"\"\u001b[39;00m\n\u001b[0;32m---> 86\u001b[0m     \u001b[43mcheck_consistent_length\u001b[49m\u001b[43m(\u001b[49m\u001b[43my_true\u001b[49m\u001b[43m,\u001b[49m\u001b[43m \u001b[49m\u001b[43my_pred\u001b[49m\u001b[43m)\u001b[49m\n\u001b[1;32m     87\u001b[0m     type_true \u001b[38;5;241m=\u001b[39m type_of_target(y_true, input_name\u001b[38;5;241m=\u001b[39m\u001b[38;5;124m\"\u001b[39m\u001b[38;5;124my_true\u001b[39m\u001b[38;5;124m\"\u001b[39m)\n\u001b[1;32m     88\u001b[0m     type_pred \u001b[38;5;241m=\u001b[39m type_of_target(y_pred, input_name\u001b[38;5;241m=\u001b[39m\u001b[38;5;124m\"\u001b[39m\u001b[38;5;124my_pred\u001b[39m\u001b[38;5;124m\"\u001b[39m)\n",
      "File \u001b[0;32m~/.conda/envs/py_env/lib/python3.8/site-packages/sklearn/utils/validation.py:397\u001b[0m, in \u001b[0;36mcheck_consistent_length\u001b[0;34m(*arrays)\u001b[0m\n\u001b[1;32m    395\u001b[0m uniques \u001b[38;5;241m=\u001b[39m np\u001b[38;5;241m.\u001b[39munique(lengths)\n\u001b[1;32m    396\u001b[0m \u001b[38;5;28;01mif\u001b[39;00m \u001b[38;5;28mlen\u001b[39m(uniques) \u001b[38;5;241m>\u001b[39m \u001b[38;5;241m1\u001b[39m:\n\u001b[0;32m--> 397\u001b[0m     \u001b[38;5;28;01mraise\u001b[39;00m \u001b[38;5;167;01mValueError\u001b[39;00m(\n\u001b[1;32m    398\u001b[0m         \u001b[38;5;124m\"\u001b[39m\u001b[38;5;124mFound input variables with inconsistent numbers of samples: \u001b[39m\u001b[38;5;132;01m%r\u001b[39;00m\u001b[38;5;124m\"\u001b[39m\n\u001b[1;32m    399\u001b[0m         \u001b[38;5;241m%\u001b[39m [\u001b[38;5;28mint\u001b[39m(l) \u001b[38;5;28;01mfor\u001b[39;00m l \u001b[38;5;129;01min\u001b[39;00m lengths]\n\u001b[1;32m    400\u001b[0m     )\n",
      "\u001b[0;31mValueError\u001b[0m: Found input variables with inconsistent numbers of samples: [3, 9]"
     ]
    }
   ],
   "source": [
    "for i in range(4):\n",
    "    g = (test_graphs[i])\n",
    "    pred = test_preds[i].squeeze(0)\n",
    "    print(pred)\n",
    "    print('accuracy %.3f, precision %.3f, recall %.3f' % (\n",
    "        sklearn.metrics.accuracy_score(g.y, pred>thresh),\n",
    "        sklearn.metrics.precision_score(g.y, pred>thresh),\n",
    "        sklearn.metrics.recall_score(g.y, pred>thresh)))\n",
    "    draw_sample(g.X, g.Ri, g.Ro, pred, alpha_labels=False);"
   ]
  },
  {
   "cell_type": "code",
   "execution_count": null,
   "id": "69a8906f-ef04-406f-9278-5df148958982",
   "metadata": {},
   "outputs": [],
   "source": []
  },
  {
   "cell_type": "code",
   "execution_count": null,
   "id": "61ccc4e7-e0d5-4677-86a7-bd7479e9e09b",
   "metadata": {},
   "outputs": [],
   "source": []
  }
 ],
 "metadata": {
  "kernelspec": {
   "display_name": "py_env",
   "language": "python",
   "name": "py_env"
  },
  "language_info": {
   "codemirror_mode": {
    "name": "ipython",
    "version": 3
   },
   "file_extension": ".py",
   "mimetype": "text/x-python",
   "name": "python",
   "nbconvert_exporter": "python",
   "pygments_lexer": "ipython3",
   "version": "3.8.2"
  }
 },
 "nbformat": 4,
 "nbformat_minor": 5
}
