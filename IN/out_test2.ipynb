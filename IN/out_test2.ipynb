{
 "cells": [
  {
   "cell_type": "code",
   "execution_count": 1,
   "id": "2bad74cb-7f14-4e21-8d88-a6d15a76459b",
   "metadata": {
    "execution": {
     "iopub.execute_input": "2024-04-04T06:11:31.134158Z",
     "iopub.status.busy": "2024-04-04T06:11:31.133907Z",
     "iopub.status.idle": "2024-04-04T06:11:31.137655Z",
     "shell.execute_reply": "2024-04-04T06:11:31.136973Z"
    },
    "papermill": {
     "duration": 0.01315,
     "end_time": "2024-04-04T06:11:31.139179",
     "exception": false,
     "start_time": "2024-04-04T06:11:31.126029",
     "status": "completed"
    },
    "tags": []
   },
   "outputs": [],
   "source": [
    "# %pip install torch\n",
    "# %pip install -U scikit-learn scipy matplotlib"
   ]
  },
  {
   "cell_type": "code",
   "execution_count": 2,
   "id": "121ff741-0401-47f2-842c-e1919f63d8f0",
   "metadata": {
    "execution": {
     "iopub.execute_input": "2024-04-04T06:11:31.149447Z",
     "iopub.status.busy": "2024-04-04T06:11:31.148987Z",
     "iopub.status.idle": "2024-04-04T06:11:33.398756Z",
     "shell.execute_reply": "2024-04-04T06:11:33.397974Z"
    },
    "papermill": {
     "duration": 2.256928,
     "end_time": "2024-04-04T06:11:33.400897",
     "exception": false,
     "start_time": "2024-04-04T06:11:31.143969",
     "status": "completed"
    },
    "tags": []
   },
   "outputs": [],
   "source": [
    "from graph import load_graphs, SparseGraph, graph_from_sparse,construct_graphs,feature_names,load_graph_combined\n",
    "from model import SegmentClassifier\n",
    "from estimator import Estimator\n",
    "from torch.autograd import Variable\n",
    "import torch.nn as nn\n",
    "import numpy as np\n",
    "import matplotlib.pyplot as plt\n",
    "import time\n",
    "import sklearn.metrics\n",
    "from sklearn.model_selection import train_test_split"
   ]
  },
  {
   "cell_type": "code",
   "execution_count": 3,
   "id": "f8100fdd-2f7e-4322-8df5-9bd0eb1cec99",
   "metadata": {
    "execution": {
     "iopub.execute_input": "2024-04-04T06:11:33.411512Z",
     "iopub.status.busy": "2024-04-04T06:11:33.411221Z",
     "iopub.status.idle": "2024-04-04T06:11:33.415119Z",
     "shell.execute_reply": "2024-04-04T06:11:33.414663Z"
    },
    "papermill": {
     "duration": 0.010445,
     "end_time": "2024-04-04T06:11:33.416495",
     "exception": false,
     "start_time": "2024-04-04T06:11:33.406050",
     "status": "completed"
    },
    "tags": []
   },
   "outputs": [],
   "source": [
    "cuda=True\n",
    "if cuda:\n",
    "    np_to_torch = lambda x, volatile=False: (\n",
    "        torch.tensor(x.astype(np.float32), requires_grad=False).cuda())\n",
    "else:\n",
    "    np_to_torch = lambda x, volatile=False: (\n",
    "        torch.tensor(x.astype(np.float32), requires_grad=False))\n",
    "\n",
    "torch_to_np = lambda x: x.cpu().data.numpy()"
   ]
  },
  {
   "cell_type": "code",
   "execution_count": 4,
   "id": "1c1e1f44-6e03-4c8b-ae8a-8b55974a7a1b",
   "metadata": {
    "execution": {
     "iopub.execute_input": "2024-04-04T06:11:33.425848Z",
     "iopub.status.busy": "2024-04-04T06:11:33.425682Z",
     "iopub.status.idle": "2024-04-04T06:11:33.432382Z",
     "shell.execute_reply": "2024-04-04T06:11:33.431951Z"
    },
    "papermill": {
     "duration": 0.013234,
     "end_time": "2024-04-04T06:11:33.433862",
     "exception": false,
     "start_time": "2024-04-04T06:11:33.420628",
     "status": "completed"
    },
    "tags": []
   },
   "outputs": [],
   "source": [
    "import torch\n",
    "from sklearn.model_selection import train_test_split\n",
    "def merge_graphs(graphs):\n",
    "    batch_size = len(graphs)\n",
    "    \n",
    "    # Special handling of batch size 1\n",
    "    if batch_size == 1:\n",
    "        g = graphs[0]\n",
    "        # Prepend singleton batch dimension\n",
    "        return g.X[None], g.Ri[None], g.Ro[None], g.y[None]\n",
    "    \n",
    "    # Get the maximum sizes in this batch\n",
    "    n_features = graphs[0].X.shape[1]\n",
    "    n_nodes = np.array([g.X.shape[0] for g in graphs])\n",
    "    n_edges = np.array([g.y.shape[0] for g in graphs])\n",
    "    max_nodes = n_nodes.max()\n",
    "    max_edges = n_edges.max()\n",
    "\n",
    "    # Allocate the tensors for this batch\n",
    "    batch_X = np.zeros((batch_size, max_nodes, n_features), dtype=np.float32)\n",
    "    batch_Ri = np.zeros((batch_size, max_nodes, max_edges), dtype=np.uint8)\n",
    "    batch_Ro = np.zeros((batch_size, max_nodes, max_edges), dtype=np.uint8)\n",
    "    batch_y = np.zeros((batch_size, max_edges), dtype=np.uint8)\n",
    "\n",
    "    # Loop over samples and fill the tensors\n",
    "    for i, g in enumerate(graphs):\n",
    "        batch_X[i, :n_nodes[i]] = g.X\n",
    "        batch_Ri[i, :n_nodes[i], :n_edges[i]] = g.Ri\n",
    "        batch_Ro[i, :n_nodes[i], :n_edges[i]] = g.Ro\n",
    "        batch_y[i, :n_edges[i]] = g.y\n",
    "    \n",
    "    return batch_X, batch_Ri, batch_Ro, batch_y\n",
    "\n",
    "def batch_generator(graphs, n_samples=1, batch_size=1, train=True):\n",
    "    volatile = not train\n",
    "    batch_idxs = np.arange(0, n_samples, batch_size)\n",
    "    # Loop over epochs\n",
    "    while True:\n",
    "        # Loop over batches\n",
    "        for j in batch_idxs:\n",
    "            #print('batch', j, '-', j+batch_size)\n",
    "            batch_graphs = [(g) for g in graphs[j:j+batch_size]]\n",
    "            batch_X, batch_Ri, batch_Ro, batch_y = merge_graphs(batch_graphs)\n",
    "            #print('  graphs merged')\n",
    "            batch_inputs = [\n",
    "                # torch.from_numpy(batch_X).cuda(),\n",
    "                # torch.from_numpy(batch_Ri).cuda(),\n",
    "                # torch.from_numpy(batch_Ro).cuda()\n",
    "                np_to_torch(batch_X, volatile=volatile),\n",
    "                np_to_torch(batch_Ri, volatile=volatile),\n",
    "                np_to_torch(batch_Ro, volatile=volatile)\n",
    "            ]\n",
    "            batch_target = np_to_torch(batch_y, volatile=volatile)\n",
    "            # batch_target=torch.from_numpy(batch_y).cuda()\n",
    "            #print('  data prepared')\n",
    "            yield batch_inputs, batch_target"
   ]
  },
  {
   "cell_type": "code",
   "execution_count": 5,
   "id": "afc72ae4-c90a-45fd-871d-3ceaef240560",
   "metadata": {
    "execution": {
     "iopub.execute_input": "2024-04-04T06:11:33.442765Z",
     "iopub.status.busy": "2024-04-04T06:11:33.442615Z",
     "iopub.status.idle": "2024-04-04T06:11:33.445249Z",
     "shell.execute_reply": "2024-04-04T06:11:33.444818Z"
    },
    "papermill": {
     "duration": 0.008593,
     "end_time": "2024-04-04T06:11:33.446568",
     "exception": false,
     "start_time": "2024-04-04T06:11:33.437975",
     "status": "completed"
    },
    "tags": []
   },
   "outputs": [],
   "source": [
    "import os\n",
    "folder_path = \"/lustrehome/federicacuna/TB_Sept_2023_ml/Data/npz_file_IN/\"\n",
    "lista=os.listdir(folder_path)"
   ]
  },
  {
   "cell_type": "code",
   "execution_count": 6,
   "id": "812559b6-55b9-499e-8a81-021274666ff7",
   "metadata": {
    "execution": {
     "iopub.execute_input": "2024-04-04T06:11:33.455594Z",
     "iopub.status.busy": "2024-04-04T06:11:33.455447Z",
     "iopub.status.idle": "2024-04-04T06:11:33.458076Z",
     "shell.execute_reply": "2024-04-04T06:11:33.457625Z"
    },
    "papermill": {
     "duration": 0.008718,
     "end_time": "2024-04-04T06:11:33.459375",
     "exception": false,
     "start_time": "2024-04-04T06:11:33.450657",
     "status": "completed"
    },
    "tags": []
   },
   "outputs": [],
   "source": [
    "graph = [os.path.join(folder_path, file) for file in lista if \".ipynb_checkpoint\" not in file  ]"
   ]
  },
  {
   "cell_type": "code",
   "execution_count": 7,
   "id": "709d4d4b-a767-46f8-91dc-6809fd811764",
   "metadata": {
    "execution": {
     "iopub.execute_input": "2024-04-04T06:11:33.468939Z",
     "iopub.status.busy": "2024-04-04T06:11:33.468555Z",
     "iopub.status.idle": "2024-04-04T06:11:33.471292Z",
     "shell.execute_reply": "2024-04-04T06:11:33.470814Z"
    },
    "papermill": {
     "duration": 0.009079,
     "end_time": "2024-04-04T06:11:33.472565",
     "exception": false,
     "start_time": "2024-04-04T06:11:33.463486",
     "status": "completed"
    },
    "tags": []
   },
   "outputs": [],
   "source": [
    "# graphs=load_graphs(lista,folder_path)"
   ]
  },
  {
   "cell_type": "code",
   "execution_count": 8,
   "id": "fa1df57c-d29f-44b8-acf5-17cc3ecc5659",
   "metadata": {
    "execution": {
     "iopub.execute_input": "2024-04-04T06:11:33.482656Z",
     "iopub.status.busy": "2024-04-04T06:11:33.482038Z",
     "iopub.status.idle": "2024-04-04T06:11:33.485203Z",
     "shell.execute_reply": "2024-04-04T06:11:33.484774Z"
    },
    "papermill": {
     "duration": 0.00962,
     "end_time": "2024-04-04T06:11:33.486506",
     "exception": false,
     "start_time": "2024-04-04T06:11:33.476886",
     "status": "completed"
    },
    "tags": []
   },
   "outputs": [],
   "source": [
    "def extract_number_from_filename(filename):\n",
    "    return int(filename.split(\"_npz\")[1].split(\".npz\")[0])\n",
    "\n",
    "# Ordina i file basati sul numero compreso tra \"_npz\" e \".npz\" nel loro nome\n",
    "graph_data_sorted = sorted([os.path.join(folder_path, file) for file in graph], key=extract_number_from_filename)\n"
   ]
  },
  {
   "cell_type": "code",
   "execution_count": 9,
   "id": "246a8355-14fc-49d9-9d8a-ccbf375eca25",
   "metadata": {
    "execution": {
     "iopub.execute_input": "2024-04-04T06:11:33.496170Z",
     "iopub.status.busy": "2024-04-04T06:11:33.496030Z",
     "iopub.status.idle": "2024-04-04T11:13:54.065565Z",
     "shell.execute_reply": "2024-04-04T11:13:54.064867Z"
    },
    "papermill": {
     "duration": 18140.586334,
     "end_time": "2024-04-04T11:13:54.077365",
     "exception": false,
     "start_time": "2024-04-04T06:11:33.491031",
     "status": "completed"
    },
    "tags": []
   },
   "outputs": [
    {
     "name": "stdout",
     "output_type": "stream",
     "text": [
      "CPU times: user 5h 2min 11s, sys: 11.9 s, total: 5h 2min 22s\n",
      "Wall time: 5h 2min 20s\n"
     ]
    }
   ],
   "source": [
    "%%time\n",
    "data_for_train=[]\n",
    "for i in graph_data_sorted:\n",
    "    # print(i)\n",
    "    data_for_train.extend(load_graph_combined(i))"
   ]
  },
  {
   "cell_type": "code",
   "execution_count": 10,
   "id": "67df4c5e-fa2d-42ee-8ee8-ada93a091b7d",
   "metadata": {
    "execution": {
     "iopub.execute_input": "2024-04-04T11:13:54.090390Z",
     "iopub.status.busy": "2024-04-04T11:13:54.090235Z",
     "iopub.status.idle": "2024-04-04T11:13:54.093443Z",
     "shell.execute_reply": "2024-04-04T11:13:54.092902Z"
    },
    "papermill": {
     "duration": 0.01151,
     "end_time": "2024-04-04T11:13:54.095086",
     "exception": false,
     "start_time": "2024-04-04T11:13:54.083576",
     "status": "completed"
    },
    "tags": []
   },
   "outputs": [],
   "source": [
    "# graphs=load_graph_combined('test_npz.npz')\n",
    "graphs=data_for_train"
   ]
  },
  {
   "cell_type": "code",
   "execution_count": 11,
   "id": "a6f42acd-2d53-4251-9de2-454da09722ea",
   "metadata": {
    "execution": {
     "iopub.execute_input": "2024-04-04T11:13:54.106934Z",
     "iopub.status.busy": "2024-04-04T11:13:54.106807Z",
     "iopub.status.idle": "2024-04-04T11:13:54.113560Z",
     "shell.execute_reply": "2024-04-04T11:13:54.113138Z"
    },
    "papermill": {
     "duration": 0.013906,
     "end_time": "2024-04-04T11:13:54.114889",
     "exception": false,
     "start_time": "2024-04-04T11:13:54.100983",
     "status": "completed"
    },
    "tags": []
   },
   "outputs": [
    {
     "data": {
      "text/plain": [
       "(418000, 138000, 138000, 694000)"
      ]
     },
     "execution_count": 11,
     "metadata": {},
     "output_type": "execute_result"
    }
   ],
   "source": [
    "hidden_dim = 64\n",
    "n_iters = 7\n",
    "n_samples=len(graphs)\n",
    "# Training config\n",
    "batch_size = 1000#32\n",
    "n_epochs = 100\n",
    "valid_frac = 0.2\n",
    "test_frac = 0.2\n",
    "# We round by batch_size to avoid partial batches\n",
    "n_test = int(n_samples * test_frac) // batch_size * batch_size\n",
    "n_valid = int(n_samples * valid_frac) // batch_size * batch_size\n",
    "n_train = (n_samples - n_valid - n_test) // batch_size * batch_size\n",
    "n_train_batches = n_train // batch_size\n",
    "n_valid_batches = n_valid // batch_size\n",
    "n_test_batches = n_test #// batch_size\n",
    "\n",
    "n_train, n_valid, n_test, n_train + n_valid + n_test"
   ]
  },
  {
   "cell_type": "code",
   "execution_count": 12,
   "id": "b17a5dac-a637-4c41-b73f-6bdf2cbb0b78",
   "metadata": {
    "execution": {
     "iopub.execute_input": "2024-04-04T11:13:54.125959Z",
     "iopub.status.busy": "2024-04-04T11:13:54.125831Z",
     "iopub.status.idle": "2024-04-04T11:13:54.417998Z",
     "shell.execute_reply": "2024-04-04T11:13:54.417303Z"
    },
    "papermill": {
     "duration": 0.298914,
     "end_time": "2024-04-04T11:13:54.419444",
     "exception": false,
     "start_time": "2024-04-04T11:13:54.120530",
     "status": "completed"
    },
    "tags": []
   },
   "outputs": [
    {
     "name": "stdout",
     "output_type": "stream",
     "text": [
      "Train set size: 418455\n",
      "Valid set size: 138000\n",
      "Test set size:  138000\n"
     ]
    }
   ],
   "source": [
    "# Partition the dataset\n",
    "train_graphs, test_graphs = train_test_split(graphs, test_size=n_test)\n",
    "train_graphs, valid_graphs = train_test_split(train_graphs, test_size=n_valid)\n",
    "\n",
    "print('Train set size:', len(train_graphs))\n",
    "print('Valid set size:', len(valid_graphs))\n",
    "print('Test set size: ', len(test_graphs))"
   ]
  },
  {
   "cell_type": "code",
   "execution_count": 13,
   "id": "f59e1877-f63d-43ac-acc9-e7148107c021",
   "metadata": {
    "execution": {
     "iopub.execute_input": "2024-04-04T11:13:54.430980Z",
     "iopub.status.busy": "2024-04-04T11:13:54.430836Z",
     "iopub.status.idle": "2024-04-04T11:13:54.433977Z",
     "shell.execute_reply": "2024-04-04T11:13:54.433539Z"
    },
    "papermill": {
     "duration": 0.010152,
     "end_time": "2024-04-04T11:13:54.435317",
     "exception": false,
     "start_time": "2024-04-04T11:13:54.425165",
     "status": "completed"
    },
    "tags": []
   },
   "outputs": [],
   "source": [
    "# Prepare the batch generators\n",
    "train_batcher = batch_generator(train_graphs, n_samples=n_train, batch_size=batch_size)\n",
    "valid_batcher = batch_generator(valid_graphs, n_samples=n_valid, batch_size=batch_size, train=False)\n",
    "test_batcher = batch_generator(test_graphs, n_samples=n_test, batch_size=1, train=False)"
   ]
  },
  {
   "cell_type": "code",
   "execution_count": 14,
   "id": "6b54775a-1f56-4aa2-b354-2f6fc976d685",
   "metadata": {
    "execution": {
     "iopub.execute_input": "2024-04-04T11:13:54.445807Z",
     "iopub.status.busy": "2024-04-04T11:13:54.445666Z",
     "iopub.status.idle": "2024-04-04T11:13:55.494884Z",
     "shell.execute_reply": "2024-04-04T11:13:55.494203Z"
    },
    "papermill": {
     "duration": 1.056475,
     "end_time": "2024-04-04T11:13:55.496718",
     "exception": false,
     "start_time": "2024-04-04T11:13:54.440243",
     "status": "completed"
    },
    "tags": []
   },
   "outputs": [
    {
     "name": "stdout",
     "output_type": "stream",
     "text": [
      "2024-04-04 11:13:55.492353 Model: \n",
      "SegmentClassifier(\n",
      "  (input_network): Sequential(\n",
      "    (0): Linear(in_features=5, out_features=64, bias=True)\n",
      "    (1): Tanh()\n",
      "  )\n",
      "  (edge_network): EdgeNetwork(\n",
      "    (network): Sequential(\n",
      "      (0): Linear(in_features=138, out_features=64, bias=True)\n",
      "      (1): Tanh()\n",
      "      (2): Linear(in_features=64, out_features=1, bias=True)\n",
      "      (3): Sigmoid()\n",
      "    )\n",
      "  )\n",
      "  (node_network): NodeNetwork(\n",
      "    (network): Sequential(\n",
      "      (0): Linear(in_features=207, out_features=64, bias=True)\n",
      "      (1): Tanh()\n",
      "      (2): Linear(in_features=64, out_features=64, bias=True)\n",
      "      (3): Tanh()\n",
      "    )\n",
      "  )\n",
      ")\n",
      "2024-04-04 11:13:55.492514 Parameters: 26817\n"
     ]
    }
   ],
   "source": [
    "model = SegmentClassifier(input_dim=5, hidden_dim=hidden_dim, n_iters=n_iters)\n",
    "loss_func = nn.functional.binary_cross_entropy\n",
    "estim = Estimator(model, loss_func=loss_func, cuda=True)"
   ]
  },
  {
   "cell_type": "code",
   "execution_count": 15,
   "id": "d274fc1b-f2f5-4796-86cc-5f04506affad",
   "metadata": {
    "execution": {
     "iopub.execute_input": "2024-04-04T11:13:55.511574Z",
     "iopub.status.busy": "2024-04-04T11:13:55.511334Z",
     "iopub.status.idle": "2024-04-04T12:13:41.932729Z",
     "shell.execute_reply": "2024-04-04T12:13:41.931961Z"
    },
    "papermill": {
     "duration": 3586.429682,
     "end_time": "2024-04-04T12:13:41.933849",
     "exception": false,
     "start_time": "2024-04-04T11:13:55.504167",
     "status": "completed"
    },
    "tags": []
   },
   "outputs": [
    {
     "name": "stdout",
     "output_type": "stream",
     "text": [
      "2024-04-04 11:13:55.512529 Epoch 0\n",
      "2024-04-04 11:14:25.287601   training loss 0.619 time 29.775s\n",
      "Epoch_stop: 0\n",
      "2024-04-04 11:14:31.460230   validate loss 0.535\n",
      "2024-04-04 11:14:31.460260 Epoch 1\n",
      "2024-04-04 11:15:01.177585   training loss 0.439 time 29.7173s\n",
      "Epoch_stop: 1\n",
      "2024-04-04 11:15:07.409992   validate loss 0.343\n",
      "2024-04-04 11:15:07.410016 Epoch 2\n",
      "2024-04-04 11:15:36.944564   training loss 0.265 time 29.5345s\n",
      "Epoch_stop: 2\n",
      "2024-04-04 11:15:43.067591   validate loss 0.198\n",
      "2024-04-04 11:15:43.067617 Epoch 3\n",
      "2024-04-04 11:16:12.737199   training loss 0.154 time 29.6695s\n",
      "Epoch_stop: 3\n",
      "2024-04-04 11:16:19.002897   validate loss 0.118\n",
      "2024-04-04 11:16:19.002928 Epoch 4\n",
      "2024-04-04 11:16:48.964304   training loss 0.096 time 29.9613s\n",
      "Epoch_stop: 4\n",
      "2024-04-04 11:16:55.202814   validate loss 0.0777\n",
      "2024-04-04 11:16:55.202843 Epoch 5\n",
      "2024-04-04 11:17:24.741397   training loss 0.0663 time 29.5385s\n",
      "Epoch_stop: 5\n",
      "2024-04-04 11:17:30.908811   validate loss 0.0593\n",
      "2024-04-04 11:17:30.908838 Epoch 6\n",
      "2024-04-04 11:18:00.692204   training loss 0.0514 time 29.7833s\n",
      "Epoch_stop: 6\n",
      "2024-04-04 11:18:06.925142   validate loss 0.0457\n",
      "2024-04-04 11:18:06.925168 Epoch 7\n",
      "2024-04-04 11:18:36.643684   training loss 0.0422 time 29.7185s\n",
      "Epoch_stop: 7\n",
      "2024-04-04 11:18:42.928260   validate loss 0.0383\n",
      "2024-04-04 11:18:42.928288 Epoch 8\n",
      "2024-04-04 11:19:12.408887   training loss 0.0359 time 29.4806s\n",
      "Epoch_stop: 8\n",
      "2024-04-04 11:19:18.608495   validate loss 0.0329\n",
      "2024-04-04 11:19:18.608517 Epoch 9\n",
      "2024-04-04 11:19:48.180464   training loss 0.0323 time 29.5719s\n",
      "Epoch_stop: 9\n",
      "2024-04-04 11:19:54.450397   validate loss 0.0305\n",
      "2024-04-04 11:19:54.450425 Epoch 10\n",
      "2024-04-04 11:20:24.711818   training loss 0.0295 time 30.2613s\n",
      "Epoch_stop: 10\n",
      "2024-04-04 11:20:31.159302   validate loss 0.0277\n",
      "2024-04-04 11:20:31.159336 Epoch 11\n",
      "2024-04-04 11:21:01.111317   training loss 0.0277 time 29.9517s\n",
      "Epoch_stop: 11\n",
      "2024-04-04 11:21:07.347429   validate loss 0.0274\n",
      "2024-04-04 11:21:07.347462 Epoch 12\n",
      "2024-04-04 11:21:37.082950   training loss 0.0272 time 29.7354s\n",
      "Epoch_stop: 12\n",
      "2024-04-04 11:21:43.232552   validate loss 0.0261\n",
      "2024-04-04 11:21:43.232574 Epoch 13\n",
      "2024-04-04 11:22:12.673113   training loss 0.0256 time 29.4405s\n",
      "Epoch_stop: 13\n",
      "2024-04-04 11:22:19.070300   validate loss 0.0247\n",
      "2024-04-04 11:22:19.070324 Epoch 14\n",
      "2024-04-04 11:22:48.608666   training loss 0.0248 time 29.5383s\n",
      "Epoch_stop: 14\n",
      "2024-04-04 11:22:54.897449   validate loss 0.0241\n",
      "2024-04-04 11:22:54.897479 Epoch 15\n",
      "2024-04-04 11:23:24.163913   training loss 0.0239 time 29.2664s\n",
      "Epoch_stop: 15\n",
      "2024-04-04 11:23:30.496924   validate loss 0.0232\n",
      "2024-04-04 11:23:30.496951 Epoch 16\n",
      "2024-04-04 11:24:00.065010   training loss 0.0235 time 29.568s\n",
      "2024-04-04 11:24:06.258031   validate loss 0.0235\n",
      "2024-04-04 11:24:06.258734 Epoch 17\n",
      "2024-04-04 11:24:35.681889   training loss 0.0244 time 29.4231s\n",
      "2024-04-04 11:24:41.888479   validate loss 0.0235\n",
      "2024-04-04 11:24:41.888734 Epoch 18\n",
      "2024-04-04 11:25:11.922996   training loss 0.0237 time 30.0342s\n",
      "2024-04-04 11:25:18.177467   validate loss 0.0243\n",
      "2024-04-04 11:25:18.177601 Epoch 19\n",
      "2024-04-04 11:25:47.945025   training loss 0.0231 time 29.7674s\n",
      "Epoch_stop: 19\n",
      "2024-04-04 11:25:54.217606   validate loss 0.0226\n",
      "2024-04-04 11:25:54.217629 Epoch 20\n",
      "2024-04-04 11:26:23.805461   training loss 0.0228 time 29.5878s\n",
      "Epoch_stop: 20\n",
      "2024-04-04 11:26:29.957703   validate loss 0.0226\n",
      "2024-04-04 11:26:29.957728 Epoch 21\n",
      "2024-04-04 11:26:59.067729   training loss 0.0226 time 29.11s\n",
      "Epoch_stop: 21\n",
      "2024-04-04 11:27:05.260509   validate loss 0.0221\n",
      "2024-04-04 11:27:05.260535 Epoch 22\n",
      "2024-04-04 11:27:34.608905   training loss 0.0225 time 29.3483s\n",
      "2024-04-04 11:27:40.889392   validate loss 0.0225\n",
      "2024-04-04 11:27:40.889614 Epoch 23\n",
      "2024-04-04 11:28:10.046184   training loss 0.0226 time 29.1565s\n",
      "Epoch_stop: 23\n",
      "2024-04-04 11:28:16.476726   validate loss 0.0217\n",
      "2024-04-04 11:28:16.476762 Epoch 24\n",
      "2024-04-04 11:28:45.809955   training loss 0.022 time 29.3331s\n",
      "Epoch_stop: 24\n",
      "2024-04-04 11:28:51.886942   validate loss 0.0215\n",
      "2024-04-04 11:28:51.886963 Epoch 25\n",
      "2024-04-04 11:29:21.349516   training loss 0.0228 time 29.4625s\n",
      "2024-04-04 11:29:27.730758   validate loss 0.0224\n",
      "2024-04-04 11:29:27.730874 Epoch 26\n",
      "2024-04-04 11:29:57.259208   training loss 0.022 time 29.5283s\n",
      "Epoch_stop: 26\n",
      "2024-04-04 11:30:03.345368   validate loss 0.0213\n",
      "2024-04-04 11:30:03.345391 Epoch 27\n",
      "2024-04-04 11:30:32.897716   training loss 0.022 time 29.5523s\n",
      "2024-04-04 11:30:39.007474   validate loss 0.0214\n",
      "2024-04-04 11:30:39.007708 Epoch 28\n",
      "2024-04-04 11:31:08.322982   training loss 0.0226 time 29.3152s\n",
      "2024-04-04 11:31:14.712766   validate loss 0.0224\n",
      "2024-04-04 11:31:14.713058 Epoch 29\n",
      "2024-04-04 11:31:44.681127   training loss 0.0218 time 29.968s\n",
      "2024-04-04 11:31:50.750513   validate loss 0.0214\n",
      "2024-04-04 11:31:50.750631 Epoch 30\n",
      "2024-04-04 11:32:20.107800   training loss 0.0214 time 29.3571s\n",
      "Epoch_stop: 30\n",
      "2024-04-04 11:32:26.323916   validate loss 0.0209\n",
      "2024-04-04 11:32:26.323943 Epoch 31\n",
      "2024-04-04 11:32:55.524251   training loss 0.0222 time 29.2003s\n",
      "2024-04-04 11:33:01.617868   validate loss 0.0212\n",
      "2024-04-04 11:33:01.617992 Epoch 32\n",
      "2024-04-04 11:33:30.975833   training loss 0.0215 time 29.3578s\n",
      "2024-04-04 11:33:37.177039   validate loss 0.0258\n",
      "2024-04-04 11:33:37.177249 Epoch 33\n",
      "2024-04-04 11:34:06.541000   training loss 0.0224 time 29.3637s\n",
      "Epoch_stop: 33\n",
      "2024-04-04 11:34:12.693259   validate loss 0.0204\n",
      "2024-04-04 11:34:12.693282 Epoch 34\n",
      "2024-04-04 11:34:42.178694   training loss 0.0207 time 29.4854s\n",
      "2024-04-04 11:34:48.274937   validate loss 0.0205\n",
      "2024-04-04 11:34:48.275084 Epoch 35\n",
      "2024-04-04 11:35:17.693444   training loss 0.0221 time 29.4183s\n",
      "2024-04-04 11:35:24.082032   validate loss 0.022\n",
      "2024-04-04 11:35:24.082221 Epoch 36\n",
      "2024-04-04 11:35:54.107570   training loss 0.0239 time 30.0253s\n",
      "2024-04-04 11:36:00.423834   validate loss 0.0232\n",
      "2024-04-04 11:36:00.423973 Epoch 37\n",
      "2024-04-04 11:36:30.406325   training loss 0.0228 time 29.9823s\n",
      "2024-04-04 11:36:36.622072   validate loss 0.0214\n",
      "2024-04-04 11:36:36.622259 Epoch 38\n",
      "2024-04-04 11:37:06.046598   training loss 0.022 time 29.4243s\n",
      "2024-04-04 11:37:12.167231   validate loss 0.0211\n",
      "2024-04-04 11:37:12.167348 Epoch 39\n",
      "2024-04-04 11:37:41.660179   training loss 0.0229 time 29.4928s\n",
      "2024-04-04 11:37:47.724331   validate loss 0.0219\n",
      "2024-04-04 11:37:47.724443 Epoch 40\n",
      "2024-04-04 11:38:16.791561   training loss 0.0215 time 29.0671s\n",
      "2024-04-04 11:38:22.989571   validate loss 0.0245\n",
      "2024-04-04 11:38:22.989713 Epoch 41\n",
      "2024-04-04 11:38:52.644433   training loss 0.0233 time 29.6547s\n",
      "2024-04-04 11:38:58.960621   validate loss 0.0223\n",
      "2024-04-04 11:38:58.960767 Epoch 42\n",
      "2024-04-04 11:39:28.895771   training loss 0.0232 time 29.9349s\n",
      "2024-04-04 11:39:35.204158   validate loss 0.025\n",
      "2024-04-04 11:39:35.204296 Epoch 43\n",
      "2024-04-04 11:40:04.540069   training loss 0.0247 time 29.3357s\n",
      "2024-04-04 11:40:10.666084   validate loss 0.0228\n",
      "2024-04-04 11:40:10.666205 Epoch 44\n",
      "2024-04-04 11:40:39.826645   training loss 0.0222 time 29.1604s\n",
      "2024-04-04 11:40:46.099504   validate loss 0.0219\n",
      "2024-04-04 11:40:46.099619 Epoch 45\n",
      "2024-04-04 11:41:15.329249   training loss 0.0224 time 29.2296s\n",
      "2024-04-04 11:41:21.512007   validate loss 0.0226\n",
      "2024-04-04 11:41:21.512239 Epoch 46\n",
      "2024-04-04 11:41:50.986187   training loss 0.0214 time 29.4739s\n",
      "2024-04-04 11:41:57.206007   validate loss 0.0208\n",
      "2024-04-04 11:41:57.206120 Epoch 47\n",
      "2024-04-04 11:42:26.699797   training loss 0.0212 time 29.4936s\n",
      "2024-04-04 11:42:32.888838   validate loss 0.0209\n",
      "2024-04-04 11:42:32.888975 Epoch 48\n",
      "2024-04-04 11:43:02.234293   training loss 0.0208 time 29.3453s\n",
      "Epoch_stop: 48\n",
      "2024-04-04 11:43:08.401174   validate loss 0.0204\n",
      "2024-04-04 11:43:08.401200 Epoch 49\n",
      "2024-04-04 11:43:37.894236   training loss 0.0213 time 29.493s\n",
      "2024-04-04 11:43:44.078366   validate loss 0.0208\n",
      "2024-04-04 11:43:44.078502 Epoch 50\n",
      "2024-04-04 11:44:13.387427   training loss 0.0211 time 29.3089s\n",
      "2024-04-04 11:44:19.686171   validate loss 0.0209\n",
      "2024-04-04 11:44:19.686325 Epoch 51\n",
      "2024-04-04 11:44:48.990476   training loss 0.0215 time 29.3041s\n",
      "2024-04-04 11:44:55.130432   validate loss 0.0215\n",
      "2024-04-04 11:44:55.130642 Epoch 52\n",
      "2024-04-04 11:45:24.262367   training loss 0.0225 time 29.1317s\n",
      "2024-04-04 11:45:30.469311   validate loss 0.0206\n",
      "2024-04-04 11:45:30.469429 Epoch 53\n",
      "2024-04-04 11:45:59.822316   training loss 0.0211 time 29.3528s\n",
      "2024-04-04 11:46:05.993895   validate loss 0.022\n",
      "2024-04-04 11:46:05.994013 Epoch 54\n",
      "2024-04-04 11:46:34.994617   training loss 0.0222 time 29.0006s\n",
      "2024-04-04 11:46:41.005216   validate loss 0.0217\n",
      "2024-04-04 11:46:41.005328 Epoch 55\n",
      "2024-04-04 11:47:10.534114   training loss 0.0225 time 29.5287s\n",
      "2024-04-04 11:47:16.577054   validate loss 0.0222\n",
      "2024-04-04 11:47:16.577179 Epoch 56\n",
      "2024-04-04 11:47:45.490592   training loss 0.023 time 28.9134s\n",
      "2024-04-04 11:47:51.817108   validate loss 0.0208\n",
      "2024-04-04 11:47:51.817314 Epoch 57\n",
      "2024-04-04 11:48:20.735904   training loss 0.021 time 28.9186s\n",
      "2024-04-04 11:48:26.931145   validate loss 0.0213\n",
      "2024-04-04 11:48:26.931282 Epoch 58\n",
      "2024-04-04 11:48:55.770349   training loss 0.0208 time 28.839s\n",
      "2024-04-04 11:49:01.915277   validate loss 0.0206\n",
      "2024-04-04 11:49:01.915482 Epoch 59\n",
      "2024-04-04 11:49:31.010842   training loss 0.0209 time 29.0953s\n",
      "2024-04-04 11:49:37.027427   validate loss 0.021\n",
      "2024-04-04 11:49:37.027629 Epoch 60\n",
      "2024-04-04 11:50:06.475849   training loss 0.0237 time 29.4482s\n",
      "2024-04-04 11:50:12.652602   validate loss 0.0222\n",
      "2024-04-04 11:50:12.652722 Epoch 61\n",
      "2024-04-04 11:50:42.000596   training loss 0.021 time 29.3478s\n",
      "Epoch_stop: 61\n",
      "2024-04-04 11:50:48.231006   validate loss 0.0203\n",
      "2024-04-04 11:50:48.231029 Epoch 62\n",
      "2024-04-04 11:51:17.846224   training loss 0.0202 time 29.6151s\n",
      "2024-04-04 11:51:23.951695   validate loss 0.021\n",
      "2024-04-04 11:51:23.951825 Epoch 63\n",
      "2024-04-04 11:51:53.519132   training loss 0.0202 time 29.5673s\n",
      "Epoch_stop: 63\n",
      "2024-04-04 11:51:59.744345   validate loss 0.0197\n",
      "2024-04-04 11:51:59.744369 Epoch 64\n",
      "2024-04-04 11:52:30.158078   training loss 0.0198 time 30.4137s\n",
      "Epoch_stop: 64\n",
      "2024-04-04 11:52:36.470866   validate loss 0.0196\n",
      "2024-04-04 11:52:36.470927 Epoch 65\n",
      "2024-04-04 11:53:06.223073   training loss 0.0209 time 29.7521s\n",
      "2024-04-04 11:53:12.545566   validate loss 0.0298\n",
      "2024-04-04 11:53:12.545776 Epoch 66\n",
      "2024-04-04 11:53:42.265852   training loss 0.0243 time 29.72s\n",
      "2024-04-04 11:53:48.435805   validate loss 0.0213\n",
      "2024-04-04 11:53:48.436078 Epoch 67\n",
      "2024-04-04 11:54:17.751488   training loss 0.0213 time 29.3154s\n",
      "2024-04-04 11:54:24.083443   validate loss 0.0203\n",
      "2024-04-04 11:54:24.083683 Epoch 68\n",
      "2024-04-04 11:54:53.732081   training loss 0.0204 time 29.6484s\n",
      "2024-04-04 11:55:00.074248   validate loss 0.0198\n",
      "2024-04-04 11:55:00.074479 Epoch 69\n",
      "2024-04-04 11:55:29.671406   training loss 0.0205 time 29.5969s\n",
      "2024-04-04 11:55:35.908631   validate loss 0.0224\n",
      "2024-04-04 11:55:35.908873 Epoch 70\n",
      "2024-04-04 11:56:05.641317   training loss 0.0214 time 29.7324s\n",
      "2024-04-04 11:56:11.697335   validate loss 0.0224\n",
      "2024-04-04 11:56:11.697455 Epoch 71\n",
      "2024-04-04 11:56:41.243793   training loss 0.0225 time 29.5463s\n",
      "2024-04-04 11:56:47.448570   validate loss 0.0212\n",
      "2024-04-04 11:56:47.448695 Epoch 72\n",
      "2024-04-04 11:57:17.356014   training loss 0.021 time 29.9073s\n",
      "2024-04-04 11:57:23.673345   validate loss 0.0212\n",
      "2024-04-04 11:57:23.673479 Epoch 73\n",
      "2024-04-04 11:57:53.551703   training loss 0.0211 time 29.8782s\n",
      "2024-04-04 11:57:59.950463   validate loss 0.0202\n",
      "2024-04-04 11:57:59.951677 Epoch 74\n",
      "2024-04-04 11:58:30.556079   training loss 0.0203 time 30.6043s\n",
      "2024-04-04 11:58:36.890055   validate loss 0.02\n",
      "2024-04-04 11:58:36.890449 Epoch 75\n",
      "2024-04-04 11:59:07.235656   training loss 0.0222 time 30.3449s\n",
      "2024-04-04 11:59:13.609598   validate loss 0.0267\n",
      "2024-04-04 11:59:13.610052 Epoch 76\n",
      "2024-04-04 11:59:43.075394   training loss 0.0222 time 29.4653s\n",
      "Epoch_stop: 76\n",
      "2024-04-04 11:59:49.143834   validate loss 0.0196\n",
      "2024-04-04 11:59:49.143857 Epoch 77\n",
      "2024-04-04 12:00:18.581816   training loss 0.0207 time 29.4379s\n",
      "2024-04-04 12:00:24.832932   validate loss 0.0199\n",
      "2024-04-04 12:00:24.833187 Epoch 78\n",
      "2024-04-04 12:00:55.047111   training loss 0.019 time 30.2139s\n",
      "2024-04-04 12:01:01.411303   validate loss 0.0227\n",
      "2024-04-04 12:01:01.411428 Epoch 79\n",
      "2024-04-04 12:01:31.554587   training loss 0.0221 time 30.1431s\n",
      "2024-04-04 12:01:37.804575   validate loss 0.0197\n",
      "2024-04-04 12:01:37.804813 Epoch 80\n",
      "2024-04-04 12:02:07.571870   training loss 0.0193 time 29.767s\n",
      "Epoch_stop: 80\n",
      "2024-04-04 12:02:13.847851   validate loss 0.0183\n",
      "2024-04-04 12:02:13.847882 Epoch 81\n",
      "2024-04-04 12:02:42.891857   training loss 0.0191 time 29.0439s\n",
      "2024-04-04 12:02:49.258890   validate loss 0.0186\n",
      "2024-04-04 12:02:49.259010 Epoch 82\n",
      "2024-04-04 12:03:19.598093   training loss 0.019 time 30.339s\n",
      "2024-04-04 12:03:25.999251   validate loss 0.0184\n",
      "2024-04-04 12:03:26.000154 Epoch 83\n",
      "2024-04-04 12:03:56.235300   training loss 0.0185 time 30.2351s\n",
      "Epoch_stop: 83\n",
      "2024-04-04 12:04:02.509521   validate loss 0.0181\n",
      "2024-04-04 12:04:02.509546 Epoch 84\n",
      "2024-04-04 12:04:32.431996   training loss 0.0206 time 29.9224s\n",
      "2024-04-04 12:04:38.536478   validate loss 0.0206\n",
      "2024-04-04 12:04:38.536745 Epoch 85\n",
      "2024-04-04 12:05:08.006313   training loss 0.021 time 29.4695s\n",
      "2024-04-04 12:05:14.323806   validate loss 0.0264\n",
      "2024-04-04 12:05:14.324058 Epoch 86\n",
      "2024-04-04 12:05:44.338165   training loss 0.024 time 30.0141s\n",
      "2024-04-04 12:05:50.577818   validate loss 0.0211\n",
      "2024-04-04 12:05:50.578042 Epoch 87\n",
      "2024-04-04 12:06:20.348377   training loss 0.0227 time 29.7703s\n",
      "2024-04-04 12:06:26.660250   validate loss 0.0202\n",
      "2024-04-04 12:06:26.660443 Epoch 88\n",
      "2024-04-04 12:06:56.297135   training loss 0.0196 time 29.6366s\n",
      "2024-04-04 12:07:02.759022   validate loss 0.0191\n",
      "2024-04-04 12:07:02.759288 Epoch 89\n",
      "2024-04-04 12:07:32.759567   training loss 0.0188 time 30s\n",
      "2024-04-04 12:07:38.956563   validate loss 0.0187\n",
      "2024-04-04 12:07:38.956686 Epoch 90\n",
      "2024-04-04 12:08:09.321690   training loss 0.0189 time 30.365s\n",
      "2024-04-04 12:08:15.535520   validate loss 0.0192\n",
      "2024-04-04 12:08:15.535885 Epoch 91\n",
      "2024-04-04 12:08:45.503245   training loss 0.019 time 29.967s\n",
      "2024-04-04 12:08:51.622441   validate loss 0.0194\n",
      "2024-04-04 12:08:51.622651 Epoch 92\n",
      "2024-04-04 12:09:21.081688   training loss 0.0192 time 29.459s\n",
      "2024-04-04 12:09:27.338690   validate loss 0.0186\n",
      "2024-04-04 12:09:27.338831 Epoch 93\n",
      "2024-04-04 12:09:57.360818   training loss 0.02 time 30.0219s\n",
      "2024-04-04 12:10:03.841704   validate loss 0.0197\n",
      "2024-04-04 12:10:03.841916 Epoch 94\n",
      "2024-04-04 12:10:33.948477   training loss 0.0189 time 30.1065s\n",
      "Epoch_stop: 94\n",
      "2024-04-04 12:10:40.220589   validate loss 0.0177\n",
      "2024-04-04 12:10:40.220611 Epoch 95\n",
      "2024-04-04 12:11:10.351177   training loss 0.0184 time 30.1305s\n",
      "Epoch_stop: 95\n",
      "2024-04-04 12:11:16.521410   validate loss 0.0175\n",
      "2024-04-04 12:11:16.521433 Epoch 96\n",
      "2024-04-04 12:11:46.239711   training loss 0.0179 time 29.7182s\n",
      "2024-04-04 12:11:52.503688   validate loss 0.0185\n",
      "2024-04-04 12:11:52.503942 Epoch 97\n",
      "2024-04-04 12:12:22.789891   training loss 0.0193 time 30.2859s\n",
      "2024-04-04 12:12:29.121802   validate loss 0.0199\n",
      "2024-04-04 12:12:29.123201 Epoch 98\n",
      "2024-04-04 12:12:59.375807   training loss 0.0205 time 30.2525s\n",
      "2024-04-04 12:13:05.595370   validate loss 0.0206\n",
      "2024-04-04 12:13:05.595569 Epoch 99\n",
      "2024-04-04 12:13:35.517648   training loss 0.0201 time 29.922s\n",
      "2024-04-04 12:13:41.929321   validate loss 0.0196\n",
      "CPU times: user 1d 16h 20min 7s, sys: 1h 39min 39s, total: 1d 17h 59min 47s\n",
      "Wall time: 59min 46s\n"
     ]
    }
   ],
   "source": [
    "%%time\n",
    "estim.fit_gen(train_batcher, n_batches=n_train_batches, n_epochs=100,\n",
    "              valid_generator=valid_batcher, n_valid_batches=n_valid_batches, verbose=0)"
   ]
  },
  {
   "cell_type": "code",
   "execution_count": 16,
   "id": "37aee8a5-90c3-4a5a-97d4-abcae1805e9f",
   "metadata": {
    "execution": {
     "iopub.execute_input": "2024-04-04T12:13:41.959979Z",
     "iopub.status.busy": "2024-04-04T12:13:41.959415Z",
     "iopub.status.idle": "2024-04-04T12:13:42.117214Z",
     "shell.execute_reply": "2024-04-04T12:13:42.116653Z"
    },
    "papermill": {
     "duration": 0.170767,
     "end_time": "2024-04-04T12:13:42.118135",
     "exception": false,
     "start_time": "2024-04-04T12:13:41.947368",
     "status": "completed"
    },
    "tags": []
   },
   "outputs": [
    {
     "data": {
      "image/png": "[encoded data removed]",
      "text/plain": [
       "<Figure size 640x480 with 1 Axes>"
      ]
     },
     "metadata": {},
     "output_type": "display_data"
    }
   ],
   "source": [
    "# Plot the loss\n",
    "plt.figure()\n",
    "plt.plot(estim.train_losses, label='training set')\n",
    "plt.plot(estim.valid_losses, label='validation set')\n",
    "plt.xlabel('Epoch')\n",
    "plt.ylabel('Loss')\n",
    "plt.legend(loc=0);"
   ]
  },
  {
   "cell_type": "code",
   "execution_count": 17,
   "id": "a2db7be8-b0e6-4b02-b7e6-8d0f6f4ee714",
   "metadata": {
    "execution": {
     "iopub.execute_input": "2024-04-04T12:13:42.141804Z",
     "iopub.status.busy": "2024-04-04T12:13:42.141406Z",
     "iopub.status.idle": "2024-04-04T12:22:50.577550Z",
     "shell.execute_reply": "2024-04-04T12:22:50.576772Z"
    },
    "papermill": {
     "duration": 548.4501,
     "end_time": "2024-04-04T12:22:50.579591",
     "exception": false,
     "start_time": "2024-04-04T12:13:42.129491",
     "status": "completed"
    },
    "tags": []
   },
   "outputs": [
    {
     "name": "stdout",
     "output_type": "stream",
     "text": [
      "Test set results with threshold of 0.8\n",
      "Accuracy:  0.7229\n",
      "Precision: 0.9619\n",
      "Recall:    0.5424\n"
     ]
    }
   ],
   "source": [
    "test_batcher = batch_generator(test_graphs, n_samples=n_test, batch_size=1, train=False)\n",
    "test_outputs = estim.predict(test_batcher,'best_model_IN.pkl', n_test_batches, concat=False)\n",
    "test_preds = [torch_to_np(o) for o in test_outputs]\n",
    "\n",
    "# Flatten the predictions and labels\n",
    "flat_y = np.concatenate([g.y.flatten() for g in test_graphs])\n",
    "flat_pred = np.concatenate([p.flatten() for p in test_preds])\n",
    "thresh = 0.8\n",
    "print('Test set results with threshold of', thresh)\n",
    "print('Accuracy:  %.4f' % sklearn.metrics.accuracy_score(flat_y, flat_pred>thresh))\n",
    "print('Precision: %.4f' % sklearn.metrics.precision_score(flat_y, flat_pred>thresh))\n",
    "print('Recall:    %.4f' % sklearn.metrics.recall_score(flat_y, flat_pred>thresh))"
   ]
  },
  {
   "cell_type": "code",
   "execution_count": 18,
   "id": "b18e67bc-dcbf-4ed6-b226-4cf0cbc36a8f",
   "metadata": {
    "execution": {
     "iopub.execute_input": "2024-04-04T12:22:50.634136Z",
     "iopub.status.busy": "2024-04-04T12:22:50.633978Z",
     "iopub.status.idle": "2024-04-04T12:22:51.299975Z",
     "shell.execute_reply": "2024-04-04T12:22:51.299225Z"
    },
    "papermill": {
     "duration": 0.694818,
     "end_time": "2024-04-04T12:22:51.301651",
     "exception": false,
     "start_time": "2024-04-04T12:22:50.606833",
     "status": "completed"
    },
    "tags": []
   },
   "outputs": [
    {
     "data": {
      "image/png": "[encoded data removed]",
      "text/plain": [
       "<Figure size 900x400 with 2 Axes>"
      ]
     },
     "metadata": {},
     "output_type": "display_data"
    }
   ],
   "source": [
    "fpr, tpr, _ = sklearn.metrics.roc_curve(flat_y, flat_pred)\n",
    "plt.figure(figsize=(9,4))\n",
    "\n",
    "# Plot the model outputs\n",
    "plt.subplot(121)\n",
    "binning=dict(bins=50, range=(0,1), histtype='bar')\n",
    "plt.hist(flat_pred[flat_y<0.5], label='fake', **binning)\n",
    "plt.hist(flat_pred[flat_y>0.5], label='true', **binning)\n",
    "plt.xlabel('Model output')\n",
    "plt.legend(loc=0)\n",
    "\n",
    "# Plot the ROC curve\n",
    "plt.subplot(122)\n",
    "plt.plot(fpr, tpr)\n",
    "plt.plot([0, 1], [0, 1], '--')\n",
    "plt.xlabel('False positive rate')\n",
    "plt.ylabel('True positive rate')\n",
    "plt.title('ROC curve')\n",
    "\n",
    "plt.tight_layout()"
   ]
  },
  {
   "cell_type": "code",
   "execution_count": 19,
   "id": "ef8e26ee-646d-44bc-8fc6-30a2e5ee0ce3",
   "metadata": {
    "execution": {
     "iopub.execute_input": "2024-04-04T12:22:51.343418Z",
     "iopub.status.busy": "2024-04-04T12:22:51.343267Z",
     "iopub.status.idle": "2024-04-04T12:22:51.349009Z",
     "shell.execute_reply": "2024-04-04T12:22:51.348555Z"
    },
    "papermill": {
     "duration": 0.028402,
     "end_time": "2024-04-04T12:22:51.350315",
     "exception": false,
     "start_time": "2024-04-04T12:22:51.321913",
     "status": "completed"
    },
    "tags": []
   },
   "outputs": [],
   "source": [
    "def draw_sample(X, Ri, Ro, y, cmap='bwr_r', alpha_labels=False):\n",
    "    # Select the i/o node features for each segment\n",
    "    feats_o = X[np.where(Ri.T)[1]]\n",
    "    feats_i = X[np.where(Ro.T)[1]]\n",
    "    # Prepare the figure\n",
    "    fig, ax0 = plt.subplots(figsize=(9,4))\n",
    "    cmap = plt.get_cmap(cmap)\n",
    "\n",
    "    ax0.scatter(X[:,2], X[:,1], c='k')\n",
    "    \n",
    "    # Draw the segments\n",
    "    for j in range(y.shape[0]):\n",
    "        if alpha_labels:\n",
    "            seg_args = dict(c='b', alpha=float(y[j]))\n",
    "        else:\n",
    "            seg_args = dict(c=cmap(float(y[j])))\n",
    "        ax0.plot([feats_o[j,2], feats_i[j,2]],\n",
    "                 [feats_o[j,1], feats_i[j,1]], '-', **seg_args)\n",
    "    \n",
    "    # Add colorbar\n",
    "    sm = plt.cm.ScalarMappable(cmap=cmap)\n",
    "    sm.set_array(y)\n",
    "    cbar = plt.colorbar(sm, ax=ax0)\n",
    "    cbar.set_label('Colorbar Label')  # Set the label for the colorbar\n",
    "    \n",
    "    # Adjust axes\n",
    "    ax0.set_xlabel('zx_hit [mm]')\n",
    "    ax0.set_ylabel('x_hit ')\n",
    "    ax0.set_xlim(-100,2000)\n",
    "    ax0.set_ylim(-20,20)\n",
    "    plt.tight_layout()\n",
    "    plt.show()"
   ]
  },
  {
   "cell_type": "code",
   "execution_count": 1,
   "id": "a7d65905-3605-4b24-b79d-04a8525aebae",
   "metadata": {
    "papermill": {
     "duration": 0.758607,
     "end_time": "2024-04-04T12:22:52.128949",
     "exception": false,
     "start_time": "2024-04-04T12:22:51.370342",
     "status": "completed"
    },
    "tags": []
   },
   "outputs": [
    {
     "ename": "NameError",
     "evalue": "name 'test_graphs' is not defined",
     "output_type": "error",
     "traceback": [
      "\u001b[0;31m---------------------------------------------------------------------------\u001b[0m",
      "\u001b[0;31mNameError\u001b[0m                                 Traceback (most recent call last)",
      "Cell \u001b[0;32mIn[1], line 2\u001b[0m\n\u001b[1;32m      1\u001b[0m \u001b[38;5;28;01mfor\u001b[39;00m i \u001b[38;5;129;01min\u001b[39;00m \u001b[38;5;28mrange\u001b[39m(\u001b[38;5;241m10\u001b[39m):\n\u001b[0;32m----> 2\u001b[0m     g \u001b[38;5;241m=\u001b[39m (\u001b[43mtest_graphs\u001b[49m[i])\n\u001b[1;32m      3\u001b[0m     pred \u001b[38;5;241m=\u001b[39m test_preds[i]\u001b[38;5;241m.\u001b[39msqueeze(\u001b[38;5;241m0\u001b[39m)\n\u001b[1;32m      4\u001b[0m     \u001b[38;5;28mprint\u001b[39m(pred)\n",
      "\u001b[0;31mNameError\u001b[0m: name 'test_graphs' is not defined"
     ]
    }
   ],
   "source": [
    "for i in range(10):\n",
    "    g = (test_graphs[i])\n",
    "    pred = test_preds[i].squeeze(0)\n",
    "    print(pred)\n",
    "    print('accuracy %.3f, precision %.3f, recall %.3f' % (\n",
    "        sklearn.metrics.accuracy_score(g.y, pred>thresh),\n",
    "        sklearn.metrics.precision_score(g.y, pred>thresh),\n",
    "        sklearn.metrics.recall_score(g.y, pred>thresh)))\n",
    "    draw_sample(g.X, g.Ri, g.Ro, pred, alpha_labels=False);"
   ]
  },
  {
   "cell_type": "code",
   "execution_count": null,
   "id": "69a8906f-ef04-406f-9278-5df148958982",
   "metadata": {
    "papermill": {
     "duration": 0.028642,
     "end_time": "2024-04-04T12:22:52.188304",
     "exception": false,
     "start_time": "2024-04-04T12:22:52.159662",
     "status": "completed"
    },
    "tags": []
   },
   "outputs": [],
   "source": []
  },
  {
   "cell_type": "code",
   "execution_count": null,
   "id": "61ccc4e7-e0d5-4677-86a7-bd7479e9e09b",
   "metadata": {
    "papermill": {
     "duration": 0.021356,
     "end_time": "2024-04-04T12:22:52.235162",
     "exception": false,
     "start_time": "2024-04-04T12:22:52.213806",
     "status": "completed"
    },
    "tags": []
   },
   "outputs": [],
   "source": []
  }
 ],
 "metadata": {
  "kernelspec": {
   "display_name": "Python 3 (ipykernel)",
   "language": "python",
   "name": "python3"
  },
  "language_info": {
   "codemirror_mode": {
    "name": "ipython",
    "version": 3
   },
   "file_extension": ".py",
   "mimetype": "text/x-python",
   "name": "python",
   "nbconvert_exporter": "python",
   "pygments_lexer": "ipython3",
   "version": "3.11.5"
  },
  "papermill": {
   "default_parameters": {},
   "duration": 22288.142469,
   "end_time": "2024-04-04T12:22:58.298029",
   "environment_variables": {},
   "exception": null,
   "input_path": "Model-Copy1.ipynb",
   "output_path": "out_test2.ipynb",
   "parameters": {},
   "start_time": "2024-04-04T06:11:30.155560",
   "version": "2.5.0"
  }
 },
 "nbformat": 4,
 "nbformat_minor": 5
}
