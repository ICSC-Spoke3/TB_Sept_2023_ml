{
 "cells": [
  {
   "cell_type": "markdown",
   "id": "4bfb5d7c",
   "metadata": {
    "tags": [
     "papermill-error-cell-tag"
    ]
   },
   "source": [
    "<span style=\"color:red; font-family:Helvetica Neue, Helvetica, Arial, sans-serif; font-size:2em;\">An Exception was encountered at '<a href=\"#papermill-error-cell\">In [17]</a>'.</span>"
   ]
  },
  {
   "cell_type": "code",
   "execution_count": 1,
   "id": "121ff741-0401-47f2-842c-e1919f63d8f0",
   "metadata": {
    "execution": {
     "iopub.execute_input": "2024-04-10T12:54:10.791716Z",
     "iopub.status.busy": "2024-04-10T12:54:10.791391Z",
     "iopub.status.idle": "2024-04-10T12:54:24.324418Z",
     "shell.execute_reply": "2024-04-10T12:54:24.323222Z"
    },
    "papermill": {
     "duration": 13.544192,
     "end_time": "2024-04-10T12:54:24.327114",
     "exception": false,
     "start_time": "2024-04-10T12:54:10.782922",
     "status": "completed"
    },
    "tags": []
   },
   "outputs": [],
   "source": [
    "from graph import load_graphs, SparseGraph, graph_from_sparse,construct_graphs,feature_names,load_graph_combined\n",
    "from model import SegmentClassifier\n",
    "from estimator import Estimator\n",
    "from torch.autograd import Variable\n",
    "import torch.nn as nn\n",
    "import numpy as np\n",
    "import matplotlib.pyplot as plt\n",
    "\n",
    "import sklearn.metrics\n",
    "from sklearn.model_selection import train_test_split"
   ]
  },
  {
   "cell_type": "code",
   "execution_count": 2,
   "id": "f8100fdd-2f7e-4322-8df5-9bd0eb1cec99",
   "metadata": {
    "execution": {
     "iopub.execute_input": "2024-04-10T12:54:24.342098Z",
     "iopub.status.busy": "2024-04-10T12:54:24.341762Z",
     "iopub.status.idle": "2024-04-10T12:54:24.346556Z",
     "shell.execute_reply": "2024-04-10T12:54:24.345772Z"
    },
    "papermill": {
     "duration": 0.012918,
     "end_time": "2024-04-10T12:54:24.348376",
     "exception": false,
     "start_time": "2024-04-10T12:54:24.335458",
     "status": "completed"
    },
    "tags": []
   },
   "outputs": [],
   "source": [
    "cuda=True\n",
    "if cuda:\n",
    "    np_to_torch = lambda x, volatile=False: (\n",
    "        torch.tensor(x.astype(np.float32), requires_grad=False).cuda())\n",
    "else:\n",
    "    np_to_torch = lambda x, volatile=False: (\n",
    "        torch.tensor(x.astype(np.float32), requires_grad=False))\n",
    "\n",
    "torch_to_np = lambda x: x.cpu().data.numpy()"
   ]
  },
  {
   "cell_type": "code",
   "execution_count": 3,
   "id": "1c1e1f44-6e03-4c8b-ae8a-8b55974a7a1b",
   "metadata": {
    "execution": {
     "iopub.execute_input": "2024-04-10T12:54:24.360368Z",
     "iopub.status.busy": "2024-04-10T12:54:24.359786Z",
     "iopub.status.idle": "2024-04-10T12:54:24.367062Z",
     "shell.execute_reply": "2024-04-10T12:54:24.366435Z"
    },
    "papermill": {
     "duration": 0.015018,
     "end_time": "2024-04-10T12:54:24.368643",
     "exception": false,
     "start_time": "2024-04-10T12:54:24.353625",
     "status": "completed"
    },
    "tags": []
   },
   "outputs": [],
   "source": [
    "import torch\n",
    "from sklearn.model_selection import train_test_split\n",
    "def merge_graphs(graphs):\n",
    "    batch_size = len(graphs)\n",
    "    \n",
    "    # Special handling of batch size 1\n",
    "    if batch_size == 1:\n",
    "        g = graphs[0]\n",
    "        # Prepend singleton batch dimension\n",
    "        return g.X[None], g.Ri[None], g.Ro[None], g.y[None]\n",
    "    \n",
    "    # Get the maximum sizes in this batch\n",
    "    n_features = graphs[0].X.shape[1]\n",
    "    n_nodes = np.array([g.X.shape[0] for g in graphs])\n",
    "    n_edges = np.array([g.y.shape[0] for g in graphs])\n",
    "    max_nodes = n_nodes.max()\n",
    "    max_edges = n_edges.max()\n",
    "\n",
    "    # Allocate the tensors for this batch\n",
    "    batch_X = np.zeros((batch_size, max_nodes, n_features), dtype=np.float32)\n",
    "    batch_Ri = np.zeros((batch_size, max_nodes, max_edges), dtype=np.uint8)\n",
    "    batch_Ro = np.zeros((batch_size, max_nodes, max_edges), dtype=np.uint8)\n",
    "    batch_y = np.zeros((batch_size, max_edges), dtype=np.uint8)\n",
    "\n",
    "    # Loop over samples and fill the tensors\n",
    "    for i, g in enumerate(graphs):\n",
    "        batch_X[i, :n_nodes[i]] = g.X\n",
    "        batch_Ri[i, :n_nodes[i], :n_edges[i]] = g.Ri\n",
    "        batch_Ro[i, :n_nodes[i], :n_edges[i]] = g.Ro\n",
    "        batch_y[i, :n_edges[i]] = g.y\n",
    "    \n",
    "    return batch_X, batch_Ri, batch_Ro, batch_y\n",
    "\n",
    "def batch_generator(graphs, n_samples=1, batch_size=1, train=True):\n",
    "    volatile = not train\n",
    "    batch_idxs = np.arange(0, n_samples, batch_size)\n",
    "    # Loop over epochs\n",
    "    while True:\n",
    "        # Loop over batches\n",
    "        for j in batch_idxs:\n",
    "            #print('batch', j, '-', j+batch_size)\n",
    "            batch_graphs = [(g) for g in graphs[j:j+batch_size]]\n",
    "            batch_X, batch_Ri, batch_Ro, batch_y = merge_graphs(batch_graphs)\n",
    "            #print('  graphs merged')\n",
    "            batch_inputs = [\n",
    "                # torch.from_numpy(batch_X).cuda(),\n",
    "                # torch.from_numpy(batch_Ri).cuda(),\n",
    "                # torch.from_numpy(batch_Ro).cuda()\n",
    "                np_to_torch(batch_X, volatile=volatile),\n",
    "                np_to_torch(batch_Ri, volatile=volatile),\n",
    "                np_to_torch(batch_Ro, volatile=volatile)\n",
    "            ]\n",
    "            batch_target = np_to_torch(batch_y, volatile=volatile)\n",
    "            # batch_target=torch.from_numpy(batch_y).cuda()\n",
    "            #print('  data prepared')\n",
    "            yield batch_inputs, batch_target"
   ]
  },
  {
   "cell_type": "code",
   "execution_count": 4,
   "id": "afc72ae4-c90a-45fd-871d-3ceaef240560",
   "metadata": {
    "execution": {
     "iopub.execute_input": "2024-04-10T12:54:24.380737Z",
     "iopub.status.busy": "2024-04-10T12:54:24.380294Z",
     "iopub.status.idle": "2024-04-10T12:54:24.383688Z",
     "shell.execute_reply": "2024-04-10T12:54:24.382908Z"
    },
    "papermill": {
     "duration": 0.011133,
     "end_time": "2024-04-10T12:54:24.385352",
     "exception": false,
     "start_time": "2024-04-10T12:54:24.374219",
     "status": "completed"
    },
    "tags": []
   },
   "outputs": [],
   "source": [
    "import os\n",
    "folder_path = \"/lustrehome/federicacuna/TB_Sept_2023_ml/Data/npz_file_IN/\"\n",
    "lista=os.listdir(folder_path)"
   ]
  },
  {
   "cell_type": "code",
   "execution_count": 5,
   "id": "812559b6-55b9-499e-8a81-021274666ff7",
   "metadata": {
    "execution": {
     "iopub.execute_input": "2024-04-10T12:54:24.396919Z",
     "iopub.status.busy": "2024-04-10T12:54:24.396663Z",
     "iopub.status.idle": "2024-04-10T12:54:24.399910Z",
     "shell.execute_reply": "2024-04-10T12:54:24.399287Z"
    },
    "papermill": {
     "duration": 0.010843,
     "end_time": "2024-04-10T12:54:24.401474",
     "exception": false,
     "start_time": "2024-04-10T12:54:24.390631",
     "status": "completed"
    },
    "tags": []
   },
   "outputs": [],
   "source": [
    "graph = [os.path.join(folder_path, file) for file in lista if \".ipynb_checkpoint\" not in file  ]"
   ]
  },
  {
   "cell_type": "code",
   "execution_count": 6,
   "id": "709d4d4b-a767-46f8-91dc-6809fd811764",
   "metadata": {
    "execution": {
     "iopub.execute_input": "2024-04-10T12:54:24.413563Z",
     "iopub.status.busy": "2024-04-10T12:54:24.413043Z",
     "iopub.status.idle": "2024-04-10T12:54:24.415866Z",
     "shell.execute_reply": "2024-04-10T12:54:24.415235Z"
    },
    "papermill": {
     "duration": 0.010375,
     "end_time": "2024-04-10T12:54:24.417381",
     "exception": false,
     "start_time": "2024-04-10T12:54:24.407006",
     "status": "completed"
    },
    "tags": []
   },
   "outputs": [],
   "source": [
    "# graphs=load_graphs(lista,folder_path)"
   ]
  },
  {
   "cell_type": "code",
   "execution_count": 7,
   "id": "fa1df57c-d29f-44b8-acf5-17cc3ecc5659",
   "metadata": {
    "execution": {
     "iopub.execute_input": "2024-04-10T12:54:24.428682Z",
     "iopub.status.busy": "2024-04-10T12:54:24.428119Z",
     "iopub.status.idle": "2024-04-10T12:54:24.431873Z",
     "shell.execute_reply": "2024-04-10T12:54:24.431194Z"
    },
    "papermill": {
     "duration": 0.01034,
     "end_time": "2024-04-10T12:54:24.433076",
     "exception": false,
     "start_time": "2024-04-10T12:54:24.422736",
     "status": "completed"
    },
    "tags": []
   },
   "outputs": [],
   "source": [
    "def extract_number_from_filename(filename):\n",
    "    return int(filename.split(\"_npz\")[1].split(\".npz\")[0])\n",
    "\n",
    "# Ordina i file basati sul numero compreso tra \"_npz\" e \".npz\" nel loro nome\n",
    "graph_data_sorted = sorted([os.path.join(folder_path, file) for file in graph], key=extract_number_from_filename)\n"
   ]
  },
  {
   "cell_type": "code",
   "execution_count": 8,
   "id": "246a8355-14fc-49d9-9d8a-ccbf375eca25",
   "metadata": {
    "execution": {
     "iopub.execute_input": "2024-04-10T12:54:24.443305Z",
     "iopub.status.busy": "2024-04-10T12:54:24.442610Z",
     "iopub.status.idle": "2024-04-10T17:59:09.818242Z",
     "shell.execute_reply": "2024-04-10T17:59:09.817451Z"
    },
    "papermill": {
     "duration": 18285.396637,
     "end_time": "2024-04-10T17:59:09.834373",
     "exception": false,
     "start_time": "2024-04-10T12:54:24.437736",
     "status": "completed"
    },
    "tags": []
   },
   "outputs": [
    {
     "name": "stdout",
     "output_type": "stream",
     "text": [
      "0\n"
     ]
    },
    {
     "name": "stdout",
     "output_type": "stream",
     "text": [
      "1\n"
     ]
    },
    {
     "name": "stdout",
     "output_type": "stream",
     "text": [
      "2\n"
     ]
    },
    {
     "name": "stdout",
     "output_type": "stream",
     "text": [
      "3\n"
     ]
    },
    {
     "name": "stdout",
     "output_type": "stream",
     "text": [
      "4\n"
     ]
    },
    {
     "name": "stdout",
     "output_type": "stream",
     "text": [
      "5\n"
     ]
    },
    {
     "name": "stdout",
     "output_type": "stream",
     "text": [
      "6\n"
     ]
    },
    {
     "name": "stdout",
     "output_type": "stream",
     "text": [
      "7\n"
     ]
    },
    {
     "name": "stdout",
     "output_type": "stream",
     "text": [
      "8\n"
     ]
    },
    {
     "name": "stdout",
     "output_type": "stream",
     "text": [
      "9\n"
     ]
    },
    {
     "name": "stdout",
     "output_type": "stream",
     "text": [
      "10\n"
     ]
    },
    {
     "name": "stdout",
     "output_type": "stream",
     "text": [
      "11\n"
     ]
    },
    {
     "name": "stdout",
     "output_type": "stream",
     "text": [
      "12\n"
     ]
    },
    {
     "name": "stdout",
     "output_type": "stream",
     "text": [
      "13\n"
     ]
    },
    {
     "name": "stdout",
     "output_type": "stream",
     "text": [
      "14\n"
     ]
    },
    {
     "name": "stdout",
     "output_type": "stream",
     "text": [
      "15\n"
     ]
    },
    {
     "name": "stdout",
     "output_type": "stream",
     "text": [
      "16\n"
     ]
    },
    {
     "name": "stdout",
     "output_type": "stream",
     "text": [
      "17\n"
     ]
    },
    {
     "name": "stdout",
     "output_type": "stream",
     "text": [
      "18\n"
     ]
    },
    {
     "name": "stdout",
     "output_type": "stream",
     "text": [
      "19\n"
     ]
    },
    {
     "name": "stdout",
     "output_type": "stream",
     "text": [
      "20\n"
     ]
    },
    {
     "name": "stdout",
     "output_type": "stream",
     "text": [
      "21\n"
     ]
    },
    {
     "name": "stdout",
     "output_type": "stream",
     "text": [
      "22\n"
     ]
    },
    {
     "name": "stdout",
     "output_type": "stream",
     "text": [
      "23\n"
     ]
    },
    {
     "name": "stdout",
     "output_type": "stream",
     "text": [
      "24\n"
     ]
    },
    {
     "name": "stdout",
     "output_type": "stream",
     "text": [
      "25\n"
     ]
    },
    {
     "name": "stdout",
     "output_type": "stream",
     "text": [
      "26\n"
     ]
    },
    {
     "name": "stdout",
     "output_type": "stream",
     "text": [
      "27\n"
     ]
    },
    {
     "name": "stdout",
     "output_type": "stream",
     "text": [
      "28\n"
     ]
    },
    {
     "name": "stdout",
     "output_type": "stream",
     "text": [
      "29\n"
     ]
    },
    {
     "name": "stdout",
     "output_type": "stream",
     "text": [
      "30\n"
     ]
    },
    {
     "name": "stdout",
     "output_type": "stream",
     "text": [
      "31\n"
     ]
    },
    {
     "name": "stdout",
     "output_type": "stream",
     "text": [
      "32\n"
     ]
    },
    {
     "name": "stdout",
     "output_type": "stream",
     "text": [
      "33\n"
     ]
    },
    {
     "name": "stdout",
     "output_type": "stream",
     "text": [
      "34\n"
     ]
    },
    {
     "name": "stdout",
     "output_type": "stream",
     "text": [
      "35\n"
     ]
    },
    {
     "name": "stdout",
     "output_type": "stream",
     "text": [
      "36\n"
     ]
    },
    {
     "name": "stdout",
     "output_type": "stream",
     "text": [
      "37\n"
     ]
    },
    {
     "name": "stdout",
     "output_type": "stream",
     "text": [
      "38\n"
     ]
    },
    {
     "name": "stdout",
     "output_type": "stream",
     "text": [
      "39\n"
     ]
    },
    {
     "name": "stdout",
     "output_type": "stream",
     "text": [
      "40\n"
     ]
    },
    {
     "name": "stdout",
     "output_type": "stream",
     "text": [
      "41\n"
     ]
    },
    {
     "name": "stdout",
     "output_type": "stream",
     "text": [
      "42\n"
     ]
    },
    {
     "name": "stdout",
     "output_type": "stream",
     "text": [
      "43\n"
     ]
    },
    {
     "name": "stdout",
     "output_type": "stream",
     "text": [
      "44\n"
     ]
    },
    {
     "name": "stdout",
     "output_type": "stream",
     "text": [
      "45\n"
     ]
    },
    {
     "name": "stdout",
     "output_type": "stream",
     "text": [
      "46\n"
     ]
    },
    {
     "name": "stdout",
     "output_type": "stream",
     "text": [
      "47\n"
     ]
    },
    {
     "name": "stdout",
     "output_type": "stream",
     "text": [
      "48\n"
     ]
    },
    {
     "name": "stdout",
     "output_type": "stream",
     "text": [
      "49\n"
     ]
    },
    {
     "name": "stdout",
     "output_type": "stream",
     "text": [
      "50\n"
     ]
    },
    {
     "name": "stdout",
     "output_type": "stream",
     "text": [
      "51\n"
     ]
    },
    {
     "name": "stdout",
     "output_type": "stream",
     "text": [
      "52\n"
     ]
    },
    {
     "name": "stdout",
     "output_type": "stream",
     "text": [
      "53\n"
     ]
    },
    {
     "name": "stdout",
     "output_type": "stream",
     "text": [
      "54\n"
     ]
    },
    {
     "name": "stdout",
     "output_type": "stream",
     "text": [
      "55\n"
     ]
    },
    {
     "name": "stdout",
     "output_type": "stream",
     "text": [
      "56\n"
     ]
    },
    {
     "name": "stdout",
     "output_type": "stream",
     "text": [
      "57\n"
     ]
    },
    {
     "name": "stdout",
     "output_type": "stream",
     "text": [
      "58\n"
     ]
    },
    {
     "name": "stdout",
     "output_type": "stream",
     "text": [
      "59\n"
     ]
    },
    {
     "name": "stdout",
     "output_type": "stream",
     "text": [
      "60\n"
     ]
    },
    {
     "name": "stdout",
     "output_type": "stream",
     "text": [
      "61\n"
     ]
    },
    {
     "name": "stdout",
     "output_type": "stream",
     "text": [
      "62\n"
     ]
    },
    {
     "name": "stdout",
     "output_type": "stream",
     "text": [
      "63\n"
     ]
    },
    {
     "name": "stdout",
     "output_type": "stream",
     "text": [
      "64\n"
     ]
    },
    {
     "name": "stdout",
     "output_type": "stream",
     "text": [
      "65\n"
     ]
    },
    {
     "name": "stdout",
     "output_type": "stream",
     "text": [
      "66\n"
     ]
    },
    {
     "name": "stdout",
     "output_type": "stream",
     "text": [
      "67\n"
     ]
    },
    {
     "name": "stdout",
     "output_type": "stream",
     "text": [
      "68\n"
     ]
    },
    {
     "name": "stdout",
     "output_type": "stream",
     "text": [
      "69\n"
     ]
    },
    {
     "name": "stdout",
     "output_type": "stream",
     "text": [
      "70\n"
     ]
    },
    {
     "name": "stdout",
     "output_type": "stream",
     "text": [
      "71\n"
     ]
    },
    {
     "name": "stdout",
     "output_type": "stream",
     "text": [
      "72\n"
     ]
    },
    {
     "name": "stdout",
     "output_type": "stream",
     "text": [
      "73\n"
     ]
    },
    {
     "name": "stdout",
     "output_type": "stream",
     "text": [
      "74\n"
     ]
    },
    {
     "name": "stdout",
     "output_type": "stream",
     "text": [
      "75\n"
     ]
    },
    {
     "name": "stdout",
     "output_type": "stream",
     "text": [
      "76\n"
     ]
    },
    {
     "name": "stdout",
     "output_type": "stream",
     "text": [
      "77\n"
     ]
    },
    {
     "name": "stdout",
     "output_type": "stream",
     "text": [
      "78\n"
     ]
    },
    {
     "name": "stdout",
     "output_type": "stream",
     "text": [
      "79\n"
     ]
    },
    {
     "name": "stdout",
     "output_type": "stream",
     "text": [
      "80\n"
     ]
    },
    {
     "name": "stdout",
     "output_type": "stream",
     "text": [
      "81\n"
     ]
    },
    {
     "name": "stdout",
     "output_type": "stream",
     "text": [
      "82\n"
     ]
    },
    {
     "name": "stdout",
     "output_type": "stream",
     "text": [
      "83\n"
     ]
    },
    {
     "name": "stdout",
     "output_type": "stream",
     "text": [
      "84\n"
     ]
    },
    {
     "name": "stdout",
     "output_type": "stream",
     "text": [
      "85\n"
     ]
    },
    {
     "name": "stdout",
     "output_type": "stream",
     "text": [
      "86\n"
     ]
    },
    {
     "name": "stdout",
     "output_type": "stream",
     "text": [
      "87\n"
     ]
    },
    {
     "name": "stdout",
     "output_type": "stream",
     "text": [
      "88\n"
     ]
    },
    {
     "name": "stdout",
     "output_type": "stream",
     "text": [
      "89\n"
     ]
    },
    {
     "name": "stdout",
     "output_type": "stream",
     "text": [
      "90\n"
     ]
    },
    {
     "name": "stdout",
     "output_type": "stream",
     "text": [
      "91\n"
     ]
    },
    {
     "name": "stdout",
     "output_type": "stream",
     "text": [
      "92\n"
     ]
    },
    {
     "name": "stdout",
     "output_type": "stream",
     "text": [
      "93\n"
     ]
    },
    {
     "name": "stdout",
     "output_type": "stream",
     "text": [
      "94\n"
     ]
    },
    {
     "name": "stdout",
     "output_type": "stream",
     "text": [
      "95\n"
     ]
    },
    {
     "name": "stdout",
     "output_type": "stream",
     "text": [
      "96\n"
     ]
    },
    {
     "name": "stdout",
     "output_type": "stream",
     "text": [
      "97\n"
     ]
    },
    {
     "name": "stdout",
     "output_type": "stream",
     "text": [
      "98\n"
     ]
    },
    {
     "name": "stdout",
     "output_type": "stream",
     "text": [
      "99\n"
     ]
    },
    {
     "name": "stdout",
     "output_type": "stream",
     "text": [
      "CPU times: user 5h 3min 55s, sys: 16.6 s, total: 5h 4min 11s\n",
      "Wall time: 5h 4min 45s\n"
     ]
    }
   ],
   "source": [
    "%%time\n",
    "data_for_train=[]\n",
    "# for i in graph_data_sorted:\n",
    "#     # print(i)\n",
    "#     data_for_train.extend(load_graph_combined(i))\n",
    "for i in range(100):#graph_data_sorted:\n",
    "    print(i)\n",
    "    i=graph_data_sorted[i]\n",
    "    data_for_train.extend(load_graph_combined(i))"
   ]
  },
  {
   "cell_type": "code",
   "execution_count": 9,
   "id": "67df4c5e-fa2d-42ee-8ee8-ada93a091b7d",
   "metadata": {
    "execution": {
     "iopub.execute_input": "2024-04-10T17:59:09.857678Z",
     "iopub.status.busy": "2024-04-10T17:59:09.857519Z",
     "iopub.status.idle": "2024-04-10T17:59:09.861005Z",
     "shell.execute_reply": "2024-04-10T17:59:09.860406Z"
    },
    "papermill": {
     "duration": 0.016832,
     "end_time": "2024-04-10T17:59:09.862291",
     "exception": false,
     "start_time": "2024-04-10T17:59:09.845459",
     "status": "completed"
    },
    "tags": []
   },
   "outputs": [],
   "source": [
    "# graphs=load_graph_combined('test_npz.npz')\n",
    "graphs=data_for_train"
   ]
  },
  {
   "cell_type": "code",
   "execution_count": 10,
   "id": "a6f42acd-2d53-4251-9de2-454da09722ea",
   "metadata": {
    "execution": {
     "iopub.execute_input": "2024-04-10T17:59:09.884818Z",
     "iopub.status.busy": "2024-04-10T17:59:09.884672Z",
     "iopub.status.idle": "2024-04-10T17:59:09.891733Z",
     "shell.execute_reply": "2024-04-10T17:59:09.891280Z"
    },
    "papermill": {
     "duration": 0.019889,
     "end_time": "2024-04-10T17:59:09.893020",
     "exception": false,
     "start_time": "2024-04-10T17:59:09.873131",
     "status": "completed"
    },
    "tags": []
   },
   "outputs": [
    {
     "data": {
      "text/plain": [
       "(418000, 138000, 138000, 694000)"
      ]
     },
     "execution_count": 10,
     "metadata": {},
     "output_type": "execute_result"
    }
   ],
   "source": [
    "hidden_dim = 64\n",
    "n_iters = 7\n",
    "n_samples=len(graphs)\n",
    "# Training config\n",
    "batch_size = 1000#32\n",
    "n_epochs = 100\n",
    "valid_frac = 0.2\n",
    "test_frac = 0.2\n",
    "# We round by batch_size to avoid partial batches\n",
    "n_test = int(n_samples * test_frac) // batch_size * batch_size\n",
    "n_valid = int(n_samples * valid_frac) // batch_size * batch_size\n",
    "n_train = (n_samples - n_valid - n_test) // batch_size * batch_size\n",
    "n_train_batches = n_train // batch_size\n",
    "n_valid_batches = n_valid // batch_size\n",
    "n_test_batches = n_test #// batch_size\n",
    "\n",
    "n_train, n_valid, n_test, n_train + n_valid + n_test"
   ]
  },
  {
   "cell_type": "code",
   "execution_count": 11,
   "id": "b17a5dac-a637-4c41-b73f-6bdf2cbb0b78",
   "metadata": {
    "execution": {
     "iopub.execute_input": "2024-04-10T17:59:09.916454Z",
     "iopub.status.busy": "2024-04-10T17:59:09.916191Z",
     "iopub.status.idle": "2024-04-10T17:59:10.244280Z",
     "shell.execute_reply": "2024-04-10T17:59:10.243633Z"
    },
    "papermill": {
     "duration": 0.341644,
     "end_time": "2024-04-10T17:59:10.245756",
     "exception": false,
     "start_time": "2024-04-10T17:59:09.904112",
     "status": "completed"
    },
    "tags": []
   },
   "outputs": [
    {
     "name": "stdout",
     "output_type": "stream",
     "text": [
      "Train set size: 418455\n",
      "Valid set size: 138000\n",
      "Test set size:  138000\n"
     ]
    }
   ],
   "source": [
    "# Partition the dataset\n",
    "train_graphs, test_graphs = train_test_split(graphs, test_size=n_test)\n",
    "train_graphs, valid_graphs = train_test_split(train_graphs, test_size=n_valid)\n",
    "\n",
    "print('Train set size:', len(train_graphs))\n",
    "print('Valid set size:', len(valid_graphs))\n",
    "print('Test set size: ', len(test_graphs))"
   ]
  },
  {
   "cell_type": "code",
   "execution_count": 12,
   "id": "f59e1877-f63d-43ac-acc9-e7148107c021",
   "metadata": {
    "execution": {
     "iopub.execute_input": "2024-04-10T17:59:10.268989Z",
     "iopub.status.busy": "2024-04-10T17:59:10.268849Z",
     "iopub.status.idle": "2024-04-10T17:59:10.272043Z",
     "shell.execute_reply": "2024-04-10T17:59:10.271617Z"
    },
    "papermill": {
     "duration": 0.016321,
     "end_time": "2024-04-10T17:59:10.273352",
     "exception": false,
     "start_time": "2024-04-10T17:59:10.257031",
     "status": "completed"
    },
    "tags": []
   },
   "outputs": [],
   "source": [
    "# Prepare the batch generators\n",
    "train_batcher = batch_generator(train_graphs, n_samples=n_train, batch_size=batch_size)\n",
    "valid_batcher = batch_generator(valid_graphs, n_samples=n_valid, batch_size=batch_size, train=False)\n",
    "test_batcher = batch_generator(test_graphs, n_samples=n_test, batch_size=1, train=False)"
   ]
  },
  {
   "cell_type": "code",
   "execution_count": 13,
   "id": "6b54775a-1f56-4aa2-b354-2f6fc976d685",
   "metadata": {
    "execution": {
     "iopub.execute_input": "2024-04-10T17:59:10.292239Z",
     "iopub.status.busy": "2024-04-10T17:59:10.292009Z",
     "iopub.status.idle": "2024-04-10T17:59:11.398072Z",
     "shell.execute_reply": "2024-04-10T17:59:11.397440Z"
    },
    "papermill": {
     "duration": 1.114554,
     "end_time": "2024-04-10T17:59:11.399114",
     "exception": false,
     "start_time": "2024-04-10T17:59:10.284560",
     "status": "completed"
    },
    "tags": []
   },
   "outputs": [
    {
     "name": "stdout",
     "output_type": "stream",
     "text": [
      "2024-04-10 17:59:11.395583 Model: \n",
      "SegmentClassifier(\n",
      "  (input_network): Sequential(\n",
      "    (0): Linear(in_features=5, out_features=64, bias=True)\n",
      "    (1): Tanh()\n",
      "  )\n",
      "  (edge_network): EdgeNetwork(\n",
      "    (network): Sequential(\n",
      "      (0): Linear(in_features=138, out_features=64, bias=True)\n",
      "      (1): Tanh()\n",
      "      (2): Linear(in_features=64, out_features=1, bias=True)\n",
      "      (3): Sigmoid()\n",
      "    )\n",
      "  )\n",
      "  (node_network): NodeNetwork(\n",
      "    (network): Sequential(\n",
      "      (0): Linear(in_features=207, out_features=64, bias=True)\n",
      "      (1): Tanh()\n",
      "      (2): Linear(in_features=64, out_features=64, bias=True)\n",
      "      (3): Tanh()\n",
      "    )\n",
      "  )\n",
      ")\n",
      "2024-04-10 17:59:11.395740 Parameters: 26817\n"
     ]
    }
   ],
   "source": [
    "model = SegmentClassifier(input_dim=5, hidden_dim=hidden_dim, n_iters=n_iters)\n",
    "loss_func = nn.functional.binary_cross_entropy\n",
    "estim = Estimator(model, loss_func=loss_func, cuda=True)"
   ]
  },
  {
   "cell_type": "code",
   "execution_count": 14,
   "id": "d274fc1b-f2f5-4796-86cc-5f04506affad",
   "metadata": {
    "execution": {
     "iopub.execute_input": "2024-04-10T17:59:11.414498Z",
     "iopub.status.busy": "2024-04-10T17:59:11.414271Z",
     "iopub.status.idle": "2024-04-10T18:59:47.486964Z",
     "shell.execute_reply": "2024-04-10T18:59:47.486131Z"
    },
    "papermill": {
     "duration": 3636.081365,
     "end_time": "2024-04-10T18:59:47.487975",
     "exception": false,
     "start_time": "2024-04-10T17:59:11.406610",
     "status": "completed"
    },
    "tags": []
   },
   "outputs": [
    {
     "name": "stdout",
     "output_type": "stream",
     "text": [
      "2024-04-10 17:59:11.415160 Epoch 0\n"
     ]
    },
    {
     "name": "stdout",
     "output_type": "stream",
     "text": [
      "2024-04-10 17:59:41.968355   training loss 0.616 time 30.5531s\n"
     ]
    },
    {
     "name": "stdout",
     "output_type": "stream",
     "text": [
      "Epoch_stop: 0\n",
      "2024-04-10 17:59:48.206519   validate loss 0.535\n",
      "2024-04-10 17:59:48.206549 Epoch 1\n"
     ]
    },
    {
     "name": "stdout",
     "output_type": "stream",
     "text": [
      "2024-04-10 18:00:17.861276   training loss 0.441 time 29.6547s\n"
     ]
    },
    {
     "name": "stdout",
     "output_type": "stream",
     "text": [
      "Epoch_stop: 1\n",
      "2024-04-10 18:00:23.674087   validate loss 0.346\n",
      "2024-04-10 18:00:23.674111 Epoch 2\n"
     ]
    },
    {
     "name": "stdout",
     "output_type": "stream",
     "text": [
      "2024-04-10 18:00:52.629320   training loss 0.268 time 28.9552s\n"
     ]
    },
    {
     "name": "stdout",
     "output_type": "stream",
     "text": [
      "Epoch_stop: 2\n",
      "2024-04-10 18:00:58.812559   validate loss 0.202\n",
      "2024-04-10 18:00:58.812591 Epoch 3\n"
     ]
    },
    {
     "name": "stdout",
     "output_type": "stream",
     "text": [
      "2024-04-10 18:01:28.406697   training loss 0.156 time 29.5941s\n"
     ]
    },
    {
     "name": "stdout",
     "output_type": "stream",
     "text": [
      "Epoch_stop: 3\n",
      "2024-04-10 18:01:34.505495   validate loss 0.12\n",
      "2024-04-10 18:01:34.505524 Epoch 4\n"
     ]
    },
    {
     "name": "stdout",
     "output_type": "stream",
     "text": [
      "2024-04-10 18:02:04.409918   training loss 0.0973 time 29.9043s\n"
     ]
    },
    {
     "name": "stdout",
     "output_type": "stream",
     "text": [
      "Epoch_stop: 4\n",
      "2024-04-10 18:02:10.302802   validate loss 0.0801\n",
      "2024-04-10 18:02:10.302826 Epoch 5\n"
     ]
    },
    {
     "name": "stdout",
     "output_type": "stream",
     "text": [
      "2024-04-10 18:02:40.466010   training loss 0.0662 time 30.1631s\n"
     ]
    },
    {
     "name": "stdout",
     "output_type": "stream",
     "text": [
      "Epoch_stop: 5\n",
      "2024-04-10 18:02:46.640542   validate loss 0.0567\n",
      "2024-04-10 18:02:46.640573 Epoch 6\n"
     ]
    },
    {
     "name": "stdout",
     "output_type": "stream",
     "text": [
      "2024-04-10 18:03:15.753431   training loss 0.0506 time 29.1128s\n"
     ]
    },
    {
     "name": "stdout",
     "output_type": "stream",
     "text": [
      "Epoch_stop: 6\n",
      "2024-04-10 18:03:21.732597   validate loss 0.045\n",
      "2024-04-10 18:03:21.732622 Epoch 7\n"
     ]
    },
    {
     "name": "stdout",
     "output_type": "stream",
     "text": [
      "2024-04-10 18:03:51.770939   training loss 0.0406 time 30.0383s\n"
     ]
    },
    {
     "name": "stdout",
     "output_type": "stream",
     "text": [
      "Epoch_stop: 7\n",
      "2024-04-10 18:03:58.128837   validate loss 0.0371\n",
      "2024-04-10 18:03:58.128867 Epoch 8\n"
     ]
    },
    {
     "name": "stdout",
     "output_type": "stream",
     "text": [
      "2024-04-10 18:04:27.229960   training loss 0.035 time 29.101s\n"
     ]
    },
    {
     "name": "stdout",
     "output_type": "stream",
     "text": [
      "Epoch_stop: 8\n",
      "2024-04-10 18:04:33.516112   validate loss 0.0328\n",
      "2024-04-10 18:04:33.516140 Epoch 9\n"
     ]
    },
    {
     "name": "stdout",
     "output_type": "stream",
     "text": [
      "2024-04-10 18:05:02.707416   training loss 0.0318 time 29.1912s\n"
     ]
    },
    {
     "name": "stdout",
     "output_type": "stream",
     "text": [
      "Epoch_stop: 9\n",
      "2024-04-10 18:05:08.566785   validate loss 0.0303\n",
      "2024-04-10 18:05:08.566819 Epoch 10\n"
     ]
    },
    {
     "name": "stdout",
     "output_type": "stream",
     "text": [
      "2024-04-10 18:05:39.129722   training loss 0.0287 time 30.5629s\n"
     ]
    },
    {
     "name": "stdout",
     "output_type": "stream",
     "text": [
      "Epoch_stop: 10\n",
      "2024-04-10 18:05:45.658008   validate loss 0.0278\n",
      "2024-04-10 18:05:45.658030 Epoch 11\n"
     ]
    },
    {
     "name": "stdout",
     "output_type": "stream",
     "text": [
      "2024-04-10 18:06:16.502509   training loss 0.0269 time 30.8444s\n"
     ]
    },
    {
     "name": "stdout",
     "output_type": "stream",
     "text": [
      "Epoch_stop: 11\n",
      "2024-04-10 18:06:23.022788   validate loss 0.0264\n",
      "2024-04-10 18:06:23.022818 Epoch 12\n"
     ]
    },
    {
     "name": "stdout",
     "output_type": "stream",
     "text": [
      "2024-04-10 18:06:53.515537   training loss 0.0253 time 30.4927s\n"
     ]
    },
    {
     "name": "stdout",
     "output_type": "stream",
     "text": [
      "Epoch_stop: 12\n",
      "2024-04-10 18:06:59.366966   validate loss 0.0249\n",
      "2024-04-10 18:06:59.366991 Epoch 13\n"
     ]
    },
    {
     "name": "stdout",
     "output_type": "stream",
     "text": [
      "2024-04-10 18:07:29.880108   training loss 0.0254 time 30.5131s\n"
     ]
    },
    {
     "name": "stdout",
     "output_type": "stream",
     "text": [
      "2024-04-10 18:07:35.811166   validate loss 0.042\n",
      "2024-04-10 18:07:35.811298 Epoch 14\n"
     ]
    },
    {
     "name": "stdout",
     "output_type": "stream",
     "text": [
      "2024-04-10 18:08:06.452121   training loss 0.0288 time 30.6408s\n"
     ]
    },
    {
     "name": "stdout",
     "output_type": "stream",
     "text": [
      "Epoch_stop: 14\n",
      "2024-04-10 18:08:12.691761   validate loss 0.0246\n",
      "2024-04-10 18:08:12.691793 Epoch 15\n"
     ]
    },
    {
     "name": "stdout",
     "output_type": "stream",
     "text": [
      "2024-04-10 18:08:43.101069   training loss 0.0245 time 30.4092s\n"
     ]
    },
    {
     "name": "stdout",
     "output_type": "stream",
     "text": [
      "Epoch_stop: 15\n",
      "2024-04-10 18:08:49.313225   validate loss 0.0243\n",
      "2024-04-10 18:08:49.313247 Epoch 16\n"
     ]
    },
    {
     "name": "stdout",
     "output_type": "stream",
     "text": [
      "2024-04-10 18:09:19.057421   training loss 0.0233 time 29.7441s\n"
     ]
    },
    {
     "name": "stdout",
     "output_type": "stream",
     "text": [
      "Epoch_stop: 16\n",
      "2024-04-10 18:09:24.956966   validate loss 0.0232\n",
      "2024-04-10 18:09:24.956996 Epoch 17\n"
     ]
    },
    {
     "name": "stdout",
     "output_type": "stream",
     "text": [
      "2024-04-10 18:09:55.794253   training loss 0.0227 time 30.8372s\n"
     ]
    },
    {
     "name": "stdout",
     "output_type": "stream",
     "text": [
      "Epoch_stop: 17\n",
      "2024-04-10 18:10:02.332717   validate loss 0.0224\n",
      "2024-04-10 18:10:02.332748 Epoch 18\n"
     ]
    },
    {
     "name": "stdout",
     "output_type": "stream",
     "text": [
      "2024-04-10 18:10:32.962735   training loss 0.0219 time 30.6299s\n"
     ]
    },
    {
     "name": "stdout",
     "output_type": "stream",
     "text": [
      "Epoch_stop: 18\n",
      "2024-04-10 18:10:39.369712   validate loss 0.0221\n",
      "2024-04-10 18:10:39.369745 Epoch 19\n"
     ]
    },
    {
     "name": "stdout",
     "output_type": "stream",
     "text": [
      "2024-04-10 18:11:10.428061   training loss 0.0224 time 31.0583s\n"
     ]
    },
    {
     "name": "stdout",
     "output_type": "stream",
     "text": [
      "Epoch_stop: 19\n",
      "2024-04-10 18:11:16.143920   validate loss 0.0216\n",
      "2024-04-10 18:11:16.143942 Epoch 20\n"
     ]
    },
    {
     "name": "stdout",
     "output_type": "stream",
     "text": [
      "2024-04-10 18:11:45.481926   training loss 0.0212 time 29.3379s\n"
     ]
    },
    {
     "name": "stdout",
     "output_type": "stream",
     "text": [
      "Epoch_stop: 20\n",
      "2024-04-10 18:11:51.695809   validate loss 0.0213\n",
      "2024-04-10 18:11:51.695833 Epoch 21\n"
     ]
    },
    {
     "name": "stdout",
     "output_type": "stream",
     "text": [
      "2024-04-10 18:12:21.320328   training loss 0.0227 time 29.6244s\n"
     ]
    },
    {
     "name": "stdout",
     "output_type": "stream",
     "text": [
      "2024-04-10 18:12:27.283468   validate loss 0.0229\n",
      "2024-04-10 18:12:27.283589 Epoch 22\n"
     ]
    },
    {
     "name": "stdout",
     "output_type": "stream",
     "text": [
      "2024-04-10 18:12:57.664348   training loss 0.022 time 30.3807s\n"
     ]
    },
    {
     "name": "stdout",
     "output_type": "stream",
     "text": [
      "2024-04-10 18:13:03.481646   validate loss 0.0217\n",
      "2024-04-10 18:13:03.481779 Epoch 23\n"
     ]
    },
    {
     "name": "stdout",
     "output_type": "stream",
     "text": [
      "2024-04-10 18:13:33.625552   training loss 0.0226 time 30.1437s\n"
     ]
    },
    {
     "name": "stdout",
     "output_type": "stream",
     "text": [
      "2024-04-10 18:13:39.811543   validate loss 0.0221\n",
      "2024-04-10 18:13:39.811866 Epoch 24\n"
     ]
    },
    {
     "name": "stdout",
     "output_type": "stream",
     "text": [
      "2024-04-10 18:14:10.401283   training loss 0.0224 time 30.5894s\n"
     ]
    },
    {
     "name": "stdout",
     "output_type": "stream",
     "text": [
      "2024-04-10 18:14:16.523182   validate loss 0.0221\n",
      "2024-04-10 18:14:16.523310 Epoch 25\n"
     ]
    },
    {
     "name": "stdout",
     "output_type": "stream",
     "text": [
      "2024-04-10 18:14:46.957086   training loss 0.0222 time 30.4337s\n"
     ]
    },
    {
     "name": "stdout",
     "output_type": "stream",
     "text": [
      "2024-04-10 18:14:52.735119   validate loss 0.0248\n",
      "2024-04-10 18:14:52.735330 Epoch 26\n"
     ]
    },
    {
     "name": "stdout",
     "output_type": "stream",
     "text": [
      "2024-04-10 18:15:23.642422   training loss 0.0225 time 30.907s\n"
     ]
    },
    {
     "name": "stdout",
     "output_type": "stream",
     "text": [
      "2024-04-10 18:15:29.884259   validate loss 0.0216\n",
      "2024-04-10 18:15:29.884571 Epoch 27\n"
     ]
    },
    {
     "name": "stdout",
     "output_type": "stream",
     "text": [
      "2024-04-10 18:15:59.245905   training loss 0.0202 time 29.3613s\n"
     ]
    },
    {
     "name": "stdout",
     "output_type": "stream",
     "text": [
      "Epoch_stop: 27\n",
      "2024-04-10 18:16:05.221469   validate loss 0.0202\n",
      "2024-04-10 18:16:05.221501 Epoch 28\n"
     ]
    },
    {
     "name": "stdout",
     "output_type": "stream",
     "text": [
      "2024-04-10 18:16:35.471254   training loss 0.0242 time 30.2497s\n"
     ]
    },
    {
     "name": "stdout",
     "output_type": "stream",
     "text": [
      "2024-04-10 18:16:41.768273   validate loss 0.0243\n",
      "2024-04-10 18:16:41.768418 Epoch 29\n"
     ]
    },
    {
     "name": "stdout",
     "output_type": "stream",
     "text": [
      "2024-04-10 18:17:12.235539   training loss 0.023 time 30.4671s\n"
     ]
    },
    {
     "name": "stdout",
     "output_type": "stream",
     "text": [
      "2024-04-10 18:17:18.110662   validate loss 0.0221\n",
      "2024-04-10 18:17:18.110783 Epoch 30\n"
     ]
    },
    {
     "name": "stdout",
     "output_type": "stream",
     "text": [
      "2024-04-10 18:17:47.874954   training loss 0.0208 time 29.7641s\n"
     ]
    },
    {
     "name": "stdout",
     "output_type": "stream",
     "text": [
      "2024-04-10 18:17:54.287698   validate loss 0.0208\n",
      "2024-04-10 18:17:54.287937 Epoch 31\n"
     ]
    },
    {
     "name": "stdout",
     "output_type": "stream",
     "text": [
      "2024-04-10 18:18:24.618986   training loss 0.0225 time 30.331s\n"
     ]
    },
    {
     "name": "stdout",
     "output_type": "stream",
     "text": [
      "2024-04-10 18:18:30.590943   validate loss 0.0224\n",
      "2024-04-10 18:18:30.591075 Epoch 32\n"
     ]
    },
    {
     "name": "stdout",
     "output_type": "stream",
     "text": [
      "2024-04-10 18:19:01.437854   training loss 0.0215 time 30.8467s\n"
     ]
    },
    {
     "name": "stdout",
     "output_type": "stream",
     "text": [
      "2024-04-10 18:19:07.330967   validate loss 0.0218\n",
      "2024-04-10 18:19:07.331117 Epoch 33\n"
     ]
    },
    {
     "name": "stdout",
     "output_type": "stream",
     "text": [
      "2024-04-10 18:19:37.671421   training loss 0.0221 time 30.3403s\n"
     ]
    },
    {
     "name": "stdout",
     "output_type": "stream",
     "text": [
      "2024-04-10 18:19:43.766721   validate loss 0.0255\n",
      "2024-04-10 18:19:43.766998 Epoch 34\n"
     ]
    },
    {
     "name": "stdout",
     "output_type": "stream",
     "text": [
      "2024-04-10 18:20:13.649031   training loss 0.0224 time 29.882s\n"
     ]
    },
    {
     "name": "stdout",
     "output_type": "stream",
     "text": [
      "2024-04-10 18:20:19.764337   validate loss 0.0221\n",
      "2024-04-10 18:20:19.764455 Epoch 35\n"
     ]
    },
    {
     "name": "stdout",
     "output_type": "stream",
     "text": [
      "2024-04-10 18:20:50.502870   training loss 0.0211 time 30.7384s\n"
     ]
    },
    {
     "name": "stdout",
     "output_type": "stream",
     "text": [
      "2024-04-10 18:20:56.480886   validate loss 0.0213\n",
      "2024-04-10 18:20:56.481022 Epoch 36\n"
     ]
    },
    {
     "name": "stdout",
     "output_type": "stream",
     "text": [
      "2024-04-10 18:21:26.684357   training loss 0.0204 time 30.2033s\n"
     ]
    },
    {
     "name": "stdout",
     "output_type": "stream",
     "text": [
      "Epoch_stop: 36\n",
      "2024-04-10 18:21:32.846366   validate loss 0.0201\n",
      "2024-04-10 18:21:32.846397 Epoch 37\n"
     ]
    },
    {
     "name": "stdout",
     "output_type": "stream",
     "text": [
      "2024-04-10 18:22:03.156903   training loss 0.0222 time 30.3105s\n"
     ]
    },
    {
     "name": "stdout",
     "output_type": "stream",
     "text": [
      "2024-04-10 18:22:09.264596   validate loss 0.0221\n",
      "2024-04-10 18:22:09.264738 Epoch 38\n"
     ]
    },
    {
     "name": "stdout",
     "output_type": "stream",
     "text": [
      "2024-04-10 18:22:38.504470   training loss 0.0217 time 29.2397s\n"
     ]
    },
    {
     "name": "stdout",
     "output_type": "stream",
     "text": [
      "2024-04-10 18:22:44.477174   validate loss 0.0218\n",
      "2024-04-10 18:22:44.477389 Epoch 39\n"
     ]
    },
    {
     "name": "stdout",
     "output_type": "stream",
     "text": [
      "2024-04-10 18:23:14.384827   training loss 0.0245 time 29.9074s\n"
     ]
    },
    {
     "name": "stdout",
     "output_type": "stream",
     "text": [
      "2024-04-10 18:23:20.521670   validate loss 0.0279\n",
      "2024-04-10 18:23:20.521790 Epoch 40\n"
     ]
    },
    {
     "name": "stdout",
     "output_type": "stream",
     "text": [
      "2024-04-10 18:23:50.163553   training loss 0.0222 time 29.6417s\n"
     ]
    },
    {
     "name": "stdout",
     "output_type": "stream",
     "text": [
      "2024-04-10 18:23:56.192389   validate loss 0.0208\n",
      "2024-04-10 18:23:56.192627 Epoch 41\n"
     ]
    },
    {
     "name": "stdout",
     "output_type": "stream",
     "text": [
      "2024-04-10 18:24:25.504442   training loss 0.0219 time 29.3118s\n"
     ]
    },
    {
     "name": "stdout",
     "output_type": "stream",
     "text": [
      "2024-04-10 18:24:31.638759   validate loss 0.022\n",
      "2024-04-10 18:24:31.638894 Epoch 42\n"
     ]
    },
    {
     "name": "stdout",
     "output_type": "stream",
     "text": [
      "2024-04-10 18:25:02.036156   training loss 0.0223 time 30.3972s\n"
     ]
    },
    {
     "name": "stdout",
     "output_type": "stream",
     "text": [
      "2024-04-10 18:25:08.305218   validate loss 0.0215\n",
      "2024-04-10 18:25:08.305502 Epoch 43\n"
     ]
    },
    {
     "name": "stdout",
     "output_type": "stream",
     "text": [
      "2024-04-10 18:25:38.436228   training loss 0.0221 time 30.1307s\n"
     ]
    },
    {
     "name": "stdout",
     "output_type": "stream",
     "text": [
      "2024-04-10 18:25:44.553516   validate loss 0.022\n",
      "2024-04-10 18:25:44.553832 Epoch 44\n"
     ]
    },
    {
     "name": "stdout",
     "output_type": "stream",
     "text": [
      "2024-04-10 18:26:14.810247   training loss 0.0221 time 30.2564s\n"
     ]
    },
    {
     "name": "stdout",
     "output_type": "stream",
     "text": [
      "2024-04-10 18:26:20.816801   validate loss 0.0217\n",
      "2024-04-10 18:26:20.817068 Epoch 45\n"
     ]
    },
    {
     "name": "stdout",
     "output_type": "stream",
     "text": [
      "2024-04-10 18:26:51.415022   training loss 0.0213 time 30.5979s\n"
     ]
    },
    {
     "name": "stdout",
     "output_type": "stream",
     "text": [
      "2024-04-10 18:26:57.790628   validate loss 0.0215\n",
      "2024-04-10 18:26:57.790937 Epoch 46\n"
     ]
    },
    {
     "name": "stdout",
     "output_type": "stream",
     "text": [
      "2024-04-10 18:27:28.095350   training loss 0.021 time 30.3044s\n"
     ]
    },
    {
     "name": "stdout",
     "output_type": "stream",
     "text": [
      "2024-04-10 18:27:34.248113   validate loss 0.0215\n",
      "2024-04-10 18:27:34.248420 Epoch 47\n"
     ]
    },
    {
     "name": "stdout",
     "output_type": "stream",
     "text": [
      "2024-04-10 18:28:04.638943   training loss 0.0211 time 30.3905s\n"
     ]
    },
    {
     "name": "stdout",
     "output_type": "stream",
     "text": [
      "2024-04-10 18:28:10.535269   validate loss 0.0212\n",
      "2024-04-10 18:28:10.535553 Epoch 48\n"
     ]
    },
    {
     "name": "stdout",
     "output_type": "stream",
     "text": [
      "2024-04-10 18:28:41.008683   training loss 0.0213 time 30.4731s\n"
     ]
    },
    {
     "name": "stdout",
     "output_type": "stream",
     "text": [
      "2024-04-10 18:28:47.171600   validate loss 0.0227\n",
      "2024-04-10 18:28:47.171726 Epoch 49\n"
     ]
    },
    {
     "name": "stdout",
     "output_type": "stream",
     "text": [
      "2024-04-10 18:29:17.900720   training loss 0.0283 time 30.7289s\n"
     ]
    },
    {
     "name": "stdout",
     "output_type": "stream",
     "text": [
      "2024-04-10 18:29:24.107486   validate loss 0.0294\n",
      "2024-04-10 18:29:24.107620 Epoch 50\n"
     ]
    },
    {
     "name": "stdout",
     "output_type": "stream",
     "text": [
      "2024-04-10 18:29:54.711664   training loss 0.0269 time 30.604s\n"
     ]
    },
    {
     "name": "stdout",
     "output_type": "stream",
     "text": [
      "2024-04-10 18:30:01.035454   validate loss 0.0266\n",
      "2024-04-10 18:30:01.035749 Epoch 51\n"
     ]
    },
    {
     "name": "stdout",
     "output_type": "stream",
     "text": [
      "2024-04-10 18:30:30.911833   training loss 0.0255 time 29.876s\n"
     ]
    },
    {
     "name": "stdout",
     "output_type": "stream",
     "text": [
      "2024-04-10 18:30:37.288547   validate loss 0.0255\n",
      "2024-04-10 18:30:37.288777 Epoch 52\n"
     ]
    },
    {
     "name": "stdout",
     "output_type": "stream",
     "text": [
      "2024-04-10 18:31:07.716082   training loss 0.0247 time 30.4272s\n"
     ]
    },
    {
     "name": "stdout",
     "output_type": "stream",
     "text": [
      "2024-04-10 18:31:13.774299   validate loss 0.0249\n",
      "2024-04-10 18:31:13.774429 Epoch 53\n"
     ]
    },
    {
     "name": "stdout",
     "output_type": "stream",
     "text": [
      "2024-04-10 18:31:43.155663   training loss 0.0243 time 29.3812s\n"
     ]
    },
    {
     "name": "stdout",
     "output_type": "stream",
     "text": [
      "2024-04-10 18:31:49.662602   validate loss 0.0244\n",
      "2024-04-10 18:31:49.662889 Epoch 54\n"
     ]
    },
    {
     "name": "stdout",
     "output_type": "stream",
     "text": [
      "2024-04-10 18:32:20.581758   training loss 0.0231 time 30.9188s\n"
     ]
    },
    {
     "name": "stdout",
     "output_type": "stream",
     "text": [
      "2024-04-10 18:32:27.039208   validate loss 0.0231\n",
      "2024-04-10 18:32:27.039510 Epoch 55\n"
     ]
    },
    {
     "name": "stdout",
     "output_type": "stream",
     "text": [
      "2024-04-10 18:32:56.373594   training loss 0.0225 time 29.334s\n"
     ]
    },
    {
     "name": "stdout",
     "output_type": "stream",
     "text": [
      "2024-04-10 18:33:02.242019   validate loss 0.0228\n",
      "2024-04-10 18:33:02.242152 Epoch 56\n"
     ]
    },
    {
     "name": "stdout",
     "output_type": "stream",
     "text": [
      "2024-04-10 18:33:33.073293   training loss 0.0222 time 30.8311s\n"
     ]
    },
    {
     "name": "stdout",
     "output_type": "stream",
     "text": [
      "2024-04-10 18:33:39.306312   validate loss 0.0225\n",
      "2024-04-10 18:33:39.306440 Epoch 57\n"
     ]
    },
    {
     "name": "stdout",
     "output_type": "stream",
     "text": [
      "2024-04-10 18:34:08.756922   training loss 0.0224 time 29.4504s\n"
     ]
    },
    {
     "name": "stdout",
     "output_type": "stream",
     "text": [
      "2024-04-10 18:34:14.598873   validate loss 0.0232\n",
      "2024-04-10 18:34:14.599175 Epoch 58\n"
     ]
    },
    {
     "name": "stdout",
     "output_type": "stream",
     "text": [
      "2024-04-10 18:34:45.549089   training loss 0.0224 time 30.9499s\n"
     ]
    },
    {
     "name": "stdout",
     "output_type": "stream",
     "text": [
      "2024-04-10 18:34:51.887496   validate loss 0.0222\n",
      "2024-04-10 18:34:51.887769 Epoch 59\n"
     ]
    },
    {
     "name": "stdout",
     "output_type": "stream",
     "text": [
      "2024-04-10 18:35:21.967225   training loss 0.0218 time 30.0794s\n"
     ]
    },
    {
     "name": "stdout",
     "output_type": "stream",
     "text": [
      "2024-04-10 18:35:27.825839   validate loss 0.022\n",
      "2024-04-10 18:35:27.826102 Epoch 60\n"
     ]
    },
    {
     "name": "stdout",
     "output_type": "stream",
     "text": [
      "2024-04-10 18:35:58.594417   training loss 0.0217 time 30.7683s\n"
     ]
    },
    {
     "name": "stdout",
     "output_type": "stream",
     "text": [
      "2024-04-10 18:36:04.893021   validate loss 0.0219\n",
      "2024-04-10 18:36:04.893257 Epoch 61\n"
     ]
    },
    {
     "name": "stdout",
     "output_type": "stream",
     "text": [
      "2024-04-10 18:36:35.226029   training loss 0.0216 time 30.3327s\n"
     ]
    },
    {
     "name": "stdout",
     "output_type": "stream",
     "text": [
      "2024-04-10 18:36:41.381954   validate loss 0.0218\n",
      "2024-04-10 18:36:41.382068 Epoch 62\n"
     ]
    },
    {
     "name": "stdout",
     "output_type": "stream",
     "text": [
      "2024-04-10 18:37:11.471708   training loss 0.022 time 30.0896s\n"
     ]
    },
    {
     "name": "stdout",
     "output_type": "stream",
     "text": [
      "2024-04-10 18:37:17.716227   validate loss 0.0218\n",
      "2024-04-10 18:37:17.716895 Epoch 63\n"
     ]
    },
    {
     "name": "stdout",
     "output_type": "stream",
     "text": [
      "2024-04-10 18:37:48.859236   training loss 0.0217 time 31.1423s\n"
     ]
    },
    {
     "name": "stdout",
     "output_type": "stream",
     "text": [
      "2024-04-10 18:37:54.472264   validate loss 0.0234\n",
      "2024-04-10 18:37:54.472413 Epoch 64\n"
     ]
    },
    {
     "name": "stdout",
     "output_type": "stream",
     "text": [
      "2024-04-10 18:38:25.340285   training loss 0.022 time 30.8676s\n"
     ]
    },
    {
     "name": "stdout",
     "output_type": "stream",
     "text": [
      "2024-04-10 18:38:31.853492   validate loss 0.0222\n",
      "2024-04-10 18:38:31.853773 Epoch 65\n"
     ]
    },
    {
     "name": "stdout",
     "output_type": "stream",
     "text": [
      "2024-04-10 18:39:03.007633   training loss 0.0213 time 31.1538s\n"
     ]
    },
    {
     "name": "stdout",
     "output_type": "stream",
     "text": [
      "2024-04-10 18:39:09.023848   validate loss 0.0206\n",
      "2024-04-10 18:39:09.024103 Epoch 66\n"
     ]
    },
    {
     "name": "stdout",
     "output_type": "stream",
     "text": [
      "2024-04-10 18:39:39.393683   training loss 0.021 time 30.3695s\n"
     ]
    },
    {
     "name": "stdout",
     "output_type": "stream",
     "text": [
      "2024-04-10 18:39:45.383205   validate loss 0.0211\n",
      "2024-04-10 18:39:45.383445 Epoch 67\n"
     ]
    },
    {
     "name": "stdout",
     "output_type": "stream",
     "text": [
      "2024-04-10 18:40:15.968786   training loss 0.0207 time 30.5853s\n"
     ]
    },
    {
     "name": "stdout",
     "output_type": "stream",
     "text": [
      "2024-04-10 18:40:22.414269   validate loss 0.0208\n",
      "2024-04-10 18:40:22.414544 Epoch 68\n"
     ]
    },
    {
     "name": "stdout",
     "output_type": "stream",
     "text": [
      "2024-04-10 18:40:52.966209   training loss 0.0245 time 30.5516s\n"
     ]
    },
    {
     "name": "stdout",
     "output_type": "stream",
     "text": [
      "2024-04-10 18:40:59.021970   validate loss 0.022\n",
      "2024-04-10 18:40:59.022250 Epoch 69\n"
     ]
    },
    {
     "name": "stdout",
     "output_type": "stream",
     "text": [
      "2024-04-10 18:41:28.816452   training loss 0.0204 time 29.7942s\n"
     ]
    },
    {
     "name": "stdout",
     "output_type": "stream",
     "text": [
      "2024-04-10 18:41:35.146098   validate loss 0.0205\n",
      "2024-04-10 18:41:35.146317 Epoch 70\n"
     ]
    },
    {
     "name": "stdout",
     "output_type": "stream",
     "text": [
      "2024-04-10 18:42:05.672927   training loss 0.0211 time 30.5266s\n"
     ]
    },
    {
     "name": "stdout",
     "output_type": "stream",
     "text": [
      "2024-04-10 18:42:11.995655   validate loss 0.0275\n",
      "2024-04-10 18:42:11.995932 Epoch 71\n"
     ]
    },
    {
     "name": "stdout",
     "output_type": "stream",
     "text": [
      "2024-04-10 18:42:42.541551   training loss 0.0247 time 30.5456s\n"
     ]
    },
    {
     "name": "stdout",
     "output_type": "stream",
     "text": [
      "2024-04-10 18:42:48.777450   validate loss 0.0244\n",
      "2024-04-10 18:42:48.777709 Epoch 72\n"
     ]
    },
    {
     "name": "stdout",
     "output_type": "stream",
     "text": [
      "2024-04-10 18:43:18.451626   training loss 0.0239 time 29.6739s\n"
     ]
    },
    {
     "name": "stdout",
     "output_type": "stream",
     "text": [
      "2024-04-10 18:43:24.623485   validate loss 0.0238\n",
      "2024-04-10 18:43:24.623614 Epoch 73\n"
     ]
    },
    {
     "name": "stdout",
     "output_type": "stream",
     "text": [
      "2024-04-10 18:43:55.328421   training loss 0.0236 time 30.7048s\n"
     ]
    },
    {
     "name": "stdout",
     "output_type": "stream",
     "text": [
      "2024-04-10 18:44:01.840430   validate loss 0.023\n",
      "2024-04-10 18:44:01.840705 Epoch 74\n"
     ]
    },
    {
     "name": "stdout",
     "output_type": "stream",
     "text": [
      "2024-04-10 18:44:32.163343   training loss 0.0224 time 30.3226s\n"
     ]
    },
    {
     "name": "stdout",
     "output_type": "stream",
     "text": [
      "2024-04-10 18:44:38.559650   validate loss 0.0227\n",
      "2024-04-10 18:44:38.559921 Epoch 75\n"
     ]
    },
    {
     "name": "stdout",
     "output_type": "stream",
     "text": [
      "2024-04-10 18:45:08.440092   training loss 0.0222 time 29.8801s\n"
     ]
    },
    {
     "name": "stdout",
     "output_type": "stream",
     "text": [
      "2024-04-10 18:45:14.701851   validate loss 0.0224\n",
      "2024-04-10 18:45:14.701966 Epoch 76\n"
     ]
    },
    {
     "name": "stdout",
     "output_type": "stream",
     "text": [
      "2024-04-10 18:45:43.583711   training loss 0.022 time 28.8817s\n"
     ]
    },
    {
     "name": "stdout",
     "output_type": "stream",
     "text": [
      "2024-04-10 18:45:49.390273   validate loss 0.0226\n",
      "2024-04-10 18:45:49.390454 Epoch 77\n"
     ]
    },
    {
     "name": "stdout",
     "output_type": "stream",
     "text": [
      "2024-04-10 18:46:19.257186   training loss 0.0223 time 29.8667s\n"
     ]
    },
    {
     "name": "stdout",
     "output_type": "stream",
     "text": [
      "2024-04-10 18:46:25.352993   validate loss 0.0241\n",
      "2024-04-10 18:46:25.353309 Epoch 78\n"
     ]
    },
    {
     "name": "stdout",
     "output_type": "stream",
     "text": [
      "2024-04-10 18:46:56.103907   training loss 0.0229 time 30.7506s\n"
     ]
    },
    {
     "name": "stdout",
     "output_type": "stream",
     "text": [
      "2024-04-10 18:47:02.701120   validate loss 0.0232\n",
      "2024-04-10 18:47:02.701372 Epoch 79\n"
     ]
    },
    {
     "name": "stdout",
     "output_type": "stream",
     "text": [
      "2024-04-10 18:47:33.250447   training loss 0.0219 time 30.549s\n"
     ]
    },
    {
     "name": "stdout",
     "output_type": "stream",
     "text": [
      "2024-04-10 18:47:39.566260   validate loss 0.022\n",
      "2024-04-10 18:47:39.566536 Epoch 80\n"
     ]
    },
    {
     "name": "stdout",
     "output_type": "stream",
     "text": [
      "2024-04-10 18:48:09.732735   training loss 0.0218 time 30.1662s\n"
     ]
    },
    {
     "name": "stdout",
     "output_type": "stream",
     "text": [
      "2024-04-10 18:48:15.856731   validate loss 0.0247\n",
      "2024-04-10 18:48:15.856854 Epoch 81\n"
     ]
    },
    {
     "name": "stdout",
     "output_type": "stream",
     "text": [
      "2024-04-10 18:48:46.126566   training loss 0.023 time 30.2697s\n"
     ]
    },
    {
     "name": "stdout",
     "output_type": "stream",
     "text": [
      "2024-04-10 18:48:52.167994   validate loss 0.023\n",
      "2024-04-10 18:48:52.168251 Epoch 82\n"
     ]
    },
    {
     "name": "stdout",
     "output_type": "stream",
     "text": [
      "2024-04-10 18:49:22.319393   training loss 0.0226 time 30.1511s\n"
     ]
    },
    {
     "name": "stdout",
     "output_type": "stream",
     "text": [
      "2024-04-10 18:49:28.222166   validate loss 0.0226\n",
      "2024-04-10 18:49:28.222456 Epoch 83\n"
     ]
    },
    {
     "name": "stdout",
     "output_type": "stream",
     "text": [
      "2024-04-10 18:49:59.062526   training loss 0.0224 time 30.84s\n"
     ]
    },
    {
     "name": "stdout",
     "output_type": "stream",
     "text": [
      "2024-04-10 18:50:05.446266   validate loss 0.024\n",
      "2024-04-10 18:50:05.446468 Epoch 84\n"
     ]
    },
    {
     "name": "stdout",
     "output_type": "stream",
     "text": [
      "2024-04-10 18:50:35.137908   training loss 0.0225 time 29.6914s\n"
     ]
    },
    {
     "name": "stdout",
     "output_type": "stream",
     "text": [
      "2024-04-10 18:50:41.335808   validate loss 0.022\n",
      "2024-04-10 18:50:41.335946 Epoch 85\n"
     ]
    },
    {
     "name": "stdout",
     "output_type": "stream",
     "text": [
      "2024-04-10 18:51:11.982362   training loss 0.0215 time 30.6464s\n"
     ]
    },
    {
     "name": "stdout",
     "output_type": "stream",
     "text": [
      "2024-04-10 18:51:18.425403   validate loss 0.0215\n",
      "2024-04-10 18:51:18.425672 Epoch 86\n"
     ]
    },
    {
     "name": "stdout",
     "output_type": "stream",
     "text": [
      "2024-04-10 18:51:48.645298   training loss 0.0218 time 30.2196s\n"
     ]
    },
    {
     "name": "stdout",
     "output_type": "stream",
     "text": [
      "2024-04-10 18:51:54.637129   validate loss 0.0218\n",
      "2024-04-10 18:51:54.637372 Epoch 87\n"
     ]
    },
    {
     "name": "stdout",
     "output_type": "stream",
     "text": [
      "2024-04-10 18:52:23.767103   training loss 0.0211 time 29.1297s\n"
     ]
    },
    {
     "name": "stdout",
     "output_type": "stream",
     "text": [
      "2024-04-10 18:52:29.794248   validate loss 0.0214\n",
      "2024-04-10 18:52:29.794393 Epoch 88\n"
     ]
    },
    {
     "name": "stdout",
     "output_type": "stream",
     "text": [
      "2024-04-10 18:53:00.870392   training loss 0.0209 time 31.076s\n"
     ]
    },
    {
     "name": "stdout",
     "output_type": "stream",
     "text": [
      "2024-04-10 18:53:07.029856   validate loss 0.0209\n",
      "2024-04-10 18:53:07.030128 Epoch 89\n"
     ]
    },
    {
     "name": "stdout",
     "output_type": "stream",
     "text": [
      "2024-04-10 18:53:36.808198   training loss 0.0206 time 29.778s\n"
     ]
    },
    {
     "name": "stdout",
     "output_type": "stream",
     "text": [
      "2024-04-10 18:53:42.952861   validate loss 0.021\n",
      "2024-04-10 18:53:42.953121 Epoch 90\n"
     ]
    },
    {
     "name": "stdout",
     "output_type": "stream",
     "text": [
      "2024-04-10 18:54:13.426253   training loss 0.0208 time 30.4731s\n"
     ]
    },
    {
     "name": "stdout",
     "output_type": "stream",
     "text": [
      "2024-04-10 18:54:19.548447   validate loss 0.0211\n",
      "2024-04-10 18:54:19.548691 Epoch 91\n"
     ]
    },
    {
     "name": "stdout",
     "output_type": "stream",
     "text": [
      "2024-04-10 18:54:50.310122   training loss 0.0214 time 30.7614s\n"
     ]
    },
    {
     "name": "stdout",
     "output_type": "stream",
     "text": [
      "2024-04-10 18:54:56.256087   validate loss 0.0224\n",
      "2024-04-10 18:54:56.256212 Epoch 92\n"
     ]
    },
    {
     "name": "stdout",
     "output_type": "stream",
     "text": [
      "2024-04-10 18:55:25.870711   training loss 0.0209 time 29.6144s\n"
     ]
    },
    {
     "name": "stdout",
     "output_type": "stream",
     "text": [
      "2024-04-10 18:55:32.231906   validate loss 0.0209\n",
      "2024-04-10 18:55:32.232154 Epoch 93\n"
     ]
    },
    {
     "name": "stdout",
     "output_type": "stream",
     "text": [
      "2024-04-10 18:56:02.677339   training loss 0.0213 time 30.4451s\n"
     ]
    },
    {
     "name": "stdout",
     "output_type": "stream",
     "text": [
      "2024-04-10 18:56:08.449618   validate loss 0.0217\n",
      "2024-04-10 18:56:08.449766 Epoch 94\n"
     ]
    },
    {
     "name": "stdout",
     "output_type": "stream",
     "text": [
      "2024-04-10 18:56:38.800469   training loss 0.0208 time 30.3507s\n"
     ]
    },
    {
     "name": "stdout",
     "output_type": "stream",
     "text": [
      "2024-04-10 18:56:45.158127   validate loss 0.0218\n",
      "2024-04-10 18:56:45.158357 Epoch 95\n"
     ]
    },
    {
     "name": "stdout",
     "output_type": "stream",
     "text": [
      "2024-04-10 18:57:14.932752   training loss 0.0212 time 29.7743s\n"
     ]
    },
    {
     "name": "stdout",
     "output_type": "stream",
     "text": [
      "2024-04-10 18:57:21.203987   validate loss 0.0221\n",
      "2024-04-10 18:57:21.204291 Epoch 96\n"
     ]
    },
    {
     "name": "stdout",
     "output_type": "stream",
     "text": [
      "2024-04-10 18:57:51.282610   training loss 0.0256 time 30.0783s\n"
     ]
    },
    {
     "name": "stdout",
     "output_type": "stream",
     "text": [
      "2024-04-10 18:57:57.598102   validate loss 0.0243\n",
      "2024-04-10 18:57:57.598363 Epoch 97\n"
     ]
    },
    {
     "name": "stdout",
     "output_type": "stream",
     "text": [
      "2024-04-10 18:58:28.347220   training loss 0.0235 time 30.7488s\n"
     ]
    },
    {
     "name": "stdout",
     "output_type": "stream",
     "text": [
      "2024-04-10 18:58:34.724928   validate loss 0.024\n",
      "2024-04-10 18:58:34.725176 Epoch 98\n"
     ]
    },
    {
     "name": "stdout",
     "output_type": "stream",
     "text": [
      "2024-04-10 18:59:05.012326   training loss 0.0228 time 30.2871s\n"
     ]
    },
    {
     "name": "stdout",
     "output_type": "stream",
     "text": [
      "2024-04-10 18:59:11.074951   validate loss 0.0227\n",
      "2024-04-10 18:59:11.075208 Epoch 99\n"
     ]
    },
    {
     "name": "stdout",
     "output_type": "stream",
     "text": [
      "2024-04-10 18:59:41.017378   training loss 0.0222 time 29.9421s\n"
     ]
    },
    {
     "name": "stdout",
     "output_type": "stream",
     "text": [
      "2024-04-10 18:59:47.483008   validate loss 0.0228\n"
     ]
    }
   ],
   "source": [
    "estim.fit_gen(train_batcher, n_batches=n_train_batches, n_epochs=100,\n",
    "              valid_generator=valid_batcher, n_valid_batches=n_valid_batches, verbose=0)"
   ]
  },
  {
   "cell_type": "code",
   "execution_count": 15,
   "id": "37aee8a5-90c3-4a5a-97d4-abcae1805e9f",
   "metadata": {
    "execution": {
     "iopub.execute_input": "2024-04-10T18:59:47.521478Z",
     "iopub.status.busy": "2024-04-10T18:59:47.520798Z",
     "iopub.status.idle": "2024-04-10T18:59:47.685769Z",
     "shell.execute_reply": "2024-04-10T18:59:47.685106Z"
    },
    "papermill": {
     "duration": 0.18131,
     "end_time": "2024-04-10T18:59:47.686740",
     "exception": false,
     "start_time": "2024-04-10T18:59:47.505430",
     "status": "completed"
    },
    "tags": []
   },
   "outputs": [
    {
     "data": {
      "image/png": "[encoded data removed]",
      "text/plain": [
       "<Figure size 640x480 with 1 Axes>"
      ]
     },
     "metadata": {},
     "output_type": "display_data"
    }
   ],
   "source": [
    "# Plot the loss\n",
    "plt.figure()\n",
    "plt.plot(estim.train_losses, label='training set')\n",
    "plt.plot(estim.valid_losses, label='validation set')\n",
    "plt.xlabel('Epoch')\n",
    "plt.ylabel('Loss')\n",
    "plt.legend(loc=0);"
   ]
  },
  {
   "cell_type": "code",
   "execution_count": 16,
   "id": "16f3b409-a216-4d55-a8c6-a09827b62920",
   "metadata": {
    "execution": {
     "iopub.execute_input": "2024-04-10T18:59:47.718076Z",
     "iopub.status.busy": "2024-04-10T18:59:47.717910Z",
     "iopub.status.idle": "2024-04-10T18:59:47.721655Z",
     "shell.execute_reply": "2024-04-10T18:59:47.721184Z"
    },
    "papermill": {
     "duration": 0.020339,
     "end_time": "2024-04-10T18:59:47.722551",
     "exception": false,
     "start_time": "2024-04-10T18:59:47.702212",
     "status": "completed"
    },
    "tags": []
   },
   "outputs": [
    {
     "data": {
      "text/plain": [
       "138000"
      ]
     },
     "execution_count": 16,
     "metadata": {},
     "output_type": "execute_result"
    }
   ],
   "source": [
    "len(test_graphs)"
   ]
  },
  {
   "cell_type": "markdown",
   "id": "0550de44",
   "metadata": {
    "tags": [
     "papermill-error-cell-tag"
    ]
   },
   "source": [
    "<span id=\"papermill-error-cell\" style=\"color:red; font-family:Helvetica Neue, Helvetica, Arial, sans-serif; font-size:2em;\">Execution using papermill encountered an exception here and stopped:</span>"
   ]
  },
  {
   "cell_type": "code",
   "execution_count": 17,
   "id": "a2db7be8-b0e6-4b02-b7e6-8d0f6f4ee714",
   "metadata": {
    "execution": {
     "iopub.execute_input": "2024-04-10T18:59:47.753143Z",
     "iopub.status.busy": "2024-04-10T18:59:47.752585Z",
     "iopub.status.idle": "2024-04-10T19:08:12.799631Z",
     "shell.execute_reply": "2024-04-10T19:08:12.798664Z"
    },
    "papermill": {
     "duration": 505.099593,
     "end_time": "2024-04-10T19:08:12.836927",
     "exception": true,
     "start_time": "2024-04-10T18:59:47.737334",
     "status": "failed"
    },
    "tags": []
   },
   "outputs": [
    {
     "ename": "OutOfMemoryError",
     "evalue": "CUDA out of memory. Tried to allocate 2.00 MiB. GPU 0 has a total capacity of 39.38 GiB of which 2.25 MiB is free. Process 30267 has 664.00 MiB memory in use. Process 49283 has 19.27 GiB memory in use. Including non-PyTorch memory, this process has 19.44 GiB memory in use. Of the allocated memory 18.88 GiB is allocated by PyTorch, and 64.44 MiB is reserved by PyTorch but unallocated. If reserved but unallocated memory is large try setting PYTORCH_CUDA_ALLOC_CONF=expandable_segments:True to avoid fragmentation.  See documentation for Memory Management  (https://pytorch.org/docs/stable/notes/cuda.html#environment-variables)",
     "output_type": "error",
     "traceback": [
      "\u001b[0;31m---------------------------------------------------------------------------\u001b[0m",
      "\u001b[0;31mOutOfMemoryError\u001b[0m                          Traceback (most recent call last)",
      "Cell \u001b[0;32mIn[17], line 2\u001b[0m\n\u001b[1;32m      1\u001b[0m test_batcher \u001b[38;5;241m=\u001b[39m batch_generator(test_graphs, n_samples\u001b[38;5;241m=\u001b[39mn_test, batch_size\u001b[38;5;241m=\u001b[39m\u001b[38;5;241m1\u001b[39m, train\u001b[38;5;241m=\u001b[39m\u001b[38;5;28;01mFalse\u001b[39;00m)\n\u001b[0;32m----> 2\u001b[0m test_outputs \u001b[38;5;241m=\u001b[39m \u001b[43mestim\u001b[49m\u001b[38;5;241;43m.\u001b[39;49m\u001b[43mpredict\u001b[49m\u001b[43m(\u001b[49m\u001b[43mtest_batcher\u001b[49m\u001b[43m,\u001b[49m\u001b[38;5;124;43m'\u001b[39;49m\u001b[38;5;124;43mbest_model_IN.pkl\u001b[39;49m\u001b[38;5;124;43m'\u001b[39;49m\u001b[43m,\u001b[49m\u001b[43m \u001b[49m\u001b[43mn_test_batches\u001b[49m\u001b[43m,\u001b[49m\u001b[43m \u001b[49m\u001b[43mconcat\u001b[49m\u001b[38;5;241;43m=\u001b[39;49m\u001b[38;5;28;43;01mFalse\u001b[39;49;00m\u001b[43m)\u001b[49m\n\u001b[1;32m      3\u001b[0m test_preds \u001b[38;5;241m=\u001b[39m [torch_to_np(o) \u001b[38;5;28;01mfor\u001b[39;00m o \u001b[38;5;129;01min\u001b[39;00m test_outputs]\n\u001b[1;32m      5\u001b[0m \u001b[38;5;66;03m# Flatten the predictions and labels\u001b[39;00m\n",
      "File \u001b[0;32m~/TB_Sept_2023_ml/Code/IN/estimator.py:97\u001b[0m, in \u001b[0;36mEstimator.predict\u001b[0;34m(self, generator, model_name, n_batches, concat)\u001b[0m\n\u001b[1;32m     95\u001b[0m \u001b[38;5;28;01mfor\u001b[39;00m j \u001b[38;5;129;01min\u001b[39;00m \u001b[38;5;28mrange\u001b[39m(n_batches):\n\u001b[1;32m     96\u001b[0m     test_input, test_target \u001b[38;5;241m=\u001b[39m \u001b[38;5;28mnext\u001b[39m(generator)\n\u001b[0;32m---> 97\u001b[0m     outputs\u001b[38;5;241m.\u001b[39mappend(\u001b[38;5;28;43mself\u001b[39;49m\u001b[38;5;241;43m.\u001b[39;49m\u001b[43mmodel\u001b[49m\u001b[43m(\u001b[49m\u001b[43mtest_input\u001b[49m\u001b[43m)\u001b[49m)\n\u001b[1;32m     98\u001b[0m \u001b[38;5;28;01mif\u001b[39;00m concat:\n\u001b[1;32m     99\u001b[0m     outputs \u001b[38;5;241m=\u001b[39m torch\u001b[38;5;241m.\u001b[39mcat(outputs)\n",
      "File \u001b[0;32m~/.local/lib/python3.11/site-packages/torch/nn/modules/module.py:1511\u001b[0m, in \u001b[0;36mModule._wrapped_call_impl\u001b[0;34m(self, *args, **kwargs)\u001b[0m\n\u001b[1;32m   1509\u001b[0m     \u001b[38;5;28;01mreturn\u001b[39;00m \u001b[38;5;28mself\u001b[39m\u001b[38;5;241m.\u001b[39m_compiled_call_impl(\u001b[38;5;241m*\u001b[39margs, \u001b[38;5;241m*\u001b[39m\u001b[38;5;241m*\u001b[39mkwargs)  \u001b[38;5;66;03m# type: ignore[misc]\u001b[39;00m\n\u001b[1;32m   1510\u001b[0m \u001b[38;5;28;01melse\u001b[39;00m:\n\u001b[0;32m-> 1511\u001b[0m     \u001b[38;5;28;01mreturn\u001b[39;00m \u001b[38;5;28;43mself\u001b[39;49m\u001b[38;5;241;43m.\u001b[39;49m\u001b[43m_call_impl\u001b[49m\u001b[43m(\u001b[49m\u001b[38;5;241;43m*\u001b[39;49m\u001b[43margs\u001b[49m\u001b[43m,\u001b[49m\u001b[43m \u001b[49m\u001b[38;5;241;43m*\u001b[39;49m\u001b[38;5;241;43m*\u001b[39;49m\u001b[43mkwargs\u001b[49m\u001b[43m)\u001b[49m\n",
      "File \u001b[0;32m~/.local/lib/python3.11/site-packages/torch/nn/modules/module.py:1520\u001b[0m, in \u001b[0;36mModule._call_impl\u001b[0;34m(self, *args, **kwargs)\u001b[0m\n\u001b[1;32m   1515\u001b[0m \u001b[38;5;66;03m# If we don't have any hooks, we want to skip the rest of the logic in\u001b[39;00m\n\u001b[1;32m   1516\u001b[0m \u001b[38;5;66;03m# this function, and just call forward.\u001b[39;00m\n\u001b[1;32m   1517\u001b[0m \u001b[38;5;28;01mif\u001b[39;00m \u001b[38;5;129;01mnot\u001b[39;00m (\u001b[38;5;28mself\u001b[39m\u001b[38;5;241m.\u001b[39m_backward_hooks \u001b[38;5;129;01mor\u001b[39;00m \u001b[38;5;28mself\u001b[39m\u001b[38;5;241m.\u001b[39m_backward_pre_hooks \u001b[38;5;129;01mor\u001b[39;00m \u001b[38;5;28mself\u001b[39m\u001b[38;5;241m.\u001b[39m_forward_hooks \u001b[38;5;129;01mor\u001b[39;00m \u001b[38;5;28mself\u001b[39m\u001b[38;5;241m.\u001b[39m_forward_pre_hooks\n\u001b[1;32m   1518\u001b[0m         \u001b[38;5;129;01mor\u001b[39;00m _global_backward_pre_hooks \u001b[38;5;129;01mor\u001b[39;00m _global_backward_hooks\n\u001b[1;32m   1519\u001b[0m         \u001b[38;5;129;01mor\u001b[39;00m _global_forward_hooks \u001b[38;5;129;01mor\u001b[39;00m _global_forward_pre_hooks):\n\u001b[0;32m-> 1520\u001b[0m     \u001b[38;5;28;01mreturn\u001b[39;00m \u001b[43mforward_call\u001b[49m\u001b[43m(\u001b[49m\u001b[38;5;241;43m*\u001b[39;49m\u001b[43margs\u001b[49m\u001b[43m,\u001b[49m\u001b[43m \u001b[49m\u001b[38;5;241;43m*\u001b[39;49m\u001b[38;5;241;43m*\u001b[39;49m\u001b[43mkwargs\u001b[49m\u001b[43m)\u001b[49m\n\u001b[1;32m   1522\u001b[0m \u001b[38;5;28;01mtry\u001b[39;00m:\n\u001b[1;32m   1523\u001b[0m     result \u001b[38;5;241m=\u001b[39m \u001b[38;5;28;01mNone\u001b[39;00m\n",
      "File \u001b[0;32m~/TB_Sept_2023_ml/Code/IN/model.py:83\u001b[0m, in \u001b[0;36mSegmentClassifier.forward\u001b[0;34m(self, inputs)\u001b[0m\n\u001b[1;32m     81\u001b[0m e \u001b[38;5;241m=\u001b[39m \u001b[38;5;28mself\u001b[39m\u001b[38;5;241m.\u001b[39medge_network(H, Ri, Ro)\n\u001b[1;32m     82\u001b[0m \u001b[38;5;66;03m# Apply node network\u001b[39;00m\n\u001b[0;32m---> 83\u001b[0m H \u001b[38;5;241m=\u001b[39m \u001b[38;5;28;43mself\u001b[39;49m\u001b[38;5;241;43m.\u001b[39;49m\u001b[43mnode_network\u001b[49m\u001b[43m(\u001b[49m\u001b[43mH\u001b[49m\u001b[43m,\u001b[49m\u001b[43m \u001b[49m\u001b[43me\u001b[49m\u001b[43m,\u001b[49m\u001b[43m \u001b[49m\u001b[43mRi\u001b[49m\u001b[43m,\u001b[49m\u001b[43m \u001b[49m\u001b[43mRo\u001b[49m\u001b[43m)\u001b[49m\n\u001b[1;32m     84\u001b[0m \u001b[38;5;66;03m# Shortcut connect the inputs onto the hidden representation\u001b[39;00m\n\u001b[1;32m     85\u001b[0m H \u001b[38;5;241m=\u001b[39m torch\u001b[38;5;241m.\u001b[39mcat([H, X], dim\u001b[38;5;241m=\u001b[39m\u001b[38;5;241m-\u001b[39m\u001b[38;5;241m1\u001b[39m)\n",
      "File \u001b[0;32m~/.local/lib/python3.11/site-packages/torch/nn/modules/module.py:1511\u001b[0m, in \u001b[0;36mModule._wrapped_call_impl\u001b[0;34m(self, *args, **kwargs)\u001b[0m\n\u001b[1;32m   1509\u001b[0m     \u001b[38;5;28;01mreturn\u001b[39;00m \u001b[38;5;28mself\u001b[39m\u001b[38;5;241m.\u001b[39m_compiled_call_impl(\u001b[38;5;241m*\u001b[39margs, \u001b[38;5;241m*\u001b[39m\u001b[38;5;241m*\u001b[39mkwargs)  \u001b[38;5;66;03m# type: ignore[misc]\u001b[39;00m\n\u001b[1;32m   1510\u001b[0m \u001b[38;5;28;01melse\u001b[39;00m:\n\u001b[0;32m-> 1511\u001b[0m     \u001b[38;5;28;01mreturn\u001b[39;00m \u001b[38;5;28;43mself\u001b[39;49m\u001b[38;5;241;43m.\u001b[39;49m\u001b[43m_call_impl\u001b[49m\u001b[43m(\u001b[49m\u001b[38;5;241;43m*\u001b[39;49m\u001b[43margs\u001b[49m\u001b[43m,\u001b[49m\u001b[43m \u001b[49m\u001b[38;5;241;43m*\u001b[39;49m\u001b[38;5;241;43m*\u001b[39;49m\u001b[43mkwargs\u001b[49m\u001b[43m)\u001b[49m\n",
      "File \u001b[0;32m~/.local/lib/python3.11/site-packages/torch/nn/modules/module.py:1520\u001b[0m, in \u001b[0;36mModule._call_impl\u001b[0;34m(self, *args, **kwargs)\u001b[0m\n\u001b[1;32m   1515\u001b[0m \u001b[38;5;66;03m# If we don't have any hooks, we want to skip the rest of the logic in\u001b[39;00m\n\u001b[1;32m   1516\u001b[0m \u001b[38;5;66;03m# this function, and just call forward.\u001b[39;00m\n\u001b[1;32m   1517\u001b[0m \u001b[38;5;28;01mif\u001b[39;00m \u001b[38;5;129;01mnot\u001b[39;00m (\u001b[38;5;28mself\u001b[39m\u001b[38;5;241m.\u001b[39m_backward_hooks \u001b[38;5;129;01mor\u001b[39;00m \u001b[38;5;28mself\u001b[39m\u001b[38;5;241m.\u001b[39m_backward_pre_hooks \u001b[38;5;129;01mor\u001b[39;00m \u001b[38;5;28mself\u001b[39m\u001b[38;5;241m.\u001b[39m_forward_hooks \u001b[38;5;129;01mor\u001b[39;00m \u001b[38;5;28mself\u001b[39m\u001b[38;5;241m.\u001b[39m_forward_pre_hooks\n\u001b[1;32m   1518\u001b[0m         \u001b[38;5;129;01mor\u001b[39;00m _global_backward_pre_hooks \u001b[38;5;129;01mor\u001b[39;00m _global_backward_hooks\n\u001b[1;32m   1519\u001b[0m         \u001b[38;5;129;01mor\u001b[39;00m _global_forward_hooks \u001b[38;5;129;01mor\u001b[39;00m _global_forward_pre_hooks):\n\u001b[0;32m-> 1520\u001b[0m     \u001b[38;5;28;01mreturn\u001b[39;00m \u001b[43mforward_call\u001b[49m\u001b[43m(\u001b[49m\u001b[38;5;241;43m*\u001b[39;49m\u001b[43margs\u001b[49m\u001b[43m,\u001b[49m\u001b[43m \u001b[49m\u001b[38;5;241;43m*\u001b[39;49m\u001b[38;5;241;43m*\u001b[39;49m\u001b[43mkwargs\u001b[49m\u001b[43m)\u001b[49m\n\u001b[1;32m   1522\u001b[0m \u001b[38;5;28;01mtry\u001b[39;00m:\n\u001b[1;32m   1523\u001b[0m     result \u001b[38;5;241m=\u001b[39m \u001b[38;5;28;01mNone\u001b[39;00m\n",
      "File \u001b[0;32m~/TB_Sept_2023_ml/Code/IN/model.py:52\u001b[0m, in \u001b[0;36mNodeNetwork.forward\u001b[0;34m(self, X, e, Ri, Ro)\u001b[0m\n\u001b[1;32m     50\u001b[0m mo \u001b[38;5;241m=\u001b[39m torch\u001b[38;5;241m.\u001b[39mbmm(Rwo, bi)\n\u001b[1;32m     51\u001b[0m M \u001b[38;5;241m=\u001b[39m torch\u001b[38;5;241m.\u001b[39mcat([mi, mo, X], dim\u001b[38;5;241m=\u001b[39m\u001b[38;5;241m2\u001b[39m)\n\u001b[0;32m---> 52\u001b[0m \u001b[38;5;28;01mreturn\u001b[39;00m \u001b[38;5;28;43mself\u001b[39;49m\u001b[38;5;241;43m.\u001b[39;49m\u001b[43mnetwork\u001b[49m\u001b[43m(\u001b[49m\u001b[43mM\u001b[49m\u001b[43m)\u001b[49m\n",
      "File \u001b[0;32m~/.local/lib/python3.11/site-packages/torch/nn/modules/module.py:1511\u001b[0m, in \u001b[0;36mModule._wrapped_call_impl\u001b[0;34m(self, *args, **kwargs)\u001b[0m\n\u001b[1;32m   1509\u001b[0m     \u001b[38;5;28;01mreturn\u001b[39;00m \u001b[38;5;28mself\u001b[39m\u001b[38;5;241m.\u001b[39m_compiled_call_impl(\u001b[38;5;241m*\u001b[39margs, \u001b[38;5;241m*\u001b[39m\u001b[38;5;241m*\u001b[39mkwargs)  \u001b[38;5;66;03m# type: ignore[misc]\u001b[39;00m\n\u001b[1;32m   1510\u001b[0m \u001b[38;5;28;01melse\u001b[39;00m:\n\u001b[0;32m-> 1511\u001b[0m     \u001b[38;5;28;01mreturn\u001b[39;00m \u001b[38;5;28;43mself\u001b[39;49m\u001b[38;5;241;43m.\u001b[39;49m\u001b[43m_call_impl\u001b[49m\u001b[43m(\u001b[49m\u001b[38;5;241;43m*\u001b[39;49m\u001b[43margs\u001b[49m\u001b[43m,\u001b[49m\u001b[43m \u001b[49m\u001b[38;5;241;43m*\u001b[39;49m\u001b[38;5;241;43m*\u001b[39;49m\u001b[43mkwargs\u001b[49m\u001b[43m)\u001b[49m\n",
      "File \u001b[0;32m~/.local/lib/python3.11/site-packages/torch/nn/modules/module.py:1520\u001b[0m, in \u001b[0;36mModule._call_impl\u001b[0;34m(self, *args, **kwargs)\u001b[0m\n\u001b[1;32m   1515\u001b[0m \u001b[38;5;66;03m# If we don't have any hooks, we want to skip the rest of the logic in\u001b[39;00m\n\u001b[1;32m   1516\u001b[0m \u001b[38;5;66;03m# this function, and just call forward.\u001b[39;00m\n\u001b[1;32m   1517\u001b[0m \u001b[38;5;28;01mif\u001b[39;00m \u001b[38;5;129;01mnot\u001b[39;00m (\u001b[38;5;28mself\u001b[39m\u001b[38;5;241m.\u001b[39m_backward_hooks \u001b[38;5;129;01mor\u001b[39;00m \u001b[38;5;28mself\u001b[39m\u001b[38;5;241m.\u001b[39m_backward_pre_hooks \u001b[38;5;129;01mor\u001b[39;00m \u001b[38;5;28mself\u001b[39m\u001b[38;5;241m.\u001b[39m_forward_hooks \u001b[38;5;129;01mor\u001b[39;00m \u001b[38;5;28mself\u001b[39m\u001b[38;5;241m.\u001b[39m_forward_pre_hooks\n\u001b[1;32m   1518\u001b[0m         \u001b[38;5;129;01mor\u001b[39;00m _global_backward_pre_hooks \u001b[38;5;129;01mor\u001b[39;00m _global_backward_hooks\n\u001b[1;32m   1519\u001b[0m         \u001b[38;5;129;01mor\u001b[39;00m _global_forward_hooks \u001b[38;5;129;01mor\u001b[39;00m _global_forward_pre_hooks):\n\u001b[0;32m-> 1520\u001b[0m     \u001b[38;5;28;01mreturn\u001b[39;00m \u001b[43mforward_call\u001b[49m\u001b[43m(\u001b[49m\u001b[38;5;241;43m*\u001b[39;49m\u001b[43margs\u001b[49m\u001b[43m,\u001b[49m\u001b[43m \u001b[49m\u001b[38;5;241;43m*\u001b[39;49m\u001b[38;5;241;43m*\u001b[39;49m\u001b[43mkwargs\u001b[49m\u001b[43m)\u001b[49m\n\u001b[1;32m   1522\u001b[0m \u001b[38;5;28;01mtry\u001b[39;00m:\n\u001b[1;32m   1523\u001b[0m     result \u001b[38;5;241m=\u001b[39m \u001b[38;5;28;01mNone\u001b[39;00m\n",
      "File \u001b[0;32m~/.local/lib/python3.11/site-packages/torch/nn/modules/container.py:217\u001b[0m, in \u001b[0;36mSequential.forward\u001b[0;34m(self, input)\u001b[0m\n\u001b[1;32m    215\u001b[0m \u001b[38;5;28;01mdef\u001b[39;00m \u001b[38;5;21mforward\u001b[39m(\u001b[38;5;28mself\u001b[39m, \u001b[38;5;28minput\u001b[39m):\n\u001b[1;32m    216\u001b[0m     \u001b[38;5;28;01mfor\u001b[39;00m module \u001b[38;5;129;01min\u001b[39;00m \u001b[38;5;28mself\u001b[39m:\n\u001b[0;32m--> 217\u001b[0m         \u001b[38;5;28minput\u001b[39m \u001b[38;5;241m=\u001b[39m \u001b[43mmodule\u001b[49m\u001b[43m(\u001b[49m\u001b[38;5;28;43minput\u001b[39;49m\u001b[43m)\u001b[49m\n\u001b[1;32m    218\u001b[0m     \u001b[38;5;28;01mreturn\u001b[39;00m \u001b[38;5;28minput\u001b[39m\n",
      "File \u001b[0;32m~/.local/lib/python3.11/site-packages/torch/nn/modules/module.py:1511\u001b[0m, in \u001b[0;36mModule._wrapped_call_impl\u001b[0;34m(self, *args, **kwargs)\u001b[0m\n\u001b[1;32m   1509\u001b[0m     \u001b[38;5;28;01mreturn\u001b[39;00m \u001b[38;5;28mself\u001b[39m\u001b[38;5;241m.\u001b[39m_compiled_call_impl(\u001b[38;5;241m*\u001b[39margs, \u001b[38;5;241m*\u001b[39m\u001b[38;5;241m*\u001b[39mkwargs)  \u001b[38;5;66;03m# type: ignore[misc]\u001b[39;00m\n\u001b[1;32m   1510\u001b[0m \u001b[38;5;28;01melse\u001b[39;00m:\n\u001b[0;32m-> 1511\u001b[0m     \u001b[38;5;28;01mreturn\u001b[39;00m \u001b[38;5;28;43mself\u001b[39;49m\u001b[38;5;241;43m.\u001b[39;49m\u001b[43m_call_impl\u001b[49m\u001b[43m(\u001b[49m\u001b[38;5;241;43m*\u001b[39;49m\u001b[43margs\u001b[49m\u001b[43m,\u001b[49m\u001b[43m \u001b[49m\u001b[38;5;241;43m*\u001b[39;49m\u001b[38;5;241;43m*\u001b[39;49m\u001b[43mkwargs\u001b[49m\u001b[43m)\u001b[49m\n",
      "File \u001b[0;32m~/.local/lib/python3.11/site-packages/torch/nn/modules/module.py:1520\u001b[0m, in \u001b[0;36mModule._call_impl\u001b[0;34m(self, *args, **kwargs)\u001b[0m\n\u001b[1;32m   1515\u001b[0m \u001b[38;5;66;03m# If we don't have any hooks, we want to skip the rest of the logic in\u001b[39;00m\n\u001b[1;32m   1516\u001b[0m \u001b[38;5;66;03m# this function, and just call forward.\u001b[39;00m\n\u001b[1;32m   1517\u001b[0m \u001b[38;5;28;01mif\u001b[39;00m \u001b[38;5;129;01mnot\u001b[39;00m (\u001b[38;5;28mself\u001b[39m\u001b[38;5;241m.\u001b[39m_backward_hooks \u001b[38;5;129;01mor\u001b[39;00m \u001b[38;5;28mself\u001b[39m\u001b[38;5;241m.\u001b[39m_backward_pre_hooks \u001b[38;5;129;01mor\u001b[39;00m \u001b[38;5;28mself\u001b[39m\u001b[38;5;241m.\u001b[39m_forward_hooks \u001b[38;5;129;01mor\u001b[39;00m \u001b[38;5;28mself\u001b[39m\u001b[38;5;241m.\u001b[39m_forward_pre_hooks\n\u001b[1;32m   1518\u001b[0m         \u001b[38;5;129;01mor\u001b[39;00m _global_backward_pre_hooks \u001b[38;5;129;01mor\u001b[39;00m _global_backward_hooks\n\u001b[1;32m   1519\u001b[0m         \u001b[38;5;129;01mor\u001b[39;00m _global_forward_hooks \u001b[38;5;129;01mor\u001b[39;00m _global_forward_pre_hooks):\n\u001b[0;32m-> 1520\u001b[0m     \u001b[38;5;28;01mreturn\u001b[39;00m \u001b[43mforward_call\u001b[49m\u001b[43m(\u001b[49m\u001b[38;5;241;43m*\u001b[39;49m\u001b[43margs\u001b[49m\u001b[43m,\u001b[49m\u001b[43m \u001b[49m\u001b[38;5;241;43m*\u001b[39;49m\u001b[38;5;241;43m*\u001b[39;49m\u001b[43mkwargs\u001b[49m\u001b[43m)\u001b[49m\n\u001b[1;32m   1522\u001b[0m \u001b[38;5;28;01mtry\u001b[39;00m:\n\u001b[1;32m   1523\u001b[0m     result \u001b[38;5;241m=\u001b[39m \u001b[38;5;28;01mNone\u001b[39;00m\n",
      "File \u001b[0;32m~/.local/lib/python3.11/site-packages/torch/nn/modules/linear.py:116\u001b[0m, in \u001b[0;36mLinear.forward\u001b[0;34m(self, input)\u001b[0m\n\u001b[1;32m    115\u001b[0m \u001b[38;5;28;01mdef\u001b[39;00m \u001b[38;5;21mforward\u001b[39m(\u001b[38;5;28mself\u001b[39m, \u001b[38;5;28minput\u001b[39m: Tensor) \u001b[38;5;241m-\u001b[39m\u001b[38;5;241m>\u001b[39m Tensor:\n\u001b[0;32m--> 116\u001b[0m     \u001b[38;5;28;01mreturn\u001b[39;00m \u001b[43mF\u001b[49m\u001b[38;5;241;43m.\u001b[39;49m\u001b[43mlinear\u001b[49m\u001b[43m(\u001b[49m\u001b[38;5;28;43minput\u001b[39;49m\u001b[43m,\u001b[49m\u001b[43m \u001b[49m\u001b[38;5;28;43mself\u001b[39;49m\u001b[38;5;241;43m.\u001b[39;49m\u001b[43mweight\u001b[49m\u001b[43m,\u001b[49m\u001b[43m \u001b[49m\u001b[38;5;28;43mself\u001b[39;49m\u001b[38;5;241;43m.\u001b[39;49m\u001b[43mbias\u001b[49m\u001b[43m)\u001b[49m\n",
      "\u001b[0;31mOutOfMemoryError\u001b[0m: CUDA out of memory. Tried to allocate 2.00 MiB. GPU 0 has a total capacity of 39.38 GiB of which 2.25 MiB is free. Process 30267 has 664.00 MiB memory in use. Process 49283 has 19.27 GiB memory in use. Including non-PyTorch memory, this process has 19.44 GiB memory in use. Of the allocated memory 18.88 GiB is allocated by PyTorch, and 64.44 MiB is reserved by PyTorch but unallocated. If reserved but unallocated memory is large try setting PYTORCH_CUDA_ALLOC_CONF=expandable_segments:True to avoid fragmentation.  See documentation for Memory Management  (https://pytorch.org/docs/stable/notes/cuda.html#environment-variables)"
     ]
    }
   ],
   "source": [
    "test_batcher = batch_generator(test_graphs, n_samples=n_test, batch_size=1, train=False)\n",
    "test_outputs = estim.predict(test_batcher,'best_model_IN.pkl', n_test_batches, concat=False)\n",
    "test_preds = [torch_to_np(o) for o in test_outputs]\n",
    "\n",
    "# Flatten the predictions and labels\n",
    "flat_y = np.concatenate([g.y.flatten() for g in test_graphs])\n",
    "flat_pred = np.concatenate([p.flatten() for p in test_preds])\n",
    "thresh = 0.8\n",
    "print('Test set results with threshold of', thresh)\n",
    "print('Accuracy:  %.4f' % sklearn.metrics.accuracy_score(flat_y, flat_pred>thresh))\n",
    "print('Precision: %.4f' % sklearn.metrics.precision_score(flat_y, flat_pred>thresh))\n",
    "print('Recall:    %.4f' % sklearn.metrics.recall_score(flat_y, flat_pred>thresh))"
   ]
  },
  {
   "cell_type": "code",
   "execution_count": null,
   "id": "b18e67bc-dcbf-4ed6-b226-4cf0cbc36a8f",
   "metadata": {
    "papermill": {
     "duration": null,
     "end_time": null,
     "exception": null,
     "start_time": null,
     "status": "pending"
    },
    "tags": []
   },
   "outputs": [],
   "source": [
    "fpr, tpr, _ = sklearn.metrics.roc_curve(flat_y, flat_pred)\n",
    "plt.figure(figsize=(9,4))\n",
    "\n",
    "# Plot the model outputs\n",
    "plt.subplot(121)\n",
    "binning=dict(bins=50, range=(0,1), histtype='bar')\n",
    "plt.hist(flat_pred[flat_y<0.5], label='fake', **binning)\n",
    "plt.hist(flat_pred[flat_y>0.5], label='true', **binning)\n",
    "plt.xlabel('Model output')\n",
    "plt.legend(loc=0)\n",
    "\n",
    "# Plot the ROC curve\n",
    "plt.subplot(122)\n",
    "plt.plot(fpr, tpr)\n",
    "plt.plot([0, 1], [0, 1], '--')\n",
    "plt.xlabel('False positive rate')\n",
    "plt.ylabel('True positive rate')\n",
    "plt.title('ROC curve')\n",
    "\n",
    "plt.tight_layout()"
   ]
  },
  {
   "cell_type": "code",
   "execution_count": null,
   "id": "ef8e26ee-646d-44bc-8fc6-30a2e5ee0ce3",
   "metadata": {
    "papermill": {
     "duration": null,
     "end_time": null,
     "exception": null,
     "start_time": null,
     "status": "pending"
    },
    "tags": []
   },
   "outputs": [],
   "source": [
    "def draw_sample(X, Ri, Ro, y, cmap='bwr_r', alpha_labels=False):\n",
    "    # Select the i/o node features for each segment\n",
    "    feats_o = X[np.where(Ri.T)[1]]\n",
    "    feats_i = X[np.where(Ro.T)[1]]\n",
    "    # Prepare the figure\n",
    "    fig, ax0 = plt.subplots(figsize=(9,4))\n",
    "    cmap = plt.get_cmap(cmap)\n",
    "\n",
    "    ax0.scatter(X[:,2], X[:,1], c='k')\n",
    "    \n",
    "    # Draw the segments\n",
    "    for j in range(y.shape[0]):\n",
    "        if alpha_labels:\n",
    "            seg_args = dict(c='b', alpha=float(y[j]))\n",
    "        else:\n",
    "            seg_args = dict(c=cmap(float(y[j])))\n",
    "        ax0.plot([feats_o[j,2], feats_i[j,2]],\n",
    "                 [feats_o[j,1], feats_i[j,1]], '-', **seg_args)\n",
    "    \n",
    "    # Add colorbar\n",
    "    sm = plt.cm.ScalarMappable(cmap=cmap)\n",
    "    sm.set_array(y)\n",
    "    cbar = plt.colorbar(sm, ax=ax0)\n",
    "    cbar.set_label('Colorbar Label')  # Set the label for the colorbar\n",
    "    \n",
    "    # Adjust axes\n",
    "    ax0.set_xlabel('zx_hit [mm]')\n",
    "    ax0.set_ylabel('x_hit ')\n",
    "    ax0.set_xlim(-100,2000)\n",
    "    ax0.set_ylim(-20,20)\n",
    "    plt.tight_layout()\n",
    "    plt.show()"
   ]
  },
  {
   "cell_type": "code",
   "execution_count": null,
   "id": "a7d65905-3605-4b24-b79d-04a8525aebae",
   "metadata": {
    "papermill": {
     "duration": null,
     "end_time": null,
     "exception": null,
     "start_time": null,
     "status": "pending"
    },
    "tags": []
   },
   "outputs": [],
   "source": [
    "for i in range(4):\n",
    "    g = (test_graphs[i])\n",
    "    pred = test_preds[i].squeeze(0)\n",
    "    print(pred)\n",
    "    print('accuracy %.3f, precision %.3f, recall %.3f' % (\n",
    "        sklearn.metrics.accuracy_score(g.y, pred>thresh),\n",
    "        sklearn.metrics.precision_score(g.y, pred>thresh),\n",
    "        sklearn.metrics.recall_score(g.y, pred>thresh)))\n",
    "    draw_sample(g.X, g.Ri, g.Ro, pred, alpha_labels=False);"
   ]
  },
  {
   "cell_type": "code",
   "execution_count": null,
   "id": "69a8906f-ef04-406f-9278-5df148958982",
   "metadata": {
    "papermill": {
     "duration": null,
     "end_time": null,
     "exception": null,
     "start_time": null,
     "status": "pending"
    },
    "tags": []
   },
   "outputs": [],
   "source": []
  },
  {
   "cell_type": "code",
   "execution_count": null,
   "id": "61ccc4e7-e0d5-4677-86a7-bd7479e9e09b",
   "metadata": {
    "papermill": {
     "duration": null,
     "end_time": null,
     "exception": null,
     "start_time": null,
     "status": "pending"
    },
    "tags": []
   },
   "outputs": [],
   "source": []
  }
 ],
 "metadata": {
  "kernelspec": {
   "display_name": "Python 3 (ipykernel)",
   "language": "python",
   "name": "python3"
  },
  "language_info": {
   "codemirror_mode": {
    "name": "ipython",
    "version": 3
   },
   "file_extension": ".py",
   "mimetype": "text/x-python",
   "name": "python",
   "nbconvert_exporter": "python",
   "pygments_lexer": "ipython3",
   "version": "3.11.5"
  },
  "papermill": {
   "default_parameters": {},
   "duration": 22448.204188,
   "end_time": "2024-04-10T19:08:18.218859",
   "environment_variables": {},
   "exception": true,
   "input_path": "Model.ipynb",
   "output_path": "out_test3.ipynb",
   "parameters": {},
   "start_time": "2024-04-10T12:54:10.014671",
   "version": "2.5.0"
  }
 },
 "nbformat": 4,
 "nbformat_minor": 5
}